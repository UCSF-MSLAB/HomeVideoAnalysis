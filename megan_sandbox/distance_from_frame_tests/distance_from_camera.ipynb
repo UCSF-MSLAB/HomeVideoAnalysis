{
 "cells": [
  {
   "cell_type": "code",
   "execution_count": null,
   "id": "0f7dbc7a-863a-4efb-86ba-61a46dcd21bc",
   "metadata": {},
   "outputs": [],
   "source": [
    "# input \n",
    "# video \n",
    "\n",
    "# run mediapipe on videos from 9/12: on mat with zeno running \n"
   ]
  }
 ],
 "metadata": {
  "kernelspec": {
   "display_name": "venv_home_video_analysis_2",
   "language": "python",
   "name": "venv_home_video_analysis_2"
  },
  "language_info": {
   "codemirror_mode": {
    "name": "ipython",
    "version": 3
   },
   "file_extension": ".py",
   "mimetype": "text/x-python",
   "name": "python",
   "nbconvert_exporter": "python",
   "pygments_lexer": "ipython3",
   "version": "3.10.11"
  }
 },
 "nbformat": 4,
 "nbformat_minor": 5
}
