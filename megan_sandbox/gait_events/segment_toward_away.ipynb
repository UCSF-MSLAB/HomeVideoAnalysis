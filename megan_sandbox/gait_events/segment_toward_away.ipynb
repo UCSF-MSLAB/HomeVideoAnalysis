{
 "cells": [
  {
   "cell_type": "code",
   "execution_count": null,
   "id": "ee1f5547-2a58-433a-beee-962a08691d17",
   "metadata": {},
   "outputs": [],
   "source": [
    "# follows gait_events_vertical script, use same df and structure "
   ]
  },
  {
   "cell_type": "markdown",
   "id": "15484234-6405-4604-bdd6-51d267b758f5",
   "metadata": {},
   "source": [
    "# To - do\n",
    "- Segment by towards and away from camera and ID turns (compare to excel)\n",
    "- Calculate each metric for each pass to and away from camera and during turns\n",
    "- use combo of mediapipe z metric to ID turn (hip closer or further from hip center) and yolo pixels (smaller trunk area)\n",
    "    - !!! see plot_yolo code!!\n",
    "    - add to DF = column of toward_away_turn\n",
    "    - save frames where these change: start of turn 1, etc \n",
    " \n",
    "- Review video "
   ]
  },
  {
   "cell_type": "code",
   "execution_count": null,
   "id": "13e15852-78b3-47fe-a83d-661f22b70af2",
   "metadata": {},
   "outputs": [],
   "source": [
    "# set up filter \n",
    "# filter \n",
    "# Sample rate and desired cutoff frequency (in Hz)\n",
    "cutoff = 0.4  # Desired cutoff frequency of the filter in Hz\n",
    "\n",
    "# Normalized cutoff frequency (cutoff frequency divided by the Nyquist frequency)\n",
    "nyquist = 0.5 * hz\n",
    "normal_cutoff = cutoff / nyquist\n",
    "\n",
    "# Design a Butterworth low-pass filter\n",
    "order = 4  # Order of the filter (higher means sharper cutoff)\n",
    "b, a = butter(order, normal_cutoff, btype='low', analog=False)"
   ]
  },
  {
   "cell_type": "code",
   "execution_count": null,
   "id": "ed549a20-cebb-4c7d-9ffa-72468ad19b5e",
   "metadata": {},
   "outputs": [],
   "source": [
    "# pose stick figure torso area \n",
    "\n",
    "# r side torso height  \n",
    "hip_r_df = df_mp.loc[(df_mp['label'] == 'right_hip')]\n",
    "hip_r_df.index = hip_r_df['frame']\n",
    "\n",
    "shoulder_r_df = df_mp.loc[(df_mp['label'] == 'right_shoulder')]\n",
    "shoulder_r_df.index = shoulder_r_df['frame']\n",
    "\n",
    "r_sh_to_hip_y = (shoulder_r_df['Y'] - hip_r_df['Y']) # fix negative Y \n",
    "\n",
    "\n",
    "# mean of r and l side of torso \n",
    "torso_height = r_sh_to_hip_y \n",
    "filtered_torso_height = filtfilt(b, a, torso_height)\n",
    "\n",
    "plt.plot(hip_r_df['approx_time_sec'], torso_height, label = \"original\")\n",
    "plt.plot(hip_r_df['approx_time_sec'], filtered_torso_height, label = \"Filtered\")\n",
    "plt.xlabel(\"Approximate Time (seconds)\")\n",
    "plt.ylabel(\"Torso Height (?? mp)\")\n",
    "plt.legend()\n",
    "plt.title(os.path.basename(input_csv))\n",
    "plt.show()"
   ]
  }
 ],
 "metadata": {
  "kernelspec": {
   "display_name": "Python 3 (ipykernel)",
   "language": "python",
   "name": "python3"
  },
  "language_info": {
   "codemirror_mode": {
    "name": "ipython",
    "version": 3
   },
   "file_extension": ".py",
   "mimetype": "text/x-python",
   "name": "python",
   "nbconvert_exporter": "python",
   "pygments_lexer": "ipython3",
   "version": "3.10.11"
  }
 },
 "nbformat": 4,
 "nbformat_minor": 5
}
