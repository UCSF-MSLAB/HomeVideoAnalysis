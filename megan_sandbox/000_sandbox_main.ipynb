{
 "cells": [
  {
   "cell_type": "markdown",
   "id": "9f615d5a-62da-48c9-bf24-dff91d01fe09",
   "metadata": {},
   "source": [
    "Outline \n",
    "\n",
    "** for now: save and reload inputs and outputs at each step -> in addition try to run as if in full pipeline, don't need to save in between steps \n",
    "** each bullet = function\n",
    "\n",
    "- 000 - process folders and file name (tbd)\n",
    "    - need to be able to load all mp, mp_world, and yolo for one video for next steps\n",
    "- 001 ~~merge mediapipes and save world object~~\n",
    "    - ~~negative Y~~\n",
    "    - save plot of stick figure?\n",
    "- 002 ~~convert frames to time and add time column~~\n",
    "- save visbility plots: which landmarks visible, where do they drop off?\n",
    "    - save on per person, make all video together separate function\n",
    "- Interpolate missing data \n",
    "- Filter (maybe?)\n",
    "- ID turns, walking toward away from camera\n",
    "    - update code: check if Y needs to be negative now?added neg column at merge step\n",
    "    - save frames marking start and end, add column with what is happening at this frame (turn_r, turn_l\n",
    "- calculate gait metrics\n",
    "    - update code: check if Y needs to be negative now? added neg column at merge step \n",
    "    - whole walk\n",
    "    - each sub-section of walk: walk away, walk toward, etc\n",
    "    - stats: save mean, median, std, %CV, etc\n",
    "    - use excel and gait ID vertical as outline \n",
    "- video quality metrics: video length, Hz, etc \n",
    "       "
   ]
  }
 ],
 "metadata": {
  "kernelspec": {
   "display_name": "Python 3 (ipykernel)",
   "language": "python",
   "name": "python3"
  },
  "language_info": {
   "codemirror_mode": {
    "name": "ipython",
    "version": 3
   },
   "file_extension": ".py",
   "mimetype": "text/x-python",
   "name": "python",
   "nbconvert_exporter": "python",
   "pygments_lexer": "ipython3",
   "version": "3.10.11"
  }
 },
 "nbformat": 4,
 "nbformat_minor": 5
}
