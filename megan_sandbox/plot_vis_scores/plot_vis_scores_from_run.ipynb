{
 "cells": [
  {
   "cell_type": "code",
   "execution_count": 1,
   "id": "10d1c43f-818d-4a74-abb8-84acc633b045",
   "metadata": {},
   "outputs": [],
   "source": [
    "# this script will plot the visibility scores of each landmark from the run.py output in the home video analysis pipeline \n",
    "# goal: determine if horizontal vs vertical videos can be used, which pose landmarks to focus on for metrics, etc? \n",
    "\n",
    "# reference for plots using seaborn - https://python-graph-gallery.com/36-add-jitter-over-boxplot-seaborn/ \n",
    "    # start with this - violin if messy \n"
   ]
  },
  {
   "cell_type": "code",
   "execution_count": 2,
   "id": "4b6b72c9-99e2-45ab-b4ab-ea9d0fd751e9",
   "metadata": {},
   "outputs": [],
   "source": [
    "# import packages \n",
    "import matplotlib.pyplot as plt \n",
    "import pandas as pd \n",
    "import seaborn as sns\n",
    "import os"
   ]
  },
  {
   "cell_type": "code",
   "execution_count": 3,
   "id": "3fde8b2a-5171-40a1-b19c-c4cf9575d3ab",
   "metadata": {},
   "outputs": [],
   "source": [
    "## functions --------------------------------------------------------"
   ]
  },
  {
   "cell_type": "code",
   "execution_count": 4,
   "id": "d16f3cd5-6cd7-4e67-9e2f-b0f0fcdff85b",
   "metadata": {},
   "outputs": [],
   "source": [
    "# save mean, median, and standard deviation for each marker\n",
    "def mean_med_std_vis(df):\n",
    "\n",
    "    # horizontal \n",
    "    h_df = df.loc[df['task'] == 'horizontal']\n",
    "    \n",
    "    h_mean_vis = h_df['vis'].mean()\n",
    "    h_median_vis = h_df['vis'].median()\n",
    "    h_std_vis = h_df['vis'].std()\n",
    "    \n",
    "    # vertical \n",
    "    v_df = df.loc[df['task'] == 'vertical']\n",
    "    \n",
    "    v_mean_vis = v_df['vis'].mean()\n",
    "    v_median_vis = v_df['vis'].median()\n",
    "    v_std_vis = v_df['vis'].std()\n",
    "    \n",
    "    return[h_mean_vis, h_median_vis, h_std_vis, v_mean_vis, v_median_vis, v_std_vis]\n"
   ]
  },
  {
   "cell_type": "code",
   "execution_count": 5,
   "id": "1e1915ff-822e-4f76-b0c4-aff508d71aab",
   "metadata": {},
   "outputs": [],
   "source": [
    "# all trials on single boxplot, separated by horizontal vs vertical tasks \n",
    "\n",
    "def single_label_bxplt_all(df, label): \n",
    "    # all values -  boxplot \n",
    "    ax = sns.boxplot(x='task', y='vis', data=df)\n",
    "    plt.title(label)\n",
    "\n",
    "    #save fig \n",
    "    output_file_name = 'all_' + label + '_boxplot.png'\n",
    "    out_path = os.path.normpath(os.path.join(dir_out_path, 'all', output_file_name))\n",
    "    print('saving: ' + out_path)\n",
    "    plt.savefig(out_path)\n",
    "    plt.close() \n"
   ]
  },
  {
   "cell_type": "code",
   "execution_count": 6,
   "id": "3f651f72-90b2-4701-9393-d54264fd23c7",
   "metadata": {},
   "outputs": [],
   "source": [
    "# all trials on single histogram, separated by horizontal vs vertical tasks \n",
    "\n",
    "def single_label_hist_all(df, label): \n",
    "    fig, axs = plt.subplots(nrows=2)\n",
    "    \n",
    "    axs[0].hist(df['vis'].loc[df['task'] == 'horizontal'])\n",
    "    axs[0].set_title(label + ' horizontal') \n",
    "    \n",
    "    axs[1].hist(df['vis'].loc[df['task'] == 'vertical'])\n",
    "    axs[1].set_title(label + 'vertical') \n",
    "    \n",
    "    #save fig \n",
    "    output_file_name = 'all_' + label + '_histogram.png'\n",
    "    out_path = os.path.normpath(os.path.join(dir_out_path, 'all', output_file_name))\n",
    "    print('saving: ' + out_path)\n",
    "    plt.savefig(out_path)\n",
    "    plt.close() "
   ]
  },
  {
   "cell_type": "code",
   "execution_count": 7,
   "id": "5c9dc537-440e-4387-901c-1f2ea95d4ca2",
   "metadata": {},
   "outputs": [],
   "source": [
    "# all trials on single lineplot, separated by horizontal vs vertical tasks \n",
    "\n",
    "def single_label_line_all(df, label): \n",
    "    \n",
    "    # Create the line plot\n",
    "        # x = frame, y = visibility score \n",
    "        # colored by task: vertical or horizontl \n",
    "        # each video = 1 line \n",
    "    plt.figure(figsize=(10, 6))\n",
    "    sns.lineplot(data=df, x='frame', y='vis', hue='task', units='filename', markers=True, dashes=False, estimator = None)\n",
    "\n",
    "    # Add labels and title\n",
    "    plt.xlabel('Frame')\n",
    "    plt.ylabel('Visibility (vis)')\n",
    "    plt.title(label + ': Visibility per video')\n",
    "\n",
    "    # Show the plot\n",
    "    plt.legend(title='Task')\n",
    "    \n",
    "    #save fig \n",
    "    output_file_name = 'all_' + label + '_line.png'\n",
    "    out_path = os.path.normpath(os.path.join(dir_out_path, 'all', output_file_name))\n",
    "    print('saving: ' + out_path)\n",
    "    plt.savefig(out_path)\n",
    "    plt.close() "
   ]
  },
  {
   "cell_type": "code",
   "execution_count": 8,
   "id": "8a872d52-cc8e-4d37-8759-0f69d1f84a9a",
   "metadata": {},
   "outputs": [],
   "source": [
    "# boxplot of visibility of all mediapipe landmarks \n",
    "# df = output of run.py mediapipe pose files \n",
    "# filename = file name without extension \n",
    "\n",
    "def all_labels_box(df, filename): \n",
    "    plt.clf()\n",
    "    ax = sns.boxplot(data=df, x = 'label', y = 'vis')\n",
    "    plt.xticks(rotation=90)\n",
    "    plt.title('All Labels Visibility: ' + filename)\n",
    "\n",
    "    #save figure \n",
    "    # name of file \n",
    "    output_file_name = filename + '_alllabels' + '_box.png'\n",
    "    #path to folder to save \n",
    "    out_path = os.path.normpath(os.path.join(dir_out_path, name))\n",
    "    \n",
    "    # make folder at this path if it doesn't exist already \n",
    "    if not os.path.exists(out_path):\n",
    "        os.makedirs(out_path)\n",
    "        print('making directory: ' + out_path)\n",
    "        \n",
    "    # join file name and path \n",
    "    out_path_file = os.path.normpath(os.path.join(out_path, output_file_name)) \n",
    "\n",
    "    # save \n",
    "    print('saving: ' + out_path_file)\n",
    "    plt.savefig(out_path_file, bbox_inches = 'tight')\n",
    "    plt.clf()\n",
    "    plt.close "
   ]
  },
  {
   "cell_type": "code",
   "execution_count": 9,
   "id": "3f8b76a2-3fc8-4cc7-bc26-f1f01f0d3d7e",
   "metadata": {},
   "outputs": [],
   "source": [
    "# boxplot of visibility of all mediapipe landmarks  \n",
    "# df = output of run.py mediapipe pose files \n",
    "# filename = file name without extension \n",
    "\n",
    "def all_labels_line(df, filename): \n",
    "\n",
    "    # change label to string for future filtering \n",
    "    df['label'] = df['label'].astype(str)\n",
    "\n",
    "    # set labels to plot and filter data frame by label column\n",
    "    labels_to_plot = ['left_foot_index', 'right_foot_index',\n",
    "                      'left_heel', 'right_heel',\n",
    "                      'left_ankle', 'right_ankle',\n",
    "                      'left_knee', 'right_knee', \n",
    "                      'left_hip', 'right_hip']\n",
    "\n",
    "    df = df[df['label'].str.contains('|'.join(labels_to_plot), case=False)]\n",
    "\n",
    "    # plot \n",
    "    plt.clf()\n",
    "    plt.figure(figsize=(10, 6))\n",
    "    sns.lineplot(data=df, x='frame', y='vis', hue='label', markers=True, dashes=False, estimator = None)\n",
    "    plt.legend(loc = 'right')\n",
    "    plt.title('All Labels Visibility: ' + filename)\n",
    "\n",
    "    #save figure \n",
    "    # name of file \n",
    "    output_file_name = filename + '_alllabels' + '_line.png'\n",
    "    #path to folder to save \n",
    "    out_path = os.path.normpath(os.path.join(dir_out_path, name))\n",
    "    \n",
    "    # make folder at this path if it doesn't exist already \n",
    "    if not os.path.exists(out_path):\n",
    "        os.makedirs(out_path)\n",
    "        print('making directory: ' + out_path)\n",
    "        \n",
    "    # join file name and path \n",
    "    out_path_file = os.path.normpath(os.path.join(out_path, output_file_name)) \n",
    "\n",
    "    # save \n",
    "    print('saving: ' + out_path_file)\n",
    "    plt.savefig(out_path_file, bbox_inches = 'tight')\n",
    "    plt.clf()\n",
    "    plt.close "
   ]
  },
  {
   "cell_type": "code",
   "execution_count": 10,
   "id": "bfc4a4cc-9be5-466d-8e04-d3a7f7752e8d",
   "metadata": {},
   "outputs": [
    {
     "name": "stdout",
     "output_type": "stream",
     "text": [
      "dir_path: ..\\..\\temp\\main_branch_outputs\\000_run\n",
      "file_in_path: ..\\..\\temp\\main_branch_outputs\\000_run\\DS_HC_gait_horizontal_left_mediapipe.csv\n",
      "saving: ..\\..\\temp\\main_branch_outputs\\003_plot_vis_scores\\DS_HC_gait_horizontal_left_mediapipe\\DS_HC_gait_horizontal_left_mediapipe_alllabels_box.png\n",
      "saving: ..\\..\\temp\\main_branch_outputs\\003_plot_vis_scores\\DS_HC_gait_horizontal_left_mediapipe\\DS_HC_gait_horizontal_left_mediapipe_alllabels_line.png\n"
     ]
    },
    {
     "name": "stderr",
     "output_type": "stream",
     "text": [
      "C:\\Users\\mmccu\\AppData\\Local\\Temp\\ipykernel_29780\\3542872078.py:50: FutureWarning: The behavior of DataFrame concatenation with empty or all-NA entries is deprecated. In a future version, this will no longer exclude empty or all-NA columns when determining the result dtypes. To retain the old behavior, exclude the relevant entries before the concat operation.\n",
      "  df = pd.concat([df, current_df])\n"
     ]
    },
    {
     "name": "stdout",
     "output_type": "stream",
     "text": [
      "file_in_path: ..\\..\\temp\\main_branch_outputs\\000_run\\DS_HC_gait_horizontal_right_mediapipe.csv\n",
      "saving: ..\\..\\temp\\main_branch_outputs\\003_plot_vis_scores\\DS_HC_gait_horizontal_right_mediapipe\\DS_HC_gait_horizontal_right_mediapipe_alllabels_box.png\n",
      "saving: ..\\..\\temp\\main_branch_outputs\\003_plot_vis_scores\\DS_HC_gait_horizontal_right_mediapipe\\DS_HC_gait_horizontal_right_mediapipe_alllabels_line.png\n",
      "file_in_path: ..\\..\\temp\\main_branch_outputs\\000_run\\DS_HC_gait_vertical_left_mediapipe.csv\n",
      "saving: ..\\..\\temp\\main_branch_outputs\\003_plot_vis_scores\\DS_HC_gait_vertical_left_mediapipe\\DS_HC_gait_vertical_left_mediapipe_alllabels_box.png\n",
      "saving: ..\\..\\temp\\main_branch_outputs\\003_plot_vis_scores\\DS_HC_gait_vertical_left_mediapipe\\DS_HC_gait_vertical_left_mediapipe_alllabels_line.png\n",
      "file_in_path: ..\\..\\temp\\main_branch_outputs\\000_run\\DS_HC_gait_vertical_right_mediapipe.csv\n",
      "saving: ..\\..\\temp\\main_branch_outputs\\003_plot_vis_scores\\DS_HC_gait_vertical_right_mediapipe\\DS_HC_gait_vertical_right_mediapipe_alllabels_box.png\n",
      "saving: ..\\..\\temp\\main_branch_outputs\\003_plot_vis_scores\\DS_HC_gait_vertical_right_mediapipe\\DS_HC_gait_vertical_right_mediapipe_alllabels_line.png\n",
      "file_in_path: ..\\..\\temp\\main_branch_outputs\\000_run\\MM_HC_10steps_away_0_mediapipe.csv\n",
      "saving: ..\\..\\temp\\main_branch_outputs\\003_plot_vis_scores\\MM_HC_10steps_away_0_mediapipe\\MM_HC_10steps_away_0_mediapipe_alllabels_box.png\n",
      "saving: ..\\..\\temp\\main_branch_outputs\\003_plot_vis_scores\\MM_HC_10steps_away_0_mediapipe\\MM_HC_10steps_away_0_mediapipe_alllabels_line.png\n",
      "file_in_path: ..\\..\\temp\\main_branch_outputs\\000_run\\MM_HC_10steps_away_1_mediapipe.csv\n",
      "saving: ..\\..\\temp\\main_branch_outputs\\003_plot_vis_scores\\MM_HC_10steps_away_1_mediapipe\\MM_HC_10steps_away_1_mediapipe_alllabels_box.png\n",
      "saving: ..\\..\\temp\\main_branch_outputs\\003_plot_vis_scores\\MM_HC_10steps_away_1_mediapipe\\MM_HC_10steps_away_1_mediapipe_alllabels_line.png\n",
      "file_in_path: ..\\..\\temp\\main_branch_outputs\\000_run\\MM_HC_10steps_towards_0_mediapipe.csv\n",
      "saving: ..\\..\\temp\\main_branch_outputs\\003_plot_vis_scores\\MM_HC_10steps_towards_0_mediapipe\\MM_HC_10steps_towards_0_mediapipe_alllabels_box.png\n",
      "saving: ..\\..\\temp\\main_branch_outputs\\003_plot_vis_scores\\MM_HC_10steps_towards_0_mediapipe\\MM_HC_10steps_towards_0_mediapipe_alllabels_line.png\n",
      "file_in_path: ..\\..\\temp\\main_branch_outputs\\000_run\\MM_HC_10steps_towards_1_mediapipe.csv\n",
      "saving: ..\\..\\temp\\main_branch_outputs\\003_plot_vis_scores\\MM_HC_10steps_towards_1_mediapipe\\MM_HC_10steps_towards_1_mediapipe_alllabels_box.png\n",
      "saving: ..\\..\\temp\\main_branch_outputs\\003_plot_vis_scores\\MM_HC_10steps_towards_1_mediapipe\\MM_HC_10steps_towards_1_mediapipe_alllabels_line.png\n",
      "file_in_path: ..\\..\\temp\\main_branch_outputs\\000_run\\MM_HC_17ft_walk_mediapipe.csv\n",
      "saving: ..\\..\\temp\\main_branch_outputs\\003_plot_vis_scores\\MM_HC_17ft_walk_mediapipe\\MM_HC_17ft_walk_mediapipe_alllabels_box.png\n",
      "saving: ..\\..\\temp\\main_branch_outputs\\003_plot_vis_scores\\MM_HC_17ft_walk_mediapipe\\MM_HC_17ft_walk_mediapipe_alllabels_line.png\n",
      "file_in_path: ..\\..\\temp\\main_branch_outputs\\000_run\\MM_HC_vertical_0_mediapipe.csv\n",
      "saving: ..\\..\\temp\\main_branch_outputs\\003_plot_vis_scores\\MM_HC_vertical_0_mediapipe\\MM_HC_vertical_0_mediapipe_alllabels_box.png\n",
      "saving: ..\\..\\temp\\main_branch_outputs\\003_plot_vis_scores\\MM_HC_vertical_0_mediapipe\\MM_HC_vertical_0_mediapipe_alllabels_line.png\n",
      "file_in_path: ..\\..\\temp\\main_branch_outputs\\000_run\\MM_HC_vertical_1_mediapipe.csv\n",
      "saving: ..\\..\\temp\\main_branch_outputs\\003_plot_vis_scores\\MM_HC_vertical_1_mediapipe\\MM_HC_vertical_1_mediapipe_alllabels_box.png\n",
      "saving: ..\\..\\temp\\main_branch_outputs\\003_plot_vis_scores\\MM_HC_vertical_1_mediapipe\\MM_HC_vertical_1_mediapipe_alllabels_line.png\n",
      "file_in_path: ..\\..\\temp\\main_branch_outputs\\000_run\\MM_HC_vertical_2_mediapipe.csv\n",
      "saving: ..\\..\\temp\\main_branch_outputs\\003_plot_vis_scores\\MM_HC_vertical_2_mediapipe\\MM_HC_vertical_2_mediapipe_alllabels_box.png\n",
      "saving: ..\\..\\temp\\main_branch_outputs\\003_plot_vis_scores\\MM_HC_vertical_2_mediapipe\\MM_HC_vertical_2_mediapipe_alllabels_line.png\n",
      "file_in_path: ..\\..\\temp\\main_branch_outputs\\000_run\\NW_HC_gait_vertical_left_mediapipe.csv\n",
      "saving: ..\\..\\temp\\main_branch_outputs\\003_plot_vis_scores\\NW_HC_gait_vertical_left_mediapipe\\NW_HC_gait_vertical_left_mediapipe_alllabels_box.png\n",
      "saving: ..\\..\\temp\\main_branch_outputs\\003_plot_vis_scores\\NW_HC_gait_vertical_left_mediapipe\\NW_HC_gait_vertical_left_mediapipe_alllabels_line.png\n",
      "file_in_path: ..\\..\\temp\\main_branch_outputs\\000_run\\NW_HC_gait_vertical_right_mediapipe.csv\n",
      "saving: ..\\..\\temp\\main_branch_outputs\\003_plot_vis_scores\\NW_HC_gait_vertical_right_mediapipe\\NW_HC_gait_vertical_right_mediapipe_alllabels_box.png\n",
      "saving: ..\\..\\temp\\main_branch_outputs\\003_plot_vis_scores\\NW_HC_gait_vertical_right_mediapipe\\NW_HC_gait_vertical_right_mediapipe_alllabels_line.png\n",
      "file_in_path: ..\\..\\temp\\main_branch_outputs\\000_run\\RB_HC_gait_horizontal_left_head_mediapipe.csv\n",
      "saving: ..\\..\\temp\\main_branch_outputs\\003_plot_vis_scores\\RB_HC_gait_horizontal_left_head_mediapipe\\RB_HC_gait_horizontal_left_head_mediapipe_alllabels_box.png\n",
      "saving: ..\\..\\temp\\main_branch_outputs\\003_plot_vis_scores\\RB_HC_gait_horizontal_left_head_mediapipe\\RB_HC_gait_horizontal_left_head_mediapipe_alllabels_line.png\n",
      "file_in_path: ..\\..\\temp\\main_branch_outputs\\000_run\\RB_HC_gait_horizontal_left_mediapipe.csv\n",
      "saving: ..\\..\\temp\\main_branch_outputs\\003_plot_vis_scores\\RB_HC_gait_horizontal_left_mediapipe\\RB_HC_gait_horizontal_left_mediapipe_alllabels_box.png\n",
      "saving: ..\\..\\temp\\main_branch_outputs\\003_plot_vis_scores\\RB_HC_gait_horizontal_left_mediapipe\\RB_HC_gait_horizontal_left_mediapipe_alllabels_line.png\n",
      "file_in_path: ..\\..\\temp\\main_branch_outputs\\000_run\\RB_HC_gait_horizontal_right_head_mediapipe.csv\n",
      "saving: ..\\..\\temp\\main_branch_outputs\\003_plot_vis_scores\\RB_HC_gait_horizontal_right_head_mediapipe\\RB_HC_gait_horizontal_right_head_mediapipe_alllabels_box.png\n",
      "saving: ..\\..\\temp\\main_branch_outputs\\003_plot_vis_scores\\RB_HC_gait_horizontal_right_head_mediapipe\\RB_HC_gait_horizontal_right_head_mediapipe_alllabels_line.png\n",
      "file_in_path: ..\\..\\temp\\main_branch_outputs\\000_run\\RB_HC_gait_horizontal_right_mediapipe.csv\n",
      "saving: ..\\..\\temp\\main_branch_outputs\\003_plot_vis_scores\\RB_HC_gait_horizontal_right_mediapipe\\RB_HC_gait_horizontal_right_mediapipe_alllabels_box.png\n",
      "saving: ..\\..\\temp\\main_branch_outputs\\003_plot_vis_scores\\RB_HC_gait_horizontal_right_mediapipe\\RB_HC_gait_horizontal_right_mediapipe_alllabels_line.png\n",
      "file_in_path: ..\\..\\temp\\main_branch_outputs\\000_run\\RB_HC_gait_vertical_left_mediapipe.csv\n",
      "saving: ..\\..\\temp\\main_branch_outputs\\003_plot_vis_scores\\RB_HC_gait_vertical_left_mediapipe\\RB_HC_gait_vertical_left_mediapipe_alllabels_box.png\n",
      "saving: ..\\..\\temp\\main_branch_outputs\\003_plot_vis_scores\\RB_HC_gait_vertical_left_mediapipe\\RB_HC_gait_vertical_left_mediapipe_alllabels_line.png\n",
      "file_in_path: ..\\..\\temp\\main_branch_outputs\\000_run\\RB_HC_gait_vertical_right_mediapipe.csv\n",
      "saving: ..\\..\\temp\\main_branch_outputs\\003_plot_vis_scores\\RB_HC_gait_vertical_right_mediapipe\\RB_HC_gait_vertical_right_mediapipe_alllabels_box.png\n"
     ]
    },
    {
     "name": "stderr",
     "output_type": "stream",
     "text": [
      "C:\\Users\\mmccu\\AppData\\Local\\Temp\\ipykernel_29780\\2403518325.py:21: RuntimeWarning: More than 20 figures have been opened. Figures created through the pyplot interface (`matplotlib.pyplot.figure`) are retained until explicitly closed and may consume too much memory. (To control this warning, see the rcParam `figure.max_open_warning`). Consider using `matplotlib.pyplot.close()`.\n",
      "  plt.figure(figsize=(10, 6))\n"
     ]
    },
    {
     "name": "stdout",
     "output_type": "stream",
     "text": [
      "saving: ..\\..\\temp\\main_branch_outputs\\003_plot_vis_scores\\RB_HC_gait_vertical_right_mediapipe\\RB_HC_gait_vertical_right_mediapipe_alllabels_line.png\n"
     ]
    },
    {
     "data": {
      "text/plain": [
       "<Figure size 640x480 with 0 Axes>"
      ]
     },
     "metadata": {},
     "output_type": "display_data"
    },
    {
     "data": {
      "text/plain": [
       "<Figure size 1000x600 with 0 Axes>"
      ]
     },
     "metadata": {},
     "output_type": "display_data"
    },
    {
     "data": {
      "text/plain": [
       "<Figure size 1000x600 with 0 Axes>"
      ]
     },
     "metadata": {},
     "output_type": "display_data"
    },
    {
     "data": {
      "text/plain": [
       "<Figure size 1000x600 with 0 Axes>"
      ]
     },
     "metadata": {},
     "output_type": "display_data"
    },
    {
     "data": {
      "text/plain": [
       "<Figure size 1000x600 with 0 Axes>"
      ]
     },
     "metadata": {},
     "output_type": "display_data"
    },
    {
     "data": {
      "text/plain": [
       "<Figure size 1000x600 with 0 Axes>"
      ]
     },
     "metadata": {},
     "output_type": "display_data"
    },
    {
     "data": {
      "text/plain": [
       "<Figure size 1000x600 with 0 Axes>"
      ]
     },
     "metadata": {},
     "output_type": "display_data"
    },
    {
     "data": {
      "text/plain": [
       "<Figure size 1000x600 with 0 Axes>"
      ]
     },
     "metadata": {},
     "output_type": "display_data"
    },
    {
     "data": {
      "text/plain": [
       "<Figure size 1000x600 with 0 Axes>"
      ]
     },
     "metadata": {},
     "output_type": "display_data"
    },
    {
     "data": {
      "text/plain": [
       "<Figure size 1000x600 with 0 Axes>"
      ]
     },
     "metadata": {},
     "output_type": "display_data"
    },
    {
     "data": {
      "text/plain": [
       "<Figure size 1000x600 with 0 Axes>"
      ]
     },
     "metadata": {},
     "output_type": "display_data"
    },
    {
     "data": {
      "text/plain": [
       "<Figure size 1000x600 with 0 Axes>"
      ]
     },
     "metadata": {},
     "output_type": "display_data"
    },
    {
     "data": {
      "text/plain": [
       "<Figure size 1000x600 with 0 Axes>"
      ]
     },
     "metadata": {},
     "output_type": "display_data"
    },
    {
     "data": {
      "text/plain": [
       "<Figure size 1000x600 with 0 Axes>"
      ]
     },
     "metadata": {},
     "output_type": "display_data"
    },
    {
     "data": {
      "text/plain": [
       "<Figure size 1000x600 with 0 Axes>"
      ]
     },
     "metadata": {},
     "output_type": "display_data"
    },
    {
     "data": {
      "text/plain": [
       "<Figure size 1000x600 with 0 Axes>"
      ]
     },
     "metadata": {},
     "output_type": "display_data"
    },
    {
     "data": {
      "text/plain": [
       "<Figure size 1000x600 with 0 Axes>"
      ]
     },
     "metadata": {},
     "output_type": "display_data"
    },
    {
     "data": {
      "text/plain": [
       "<Figure size 1000x600 with 0 Axes>"
      ]
     },
     "metadata": {},
     "output_type": "display_data"
    },
    {
     "data": {
      "text/plain": [
       "<Figure size 1000x600 with 0 Axes>"
      ]
     },
     "metadata": {},
     "output_type": "display_data"
    },
    {
     "data": {
      "text/plain": [
       "<Figure size 1000x600 with 0 Axes>"
      ]
     },
     "metadata": {},
     "output_type": "display_data"
    },
    {
     "data": {
      "text/plain": [
       "<Figure size 1000x600 with 0 Axes>"
      ]
     },
     "metadata": {},
     "output_type": "display_data"
    }
   ],
   "source": [
    "# current folder organization - all run.py files in same folder \n",
    "    # 3 total files per trial - pose_landmrks, world_landmarks, yolo \n",
    "\n",
    "#dir in path = run.py outputs \n",
    "dir_in_path = r'..\\..\\temp\\main_branch_outputs\\000_run'\n",
    "\n",
    "# dir out path \n",
    "dir_out_path = r'..\\..\\temp\\main_branch_outputs\\003_plot_vis_scores'\n",
    "\n",
    "# create blank data frame \n",
    "df = pd.DataFrame(columns = ['X', 'Y', 'Z',\t'vis', 'pres', 'frame', 'label',  'filename'])\n",
    "\n",
    "# read all data from run.py outputs, add column with filename, append to create one data frame \n",
    "for (dir_path, dir_names, file_names) in os.walk(dir_in_path):\n",
    "    print('dir_path: ' + dir_path)\n",
    "\n",
    "    # loop through each file in dir_in_path\n",
    "    for file_name in file_names: \n",
    "        if 'world' not in file_name and 'yolo' not in file_name: \n",
    "            # save file name and save extension \n",
    "            name, ext = os.path.splitext(file_name)\n",
    "\n",
    "            # create full path to input file to read \n",
    "            file_in_path = os.path.normpath(os.path.join(dir_path, file_name))\n",
    "            print('file_in_path: ' + file_in_path)\n",
    "\n",
    "            # read current df \n",
    "            current_df = pd.read_csv(file_in_path, index_col = None)\n",
    "            current_df = current_df.drop(columns = ['Unnamed: 0'])\n",
    "            \n",
    "            # add file name to last column \n",
    "            current_df['filename'] = name\n",
    "\n",
    "            # add new column with horizontal vs vertical video based on task \n",
    "            task = current_df['filename'].apply(\n",
    "                lambda x: 'horizontal' if 'horizontal' in x else ('vertical' if 'vertical' in x else None))\n",
    "            current_df['task'] = task \n",
    "\n",
    "            # drop rows with all missing data \n",
    "            current_df = current_df.dropna(how='all')\n",
    "\n",
    "            # plots --------------------------------------------------\n",
    "            # box plot with all labels from current_df file \n",
    "            all_labels_box(current_df, name)\n",
    "\n",
    "            # line plot with all labels from current_df file \n",
    "            all_labels_line(current_df, name)\n",
    "\n",
    "            # append current_df to df. df contains data from all videos \n",
    "            df = pd.concat([df, current_df]) \n",
    "\n",
    "# drop rows with all missing data \n",
    "df = df.dropna(how='all')"
   ]
  },
  {
   "cell_type": "code",
   "execution_count": 11,
   "id": "5f1d5ea2-069a-4ec5-975e-3d05e0d523a2",
   "metadata": {},
   "outputs": [
    {
     "name": "stdout",
     "output_type": "stream",
     "text": [
      "['DS_HC_gait_horizontal_left_mediapipe'\n",
      " 'DS_HC_gait_horizontal_right_mediapipe'\n",
      " 'DS_HC_gait_vertical_left_mediapipe'\n",
      " 'DS_HC_gait_vertical_right_mediapipe'\n",
      " 'NW_HC_gait_vertical_left_mediapipe'\n",
      " 'NW_HC_gait_vertical_right_mediapipe'\n",
      " 'RB_HC_gait_horizontal_left_head_mediapipe'\n",
      " 'RB_HC_gait_horizontal_left_mediapipe'\n",
      " 'RB_HC_gait_horizontal_right_head_mediapipe'\n",
      " 'RB_HC_gait_horizontal_right_mediapipe'\n",
      " 'RB_HC_gait_vertical_left_mediapipe'\n",
      " 'RB_HC_gait_vertical_right_mediapipe']\n"
     ]
    }
   ],
   "source": [
    "# original code ---------------------------------------------------------------------\n",
    "# filter out MM files from full df - I did different task and wasn't recorded at home \n",
    "filtered_df = df[~df['filename'].str.contains('MM')]\n",
    "\n",
    "# check filtered correctly \n",
    "print(pd.unique(filtered_df['filename']))"
   ]
  },
  {
   "cell_type": "code",
   "execution_count": 16,
   "id": "4f6cf693-16dd-4ab8-b842-af6f5b6fdc00",
   "metadata": {},
   "outputs": [
    {
     "name": "stdout",
     "output_type": "stream",
     "text": [
      "label: nose\n",
      "saving: ..\\..\\temp\\main_branch_outputs\\003_plot_vis_scores\\all\\all_nose_boxplot.png\n",
      "saving: ..\\..\\temp\\main_branch_outputs\\003_plot_vis_scores\\all\\all_nose_histogram.png\n",
      "saving: ..\\..\\temp\\main_branch_outputs\\003_plot_vis_scores\\all\\all_nose_line.png\n",
      "label: left_eye_inner\n",
      "saving: ..\\..\\temp\\main_branch_outputs\\003_plot_vis_scores\\all\\all_left_eye_inner_boxplot.png\n",
      "saving: ..\\..\\temp\\main_branch_outputs\\003_plot_vis_scores\\all\\all_left_eye_inner_histogram.png\n",
      "saving: ..\\..\\temp\\main_branch_outputs\\003_plot_vis_scores\\all\\all_left_eye_inner_line.png\n",
      "label: left_eye\n",
      "saving: ..\\..\\temp\\main_branch_outputs\\003_plot_vis_scores\\all\\all_left_eye_boxplot.png\n",
      "saving: ..\\..\\temp\\main_branch_outputs\\003_plot_vis_scores\\all\\all_left_eye_histogram.png\n",
      "saving: ..\\..\\temp\\main_branch_outputs\\003_plot_vis_scores\\all\\all_left_eye_line.png\n",
      "label: left_eye_outer\n",
      "saving: ..\\..\\temp\\main_branch_outputs\\003_plot_vis_scores\\all\\all_left_eye_outer_boxplot.png\n",
      "saving: ..\\..\\temp\\main_branch_outputs\\003_plot_vis_scores\\all\\all_left_eye_outer_histogram.png\n",
      "saving: ..\\..\\temp\\main_branch_outputs\\003_plot_vis_scores\\all\\all_left_eye_outer_line.png\n",
      "label: right_eye_inner\n",
      "saving: ..\\..\\temp\\main_branch_outputs\\003_plot_vis_scores\\all\\all_right_eye_inner_boxplot.png\n",
      "saving: ..\\..\\temp\\main_branch_outputs\\003_plot_vis_scores\\all\\all_right_eye_inner_histogram.png\n",
      "saving: ..\\..\\temp\\main_branch_outputs\\003_plot_vis_scores\\all\\all_right_eye_inner_line.png\n",
      "label: right_eye\n",
      "saving: ..\\..\\temp\\main_branch_outputs\\003_plot_vis_scores\\all\\all_right_eye_boxplot.png\n",
      "saving: ..\\..\\temp\\main_branch_outputs\\003_plot_vis_scores\\all\\all_right_eye_histogram.png\n",
      "saving: ..\\..\\temp\\main_branch_outputs\\003_plot_vis_scores\\all\\all_right_eye_line.png\n",
      "label: right_eye_outer\n",
      "saving: ..\\..\\temp\\main_branch_outputs\\003_plot_vis_scores\\all\\all_right_eye_outer_boxplot.png\n",
      "saving: ..\\..\\temp\\main_branch_outputs\\003_plot_vis_scores\\all\\all_right_eye_outer_histogram.png\n",
      "saving: ..\\..\\temp\\main_branch_outputs\\003_plot_vis_scores\\all\\all_right_eye_outer_line.png\n",
      "label: left_ear\n",
      "saving: ..\\..\\temp\\main_branch_outputs\\003_plot_vis_scores\\all\\all_left_ear_boxplot.png\n",
      "saving: ..\\..\\temp\\main_branch_outputs\\003_plot_vis_scores\\all\\all_left_ear_histogram.png\n",
      "saving: ..\\..\\temp\\main_branch_outputs\\003_plot_vis_scores\\all\\all_left_ear_line.png\n",
      "label: right_ear\n",
      "saving: ..\\..\\temp\\main_branch_outputs\\003_plot_vis_scores\\all\\all_right_ear_boxplot.png\n",
      "saving: ..\\..\\temp\\main_branch_outputs\\003_plot_vis_scores\\all\\all_right_ear_histogram.png\n",
      "saving: ..\\..\\temp\\main_branch_outputs\\003_plot_vis_scores\\all\\all_right_ear_line.png\n",
      "label: mouth_left\n",
      "saving: ..\\..\\temp\\main_branch_outputs\\003_plot_vis_scores\\all\\all_mouth_left_boxplot.png\n",
      "saving: ..\\..\\temp\\main_branch_outputs\\003_plot_vis_scores\\all\\all_mouth_left_histogram.png\n",
      "saving: ..\\..\\temp\\main_branch_outputs\\003_plot_vis_scores\\all\\all_mouth_left_line.png\n",
      "label: mouth_right\n",
      "saving: ..\\..\\temp\\main_branch_outputs\\003_plot_vis_scores\\all\\all_mouth_right_boxplot.png\n",
      "saving: ..\\..\\temp\\main_branch_outputs\\003_plot_vis_scores\\all\\all_mouth_right_histogram.png\n",
      "saving: ..\\..\\temp\\main_branch_outputs\\003_plot_vis_scores\\all\\all_mouth_right_line.png\n",
      "label: left_shoulder\n",
      "saving: ..\\..\\temp\\main_branch_outputs\\003_plot_vis_scores\\all\\all_left_shoulder_boxplot.png\n",
      "saving: ..\\..\\temp\\main_branch_outputs\\003_plot_vis_scores\\all\\all_left_shoulder_histogram.png\n",
      "saving: ..\\..\\temp\\main_branch_outputs\\003_plot_vis_scores\\all\\all_left_shoulder_line.png\n",
      "label: right_shoulder\n",
      "saving: ..\\..\\temp\\main_branch_outputs\\003_plot_vis_scores\\all\\all_right_shoulder_boxplot.png\n",
      "saving: ..\\..\\temp\\main_branch_outputs\\003_plot_vis_scores\\all\\all_right_shoulder_histogram.png\n",
      "saving: ..\\..\\temp\\main_branch_outputs\\003_plot_vis_scores\\all\\all_right_shoulder_line.png\n",
      "label: left_elbow\n",
      "saving: ..\\..\\temp\\main_branch_outputs\\003_plot_vis_scores\\all\\all_left_elbow_boxplot.png\n",
      "saving: ..\\..\\temp\\main_branch_outputs\\003_plot_vis_scores\\all\\all_left_elbow_histogram.png\n",
      "saving: ..\\..\\temp\\main_branch_outputs\\003_plot_vis_scores\\all\\all_left_elbow_line.png\n",
      "label: right_elbow\n",
      "saving: ..\\..\\temp\\main_branch_outputs\\003_plot_vis_scores\\all\\all_right_elbow_boxplot.png\n",
      "saving: ..\\..\\temp\\main_branch_outputs\\003_plot_vis_scores\\all\\all_right_elbow_histogram.png\n",
      "saving: ..\\..\\temp\\main_branch_outputs\\003_plot_vis_scores\\all\\all_right_elbow_line.png\n",
      "label: left_wrist\n",
      "saving: ..\\..\\temp\\main_branch_outputs\\003_plot_vis_scores\\all\\all_left_wrist_boxplot.png\n",
      "saving: ..\\..\\temp\\main_branch_outputs\\003_plot_vis_scores\\all\\all_left_wrist_histogram.png\n",
      "saving: ..\\..\\temp\\main_branch_outputs\\003_plot_vis_scores\\all\\all_left_wrist_line.png\n",
      "label: right_wrist\n",
      "saving: ..\\..\\temp\\main_branch_outputs\\003_plot_vis_scores\\all\\all_right_wrist_boxplot.png\n",
      "saving: ..\\..\\temp\\main_branch_outputs\\003_plot_vis_scores\\all\\all_right_wrist_histogram.png\n",
      "saving: ..\\..\\temp\\main_branch_outputs\\003_plot_vis_scores\\all\\all_right_wrist_line.png\n",
      "label: left_pinky\n",
      "saving: ..\\..\\temp\\main_branch_outputs\\003_plot_vis_scores\\all\\all_left_pinky_boxplot.png\n",
      "saving: ..\\..\\temp\\main_branch_outputs\\003_plot_vis_scores\\all\\all_left_pinky_histogram.png\n",
      "saving: ..\\..\\temp\\main_branch_outputs\\003_plot_vis_scores\\all\\all_left_pinky_line.png\n",
      "label: right_pinky\n",
      "saving: ..\\..\\temp\\main_branch_outputs\\003_plot_vis_scores\\all\\all_right_pinky_boxplot.png\n",
      "saving: ..\\..\\temp\\main_branch_outputs\\003_plot_vis_scores\\all\\all_right_pinky_histogram.png\n",
      "saving: ..\\..\\temp\\main_branch_outputs\\003_plot_vis_scores\\all\\all_right_pinky_line.png\n",
      "label: left_index\n",
      "saving: ..\\..\\temp\\main_branch_outputs\\003_plot_vis_scores\\all\\all_left_index_boxplot.png\n",
      "saving: ..\\..\\temp\\main_branch_outputs\\003_plot_vis_scores\\all\\all_left_index_histogram.png\n",
      "saving: ..\\..\\temp\\main_branch_outputs\\003_plot_vis_scores\\all\\all_left_index_line.png\n",
      "label: right_index\n",
      "saving: ..\\..\\temp\\main_branch_outputs\\003_plot_vis_scores\\all\\all_right_index_boxplot.png\n",
      "saving: ..\\..\\temp\\main_branch_outputs\\003_plot_vis_scores\\all\\all_right_index_histogram.png\n",
      "saving: ..\\..\\temp\\main_branch_outputs\\003_plot_vis_scores\\all\\all_right_index_line.png\n",
      "label: left_thumb\n",
      "saving: ..\\..\\temp\\main_branch_outputs\\003_plot_vis_scores\\all\\all_left_thumb_boxplot.png\n",
      "saving: ..\\..\\temp\\main_branch_outputs\\003_plot_vis_scores\\all\\all_left_thumb_histogram.png\n",
      "saving: ..\\..\\temp\\main_branch_outputs\\003_plot_vis_scores\\all\\all_left_thumb_line.png\n",
      "label: right_thumb\n",
      "saving: ..\\..\\temp\\main_branch_outputs\\003_plot_vis_scores\\all\\all_right_thumb_boxplot.png\n",
      "saving: ..\\..\\temp\\main_branch_outputs\\003_plot_vis_scores\\all\\all_right_thumb_histogram.png\n",
      "saving: ..\\..\\temp\\main_branch_outputs\\003_plot_vis_scores\\all\\all_right_thumb_line.png\n",
      "label: left_hip\n",
      "saving: ..\\..\\temp\\main_branch_outputs\\003_plot_vis_scores\\all\\all_left_hip_boxplot.png\n",
      "saving: ..\\..\\temp\\main_branch_outputs\\003_plot_vis_scores\\all\\all_left_hip_histogram.png\n",
      "saving: ..\\..\\temp\\main_branch_outputs\\003_plot_vis_scores\\all\\all_left_hip_line.png\n",
      "label: right_hip\n",
      "saving: ..\\..\\temp\\main_branch_outputs\\003_plot_vis_scores\\all\\all_right_hip_boxplot.png\n",
      "saving: ..\\..\\temp\\main_branch_outputs\\003_plot_vis_scores\\all\\all_right_hip_histogram.png\n",
      "saving: ..\\..\\temp\\main_branch_outputs\\003_plot_vis_scores\\all\\all_right_hip_line.png\n",
      "label: left_knee\n",
      "saving: ..\\..\\temp\\main_branch_outputs\\003_plot_vis_scores\\all\\all_left_knee_boxplot.png\n",
      "saving: ..\\..\\temp\\main_branch_outputs\\003_plot_vis_scores\\all\\all_left_knee_histogram.png\n",
      "saving: ..\\..\\temp\\main_branch_outputs\\003_plot_vis_scores\\all\\all_left_knee_line.png\n",
      "label: right_knee\n",
      "saving: ..\\..\\temp\\main_branch_outputs\\003_plot_vis_scores\\all\\all_right_knee_boxplot.png\n",
      "saving: ..\\..\\temp\\main_branch_outputs\\003_plot_vis_scores\\all\\all_right_knee_histogram.png\n",
      "saving: ..\\..\\temp\\main_branch_outputs\\003_plot_vis_scores\\all\\all_right_knee_line.png\n",
      "label: left_ankle\n",
      "saving: ..\\..\\temp\\main_branch_outputs\\003_plot_vis_scores\\all\\all_left_ankle_boxplot.png\n",
      "saving: ..\\..\\temp\\main_branch_outputs\\003_plot_vis_scores\\all\\all_left_ankle_histogram.png\n",
      "saving: ..\\..\\temp\\main_branch_outputs\\003_plot_vis_scores\\all\\all_left_ankle_line.png\n",
      "label: right_ankle\n",
      "saving: ..\\..\\temp\\main_branch_outputs\\003_plot_vis_scores\\all\\all_right_ankle_boxplot.png\n",
      "saving: ..\\..\\temp\\main_branch_outputs\\003_plot_vis_scores\\all\\all_right_ankle_histogram.png\n",
      "saving: ..\\..\\temp\\main_branch_outputs\\003_plot_vis_scores\\all\\all_right_ankle_line.png\n",
      "label: left_heel\n",
      "saving: ..\\..\\temp\\main_branch_outputs\\003_plot_vis_scores\\all\\all_left_heel_boxplot.png\n",
      "saving: ..\\..\\temp\\main_branch_outputs\\003_plot_vis_scores\\all\\all_left_heel_histogram.png\n",
      "saving: ..\\..\\temp\\main_branch_outputs\\003_plot_vis_scores\\all\\all_left_heel_line.png\n",
      "label: right_heel\n",
      "saving: ..\\..\\temp\\main_branch_outputs\\003_plot_vis_scores\\all\\all_right_heel_boxplot.png\n",
      "saving: ..\\..\\temp\\main_branch_outputs\\003_plot_vis_scores\\all\\all_right_heel_histogram.png\n",
      "saving: ..\\..\\temp\\main_branch_outputs\\003_plot_vis_scores\\all\\all_right_heel_line.png\n",
      "label: left_foot_index\n",
      "saving: ..\\..\\temp\\main_branch_outputs\\003_plot_vis_scores\\all\\all_left_foot_index_boxplot.png\n",
      "saving: ..\\..\\temp\\main_branch_outputs\\003_plot_vis_scores\\all\\all_left_foot_index_histogram.png\n",
      "saving: ..\\..\\temp\\main_branch_outputs\\003_plot_vis_scores\\all\\all_left_foot_index_line.png\n",
      "label: right_foot_index\n",
      "saving: ..\\..\\temp\\main_branch_outputs\\003_plot_vis_scores\\all\\all_right_foot_index_boxplot.png\n",
      "saving: ..\\..\\temp\\main_branch_outputs\\003_plot_vis_scores\\all\\all_right_foot_index_histogram.png\n",
      "saving: ..\\..\\temp\\main_branch_outputs\\003_plot_vis_scores\\all\\all_right_foot_index_line.png\n",
      "is na: skipped\n"
     ]
    }
   ],
   "source": [
    "# create for loop to loop through each landmark. \n",
    "# Plot visibility values for all videos on single plots, one plot per landmark\n",
    "\n",
    "# blank df to populate later \n",
    "vis_stats_all_df = pd.DataFrame(columns = ['label', \n",
    "                                           'h_mean_vis',\n",
    "                                           'h_median_vis',\n",
    "                                           'h_std_vis',\n",
    "                                           'v_mean_vis', \n",
    "                                           'v_median_vis',\n",
    "                                           'v_std_vis'])\n",
    "\n",
    "# drop all na \n",
    "filtered_df = filtered_df.dropna(how='all')\n",
    "                                                                           \n",
    "for label in pd.unique(filtered_df['label']):\n",
    "    if label == 'nan' or pd.isna(label):\n",
    "        print('is na: skipped')\n",
    "    else: \n",
    "        print('label: ' + label)\n",
    "\n",
    "        # filter to data frame that only includes one mediapose landmark (nose, right foot, etc) \n",
    "        current_label_df = filtered_df.loc[filtered_df['label'] == label]\n",
    "    \n",
    "        # boxplot all values \n",
    "        single_label_bxplt_all(current_label_df, label)\n",
    "\n",
    "        #histogram of all values \n",
    "        single_label_hist_all(current_label_df, label)\n",
    "\n",
    "        # line plot of all values, colored by task \n",
    "        single_label_line_all(current_label_df, label)\n",
    "\n",
    "        # save mean, median, and standard deviation: horizontal and vertical  \n",
    "        current_vis_stats = mean_med_std_vis(current_label_df)\n",
    "    \n",
    "        row_current_vis_stats = pd.DataFrame([label, \n",
    "                                              current_vis_stats[0],\n",
    "                                              current_vis_stats[1], \n",
    "                                              current_vis_stats[2],\n",
    "                                              current_vis_stats[3],\n",
    "                                              current_vis_stats[4], \n",
    "                                              current_vis_stats[5],\n",
    "                                             ])\n",
    "\n",
    "        row_current_vis_stats = row_current_vis_stats.transpose()\n",
    "        row_current_vis_stats = row_current_vis_stats.rename(columns = {0:'label',\n",
    "                                                                        1:'h_mean_vis',\n",
    "                                                                        2: 'h_median_vis',\n",
    "                                                                        3: 'h_std_vis',\n",
    "                                                                        4: 'v_mean_vis',\n",
    "                                                                        5: 'v_median_vis',\n",
    "                                                                        6: 'v_std_vis'}\n",
    "                                                                   )\n",
    "\n",
    "    \n",
    "    \n",
    "        vis_stats_all_df = pd.concat([vis_stats_all_df, row_current_vis_stats]) "
   ]
  },
  {
   "cell_type": "code",
   "execution_count": 14,
   "id": "98978d2c-4ac4-4225-b8a0-407f62b347e7",
   "metadata": {},
   "outputs": [
    {
     "name": "stdout",
     "output_type": "stream",
     "text": [
      "saving: ..\\..\\temp\\main_branch_outputs\\003_plot_vis_scores\\all\\vis_stats_by_label.csv\n"
     ]
    }
   ],
   "source": [
    "# add columns for difference between median and mean vis scores between vertical and horizontal videos \n",
    "\n",
    "# mean diff \n",
    "v_minus_h_mean = vis_stats_all_df['v_mean_vis'] - vis_stats_all_df['h_mean_vis']\n",
    "v_minus_h_mean.head()\n",
    "vis_stats_all_df['v_minus_h_mean'] = v_minus_h_mean\n",
    "\n",
    "# median diff \n",
    "v_minus_h_median = vis_stats_all_df['v_median_vis'] - vis_stats_all_df['h_median_vis']\n",
    "v_minus_h_median.head()\n",
    "vis_stats_all_df['v_minus_h_median'] = v_minus_h_median\n",
    "\n",
    "# save vis_stats_all_df as .csv file \n",
    "output_stats_file_name = 'vis_stats_by_label.csv'\n",
    "out_stats_path = os.path.normpath(os.path.join(dir_out_path, 'all', output_stats_file_name))\n",
    "print('saving: ' + out_stats_path)\n",
    "vis_stats_all_df.to_csv(out_stats_path)"
   ]
  },
  {
   "cell_type": "code",
   "execution_count": 15,
   "id": "77f59f69-0e59-406f-a6cf-eadb8f39862c",
   "metadata": {},
   "outputs": [
    {
     "data": {
      "text/plain": [
       "False"
      ]
     },
     "execution_count": 15,
     "metadata": {},
     "output_type": "execute_result"
    }
   ],
   "source": [
    "pd.isna(label)"
   ]
  }
 ],
 "metadata": {
  "kernelspec": {
   "display_name": "venv_home_video_analysis_2",
   "language": "python",
   "name": "venv_home_video_analysis_2"
  },
  "language_info": {
   "codemirror_mode": {
    "name": "ipython",
    "version": 3
   },
   "file_extension": ".py",
   "mimetype": "text/x-python",
   "name": "python",
   "nbconvert_exporter": "python",
   "pygments_lexer": "ipython3",
   "version": "3.10.11"
  }
 },
 "nbformat": 4,
 "nbformat_minor": 5
}
