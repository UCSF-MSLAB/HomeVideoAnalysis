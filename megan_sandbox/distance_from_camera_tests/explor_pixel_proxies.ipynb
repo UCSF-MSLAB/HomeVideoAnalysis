{
 "cells": [
  {
   "cell_type": "code",
   "execution_count": 1,
   "id": "43615c29-d93e-4ddb-ab1d-64dedbc88f09",
   "metadata": {},
   "outputs": [],
   "source": [
    "import os \n",
    "import pandas as pd \n",
    "import matplotlib.pyplot as plt\n",
    "import seaborn as sns\n",
    "import numpy as np\n",
    "import math\n",
    "import scipy.signal as sig"
   ]
  },
  {
   "cell_type": "code",
   "execution_count": 2,
   "id": "3bdecb09-fe10-4c63-bfc5-ca7b8d5bca06",
   "metadata": {},
   "outputs": [],
   "source": [
    "fps = 30 \n",
    "\n",
    "# output path \n",
    "out_path = r'C:\\Users\\mmccu\\Box\\MM_Personal\\5_Projects\\BoveLab\\3_Data_and_Code\\test_velocity_01302025\\hc_video_output\\MM_HC\\2024-07-30\\000_raw_pose_data'\n",
    "\n",
    "# import yolo \n",
    "yolo_path = r'C:\\Users\\mmccu\\Box\\MM_Personal\\5_Projects\\BoveLab\\3_Data_and_Code\\test_velocity_01302025\\hc_video_output\\MM_HC\\2024-07-30\\000_raw_pose_data\\MM_HC_17ft_gait_vertical_right_yolo.csv'"
   ]
  },
  {
   "cell_type": "code",
   "execution_count": 3,
   "id": "7811919d-a438-4dc2-9bdf-bc6b34df49f6",
   "metadata": {},
   "outputs": [
    {
     "data": {
      "text/html": [
       "<div>\n",
       "<style scoped>\n",
       "    .dataframe tbody tr th:only-of-type {\n",
       "        vertical-align: middle;\n",
       "    }\n",
       "\n",
       "    .dataframe tbody tr th {\n",
       "        vertical-align: top;\n",
       "    }\n",
       "\n",
       "    .dataframe thead th {\n",
       "        text-align: right;\n",
       "    }\n",
       "</style>\n",
       "<table border=\"1\" class=\"dataframe\">\n",
       "  <thead>\n",
       "    <tr style=\"text-align: right;\">\n",
       "      <th></th>\n",
       "      <th>X</th>\n",
       "      <th>Y</th>\n",
       "      <th>label</th>\n",
       "      <th>frame</th>\n",
       "    </tr>\n",
       "  </thead>\n",
       "  <tbody>\n",
       "    <tr>\n",
       "      <th>0</th>\n",
       "      <td>0.00000</td>\n",
       "      <td>0.00000</td>\n",
       "      <td>nose</td>\n",
       "      <td>0</td>\n",
       "    </tr>\n",
       "    <tr>\n",
       "      <th>1</th>\n",
       "      <td>0.00000</td>\n",
       "      <td>0.00000</td>\n",
       "      <td>left_eye</td>\n",
       "      <td>0</td>\n",
       "    </tr>\n",
       "    <tr>\n",
       "      <th>2</th>\n",
       "      <td>0.00000</td>\n",
       "      <td>0.00000</td>\n",
       "      <td>right_eye</td>\n",
       "      <td>0</td>\n",
       "    </tr>\n",
       "    <tr>\n",
       "      <th>3</th>\n",
       "      <td>418.01028</td>\n",
       "      <td>178.36707</td>\n",
       "      <td>left_ear</td>\n",
       "      <td>0</td>\n",
       "    </tr>\n",
       "    <tr>\n",
       "      <th>4</th>\n",
       "      <td>579.52844</td>\n",
       "      <td>177.58612</td>\n",
       "      <td>right_ear</td>\n",
       "      <td>0</td>\n",
       "    </tr>\n",
       "  </tbody>\n",
       "</table>\n",
       "</div>"
      ],
      "text/plain": [
       "           X          Y      label  frame\n",
       "0    0.00000    0.00000       nose      0\n",
       "1    0.00000    0.00000   left_eye      0\n",
       "2    0.00000    0.00000  right_eye      0\n",
       "3  418.01028  178.36707   left_ear      0\n",
       "4  579.52844  177.58612  right_ear      0"
      ]
     },
     "execution_count": 3,
     "metadata": {},
     "output_type": "execute_result"
    }
   ],
   "source": [
    "yolo_df = pd.read_csv(yolo_path, index_col = 0)\n",
    "yolo_df.head()"
   ]
  },
  {
   "cell_type": "code",
   "execution_count": 4,
   "id": "7d78ff78-d11b-4657-be12-2cb815ae23b5",
   "metadata": {},
   "outputs": [
    {
     "data": {
      "text/plain": [
       "label\n",
       "nose              781\n",
       "left_wrist        781\n",
       "left_ankle        781\n",
       "right_knee        781\n",
       "left_knee         781\n",
       "right_hip         781\n",
       "left_hip          781\n",
       "right_wrist       781\n",
       "right_elbow       781\n",
       "left_eye          781\n",
       "left_elbow        781\n",
       "right_shoulder    781\n",
       "left_shoulder     781\n",
       "right_ear         781\n",
       "left_ear          781\n",
       "right_eye         781\n",
       "right_ankle       781\n",
       "Name: count, dtype: int64"
      ]
     },
     "execution_count": 4,
     "metadata": {},
     "output_type": "execute_result"
    }
   ],
   "source": [
    "yolo_df['label'].value_counts()"
   ]
  },
  {
   "cell_type": "code",
   "execution_count": 5,
   "id": "e26ebd34-add5-4a8a-8fb0-a827a2178d9e",
   "metadata": {},
   "outputs": [],
   "source": [
    "# clean missing yolo data \n",
    "\n",
    "# if both x and Y = zero, replace with NaN\n",
    "#yolo_df[['X', 'Y']] = yolo_df[['X', 'Y']].mask((yolo_df['X'] == 0) & (yolo_df['Y'] == 0), np.nan)"
   ]
  },
  {
   "cell_type": "code",
   "execution_count": 6,
   "id": "acce3a2e-396d-4718-9a69-23cebb7a9d68",
   "metadata": {},
   "outputs": [],
   "source": [
    "# pixel height \n",
    "\n",
    "l_eye_yolo_df = yolo_df.loc[yolo_df['label'] == 'left_eye']\n",
    "l_eye_yolo_df.set_index('frame', inplace=True)\n",
    "l_ankle_yolo_df = yolo_df.loc[yolo_df['label'] == 'left_ankle']\n",
    "l_ankle_yolo_df.set_index('frame', inplace=True)\n",
    "\n",
    "\n",
    "l_ankle_yolo_df = l_ankle_yolo_df.copy()\n",
    "l_ankle_yolo_df.loc[:, 'approx_height_Y_pix'] = abs(l_eye_yolo_df['Y'] - l_ankle_yolo_df['Y'])\n",
    "l_ankle_yolo_df.loc[:, 'approx_height_Y_pix_smooth'] = l_ankle_yolo_df['approx_height_Y_pix'].rolling(window=25, min_periods = 1).mean()"
   ]
  },
  {
   "cell_type": "code",
   "execution_count": 7,
   "id": "6f016832-8a91-47dd-9195-32423cafc9b2",
   "metadata": {},
   "outputs": [
    {
     "data": {
      "text/html": [
       "<div>\n",
       "<style scoped>\n",
       "    .dataframe tbody tr th:only-of-type {\n",
       "        vertical-align: middle;\n",
       "    }\n",
       "\n",
       "    .dataframe tbody tr th {\n",
       "        vertical-align: top;\n",
       "    }\n",
       "\n",
       "    .dataframe thead th {\n",
       "        text-align: right;\n",
       "    }\n",
       "</style>\n",
       "<table border=\"1\" class=\"dataframe\">\n",
       "  <thead>\n",
       "    <tr style=\"text-align: right;\">\n",
       "      <th></th>\n",
       "      <th>frame</th>\n",
       "      <th>approx_height_Y_pix</th>\n",
       "      <th>approx_height_Y_pix_smooth</th>\n",
       "    </tr>\n",
       "  </thead>\n",
       "  <tbody>\n",
       "    <tr>\n",
       "      <th>776</th>\n",
       "      <td>779</td>\n",
       "      <td>1282.89913</td>\n",
       "      <td>1248.313022</td>\n",
       "    </tr>\n",
       "    <tr>\n",
       "      <th>777</th>\n",
       "      <td>780</td>\n",
       "      <td>1282.41432</td>\n",
       "      <td>1251.195981</td>\n",
       "    </tr>\n",
       "    <tr>\n",
       "      <th>778</th>\n",
       "      <td>781</td>\n",
       "      <td>1281.85563</td>\n",
       "      <td>1254.019537</td>\n",
       "    </tr>\n",
       "    <tr>\n",
       "      <th>779</th>\n",
       "      <td>782</td>\n",
       "      <td>1281.97150</td>\n",
       "      <td>1256.767389</td>\n",
       "    </tr>\n",
       "    <tr>\n",
       "      <th>780</th>\n",
       "      <td>783</td>\n",
       "      <td>1283.16170</td>\n",
       "      <td>1259.588337</td>\n",
       "    </tr>\n",
       "  </tbody>\n",
       "</table>\n",
       "</div>"
      ],
      "text/plain": [
       "     frame  approx_height_Y_pix  approx_height_Y_pix_smooth\n",
       "776    779           1282.89913                 1248.313022\n",
       "777    780           1282.41432                 1251.195981\n",
       "778    781           1281.85563                 1254.019537\n",
       "779    782           1281.97150                 1256.767389\n",
       "780    783           1283.16170                 1259.588337"
      ]
     },
     "execution_count": 7,
     "metadata": {},
     "output_type": "execute_result"
    }
   ],
   "source": [
    "# drop l ankle specific columns \n",
    "height_df = l_ankle_yolo_df.drop(columns = ['X', 'Y', 'label'])\n",
    "height_df.reset_index(inplace=True)\n",
    "height_df.tail()"
   ]
  },
  {
   "cell_type": "code",
   "execution_count": 8,
   "id": "2788d093-0b22-47e7-be46-89770c6c1a26",
   "metadata": {},
   "outputs": [
    {
     "data": {
      "text/plain": [
       "<Axes: xlabel='frame', ylabel='approx_height_Y_pix'>"
      ]
     },
     "execution_count": 8,
     "metadata": {},
     "output_type": "execute_result"
    },
    {
     "data": {
      "image/png": "[encoded data removed]",
      "text/plain": [
       "<Figure size 640x480 with 1 Axes>"
      ]
     },
     "metadata": {},
     "output_type": "display_data"
    }
   ],
   "source": [
    "max_frame = yolo_df['frame'].max()\n",
    "\n",
    "sns.scatterplot(x = 'frame', y = 'approx_height_Y_pix', data = height_df, label = 'pixel height')\n",
    "sns.scatterplot(x = 'frame', y = 'approx_height_Y_pix_smooth', data = height_df, label = 'pixel height smoothed')"
   ]
  },
  {
   "cell_type": "markdown",
   "id": "1b5be295-eaff-44f3-8f8b-a2d85607524d",
   "metadata": {},
   "source": [
    "## Set up time groupings to calculate change over \n"
   ]
  },
  {
   "cell_type": "code",
   "execution_count": 9,
   "id": "6111f902-f9b7-4827-b09c-e16c5656d622",
   "metadata": {},
   "outputs": [
    {
     "data": {
      "text/html": [
       "<div>\n",
       "<style scoped>\n",
       "    .dataframe tbody tr th:only-of-type {\n",
       "        vertical-align: middle;\n",
       "    }\n",
       "\n",
       "    .dataframe tbody tr th {\n",
       "        vertical-align: top;\n",
       "    }\n",
       "\n",
       "    .dataframe thead th {\n",
       "        text-align: right;\n",
       "    }\n",
       "</style>\n",
       "<table border=\"1\" class=\"dataframe\">\n",
       "  <thead>\n",
       "    <tr style=\"text-align: right;\">\n",
       "      <th></th>\n",
       "      <th>frame</th>\n",
       "      <th>approx_height_Y_pix</th>\n",
       "      <th>approx_height_Y_pix_smooth</th>\n",
       "      <th>time_group</th>\n",
       "    </tr>\n",
       "  </thead>\n",
       "  <tbody>\n",
       "    <tr>\n",
       "      <th>0</th>\n",
       "      <td>0</td>\n",
       "      <td>1762.4410</td>\n",
       "      <td>1762.441000</td>\n",
       "      <td>0</td>\n",
       "    </tr>\n",
       "    <tr>\n",
       "      <th>1</th>\n",
       "      <td>1</td>\n",
       "      <td>1763.0765</td>\n",
       "      <td>1762.758750</td>\n",
       "      <td>0</td>\n",
       "    </tr>\n",
       "    <tr>\n",
       "      <th>2</th>\n",
       "      <td>2</td>\n",
       "      <td>1765.1533</td>\n",
       "      <td>1763.556933</td>\n",
       "      <td>0</td>\n",
       "    </tr>\n",
       "    <tr>\n",
       "      <th>3</th>\n",
       "      <td>3</td>\n",
       "      <td>1763.9994</td>\n",
       "      <td>1763.667550</td>\n",
       "      <td>0</td>\n",
       "    </tr>\n",
       "    <tr>\n",
       "      <th>4</th>\n",
       "      <td>4</td>\n",
       "      <td>1764.9269</td>\n",
       "      <td>1763.919420</td>\n",
       "      <td>0</td>\n",
       "    </tr>\n",
       "  </tbody>\n",
       "</table>\n",
       "</div>"
      ],
      "text/plain": [
       "   frame  approx_height_Y_pix  approx_height_Y_pix_smooth  time_group\n",
       "0      0            1762.4410                 1762.441000           0\n",
       "1      1            1763.0765                 1762.758750           0\n",
       "2      2            1765.1533                 1763.556933           0\n",
       "3      3            1763.9994                 1763.667550           0\n",
       "4      4            1764.9269                 1763.919420           0"
      ]
     },
     "execution_count": 9,
     "metadata": {},
     "output_type": "execute_result"
    }
   ],
   "source": [
    "# add \"time_group\" label column, will use to group \n",
    "height_df['time_group'] = height_df['frame'] / (fps)\n",
    "height_df['time_group'] = height_df['time_group'].apply(math.floor)\n",
    "height_df.head()"
   ]
  },
  {
   "cell_type": "code",
   "execution_count": 10,
   "id": "58923a6e-6510-4397-973d-ed9ac027b061",
   "metadata": {},
   "outputs": [],
   "source": [
    "# identify peaks and valleys in pixel height (approximate turn locations) \n",
    "peaks, _ = sig.find_peaks(height_df['approx_height_Y_pix_smooth'], distance = fps)\n",
    "valleys, _ = sig.find_peaks(-height_df['approx_height_Y_pix_smooth'], distance = fps)\n",
    "peaks_valleys = np.concatenate((peaks, valleys))"
   ]
  },
  {
   "cell_type": "code",
   "execution_count": 11,
   "id": "7743c57b-4cb9-4727-b6ae-e8331e117f29",
   "metadata": {},
   "outputs": [
    {
     "name": "stdout",
     "output_type": "stream",
     "text": [
      "6\n",
      "413\n",
      "545\n",
      "13\n",
      "245\n",
      "541\n",
      "592\n"
     ]
    },
    {
     "data": {
      "image/png": "[encoded data removed]",
      "text/plain": [
       "<Figure size 640x480 with 1 Axes>"
      ]
     },
     "metadata": {},
     "output_type": "display_data"
    }
   ],
   "source": [
    "sns.scatterplot(x = 'frame', y = 'approx_height_Y_pix_smooth', data = height_df, label = 'approx_height_Y_pix_smooth')\n",
    "for time_group in height_df['time_group'].unique(): \n",
    "    plt.axvline(x = time_group * (fps), color = 'grey', alpha = 0.5)\n",
    "\n",
    "for peak in peaks:\n",
    "    print(peak)\n",
    "    plt.axvline(x = peak, color = 'red', alpha = 0.5)\n",
    "\n",
    "for valley in valleys:\n",
    "    print(valley)\n",
    "    plt.axvline(x = valley, color = 'blue', alpha = 0.5)"
   ]
  },
  {
   "cell_type": "markdown",
   "id": "fd32c5c3-4a18-4753-8666-6cebc4abfd1a",
   "metadata": {},
   "source": [
    "## Idea 1 - pixels/height (in) "
   ]
  },
  {
   "cell_type": "code",
   "execution_count": 12,
   "id": "9ab8aaee-c31f-4604-8ce3-5a73266ffb61",
   "metadata": {},
   "outputs": [
    {
     "data": {
      "text/html": [
       "<div>\n",
       "<style scoped>\n",
       "    .dataframe tbody tr th:only-of-type {\n",
       "        vertical-align: middle;\n",
       "    }\n",
       "\n",
       "    .dataframe tbody tr th {\n",
       "        vertical-align: top;\n",
       "    }\n",
       "\n",
       "    .dataframe thead th {\n",
       "        text-align: right;\n",
       "    }\n",
       "</style>\n",
       "<table border=\"1\" class=\"dataframe\">\n",
       "  <thead>\n",
       "    <tr style=\"text-align: right;\">\n",
       "      <th></th>\n",
       "      <th>frame</th>\n",
       "      <th>approx_height_Y_pix</th>\n",
       "      <th>approx_height_Y_pix_smooth</th>\n",
       "      <th>time_group</th>\n",
       "      <th>height_pix_per_in</th>\n",
       "    </tr>\n",
       "  </thead>\n",
       "  <tbody>\n",
       "    <tr>\n",
       "      <th>0</th>\n",
       "      <td>0</td>\n",
       "      <td>1762.4410</td>\n",
       "      <td>1762.441000</td>\n",
       "      <td>0</td>\n",
       "      <td>25.177729</td>\n",
       "    </tr>\n",
       "    <tr>\n",
       "      <th>1</th>\n",
       "      <td>1</td>\n",
       "      <td>1763.0765</td>\n",
       "      <td>1762.758750</td>\n",
       "      <td>0</td>\n",
       "      <td>25.182268</td>\n",
       "    </tr>\n",
       "    <tr>\n",
       "      <th>2</th>\n",
       "      <td>2</td>\n",
       "      <td>1765.1533</td>\n",
       "      <td>1763.556933</td>\n",
       "      <td>0</td>\n",
       "      <td>25.193670</td>\n",
       "    </tr>\n",
       "    <tr>\n",
       "      <th>3</th>\n",
       "      <td>3</td>\n",
       "      <td>1763.9994</td>\n",
       "      <td>1763.667550</td>\n",
       "      <td>0</td>\n",
       "      <td>25.195251</td>\n",
       "    </tr>\n",
       "    <tr>\n",
       "      <th>4</th>\n",
       "      <td>4</td>\n",
       "      <td>1764.9269</td>\n",
       "      <td>1763.919420</td>\n",
       "      <td>0</td>\n",
       "      <td>25.198849</td>\n",
       "    </tr>\n",
       "  </tbody>\n",
       "</table>\n",
       "</div>"
      ],
      "text/plain": [
       "   frame  approx_height_Y_pix  approx_height_Y_pix_smooth  time_group  \\\n",
       "0      0            1762.4410                 1762.441000           0   \n",
       "1      1            1763.0765                 1762.758750           0   \n",
       "2      2            1765.1533                 1763.556933           0   \n",
       "3      3            1763.9994                 1763.667550           0   \n",
       "4      4            1764.9269                 1763.919420           0   \n",
       "\n",
       "   height_pix_per_in  \n",
       "0          25.177729  \n",
       "1          25.182268  \n",
       "2          25.193670  \n",
       "3          25.195251  \n",
       "4          25.198849  "
      ]
     },
     "execution_count": 12,
     "metadata": {},
     "output_type": "execute_result"
    }
   ],
   "source": [
    "# pixels per inch \n",
    "# my height in inches (5ft 10 inches) \n",
    "mm_height_in = 70 \n",
    "height_df['height_pix_per_in'] = height_df['approx_height_Y_pix_smooth'] / mm_height_in \n",
    "height_df.head()"
   ]
  },
  {
   "cell_type": "code",
   "execution_count": 13,
   "id": "d94ee9ec-2e09-4122-a366-ccb2e94ad81a",
   "metadata": {},
   "outputs": [
    {
     "data": {
      "text/plain": [
       "<Axes: xlabel='frame', ylabel='height_pix_per_in'>"
      ]
     },
     "execution_count": 13,
     "metadata": {},
     "output_type": "execute_result"
    },
    {
     "data": {
      "image/png": "[encoded data removed]",
      "text/plain": [
       "<Figure size 640x480 with 1 Axes>"
      ]
     },
     "metadata": {},
     "output_type": "display_data"
    }
   ],
   "source": [
    "sns.scatterplot(x = 'frame', y = 'height_pix_per_in', data = height_df, label = 'height pixel/height inch')"
   ]
  },
  {
   "cell_type": "code",
   "execution_count": 14,
   "id": "e994f5ec-b4ea-4b1c-995f-46693a8a9523",
   "metadata": {},
   "outputs": [],
   "source": [
    "def calc_pix_per_in_per_second(start_frame, end_frame, df, fps): \n",
    "    start_row = df.loc[df['frame'] == start_frame]\n",
    "    end_row = df.loc[df['frame'] == end_frame]\n",
    "\n",
    "    start_pix_per_in = start_row['height_pix_per_in'].iloc[0]\n",
    "    end_pix_per_in = end_row['height_pix_per_in'].iloc[0]\n",
    "    \n",
    "    delta_pix_per_in = abs(start_pix_per_in - end_pix_per_in)\n",
    "    # divide by starting pixel height (if closer, likeley greater change in pixels / inch) \n",
    "    delta_pix_per_in = delta_pix_per_in / start_pix_per_in\n",
    "\n",
    "    delta_seconds = (end_frame - start_frame) / fps\n",
    "\n",
    "    pix_per_in_per_second = round(delta_pix_per_in / delta_seconds, 2)\n",
    "    print(pix_per_in_per_second)\n",
    "    \n",
    "    return pix_per_in_per_second\n"
   ]
  },
  {
   "cell_type": "code",
   "execution_count": 15,
   "id": "fbcf41f5-ff15-4c69-9f7c-ffde0355c408",
   "metadata": {},
   "outputs": [
    {
     "name": "stdout",
     "output_type": "stream",
     "text": [
      "Skipped - contains peak or valley\n",
      "0.1\n",
      "0.14\n",
      "0.13\n",
      "0.1\n",
      "0.07\n",
      "0.04\n",
      "0.49\n",
      "Skipped - contains peak or valley\n",
      "0.24\n",
      "0.28\n",
      "0.4\n",
      "0.29\n",
      "Skipped - contains peak or valley\n",
      "0.16\n",
      "0.13\n",
      "0.09\n",
      "0.06\n",
      "Skipped - contains peak or valley\n",
      "Skipped - contains peak or valley\n",
      "0.1\n",
      "0.25\n",
      "0.29\n",
      "0.35\n",
      "0.26\n",
      "0.1\n",
      "0.07\n"
     ]
    }
   ],
   "source": [
    "# loop through each time_group in video and calc change in pix per time_group \n",
    "pix_per_in_per_sec_all = []\n",
    "\n",
    "for current_sec_group in height_df['time_group'].unique():\n",
    "    current_height_df = height_df.loc[height_df['time_group'] == current_sec_group]\n",
    "   # print(current_height_df.shape)\n",
    "    current_start_frame = current_height_df['frame'].iloc[0]\n",
    "    current_end_frame = current_height_df['frame'].iloc[-1]\n",
    "\n",
    "    # if this current time_group group contains peak or valley, skp \n",
    "    if current_height_df.loc[current_start_frame: current_end_frame, 'frame'].isin(peaks_valleys).any():\n",
    "        print('Skipped - contains peak or valley') \n",
    "        current_pix_per_in_per_sec = np.nan\n",
    "    else: \n",
    "        current_pix_per_in_per_sec = calc_pix_per_in_per_second(current_start_frame,\n",
    "                                                                current_end_frame,\n",
    "                                                                height_df, \n",
    "                                                                fps) \n",
    "\n",
    "    # change in (pixel/in) / second \n",
    "#    current_pix_per_in_per_sec = calc_pix_per_in_per_second(current_start_frame,\n",
    "                                                         #   current_end_frame,\n",
    "                                                         #   height_df, \n",
    "                                                          #  fps) \n",
    "\n",
    "    pix_per_in_per_sec_all.append(current_pix_per_in_per_sec) "
   ]
  },
  {
   "cell_type": "code",
   "execution_count": 16,
   "id": "f4e4924f-3336-4dfd-a945-eab61b0a710b",
   "metadata": {},
   "outputs": [
    {
     "data": {
      "text/plain": [
       "Text(0, 0.5, 'pix_per_in_per_sec_all')"
      ]
     },
     "execution_count": 16,
     "metadata": {},
     "output_type": "execute_result"
    },
    {
     "data": {
      "image/png": "[encoded data removed]",
      "text/plain": [
       "<Figure size 640x480 with 1 Axes>"
      ]
     },
     "metadata": {},
     "output_type": "display_data"
    }
   ],
   "source": [
    "# plot all values per group  \n",
    "plt.scatter(x = height_df['time_group'].unique(), y = pix_per_in_per_sec_all)\n",
    "plt.ylabel('pix_per_in_per_sec_all')"
   ]
  },
  {
   "cell_type": "code",
   "execution_count": 17,
   "id": "232404f5-a94a-4343-b48e-2524ac58bcaf",
   "metadata": {},
   "outputs": [],
   "source": [
    "# get median of all values - remove extreme values and hopefully turning? "
   ]
  },
  {
   "cell_type": "markdown",
   "id": "80d12b77-c1bf-4535-9a16-94a5930955be",
   "metadata": {},
   "source": [
    "## Idea 2 - change in pix/in from first frame \n",
    "max and min - bigger change in pixels per inch if walking faster? "
   ]
  },
  {
   "cell_type": "code",
   "execution_count": 18,
   "id": "9d8bda9f-44e4-40c1-a603-cc3377187ae6",
   "metadata": {},
   "outputs": [
    {
     "data": {
      "text/html": [
       "<div>\n",
       "<style scoped>\n",
       "    .dataframe tbody tr th:only-of-type {\n",
       "        vertical-align: middle;\n",
       "    }\n",
       "\n",
       "    .dataframe tbody tr th {\n",
       "        vertical-align: top;\n",
       "    }\n",
       "\n",
       "    .dataframe thead th {\n",
       "        text-align: right;\n",
       "    }\n",
       "</style>\n",
       "<table border=\"1\" class=\"dataframe\">\n",
       "  <thead>\n",
       "    <tr style=\"text-align: right;\">\n",
       "      <th></th>\n",
       "      <th>frame</th>\n",
       "      <th>approx_height_Y_pix</th>\n",
       "      <th>approx_height_Y_pix_smooth</th>\n",
       "      <th>time_group</th>\n",
       "      <th>height_pix_per_in</th>\n",
       "    </tr>\n",
       "  </thead>\n",
       "  <tbody>\n",
       "    <tr>\n",
       "      <th>0</th>\n",
       "      <td>0</td>\n",
       "      <td>1762.4410</td>\n",
       "      <td>1762.441000</td>\n",
       "      <td>0</td>\n",
       "      <td>25.177729</td>\n",
       "    </tr>\n",
       "    <tr>\n",
       "      <th>1</th>\n",
       "      <td>1</td>\n",
       "      <td>1763.0765</td>\n",
       "      <td>1762.758750</td>\n",
       "      <td>0</td>\n",
       "      <td>25.182268</td>\n",
       "    </tr>\n",
       "    <tr>\n",
       "      <th>2</th>\n",
       "      <td>2</td>\n",
       "      <td>1765.1533</td>\n",
       "      <td>1763.556933</td>\n",
       "      <td>0</td>\n",
       "      <td>25.193670</td>\n",
       "    </tr>\n",
       "    <tr>\n",
       "      <th>3</th>\n",
       "      <td>3</td>\n",
       "      <td>1763.9994</td>\n",
       "      <td>1763.667550</td>\n",
       "      <td>0</td>\n",
       "      <td>25.195251</td>\n",
       "    </tr>\n",
       "    <tr>\n",
       "      <th>4</th>\n",
       "      <td>4</td>\n",
       "      <td>1764.9269</td>\n",
       "      <td>1763.919420</td>\n",
       "      <td>0</td>\n",
       "      <td>25.198849</td>\n",
       "    </tr>\n",
       "  </tbody>\n",
       "</table>\n",
       "</div>"
      ],
      "text/plain": [
       "   frame  approx_height_Y_pix  approx_height_Y_pix_smooth  time_group  \\\n",
       "0      0            1762.4410                 1762.441000           0   \n",
       "1      1            1763.0765                 1762.758750           0   \n",
       "2      2            1765.1533                 1763.556933           0   \n",
       "3      3            1763.9994                 1763.667550           0   \n",
       "4      4            1764.9269                 1763.919420           0   \n",
       "\n",
       "   height_pix_per_in  \n",
       "0          25.177729  \n",
       "1          25.182268  \n",
       "2          25.193670  \n",
       "3          25.195251  \n",
       "4          25.198849  "
      ]
     },
     "execution_count": 18,
     "metadata": {},
     "output_type": "execute_result"
    }
   ],
   "source": [
    "height_df.head()"
   ]
  },
  {
   "cell_type": "code",
   "execution_count": 19,
   "id": "bc31e1d5-dfc4-49e1-8082-e5be561d3877",
   "metadata": {},
   "outputs": [],
   "source": [
    "# mean pix/in from first 10 frames with pixel height data \n",
    "first_height = height_df.dropna(subset=['height_pix_per_in']).iloc[0:20]\n",
    "first_pix_per_in = first_height['height_pix_per_in'].median()\n",
    "# change from current frame to first frame \n",
    "height_df['pix_per_in_change'] = first_pix_per_in - height_df['height_pix_per_in']\n"
   ]
  },
  {
   "cell_type": "code",
   "execution_count": 20,
   "id": "bf43ef20-095b-4f81-8e6c-ab2fca1471ac",
   "metadata": {},
   "outputs": [
    {
     "data": {
      "text/plain": [
       "<Axes: xlabel='frame', ylabel='pix_per_in_change'>"
      ]
     },
     "execution_count": 20,
     "metadata": {},
     "output_type": "execute_result"
    },
    {
     "data": {
      "image/png": "[encoded data removed]",
      "text/plain": [
       "<Figure size 640x480 with 1 Axes>"
      ]
     },
     "metadata": {},
     "output_type": "display_data"
    }
   ],
   "source": [
    "sns.scatterplot(x = 'frame', y = 'pix_per_in_change', data = height_df)"
   ]
  },
  {
   "cell_type": "code",
   "execution_count": 21,
   "id": "b683414b-a22f-494a-8383-9c7cda3a642c",
   "metadata": {},
   "outputs": [],
   "source": [
    "# calc mean, min, max - don't need for loop "
   ]
  },
  {
   "cell_type": "markdown",
   "id": "51c6b7df-1664-4535-b100-07530510dee2",
   "metadata": {},
   "source": [
    "## Idea 3 - normalized changes in pixel size \n",
    "- account for differences in starting position by dividing by pixel size and taking log "
   ]
  },
  {
   "cell_type": "code",
   "execution_count": 22,
   "id": "95552889-6af7-4051-a051-95945f641331",
   "metadata": {},
   "outputs": [
    {
     "data": {
      "text/html": [
       "<div>\n",
       "<style scoped>\n",
       "    .dataframe tbody tr th:only-of-type {\n",
       "        vertical-align: middle;\n",
       "    }\n",
       "\n",
       "    .dataframe tbody tr th {\n",
       "        vertical-align: top;\n",
       "    }\n",
       "\n",
       "    .dataframe thead th {\n",
       "        text-align: right;\n",
       "    }\n",
       "</style>\n",
       "<table border=\"1\" class=\"dataframe\">\n",
       "  <thead>\n",
       "    <tr style=\"text-align: right;\">\n",
       "      <th></th>\n",
       "      <th>frame</th>\n",
       "      <th>approx_height_Y_pix</th>\n",
       "      <th>approx_height_Y_pix_smooth</th>\n",
       "      <th>time_group</th>\n",
       "      <th>height_pix_per_in</th>\n",
       "      <th>pix_per_in_change</th>\n",
       "    </tr>\n",
       "  </thead>\n",
       "  <tbody>\n",
       "    <tr>\n",
       "      <th>0</th>\n",
       "      <td>0</td>\n",
       "      <td>1762.4410</td>\n",
       "      <td>1762.441000</td>\n",
       "      <td>0</td>\n",
       "      <td>25.177729</td>\n",
       "      <td>0.014028</td>\n",
       "    </tr>\n",
       "    <tr>\n",
       "      <th>1</th>\n",
       "      <td>1</td>\n",
       "      <td>1763.0765</td>\n",
       "      <td>1762.758750</td>\n",
       "      <td>0</td>\n",
       "      <td>25.182268</td>\n",
       "      <td>0.009488</td>\n",
       "    </tr>\n",
       "    <tr>\n",
       "      <th>2</th>\n",
       "      <td>2</td>\n",
       "      <td>1765.1533</td>\n",
       "      <td>1763.556933</td>\n",
       "      <td>0</td>\n",
       "      <td>25.193670</td>\n",
       "      <td>-0.001914</td>\n",
       "    </tr>\n",
       "    <tr>\n",
       "      <th>3</th>\n",
       "      <td>3</td>\n",
       "      <td>1763.9994</td>\n",
       "      <td>1763.667550</td>\n",
       "      <td>0</td>\n",
       "      <td>25.195251</td>\n",
       "      <td>-0.003494</td>\n",
       "    </tr>\n",
       "    <tr>\n",
       "      <th>4</th>\n",
       "      <td>4</td>\n",
       "      <td>1764.9269</td>\n",
       "      <td>1763.919420</td>\n",
       "      <td>0</td>\n",
       "      <td>25.198849</td>\n",
       "      <td>-0.007093</td>\n",
       "    </tr>\n",
       "  </tbody>\n",
       "</table>\n",
       "</div>"
      ],
      "text/plain": [
       "   frame  approx_height_Y_pix  approx_height_Y_pix_smooth  time_group  \\\n",
       "0      0            1762.4410                 1762.441000           0   \n",
       "1      1            1763.0765                 1762.758750           0   \n",
       "2      2            1765.1533                 1763.556933           0   \n",
       "3      3            1763.9994                 1763.667550           0   \n",
       "4      4            1764.9269                 1763.919420           0   \n",
       "\n",
       "   height_pix_per_in  pix_per_in_change  \n",
       "0          25.177729           0.014028  \n",
       "1          25.182268           0.009488  \n",
       "2          25.193670          -0.001914  \n",
       "3          25.195251          -0.003494  \n",
       "4          25.198849          -0.007093  "
      ]
     },
     "execution_count": 22,
     "metadata": {},
     "output_type": "execute_result"
    }
   ],
   "source": [
    "height_df.head()"
   ]
  },
  {
   "cell_type": "code",
   "execution_count": 23,
   "id": "e17627af-e187-478b-a22a-4a7d40f6656f",
   "metadata": {},
   "outputs": [],
   "source": [
    "def calc_pix_size_change(start_frame, end_frame, df, fps): \n",
    "    start_row = df.loc[df['frame'] == start_frame]\n",
    "    end_row = df.loc[df['frame'] == end_frame]\n",
    "\n",
    "    # height in pixel at start and end of time group \n",
    "    pix_h_start = start_row['approx_height_Y_pix_smooth'].iloc[0]\n",
    "    pix_h_end = end_row['approx_height_Y_pix_smooth'].iloc[0]\n",
    "\n",
    "    # for consistency, only calculate when walking toward camera - height is getting bigger as walking toward \n",
    "    if pix_h_end > pix_h_start:\n",
    "        # Change in pixel height from start to end \n",
    "        delta_pix_h = pix_h_end - pix_h_start\n",
    "\n",
    "        # change in pixel height relative to start\n",
    "        delta_pix_h_rel = delta_pix_h / pix_h_start\n",
    "\n",
    "        # logarithmic scaling \n",
    "        delta_pix_h_log = math.log(pix_h_end / pix_h_start)\n",
    "\n",
    "    else: \n",
    "        delta_pix_h = np.nan\n",
    "        delta_pix_h_rel = np.nan\n",
    "        delta_pix_h_log = np.nan\n",
    "\n",
    "\n",
    "    return delta_pix_h, delta_pix_h_rel, delta_pix_h_log\n",
    "    "
   ]
  },
  {
   "cell_type": "code",
   "execution_count": 24,
   "id": "1fda09b1-4e41-4682-a71a-e9e3a03c1d29",
   "metadata": {},
   "outputs": [
    {
     "name": "stdout",
     "output_type": "stream",
     "text": [
      "Skipped - contains peak or valley\n",
      "Skipped - contains peak or valley\n",
      "Skipped - contains peak or valley\n",
      "Skipped - contains peak or valley\n",
      "Skipped - contains peak or valley\n"
     ]
    }
   ],
   "source": [
    "depth_proxies_all = []\n",
    "\n",
    "for current_sec_group in height_df['time_group'].unique():\n",
    "    current_height_df = height_df.loc[height_df['time_group'] == current_sec_group]\n",
    "\n",
    "    current_start_frame = current_height_df['frame'].iloc[0]\n",
    "    current_end_frame = current_height_df['frame'].iloc[-1]\n",
    "\n",
    "    # if this current time_group group contains peak or valley, skp \n",
    "    if current_height_df.loc[current_start_frame: current_end_frame, 'frame'].isin(peaks_valleys).any():\n",
    "        print('Skipped - contains peak or valley') \n",
    "        delta_pix_h = np.nan\n",
    "        delta_pix_h_rel = np.nan\n",
    "        delta_pix_h_log = np.nan\n",
    "    else: \n",
    "        delta_pix_h, delta_pix_h_rel, delta_pix_h_log  = calc_pix_size_change(current_start_frame, current_end_frame, height_df, fps)\n",
    "\n",
    "    # combine all time group increments into one array \n",
    "\n",
    "    depth_proxies_all.append({'start_frame' : current_start_frame,\n",
    "                             'delta_pix_h' : delta_pix_h, \n",
    "                             'delta_pix_h_rel' : delta_pix_h_rel,\n",
    "                             'delta_pix_h_log' : delta_pix_h_log})\n",
    "\n",
    "                             \n",
    "# convert array to df \n",
    "depth_proxies_all_df = pd.DataFrame(depth_proxies_all) "
   ]
  },
  {
   "cell_type": "code",
   "execution_count": 25,
   "id": "c94f5f44-14fb-48f5-8656-69f778ddfcc5",
   "metadata": {},
   "outputs": [
    {
     "data": {
      "text/html": [
       "<div>\n",
       "<style scoped>\n",
       "    .dataframe tbody tr th:only-of-type {\n",
       "        vertical-align: middle;\n",
       "    }\n",
       "\n",
       "    .dataframe tbody tr th {\n",
       "        vertical-align: top;\n",
       "    }\n",
       "\n",
       "    .dataframe thead th {\n",
       "        text-align: right;\n",
       "    }\n",
       "</style>\n",
       "<table border=\"1\" class=\"dataframe\">\n",
       "  <thead>\n",
       "    <tr style=\"text-align: right;\">\n",
       "      <th></th>\n",
       "      <th>start_frame</th>\n",
       "      <th>delta_pix_h</th>\n",
       "      <th>delta_pix_h_rel</th>\n",
       "      <th>delta_pix_h_log</th>\n",
       "    </tr>\n",
       "  </thead>\n",
       "  <tbody>\n",
       "    <tr>\n",
       "      <th>0</th>\n",
       "      <td>0</td>\n",
       "      <td>NaN</td>\n",
       "      <td>NaN</td>\n",
       "      <td>NaN</td>\n",
       "    </tr>\n",
       "    <tr>\n",
       "      <th>1</th>\n",
       "      <td>30</td>\n",
       "      <td>NaN</td>\n",
       "      <td>NaN</td>\n",
       "      <td>NaN</td>\n",
       "    </tr>\n",
       "    <tr>\n",
       "      <th>2</th>\n",
       "      <td>60</td>\n",
       "      <td>NaN</td>\n",
       "      <td>NaN</td>\n",
       "      <td>NaN</td>\n",
       "    </tr>\n",
       "    <tr>\n",
       "      <th>3</th>\n",
       "      <td>90</td>\n",
       "      <td>NaN</td>\n",
       "      <td>NaN</td>\n",
       "      <td>NaN</td>\n",
       "    </tr>\n",
       "    <tr>\n",
       "      <th>4</th>\n",
       "      <td>120</td>\n",
       "      <td>NaN</td>\n",
       "      <td>NaN</td>\n",
       "      <td>NaN</td>\n",
       "    </tr>\n",
       "    <tr>\n",
       "      <th>5</th>\n",
       "      <td>150</td>\n",
       "      <td>NaN</td>\n",
       "      <td>NaN</td>\n",
       "      <td>NaN</td>\n",
       "    </tr>\n",
       "    <tr>\n",
       "      <th>6</th>\n",
       "      <td>180</td>\n",
       "      <td>NaN</td>\n",
       "      <td>NaN</td>\n",
       "      <td>NaN</td>\n",
       "    </tr>\n",
       "    <tr>\n",
       "      <th>7</th>\n",
       "      <td>210</td>\n",
       "      <td>NaN</td>\n",
       "      <td>NaN</td>\n",
       "      <td>NaN</td>\n",
       "    </tr>\n",
       "    <tr>\n",
       "      <th>8</th>\n",
       "      <td>240</td>\n",
       "      <td>NaN</td>\n",
       "      <td>NaN</td>\n",
       "      <td>NaN</td>\n",
       "    </tr>\n",
       "    <tr>\n",
       "      <th>9</th>\n",
       "      <td>270</td>\n",
       "      <td>98.753677</td>\n",
       "      <td>0.233273</td>\n",
       "      <td>0.209672</td>\n",
       "    </tr>\n",
       "    <tr>\n",
       "      <th>10</th>\n",
       "      <td>300</td>\n",
       "      <td>141.516454</td>\n",
       "      <td>0.269125</td>\n",
       "      <td>0.238327</td>\n",
       "    </tr>\n",
       "    <tr>\n",
       "      <th>11</th>\n",
       "      <td>330</td>\n",
       "      <td>259.672928</td>\n",
       "      <td>0.384994</td>\n",
       "      <td>0.325696</td>\n",
       "    </tr>\n",
       "    <tr>\n",
       "      <th>12</th>\n",
       "      <td>360</td>\n",
       "      <td>264.352755</td>\n",
       "      <td>0.279263</td>\n",
       "      <td>0.246284</td>\n",
       "    </tr>\n",
       "    <tr>\n",
       "      <th>13</th>\n",
       "      <td>390</td>\n",
       "      <td>NaN</td>\n",
       "      <td>NaN</td>\n",
       "      <td>NaN</td>\n",
       "    </tr>\n",
       "    <tr>\n",
       "      <th>14</th>\n",
       "      <td>420</td>\n",
       "      <td>NaN</td>\n",
       "      <td>NaN</td>\n",
       "      <td>NaN</td>\n",
       "    </tr>\n",
       "    <tr>\n",
       "      <th>15</th>\n",
       "      <td>450</td>\n",
       "      <td>NaN</td>\n",
       "      <td>NaN</td>\n",
       "      <td>NaN</td>\n",
       "    </tr>\n",
       "    <tr>\n",
       "      <th>16</th>\n",
       "      <td>480</td>\n",
       "      <td>NaN</td>\n",
       "      <td>NaN</td>\n",
       "      <td>NaN</td>\n",
       "    </tr>\n",
       "    <tr>\n",
       "      <th>17</th>\n",
       "      <td>510</td>\n",
       "      <td>NaN</td>\n",
       "      <td>NaN</td>\n",
       "      <td>NaN</td>\n",
       "    </tr>\n",
       "    <tr>\n",
       "      <th>18</th>\n",
       "      <td>540</td>\n",
       "      <td>NaN</td>\n",
       "      <td>NaN</td>\n",
       "      <td>NaN</td>\n",
       "    </tr>\n",
       "    <tr>\n",
       "      <th>19</th>\n",
       "      <td>570</td>\n",
       "      <td>NaN</td>\n",
       "      <td>NaN</td>\n",
       "      <td>NaN</td>\n",
       "    </tr>\n",
       "    <tr>\n",
       "      <th>20</th>\n",
       "      <td>600</td>\n",
       "      <td>36.332827</td>\n",
       "      <td>0.096243</td>\n",
       "      <td>0.091889</td>\n",
       "    </tr>\n",
       "    <tr>\n",
       "      <th>21</th>\n",
       "      <td>630</td>\n",
       "      <td>101.422570</td>\n",
       "      <td>0.244341</td>\n",
       "      <td>0.218606</td>\n",
       "    </tr>\n",
       "    <tr>\n",
       "      <th>22</th>\n",
       "      <td>660</td>\n",
       "      <td>145.955970</td>\n",
       "      <td>0.281048</td>\n",
       "      <td>0.247679</td>\n",
       "    </tr>\n",
       "    <tr>\n",
       "      <th>23</th>\n",
       "      <td>690</td>\n",
       "      <td>226.843721</td>\n",
       "      <td>0.337492</td>\n",
       "      <td>0.290797</td>\n",
       "    </tr>\n",
       "    <tr>\n",
       "      <th>24</th>\n",
       "      <td>720</td>\n",
       "      <td>225.867268</td>\n",
       "      <td>0.247909</td>\n",
       "      <td>0.221470</td>\n",
       "    </tr>\n",
       "    <tr>\n",
       "      <th>25</th>\n",
       "      <td>750</td>\n",
       "      <td>105.914303</td>\n",
       "      <td>0.092712</td>\n",
       "      <td>0.088663</td>\n",
       "    </tr>\n",
       "    <tr>\n",
       "      <th>26</th>\n",
       "      <td>780</td>\n",
       "      <td>8.392356</td>\n",
       "      <td>0.006707</td>\n",
       "      <td>0.006685</td>\n",
       "    </tr>\n",
       "  </tbody>\n",
       "</table>\n",
       "</div>"
      ],
      "text/plain": [
       "    start_frame  delta_pix_h  delta_pix_h_rel  delta_pix_h_log\n",
       "0             0          NaN              NaN              NaN\n",
       "1            30          NaN              NaN              NaN\n",
       "2            60          NaN              NaN              NaN\n",
       "3            90          NaN              NaN              NaN\n",
       "4           120          NaN              NaN              NaN\n",
       "5           150          NaN              NaN              NaN\n",
       "6           180          NaN              NaN              NaN\n",
       "7           210          NaN              NaN              NaN\n",
       "8           240          NaN              NaN              NaN\n",
       "9           270    98.753677         0.233273         0.209672\n",
       "10          300   141.516454         0.269125         0.238327\n",
       "11          330   259.672928         0.384994         0.325696\n",
       "12          360   264.352755         0.279263         0.246284\n",
       "13          390          NaN              NaN              NaN\n",
       "14          420          NaN              NaN              NaN\n",
       "15          450          NaN              NaN              NaN\n",
       "16          480          NaN              NaN              NaN\n",
       "17          510          NaN              NaN              NaN\n",
       "18          540          NaN              NaN              NaN\n",
       "19          570          NaN              NaN              NaN\n",
       "20          600    36.332827         0.096243         0.091889\n",
       "21          630   101.422570         0.244341         0.218606\n",
       "22          660   145.955970         0.281048         0.247679\n",
       "23          690   226.843721         0.337492         0.290797\n",
       "24          720   225.867268         0.247909         0.221470\n",
       "25          750   105.914303         0.092712         0.088663\n",
       "26          780     8.392356         0.006707         0.006685"
      ]
     },
     "execution_count": 25,
     "metadata": {},
     "output_type": "execute_result"
    }
   ],
   "source": [
    "depth_proxies_all_df"
   ]
  },
  {
   "cell_type": "code",
   "execution_count": 26,
   "id": "9432ca82-8dd1-44f9-9597-967a72662e8b",
   "metadata": {},
   "outputs": [
    {
     "ename": "NameError",
     "evalue": "name 'start_frames_all' is not defined",
     "output_type": "error",
     "traceback": [
      "\u001b[1;31m---------------------------------------------------------------------------\u001b[0m",
      "\u001b[1;31mNameError\u001b[0m                                 Traceback (most recent call last)",
      "Cell \u001b[1;32mIn[26], line 1\u001b[0m\n\u001b[1;32m----> 1\u001b[0m plt\u001b[38;5;241m.\u001b[39mscatter(x \u001b[38;5;241m=\u001b[39m \u001b[43mstart_frames_all\u001b[49m, y \u001b[38;5;241m=\u001b[39m delta_pix_h_all, color \u001b[38;5;241m=\u001b[39m \u001b[38;5;124m'\u001b[39m\u001b[38;5;124morange\u001b[39m\u001b[38;5;124m'\u001b[39m, label \u001b[38;5;241m=\u001b[39m \u001b[38;5;124m'\u001b[39m\u001b[38;5;124mdelta_pix_h_all\u001b[39m\u001b[38;5;124m'\u001b[39m)\n\u001b[0;32m      2\u001b[0m \u001b[38;5;28;01mfor\u001b[39;00m time_group \u001b[38;5;129;01min\u001b[39;00m height_df[\u001b[38;5;124m'\u001b[39m\u001b[38;5;124mtime_group\u001b[39m\u001b[38;5;124m'\u001b[39m]\u001b[38;5;241m.\u001b[39munique(): \n\u001b[0;32m      3\u001b[0m     plt\u001b[38;5;241m.\u001b[39maxvline(x \u001b[38;5;241m=\u001b[39m time_group \u001b[38;5;241m*\u001b[39m (fps), color \u001b[38;5;241m=\u001b[39m \u001b[38;5;124m'\u001b[39m\u001b[38;5;124mgrey\u001b[39m\u001b[38;5;124m'\u001b[39m, alpha \u001b[38;5;241m=\u001b[39m \u001b[38;5;241m0.5\u001b[39m)\n",
      "\u001b[1;31mNameError\u001b[0m: name 'start_frames_all' is not defined"
     ]
    }
   ],
   "source": [
    "plt.scatter(x = start_frames_all, y = delta_pix_h_all, color = 'orange', label = 'delta_pix_h_all')\n",
    "for time_group in height_df['time_group'].unique(): \n",
    "    plt.axvline(x = time_group * (fps), color = 'grey', alpha = 0.5)\n",
    "\n",
    "for peak in peaks:\n",
    "    print(peak)\n",
    "    plt.axvline(x = peak, color = 'red', alpha = 0.5)\n",
    "\n",
    "for valley in valleys:\n",
    "    print(valley)\n",
    "    plt.axvline(x = valley, color = 'blue', alpha = 0.5)\n",
    "plt.legend()"
   ]
  },
  {
   "cell_type": "code",
   "execution_count": null,
   "id": "4782aa88-8e87-4f78-929a-d51702c9caa0",
   "metadata": {},
   "outputs": [],
   "source": [
    "plt.scatter(x = start_frames_all, y = delta_pix_h_rel_all, color = 'blue', label = 'delta_pix_h_rel_all')\n",
    "\n",
    "for time_group in height_df['time_group'].unique(): \n",
    "    plt.axvline(x = time_group * (fps), color = 'grey', alpha = 0.5)\n",
    "\n",
    "for peak in peaks:\n",
    "    print(peak)\n",
    "    plt.axvline(x = peak, color = 'red', alpha = 0.5)\n",
    "\n",
    "for valley in valleys:\n",
    "    print(valley)\n",
    "    plt.axvline(x = valley, color = 'blue', alpha = 0.5)\n",
    "plt.legend()"
   ]
  },
  {
   "cell_type": "code",
   "execution_count": null,
   "id": "1c2d7c5d-5daa-458a-9969-09a033351be4",
   "metadata": {},
   "outputs": [],
   "source": [
    "plt.scatter(x = start_frames_all, y = delta_pix_h_log_all, color = 'red', label = 'delta_pix_h_log_all')\n",
    "\n",
    "for time_group in height_df['time_group'].unique(): \n",
    "    plt.axvline(x = time_group * (fps), color = 'grey', alpha = 0.5)\n",
    "\n",
    "for peak in peaks:\n",
    "    print(peak)\n",
    "    plt.axvline(x = peak, color = 'red', alpha = 0.5)\n",
    "\n",
    "for valley in valleys:\n",
    "    print(valley)\n",
    "    plt.axvline(x = valley, color = 'blue', alpha = 0.5)\n",
    "plt.legend()"
   ]
  }
 ],
 "metadata": {
  "kernelspec": {
   "display_name": "venv_home_video_analysis_2",
   "language": "python",
   "name": "venv_home_video_analysis_2"
  },
  "language_info": {
   "codemirror_mode": {
    "name": "ipython",
    "version": 3
   },
   "file_extension": ".py",
   "mimetype": "text/x-python",
   "name": "python",
   "nbconvert_exporter": "python",
   "pygments_lexer": "ipython3",
   "version": "3.10.11"
  }
 },
 "nbformat": 4,
 "nbformat_minor": 5
}
