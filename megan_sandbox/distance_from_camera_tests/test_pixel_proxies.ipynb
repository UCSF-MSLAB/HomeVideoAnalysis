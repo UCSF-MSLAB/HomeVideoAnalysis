{
 "cells": [
  {
   "cell_type": "code",
   "execution_count": 1,
   "id": "c95a6f8a-3079-47d1-bbf1-b4668ae6d25d",
   "metadata": {},
   "outputs": [],
   "source": [
    "import pandas as pd \n",
    "import numpy as np \n",
    "import os \n",
    "import seaborn as sns \n",
    "import matplotlib.pyplot as plt\n",
    "import math\n",
    "import scipy.signal as sig"
   ]
  },
  {
   "cell_type": "code",
   "execution_count": 2,
   "id": "32019666-0c88-4e57-9db1-fe30036bea47",
   "metadata": {},
   "outputs": [],
   "source": [
    "# Set input path to run all analysis \n",
    "# folder with all raw pose data (dir_in_path) \n",
    "raw_pose_data_in_path = r'C:\\Users\\mmccu\\Box\\MM_Personal\\5_Projects\\BoveLab\\3_Data_and_Code\\gait_bw_home_outputs_004'\n",
    "# fps for zeno = 30\n",
    "fps = 30\n",
    "\n",
    "output_folder = r'C:\\Users\\mmccu\\Box\\MM_Personal\\5_Projects\\BoveLab\\3_Data_and_Code\\test_velocity_01302025\\home_all_height_proxy_outputs'\n",
    "output_plots = r'C:\\Users\\mmccu\\Box\\MM_Personal\\5_Projects\\BoveLab\\3_Data_and_Code\\test_velocity_01302025\\home_all_height_proxy_outputs\\pix_height_plots'\n",
    "csv_file_name = 'home_depth_proxy.csv'"
   ]
  },
  {
   "cell_type": "code",
   "execution_count": 3,
   "id": "fe812f23-ffbf-4c52-9e29-0e64d62d2f09",
   "metadata": {},
   "outputs": [],
   "source": [
    "def calc_pix_size_change(start_frame, end_frame, df, fps): \n",
    "    start_row = df.loc[df['frame'] == start_frame]\n",
    "    end_row = df.loc[df['frame'] == end_frame]\n",
    "\n",
    "    # height in pixel at start and end of time group \n",
    "    pix_h_start = start_row['approx_height_Y_pix_smooth'].iloc[0]\n",
    "    pix_h_end = end_row['approx_height_Y_pix_smooth'].iloc[0]\n",
    "\n",
    "    # for consistency, only calculate when walking toward camera - height is getting bigger as walking toward \n",
    "    if pix_h_end > pix_h_start:\n",
    "        # Change in pixel height from start to end \n",
    "        delta_pix_h = pix_h_end - pix_h_start\n",
    "\n",
    "        # change in pixel height relative to start\n",
    "        delta_pix_h_rel = delta_pix_h / pix_h_start\n",
    "\n",
    "        # logarithmic scaling \n",
    "        delta_pix_h_log = math.log(pix_h_end / pix_h_start)\n",
    "\n",
    "    else: \n",
    "        delta_pix_h = np.nan\n",
    "        delta_pix_h_rel = np.nan\n",
    "        delta_pix_h_log = np.nan\n",
    "\n",
    "\n",
    "    return delta_pix_h, delta_pix_h_rel, delta_pix_h_log"
   ]
  },
  {
   "cell_type": "code",
   "execution_count": 4,
   "id": "d1443b3c-73d7-4942-b8f0-8d073d917a90",
   "metadata": {
    "scrolled": true
   },
   "outputs": [
    {
     "name": "stdout",
     "output_type": "stream",
     "text": [
      "C:\\Users\\mmccu\\Box\\MM_Personal\\5_Projects\\BoveLab\\3_Data_and_Code\\gait_bw_home_outputs_004\\BW-0018\\10-24-23\\000_raw_pose_data\\gait_vertical_left_yolo.csv\n",
      "C:\\Users\\mmccu\\Box\\MM_Personal\\5_Projects\\BoveLab\\3_Data_and_Code\\gait_bw_home_outputs_004\\BW-0018\\10-24-23\\000_raw_pose_data\\gait_vertical_right_yolo.csv\n"
     ]
    },
    {
     "name": "stderr",
     "output_type": "stream",
     "text": [
      "C:\\Users\\mmccu\\AppData\\Local\\Temp\\ipykernel_16912\\802653250.py:15: RuntimeWarning: divide by zero encountered in scalar divide\n",
      "  delta_pix_h_rel = delta_pix_h / pix_h_start\n",
      "C:\\Users\\mmccu\\AppData\\Local\\Temp\\ipykernel_16912\\802653250.py:18: RuntimeWarning: divide by zero encountered in scalar divide\n",
      "  delta_pix_h_log = math.log(pix_h_end / pix_h_start)\n"
     ]
    },
    {
     "name": "stdout",
     "output_type": "stream",
     "text": [
      "C:\\Users\\mmccu\\Box\\MM_Personal\\5_Projects\\BoveLab\\3_Data_and_Code\\gait_bw_home_outputs_004\\BW-0023\\05-05-23\\000_raw_pose_data\\gait_vertical_left_yolo.csv\n",
      "C:\\Users\\mmccu\\Box\\MM_Personal\\5_Projects\\BoveLab\\3_Data_and_Code\\gait_bw_home_outputs_004\\BW-0023\\05-05-23\\000_raw_pose_data\\gait_vertical_right_yolo.csv\n",
      "C:\\Users\\mmccu\\Box\\MM_Personal\\5_Projects\\BoveLab\\3_Data_and_Code\\gait_bw_home_outputs_004\\BW-0023\\10-23-23\\000_raw_pose_data\\gait_vertical_left_yolo.csv\n",
      "C:\\Users\\mmccu\\Box\\MM_Personal\\5_Projects\\BoveLab\\3_Data_and_Code\\gait_bw_home_outputs_004\\BW-0023\\10-23-23\\000_raw_pose_data\\gait_vertical_right_yolo.csv\n",
      "C:\\Users\\mmccu\\Box\\MM_Personal\\5_Projects\\BoveLab\\3_Data_and_Code\\gait_bw_home_outputs_004\\BW-0025\\11-28-2023\\000_raw_pose_data\\gait_vertical_left_2_yolo.csv\n"
     ]
    },
    {
     "name": "stderr",
     "output_type": "stream",
     "text": [
      "C:\\Users\\mmccu\\AppData\\Local\\Temp\\ipykernel_16912\\802653250.py:15: RuntimeWarning: divide by zero encountered in scalar divide\n",
      "  delta_pix_h_rel = delta_pix_h / pix_h_start\n",
      "C:\\Users\\mmccu\\AppData\\Local\\Temp\\ipykernel_16912\\802653250.py:18: RuntimeWarning: divide by zero encountered in scalar divide\n",
      "  delta_pix_h_log = math.log(pix_h_end / pix_h_start)\n"
     ]
    },
    {
     "name": "stdout",
     "output_type": "stream",
     "text": [
      "C:\\Users\\mmccu\\Box\\MM_Personal\\5_Projects\\BoveLab\\3_Data_and_Code\\gait_bw_home_outputs_004\\BW-0025\\11-28-2023\\000_raw_pose_data\\gait_vertical_left_yolo.csv\n"
     ]
    },
    {
     "name": "stderr",
     "output_type": "stream",
     "text": [
      "C:\\Users\\mmccu\\AppData\\Local\\Temp\\ipykernel_16912\\802653250.py:15: RuntimeWarning: divide by zero encountered in scalar divide\n",
      "  delta_pix_h_rel = delta_pix_h / pix_h_start\n",
      "C:\\Users\\mmccu\\AppData\\Local\\Temp\\ipykernel_16912\\802653250.py:18: RuntimeWarning: divide by zero encountered in scalar divide\n",
      "  delta_pix_h_log = math.log(pix_h_end / pix_h_start)\n"
     ]
    },
    {
     "name": "stdout",
     "output_type": "stream",
     "text": [
      "C:\\Users\\mmccu\\Box\\MM_Personal\\5_Projects\\BoveLab\\3_Data_and_Code\\gait_bw_home_outputs_004\\BW-0025\\11-28-2023\\000_raw_pose_data\\gait_vertical_right_2_yolo.csv\n"
     ]
    },
    {
     "name": "stderr",
     "output_type": "stream",
     "text": [
      "C:\\Users\\mmccu\\AppData\\Local\\Temp\\ipykernel_16912\\802653250.py:15: RuntimeWarning: divide by zero encountered in scalar divide\n",
      "  delta_pix_h_rel = delta_pix_h / pix_h_start\n",
      "C:\\Users\\mmccu\\AppData\\Local\\Temp\\ipykernel_16912\\802653250.py:18: RuntimeWarning: divide by zero encountered in scalar divide\n",
      "  delta_pix_h_log = math.log(pix_h_end / pix_h_start)\n"
     ]
    },
    {
     "name": "stdout",
     "output_type": "stream",
     "text": [
      "C:\\Users\\mmccu\\Box\\MM_Personal\\5_Projects\\BoveLab\\3_Data_and_Code\\gait_bw_home_outputs_004\\BW-0025\\11-28-2023\\000_raw_pose_data\\gait_vertical_right_yolo.csv\n"
     ]
    },
    {
     "name": "stderr",
     "output_type": "stream",
     "text": [
      "C:\\Users\\mmccu\\AppData\\Local\\Temp\\ipykernel_16912\\802653250.py:15: RuntimeWarning: divide by zero encountered in scalar divide\n",
      "  delta_pix_h_rel = delta_pix_h / pix_h_start\n",
      "C:\\Users\\mmccu\\AppData\\Local\\Temp\\ipykernel_16912\\802653250.py:18: RuntimeWarning: divide by zero encountered in scalar divide\n",
      "  delta_pix_h_log = math.log(pix_h_end / pix_h_start)\n"
     ]
    },
    {
     "name": "stdout",
     "output_type": "stream",
     "text": [
      "C:\\Users\\mmccu\\Box\\MM_Personal\\5_Projects\\BoveLab\\3_Data_and_Code\\gait_bw_home_outputs_004\\BW-0045\\01-17-2024\\000_raw_pose_data\\gait_vertical_left_yolo.csv\n"
     ]
    },
    {
     "name": "stderr",
     "output_type": "stream",
     "text": [
      "C:\\Users\\mmccu\\AppData\\Local\\Temp\\ipykernel_16912\\802653250.py:15: RuntimeWarning: divide by zero encountered in scalar divide\n",
      "  delta_pix_h_rel = delta_pix_h / pix_h_start\n",
      "C:\\Users\\mmccu\\AppData\\Local\\Temp\\ipykernel_16912\\802653250.py:18: RuntimeWarning: divide by zero encountered in scalar divide\n",
      "  delta_pix_h_log = math.log(pix_h_end / pix_h_start)\n"
     ]
    },
    {
     "name": "stdout",
     "output_type": "stream",
     "text": [
      "C:\\Users\\mmccu\\Box\\MM_Personal\\5_Projects\\BoveLab\\3_Data_and_Code\\gait_bw_home_outputs_004\\BW-0045\\01-17-2024\\000_raw_pose_data\\gait_vertical_right_yolo.csv\n"
     ]
    },
    {
     "name": "stderr",
     "output_type": "stream",
     "text": [
      "C:\\Users\\mmccu\\AppData\\Local\\Temp\\ipykernel_16912\\802653250.py:15: RuntimeWarning: divide by zero encountered in scalar divide\n",
      "  delta_pix_h_rel = delta_pix_h / pix_h_start\n",
      "C:\\Users\\mmccu\\AppData\\Local\\Temp\\ipykernel_16912\\802653250.py:18: RuntimeWarning: divide by zero encountered in scalar divide\n",
      "  delta_pix_h_log = math.log(pix_h_end / pix_h_start)\n"
     ]
    },
    {
     "name": "stdout",
     "output_type": "stream",
     "text": [
      "C:\\Users\\mmccu\\Box\\MM_Personal\\5_Projects\\BoveLab\\3_Data_and_Code\\gait_bw_home_outputs_004\\BW-0050\\2-9-2024\\000_raw_pose_data\\gait_vertical_left_yolo.csv\n"
     ]
    },
    {
     "name": "stderr",
     "output_type": "stream",
     "text": [
      "C:\\Users\\mmccu\\AppData\\Local\\Temp\\ipykernel_16912\\802653250.py:15: RuntimeWarning: divide by zero encountered in scalar divide\n",
      "  delta_pix_h_rel = delta_pix_h / pix_h_start\n",
      "C:\\Users\\mmccu\\AppData\\Local\\Temp\\ipykernel_16912\\802653250.py:18: RuntimeWarning: divide by zero encountered in scalar divide\n",
      "  delta_pix_h_log = math.log(pix_h_end / pix_h_start)\n"
     ]
    },
    {
     "name": "stdout",
     "output_type": "stream",
     "text": [
      "C:\\Users\\mmccu\\Box\\MM_Personal\\5_Projects\\BoveLab\\3_Data_and_Code\\gait_bw_home_outputs_004\\BW-0050\\2-9-2024\\000_raw_pose_data\\gait_vertical_right_yolo.csv\n"
     ]
    },
    {
     "name": "stderr",
     "output_type": "stream",
     "text": [
      "C:\\Users\\mmccu\\AppData\\Local\\Temp\\ipykernel_16912\\802653250.py:15: RuntimeWarning: divide by zero encountered in scalar divide\n",
      "  delta_pix_h_rel = delta_pix_h / pix_h_start\n",
      "C:\\Users\\mmccu\\AppData\\Local\\Temp\\ipykernel_16912\\802653250.py:18: RuntimeWarning: divide by zero encountered in scalar divide\n",
      "  delta_pix_h_log = math.log(pix_h_end / pix_h_start)\n"
     ]
    },
    {
     "name": "stdout",
     "output_type": "stream",
     "text": [
      "C:\\Users\\mmccu\\Box\\MM_Personal\\5_Projects\\BoveLab\\3_Data_and_Code\\gait_bw_home_outputs_004\\BW-0053\\4-17-2024\\000_raw_pose_data\\gait_vertical_left_yolo.csv\n"
     ]
    },
    {
     "name": "stderr",
     "output_type": "stream",
     "text": [
      "C:\\Users\\mmccu\\AppData\\Local\\Temp\\ipykernel_16912\\802653250.py:15: RuntimeWarning: divide by zero encountered in scalar divide\n",
      "  delta_pix_h_rel = delta_pix_h / pix_h_start\n",
      "C:\\Users\\mmccu\\AppData\\Local\\Temp\\ipykernel_16912\\802653250.py:18: RuntimeWarning: divide by zero encountered in scalar divide\n",
      "  delta_pix_h_log = math.log(pix_h_end / pix_h_start)\n"
     ]
    },
    {
     "name": "stdout",
     "output_type": "stream",
     "text": [
      "C:\\Users\\mmccu\\Box\\MM_Personal\\5_Projects\\BoveLab\\3_Data_and_Code\\gait_bw_home_outputs_004\\BW-0053\\4-17-2024\\000_raw_pose_data\\gait_vertical_right_yolo.csv\n"
     ]
    },
    {
     "name": "stderr",
     "output_type": "stream",
     "text": [
      "C:\\Users\\mmccu\\AppData\\Local\\Temp\\ipykernel_16912\\802653250.py:15: RuntimeWarning: divide by zero encountered in scalar divide\n",
      "  delta_pix_h_rel = delta_pix_h / pix_h_start\n",
      "C:\\Users\\mmccu\\AppData\\Local\\Temp\\ipykernel_16912\\802653250.py:18: RuntimeWarning: divide by zero encountered in scalar divide\n",
      "  delta_pix_h_log = math.log(pix_h_end / pix_h_start)\n"
     ]
    },
    {
     "name": "stdout",
     "output_type": "stream",
     "text": [
      "C:\\Users\\mmccu\\Box\\MM_Personal\\5_Projects\\BoveLab\\3_Data_and_Code\\gait_bw_home_outputs_004\\BW-0054\\2-13-2024\\000_raw_pose_data\\gait_vertical_left_yolo.csv\n",
      "C:\\Users\\mmccu\\Box\\MM_Personal\\5_Projects\\BoveLab\\3_Data_and_Code\\gait_bw_home_outputs_004\\BW-0054\\2-13-2024\\000_raw_pose_data\\gait_vertical_right_yolo.csv\n"
     ]
    },
    {
     "name": "stderr",
     "output_type": "stream",
     "text": [
      "C:\\Users\\mmccu\\AppData\\Local\\Temp\\ipykernel_16912\\802653250.py:15: RuntimeWarning: divide by zero encountered in scalar divide\n",
      "  delta_pix_h_rel = delta_pix_h / pix_h_start\n",
      "C:\\Users\\mmccu\\AppData\\Local\\Temp\\ipykernel_16912\\802653250.py:18: RuntimeWarning: divide by zero encountered in scalar divide\n",
      "  delta_pix_h_log = math.log(pix_h_end / pix_h_start)\n"
     ]
    },
    {
     "name": "stdout",
     "output_type": "stream",
     "text": [
      "C:\\Users\\mmccu\\Box\\MM_Personal\\5_Projects\\BoveLab\\3_Data_and_Code\\gait_bw_home_outputs_004\\BW-0114\\09-05-2023\\000_raw_pose_data\\gait_vertical_left_yolo.csv\n",
      "C:\\Users\\mmccu\\Box\\MM_Personal\\5_Projects\\BoveLab\\3_Data_and_Code\\gait_bw_home_outputs_004\\BW-0114\\09-05-2023\\000_raw_pose_data\\gait_vertical_right_yolo.csv\n",
      "C:\\Users\\mmccu\\Box\\MM_Personal\\5_Projects\\BoveLab\\3_Data_and_Code\\gait_bw_home_outputs_004\\BW-0122\\05-08-2024\\000_raw_pose_data\\gait_vertical_right_yolo.csv\n",
      "C:\\Users\\mmccu\\Box\\MM_Personal\\5_Projects\\BoveLab\\3_Data_and_Code\\gait_bw_home_outputs_004\\BW-0126\\05-05-2023\\000_raw_pose_data\\gait_vertical_left_yolo.csv\n"
     ]
    },
    {
     "name": "stderr",
     "output_type": "stream",
     "text": [
      "C:\\Users\\mmccu\\AppData\\Local\\Temp\\ipykernel_16912\\802653250.py:15: RuntimeWarning: divide by zero encountered in scalar divide\n",
      "  delta_pix_h_rel = delta_pix_h / pix_h_start\n",
      "C:\\Users\\mmccu\\AppData\\Local\\Temp\\ipykernel_16912\\802653250.py:18: RuntimeWarning: divide by zero encountered in scalar divide\n",
      "  delta_pix_h_log = math.log(pix_h_end / pix_h_start)\n"
     ]
    },
    {
     "name": "stdout",
     "output_type": "stream",
     "text": [
      "C:\\Users\\mmccu\\Box\\MM_Personal\\5_Projects\\BoveLab\\3_Data_and_Code\\gait_bw_home_outputs_004\\BW-0126\\05-05-2023\\000_raw_pose_data\\gait_vertical_right_yolo.csv\n"
     ]
    },
    {
     "name": "stderr",
     "output_type": "stream",
     "text": [
      "C:\\Users\\mmccu\\AppData\\Local\\Temp\\ipykernel_16912\\802653250.py:15: RuntimeWarning: divide by zero encountered in scalar divide\n",
      "  delta_pix_h_rel = delta_pix_h / pix_h_start\n",
      "C:\\Users\\mmccu\\AppData\\Local\\Temp\\ipykernel_16912\\802653250.py:18: RuntimeWarning: divide by zero encountered in scalar divide\n",
      "  delta_pix_h_log = math.log(pix_h_end / pix_h_start)\n"
     ]
    },
    {
     "name": "stdout",
     "output_type": "stream",
     "text": [
      "C:\\Users\\mmccu\\Box\\MM_Personal\\5_Projects\\BoveLab\\3_Data_and_Code\\gait_bw_home_outputs_004\\BW-0126\\05-09-2024\\000_raw_pose_data\\gait_vertical_left_yolo.csv\n"
     ]
    },
    {
     "name": "stderr",
     "output_type": "stream",
     "text": [
      "C:\\Users\\mmccu\\AppData\\Local\\Temp\\ipykernel_16912\\802653250.py:15: RuntimeWarning: divide by zero encountered in scalar divide\n",
      "  delta_pix_h_rel = delta_pix_h / pix_h_start\n",
      "C:\\Users\\mmccu\\AppData\\Local\\Temp\\ipykernel_16912\\802653250.py:18: RuntimeWarning: divide by zero encountered in scalar divide\n",
      "  delta_pix_h_log = math.log(pix_h_end / pix_h_start)\n"
     ]
    },
    {
     "name": "stdout",
     "output_type": "stream",
     "text": [
      "C:\\Users\\mmccu\\Box\\MM_Personal\\5_Projects\\BoveLab\\3_Data_and_Code\\gait_bw_home_outputs_004\\BW-0126\\05-09-2024\\000_raw_pose_data\\gait_vertical_right_yolo.csv\n"
     ]
    },
    {
     "name": "stderr",
     "output_type": "stream",
     "text": [
      "C:\\Users\\mmccu\\AppData\\Local\\Temp\\ipykernel_16912\\802653250.py:15: RuntimeWarning: divide by zero encountered in scalar divide\n",
      "  delta_pix_h_rel = delta_pix_h / pix_h_start\n",
      "C:\\Users\\mmccu\\AppData\\Local\\Temp\\ipykernel_16912\\802653250.py:18: RuntimeWarning: divide by zero encountered in scalar divide\n",
      "  delta_pix_h_log = math.log(pix_h_end / pix_h_start)\n"
     ]
    },
    {
     "name": "stdout",
     "output_type": "stream",
     "text": [
      "C:\\Users\\mmccu\\Box\\MM_Personal\\5_Projects\\BoveLab\\3_Data_and_Code\\gait_bw_home_outputs_004\\BW-0137\\05-28-2024\\000_raw_pose_data\\gait_vertical_left_yolo.csv\n",
      "C:\\Users\\mmccu\\Box\\MM_Personal\\5_Projects\\BoveLab\\3_Data_and_Code\\gait_bw_home_outputs_004\\BW-0137\\05-28-2024\\000_raw_pose_data\\gait_vertical_right_yolo.csv\n",
      "C:\\Users\\mmccu\\Box\\MM_Personal\\5_Projects\\BoveLab\\3_Data_and_Code\\gait_bw_home_outputs_004\\BW-0182\\2-22-2024\\000_raw_pose_data\\gait_vertical_left_yolo.csv\n"
     ]
    },
    {
     "name": "stderr",
     "output_type": "stream",
     "text": [
      "C:\\Users\\mmccu\\AppData\\Local\\Temp\\ipykernel_16912\\802653250.py:15: RuntimeWarning: divide by zero encountered in scalar divide\n",
      "  delta_pix_h_rel = delta_pix_h / pix_h_start\n",
      "C:\\Users\\mmccu\\AppData\\Local\\Temp\\ipykernel_16912\\802653250.py:18: RuntimeWarning: divide by zero encountered in scalar divide\n",
      "  delta_pix_h_log = math.log(pix_h_end / pix_h_start)\n"
     ]
    },
    {
     "name": "stdout",
     "output_type": "stream",
     "text": [
      "C:\\Users\\mmccu\\Box\\MM_Personal\\5_Projects\\BoveLab\\3_Data_and_Code\\gait_bw_home_outputs_004\\BW-0182\\2-22-2024\\000_raw_pose_data\\gait_vertical_right_yolo.csv\n"
     ]
    },
    {
     "name": "stderr",
     "output_type": "stream",
     "text": [
      "C:\\Users\\mmccu\\AppData\\Local\\Temp\\ipykernel_16912\\802653250.py:15: RuntimeWarning: divide by zero encountered in scalar divide\n",
      "  delta_pix_h_rel = delta_pix_h / pix_h_start\n",
      "C:\\Users\\mmccu\\AppData\\Local\\Temp\\ipykernel_16912\\802653250.py:18: RuntimeWarning: divide by zero encountered in scalar divide\n",
      "  delta_pix_h_log = math.log(pix_h_end / pix_h_start)\n"
     ]
    },
    {
     "name": "stdout",
     "output_type": "stream",
     "text": [
      "C:\\Users\\mmccu\\Box\\MM_Personal\\5_Projects\\BoveLab\\3_Data_and_Code\\gait_bw_home_outputs_004\\BW-0184\\07-14-2023\\000_raw_pose_data\\gait_vertical_left_yolo.csv\n"
     ]
    },
    {
     "name": "stderr",
     "output_type": "stream",
     "text": [
      "C:\\Users\\mmccu\\AppData\\Local\\Temp\\ipykernel_16912\\802653250.py:15: RuntimeWarning: divide by zero encountered in scalar divide\n",
      "  delta_pix_h_rel = delta_pix_h / pix_h_start\n",
      "C:\\Users\\mmccu\\AppData\\Local\\Temp\\ipykernel_16912\\802653250.py:18: RuntimeWarning: divide by zero encountered in scalar divide\n",
      "  delta_pix_h_log = math.log(pix_h_end / pix_h_start)\n"
     ]
    },
    {
     "name": "stdout",
     "output_type": "stream",
     "text": [
      "C:\\Users\\mmccu\\Box\\MM_Personal\\5_Projects\\BoveLab\\3_Data_and_Code\\gait_bw_home_outputs_004\\BW-0184\\07-14-2023\\000_raw_pose_data\\gait_vertical_right_yolo.csv\n"
     ]
    },
    {
     "name": "stderr",
     "output_type": "stream",
     "text": [
      "C:\\Users\\mmccu\\AppData\\Local\\Temp\\ipykernel_16912\\802653250.py:15: RuntimeWarning: divide by zero encountered in scalar divide\n",
      "  delta_pix_h_rel = delta_pix_h / pix_h_start\n",
      "C:\\Users\\mmccu\\AppData\\Local\\Temp\\ipykernel_16912\\802653250.py:18: RuntimeWarning: divide by zero encountered in scalar divide\n",
      "  delta_pix_h_log = math.log(pix_h_end / pix_h_start)\n"
     ]
    },
    {
     "name": "stdout",
     "output_type": "stream",
     "text": [
      "C:\\Users\\mmccu\\Box\\MM_Personal\\5_Projects\\BoveLab\\3_Data_and_Code\\gait_bw_home_outputs_004\\BW-0185\\07-17-2023\\000_raw_pose_data\\gait_vertical_left_yolo.csv\n"
     ]
    },
    {
     "name": "stderr",
     "output_type": "stream",
     "text": [
      "C:\\Users\\mmccu\\AppData\\Local\\Temp\\ipykernel_16912\\802653250.py:15: RuntimeWarning: divide by zero encountered in scalar divide\n",
      "  delta_pix_h_rel = delta_pix_h / pix_h_start\n",
      "C:\\Users\\mmccu\\AppData\\Local\\Temp\\ipykernel_16912\\802653250.py:18: RuntimeWarning: divide by zero encountered in scalar divide\n",
      "  delta_pix_h_log = math.log(pix_h_end / pix_h_start)\n"
     ]
    },
    {
     "name": "stdout",
     "output_type": "stream",
     "text": [
      "C:\\Users\\mmccu\\Box\\MM_Personal\\5_Projects\\BoveLab\\3_Data_and_Code\\gait_bw_home_outputs_004\\BW-0185\\07-17-2023\\000_raw_pose_data\\gait_vertical_right_yolo.csv\n"
     ]
    },
    {
     "name": "stderr",
     "output_type": "stream",
     "text": [
      "C:\\Users\\mmccu\\AppData\\Local\\Temp\\ipykernel_16912\\802653250.py:15: RuntimeWarning: divide by zero encountered in scalar divide\n",
      "  delta_pix_h_rel = delta_pix_h / pix_h_start\n",
      "C:\\Users\\mmccu\\AppData\\Local\\Temp\\ipykernel_16912\\802653250.py:18: RuntimeWarning: divide by zero encountered in scalar divide\n",
      "  delta_pix_h_log = math.log(pix_h_end / pix_h_start)\n"
     ]
    },
    {
     "name": "stdout",
     "output_type": "stream",
     "text": [
      "C:\\Users\\mmccu\\Box\\MM_Personal\\5_Projects\\BoveLab\\3_Data_and_Code\\gait_bw_home_outputs_004\\BW-0205\\11-05-2023\\000_raw_pose_data\\gait_vertical_left_yolo.csv\n"
     ]
    },
    {
     "name": "stderr",
     "output_type": "stream",
     "text": [
      "C:\\Users\\mmccu\\AppData\\Local\\Temp\\ipykernel_16912\\802653250.py:15: RuntimeWarning: divide by zero encountered in scalar divide\n",
      "  delta_pix_h_rel = delta_pix_h / pix_h_start\n",
      "C:\\Users\\mmccu\\AppData\\Local\\Temp\\ipykernel_16912\\802653250.py:18: RuntimeWarning: divide by zero encountered in scalar divide\n",
      "  delta_pix_h_log = math.log(pix_h_end / pix_h_start)\n"
     ]
    },
    {
     "name": "stdout",
     "output_type": "stream",
     "text": [
      "C:\\Users\\mmccu\\Box\\MM_Personal\\5_Projects\\BoveLab\\3_Data_and_Code\\gait_bw_home_outputs_004\\BW-0205\\11-05-2023\\000_raw_pose_data\\gait_vertical_right_yolo.csv\n"
     ]
    },
    {
     "name": "stderr",
     "output_type": "stream",
     "text": [
      "C:\\Users\\mmccu\\AppData\\Local\\Temp\\ipykernel_16912\\802653250.py:15: RuntimeWarning: divide by zero encountered in scalar divide\n",
      "  delta_pix_h_rel = delta_pix_h / pix_h_start\n",
      "C:\\Users\\mmccu\\AppData\\Local\\Temp\\ipykernel_16912\\802653250.py:18: RuntimeWarning: divide by zero encountered in scalar divide\n",
      "  delta_pix_h_log = math.log(pix_h_end / pix_h_start)\n"
     ]
    },
    {
     "name": "stdout",
     "output_type": "stream",
     "text": [
      "C:\\Users\\mmccu\\Box\\MM_Personal\\5_Projects\\BoveLab\\3_Data_and_Code\\gait_bw_home_outputs_004\\BW-0211\\08-07-2023\\000_raw_pose_data\\gait_vertical_left_yolo.csv\n"
     ]
    },
    {
     "name": "stderr",
     "output_type": "stream",
     "text": [
      "C:\\Users\\mmccu\\AppData\\Local\\Temp\\ipykernel_16912\\802653250.py:15: RuntimeWarning: divide by zero encountered in scalar divide\n",
      "  delta_pix_h_rel = delta_pix_h / pix_h_start\n",
      "C:\\Users\\mmccu\\AppData\\Local\\Temp\\ipykernel_16912\\802653250.py:18: RuntimeWarning: divide by zero encountered in scalar divide\n",
      "  delta_pix_h_log = math.log(pix_h_end / pix_h_start)\n"
     ]
    },
    {
     "name": "stdout",
     "output_type": "stream",
     "text": [
      "C:\\Users\\mmccu\\Box\\MM_Personal\\5_Projects\\BoveLab\\3_Data_and_Code\\gait_bw_home_outputs_004\\BW-0211\\08-07-2023\\000_raw_pose_data\\gait_vertical_right_yolo.csv\n"
     ]
    },
    {
     "name": "stderr",
     "output_type": "stream",
     "text": [
      "C:\\Users\\mmccu\\AppData\\Local\\Temp\\ipykernel_16912\\802653250.py:15: RuntimeWarning: divide by zero encountered in scalar divide\n",
      "  delta_pix_h_rel = delta_pix_h / pix_h_start\n",
      "C:\\Users\\mmccu\\AppData\\Local\\Temp\\ipykernel_16912\\802653250.py:18: RuntimeWarning: divide by zero encountered in scalar divide\n",
      "  delta_pix_h_log = math.log(pix_h_end / pix_h_start)\n"
     ]
    },
    {
     "name": "stdout",
     "output_type": "stream",
     "text": [
      "C:\\Users\\mmccu\\Box\\MM_Personal\\5_Projects\\BoveLab\\3_Data_and_Code\\gait_bw_home_outputs_004\\BW-0227\\09-22-2023\\000_raw_pose_data\\gait_vertical_right_yolo.csv\n"
     ]
    },
    {
     "name": "stderr",
     "output_type": "stream",
     "text": [
      "C:\\Users\\mmccu\\AppData\\Local\\Temp\\ipykernel_16912\\802653250.py:15: RuntimeWarning: divide by zero encountered in scalar divide\n",
      "  delta_pix_h_rel = delta_pix_h / pix_h_start\n",
      "C:\\Users\\mmccu\\AppData\\Local\\Temp\\ipykernel_16912\\802653250.py:18: RuntimeWarning: divide by zero encountered in scalar divide\n",
      "  delta_pix_h_log = math.log(pix_h_end / pix_h_start)\n"
     ]
    },
    {
     "name": "stdout",
     "output_type": "stream",
     "text": [
      "C:\\Users\\mmccu\\Box\\MM_Personal\\5_Projects\\BoveLab\\3_Data_and_Code\\gait_bw_home_outputs_004\\BW-0228\\05-07-2023\\000_raw_pose_data\\gait_vertical_right_yolo.csv\n"
     ]
    },
    {
     "name": "stderr",
     "output_type": "stream",
     "text": [
      "C:\\Users\\mmccu\\AppData\\Local\\Temp\\ipykernel_16912\\802653250.py:15: RuntimeWarning: divide by zero encountered in scalar divide\n",
      "  delta_pix_h_rel = delta_pix_h / pix_h_start\n",
      "C:\\Users\\mmccu\\AppData\\Local\\Temp\\ipykernel_16912\\802653250.py:18: RuntimeWarning: divide by zero encountered in scalar divide\n",
      "  delta_pix_h_log = math.log(pix_h_end / pix_h_start)\n"
     ]
    },
    {
     "name": "stdout",
     "output_type": "stream",
     "text": [
      "C:\\Users\\mmccu\\Box\\MM_Personal\\5_Projects\\BoveLab\\3_Data_and_Code\\gait_bw_home_outputs_004\\BW-0230\\000_raw_pose_data\\gait_vertical_left_yolo.csv\n"
     ]
    },
    {
     "name": "stderr",
     "output_type": "stream",
     "text": [
      "C:\\Users\\mmccu\\AppData\\Local\\Temp\\ipykernel_16912\\802653250.py:15: RuntimeWarning: divide by zero encountered in scalar divide\n",
      "  delta_pix_h_rel = delta_pix_h / pix_h_start\n",
      "C:\\Users\\mmccu\\AppData\\Local\\Temp\\ipykernel_16912\\802653250.py:18: RuntimeWarning: divide by zero encountered in scalar divide\n",
      "  delta_pix_h_log = math.log(pix_h_end / pix_h_start)\n"
     ]
    },
    {
     "name": "stdout",
     "output_type": "stream",
     "text": [
      "C:\\Users\\mmccu\\Box\\MM_Personal\\5_Projects\\BoveLab\\3_Data_and_Code\\gait_bw_home_outputs_004\\BW-0232\\10-09-2023\\000_raw_pose_data\\gait_vertical_left_yolo.csv\n",
      "C:\\Users\\mmccu\\Box\\MM_Personal\\5_Projects\\BoveLab\\3_Data_and_Code\\gait_bw_home_outputs_004\\BW-0232\\10-09-2023\\000_raw_pose_data\\gait_vertical_right_2_yolo.csv\n",
      "C:\\Users\\mmccu\\Box\\MM_Personal\\5_Projects\\BoveLab\\3_Data_and_Code\\gait_bw_home_outputs_004\\BW-0232\\10-09-2023\\000_raw_pose_data\\gait_vertical_right_yolo.csv\n",
      "C:\\Users\\mmccu\\Box\\MM_Personal\\5_Projects\\BoveLab\\3_Data_and_Code\\gait_bw_home_outputs_004\\BW-0237\\10-09-2023\\000_raw_pose_data\\gait_vertical_left_yolo.csv\n"
     ]
    },
    {
     "name": "stderr",
     "output_type": "stream",
     "text": [
      "C:\\Users\\mmccu\\AppData\\Local\\Temp\\ipykernel_16912\\802653250.py:15: RuntimeWarning: divide by zero encountered in scalar divide\n",
      "  delta_pix_h_rel = delta_pix_h / pix_h_start\n",
      "C:\\Users\\mmccu\\AppData\\Local\\Temp\\ipykernel_16912\\802653250.py:18: RuntimeWarning: divide by zero encountered in scalar divide\n",
      "  delta_pix_h_log = math.log(pix_h_end / pix_h_start)\n"
     ]
    },
    {
     "name": "stdout",
     "output_type": "stream",
     "text": [
      "C:\\Users\\mmccu\\Box\\MM_Personal\\5_Projects\\BoveLab\\3_Data_and_Code\\gait_bw_home_outputs_004\\BW-0243\\10-31-2023\\000_raw_pose_data\\gait_vertical_left_yolo.csv\n"
     ]
    },
    {
     "name": "stderr",
     "output_type": "stream",
     "text": [
      "C:\\Users\\mmccu\\AppData\\Local\\Temp\\ipykernel_16912\\802653250.py:15: RuntimeWarning: divide by zero encountered in scalar divide\n",
      "  delta_pix_h_rel = delta_pix_h / pix_h_start\n",
      "C:\\Users\\mmccu\\AppData\\Local\\Temp\\ipykernel_16912\\802653250.py:18: RuntimeWarning: divide by zero encountered in scalar divide\n",
      "  delta_pix_h_log = math.log(pix_h_end / pix_h_start)\n"
     ]
    },
    {
     "name": "stdout",
     "output_type": "stream",
     "text": [
      "C:\\Users\\mmccu\\Box\\MM_Personal\\5_Projects\\BoveLab\\3_Data_and_Code\\gait_bw_home_outputs_004\\BW-0243\\10-31-2023\\000_raw_pose_data\\gait_vertical_right_yolo.csv\n"
     ]
    },
    {
     "name": "stderr",
     "output_type": "stream",
     "text": [
      "C:\\Users\\mmccu\\AppData\\Local\\Temp\\ipykernel_16912\\802653250.py:15: RuntimeWarning: divide by zero encountered in scalar divide\n",
      "  delta_pix_h_rel = delta_pix_h / pix_h_start\n",
      "C:\\Users\\mmccu\\AppData\\Local\\Temp\\ipykernel_16912\\802653250.py:18: RuntimeWarning: divide by zero encountered in scalar divide\n",
      "  delta_pix_h_log = math.log(pix_h_end / pix_h_start)\n"
     ]
    },
    {
     "name": "stdout",
     "output_type": "stream",
     "text": [
      "C:\\Users\\mmccu\\Box\\MM_Personal\\5_Projects\\BoveLab\\3_Data_and_Code\\gait_bw_home_outputs_004\\BW-0244\\10-30-2023\\000_raw_pose_data\\gait_vertical_left_yolo.csv\n",
      "C:\\Users\\mmccu\\Box\\MM_Personal\\5_Projects\\BoveLab\\3_Data_and_Code\\gait_bw_home_outputs_004\\BW-0244\\10-30-2023\\000_raw_pose_data\\gait_vertical_right_yolo.csv\n"
     ]
    },
    {
     "name": "stderr",
     "output_type": "stream",
     "text": [
      "C:\\Users\\mmccu\\AppData\\Local\\Temp\\ipykernel_16912\\802653250.py:15: RuntimeWarning: divide by zero encountered in scalar divide\n",
      "  delta_pix_h_rel = delta_pix_h / pix_h_start\n",
      "C:\\Users\\mmccu\\AppData\\Local\\Temp\\ipykernel_16912\\802653250.py:18: RuntimeWarning: divide by zero encountered in scalar divide\n",
      "  delta_pix_h_log = math.log(pix_h_end / pix_h_start)\n"
     ]
    },
    {
     "name": "stdout",
     "output_type": "stream",
     "text": [
      "C:\\Users\\mmccu\\Box\\MM_Personal\\5_Projects\\BoveLab\\3_Data_and_Code\\gait_bw_home_outputs_004\\BW-0246\\10-26-2023\\000_raw_pose_data\\gait_vertical_left_yolo.csv\n"
     ]
    },
    {
     "name": "stderr",
     "output_type": "stream",
     "text": [
      "C:\\Users\\mmccu\\AppData\\Local\\Temp\\ipykernel_16912\\802653250.py:15: RuntimeWarning: divide by zero encountered in scalar divide\n",
      "  delta_pix_h_rel = delta_pix_h / pix_h_start\n",
      "C:\\Users\\mmccu\\AppData\\Local\\Temp\\ipykernel_16912\\802653250.py:18: RuntimeWarning: divide by zero encountered in scalar divide\n",
      "  delta_pix_h_log = math.log(pix_h_end / pix_h_start)\n"
     ]
    },
    {
     "name": "stdout",
     "output_type": "stream",
     "text": [
      "C:\\Users\\mmccu\\Box\\MM_Personal\\5_Projects\\BoveLab\\3_Data_and_Code\\gait_bw_home_outputs_004\\BW-0246\\10-26-2023\\000_raw_pose_data\\gait_vertical_right_yolo.csv\n"
     ]
    },
    {
     "name": "stderr",
     "output_type": "stream",
     "text": [
      "C:\\Users\\mmccu\\AppData\\Local\\Temp\\ipykernel_16912\\802653250.py:15: RuntimeWarning: divide by zero encountered in scalar divide\n",
      "  delta_pix_h_rel = delta_pix_h / pix_h_start\n",
      "C:\\Users\\mmccu\\AppData\\Local\\Temp\\ipykernel_16912\\802653250.py:18: RuntimeWarning: divide by zero encountered in scalar divide\n",
      "  delta_pix_h_log = math.log(pix_h_end / pix_h_start)\n"
     ]
    },
    {
     "name": "stdout",
     "output_type": "stream",
     "text": [
      "C:\\Users\\mmccu\\Box\\MM_Personal\\5_Projects\\BoveLab\\3_Data_and_Code\\gait_bw_home_outputs_004\\BW-0246\\5-13-2024\\000_raw_pose_data\\gait_vertical_left_yolo.csv\n"
     ]
    },
    {
     "name": "stderr",
     "output_type": "stream",
     "text": [
      "C:\\Users\\mmccu\\AppData\\Local\\Temp\\ipykernel_16912\\802653250.py:15: RuntimeWarning: divide by zero encountered in scalar divide\n",
      "  delta_pix_h_rel = delta_pix_h / pix_h_start\n",
      "C:\\Users\\mmccu\\AppData\\Local\\Temp\\ipykernel_16912\\802653250.py:18: RuntimeWarning: divide by zero encountered in scalar divide\n",
      "  delta_pix_h_log = math.log(pix_h_end / pix_h_start)\n"
     ]
    },
    {
     "name": "stdout",
     "output_type": "stream",
     "text": [
      "C:\\Users\\mmccu\\Box\\MM_Personal\\5_Projects\\BoveLab\\3_Data_and_Code\\gait_bw_home_outputs_004\\BW-0246\\5-13-2024\\000_raw_pose_data\\gait_vertical_right_yolo.csv\n"
     ]
    },
    {
     "name": "stderr",
     "output_type": "stream",
     "text": [
      "C:\\Users\\mmccu\\AppData\\Local\\Temp\\ipykernel_16912\\802653250.py:15: RuntimeWarning: divide by zero encountered in scalar divide\n",
      "  delta_pix_h_rel = delta_pix_h / pix_h_start\n",
      "C:\\Users\\mmccu\\AppData\\Local\\Temp\\ipykernel_16912\\802653250.py:18: RuntimeWarning: divide by zero encountered in scalar divide\n",
      "  delta_pix_h_log = math.log(pix_h_end / pix_h_start)\n"
     ]
    },
    {
     "name": "stdout",
     "output_type": "stream",
     "text": [
      "C:\\Users\\mmccu\\Box\\MM_Personal\\5_Projects\\BoveLab\\3_Data_and_Code\\gait_bw_home_outputs_004\\BW-0248\\11-01-2023\\000_raw_pose_data\\gait_vertical_left_yolo.csv\n"
     ]
    },
    {
     "name": "stderr",
     "output_type": "stream",
     "text": [
      "C:\\Users\\mmccu\\AppData\\Local\\Temp\\ipykernel_16912\\802653250.py:15: RuntimeWarning: divide by zero encountered in scalar divide\n",
      "  delta_pix_h_rel = delta_pix_h / pix_h_start\n",
      "C:\\Users\\mmccu\\AppData\\Local\\Temp\\ipykernel_16912\\802653250.py:18: RuntimeWarning: divide by zero encountered in scalar divide\n",
      "  delta_pix_h_log = math.log(pix_h_end / pix_h_start)\n"
     ]
    },
    {
     "name": "stdout",
     "output_type": "stream",
     "text": [
      "C:\\Users\\mmccu\\Box\\MM_Personal\\5_Projects\\BoveLab\\3_Data_and_Code\\gait_bw_home_outputs_004\\BW-0248\\11-01-2023\\000_raw_pose_data\\gait_vertical_right_yolo.csv\n"
     ]
    },
    {
     "name": "stderr",
     "output_type": "stream",
     "text": [
      "C:\\Users\\mmccu\\AppData\\Local\\Temp\\ipykernel_16912\\802653250.py:15: RuntimeWarning: divide by zero encountered in scalar divide\n",
      "  delta_pix_h_rel = delta_pix_h / pix_h_start\n",
      "C:\\Users\\mmccu\\AppData\\Local\\Temp\\ipykernel_16912\\802653250.py:18: RuntimeWarning: divide by zero encountered in scalar divide\n",
      "  delta_pix_h_log = math.log(pix_h_end / pix_h_start)\n"
     ]
    },
    {
     "name": "stdout",
     "output_type": "stream",
     "text": [
      "C:\\Users\\mmccu\\Box\\MM_Personal\\5_Projects\\BoveLab\\3_Data_and_Code\\gait_bw_home_outputs_004\\BW-0252\\05-28-2024\\000_raw_pose_data\\gait_vertical_left_yolo.csv\n",
      "C:\\Users\\mmccu\\Box\\MM_Personal\\5_Projects\\BoveLab\\3_Data_and_Code\\gait_bw_home_outputs_004\\BW-0252\\05-28-2024\\000_raw_pose_data\\gait_vertical_right_yolo.csv\n",
      "C:\\Users\\mmccu\\Box\\MM_Personal\\5_Projects\\BoveLab\\3_Data_and_Code\\gait_bw_home_outputs_004\\BW-0252\\11-13-2023\\000_raw_pose_data\\gait_vertical_left_yolo.csv\n",
      "C:\\Users\\mmccu\\Box\\MM_Personal\\5_Projects\\BoveLab\\3_Data_and_Code\\gait_bw_home_outputs_004\\BW-0252\\11-13-2023\\000_raw_pose_data\\gait_vertical_right_yolo.csv\n",
      "C:\\Users\\mmccu\\Box\\MM_Personal\\5_Projects\\BoveLab\\3_Data_and_Code\\gait_bw_home_outputs_004\\BW-0253\\11-19-2023\\000_raw_pose_data\\gait_vertical_left_yolo.csv\n"
     ]
    },
    {
     "name": "stderr",
     "output_type": "stream",
     "text": [
      "C:\\Users\\mmccu\\AppData\\Local\\Temp\\ipykernel_16912\\802653250.py:15: RuntimeWarning: divide by zero encountered in scalar divide\n",
      "  delta_pix_h_rel = delta_pix_h / pix_h_start\n",
      "C:\\Users\\mmccu\\AppData\\Local\\Temp\\ipykernel_16912\\802653250.py:18: RuntimeWarning: divide by zero encountered in scalar divide\n",
      "  delta_pix_h_log = math.log(pix_h_end / pix_h_start)\n"
     ]
    },
    {
     "name": "stdout",
     "output_type": "stream",
     "text": [
      "C:\\Users\\mmccu\\Box\\MM_Personal\\5_Projects\\BoveLab\\3_Data_and_Code\\gait_bw_home_outputs_004\\BW-0253\\11-19-2023\\000_raw_pose_data\\gait_vertical_right_yolo.csv\n",
      "C:\\Users\\mmccu\\Box\\MM_Personal\\5_Projects\\BoveLab\\3_Data_and_Code\\gait_bw_home_outputs_004\\BW-0255\\11-20-2023\\000_raw_pose_data\\gait_vertical_left_yolo.csv\n"
     ]
    },
    {
     "name": "stderr",
     "output_type": "stream",
     "text": [
      "C:\\Users\\mmccu\\AppData\\Local\\Temp\\ipykernel_16912\\802653250.py:15: RuntimeWarning: divide by zero encountered in scalar divide\n",
      "  delta_pix_h_rel = delta_pix_h / pix_h_start\n",
      "C:\\Users\\mmccu\\AppData\\Local\\Temp\\ipykernel_16912\\802653250.py:18: RuntimeWarning: divide by zero encountered in scalar divide\n",
      "  delta_pix_h_log = math.log(pix_h_end / pix_h_start)\n"
     ]
    },
    {
     "name": "stdout",
     "output_type": "stream",
     "text": [
      "C:\\Users\\mmccu\\Box\\MM_Personal\\5_Projects\\BoveLab\\3_Data_and_Code\\gait_bw_home_outputs_004\\BW-0255\\11-20-2023\\000_raw_pose_data\\gait_vertical_right_yolo.csv\n"
     ]
    },
    {
     "name": "stderr",
     "output_type": "stream",
     "text": [
      "C:\\Users\\mmccu\\AppData\\Local\\Temp\\ipykernel_16912\\802653250.py:15: RuntimeWarning: divide by zero encountered in scalar divide\n",
      "  delta_pix_h_rel = delta_pix_h / pix_h_start\n",
      "C:\\Users\\mmccu\\AppData\\Local\\Temp\\ipykernel_16912\\802653250.py:18: RuntimeWarning: divide by zero encountered in scalar divide\n",
      "  delta_pix_h_log = math.log(pix_h_end / pix_h_start)\n"
     ]
    },
    {
     "name": "stdout",
     "output_type": "stream",
     "text": [
      "C:\\Users\\mmccu\\Box\\MM_Personal\\5_Projects\\BoveLab\\3_Data_and_Code\\gait_bw_home_outputs_004\\BW-0262\\12-01-2023\\000_raw_pose_data\\gait_vertical_left_yolo.csv\n",
      "C:\\Users\\mmccu\\Box\\MM_Personal\\5_Projects\\BoveLab\\3_Data_and_Code\\gait_bw_home_outputs_004\\BW-0262\\12-01-2023\\000_raw_pose_data\\gait_vertical_right_yolo.csv\n",
      "C:\\Users\\mmccu\\Box\\MM_Personal\\5_Projects\\BoveLab\\3_Data_and_Code\\gait_bw_home_outputs_004\\BW-0265\\12-03-2023\\000_raw_pose_data\\gait_vertical_left_yolo.csv\n",
      "C:\\Users\\mmccu\\Box\\MM_Personal\\5_Projects\\BoveLab\\3_Data_and_Code\\gait_bw_home_outputs_004\\BW-0265\\12-03-2023\\000_raw_pose_data\\gait_vertical_right_yolo.csv\n",
      "C:\\Users\\mmccu\\Box\\MM_Personal\\5_Projects\\BoveLab\\3_Data_and_Code\\gait_bw_home_outputs_004\\BW-0271\\01-09-2024\\000_raw_pose_data\\gait_vertical_left_yolo.csv\n",
      "C:\\Users\\mmccu\\Box\\MM_Personal\\5_Projects\\BoveLab\\3_Data_and_Code\\gait_bw_home_outputs_004\\BW-0271\\01-09-2024\\000_raw_pose_data\\gait_vertical_right_yolo.csv\n",
      "C:\\Users\\mmccu\\Box\\MM_Personal\\5_Projects\\BoveLab\\3_Data_and_Code\\gait_bw_home_outputs_004\\BW-0274\\02-14-2024\\000_raw_pose_data\\gait_vertical_left_yolo.csv\n",
      "C:\\Users\\mmccu\\Box\\MM_Personal\\5_Projects\\BoveLab\\3_Data_and_Code\\gait_bw_home_outputs_004\\BW-0274\\02-14-2024\\000_raw_pose_data\\gait_vertical_right_yolo.csv\n",
      "C:\\Users\\mmccu\\Box\\MM_Personal\\5_Projects\\BoveLab\\3_Data_and_Code\\gait_bw_home_outputs_004\\BW-0276\\01-17-2024\\000_raw_pose_data\\gait_vertical_left_yolo.csv\n"
     ]
    },
    {
     "name": "stderr",
     "output_type": "stream",
     "text": [
      "C:\\Users\\mmccu\\AppData\\Local\\Temp\\ipykernel_16912\\802653250.py:15: RuntimeWarning: divide by zero encountered in scalar divide\n",
      "  delta_pix_h_rel = delta_pix_h / pix_h_start\n",
      "C:\\Users\\mmccu\\AppData\\Local\\Temp\\ipykernel_16912\\802653250.py:18: RuntimeWarning: divide by zero encountered in scalar divide\n",
      "  delta_pix_h_log = math.log(pix_h_end / pix_h_start)\n"
     ]
    },
    {
     "name": "stdout",
     "output_type": "stream",
     "text": [
      "C:\\Users\\mmccu\\Box\\MM_Personal\\5_Projects\\BoveLab\\3_Data_and_Code\\gait_bw_home_outputs_004\\BW-0276\\01-17-2024\\000_raw_pose_data\\gait_vertical_right_yolo.csv\n"
     ]
    },
    {
     "name": "stderr",
     "output_type": "stream",
     "text": [
      "C:\\Users\\mmccu\\AppData\\Local\\Temp\\ipykernel_16912\\802653250.py:15: RuntimeWarning: divide by zero encountered in scalar divide\n",
      "  delta_pix_h_rel = delta_pix_h / pix_h_start\n",
      "C:\\Users\\mmccu\\AppData\\Local\\Temp\\ipykernel_16912\\802653250.py:18: RuntimeWarning: divide by zero encountered in scalar divide\n",
      "  delta_pix_h_log = math.log(pix_h_end / pix_h_start)\n"
     ]
    },
    {
     "name": "stdout",
     "output_type": "stream",
     "text": [
      "C:\\Users\\mmccu\\Box\\MM_Personal\\5_Projects\\BoveLab\\3_Data_and_Code\\gait_bw_home_outputs_004\\BW-0288\\02-13-2024\\000_raw_pose_data\\gait_vertical_left_yolo.csv\n",
      "C:\\Users\\mmccu\\Box\\MM_Personal\\5_Projects\\BoveLab\\3_Data_and_Code\\gait_bw_home_outputs_004\\BW-0288\\02-13-2024\\000_raw_pose_data\\gait_vertical_right_yolo.csv\n",
      "C:\\Users\\mmccu\\Box\\MM_Personal\\5_Projects\\BoveLab\\3_Data_and_Code\\gait_bw_home_outputs_004\\BW-0292\\02-22-2024\\000_raw_pose_data\\gait_vertical_left_yolo.csv\n",
      "C:\\Users\\mmccu\\Box\\MM_Personal\\5_Projects\\BoveLab\\3_Data_and_Code\\gait_bw_home_outputs_004\\BW-0292\\02-22-2024\\000_raw_pose_data\\gait_vertical_right_yolo.csv\n"
     ]
    }
   ],
   "source": [
    "# save list of all mediapipe world csv files in raw pose data folders \n",
    "\n",
    "raw_data_full_path_all = [] \n",
    "raw_data_file_names_all = []\n",
    "\n",
    "depth_proxy_describe_all = pd.DataFrame()\n",
    "\n",
    "# loop through all files in input path \n",
    "for (dir_path, dir_names, file_names) in os.walk(raw_pose_data_in_path):\n",
    "    for file_name in file_names: \n",
    "        name, ext = os.path.splitext(file_name)\n",
    "        ext = ext.lower()[1:]\n",
    "        current_raw_data_in_path = os.path.join(dir_path, file_name) # full path to files \n",
    "\n",
    "        # get \n",
    "        parent_path_1, current_file_name = os.path.split(current_raw_data_in_path)\n",
    "        parent_path_2, current_raw_data_folder = os.path.split(parent_path_1)\n",
    "        parent_path_3, current_date = os.path.split(parent_path_2)\n",
    "        parent_path_4, current_id = os.path.split(parent_path_3)\n",
    "        current_id_date = os.path.join(current_id, current_date)\n",
    "\n",
    "        # select file paths with yolo data ----------------------------------------\n",
    "        if (ext == 'csv') &  ('000_raw_pose_data' in current_raw_data_in_path) & ('yolo.csv' in current_raw_data_in_path): # from run.py, outputs all saved in 000_raw_pose_data_folder\n",
    "            print(current_raw_data_in_path)\n",
    "            yolo_df = pd.read_csv(current_raw_data_in_path, index_col = 0)\n",
    "\n",
    "           # pixel height -------------------------------------------------\n",
    "\n",
    "            # calculate height in pixels - left eye to left ankle \n",
    "            l_eye_yolo_df = yolo_df.loc[yolo_df['label'] == 'left_eye']\n",
    "            l_eye_yolo_df.set_index('frame', inplace=True)\n",
    "            l_ankle_yolo_df = yolo_df.loc[yolo_df['label'] == 'left_ankle']\n",
    "            l_ankle_yolo_df.set_index('frame', inplace=True)\n",
    "\n",
    "            l_ankle_yolo_df = l_ankle_yolo_df.copy()\n",
    "            l_ankle_yolo_df.loc[:, 'approx_height_Y_pix'] = abs(l_eye_yolo_df['Y'] - l_ankle_yolo_df['Y'])\n",
    "            l_ankle_yolo_df.loc[:, 'approx_height_Y_pix_smooth'] = l_ankle_yolo_df['approx_height_Y_pix'].rolling(window=25, min_periods = 1).mean()\n",
    "            \n",
    "            # drop l ankle specific columns \n",
    "            height_df = l_ankle_yolo_df.drop(columns = ['X', 'Y', 'label'])\n",
    "            height_df.reset_index(inplace=True)\n",
    "\n",
    "            # add \"time_group\" label column, will use to group \n",
    "            height_df['time_group'] = height_df['frame'] / (fps)\n",
    "            \n",
    "            height_df['time_group'] = height_df['time_group'].apply(math.floor)\n",
    "            # identify peaks and valleys in pixel height (approximate turn locations) \n",
    "            peaks, _ = sig.find_peaks(height_df['approx_height_Y_pix_smooth'], distance = fps)\n",
    "            valleys, _ = sig.find_peaks(-height_df['approx_height_Y_pix_smooth'], distance = fps)\n",
    "            peak_frames = height_df.iloc[peaks]['frame']\n",
    "            valley_frames = height_df.iloc[valleys]['frame']\n",
    "            peaks_valleys = np.concatenate((peak_frames, valley_frames))\n",
    "\n",
    "            # plot height in pixels with time groups and peaks valleys \n",
    "            sns.scatterplot(x = 'frame', y = 'approx_height_Y_pix_smooth', data = height_df, label = 'approx_height_Y_pix_smooth')\n",
    "            plt.plot(height_df['frame'], height_df['approx_height_Y_pix_smooth'], label='Smoothed Height')\n",
    "            plt.scatter(peak_frames, height_df.iloc[peaks]['approx_height_Y_pix_smooth'], color='red', label='Peaks')\n",
    "            plt.scatter(valley_frames, height_df.iloc[valleys]['approx_height_Y_pix_smooth'], color='blue', label='Valleys')\n",
    "            for time_group in height_df['time_group'].unique(): \n",
    "                plt.axvline(x = time_group * (fps), color = 'grey', alpha = 0.5)\n",
    "            plt.title(current_id_date + ' ' + name)\n",
    "\n",
    "            fig_path = os.path.join(output_plots, current_id + '_' + current_date + '_' + name + '_pix_height.png') \n",
    "            plt.savefig(fig_path) \n",
    "            plt.close()\n",
    "\n",
    "            # calculate depth proxy values and summarize \n",
    "            depth_proxies_all = []\n",
    "\n",
    "            for current_sec_group in height_df['time_group'].unique():\n",
    "                current_height_df = height_df.loc[height_df['time_group'] == current_sec_group]\n",
    "\n",
    "                current_start_frame = current_height_df['frame'].iloc[0]\n",
    "                current_end_frame = current_height_df['frame'].iloc[-1]\n",
    "\n",
    "                # if this current time_group group contains peak or valley, skip because likeley a turn \n",
    "                if current_height_df.loc[current_start_frame: current_end_frame, 'frame'].isin(peaks_valleys).any():\n",
    "                   # print('Skipped - contains peak or valley') \n",
    "                    delta_pix_h = np.nan\n",
    "                    delta_pix_h_rel = np.nan\n",
    "                    delta_pix_h_log = np.nan\n",
    "                else: \n",
    "                    delta_pix_h, delta_pix_h_rel, delta_pix_h_log  = calc_pix_size_change(current_start_frame, current_end_frame, height_df, fps)\n",
    "                \n",
    "                # combine all time groups into one array \n",
    "                depth_proxies_all.append({'start_frame' : current_start_frame,\n",
    "                                         'delta_pix_h' : delta_pix_h, \n",
    "                                         'delta_pix_h_rel' : delta_pix_h_rel,\n",
    "                                         'delta_pix_h_log' : delta_pix_h_log})\n",
    "\n",
    "                             \n",
    "            # convert array to df \n",
    "            depth_proxies_all_df = pd.DataFrame(depth_proxies_all)\n",
    "            depth_proxies_all_df =depth_proxies_all_df.replace([np.inf, -np.inf], np.nan) # replace inf with nan \n",
    "\n",
    "            depth_proxies_all_df = depth_proxies_all_df.drop(columns = ['start_frame'])    \n",
    "            # convert to one row \n",
    "            depth_proxy_describe = depth_proxies_all_df.describe().unstack().to_frame().T\n",
    "            depth_proxy_describe.columns = ['_'.join(col).strip() for col in depth_proxy_describe.columns]\n",
    "            depth_proxy_describe = round(depth_proxy_describe, 2)\n",
    "            depth_proxy_describe['id_video'] = current_id \n",
    "            depth_proxy_describe['visit_date_video'] = current_date\n",
    "            depth_proxy_describe['filename'] = current_file_name\n",
    "            \n",
    "            # save all height and pixel proxies \n",
    "            depth_proxy_describe_all = pd.concat([depth_proxy_describe_all, depth_proxy_describe])   "
   ]
  },
  {
   "cell_type": "code",
   "execution_count": 5,
   "id": "ada523bd-9fef-4193-ab3f-123ee8f35fd2",
   "metadata": {},
   "outputs": [
    {
     "data": {
      "text/html": [
       "<div>\n",
       "<style scoped>\n",
       "    .dataframe tbody tr th:only-of-type {\n",
       "        vertical-align: middle;\n",
       "    }\n",
       "\n",
       "    .dataframe tbody tr th {\n",
       "        vertical-align: top;\n",
       "    }\n",
       "\n",
       "    .dataframe thead th {\n",
       "        text-align: right;\n",
       "    }\n",
       "</style>\n",
       "<table border=\"1\" class=\"dataframe\">\n",
       "  <thead>\n",
       "    <tr style=\"text-align: right;\">\n",
       "      <th></th>\n",
       "      <th>delta_pix_h_count</th>\n",
       "      <th>delta_pix_h_mean</th>\n",
       "      <th>delta_pix_h_std</th>\n",
       "      <th>delta_pix_h_min</th>\n",
       "      <th>delta_pix_h_25%</th>\n",
       "      <th>delta_pix_h_50%</th>\n",
       "      <th>delta_pix_h_75%</th>\n",
       "      <th>delta_pix_h_max</th>\n",
       "      <th>delta_pix_h_rel_count</th>\n",
       "      <th>delta_pix_h_rel_mean</th>\n",
       "      <th>...</th>\n",
       "      <th>delta_pix_h_log_mean</th>\n",
       "      <th>delta_pix_h_log_std</th>\n",
       "      <th>delta_pix_h_log_min</th>\n",
       "      <th>delta_pix_h_log_25%</th>\n",
       "      <th>delta_pix_h_log_50%</th>\n",
       "      <th>delta_pix_h_log_75%</th>\n",
       "      <th>delta_pix_h_log_max</th>\n",
       "      <th>id_video</th>\n",
       "      <th>visit_date_video</th>\n",
       "      <th>filename</th>\n",
       "    </tr>\n",
       "  </thead>\n",
       "  <tbody>\n",
       "    <tr>\n",
       "      <th>0</th>\n",
       "      <td>10.0</td>\n",
       "      <td>537.28</td>\n",
       "      <td>603.55</td>\n",
       "      <td>8.94</td>\n",
       "      <td>103.34</td>\n",
       "      <td>191.98</td>\n",
       "      <td>972.64</td>\n",
       "      <td>1739.00</td>\n",
       "      <td>10.0</td>\n",
       "      <td>6.39</td>\n",
       "      <td>...</td>\n",
       "      <td>1.03</td>\n",
       "      <td>1.35</td>\n",
       "      <td>0.01</td>\n",
       "      <td>0.13</td>\n",
       "      <td>0.22</td>\n",
       "      <td>1.66</td>\n",
       "      <td>3.49</td>\n",
       "      <td>BW-0018</td>\n",
       "      <td>10-24-23</td>\n",
       "      <td>gait_vertical_left_yolo.csv</td>\n",
       "    </tr>\n",
       "    <tr>\n",
       "      <th>0</th>\n",
       "      <td>8.0</td>\n",
       "      <td>580.01</td>\n",
       "      <td>550.91</td>\n",
       "      <td>46.71</td>\n",
       "      <td>189.45</td>\n",
       "      <td>411.36</td>\n",
       "      <td>787.36</td>\n",
       "      <td>1734.39</td>\n",
       "      <td>7.0</td>\n",
       "      <td>3.66</td>\n",
       "      <td>...</td>\n",
       "      <td>0.76</td>\n",
       "      <td>1.08</td>\n",
       "      <td>0.06</td>\n",
       "      <td>0.26</td>\n",
       "      <td>0.40</td>\n",
       "      <td>0.59</td>\n",
       "      <td>3.17</td>\n",
       "      <td>BW-0018</td>\n",
       "      <td>10-24-23</td>\n",
       "      <td>gait_vertical_right_yolo.csv</td>\n",
       "    </tr>\n",
       "    <tr>\n",
       "      <th>0</th>\n",
       "      <td>15.0</td>\n",
       "      <td>266.57</td>\n",
       "      <td>160.05</td>\n",
       "      <td>29.62</td>\n",
       "      <td>131.34</td>\n",
       "      <td>210.75</td>\n",
       "      <td>386.10</td>\n",
       "      <td>511.51</td>\n",
       "      <td>15.0</td>\n",
       "      <td>0.38</td>\n",
       "      <td>...</td>\n",
       "      <td>0.32</td>\n",
       "      <td>0.14</td>\n",
       "      <td>0.08</td>\n",
       "      <td>0.25</td>\n",
       "      <td>0.29</td>\n",
       "      <td>0.38</td>\n",
       "      <td>0.54</td>\n",
       "      <td>BW-0023</td>\n",
       "      <td>05-05-23</td>\n",
       "      <td>gait_vertical_left_yolo.csv</td>\n",
       "    </tr>\n",
       "    <tr>\n",
       "      <th>0</th>\n",
       "      <td>16.0</td>\n",
       "      <td>260.24</td>\n",
       "      <td>155.89</td>\n",
       "      <td>35.98</td>\n",
       "      <td>158.36</td>\n",
       "      <td>246.05</td>\n",
       "      <td>381.04</td>\n",
       "      <td>547.61</td>\n",
       "      <td>16.0</td>\n",
       "      <td>0.35</td>\n",
       "      <td>...</td>\n",
       "      <td>0.29</td>\n",
       "      <td>0.13</td>\n",
       "      <td>0.10</td>\n",
       "      <td>0.17</td>\n",
       "      <td>0.34</td>\n",
       "      <td>0.39</td>\n",
       "      <td>0.50</td>\n",
       "      <td>BW-0023</td>\n",
       "      <td>05-05-23</td>\n",
       "      <td>gait_vertical_right_yolo.csv</td>\n",
       "    </tr>\n",
       "    <tr>\n",
       "      <th>0</th>\n",
       "      <td>13.0</td>\n",
       "      <td>62.66</td>\n",
       "      <td>47.20</td>\n",
       "      <td>10.50</td>\n",
       "      <td>20.27</td>\n",
       "      <td>52.95</td>\n",
       "      <td>94.89</td>\n",
       "      <td>147.78</td>\n",
       "      <td>13.0</td>\n",
       "      <td>0.35</td>\n",
       "      <td>...</td>\n",
       "      <td>0.29</td>\n",
       "      <td>0.13</td>\n",
       "      <td>0.06</td>\n",
       "      <td>0.20</td>\n",
       "      <td>0.34</td>\n",
       "      <td>0.38</td>\n",
       "      <td>0.47</td>\n",
       "      <td>BW-0023</td>\n",
       "      <td>10-23-23</td>\n",
       "      <td>gait_vertical_left_yolo.csv</td>\n",
       "    </tr>\n",
       "    <tr>\n",
       "      <th>...</th>\n",
       "      <td>...</td>\n",
       "      <td>...</td>\n",
       "      <td>...</td>\n",
       "      <td>...</td>\n",
       "      <td>...</td>\n",
       "      <td>...</td>\n",
       "      <td>...</td>\n",
       "      <td>...</td>\n",
       "      <td>...</td>\n",
       "      <td>...</td>\n",
       "      <td>...</td>\n",
       "      <td>...</td>\n",
       "      <td>...</td>\n",
       "      <td>...</td>\n",
       "      <td>...</td>\n",
       "      <td>...</td>\n",
       "      <td>...</td>\n",
       "      <td>...</td>\n",
       "      <td>...</td>\n",
       "      <td>...</td>\n",
       "      <td>...</td>\n",
       "    </tr>\n",
       "    <tr>\n",
       "      <th>0</th>\n",
       "      <td>6.0</td>\n",
       "      <td>263.24</td>\n",
       "      <td>162.37</td>\n",
       "      <td>62.44</td>\n",
       "      <td>147.19</td>\n",
       "      <td>258.63</td>\n",
       "      <td>373.37</td>\n",
       "      <td>478.11</td>\n",
       "      <td>4.0</td>\n",
       "      <td>6.58</td>\n",
       "      <td>...</td>\n",
       "      <td>1.36</td>\n",
       "      <td>1.28</td>\n",
       "      <td>0.24</td>\n",
       "      <td>0.55</td>\n",
       "      <td>1.03</td>\n",
       "      <td>1.84</td>\n",
       "      <td>3.14</td>\n",
       "      <td>BW-0276</td>\n",
       "      <td>01-17-2024</td>\n",
       "      <td>gait_vertical_right_yolo.csv</td>\n",
       "    </tr>\n",
       "    <tr>\n",
       "      <th>0</th>\n",
       "      <td>13.0</td>\n",
       "      <td>72.25</td>\n",
       "      <td>42.34</td>\n",
       "      <td>19.09</td>\n",
       "      <td>38.45</td>\n",
       "      <td>76.17</td>\n",
       "      <td>88.02</td>\n",
       "      <td>159.47</td>\n",
       "      <td>13.0</td>\n",
       "      <td>0.39</td>\n",
       "      <td>...</td>\n",
       "      <td>0.32</td>\n",
       "      <td>0.09</td>\n",
       "      <td>0.18</td>\n",
       "      <td>0.26</td>\n",
       "      <td>0.34</td>\n",
       "      <td>0.38</td>\n",
       "      <td>0.45</td>\n",
       "      <td>BW-0288</td>\n",
       "      <td>02-13-2024</td>\n",
       "      <td>gait_vertical_left_yolo.csv</td>\n",
       "    </tr>\n",
       "    <tr>\n",
       "      <th>0</th>\n",
       "      <td>21.0</td>\n",
       "      <td>59.19</td>\n",
       "      <td>47.46</td>\n",
       "      <td>0.61</td>\n",
       "      <td>11.28</td>\n",
       "      <td>62.70</td>\n",
       "      <td>91.97</td>\n",
       "      <td>172.28</td>\n",
       "      <td>21.0</td>\n",
       "      <td>0.37</td>\n",
       "      <td>...</td>\n",
       "      <td>0.28</td>\n",
       "      <td>0.25</td>\n",
       "      <td>0.00</td>\n",
       "      <td>0.12</td>\n",
       "      <td>0.24</td>\n",
       "      <td>0.31</td>\n",
       "      <td>0.99</td>\n",
       "      <td>BW-0288</td>\n",
       "      <td>02-13-2024</td>\n",
       "      <td>gait_vertical_right_yolo.csv</td>\n",
       "    </tr>\n",
       "    <tr>\n",
       "      <th>0</th>\n",
       "      <td>7.0</td>\n",
       "      <td>225.17</td>\n",
       "      <td>215.54</td>\n",
       "      <td>12.81</td>\n",
       "      <td>117.29</td>\n",
       "      <td>181.49</td>\n",
       "      <td>233.42</td>\n",
       "      <td>680.46</td>\n",
       "      <td>7.0</td>\n",
       "      <td>0.34</td>\n",
       "      <td>...</td>\n",
       "      <td>0.28</td>\n",
       "      <td>0.18</td>\n",
       "      <td>0.01</td>\n",
       "      <td>0.23</td>\n",
       "      <td>0.29</td>\n",
       "      <td>0.30</td>\n",
       "      <td>0.61</td>\n",
       "      <td>BW-0292</td>\n",
       "      <td>02-22-2024</td>\n",
       "      <td>gait_vertical_left_yolo.csv</td>\n",
       "    </tr>\n",
       "    <tr>\n",
       "      <th>0</th>\n",
       "      <td>6.0</td>\n",
       "      <td>203.04</td>\n",
       "      <td>187.76</td>\n",
       "      <td>87.86</td>\n",
       "      <td>102.75</td>\n",
       "      <td>146.24</td>\n",
       "      <td>163.35</td>\n",
       "      <td>580.58</td>\n",
       "      <td>6.0</td>\n",
       "      <td>0.34</td>\n",
       "      <td>...</td>\n",
       "      <td>0.28</td>\n",
       "      <td>0.16</td>\n",
       "      <td>0.17</td>\n",
       "      <td>0.19</td>\n",
       "      <td>0.23</td>\n",
       "      <td>0.27</td>\n",
       "      <td>0.60</td>\n",
       "      <td>BW-0292</td>\n",
       "      <td>02-22-2024</td>\n",
       "      <td>gait_vertical_right_yolo.csv</td>\n",
       "    </tr>\n",
       "  </tbody>\n",
       "</table>\n",
       "<p>76 rows × 27 columns</p>\n",
       "</div>"
      ],
      "text/plain": [
       "    delta_pix_h_count  delta_pix_h_mean  delta_pix_h_std  delta_pix_h_min  \\\n",
       "0                10.0            537.28           603.55             8.94   \n",
       "0                 8.0            580.01           550.91            46.71   \n",
       "0                15.0            266.57           160.05            29.62   \n",
       "0                16.0            260.24           155.89            35.98   \n",
       "0                13.0             62.66            47.20            10.50   \n",
       "..                ...               ...              ...              ...   \n",
       "0                 6.0            263.24           162.37            62.44   \n",
       "0                13.0             72.25            42.34            19.09   \n",
       "0                21.0             59.19            47.46             0.61   \n",
       "0                 7.0            225.17           215.54            12.81   \n",
       "0                 6.0            203.04           187.76            87.86   \n",
       "\n",
       "    delta_pix_h_25%  delta_pix_h_50%  delta_pix_h_75%  delta_pix_h_max  \\\n",
       "0            103.34           191.98           972.64          1739.00   \n",
       "0            189.45           411.36           787.36          1734.39   \n",
       "0            131.34           210.75           386.10           511.51   \n",
       "0            158.36           246.05           381.04           547.61   \n",
       "0             20.27            52.95            94.89           147.78   \n",
       "..              ...              ...              ...              ...   \n",
       "0            147.19           258.63           373.37           478.11   \n",
       "0             38.45            76.17            88.02           159.47   \n",
       "0             11.28            62.70            91.97           172.28   \n",
       "0            117.29           181.49           233.42           680.46   \n",
       "0            102.75           146.24           163.35           580.58   \n",
       "\n",
       "    delta_pix_h_rel_count  delta_pix_h_rel_mean  ...  delta_pix_h_log_mean  \\\n",
       "0                    10.0                  6.39  ...                  1.03   \n",
       "0                     7.0                  3.66  ...                  0.76   \n",
       "0                    15.0                  0.38  ...                  0.32   \n",
       "0                    16.0                  0.35  ...                  0.29   \n",
       "0                    13.0                  0.35  ...                  0.29   \n",
       "..                    ...                   ...  ...                   ...   \n",
       "0                     4.0                  6.58  ...                  1.36   \n",
       "0                    13.0                  0.39  ...                  0.32   \n",
       "0                    21.0                  0.37  ...                  0.28   \n",
       "0                     7.0                  0.34  ...                  0.28   \n",
       "0                     6.0                  0.34  ...                  0.28   \n",
       "\n",
       "    delta_pix_h_log_std  delta_pix_h_log_min  delta_pix_h_log_25%  \\\n",
       "0                  1.35                 0.01                 0.13   \n",
       "0                  1.08                 0.06                 0.26   \n",
       "0                  0.14                 0.08                 0.25   \n",
       "0                  0.13                 0.10                 0.17   \n",
       "0                  0.13                 0.06                 0.20   \n",
       "..                  ...                  ...                  ...   \n",
       "0                  1.28                 0.24                 0.55   \n",
       "0                  0.09                 0.18                 0.26   \n",
       "0                  0.25                 0.00                 0.12   \n",
       "0                  0.18                 0.01                 0.23   \n",
       "0                  0.16                 0.17                 0.19   \n",
       "\n",
       "    delta_pix_h_log_50%  delta_pix_h_log_75%  delta_pix_h_log_max  id_video  \\\n",
       "0                  0.22                 1.66                 3.49   BW-0018   \n",
       "0                  0.40                 0.59                 3.17   BW-0018   \n",
       "0                  0.29                 0.38                 0.54   BW-0023   \n",
       "0                  0.34                 0.39                 0.50   BW-0023   \n",
       "0                  0.34                 0.38                 0.47   BW-0023   \n",
       "..                  ...                  ...                  ...       ...   \n",
       "0                  1.03                 1.84                 3.14   BW-0276   \n",
       "0                  0.34                 0.38                 0.45   BW-0288   \n",
       "0                  0.24                 0.31                 0.99   BW-0288   \n",
       "0                  0.29                 0.30                 0.61   BW-0292   \n",
       "0                  0.23                 0.27                 0.60   BW-0292   \n",
       "\n",
       "    visit_date_video                      filename  \n",
       "0           10-24-23   gait_vertical_left_yolo.csv  \n",
       "0           10-24-23  gait_vertical_right_yolo.csv  \n",
       "0           05-05-23   gait_vertical_left_yolo.csv  \n",
       "0           05-05-23  gait_vertical_right_yolo.csv  \n",
       "0           10-23-23   gait_vertical_left_yolo.csv  \n",
       "..               ...                           ...  \n",
       "0         01-17-2024  gait_vertical_right_yolo.csv  \n",
       "0         02-13-2024   gait_vertical_left_yolo.csv  \n",
       "0         02-13-2024  gait_vertical_right_yolo.csv  \n",
       "0         02-22-2024   gait_vertical_left_yolo.csv  \n",
       "0         02-22-2024  gait_vertical_right_yolo.csv  \n",
       "\n",
       "[76 rows x 27 columns]"
      ]
     },
     "execution_count": 5,
     "metadata": {},
     "output_type": "execute_result"
    }
   ],
   "source": [
    "depth_proxy_describe_all"
   ]
  },
  {
   "cell_type": "code",
   "execution_count": 6,
   "id": "0c8ee593-68a4-418e-8dd6-939de88ace4e",
   "metadata": {},
   "outputs": [],
   "source": [
    "depth_proxy_describe_all.to_csv(os.path.join(output_folder, csv_file_name)) "
   ]
  }
 ],
 "metadata": {
  "kernelspec": {
   "display_name": "venv_home_video_analysis_2",
   "language": "python",
   "name": "venv_home_video_analysis_2"
  },
  "language_info": {
   "codemirror_mode": {
    "name": "ipython",
    "version": 3
   },
   "file_extension": ".py",
   "mimetype": "text/x-python",
   "name": "python",
   "nbconvert_exporter": "python",
   "pygments_lexer": "ipython3",
   "version": "3.10.11"
  }
 },
 "nbformat": 4,
 "nbformat_minor": 5
}
