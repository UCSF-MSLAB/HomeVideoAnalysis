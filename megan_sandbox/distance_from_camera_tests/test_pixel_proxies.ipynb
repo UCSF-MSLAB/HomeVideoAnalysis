{
 "cells": [
  {
   "cell_type": "code",
   "execution_count": 1,
   "id": "c95a6f8a-3079-47d1-bbf1-b4668ae6d25d",
   "metadata": {},
   "outputs": [],
   "source": [
    "import pandas as pd \n",
    "import numpy as np \n",
    "import os \n",
    "import seaborn as sns \n",
    "import matplotlib.pyplot as plt\n",
    "import math\n",
    "import scipy.signal as sig"
   ]
  },
  {
   "cell_type": "code",
   "execution_count": 2,
   "id": "32019666-0c88-4e57-9db1-fe30036bea47",
   "metadata": {},
   "outputs": [],
   "source": [
    "# Set input path to run all analysis \n",
    "# folder with all raw pose data (dir_in_path) \n",
    "raw_pose_data_in_path = r'C:\\Users\\mmccu\\Box\\MM_Personal\\5_Projects\\BoveLab\\3_Data_and_Code\\gait_bw_zeno_outputs_004\\subset_for_memory_c'\n",
    "# fps for zeno = 30\n",
    "fps = 30\n",
    "\n",
    "output_folder = r'C:\\Users\\mmccu\\Box\\MM_Personal\\5_Projects\\BoveLab\\3_Data_and_Code\\test_velocity_01302025\\zeno_all_height_proxy_outputs'"
   ]
  },
  {
   "cell_type": "code",
   "execution_count": 3,
   "id": "fe812f23-ffbf-4c52-9e29-0e64d62d2f09",
   "metadata": {},
   "outputs": [],
   "source": [
    "def calc_pix_size_change(start_frame, end_frame, df, fps): \n",
    "    start_row = df.loc[df['frame'] == start_frame]\n",
    "    end_row = df.loc[df['frame'] == end_frame]\n",
    "\n",
    "    # height in pixel at start and end of time group \n",
    "    pix_h_start = start_row['approx_height_Y_pix_smooth'].iloc[0]\n",
    "    pix_h_end = end_row['approx_height_Y_pix_smooth'].iloc[0]\n",
    "\n",
    "    # for consistency, only calculate when walking toward camera - height is getting bigger as walking toward \n",
    "    if pix_h_end > pix_h_start:\n",
    "        # Change in pixel height from start to end \n",
    "        delta_pix_h = pix_h_end - pix_h_start\n",
    "\n",
    "        # change in pixel height relative to start\n",
    "        delta_pix_h_rel = delta_pix_h / pix_h_start\n",
    "\n",
    "        # logarithmic scaling \n",
    "        delta_pix_h_log = math.log(pix_h_end / pix_h_start)\n",
    "\n",
    "    else: \n",
    "        delta_pix_h = np.nan\n",
    "        delta_pix_h_rel = np.nan\n",
    "        delta_pix_h_log = np.nan\n",
    "\n",
    "\n",
    "    return delta_pix_h, delta_pix_h_rel, delta_pix_h_log"
   ]
  },
  {
   "cell_type": "code",
   "execution_count": 5,
   "id": "d1443b3c-73d7-4942-b8f0-8d073d917a90",
   "metadata": {},
   "outputs": [
    {
     "name": "stdout",
     "output_type": "stream",
     "text": [
      "C:\\Users\\mmccu\\Box\\MM_Personal\\5_Projects\\BoveLab\\3_Data_and_Code\\gait_bw_zeno_outputs_004\\subset_for_memory_c\\BW-0204\\2023_07_31\\000_raw_pose_data\\gait_vertical_FW_1_yolo.csv\n",
      "   frame  approx_height_Y_pix  approx_height_Y_pix_smooth  time_group\n",
      "0      0            700.06964                  700.069640           0\n",
      "1      1            697.64510                  698.857370           0\n",
      "2      2            694.22046                  697.311733           0\n",
      "3      3            692.88730                  696.205625           0\n",
      "4      4            692.22820                  695.410140           0\n",
      "C:\\Users\\mmccu\\Box\\MM_Personal\\5_Projects\\BoveLab\\3_Data_and_Code\\gait_bw_zeno_outputs_004\\subset_for_memory_c\\BW-0204\\2023_07_31\\000_raw_pose_data\\gait_vertical_PWS_1_yolo.csv\n",
      "   frame  approx_height_Y_pix  approx_height_Y_pix_smooth  time_group\n",
      "0      0                  0.0                         0.0           0\n",
      "1      1                  0.0                         0.0           0\n",
      "2      2                  0.0                         0.0           0\n",
      "3      3                  0.0                         0.0           0\n",
      "4      4                  0.0                         0.0           0\n"
     ]
    },
    {
     "name": "stderr",
     "output_type": "stream",
     "text": [
      "C:\\Users\\mmccu\\AppData\\Local\\Temp\\ipykernel_23824\\802653250.py:15: RuntimeWarning: divide by zero encountered in scalar divide\n",
      "  delta_pix_h_rel = delta_pix_h / pix_h_start\n",
      "C:\\Users\\mmccu\\AppData\\Local\\Temp\\ipykernel_23824\\802653250.py:18: RuntimeWarning: divide by zero encountered in scalar divide\n",
      "  delta_pix_h_log = math.log(pix_h_end / pix_h_start)\n"
     ]
    },
    {
     "name": "stdout",
     "output_type": "stream",
     "text": [
      "C:\\Users\\mmccu\\Box\\MM_Personal\\5_Projects\\BoveLab\\3_Data_and_Code\\gait_bw_zeno_outputs_004\\subset_for_memory_c\\BW-0205\\2023_08_02\\000_raw_pose_data\\gait_vertical_FW_1_yolo.csv\n",
      "   frame  approx_height_Y_pix  approx_height_Y_pix_smooth  time_group\n",
      "0      0            231.08405                  231.084050           0\n",
      "1      1            240.68867                  235.886360           0\n",
      "2      2            246.27069                  239.347803           0\n",
      "3      3            248.56501                  241.652105           0\n",
      "4      4            250.62430                  243.446544           0\n",
      "C:\\Users\\mmccu\\Box\\MM_Personal\\5_Projects\\BoveLab\\3_Data_and_Code\\gait_bw_zeno_outputs_004\\subset_for_memory_c\\BW-0205\\2024_08_07\\000_raw_pose_data\\gait_vertical_FW_1_yolo.csv\n",
      "   frame  approx_height_Y_pix  approx_height_Y_pix_smooth  time_group\n",
      "0      0                  0.0                         0.0           0\n",
      "1      1                  0.0                         0.0           0\n",
      "2      2                  0.0                         0.0           0\n",
      "3      3                  0.0                         0.0           0\n",
      "4      4                  0.0                         0.0           0\n",
      "C:\\Users\\mmccu\\Box\\MM_Personal\\5_Projects\\BoveLab\\3_Data_and_Code\\gait_bw_zeno_outputs_004\\subset_for_memory_c\\BW-0205\\2024_08_07\\000_raw_pose_data\\gait_vertical_PWS_1_yolo.csv\n",
      "   frame  approx_height_Y_pix  approx_height_Y_pix_smooth  time_group\n",
      "0      0            688.19165                  688.191650           0\n",
      "1      1            687.61150                  687.901575           0\n",
      "2      2            688.84730                  688.216817           0\n",
      "3      3            684.84880                  687.374812           0\n",
      "4      4            682.04926                  686.309702           0\n",
      "C:\\Users\\mmccu\\Box\\MM_Personal\\5_Projects\\BoveLab\\3_Data_and_Code\\gait_bw_zeno_outputs_004\\subset_for_memory_c\\BW-0207\\2023_07_31\\000_raw_pose_data\\gait_vertical_FW_1_yolo.csv\n",
      "   frame  approx_height_Y_pix  approx_height_Y_pix_smooth  time_group\n",
      "0      0                  0.0                         0.0           0\n",
      "1      1                  0.0                         0.0           0\n",
      "2      2                  0.0                         0.0           0\n",
      "3      3                  0.0                         0.0           0\n",
      "4      4                  0.0                         0.0           0\n",
      "C:\\Users\\mmccu\\Box\\MM_Personal\\5_Projects\\BoveLab\\3_Data_and_Code\\gait_bw_zeno_outputs_004\\subset_for_memory_c\\BW-0207\\2023_07_31\\000_raw_pose_data\\gait_vertical_PWS_1_yolo.csv\n"
     ]
    },
    {
     "name": "stderr",
     "output_type": "stream",
     "text": [
      "C:\\Users\\mmccu\\AppData\\Local\\Temp\\ipykernel_23824\\802653250.py:15: RuntimeWarning: divide by zero encountered in scalar divide\n",
      "  delta_pix_h_rel = delta_pix_h / pix_h_start\n",
      "C:\\Users\\mmccu\\AppData\\Local\\Temp\\ipykernel_23824\\802653250.py:18: RuntimeWarning: divide by zero encountered in scalar divide\n",
      "  delta_pix_h_log = math.log(pix_h_end / pix_h_start)\n"
     ]
    },
    {
     "name": "stdout",
     "output_type": "stream",
     "text": [
      "   frame  approx_height_Y_pix  approx_height_Y_pix_smooth  time_group\n",
      "0      0            592.44890                  592.448900           0\n",
      "1      1            594.19965                  593.324275           0\n",
      "2      2            595.92865                  594.192400           0\n",
      "3      3            595.14386                  594.430265           0\n",
      "4      4            591.72070                  593.888352           0\n",
      "C:\\Users\\mmccu\\Box\\MM_Personal\\5_Projects\\BoveLab\\3_Data_and_Code\\gait_bw_zeno_outputs_004\\subset_for_memory_c\\BW-0209\\2023_07_28\\000_raw_pose_data\\gait_vertical_FW_1_yolo.csv\n",
      "   frame  approx_height_Y_pix  approx_height_Y_pix_smooth  time_group\n",
      "0      0            185.75241                  185.752410           0\n",
      "1      1            186.66654                  186.209475           0\n",
      "2      2            185.91600                  186.111650           0\n",
      "3      3            183.24942                  185.396093           0\n",
      "4      4            178.82908                  184.082690           0\n",
      "C:\\Users\\mmccu\\Box\\MM_Personal\\5_Projects\\BoveLab\\3_Data_and_Code\\gait_bw_zeno_outputs_004\\subset_for_memory_c\\BW-0209\\2023_07_28\\000_raw_pose_data\\gait_vertical_PWS_1_yolo.csv\n"
     ]
    },
    {
     "name": "stderr",
     "output_type": "stream",
     "text": [
      "C:\\Users\\mmccu\\AppData\\Local\\Temp\\ipykernel_23824\\802653250.py:15: RuntimeWarning: divide by zero encountered in scalar divide\n",
      "  delta_pix_h_rel = delta_pix_h / pix_h_start\n",
      "C:\\Users\\mmccu\\AppData\\Local\\Temp\\ipykernel_23824\\802653250.py:18: RuntimeWarning: divide by zero encountered in scalar divide\n",
      "  delta_pix_h_log = math.log(pix_h_end / pix_h_start)\n"
     ]
    },
    {
     "name": "stdout",
     "output_type": "stream",
     "text": [
      "   frame  approx_height_Y_pix  approx_height_Y_pix_smooth  time_group\n",
      "0      0           189.767800                  189.767800           0\n",
      "1      1           190.452340                  190.110070           0\n",
      "2      2           191.593564                  190.604568           0\n",
      "3      3           192.568420                  191.095531           0\n",
      "4      4           192.563275                  191.389080           0\n",
      "C:\\Users\\mmccu\\Box\\MM_Personal\\5_Projects\\BoveLab\\3_Data_and_Code\\gait_bw_zeno_outputs_004\\subset_for_memory_c\\BW-0210\\2023_08_03\\000_raw_pose_data\\gait_vertical_FW_1_yolo.csv\n",
      "   frame  approx_height_Y_pix  approx_height_Y_pix_smooth  time_group\n",
      "0      0              0.00000                    0.000000           0\n",
      "1      1            694.74854                  347.374270           0\n",
      "2      2            693.06067                  462.603070           0\n",
      "3      3              0.00000                  346.952302           0\n",
      "4      4            692.56775                  416.075392           0\n"
     ]
    },
    {
     "name": "stderr",
     "output_type": "stream",
     "text": [
      "C:\\Users\\mmccu\\AppData\\Local\\Temp\\ipykernel_23824\\802653250.py:15: RuntimeWarning: divide by zero encountered in scalar divide\n",
      "  delta_pix_h_rel = delta_pix_h / pix_h_start\n",
      "C:\\Users\\mmccu\\AppData\\Local\\Temp\\ipykernel_23824\\802653250.py:18: RuntimeWarning: divide by zero encountered in scalar divide\n",
      "  delta_pix_h_log = math.log(pix_h_end / pix_h_start)\n"
     ]
    },
    {
     "name": "stdout",
     "output_type": "stream",
     "text": [
      "C:\\Users\\mmccu\\Box\\MM_Personal\\5_Projects\\BoveLab\\3_Data_and_Code\\gait_bw_zeno_outputs_004\\subset_for_memory_c\\BW-0210\\2023_08_03\\000_raw_pose_data\\gait_vertical_PWS_1_yolo.csv\n",
      "   frame  approx_height_Y_pix  approx_height_Y_pix_smooth  time_group\n",
      "0      0            710.68445                  710.684450           0\n",
      "1      1            703.45080                  707.067625           0\n",
      "2      2            705.04956                  706.394937           0\n",
      "3      3            706.43005                  706.403715           0\n",
      "4      4            705.77350                  706.277672           0\n"
     ]
    },
    {
     "name": "stderr",
     "output_type": "stream",
     "text": [
      "C:\\Users\\mmccu\\AppData\\Local\\Temp\\ipykernel_23824\\802653250.py:15: RuntimeWarning: divide by zero encountered in scalar divide\n",
      "  delta_pix_h_rel = delta_pix_h / pix_h_start\n",
      "C:\\Users\\mmccu\\AppData\\Local\\Temp\\ipykernel_23824\\802653250.py:18: RuntimeWarning: divide by zero encountered in scalar divide\n",
      "  delta_pix_h_log = math.log(pix_h_end / pix_h_start)\n"
     ]
    },
    {
     "name": "stdout",
     "output_type": "stream",
     "text": [
      "C:\\Users\\mmccu\\Box\\MM_Personal\\5_Projects\\BoveLab\\3_Data_and_Code\\gait_bw_zeno_outputs_004\\subset_for_memory_c\\BW-0211\\2024_03_22\\000_raw_pose_data\\gait_vertical_FW_1_yolo.csv\n",
      "   frame  approx_height_Y_pix  approx_height_Y_pix_smooth  time_group\n",
      "0      0               0.0000                     0.00000           0\n",
      "1      1               0.0000                     0.00000           0\n",
      "2      2               0.0000                     0.00000           0\n",
      "3      3             689.4612                   172.36530           0\n",
      "4      4             687.5231                   275.39686           0\n",
      "C:\\Users\\mmccu\\Box\\MM_Personal\\5_Projects\\BoveLab\\3_Data_and_Code\\gait_bw_zeno_outputs_004\\subset_for_memory_c\\BW-0211\\2024_03_22\\000_raw_pose_data\\gait_vertical_PWS_1_yolo.csv\n"
     ]
    },
    {
     "name": "stderr",
     "output_type": "stream",
     "text": [
      "C:\\Users\\mmccu\\AppData\\Local\\Temp\\ipykernel_23824\\802653250.py:15: RuntimeWarning: divide by zero encountered in scalar divide\n",
      "  delta_pix_h_rel = delta_pix_h / pix_h_start\n",
      "C:\\Users\\mmccu\\AppData\\Local\\Temp\\ipykernel_23824\\802653250.py:18: RuntimeWarning: divide by zero encountered in scalar divide\n",
      "  delta_pix_h_log = math.log(pix_h_end / pix_h_start)\n"
     ]
    },
    {
     "name": "stdout",
     "output_type": "stream",
     "text": [
      "   frame  approx_height_Y_pix  approx_height_Y_pix_smooth  time_group\n",
      "0      0             627.3080                   627.30800           0\n",
      "1      1             621.4839                   624.39595           0\n",
      "2      2             620.0512                   622.94770           0\n",
      "3      3             622.2377                   622.77020           0\n",
      "4      4             613.5823                   620.93262           0\n",
      "C:\\Users\\mmccu\\Box\\MM_Personal\\5_Projects\\BoveLab\\3_Data_and_Code\\gait_bw_zeno_outputs_004\\subset_for_memory_c\\BW-0212\\2023_08_09\\000_raw_pose_data\\gait_vertical_FW_1_yolo.csv\n",
      "   frame  approx_height_Y_pix  approx_height_Y_pix_smooth  time_group\n",
      "0      0                  0.0                         0.0           0\n",
      "1      1                  0.0                         0.0           0\n",
      "2      2                  0.0                         0.0           0\n",
      "3      3                  0.0                         0.0           0\n",
      "4      4                  0.0                         0.0           0\n",
      "C:\\Users\\mmccu\\Box\\MM_Personal\\5_Projects\\BoveLab\\3_Data_and_Code\\gait_bw_zeno_outputs_004\\subset_for_memory_c\\BW-0212\\2023_08_09\\000_raw_pose_data\\gait_vertical_PWS_1_yolo.csv\n",
      "   frame  approx_height_Y_pix  approx_height_Y_pix_smooth  time_group\n",
      "0      0            692.54870                  692.548700           0\n",
      "1      1            693.05396                  692.801330           0\n",
      "2      2            690.66266                  692.088440           0\n",
      "3      3              0.00000                  519.066330           0\n",
      "4      4            693.43250                  553.939564           0\n",
      "C:\\Users\\mmccu\\Box\\MM_Personal\\5_Projects\\BoveLab\\3_Data_and_Code\\gait_bw_zeno_outputs_004\\subset_for_memory_c\\BW-0213\\2023_08_10\\000_raw_pose_data\\gait_vertical_FW_1_yolo.csv\n",
      "   frame  approx_height_Y_pix  approx_height_Y_pix_smooth  time_group\n",
      "0      0                  0.0                         0.0           0\n",
      "1      1                  0.0                         0.0           0\n",
      "2      2                  0.0                         0.0           0\n",
      "3      3                  0.0                         0.0           0\n",
      "4      4                  0.0                         0.0           0\n",
      "C:\\Users\\mmccu\\Box\\MM_Personal\\5_Projects\\BoveLab\\3_Data_and_Code\\gait_bw_zeno_outputs_004\\subset_for_memory_c\\BW-0213\\2023_08_10\\000_raw_pose_data\\gait_vertical_PWS_1_yolo.csv\n",
      "   frame  approx_height_Y_pix  approx_height_Y_pix_smooth  time_group\n",
      "0      0                  0.0                         0.0           0\n",
      "1      1                  0.0                         0.0           0\n",
      "2      2                  0.0                         0.0           0\n",
      "3      3                  0.0                         0.0           0\n",
      "4      4                  0.0                         0.0           0\n",
      "C:\\Users\\mmccu\\Box\\MM_Personal\\5_Projects\\BoveLab\\3_Data_and_Code\\gait_bw_zeno_outputs_004\\subset_for_memory_c\\BW-0213\\2024_07_31\\000_raw_pose_data\\gait_vertical_FW_1_yolo.csv\n"
     ]
    },
    {
     "name": "stderr",
     "output_type": "stream",
     "text": [
      "C:\\Users\\mmccu\\AppData\\Local\\Temp\\ipykernel_23824\\802653250.py:15: RuntimeWarning: divide by zero encountered in scalar divide\n",
      "  delta_pix_h_rel = delta_pix_h / pix_h_start\n",
      "C:\\Users\\mmccu\\AppData\\Local\\Temp\\ipykernel_23824\\802653250.py:18: RuntimeWarning: divide by zero encountered in scalar divide\n",
      "  delta_pix_h_log = math.log(pix_h_end / pix_h_start)\n"
     ]
    },
    {
     "name": "stdout",
     "output_type": "stream",
     "text": [
      "   frame  approx_height_Y_pix  approx_height_Y_pix_smooth  time_group\n",
      "0      0                  0.0                         0.0           0\n",
      "1      1                  0.0                         0.0           0\n",
      "2      2                  0.0                         0.0           0\n",
      "3      3                  0.0                         0.0           0\n",
      "4      4                  0.0                         0.0           0\n",
      "C:\\Users\\mmccu\\Box\\MM_Personal\\5_Projects\\BoveLab\\3_Data_and_Code\\gait_bw_zeno_outputs_004\\subset_for_memory_c\\BW-0214\\2023_08_10\\000_raw_pose_data\\gait_vertical_FW_1_yolo.csv\n"
     ]
    },
    {
     "name": "stderr",
     "output_type": "stream",
     "text": [
      "C:\\Users\\mmccu\\AppData\\Local\\Temp\\ipykernel_23824\\802653250.py:15: RuntimeWarning: divide by zero encountered in scalar divide\n",
      "  delta_pix_h_rel = delta_pix_h / pix_h_start\n",
      "C:\\Users\\mmccu\\AppData\\Local\\Temp\\ipykernel_23824\\802653250.py:18: RuntimeWarning: divide by zero encountered in scalar divide\n",
      "  delta_pix_h_log = math.log(pix_h_end / pix_h_start)\n"
     ]
    },
    {
     "name": "stdout",
     "output_type": "stream",
     "text": [
      "   frame  approx_height_Y_pix  approx_height_Y_pix_smooth  time_group\n",
      "0      0              0.00000                    0.000000           0\n",
      "1      1              0.00000                    0.000000           0\n",
      "2      2            699.92500                  233.308333           0\n",
      "3      3            703.62933                  350.888582           0\n",
      "4      4            712.14360                  423.139586           0\n",
      "C:\\Users\\mmccu\\Box\\MM_Personal\\5_Projects\\BoveLab\\3_Data_and_Code\\gait_bw_zeno_outputs_004\\subset_for_memory_c\\BW-0214\\2023_08_10\\000_raw_pose_data\\gait_vertical_PWS_1_yolo.csv\n",
      "   frame  approx_height_Y_pix  approx_height_Y_pix_smooth  time_group\n",
      "0      0                  0.0                         0.0           0\n",
      "1      1                  0.0                         0.0           0\n",
      "2      2                  0.0                         0.0           0\n",
      "3      3                  0.0                         0.0           0\n",
      "4      4                  0.0                         0.0           0\n",
      "C:\\Users\\mmccu\\Box\\MM_Personal\\5_Projects\\BoveLab\\3_Data_and_Code\\gait_bw_zeno_outputs_004\\subset_for_memory_c\\BW-0214\\2024_08_15\\000_raw_pose_data\\gait_vertical_FW_1_yolo.csv\n"
     ]
    },
    {
     "name": "stderr",
     "output_type": "stream",
     "text": [
      "C:\\Users\\mmccu\\AppData\\Local\\Temp\\ipykernel_23824\\802653250.py:15: RuntimeWarning: divide by zero encountered in scalar divide\n",
      "  delta_pix_h_rel = delta_pix_h / pix_h_start\n",
      "C:\\Users\\mmccu\\AppData\\Local\\Temp\\ipykernel_23824\\802653250.py:18: RuntimeWarning: divide by zero encountered in scalar divide\n",
      "  delta_pix_h_log = math.log(pix_h_end / pix_h_start)\n"
     ]
    },
    {
     "name": "stdout",
     "output_type": "stream",
     "text": [
      "   frame  approx_height_Y_pix  approx_height_Y_pix_smooth  time_group\n",
      "0      0            592.23334                  592.233340           0\n",
      "1      1            591.85400                  592.043670           0\n",
      "2      2            594.00085                  592.696063           0\n",
      "3      3            594.32020                  593.102098           0\n",
      "4      4            593.49695                  593.181068           0\n",
      "C:\\Users\\mmccu\\Box\\MM_Personal\\5_Projects\\BoveLab\\3_Data_and_Code\\gait_bw_zeno_outputs_004\\subset_for_memory_c\\BW-0214\\2024_08_15\\000_raw_pose_data\\gait_vertical_PWS_1_yolo.csv\n",
      "   frame  approx_height_Y_pix  approx_height_Y_pix_smooth  time_group\n",
      "0      0            698.63340                  698.633400           0\n",
      "1      1            695.52075                  697.077075           0\n",
      "2      2            704.46390                  699.539350           0\n",
      "3      3            689.54680                  697.041213           0\n",
      "4      4            683.88544                  694.410058           0\n",
      "C:\\Users\\mmccu\\Box\\MM_Personal\\5_Projects\\BoveLab\\3_Data_and_Code\\gait_bw_zeno_outputs_004\\subset_for_memory_c\\BW-0217\\2023_08_21\\000_raw_pose_data\\gait_vertical_FW_1_yolo.csv\n",
      "   frame  approx_height_Y_pix  approx_height_Y_pix_smooth  time_group\n",
      "0      0                  0.0                         0.0           0\n",
      "1      1                  0.0                         0.0           0\n",
      "2      2                  0.0                         0.0           0\n",
      "3      3                  0.0                         0.0           0\n",
      "4      4                  0.0                         0.0           0\n",
      "C:\\Users\\mmccu\\Box\\MM_Personal\\5_Projects\\BoveLab\\3_Data_and_Code\\gait_bw_zeno_outputs_004\\subset_for_memory_c\\BW-0217\\2023_08_21\\000_raw_pose_data\\gait_vertical_PWS_1_yolo.csv\n"
     ]
    },
    {
     "name": "stderr",
     "output_type": "stream",
     "text": [
      "C:\\Users\\mmccu\\AppData\\Local\\Temp\\ipykernel_23824\\802653250.py:15: RuntimeWarning: divide by zero encountered in scalar divide\n",
      "  delta_pix_h_rel = delta_pix_h / pix_h_start\n",
      "C:\\Users\\mmccu\\AppData\\Local\\Temp\\ipykernel_23824\\802653250.py:18: RuntimeWarning: divide by zero encountered in scalar divide\n",
      "  delta_pix_h_log = math.log(pix_h_end / pix_h_start)\n"
     ]
    },
    {
     "name": "stdout",
     "output_type": "stream",
     "text": [
      "   frame  approx_height_Y_pix  approx_height_Y_pix_smooth  time_group\n",
      "0      0            701.62500                  701.625000           0\n",
      "1      1            706.00380                  703.814400           0\n",
      "2      2            706.73236                  704.787053           0\n",
      "3      3            706.10333                  705.116122           0\n",
      "4      4            704.83610                  705.060118           0\n",
      "C:\\Users\\mmccu\\Box\\MM_Personal\\5_Projects\\BoveLab\\3_Data_and_Code\\gait_bw_zeno_outputs_004\\subset_for_memory_c\\BW-0218\\2023_08_21\\000_raw_pose_data\\gait_vertical_FW_1_yolo.csv\n",
      "   frame  approx_height_Y_pix  approx_height_Y_pix_smooth  time_group\n",
      "0      0            696.60300                  696.603000           0\n",
      "1      1            688.09155                  692.347275           0\n",
      "2      2            683.34000                  689.344850           0\n",
      "3      3            683.59200                  687.906637           0\n",
      "4      4            696.10284                  689.545878           0\n",
      "C:\\Users\\mmccu\\Box\\MM_Personal\\5_Projects\\BoveLab\\3_Data_and_Code\\gait_bw_zeno_outputs_004\\subset_for_memory_c\\BW-0218\\2023_08_21\\000_raw_pose_data\\gait_vertical_PWS_1_yolo.csv\n",
      "   frame  approx_height_Y_pix  approx_height_Y_pix_smooth  time_group\n",
      "0      0            678.71606                  678.716060           0\n",
      "1      1            674.65300                  676.684530           0\n",
      "2      2            659.12400                  670.831020           0\n",
      "3      3            663.73510                  669.057040           0\n",
      "4      4            663.27420                  667.900472           0\n",
      "C:\\Users\\mmccu\\Box\\MM_Personal\\5_Projects\\BoveLab\\3_Data_and_Code\\gait_bw_zeno_outputs_004\\subset_for_memory_c\\BW-0219\\2023_08_21\\000_raw_pose_data\\gait_vertical_FW_1_yolo.csv\n",
      "   frame  approx_height_Y_pix  approx_height_Y_pix_smooth  time_group\n",
      "0      0            465.27695                  465.276950           0\n",
      "1      1            456.71045                  460.993700           0\n",
      "2      2            454.25903                  458.748810           0\n",
      "3      3            451.59370                  456.960033           0\n",
      "4      4            448.06274                  455.180574           0\n",
      "C:\\Users\\mmccu\\Box\\MM_Personal\\5_Projects\\BoveLab\\3_Data_and_Code\\gait_bw_zeno_outputs_004\\subset_for_memory_c\\BW-0219\\2023_08_21\\000_raw_pose_data\\gait_vertical_PWS_1_yolo.csv\n",
      "   frame  approx_height_Y_pix  approx_height_Y_pix_smooth  time_group\n",
      "0      0             575.9663                   575.96630           0\n",
      "1      1             576.7446                   576.35545           0\n",
      "2      2             580.3198                   577.67690           0\n",
      "3      3             582.8555                   578.97155           0\n",
      "4      4             579.3532                   579.04788           0\n",
      "C:\\Users\\mmccu\\Box\\MM_Personal\\5_Projects\\BoveLab\\3_Data_and_Code\\gait_bw_zeno_outputs_004\\subset_for_memory_c\\BW-0221\\2023_08_23\\000_raw_pose_data\\gait_vertical_FW_1_yolo.csv\n",
      "   frame  approx_height_Y_pix  approx_height_Y_pix_smooth  time_group\n",
      "0      0                  0.0                         0.0           0\n",
      "1      1                  0.0                         0.0           0\n",
      "2      2                  0.0                         0.0           0\n",
      "3      3                  0.0                         0.0           0\n",
      "4      4                  0.0                         0.0           0\n",
      "C:\\Users\\mmccu\\Box\\MM_Personal\\5_Projects\\BoveLab\\3_Data_and_Code\\gait_bw_zeno_outputs_004\\subset_for_memory_c\\BW-0221\\2023_08_23\\000_raw_pose_data\\gait_vertical_PWS_1_yolo.csv\n"
     ]
    },
    {
     "name": "stderr",
     "output_type": "stream",
     "text": [
      "C:\\Users\\mmccu\\AppData\\Local\\Temp\\ipykernel_23824\\802653250.py:15: RuntimeWarning: divide by zero encountered in scalar divide\n",
      "  delta_pix_h_rel = delta_pix_h / pix_h_start\n",
      "C:\\Users\\mmccu\\AppData\\Local\\Temp\\ipykernel_23824\\802653250.py:18: RuntimeWarning: divide by zero encountered in scalar divide\n",
      "  delta_pix_h_log = math.log(pix_h_end / pix_h_start)\n"
     ]
    },
    {
     "name": "stdout",
     "output_type": "stream",
     "text": [
      "   frame  approx_height_Y_pix  approx_height_Y_pix_smooth  time_group\n",
      "0      0            472.91470                  472.914700           0\n",
      "1      1            470.61575                  471.765225           0\n",
      "2      2            469.02032                  470.850257           0\n",
      "3      3            460.82166                  468.343107           0\n",
      "4      4            456.60312                  465.995110           0\n",
      "C:\\Users\\mmccu\\Box\\MM_Personal\\5_Projects\\BoveLab\\3_Data_and_Code\\gait_bw_zeno_outputs_004\\subset_for_memory_c\\BW-0227\\2023_09_20\\000_raw_pose_data\\gait_vertical_FW_1_yolo.csv\n",
      "   frame  approx_height_Y_pix  approx_height_Y_pix_smooth  time_group\n",
      "0      0            208.69455                  208.694550           0\n",
      "1      1            208.79950                  208.747025           0\n",
      "2      2            208.94282                  208.812290           0\n",
      "3      3            208.68838                  208.781313           0\n",
      "4      4            208.53175                  208.731400           0\n",
      "C:\\Users\\mmccu\\Box\\MM_Personal\\5_Projects\\BoveLab\\3_Data_and_Code\\gait_bw_zeno_outputs_004\\subset_for_memory_c\\BW-0227\\2023_09_20\\000_raw_pose_data\\gait_vertical_PWS_1_yolo.csv\n"
     ]
    },
    {
     "name": "stderr",
     "output_type": "stream",
     "text": [
      "C:\\Users\\mmccu\\AppData\\Local\\Temp\\ipykernel_23824\\802653250.py:15: RuntimeWarning: divide by zero encountered in scalar divide\n",
      "  delta_pix_h_rel = delta_pix_h / pix_h_start\n",
      "C:\\Users\\mmccu\\AppData\\Local\\Temp\\ipykernel_23824\\802653250.py:18: RuntimeWarning: divide by zero encountered in scalar divide\n",
      "  delta_pix_h_log = math.log(pix_h_end / pix_h_start)\n"
     ]
    },
    {
     "name": "stdout",
     "output_type": "stream",
     "text": [
      "   frame  approx_height_Y_pix  approx_height_Y_pix_smooth  time_group\n",
      "0      0            212.30688                  212.306880           0\n",
      "1      1            212.40172                  212.354300           0\n",
      "2      2            211.80853                  212.172377           0\n",
      "3      3            215.70152                  213.054663           0\n",
      "4      4            216.59527                  213.762784           0\n",
      "C:\\Users\\mmccu\\Box\\MM_Personal\\5_Projects\\BoveLab\\3_Data_and_Code\\gait_bw_zeno_outputs_004\\subset_for_memory_c\\BW-0228\\2023_05_05\\000_raw_pose_data\\gait_vertical_FW_1_yolo.csv\n"
     ]
    },
    {
     "name": "stderr",
     "output_type": "stream",
     "text": [
      "C:\\Users\\mmccu\\AppData\\Local\\Temp\\ipykernel_23824\\802653250.py:15: RuntimeWarning: divide by zero encountered in scalar divide\n",
      "  delta_pix_h_rel = delta_pix_h / pix_h_start\n",
      "C:\\Users\\mmccu\\AppData\\Local\\Temp\\ipykernel_23824\\802653250.py:18: RuntimeWarning: divide by zero encountered in scalar divide\n",
      "  delta_pix_h_log = math.log(pix_h_end / pix_h_start)\n"
     ]
    },
    {
     "name": "stdout",
     "output_type": "stream",
     "text": [
      "   frame  approx_height_Y_pix  approx_height_Y_pix_smooth  time_group\n",
      "0      0            680.56384                  680.563840           0\n",
      "1      1            684.16050                  682.362170           0\n",
      "2      2            681.72800                  682.150780           0\n",
      "3      3            680.72876                  681.795275           0\n",
      "4      4            679.96360                  681.428940           0\n",
      "C:\\Users\\mmccu\\Box\\MM_Personal\\5_Projects\\BoveLab\\3_Data_and_Code\\gait_bw_zeno_outputs_004\\subset_for_memory_c\\BW-0228\\2023_05_05\\000_raw_pose_data\\gait_vertical_PWS_1_yolo.csv\n",
      "   frame  approx_height_Y_pix  approx_height_Y_pix_smooth  time_group\n",
      "0      0                  0.0                         0.0           0\n",
      "1      1                  0.0                         0.0           0\n",
      "2      2                  0.0                         0.0           0\n",
      "3      3                  0.0                         0.0           0\n",
      "4      4                  0.0                         0.0           0\n",
      "C:\\Users\\mmccu\\Box\\MM_Personal\\5_Projects\\BoveLab\\3_Data_and_Code\\gait_bw_zeno_outputs_004\\subset_for_memory_c\\BW-0229\\2023_09_19\\000_raw_pose_data\\gait_vertical_FW_1_yolo.csv\n"
     ]
    },
    {
     "name": "stderr",
     "output_type": "stream",
     "text": [
      "C:\\Users\\mmccu\\AppData\\Local\\Temp\\ipykernel_23824\\802653250.py:15: RuntimeWarning: divide by zero encountered in scalar divide\n",
      "  delta_pix_h_rel = delta_pix_h / pix_h_start\n",
      "C:\\Users\\mmccu\\AppData\\Local\\Temp\\ipykernel_23824\\802653250.py:18: RuntimeWarning: divide by zero encountered in scalar divide\n",
      "  delta_pix_h_log = math.log(pix_h_end / pix_h_start)\n"
     ]
    },
    {
     "name": "stdout",
     "output_type": "stream",
     "text": [
      "   frame  approx_height_Y_pix  approx_height_Y_pix_smooth  time_group\n",
      "0      0                  0.0                         0.0           0\n",
      "1      1                  0.0                         0.0           0\n",
      "2      2                  0.0                         0.0           0\n",
      "3      3                  0.0                         0.0           0\n",
      "4      4                  0.0                         0.0           0\n",
      "C:\\Users\\mmccu\\Box\\MM_Personal\\5_Projects\\BoveLab\\3_Data_and_Code\\gait_bw_zeno_outputs_004\\subset_for_memory_c\\BW-0229\\2023_09_19\\000_raw_pose_data\\gait_vertical_PWS_1_yolo.csv\n"
     ]
    },
    {
     "name": "stderr",
     "output_type": "stream",
     "text": [
      "C:\\Users\\mmccu\\AppData\\Local\\Temp\\ipykernel_23824\\802653250.py:15: RuntimeWarning: divide by zero encountered in scalar divide\n",
      "  delta_pix_h_rel = delta_pix_h / pix_h_start\n",
      "C:\\Users\\mmccu\\AppData\\Local\\Temp\\ipykernel_23824\\802653250.py:18: RuntimeWarning: divide by zero encountered in scalar divide\n",
      "  delta_pix_h_log = math.log(pix_h_end / pix_h_start)\n"
     ]
    },
    {
     "name": "stdout",
     "output_type": "stream",
     "text": [
      "   frame  approx_height_Y_pix  approx_height_Y_pix_smooth  time_group\n",
      "0      0            693.96960                  693.969600           0\n",
      "1      1            690.44244                  692.206020           0\n",
      "2      2            694.39530                  692.935780           0\n",
      "3      3            693.40200                  693.052335           0\n",
      "4      4            693.09530                  693.060928           0\n"
     ]
    },
    {
     "name": "stderr",
     "output_type": "stream",
     "text": [
      "C:\\Users\\mmccu\\AppData\\Local\\Temp\\ipykernel_23824\\802653250.py:15: RuntimeWarning: divide by zero encountered in scalar divide\n",
      "  delta_pix_h_rel = delta_pix_h / pix_h_start\n",
      "C:\\Users\\mmccu\\AppData\\Local\\Temp\\ipykernel_23824\\802653250.py:18: RuntimeWarning: divide by zero encountered in scalar divide\n",
      "  delta_pix_h_log = math.log(pix_h_end / pix_h_start)\n"
     ]
    },
    {
     "name": "stdout",
     "output_type": "stream",
     "text": [
      "C:\\Users\\mmccu\\Box\\MM_Personal\\5_Projects\\BoveLab\\3_Data_and_Code\\gait_bw_zeno_outputs_004\\subset_for_memory_c\\BW-0230\\2023_09_19\\000_raw_pose_data\\gait_vertical_FW_1_yolo.csv\n",
      "   frame  approx_height_Y_pix  approx_height_Y_pix_smooth  time_group\n",
      "0      0            454.70660                  454.706600           0\n",
      "1      1            452.07350                  453.390050           0\n",
      "2      2            455.47934                  454.086480           0\n",
      "3      3            458.52353                  455.195742           0\n",
      "4      4            452.41226                  454.639046           0\n",
      "C:\\Users\\mmccu\\Box\\MM_Personal\\5_Projects\\BoveLab\\3_Data_and_Code\\gait_bw_zeno_outputs_004\\subset_for_memory_c\\BW-0230\\2023_09_19\\000_raw_pose_data\\gait_vertical_PWS_1_yolo.csv\n",
      "   frame  approx_height_Y_pix  approx_height_Y_pix_smooth  time_group\n",
      "0      0            518.97080                  518.970800           0\n",
      "1      1            503.35420                  511.162500           0\n",
      "2      2            492.46655                  504.930517           0\n",
      "3      3            490.99988                  501.447857           0\n",
      "4      4            490.06415                  499.171116           0\n",
      "C:\\Users\\mmccu\\Box\\MM_Personal\\5_Projects\\BoveLab\\3_Data_and_Code\\gait_bw_zeno_outputs_004\\subset_for_memory_c\\BW-0230\\2024_09_17\\000_raw_pose_data\\gait_vertical_FW_1_yolo.csv\n",
      "   frame  approx_height_Y_pix  approx_height_Y_pix_smooth  time_group\n",
      "0      0            611.07367                  611.073670           0\n",
      "1      1            613.98450                  612.529085           0\n",
      "2      2            613.73290                  612.930357           0\n",
      "3      3            613.48580                  613.069218           0\n",
      "4      4            613.00560                  613.056494           0\n",
      "C:\\Users\\mmccu\\Box\\MM_Personal\\5_Projects\\BoveLab\\3_Data_and_Code\\gait_bw_zeno_outputs_004\\subset_for_memory_c\\BW-0230\\2024_09_17\\000_raw_pose_data\\gait_vertical_PWS_1_yolo.csv\n",
      "   frame  approx_height_Y_pix  approx_height_Y_pix_smooth  time_group\n",
      "0      0            613.82690                  613.826900           0\n",
      "1      1            613.42270                  613.624800           0\n",
      "2      2            612.81230                  613.353967           0\n",
      "3      3            613.44305                  613.376238           0\n",
      "4      4            613.08230                  613.317450           0\n",
      "C:\\Users\\mmccu\\Box\\MM_Personal\\5_Projects\\BoveLab\\3_Data_and_Code\\gait_bw_zeno_outputs_004\\subset_for_memory_c\\BW-0232\\2023_10_04\\000_raw_pose_data\\gait_vertical_FW_1_yolo.csv\n"
     ]
    },
    {
     "name": "stderr",
     "output_type": "stream",
     "text": [
      "C:\\Users\\mmccu\\AppData\\Local\\Temp\\ipykernel_23824\\802653250.py:15: RuntimeWarning: divide by zero encountered in scalar divide\n",
      "  delta_pix_h_rel = delta_pix_h / pix_h_start\n",
      "C:\\Users\\mmccu\\AppData\\Local\\Temp\\ipykernel_23824\\802653250.py:18: RuntimeWarning: divide by zero encountered in scalar divide\n",
      "  delta_pix_h_log = math.log(pix_h_end / pix_h_start)\n"
     ]
    },
    {
     "name": "stdout",
     "output_type": "stream",
     "text": [
      "   frame  approx_height_Y_pix  approx_height_Y_pix_smooth  time_group\n",
      "0      0                  0.0                         0.0           0\n",
      "1      1                  0.0                         0.0           0\n",
      "2      2                  0.0                         0.0           0\n",
      "3      3                  0.0                         0.0           0\n",
      "4      4                  0.0                         0.0           0\n",
      "C:\\Users\\mmccu\\Box\\MM_Personal\\5_Projects\\BoveLab\\3_Data_and_Code\\gait_bw_zeno_outputs_004\\subset_for_memory_c\\BW-0232\\2023_10_04\\000_raw_pose_data\\gait_vertical_PWS_1_yolo.csv\n"
     ]
    },
    {
     "name": "stderr",
     "output_type": "stream",
     "text": [
      "C:\\Users\\mmccu\\AppData\\Local\\Temp\\ipykernel_23824\\802653250.py:15: RuntimeWarning: divide by zero encountered in scalar divide\n",
      "  delta_pix_h_rel = delta_pix_h / pix_h_start\n",
      "C:\\Users\\mmccu\\AppData\\Local\\Temp\\ipykernel_23824\\802653250.py:18: RuntimeWarning: divide by zero encountered in scalar divide\n",
      "  delta_pix_h_log = math.log(pix_h_end / pix_h_start)\n"
     ]
    },
    {
     "name": "stdout",
     "output_type": "stream",
     "text": [
      "   frame  approx_height_Y_pix  approx_height_Y_pix_smooth  time_group\n",
      "0      0                  0.0                         0.0           0\n",
      "1      1                  0.0                         0.0           0\n",
      "2      2                  0.0                         0.0           0\n",
      "3      3                  0.0                         0.0           0\n",
      "4      4                  0.0                         0.0           0\n",
      "C:\\Users\\mmccu\\Box\\MM_Personal\\5_Projects\\BoveLab\\3_Data_and_Code\\gait_bw_zeno_outputs_004\\subset_for_memory_c\\BW-0233\\2023_09_26\\000_raw_pose_data\\gait_vertical_FW_1_yolo.csv\n"
     ]
    },
    {
     "name": "stderr",
     "output_type": "stream",
     "text": [
      "C:\\Users\\mmccu\\AppData\\Local\\Temp\\ipykernel_23824\\802653250.py:15: RuntimeWarning: divide by zero encountered in scalar divide\n",
      "  delta_pix_h_rel = delta_pix_h / pix_h_start\n",
      "C:\\Users\\mmccu\\AppData\\Local\\Temp\\ipykernel_23824\\802653250.py:18: RuntimeWarning: divide by zero encountered in scalar divide\n",
      "  delta_pix_h_log = math.log(pix_h_end / pix_h_start)\n"
     ]
    },
    {
     "name": "stdout",
     "output_type": "stream",
     "text": [
      "   frame  approx_height_Y_pix  approx_height_Y_pix_smooth  time_group\n",
      "0      0                  0.0                         0.0           0\n",
      "1      1                  0.0                         0.0           0\n",
      "2      2                  0.0                         0.0           0\n",
      "3      3                  0.0                         0.0           0\n",
      "4      4                  0.0                         0.0           0\n",
      "C:\\Users\\mmccu\\Box\\MM_Personal\\5_Projects\\BoveLab\\3_Data_and_Code\\gait_bw_zeno_outputs_004\\subset_for_memory_c\\BW-0233\\2023_09_26\\000_raw_pose_data\\gait_vertical_PWS_1_yolo.csv\n"
     ]
    },
    {
     "name": "stderr",
     "output_type": "stream",
     "text": [
      "C:\\Users\\mmccu\\AppData\\Local\\Temp\\ipykernel_23824\\802653250.py:15: RuntimeWarning: divide by zero encountered in scalar divide\n",
      "  delta_pix_h_rel = delta_pix_h / pix_h_start\n",
      "C:\\Users\\mmccu\\AppData\\Local\\Temp\\ipykernel_23824\\802653250.py:18: RuntimeWarning: divide by zero encountered in scalar divide\n",
      "  delta_pix_h_log = math.log(pix_h_end / pix_h_start)\n"
     ]
    },
    {
     "name": "stdout",
     "output_type": "stream",
     "text": [
      "   frame  approx_height_Y_pix  approx_height_Y_pix_smooth  time_group\n",
      "0      0                  0.0                         0.0           0\n",
      "1      1                  0.0                         0.0           0\n",
      "2      2                  0.0                         0.0           0\n",
      "3      3                  0.0                         0.0           0\n",
      "4      4                  0.0                         0.0           0\n",
      "C:\\Users\\mmccu\\Box\\MM_Personal\\5_Projects\\BoveLab\\3_Data_and_Code\\gait_bw_zeno_outputs_004\\subset_for_memory_c\\BW-0233\\2024_07_17\\000_raw_pose_data\\gait_vertical_FW_1_yolo.csv\n"
     ]
    },
    {
     "name": "stderr",
     "output_type": "stream",
     "text": [
      "C:\\Users\\mmccu\\AppData\\Local\\Temp\\ipykernel_23824\\802653250.py:15: RuntimeWarning: divide by zero encountered in scalar divide\n",
      "  delta_pix_h_rel = delta_pix_h / pix_h_start\n",
      "C:\\Users\\mmccu\\AppData\\Local\\Temp\\ipykernel_23824\\802653250.py:18: RuntimeWarning: divide by zero encountered in scalar divide\n",
      "  delta_pix_h_log = math.log(pix_h_end / pix_h_start)\n"
     ]
    },
    {
     "name": "stdout",
     "output_type": "stream",
     "text": [
      "   frame  approx_height_Y_pix  approx_height_Y_pix_smooth  time_group\n",
      "0      0            711.16380                  711.163800           0\n",
      "1      1            718.76135                  714.962575           0\n",
      "2      2            718.22040                  716.048517           0\n",
      "3      3            715.70390                  715.962363           0\n",
      "4      4              0.00000                  572.769890           0\n",
      "C:\\Users\\mmccu\\Box\\MM_Personal\\5_Projects\\BoveLab\\3_Data_and_Code\\gait_bw_zeno_outputs_004\\subset_for_memory_c\\BW-0233\\2024_07_17\\000_raw_pose_data\\gait_vertical_PWS_1_yolo.csv\n",
      "   frame  approx_height_Y_pix  approx_height_Y_pix_smooth  time_group\n",
      "0      0            685.09033                  685.090330           0\n",
      "1      1            683.98254                  684.536435           0\n",
      "2      2            690.63257                  686.568480           0\n",
      "3      3            686.29803                  686.500868           0\n",
      "4      4            688.44140                  686.888974           0\n",
      "C:\\Users\\mmccu\\Box\\MM_Personal\\5_Projects\\BoveLab\\3_Data_and_Code\\gait_bw_zeno_outputs_004\\subset_for_memory_c\\BW-0237\\2023_10_05\\000_raw_pose_data\\gait_vertical_FW_1_yolo.csv\n",
      "   frame  approx_height_Y_pix  approx_height_Y_pix_smooth  time_group\n",
      "0      0                  0.0                         0.0           0\n",
      "1      1                  0.0                         0.0           0\n",
      "2      2                  0.0                         0.0           0\n",
      "3      3                  0.0                         0.0           0\n",
      "4      4                  0.0                         0.0           0\n",
      "C:\\Users\\mmccu\\Box\\MM_Personal\\5_Projects\\BoveLab\\3_Data_and_Code\\gait_bw_zeno_outputs_004\\subset_for_memory_c\\BW-0237\\2023_10_05\\000_raw_pose_data\\gait_vertical_PWS_1_yolo.csv\n"
     ]
    },
    {
     "name": "stderr",
     "output_type": "stream",
     "text": [
      "C:\\Users\\mmccu\\AppData\\Local\\Temp\\ipykernel_23824\\802653250.py:15: RuntimeWarning: divide by zero encountered in scalar divide\n",
      "  delta_pix_h_rel = delta_pix_h / pix_h_start\n",
      "C:\\Users\\mmccu\\AppData\\Local\\Temp\\ipykernel_23824\\802653250.py:18: RuntimeWarning: divide by zero encountered in scalar divide\n",
      "  delta_pix_h_log = math.log(pix_h_end / pix_h_start)\n"
     ]
    },
    {
     "name": "stdout",
     "output_type": "stream",
     "text": [
      "   frame  approx_height_Y_pix  approx_height_Y_pix_smooth  time_group\n",
      "0      0                  0.0                         0.0           0\n",
      "1      1                  0.0                         0.0           0\n",
      "2      2                  0.0                         0.0           0\n",
      "3      3                  0.0                         0.0           0\n",
      "4      4                  0.0                         0.0           0\n",
      "C:\\Users\\mmccu\\Box\\MM_Personal\\5_Projects\\BoveLab\\3_Data_and_Code\\gait_bw_zeno_outputs_004\\subset_for_memory_c\\BW-0237\\2024_10_03\\000_raw_pose_data\\gait_vertical_FW_1_yolo.csv\n"
     ]
    },
    {
     "name": "stderr",
     "output_type": "stream",
     "text": [
      "C:\\Users\\mmccu\\AppData\\Local\\Temp\\ipykernel_23824\\802653250.py:15: RuntimeWarning: divide by zero encountered in scalar divide\n",
      "  delta_pix_h_rel = delta_pix_h / pix_h_start\n",
      "C:\\Users\\mmccu\\AppData\\Local\\Temp\\ipykernel_23824\\802653250.py:18: RuntimeWarning: divide by zero encountered in scalar divide\n",
      "  delta_pix_h_log = math.log(pix_h_end / pix_h_start)\n"
     ]
    },
    {
     "name": "stdout",
     "output_type": "stream",
     "text": [
      "   frame  approx_height_Y_pix  approx_height_Y_pix_smooth  time_group\n",
      "0      0            708.17690                  708.176900           0\n",
      "1      1            708.12915                  708.153025           0\n",
      "2      2            707.85560                  708.053883           0\n",
      "3      3            707.35034                  707.877997           0\n",
      "4      4            707.46010                  707.794418           0\n",
      "C:\\Users\\mmccu\\Box\\MM_Personal\\5_Projects\\BoveLab\\3_Data_and_Code\\gait_bw_zeno_outputs_004\\subset_for_memory_c\\BW-0237\\2024_10_03\\000_raw_pose_data\\gait_vertical_PWS_1_yolo.csv\n",
      "   frame  approx_height_Y_pix  approx_height_Y_pix_smooth  time_group\n",
      "0      0               0.0000                     0.00000           0\n",
      "1      1               0.0000                     0.00000           0\n",
      "2      2               0.0000                     0.00000           0\n",
      "3      3               0.0000                     0.00000           0\n",
      "4      4             689.4877                   137.89754           0\n",
      "C:\\Users\\mmccu\\Box\\MM_Personal\\5_Projects\\BoveLab\\3_Data_and_Code\\gait_bw_zeno_outputs_004\\subset_for_memory_c\\BW-0241\\2023_10_23\\000_raw_pose_data\\gait_vertical_FW_1_yolo.csv\n"
     ]
    },
    {
     "name": "stderr",
     "output_type": "stream",
     "text": [
      "C:\\Users\\mmccu\\AppData\\Local\\Temp\\ipykernel_23824\\802653250.py:15: RuntimeWarning: divide by zero encountered in scalar divide\n",
      "  delta_pix_h_rel = delta_pix_h / pix_h_start\n",
      "C:\\Users\\mmccu\\AppData\\Local\\Temp\\ipykernel_23824\\802653250.py:18: RuntimeWarning: divide by zero encountered in scalar divide\n",
      "  delta_pix_h_log = math.log(pix_h_end / pix_h_start)\n"
     ]
    },
    {
     "name": "stdout",
     "output_type": "stream",
     "text": [
      "   frame  approx_height_Y_pix  approx_height_Y_pix_smooth  time_group\n",
      "0      0           246.265688                  246.265688           0\n",
      "1      1           248.303400                  247.284544           0\n",
      "2      2           246.914550                  247.161213           0\n",
      "3      3           247.310360                  247.198499           0\n",
      "4      4           245.502440                  246.859288           0\n",
      "C:\\Users\\mmccu\\Box\\MM_Personal\\5_Projects\\BoveLab\\3_Data_and_Code\\gait_bw_zeno_outputs_004\\subset_for_memory_c\\BW-0241\\2023_10_23\\000_raw_pose_data\\gait_vertical_PWS_1_yolo.csv\n",
      "   frame  approx_height_Y_pix  approx_height_Y_pix_smooth  time_group\n",
      "0      0           225.852391                  225.852391           0\n",
      "1      1           229.474827                  227.663609           0\n",
      "2      2           230.542613                  228.623277           0\n",
      "3      3           229.238079                  228.776978           0\n",
      "4      4           229.522380                  228.926058           0\n",
      "C:\\Users\\mmccu\\Box\\MM_Personal\\5_Projects\\BoveLab\\3_Data_and_Code\\gait_bw_zeno_outputs_004\\subset_for_memory_c\\BW-0243\\2023_10_31\\000_raw_pose_data\\gait_vertical_FW_1_yolo.csv\n",
      "   frame  approx_height_Y_pix  approx_height_Y_pix_smooth  time_group\n",
      "0      0           206.214180                  206.214180           0\n",
      "1      1           208.146530                  207.180355           0\n",
      "2      2           209.611360                  207.990690           0\n",
      "3      3           211.633333                  208.901351           0\n",
      "4      4           213.505870                  209.822255           0\n",
      "C:\\Users\\mmccu\\Box\\MM_Personal\\5_Projects\\BoveLab\\3_Data_and_Code\\gait_bw_zeno_outputs_004\\subset_for_memory_c\\BW-0243\\2023_10_31\\000_raw_pose_data\\gait_vertical_PWS_1_yolo.csv\n",
      "   frame  approx_height_Y_pix  approx_height_Y_pix_smooth  time_group\n",
      "0      0           212.053987                  212.053987           0\n",
      "1      1           211.721523                  211.887755           0\n",
      "2      2           211.049153                  211.608221           0\n",
      "3      3           210.738620                  211.390821           0\n",
      "4      4           210.698180                  211.252293           0\n",
      "C:\\Users\\mmccu\\Box\\MM_Personal\\5_Projects\\BoveLab\\3_Data_and_Code\\gait_bw_zeno_outputs_004\\subset_for_memory_c\\BW-0243\\2024_08_08\\000_raw_pose_data\\gait_vertical_PWS_1_yolo.csv\n",
      "   frame  approx_height_Y_pix  approx_height_Y_pix_smooth  time_group\n",
      "0      0            575.31793                  575.317930           0\n",
      "1      1            575.80860                  575.563265           0\n",
      "2      2            574.99790                  575.374810           0\n",
      "3      3            571.46640                  574.397708           0\n",
      "4      4            558.31683                  571.181532           0\n",
      "C:\\Users\\mmccu\\Box\\MM_Personal\\5_Projects\\BoveLab\\3_Data_and_Code\\gait_bw_zeno_outputs_004\\subset_for_memory_c\\BW-0244\\2023_11_01\\000_raw_pose_data\\gait_vertical_FW_1_yolo.csv\n"
     ]
    },
    {
     "name": "stderr",
     "output_type": "stream",
     "text": [
      "C:\\Users\\mmccu\\AppData\\Local\\Temp\\ipykernel_23824\\802653250.py:15: RuntimeWarning: divide by zero encountered in scalar divide\n",
      "  delta_pix_h_rel = delta_pix_h / pix_h_start\n",
      "C:\\Users\\mmccu\\AppData\\Local\\Temp\\ipykernel_23824\\802653250.py:18: RuntimeWarning: divide by zero encountered in scalar divide\n",
      "  delta_pix_h_log = math.log(pix_h_end / pix_h_start)\n"
     ]
    },
    {
     "name": "stdout",
     "output_type": "stream",
     "text": [
      "   frame  approx_height_Y_pix  approx_height_Y_pix_smooth  time_group\n",
      "0      0           179.002380                  179.002380           0\n",
      "1      1           178.976635                  178.989508           0\n",
      "2      2           179.141990                  179.040335           0\n",
      "3      3           178.714830                  178.958959           0\n",
      "4      4           178.778550                  178.922877           0\n",
      "C:\\Users\\mmccu\\Box\\MM_Personal\\5_Projects\\BoveLab\\3_Data_and_Code\\gait_bw_zeno_outputs_004\\subset_for_memory_c\\BW-0244\\2023_11_01\\000_raw_pose_data\\gait_vertical_PWS_1_yolo.csv\n"
     ]
    },
    {
     "name": "stderr",
     "output_type": "stream",
     "text": [
      "C:\\Users\\mmccu\\AppData\\Local\\Temp\\ipykernel_23824\\802653250.py:15: RuntimeWarning: divide by zero encountered in scalar divide\n",
      "  delta_pix_h_rel = delta_pix_h / pix_h_start\n",
      "C:\\Users\\mmccu\\AppData\\Local\\Temp\\ipykernel_23824\\802653250.py:18: RuntimeWarning: divide by zero encountered in scalar divide\n",
      "  delta_pix_h_log = math.log(pix_h_end / pix_h_start)\n"
     ]
    },
    {
     "name": "stdout",
     "output_type": "stream",
     "text": [
      "   frame  approx_height_Y_pix  approx_height_Y_pix_smooth  time_group\n",
      "0      0           178.881716                  178.881716           0\n",
      "1      1           178.880020                  178.880868           0\n",
      "2      2           178.921400                  178.894379           0\n",
      "3      3           178.800340                  178.870869           0\n",
      "4      4           178.447260                  178.786147           0\n"
     ]
    },
    {
     "name": "stderr",
     "output_type": "stream",
     "text": [
      "C:\\Users\\mmccu\\AppData\\Local\\Temp\\ipykernel_23824\\802653250.py:15: RuntimeWarning: divide by zero encountered in scalar divide\n",
      "  delta_pix_h_rel = delta_pix_h / pix_h_start\n",
      "C:\\Users\\mmccu\\AppData\\Local\\Temp\\ipykernel_23824\\802653250.py:18: RuntimeWarning: divide by zero encountered in scalar divide\n",
      "  delta_pix_h_log = math.log(pix_h_end / pix_h_start)\n"
     ]
    },
    {
     "name": "stdout",
     "output_type": "stream",
     "text": [
      "C:\\Users\\mmccu\\Box\\MM_Personal\\5_Projects\\BoveLab\\3_Data_and_Code\\gait_bw_zeno_outputs_004\\subset_for_memory_c\\BW-0244\\2024_06_05\\000_raw_pose_data\\gait_vertical_FW_1_yolo.csv\n",
      "   frame  approx_height_Y_pix  approx_height_Y_pix_smooth  time_group\n",
      "0      0                  0.0                         0.0           0\n",
      "1      1                  0.0                         0.0           0\n",
      "2      2                  0.0                         0.0           0\n",
      "3      3                  0.0                         0.0           0\n",
      "4      4                  0.0                         0.0           0\n",
      "C:\\Users\\mmccu\\Box\\MM_Personal\\5_Projects\\BoveLab\\3_Data_and_Code\\gait_bw_zeno_outputs_004\\subset_for_memory_c\\BW-0244\\2024_06_05\\000_raw_pose_data\\gait_vertical_PWS_1_yolo.csv\n"
     ]
    },
    {
     "name": "stderr",
     "output_type": "stream",
     "text": [
      "C:\\Users\\mmccu\\AppData\\Local\\Temp\\ipykernel_23824\\802653250.py:15: RuntimeWarning: divide by zero encountered in scalar divide\n",
      "  delta_pix_h_rel = delta_pix_h / pix_h_start\n",
      "C:\\Users\\mmccu\\AppData\\Local\\Temp\\ipykernel_23824\\802653250.py:18: RuntimeWarning: divide by zero encountered in scalar divide\n",
      "  delta_pix_h_log = math.log(pix_h_end / pix_h_start)\n"
     ]
    },
    {
     "name": "stdout",
     "output_type": "stream",
     "text": [
      "   frame  approx_height_Y_pix  approx_height_Y_pix_smooth  time_group\n",
      "0      0                  0.0                         0.0           0\n",
      "1      1                  0.0                         0.0           0\n",
      "2      2                  0.0                         0.0           0\n",
      "3      3                  0.0                         0.0           0\n",
      "4      4                  0.0                         0.0           0\n"
     ]
    },
    {
     "name": "stderr",
     "output_type": "stream",
     "text": [
      "C:\\Users\\mmccu\\AppData\\Local\\Temp\\ipykernel_23824\\802653250.py:15: RuntimeWarning: divide by zero encountered in scalar divide\n",
      "  delta_pix_h_rel = delta_pix_h / pix_h_start\n",
      "C:\\Users\\mmccu\\AppData\\Local\\Temp\\ipykernel_23824\\802653250.py:18: RuntimeWarning: divide by zero encountered in scalar divide\n",
      "  delta_pix_h_log = math.log(pix_h_end / pix_h_start)\n"
     ]
    },
    {
     "name": "stdout",
     "output_type": "stream",
     "text": [
      "C:\\Users\\mmccu\\Box\\MM_Personal\\5_Projects\\BoveLab\\3_Data_and_Code\\gait_bw_zeno_outputs_004\\subset_for_memory_c\\BW-0246\\2023_10_26\\000_raw_pose_data\\gait_vertical_FW_1_yolo.csv\n",
      "   frame  approx_height_Y_pix  approx_height_Y_pix_smooth  time_group\n",
      "0      0           219.489108                  219.489108           0\n",
      "1      1           225.401670                  222.445389           0\n",
      "2      2           230.095108                  224.995295           0\n",
      "3      3           229.849705                  226.208898           0\n",
      "4      4           237.366967                  228.440512           0\n",
      "C:\\Users\\mmccu\\Box\\MM_Personal\\5_Projects\\BoveLab\\3_Data_and_Code\\gait_bw_zeno_outputs_004\\subset_for_memory_c\\BW-0246\\2023_10_26\\000_raw_pose_data\\gait_vertical_PWS_1_yolo.csv\n",
      "   frame  approx_height_Y_pix  approx_height_Y_pix_smooth  time_group\n",
      "0      0           209.955900                  209.955900           0\n",
      "1      1           211.014323                  210.485112           0\n",
      "2      2           205.922650                  208.964291           0\n",
      "3      3           208.950608                  208.960870           0\n",
      "4      4           205.438920                  208.256480           0\n",
      "C:\\Users\\mmccu\\Box\\MM_Personal\\5_Projects\\BoveLab\\3_Data_and_Code\\gait_bw_zeno_outputs_004\\subset_for_memory_c\\BW-0246\\2024_04_11\\000_raw_pose_data\\gait_vertical_FW_1_yolo.csv\n"
     ]
    },
    {
     "name": "stderr",
     "output_type": "stream",
     "text": [
      "C:\\Users\\mmccu\\AppData\\Local\\Temp\\ipykernel_23824\\802653250.py:15: RuntimeWarning: divide by zero encountered in scalar divide\n",
      "  delta_pix_h_rel = delta_pix_h / pix_h_start\n",
      "C:\\Users\\mmccu\\AppData\\Local\\Temp\\ipykernel_23824\\802653250.py:18: RuntimeWarning: divide by zero encountered in scalar divide\n",
      "  delta_pix_h_log = math.log(pix_h_end / pix_h_start)\n"
     ]
    },
    {
     "name": "stdout",
     "output_type": "stream",
     "text": [
      "   frame  approx_height_Y_pix  approx_height_Y_pix_smooth  time_group\n",
      "0      0                  0.0                         0.0           0\n",
      "1      1                  0.0                         0.0           0\n",
      "2      2                  0.0                         0.0           0\n",
      "3      3                  0.0                         0.0           0\n",
      "4      4                  0.0                         0.0           0\n",
      "C:\\Users\\mmccu\\Box\\MM_Personal\\5_Projects\\BoveLab\\3_Data_and_Code\\gait_bw_zeno_outputs_004\\subset_for_memory_c\\BW-0246\\2024_04_11\\000_raw_pose_data\\gait_vertical_PWS_1_yolo.csv\n"
     ]
    },
    {
     "name": "stderr",
     "output_type": "stream",
     "text": [
      "C:\\Users\\mmccu\\AppData\\Local\\Temp\\ipykernel_23824\\802653250.py:15: RuntimeWarning: divide by zero encountered in scalar divide\n",
      "  delta_pix_h_rel = delta_pix_h / pix_h_start\n",
      "C:\\Users\\mmccu\\AppData\\Local\\Temp\\ipykernel_23824\\802653250.py:18: RuntimeWarning: divide by zero encountered in scalar divide\n",
      "  delta_pix_h_log = math.log(pix_h_end / pix_h_start)\n"
     ]
    },
    {
     "name": "stdout",
     "output_type": "stream",
     "text": [
      "   frame  approx_height_Y_pix  approx_height_Y_pix_smooth  time_group\n",
      "0      0            681.28250                  681.282500           0\n",
      "1      1            672.13336                  676.707930           0\n",
      "2      2            658.33400                  670.583287           0\n",
      "3      3            634.26650                  661.504090           0\n",
      "4      4            622.62770                  653.728812           0\n",
      "C:\\Users\\mmccu\\Box\\MM_Personal\\5_Projects\\BoveLab\\3_Data_and_Code\\gait_bw_zeno_outputs_004\\subset_for_memory_c\\BW-0251\\2023_11_14\\000_raw_pose_data\\gait_vertical_FW_1_yolo.csv\n",
      "   frame  approx_height_Y_pix  approx_height_Y_pix_smooth  time_group\n",
      "0      0            276.58475                  276.584750           0\n",
      "1      1            276.24880                  276.416775           0\n",
      "2      2            275.85553                  276.229693           0\n",
      "3      3            276.28840                  276.244370           0\n",
      "4      4            276.13565                  276.222626           0\n",
      "C:\\Users\\mmccu\\Box\\MM_Personal\\5_Projects\\BoveLab\\3_Data_and_Code\\gait_bw_zeno_outputs_004\\subset_for_memory_c\\BW-0251\\2023_11_14\\000_raw_pose_data\\gait_vertical_PWS_1_yolo.csv\n",
      "   frame  approx_height_Y_pix  approx_height_Y_pix_smooth  time_group\n",
      "0      0            275.91583                  275.915830           0\n",
      "1      1            276.33237                  276.124100           0\n",
      "2      2            276.24976                  276.165987           0\n",
      "3      3            275.78503                  276.070748           0\n",
      "4      4            186.44191                  258.144980           0\n",
      "C:\\Users\\mmccu\\Box\\MM_Personal\\5_Projects\\BoveLab\\3_Data_and_Code\\gait_bw_zeno_outputs_004\\subset_for_memory_c\\BW-0252\\2023_11_14\\000_raw_pose_data\\gait_vertical_FW_1_yolo.csv\n",
      "   frame  approx_height_Y_pix  approx_height_Y_pix_smooth  time_group\n",
      "0      0           293.787170                  293.787170           0\n",
      "1      1           218.276964                  256.032067           0\n",
      "2      2           297.660370                  269.908168           0\n",
      "3      3           292.406100                  275.532651           0\n",
      "4      4           292.391050                  278.904331           0\n",
      "C:\\Users\\mmccu\\Box\\MM_Personal\\5_Projects\\BoveLab\\3_Data_and_Code\\gait_bw_zeno_outputs_004\\subset_for_memory_c\\BW-0252\\2023_11_14\\000_raw_pose_data\\gait_vertical_PWS_1_yolo.csv\n",
      "   frame  approx_height_Y_pix  approx_height_Y_pix_smooth  time_group\n",
      "0      0            287.90503                  287.905030           0\n",
      "1      1            288.84167                  288.373350           0\n",
      "2      2            296.24110                  290.995933           0\n",
      "3      3            296.76877                  292.439143           0\n",
      "4      4            235.67844                  281.087002           0\n",
      "C:\\Users\\mmccu\\Box\\MM_Personal\\5_Projects\\BoveLab\\3_Data_and_Code\\gait_bw_zeno_outputs_004\\subset_for_memory_c\\BW-0252\\2024_05_22\\000_raw_pose_data\\gait_vertical_FW_1_yolo.csv\n",
      "   frame  approx_height_Y_pix  approx_height_Y_pix_smooth  time_group\n",
      "0      0           196.533460                  196.533460           0\n",
      "1      1           195.522210                  196.027835           0\n",
      "2      2           195.769350                  195.941673           0\n",
      "3      3           195.924755                  195.937444           0\n",
      "4      4           196.063980                  195.962751           0\n",
      "C:\\Users\\mmccu\\Box\\MM_Personal\\5_Projects\\BoveLab\\3_Data_and_Code\\gait_bw_zeno_outputs_004\\subset_for_memory_c\\BW-0252\\2024_05_22\\000_raw_pose_data\\gait_vertical_PWS_1_yolo.csv\n",
      "   frame  approx_height_Y_pix  approx_height_Y_pix_smooth  time_group\n",
      "0      0            198.85440                  198.854400           0\n",
      "1      1            199.22383                  199.039115           0\n",
      "2      2            199.13696                  199.071730           0\n",
      "3      3            198.99715                  199.053085           0\n",
      "4      4            198.94386                  199.031240           0\n",
      "C:\\Users\\mmccu\\Box\\MM_Personal\\5_Projects\\BoveLab\\3_Data_and_Code\\gait_bw_zeno_outputs_004\\subset_for_memory_c\\BW-0253\\2023_11_13\\000_raw_pose_data\\gait_vertical_FW_1_yolo.csv\n",
      "   frame  approx_height_Y_pix  approx_height_Y_pix_smooth  time_group\n",
      "0      0            418.41010                  418.410100           0\n",
      "1      1            411.66077                  415.035435           0\n",
      "2      2            417.02747                  415.699447           0\n",
      "3      3            404.34230                  412.860160           0\n",
      "4      4            406.01498                  411.491124           0\n",
      "C:\\Users\\mmccu\\Box\\MM_Personal\\5_Projects\\BoveLab\\3_Data_and_Code\\gait_bw_zeno_outputs_004\\subset_for_memory_c\\BW-0253\\2024_08_28\\000_raw_pose_data\\gait_vertical_FW_1_yolo.csv\n",
      "   frame  approx_height_Y_pix  approx_height_Y_pix_smooth  time_group\n",
      "0      0                  0.0                         0.0           0\n",
      "1      1                  0.0                         0.0           0\n",
      "2      2                  0.0                         0.0           0\n",
      "3      3                  0.0                         0.0           0\n",
      "4      4                  0.0                         0.0           0\n",
      "C:\\Users\\mmccu\\Box\\MM_Personal\\5_Projects\\BoveLab\\3_Data_and_Code\\gait_bw_zeno_outputs_004\\subset_for_memory_c\\BW-0253\\2024_08_28\\000_raw_pose_data\\gait_vertical_PWS_1_yolo.csv\n"
     ]
    },
    {
     "name": "stderr",
     "output_type": "stream",
     "text": [
      "C:\\Users\\mmccu\\AppData\\Local\\Temp\\ipykernel_23824\\802653250.py:15: RuntimeWarning: divide by zero encountered in scalar divide\n",
      "  delta_pix_h_rel = delta_pix_h / pix_h_start\n",
      "C:\\Users\\mmccu\\AppData\\Local\\Temp\\ipykernel_23824\\802653250.py:18: RuntimeWarning: divide by zero encountered in scalar divide\n",
      "  delta_pix_h_log = math.log(pix_h_end / pix_h_start)\n"
     ]
    },
    {
     "name": "stdout",
     "output_type": "stream",
     "text": [
      "   frame  approx_height_Y_pix  approx_height_Y_pix_smooth  time_group\n",
      "0      0                  0.0                         0.0           0\n",
      "1      1                  0.0                         0.0           0\n",
      "2      2                  0.0                         0.0           0\n",
      "3      3                  0.0                         0.0           0\n",
      "4      4                  0.0                         0.0           0\n",
      "C:\\Users\\mmccu\\Box\\MM_Personal\\5_Projects\\BoveLab\\3_Data_and_Code\\gait_bw_zeno_outputs_004\\subset_for_memory_c\\BW-0255\\2023_11_20\\000_raw_pose_data\\gait_vertical_FW_1_yolo.csv\n"
     ]
    },
    {
     "name": "stderr",
     "output_type": "stream",
     "text": [
      "C:\\Users\\mmccu\\AppData\\Local\\Temp\\ipykernel_23824\\802653250.py:15: RuntimeWarning: divide by zero encountered in scalar divide\n",
      "  delta_pix_h_rel = delta_pix_h / pix_h_start\n",
      "C:\\Users\\mmccu\\AppData\\Local\\Temp\\ipykernel_23824\\802653250.py:18: RuntimeWarning: divide by zero encountered in scalar divide\n",
      "  delta_pix_h_log = math.log(pix_h_end / pix_h_start)\n"
     ]
    },
    {
     "name": "stdout",
     "output_type": "stream",
     "text": [
      "   frame  approx_height_Y_pix  approx_height_Y_pix_smooth  time_group\n",
      "0      0            695.26180                  695.261800           0\n",
      "1      1            695.55980                  695.410800           0\n",
      "2      2            697.10240                  695.974667           0\n",
      "3      3            696.39350                  696.079375           0\n",
      "4      4            700.14514                  696.892528           0\n",
      "C:\\Users\\mmccu\\Box\\MM_Personal\\5_Projects\\BoveLab\\3_Data_and_Code\\gait_bw_zeno_outputs_004\\subset_for_memory_c\\BW-0255\\2023_11_20\\000_raw_pose_data\\gait_vertical_PWS_1_yolo.csv\n"
     ]
    },
    {
     "name": "stderr",
     "output_type": "stream",
     "text": [
      "C:\\Users\\mmccu\\AppData\\Local\\Temp\\ipykernel_23824\\802653250.py:15: RuntimeWarning: divide by zero encountered in scalar divide\n",
      "  delta_pix_h_rel = delta_pix_h / pix_h_start\n",
      "C:\\Users\\mmccu\\AppData\\Local\\Temp\\ipykernel_23824\\802653250.py:18: RuntimeWarning: divide by zero encountered in scalar divide\n",
      "  delta_pix_h_log = math.log(pix_h_end / pix_h_start)\n"
     ]
    },
    {
     "name": "stdout",
     "output_type": "stream",
     "text": [
      "   frame  approx_height_Y_pix  approx_height_Y_pix_smooth  time_group\n",
      "0      0            623.33570                  623.335700           0\n",
      "1      1            620.88690                  622.111300           0\n",
      "2      2            620.46560                  621.562733           0\n",
      "3      3            611.32060                  619.002200           0\n",
      "4      4            614.64246                  618.130252           0\n"
     ]
    },
    {
     "name": "stderr",
     "output_type": "stream",
     "text": [
      "C:\\Users\\mmccu\\AppData\\Local\\Temp\\ipykernel_23824\\802653250.py:15: RuntimeWarning: divide by zero encountered in scalar divide\n",
      "  delta_pix_h_rel = delta_pix_h / pix_h_start\n",
      "C:\\Users\\mmccu\\AppData\\Local\\Temp\\ipykernel_23824\\802653250.py:18: RuntimeWarning: divide by zero encountered in scalar divide\n",
      "  delta_pix_h_log = math.log(pix_h_end / pix_h_start)\n"
     ]
    },
    {
     "name": "stdout",
     "output_type": "stream",
     "text": [
      "C:\\Users\\mmccu\\Box\\MM_Personal\\5_Projects\\BoveLab\\3_Data_and_Code\\gait_bw_zeno_outputs_004\\subset_for_memory_c\\BW-0256\\2023_11_20\\000_raw_pose_data\\gait_vertical_FW_1_yolo.csv\n",
      "   frame  approx_height_Y_pix  approx_height_Y_pix_smooth  time_group\n",
      "0      0            703.03613                  703.036130           0\n",
      "1      1            702.31700                  702.676565           0\n",
      "2      2            703.61255                  702.988560           0\n",
      "3      3            701.69696                  702.665660           0\n",
      "4      4            701.87225                  702.506978           0\n",
      "C:\\Users\\mmccu\\Box\\MM_Personal\\5_Projects\\BoveLab\\3_Data_and_Code\\gait_bw_zeno_outputs_004\\subset_for_memory_c\\BW-0256\\2023_11_20\\000_raw_pose_data\\gait_vertical_PWS_1_yolo.csv\n",
      "   frame  approx_height_Y_pix  approx_height_Y_pix_smooth  time_group\n",
      "0      0            692.16460                  692.164600           0\n",
      "1      1            692.63617                  692.400385           0\n",
      "2      2            693.06396                  692.621577           0\n",
      "3      3            694.52290                  693.096908           0\n",
      "4      4            690.47000                  692.571526           0\n",
      "C:\\Users\\mmccu\\Box\\MM_Personal\\5_Projects\\BoveLab\\3_Data_and_Code\\gait_bw_zeno_outputs_004\\subset_for_memory_c\\BW-0258\\2023_11_29\\000_raw_pose_data\\gait_vertical_FW_1_yolo.csv\n",
      "   frame  approx_height_Y_pix  approx_height_Y_pix_smooth  time_group\n",
      "0      0             580.1527                  580.152700           0\n",
      "1      1             544.6650                  562.408850           0\n",
      "2      2             533.9126                  552.910100           0\n",
      "3      3             522.1312                  545.215375           0\n",
      "4      4             512.3918                  538.650660           0\n",
      "C:\\Users\\mmccu\\Box\\MM_Personal\\5_Projects\\BoveLab\\3_Data_and_Code\\gait_bw_zeno_outputs_004\\subset_for_memory_c\\BW-0258\\2023_11_29\\000_raw_pose_data\\gait_vertical_PWS_1_yolo.csv\n",
      "   frame  approx_height_Y_pix  approx_height_Y_pix_smooth  time_group\n",
      "0      0            696.71606                  696.716060           0\n",
      "1      1            695.29626                  696.006160           0\n",
      "2      2            694.85740                  695.623240           0\n",
      "3      3            694.99493                  695.466162           0\n",
      "4      4            713.18634                  699.010198           0\n",
      "C:\\Users\\mmccu\\Box\\MM_Personal\\5_Projects\\BoveLab\\3_Data_and_Code\\gait_bw_zeno_outputs_004\\subset_for_memory_c\\BW-0259\\2023_11_29\\000_raw_pose_data\\gait_vertical_FW_1_yolo.csv\n",
      "   frame  approx_height_Y_pix  approx_height_Y_pix_smooth  time_group\n",
      "0      0            449.75650                  449.756500           0\n",
      "1      1            449.52103                  449.638765           0\n",
      "2      2            434.64790                  444.641810           0\n",
      "3      3            436.32642                  442.562963           0\n",
      "4      4            427.51575                  439.553520           0\n",
      "C:\\Users\\mmccu\\Box\\MM_Personal\\5_Projects\\BoveLab\\3_Data_and_Code\\gait_bw_zeno_outputs_004\\subset_for_memory_c\\BW-0259\\2023_11_29\\000_raw_pose_data\\gait_vertical_PWS_1_yolo.csv\n",
      "   frame  approx_height_Y_pix  approx_height_Y_pix_smooth  time_group\n",
      "0      0            482.70690                  482.706900           0\n",
      "1      1            478.68634                  480.696620           0\n",
      "2      2            471.90753                  477.766923           0\n",
      "3      3            475.52832                  477.207272           0\n",
      "4      4            471.15220                  475.996258           0\n",
      "C:\\Users\\mmccu\\Box\\MM_Personal\\5_Projects\\BoveLab\\3_Data_and_Code\\gait_bw_zeno_outputs_004\\subset_for_memory_c\\BW-0261\\2023_12_05\\000_raw_pose_data\\gait_vertical_FW_1_yolo.csv\n",
      "   frame  approx_height_Y_pix  approx_height_Y_pix_smooth  time_group\n",
      "0      0              0.00000                    0.000000           0\n",
      "1      1            702.57040                  351.285200           0\n",
      "2      2            702.48346                  468.351287           0\n",
      "3      3              0.00000                  351.263465           0\n",
      "4      4              0.00000                  281.010772           0\n",
      "C:\\Users\\mmccu\\Box\\MM_Personal\\5_Projects\\BoveLab\\3_Data_and_Code\\gait_bw_zeno_outputs_004\\subset_for_memory_c\\BW-0261\\2023_12_05\\000_raw_pose_data\\gait_vertical_PWS_1_yolo.csv\n",
      "   frame  approx_height_Y_pix  approx_height_Y_pix_smooth  time_group\n",
      "0      0            681.30820                  681.308200           0\n",
      "1      1            679.21716                  680.262680           0\n",
      "2      2            681.33704                  680.620800           0\n",
      "3      3            671.29090                  678.288325           0\n",
      "4      4            665.73100                  675.776860           0\n",
      "C:\\Users\\mmccu\\Box\\MM_Personal\\5_Projects\\BoveLab\\3_Data_and_Code\\gait_bw_zeno_outputs_004\\subset_for_memory_c\\BW-0262\\2023_12_05\\000_raw_pose_data\\gait_vertical_FW_1_yolo.csv\n",
      "   frame  approx_height_Y_pix  approx_height_Y_pix_smooth  time_group\n",
      "0      0            688.88727                  688.887270           0\n",
      "1      1            692.03345                  690.460360           0\n",
      "2      2            695.26380                  692.061507           0\n",
      "3      3            696.88170                  693.266555           0\n",
      "4      4            698.57680                  694.328604           0\n",
      "C:\\Users\\mmccu\\Box\\MM_Personal\\5_Projects\\BoveLab\\3_Data_and_Code\\gait_bw_zeno_outputs_004\\subset_for_memory_c\\BW-0262\\2023_12_05\\000_raw_pose_data\\gait_vertical_PWS_1_yolo.csv\n",
      "   frame  approx_height_Y_pix  approx_height_Y_pix_smooth  time_group\n",
      "0      0            697.04250                  697.042500           0\n",
      "1      1            698.99615                  698.019325           0\n",
      "2      2            697.19293                  697.743860           0\n",
      "3      3            696.00854                  697.310030           0\n",
      "4      4            696.10780                  697.069584           0\n",
      "C:\\Users\\mmccu\\Box\\MM_Personal\\5_Projects\\BoveLab\\3_Data_and_Code\\gait_bw_zeno_outputs_004\\subset_for_memory_c\\BW-0263\\2023_12_06\\000_raw_pose_data\\gait_vertical_FW_1_yolo.csv\n",
      "   frame  approx_height_Y_pix  approx_height_Y_pix_smooth  time_group\n",
      "0      0            696.42510                  696.425100           0\n",
      "1      1            694.74097                  695.583035           0\n",
      "2      2            694.74084                  695.302303           0\n",
      "3      3            688.99140                  693.724578           0\n",
      "4      4            680.53330                  691.086322           0\n",
      "C:\\Users\\mmccu\\Box\\MM_Personal\\5_Projects\\BoveLab\\3_Data_and_Code\\gait_bw_zeno_outputs_004\\subset_for_memory_c\\BW-0263\\2023_12_06\\000_raw_pose_data\\gait_vertical_PWS_1_yolo.csv\n",
      "   frame  approx_height_Y_pix  approx_height_Y_pix_smooth  time_group\n",
      "0      0            683.29570                  683.295700           0\n",
      "1      1            673.31946                  678.307580           0\n",
      "2      2            663.21173                  673.275630           0\n",
      "3      3            652.64170                  668.117147           0\n",
      "4      4            643.51180                  663.196078           0\n",
      "C:\\Users\\mmccu\\Box\\MM_Personal\\5_Projects\\BoveLab\\3_Data_and_Code\\gait_bw_zeno_outputs_004\\subset_for_memory_c\\BW-0263\\2024_06_14\\000_raw_pose_data\\gait_vertical_FW_1_yolo.csv\n",
      "   frame  approx_height_Y_pix  approx_height_Y_pix_smooth  time_group\n",
      "0      0           229.113590                  229.113590           0\n",
      "1      1           229.739670                  229.426630           0\n",
      "2      2           229.668994                  229.507418           0\n",
      "3      3           229.715840                  229.559524           0\n",
      "4      4           229.717550                  229.591129           0\n",
      "C:\\Users\\mmccu\\Box\\MM_Personal\\5_Projects\\BoveLab\\3_Data_and_Code\\gait_bw_zeno_outputs_004\\subset_for_memory_c\\BW-0263\\2024_06_14\\000_raw_pose_data\\gait_vertical_PWS_1_yolo.csv\n"
     ]
    },
    {
     "name": "stderr",
     "output_type": "stream",
     "text": [
      "C:\\Users\\mmccu\\AppData\\Local\\Temp\\ipykernel_23824\\802653250.py:15: RuntimeWarning: divide by zero encountered in scalar divide\n",
      "  delta_pix_h_rel = delta_pix_h / pix_h_start\n",
      "C:\\Users\\mmccu\\AppData\\Local\\Temp\\ipykernel_23824\\802653250.py:18: RuntimeWarning: divide by zero encountered in scalar divide\n",
      "  delta_pix_h_log = math.log(pix_h_end / pix_h_start)\n"
     ]
    },
    {
     "name": "stdout",
     "output_type": "stream",
     "text": [
      "   frame  approx_height_Y_pix  approx_height_Y_pix_smooth  time_group\n",
      "0      0            235.66103                  235.661030           0\n",
      "1      1            233.62771                  234.644370           0\n",
      "2      2            233.83497                  234.374570           0\n",
      "3      3            237.84362                  235.241832           0\n",
      "4      4            242.34169                  236.661804           0\n",
      "C:\\Users\\mmccu\\Box\\MM_Personal\\5_Projects\\BoveLab\\3_Data_and_Code\\gait_bw_zeno_outputs_004\\subset_for_memory_c\\BW-0265\\2023_12_07\\000_raw_pose_data\\gait_vertical_FW_1_yolo.csv\n"
     ]
    },
    {
     "name": "stderr",
     "output_type": "stream",
     "text": [
      "C:\\Users\\mmccu\\AppData\\Local\\Temp\\ipykernel_23824\\802653250.py:15: RuntimeWarning: divide by zero encountered in scalar divide\n",
      "  delta_pix_h_rel = delta_pix_h / pix_h_start\n",
      "C:\\Users\\mmccu\\AppData\\Local\\Temp\\ipykernel_23824\\802653250.py:18: RuntimeWarning: divide by zero encountered in scalar divide\n",
      "  delta_pix_h_log = math.log(pix_h_end / pix_h_start)\n"
     ]
    },
    {
     "name": "stdout",
     "output_type": "stream",
     "text": [
      "   frame  approx_height_Y_pix  approx_height_Y_pix_smooth  time_group\n",
      "0      0                  0.0                         0.0           0\n",
      "1      1                  0.0                         0.0           0\n",
      "2      2                  0.0                         0.0           0\n",
      "3      3                  0.0                         0.0           0\n",
      "4      4                  0.0                         0.0           0\n",
      "C:\\Users\\mmccu\\Box\\MM_Personal\\5_Projects\\BoveLab\\3_Data_and_Code\\gait_bw_zeno_outputs_004\\subset_for_memory_c\\BW-0265\\2023_12_07\\000_raw_pose_data\\gait_vertical_PWS_1_yolo.csv\n"
     ]
    },
    {
     "name": "stderr",
     "output_type": "stream",
     "text": [
      "C:\\Users\\mmccu\\AppData\\Local\\Temp\\ipykernel_23824\\802653250.py:15: RuntimeWarning: divide by zero encountered in scalar divide\n",
      "  delta_pix_h_rel = delta_pix_h / pix_h_start\n",
      "C:\\Users\\mmccu\\AppData\\Local\\Temp\\ipykernel_23824\\802653250.py:18: RuntimeWarning: divide by zero encountered in scalar divide\n",
      "  delta_pix_h_log = math.log(pix_h_end / pix_h_start)\n"
     ]
    },
    {
     "name": "stdout",
     "output_type": "stream",
     "text": [
      "   frame  approx_height_Y_pix  approx_height_Y_pix_smooth  time_group\n",
      "0      0            702.36707                  702.367070           0\n",
      "1      1            709.34247                  705.854770           0\n",
      "2      2            708.98800                  706.899180           0\n",
      "3      3            710.65540                  707.838235           0\n",
      "4      4            701.79926                  706.630440           0\n",
      "C:\\Users\\mmccu\\Box\\MM_Personal\\5_Projects\\BoveLab\\3_Data_and_Code\\gait_bw_zeno_outputs_004\\subset_for_memory_c\\BW-0266\\2023_12_08\\000_raw_pose_data\\gait_vertical_FW_1_yolo.csv\n"
     ]
    },
    {
     "name": "stderr",
     "output_type": "stream",
     "text": [
      "C:\\Users\\mmccu\\AppData\\Local\\Temp\\ipykernel_23824\\802653250.py:15: RuntimeWarning: divide by zero encountered in scalar divide\n",
      "  delta_pix_h_rel = delta_pix_h / pix_h_start\n",
      "C:\\Users\\mmccu\\AppData\\Local\\Temp\\ipykernel_23824\\802653250.py:18: RuntimeWarning: divide by zero encountered in scalar divide\n",
      "  delta_pix_h_log = math.log(pix_h_end / pix_h_start)\n"
     ]
    },
    {
     "name": "stdout",
     "output_type": "stream",
     "text": [
      "   frame  approx_height_Y_pix  approx_height_Y_pix_smooth  time_group\n",
      "0      0             692.3499                  692.349900           0\n",
      "1      1             694.7200                  693.534950           0\n",
      "2      2             692.7612                  693.277033           0\n",
      "3      3             691.5141                  692.836300           0\n",
      "4      4             689.2419                  692.117420           0\n",
      "C:\\Users\\mmccu\\Box\\MM_Personal\\5_Projects\\BoveLab\\3_Data_and_Code\\gait_bw_zeno_outputs_004\\subset_for_memory_c\\BW-0266\\2023_12_08\\000_raw_pose_data\\gait_vertical_PWS_1_yolo.csv\n",
      "   frame  approx_height_Y_pix  approx_height_Y_pix_smooth  time_group\n",
      "0      0            692.79210                  692.792100           0\n",
      "1      1            690.32837                  691.560235           0\n",
      "2      2            690.46857                  691.196347           0\n",
      "3      3            702.11084                  693.924970           0\n",
      "4      4            691.22740                  693.385456           0\n",
      "C:\\Users\\mmccu\\Box\\MM_Personal\\5_Projects\\BoveLab\\3_Data_and_Code\\gait_bw_zeno_outputs_004\\subset_for_memory_c\\BW-0268\\2023_12_19\\000_raw_pose_data\\gait_vertical_FW_1_yolo.csv\n",
      "   frame  approx_height_Y_pix  approx_height_Y_pix_smooth  time_group\n",
      "0      0                  0.0                         0.0           0\n",
      "1      1                  0.0                         0.0           0\n",
      "2      2                  0.0                         0.0           0\n",
      "3      3                  0.0                         0.0           0\n",
      "4      4                  0.0                         0.0           0\n",
      "C:\\Users\\mmccu\\Box\\MM_Personal\\5_Projects\\BoveLab\\3_Data_and_Code\\gait_bw_zeno_outputs_004\\subset_for_memory_c\\BW-0268\\2023_12_19\\000_raw_pose_data\\gait_vertical_PWS_1_yolo.csv\n"
     ]
    },
    {
     "name": "stderr",
     "output_type": "stream",
     "text": [
      "C:\\Users\\mmccu\\AppData\\Local\\Temp\\ipykernel_23824\\802653250.py:15: RuntimeWarning: divide by zero encountered in scalar divide\n",
      "  delta_pix_h_rel = delta_pix_h / pix_h_start\n",
      "C:\\Users\\mmccu\\AppData\\Local\\Temp\\ipykernel_23824\\802653250.py:18: RuntimeWarning: divide by zero encountered in scalar divide\n",
      "  delta_pix_h_log = math.log(pix_h_end / pix_h_start)\n"
     ]
    },
    {
     "name": "stdout",
     "output_type": "stream",
     "text": [
      "   frame  approx_height_Y_pix  approx_height_Y_pix_smooth  time_group\n",
      "0      0                  0.0                         0.0           0\n",
      "1      1                  0.0                         0.0           0\n",
      "2      2                  0.0                         0.0           0\n",
      "3      3                  0.0                         0.0           0\n",
      "4      4                  0.0                         0.0           0\n",
      "C:\\Users\\mmccu\\Box\\MM_Personal\\5_Projects\\BoveLab\\3_Data_and_Code\\gait_bw_zeno_outputs_004\\subset_for_memory_c\\BW-0270\\2024_01_08\\000_raw_pose_data\\gait_vertical_FW_1_yolo.csv\n",
      "   frame  approx_height_Y_pix  approx_height_Y_pix_smooth  time_group\n",
      "0      0                  0.0                         0.0           0\n",
      "1      1                  0.0                         0.0           0\n",
      "2      2                  0.0                         0.0           0\n",
      "3      3                  0.0                         0.0           0\n",
      "4      4                  0.0                         0.0           0\n",
      "C:\\Users\\mmccu\\Box\\MM_Personal\\5_Projects\\BoveLab\\3_Data_and_Code\\gait_bw_zeno_outputs_004\\subset_for_memory_c\\BW-0270\\2024_01_08\\000_raw_pose_data\\gait_vertical_PWS_1_yolo.csv\n"
     ]
    },
    {
     "name": "stderr",
     "output_type": "stream",
     "text": [
      "C:\\Users\\mmccu\\AppData\\Local\\Temp\\ipykernel_23824\\802653250.py:15: RuntimeWarning: divide by zero encountered in scalar divide\n",
      "  delta_pix_h_rel = delta_pix_h / pix_h_start\n",
      "C:\\Users\\mmccu\\AppData\\Local\\Temp\\ipykernel_23824\\802653250.py:18: RuntimeWarning: divide by zero encountered in scalar divide\n",
      "  delta_pix_h_log = math.log(pix_h_end / pix_h_start)\n"
     ]
    },
    {
     "name": "stdout",
     "output_type": "stream",
     "text": [
      "   frame  approx_height_Y_pix  approx_height_Y_pix_smooth  time_group\n",
      "0      0                  0.0                         0.0           0\n",
      "1      1                  0.0                         0.0           0\n",
      "2      2                  0.0                         0.0           0\n",
      "3      3                  0.0                         0.0           0\n",
      "4      4                  0.0                         0.0           0\n",
      "C:\\Users\\mmccu\\Box\\MM_Personal\\5_Projects\\BoveLab\\3_Data_and_Code\\gait_bw_zeno_outputs_004\\subset_for_memory_c\\BW-0270\\2024_07_15\\000_raw_pose_data\\gait_vertical_PWS_1_yolo.csv\n",
      "   frame  approx_height_Y_pix  approx_height_Y_pix_smooth  time_group\n",
      "0      0            697.82330                  697.823300           0\n",
      "1      1            695.78420                  696.803750           0\n",
      "2      2            695.90955                  696.505683           0\n",
      "3      3            696.83844                  696.588872           0\n",
      "4      4            697.02466                  696.676030           0\n",
      "C:\\Users\\mmccu\\Box\\MM_Personal\\5_Projects\\BoveLab\\3_Data_and_Code\\gait_bw_zeno_outputs_004\\subset_for_memory_c\\BW-0271\\2024_01_08\\000_raw_pose_data\\gait_vertical_FW_1_yolo.csv\n",
      "   frame  approx_height_Y_pix  approx_height_Y_pix_smooth  time_group\n",
      "0      0            656.83325                  656.833250           0\n",
      "1      1            632.54193                  644.687590           0\n",
      "2      2            616.49286                  635.289347           0\n",
      "3      3            599.22830                  626.274085           0\n",
      "4      4            585.15576                  618.050420           0\n",
      "C:\\Users\\mmccu\\Box\\MM_Personal\\5_Projects\\BoveLab\\3_Data_and_Code\\gait_bw_zeno_outputs_004\\subset_for_memory_c\\BW-0271\\2024_01_08\\000_raw_pose_data\\gait_vertical_PWS_1_yolo.csv\n",
      "   frame  approx_height_Y_pix  approx_height_Y_pix_smooth  time_group\n",
      "0      0            458.88750                  458.887500           0\n",
      "1      1            450.85406                  454.870780           0\n",
      "2      2            445.21760                  451.653053           0\n",
      "3      3            431.94128                  446.725110           0\n",
      "4      4            430.74127                  443.528342           0\n",
      "C:\\Users\\mmccu\\Box\\MM_Personal\\5_Projects\\BoveLab\\3_Data_and_Code\\gait_bw_zeno_outputs_004\\subset_for_memory_c\\BW-0271\\2024_06_03\\000_raw_pose_data\\gait_vertical_FW_1_yolo.csv\n",
      "   frame  approx_height_Y_pix  approx_height_Y_pix_smooth  time_group\n",
      "0      0                  0.0                         0.0           0\n",
      "1      1                  0.0                         0.0           0\n",
      "2      2                  0.0                         0.0           0\n",
      "3      3                  0.0                         0.0           0\n",
      "4      4                  0.0                         0.0           0\n",
      "C:\\Users\\mmccu\\Box\\MM_Personal\\5_Projects\\BoveLab\\3_Data_and_Code\\gait_bw_zeno_outputs_004\\subset_for_memory_c\\BW-0271\\2024_06_03\\000_raw_pose_data\\gait_vertical_PWS_1_yolo.csv\n"
     ]
    },
    {
     "name": "stderr",
     "output_type": "stream",
     "text": [
      "C:\\Users\\mmccu\\AppData\\Local\\Temp\\ipykernel_23824\\802653250.py:15: RuntimeWarning: divide by zero encountered in scalar divide\n",
      "  delta_pix_h_rel = delta_pix_h / pix_h_start\n",
      "C:\\Users\\mmccu\\AppData\\Local\\Temp\\ipykernel_23824\\802653250.py:18: RuntimeWarning: divide by zero encountered in scalar divide\n",
      "  delta_pix_h_log = math.log(pix_h_end / pix_h_start)\n"
     ]
    },
    {
     "name": "stdout",
     "output_type": "stream",
     "text": [
      "   frame  approx_height_Y_pix  approx_height_Y_pix_smooth  time_group\n",
      "0      0            696.16846                  696.168460           0\n",
      "1      1            693.97300                  695.070730           0\n",
      "2      2            690.67250                  693.604653           0\n",
      "3      3            681.38635                  690.550078           0\n",
      "4      4            664.16900                  685.273862           0\n",
      "C:\\Users\\mmccu\\Box\\MM_Personal\\5_Projects\\BoveLab\\3_Data_and_Code\\gait_bw_zeno_outputs_004\\subset_for_memory_c\\BW-0272\\2024_01_10\\000_raw_pose_data\\gait_vertical_FW_1_yolo.csv\n",
      "   frame  approx_height_Y_pix  approx_height_Y_pix_smooth  time_group\n",
      "0      0                  0.0                         0.0           0\n",
      "1      1                  0.0                         0.0           0\n",
      "2      2                  0.0                         0.0           0\n",
      "3      3                  0.0                         0.0           0\n",
      "4      4                  0.0                         0.0           0\n",
      "C:\\Users\\mmccu\\Box\\MM_Personal\\5_Projects\\BoveLab\\3_Data_and_Code\\gait_bw_zeno_outputs_004\\subset_for_memory_c\\BW-0272\\2024_01_10\\000_raw_pose_data\\gait_vertical_PWS_1_yolo.csv\n"
     ]
    },
    {
     "name": "stderr",
     "output_type": "stream",
     "text": [
      "C:\\Users\\mmccu\\AppData\\Local\\Temp\\ipykernel_23824\\802653250.py:15: RuntimeWarning: divide by zero encountered in scalar divide\n",
      "  delta_pix_h_rel = delta_pix_h / pix_h_start\n",
      "C:\\Users\\mmccu\\AppData\\Local\\Temp\\ipykernel_23824\\802653250.py:18: RuntimeWarning: divide by zero encountered in scalar divide\n",
      "  delta_pix_h_log = math.log(pix_h_end / pix_h_start)\n"
     ]
    },
    {
     "name": "stdout",
     "output_type": "stream",
     "text": [
      "   frame  approx_height_Y_pix  approx_height_Y_pix_smooth  time_group\n",
      "0      0            543.21497                  543.214970           0\n",
      "1      1            544.95593                  544.085450           0\n",
      "2      2            542.33966                  543.503520           0\n",
      "3      3            525.09170                  538.900565           0\n",
      "4      4            527.94820                  536.710092           0\n",
      "C:\\Users\\mmccu\\Box\\MM_Personal\\5_Projects\\BoveLab\\3_Data_and_Code\\gait_bw_zeno_outputs_004\\subset_for_memory_c\\BW-0272\\2024_06_12\\000_raw_pose_data\\gait_vertical_FW_1_yolo.csv\n"
     ]
    },
    {
     "name": "stderr",
     "output_type": "stream",
     "text": [
      "C:\\Users\\mmccu\\AppData\\Local\\Temp\\ipykernel_23824\\802653250.py:15: RuntimeWarning: divide by zero encountered in scalar divide\n",
      "  delta_pix_h_rel = delta_pix_h / pix_h_start\n",
      "C:\\Users\\mmccu\\AppData\\Local\\Temp\\ipykernel_23824\\802653250.py:18: RuntimeWarning: divide by zero encountered in scalar divide\n",
      "  delta_pix_h_log = math.log(pix_h_end / pix_h_start)\n"
     ]
    },
    {
     "name": "stdout",
     "output_type": "stream",
     "text": [
      "   frame  approx_height_Y_pix  approx_height_Y_pix_smooth  time_group\n",
      "0      0            688.96356                  688.963560           0\n",
      "1      1            688.09190                  688.527730           0\n",
      "2      2            689.47833                  688.844597           0\n",
      "3      3            685.21410                  687.936973           0\n",
      "4      4            678.09340                  685.968258           0\n",
      "C:\\Users\\mmccu\\Box\\MM_Personal\\5_Projects\\BoveLab\\3_Data_and_Code\\gait_bw_zeno_outputs_004\\subset_for_memory_c\\BW-0273\\2024_01_18\\000_raw_pose_data\\gait_vertical_FW_1_yolo.csv\n",
      "   frame  approx_height_Y_pix  approx_height_Y_pix_smooth  time_group\n",
      "0      0                  0.0                         0.0           0\n",
      "1      1                  0.0                         0.0           0\n",
      "2      2                  0.0                         0.0           0\n",
      "3      3                  0.0                         0.0           0\n",
      "4      4                  0.0                         0.0           0\n",
      "C:\\Users\\mmccu\\Box\\MM_Personal\\5_Projects\\BoveLab\\3_Data_and_Code\\gait_bw_zeno_outputs_004\\subset_for_memory_c\\BW-0273\\2024_01_18\\000_raw_pose_data\\gait_vertical_PWS_1_yolo.csv\n",
      "   frame  approx_height_Y_pix  approx_height_Y_pix_smooth  time_group\n",
      "0      0            392.01205                  392.012050           0\n",
      "1      1            380.88074                  386.446395           0\n",
      "2      2            381.64050                  384.844430           0\n",
      "3      3            381.15784                  383.922782           0\n",
      "4      4            388.08890                  384.756006           0\n",
      "C:\\Users\\mmccu\\Box\\MM_Personal\\5_Projects\\BoveLab\\3_Data_and_Code\\gait_bw_zeno_outputs_004\\subset_for_memory_c\\BW-0273\\2024_08_29\\000_raw_pose_data\\gait_vertical_FW_1_yolo.csv\n",
      "   frame  approx_height_Y_pix  approx_height_Y_pix_smooth  time_group\n",
      "0      0            696.54175                  696.541750           0\n",
      "1      1            699.58810                  698.064925           0\n",
      "2      2            697.80920                  697.979683           0\n",
      "3      3            692.44700                  696.596513           0\n",
      "4      4            685.24110                  694.325430           0\n",
      "C:\\Users\\mmccu\\Box\\MM_Personal\\5_Projects\\BoveLab\\3_Data_and_Code\\gait_bw_zeno_outputs_004\\subset_for_memory_c\\BW-0273\\2024_08_29\\000_raw_pose_data\\gait_vertical_PWS_1_yolo.csv\n",
      "   frame  approx_height_Y_pix  approx_height_Y_pix_smooth  time_group\n",
      "0      0             95.93259                   95.932590           0\n",
      "1      1             96.75339                   96.342990           0\n",
      "2      2             94.98520                   95.890393           0\n",
      "3      3             99.30420                   96.743845           0\n",
      "4      4            100.56390                   97.507856           0\n",
      "C:\\Users\\mmccu\\Box\\MM_Personal\\5_Projects\\BoveLab\\3_Data_and_Code\\gait_bw_zeno_outputs_004\\subset_for_memory_c\\BW-0274\\2024_02_14\\000_raw_pose_data\\gait_vertical_FW_1_yolo.csv\n",
      "   frame  approx_height_Y_pix  approx_height_Y_pix_smooth  time_group\n",
      "0      0            686.50970                  686.509700           0\n",
      "1      1            689.84540                  688.177550           0\n",
      "2      2            691.27185                  689.208983           0\n",
      "3      3            683.12370                  687.687662           0\n",
      "4      4            689.64010                  688.078150           0\n",
      "C:\\Users\\mmccu\\Box\\MM_Personal\\5_Projects\\BoveLab\\3_Data_and_Code\\gait_bw_zeno_outputs_004\\subset_for_memory_c\\BW-0274\\2024_02_14\\000_raw_pose_data\\gait_vertical_PWS_1_yolo.csv\n",
      "   frame  approx_height_Y_pix  approx_height_Y_pix_smooth  time_group\n",
      "0      0            686.05554                  686.055540           0\n",
      "1      1            687.38590                  686.720720           0\n",
      "2      2            682.57837                  685.339937           0\n",
      "3      3            683.68494                  684.926187           0\n",
      "4      4            683.29047                  684.599044           0\n"
     ]
    },
    {
     "name": "stderr",
     "output_type": "stream",
     "text": [
      "C:\\Users\\mmccu\\AppData\\Local\\Temp\\ipykernel_23824\\802653250.py:15: RuntimeWarning: divide by zero encountered in scalar divide\n",
      "  delta_pix_h_rel = delta_pix_h / pix_h_start\n",
      "C:\\Users\\mmccu\\AppData\\Local\\Temp\\ipykernel_23824\\802653250.py:18: RuntimeWarning: divide by zero encountered in scalar divide\n",
      "  delta_pix_h_log = math.log(pix_h_end / pix_h_start)\n"
     ]
    },
    {
     "name": "stdout",
     "output_type": "stream",
     "text": [
      "C:\\Users\\mmccu\\Box\\MM_Personal\\5_Projects\\BoveLab\\3_Data_and_Code\\gait_bw_zeno_outputs_004\\subset_for_memory_c\\BW-0274\\2024_09_30\\000_raw_pose_data\\gait_vertical_FW_1_yolo.csv\n",
      "   frame  approx_height_Y_pix  approx_height_Y_pix_smooth  time_group\n",
      "0      0            703.20140                  703.201400           0\n",
      "1      1            702.24097                  702.721185           0\n",
      "2      2            703.43480                  702.959057           0\n",
      "3      3            702.90564                  702.945702           0\n",
      "4      4            703.38776                  703.034114           0\n",
      "C:\\Users\\mmccu\\Box\\MM_Personal\\5_Projects\\BoveLab\\3_Data_and_Code\\gait_bw_zeno_outputs_004\\subset_for_memory_c\\BW-0274\\2024_09_30\\000_raw_pose_data\\gait_vertical_PWS_1_yolo.csv\n",
      "   frame  approx_height_Y_pix  approx_height_Y_pix_smooth  time_group\n",
      "0      0                  0.0                         0.0           0\n",
      "1      1                  0.0                         0.0           0\n",
      "2      2                  0.0                         0.0           0\n",
      "3      3                  0.0                         0.0           0\n",
      "4      4                  0.0                         0.0           0\n"
     ]
    },
    {
     "name": "stderr",
     "output_type": "stream",
     "text": [
      "C:\\Users\\mmccu\\AppData\\Local\\Temp\\ipykernel_23824\\802653250.py:15: RuntimeWarning: divide by zero encountered in scalar divide\n",
      "  delta_pix_h_rel = delta_pix_h / pix_h_start\n",
      "C:\\Users\\mmccu\\AppData\\Local\\Temp\\ipykernel_23824\\802653250.py:18: RuntimeWarning: divide by zero encountered in scalar divide\n",
      "  delta_pix_h_log = math.log(pix_h_end / pix_h_start)\n"
     ]
    },
    {
     "name": "stdout",
     "output_type": "stream",
     "text": [
      "C:\\Users\\mmccu\\Box\\MM_Personal\\5_Projects\\BoveLab\\3_Data_and_Code\\gait_bw_zeno_outputs_004\\subset_for_memory_c\\BW-0275\\2024_01_18\\000_raw_pose_data\\gait_vertical_FW_1_yolo.csv\n",
      "   frame  approx_height_Y_pix  approx_height_Y_pix_smooth  time_group\n",
      "0      0            700.79600                  700.796000           0\n",
      "1      1            692.41220                  696.604100           0\n",
      "2      2            691.96625                  695.058150           0\n",
      "3      3            696.49585                  695.417575           0\n",
      "4      4            703.73180                  697.080420           0\n",
      "C:\\Users\\mmccu\\Box\\MM_Personal\\5_Projects\\BoveLab\\3_Data_and_Code\\gait_bw_zeno_outputs_004\\subset_for_memory_c\\BW-0275\\2024_01_18\\000_raw_pose_data\\gait_vertical_PWS_1_yolo.csv\n"
     ]
    },
    {
     "name": "stderr",
     "output_type": "stream",
     "text": [
      "C:\\Users\\mmccu\\AppData\\Local\\Temp\\ipykernel_23824\\802653250.py:15: RuntimeWarning: divide by zero encountered in scalar divide\n",
      "  delta_pix_h_rel = delta_pix_h / pix_h_start\n",
      "C:\\Users\\mmccu\\AppData\\Local\\Temp\\ipykernel_23824\\802653250.py:18: RuntimeWarning: divide by zero encountered in scalar divide\n",
      "  delta_pix_h_log = math.log(pix_h_end / pix_h_start)\n"
     ]
    },
    {
     "name": "stdout",
     "output_type": "stream",
     "text": [
      "   frame  approx_height_Y_pix  approx_height_Y_pix_smooth  time_group\n",
      "0      0              0.00000                    0.000000           0\n",
      "1      1            718.87695                  359.438475           0\n",
      "2      2            718.31570                  479.064217           0\n",
      "3      3            719.36610                  539.139688           0\n",
      "4      4              0.00000                  431.311750           0\n",
      "C:\\Users\\mmccu\\Box\\MM_Personal\\5_Projects\\BoveLab\\3_Data_and_Code\\gait_bw_zeno_outputs_004\\subset_for_memory_c\\BW-0276\\2024_01_18\\000_raw_pose_data\\gait_vertical_FW_1_yolo.csv\n",
      "   frame  approx_height_Y_pix  approx_height_Y_pix_smooth  time_group\n",
      "0      0            690.05884                  690.058840           0\n",
      "1      1            690.03520                  690.047020           0\n",
      "2      2            688.65110                  689.581713           0\n",
      "3      3            692.60675                  690.337972           0\n",
      "4      4            691.19324                  690.509026           0\n",
      "C:\\Users\\mmccu\\Box\\MM_Personal\\5_Projects\\BoveLab\\3_Data_and_Code\\gait_bw_zeno_outputs_004\\subset_for_memory_c\\BW-0276\\2024_01_18\\000_raw_pose_data\\gait_vertical_PWS_1_yolo.csv\n",
      "   frame  approx_height_Y_pix  approx_height_Y_pix_smooth  time_group\n",
      "0      0                  0.0                         0.0           0\n",
      "1      1                  0.0                         0.0           0\n",
      "2      2                  0.0                         0.0           0\n",
      "3      3                  0.0                         0.0           0\n",
      "4      4                  0.0                         0.0           0\n"
     ]
    },
    {
     "name": "stderr",
     "output_type": "stream",
     "text": [
      "C:\\Users\\mmccu\\AppData\\Local\\Temp\\ipykernel_23824\\802653250.py:15: RuntimeWarning: divide by zero encountered in scalar divide\n",
      "  delta_pix_h_rel = delta_pix_h / pix_h_start\n",
      "C:\\Users\\mmccu\\AppData\\Local\\Temp\\ipykernel_23824\\802653250.py:18: RuntimeWarning: divide by zero encountered in scalar divide\n",
      "  delta_pix_h_log = math.log(pix_h_end / pix_h_start)\n"
     ]
    },
    {
     "name": "stdout",
     "output_type": "stream",
     "text": [
      "C:\\Users\\mmccu\\Box\\MM_Personal\\5_Projects\\BoveLab\\3_Data_and_Code\\gait_bw_zeno_outputs_004\\subset_for_memory_c\\BW-0276\\2024_08_06\\000_raw_pose_data\\gait_vertical_FW_1_yolo.csv\n",
      "   frame  approx_height_Y_pix  approx_height_Y_pix_smooth  time_group\n",
      "0      0             692.8821                  692.882100           0\n",
      "1      1             693.4182                  693.150150           0\n",
      "2      2             691.5231                  692.607800           0\n",
      "3      3             693.6549                  692.869575           0\n",
      "4      4             698.5320                  694.002060           0\n",
      "C:\\Users\\mmccu\\Box\\MM_Personal\\5_Projects\\BoveLab\\3_Data_and_Code\\gait_bw_zeno_outputs_004\\subset_for_memory_c\\BW-0276\\2024_08_06\\000_raw_pose_data\\gait_vertical_PWS_1_yolo.csv\n",
      "   frame  approx_height_Y_pix  approx_height_Y_pix_smooth  time_group\n",
      "0      0            700.32620                  700.326200           0\n",
      "1      1            701.85940                  701.092800           0\n",
      "2      2            703.23755                  701.807717           0\n",
      "3      3            701.83460                  701.814438           0\n",
      "4      4            701.44660                  701.740870           0\n"
     ]
    },
    {
     "name": "stderr",
     "output_type": "stream",
     "text": [
      "C:\\Users\\mmccu\\AppData\\Local\\Temp\\ipykernel_23824\\802653250.py:15: RuntimeWarning: divide by zero encountered in scalar divide\n",
      "  delta_pix_h_rel = delta_pix_h / pix_h_start\n",
      "C:\\Users\\mmccu\\AppData\\Local\\Temp\\ipykernel_23824\\802653250.py:18: RuntimeWarning: divide by zero encountered in scalar divide\n",
      "  delta_pix_h_log = math.log(pix_h_end / pix_h_start)\n"
     ]
    },
    {
     "name": "stdout",
     "output_type": "stream",
     "text": [
      "C:\\Users\\mmccu\\Box\\MM_Personal\\5_Projects\\BoveLab\\3_Data_and_Code\\gait_bw_zeno_outputs_004\\subset_for_memory_c\\BW-0277\\2024_01_18\\000_raw_pose_data\\gait_vertical_FW_1_yolo.csv\n",
      "   frame  approx_height_Y_pix  approx_height_Y_pix_smooth  time_group\n",
      "0      0                  0.0                         0.0           0\n",
      "1      1                  0.0                         0.0           0\n",
      "2      2                  0.0                         0.0           0\n",
      "3      3                  0.0                         0.0           0\n",
      "4      4                  0.0                         0.0           0\n",
      "C:\\Users\\mmccu\\Box\\MM_Personal\\5_Projects\\BoveLab\\3_Data_and_Code\\gait_bw_zeno_outputs_004\\subset_for_memory_c\\BW-0277\\2024_01_18\\000_raw_pose_data\\gait_vertical_PWS_1_yolo.csv\n"
     ]
    },
    {
     "name": "stderr",
     "output_type": "stream",
     "text": [
      "C:\\Users\\mmccu\\AppData\\Local\\Temp\\ipykernel_23824\\802653250.py:15: RuntimeWarning: divide by zero encountered in scalar divide\n",
      "  delta_pix_h_rel = delta_pix_h / pix_h_start\n",
      "C:\\Users\\mmccu\\AppData\\Local\\Temp\\ipykernel_23824\\802653250.py:18: RuntimeWarning: divide by zero encountered in scalar divide\n",
      "  delta_pix_h_log = math.log(pix_h_end / pix_h_start)\n"
     ]
    },
    {
     "name": "stdout",
     "output_type": "stream",
     "text": [
      "   frame  approx_height_Y_pix  approx_height_Y_pix_smooth  time_group\n",
      "0      0            82.570040                   82.570040           0\n",
      "1      1             0.000000                   41.285020           0\n",
      "2      2            77.843414                   53.471151           0\n",
      "3      3            96.646640                   64.265023           0\n",
      "4      4             0.000000                   51.412019           0\n"
     ]
    },
    {
     "name": "stderr",
     "output_type": "stream",
     "text": [
      "C:\\Users\\mmccu\\AppData\\Local\\Temp\\ipykernel_23824\\802653250.py:15: RuntimeWarning: divide by zero encountered in scalar divide\n",
      "  delta_pix_h_rel = delta_pix_h / pix_h_start\n",
      "C:\\Users\\mmccu\\AppData\\Local\\Temp\\ipykernel_23824\\802653250.py:18: RuntimeWarning: divide by zero encountered in scalar divide\n",
      "  delta_pix_h_log = math.log(pix_h_end / pix_h_start)\n"
     ]
    },
    {
     "name": "stdout",
     "output_type": "stream",
     "text": [
      "C:\\Users\\mmccu\\Box\\MM_Personal\\5_Projects\\BoveLab\\3_Data_and_Code\\gait_bw_zeno_outputs_004\\subset_for_memory_c\\BW-0277\\2024_08_23\\000_raw_pose_data\\gait_vertical_FW_1_yolo.csv\n",
      "   frame  approx_height_Y_pix  approx_height_Y_pix_smooth  time_group\n",
      "0      0              0.00000                    0.000000           0\n",
      "1      1            217.89783                  108.948915           0\n",
      "2      2            213.47768                  143.791837           0\n",
      "3      3              0.00000                  107.843877           0\n",
      "4      4              0.00000                   86.275102           0\n",
      "C:\\Users\\mmccu\\Box\\MM_Personal\\5_Projects\\BoveLab\\3_Data_and_Code\\gait_bw_zeno_outputs_004\\subset_for_memory_c\\BW-0277\\2024_08_23\\000_raw_pose_data\\gait_vertical_PWS_1_yolo.csv\n",
      "   frame  approx_height_Y_pix  approx_height_Y_pix_smooth  time_group\n",
      "0      0                  0.0                         0.0           0\n",
      "1      1                  0.0                         0.0           0\n",
      "2      2                  0.0                         0.0           0\n",
      "3      3                  0.0                         0.0           0\n",
      "4      4                  0.0                         0.0           0\n",
      "C:\\Users\\mmccu\\Box\\MM_Personal\\5_Projects\\BoveLab\\3_Data_and_Code\\gait_bw_zeno_outputs_004\\subset_for_memory_c\\BW-0279\\2024_02_14\\000_raw_pose_data\\gait_vertical_FW_1_yolo.csv\n",
      "   frame  approx_height_Y_pix  approx_height_Y_pix_smooth  time_group\n",
      "0      0                  0.0                         0.0           0\n",
      "1      1                  0.0                         0.0           0\n",
      "2      2                  0.0                         0.0           0\n",
      "3      3                  0.0                         0.0           0\n",
      "4      4                  0.0                         0.0           0\n"
     ]
    },
    {
     "name": "stderr",
     "output_type": "stream",
     "text": [
      "C:\\Users\\mmccu\\AppData\\Local\\Temp\\ipykernel_23824\\802653250.py:15: RuntimeWarning: divide by zero encountered in scalar divide\n",
      "  delta_pix_h_rel = delta_pix_h / pix_h_start\n",
      "C:\\Users\\mmccu\\AppData\\Local\\Temp\\ipykernel_23824\\802653250.py:18: RuntimeWarning: divide by zero encountered in scalar divide\n",
      "  delta_pix_h_log = math.log(pix_h_end / pix_h_start)\n"
     ]
    },
    {
     "name": "stdout",
     "output_type": "stream",
     "text": [
      "C:\\Users\\mmccu\\Box\\MM_Personal\\5_Projects\\BoveLab\\3_Data_and_Code\\gait_bw_zeno_outputs_004\\subset_for_memory_c\\BW-0280\\2024_01_18\\000_raw_pose_data\\gait_vertical_FW_1_yolo.csv\n",
      "   frame  approx_height_Y_pix  approx_height_Y_pix_smooth  time_group\n",
      "0      0            442.17810                  442.178100           0\n",
      "1      1            435.71070                  438.944400           0\n",
      "2      2            430.85016                  436.246320           0\n",
      "3      3            427.32117                  434.015032           0\n",
      "4      4            428.83950                  432.979926           0\n",
      "C:\\Users\\mmccu\\Box\\MM_Personal\\5_Projects\\BoveLab\\3_Data_and_Code\\gait_bw_zeno_outputs_004\\subset_for_memory_c\\BW-0280\\2024_01_18\\000_raw_pose_data\\gait_vertical_PWS_1_yolo.csv\n",
      "   frame  approx_height_Y_pix  approx_height_Y_pix_smooth  time_group\n",
      "0      0            713.72080                  713.720800           0\n",
      "1      1            713.42725                  713.574025           0\n",
      "2      2            713.48804                  713.545363           0\n",
      "3      3            716.78253                  714.354655           0\n",
      "4      4            713.56220                  714.196164           0\n",
      "C:\\Users\\mmccu\\Box\\MM_Personal\\5_Projects\\BoveLab\\3_Data_and_Code\\gait_bw_zeno_outputs_004\\subset_for_memory_c\\BW-0287\\2024_02_13\\000_raw_pose_data\\gait_vertical_FW_1_yolo.csv\n",
      "   frame  approx_height_Y_pix  approx_height_Y_pix_smooth  time_group\n",
      "0      0             28.54535                   28.545350           0\n",
      "1      1             28.16092                   28.353135           0\n",
      "2      2              0.00000                   18.902090           0\n",
      "3      3              0.00000                   14.176568           0\n",
      "4      4              0.00000                   11.341254           0\n",
      "C:\\Users\\mmccu\\Box\\MM_Personal\\5_Projects\\BoveLab\\3_Data_and_Code\\gait_bw_zeno_outputs_004\\subset_for_memory_c\\BW-0287\\2024_02_13\\000_raw_pose_data\\gait_vertical_PWS_1_yolo.csv\n",
      "   frame  approx_height_Y_pix  approx_height_Y_pix_smooth  time_group\n",
      "0      0            702.69970                  702.699700           0\n",
      "1      1            703.95703                  703.328365           0\n",
      "2      2            703.33030                  703.329010           0\n",
      "3      3            703.63560                  703.405657           0\n",
      "4      4            703.91950                  703.508426           0\n",
      "C:\\Users\\mmccu\\Box\\MM_Personal\\5_Projects\\BoveLab\\3_Data_and_Code\\gait_bw_zeno_outputs_004\\subset_for_memory_c\\BW-0288\\2024_02_14\\000_raw_pose_data\\gait_vertical_FW_1_yolo.csv\n",
      "   frame  approx_height_Y_pix  approx_height_Y_pix_smooth  time_group\n",
      "0      0           414.172471                  414.172471           0\n",
      "1      1           415.649074                  414.910773           0\n",
      "2      2           414.582256                  414.801267           0\n",
      "3      3           415.022753                  414.856639           0\n",
      "4      4           415.372633                  414.959837           0\n",
      "C:\\Users\\mmccu\\Box\\MM_Personal\\5_Projects\\BoveLab\\3_Data_and_Code\\gait_bw_zeno_outputs_004\\subset_for_memory_c\\BW-0288\\2024_02_14\\000_raw_pose_data\\gait_vertical_PWS_1_yolo.csv\n",
      "   frame  approx_height_Y_pix  approx_height_Y_pix_smooth  time_group\n",
      "0      0           680.275438                  680.275438           0\n",
      "1      1           678.681242                  679.478340           0\n",
      "2      2           679.444143                  679.466941           0\n",
      "3      3           678.769255                  679.292520           0\n",
      "4      4           669.868320                  677.407680           0\n"
     ]
    },
    {
     "name": "stderr",
     "output_type": "stream",
     "text": [
      "C:\\Users\\mmccu\\AppData\\Local\\Temp\\ipykernel_23824\\802653250.py:15: RuntimeWarning: divide by zero encountered in scalar divide\n",
      "  delta_pix_h_rel = delta_pix_h / pix_h_start\n",
      "C:\\Users\\mmccu\\AppData\\Local\\Temp\\ipykernel_23824\\802653250.py:18: RuntimeWarning: divide by zero encountered in scalar divide\n",
      "  delta_pix_h_log = math.log(pix_h_end / pix_h_start)\n"
     ]
    },
    {
     "name": "stdout",
     "output_type": "stream",
     "text": [
      "C:\\Users\\mmccu\\Box\\MM_Personal\\5_Projects\\BoveLab\\3_Data_and_Code\\gait_bw_zeno_outputs_004\\subset_for_memory_c\\BW-0288\\2024_06_13\\000_raw_pose_data\\gait_vertical_FW_1_yolo.csv\n",
      "   frame  approx_height_Y_pix  approx_height_Y_pix_smooth  time_group\n",
      "0      0            493.85077                  493.850770           0\n",
      "1      1            483.39288                  488.621825           0\n",
      "2      2            464.93347                  480.725707           0\n",
      "3      3            461.84363                  476.005188           0\n",
      "4      4            453.64478                  471.533106           0\n",
      "C:\\Users\\mmccu\\Box\\MM_Personal\\5_Projects\\BoveLab\\3_Data_and_Code\\gait_bw_zeno_outputs_004\\subset_for_memory_c\\BW-0288\\2024_06_13\\000_raw_pose_data\\gait_vertical_PWS_1_yolo.csv\n",
      "   frame  approx_height_Y_pix  approx_height_Y_pix_smooth  time_group\n",
      "0      0            684.02400                  684.024000           0\n",
      "1      1            684.47580                  684.249900           0\n",
      "2      2            682.72894                  683.742913           0\n",
      "3      3            682.84800                  683.519185           0\n",
      "4      4            678.81433                  682.578214           0\n",
      "C:\\Users\\mmccu\\Box\\MM_Personal\\5_Projects\\BoveLab\\3_Data_and_Code\\gait_bw_zeno_outputs_004\\subset_for_memory_c\\BW-0289\\2024_02_14\\000_raw_pose_data\\gait_vertical_FW_1_yolo.csv\n",
      "   frame  approx_height_Y_pix  approx_height_Y_pix_smooth  time_group\n",
      "0      0            567.89510                  567.895100           0\n",
      "1      1            576.80896                  572.352030           0\n",
      "2      2            575.72480                  573.476287           0\n",
      "3      3            571.18700                  572.903965           0\n",
      "4      4            574.77155                  573.277482           0\n",
      "C:\\Users\\mmccu\\Box\\MM_Personal\\5_Projects\\BoveLab\\3_Data_and_Code\\gait_bw_zeno_outputs_004\\subset_for_memory_c\\BW-0289\\2024_02_14\\000_raw_pose_data\\gait_vertical_PWS_1_yolo.csv\n",
      "   frame  approx_height_Y_pix  approx_height_Y_pix_smooth  time_group\n",
      "0      0            668.29860                  668.298600           0\n",
      "1      1            668.33690                  668.317750           0\n",
      "2      2            669.68170                  668.772400           0\n",
      "3      3            669.54407                  668.965317           0\n",
      "4      4            669.33030                  669.038314           0\n",
      "C:\\Users\\mmccu\\Box\\MM_Personal\\5_Projects\\BoveLab\\3_Data_and_Code\\gait_bw_zeno_outputs_004\\subset_for_memory_c\\BW-0292\\2024_02_22\\000_raw_pose_data\\gait_vertical_FW_1_yolo.csv\n",
      "   frame  approx_height_Y_pix  approx_height_Y_pix_smooth  time_group\n",
      "0      0                720.0                       720.0           0\n",
      "1      1                720.0                       720.0           0\n",
      "2      2                720.0                       720.0           0\n",
      "3      3                720.0                       720.0           0\n",
      "4      4                720.0                       720.0           0\n",
      "C:\\Users\\mmccu\\Box\\MM_Personal\\5_Projects\\BoveLab\\3_Data_and_Code\\gait_bw_zeno_outputs_004\\subset_for_memory_c\\BW-0292\\2024_02_22\\000_raw_pose_data\\gait_vertical_PWS_1_yolo.csv\n",
      "   frame  approx_height_Y_pix  approx_height_Y_pix_smooth  time_group\n",
      "0      0             718.8132                   718.81320           0\n",
      "1      1             719.4012                   719.10720           0\n",
      "2      2             720.0000                   719.40480           0\n",
      "3      3             720.0000                   719.55360           0\n",
      "4      4             719.0515                   719.45318           0\n",
      "C:\\Users\\mmccu\\Box\\MM_Personal\\5_Projects\\BoveLab\\3_Data_and_Code\\gait_bw_zeno_outputs_004\\subset_for_memory_c\\BW-0303\\2024_02_12\\000_raw_pose_data\\gait_vertical_FW_1_yolo.csv\n",
      "   frame  approx_height_Y_pix  approx_height_Y_pix_smooth  time_group\n",
      "0      0                  0.0                         0.0           0\n",
      "1      1                  0.0                         0.0           0\n",
      "2      2                  0.0                         0.0           0\n",
      "3      3                  0.0                         0.0           0\n",
      "4      4                  0.0                         0.0           0\n",
      "C:\\Users\\mmccu\\Box\\MM_Personal\\5_Projects\\BoveLab\\3_Data_and_Code\\gait_bw_zeno_outputs_004\\subset_for_memory_c\\BW-0303\\2024_02_12\\000_raw_pose_data\\gait_vertical_PWS_1_yolo.csv\n"
     ]
    },
    {
     "name": "stderr",
     "output_type": "stream",
     "text": [
      "C:\\Users\\mmccu\\AppData\\Local\\Temp\\ipykernel_23824\\802653250.py:15: RuntimeWarning: divide by zero encountered in scalar divide\n",
      "  delta_pix_h_rel = delta_pix_h / pix_h_start\n",
      "C:\\Users\\mmccu\\AppData\\Local\\Temp\\ipykernel_23824\\802653250.py:18: RuntimeWarning: divide by zero encountered in scalar divide\n",
      "  delta_pix_h_log = math.log(pix_h_end / pix_h_start)\n"
     ]
    },
    {
     "name": "stdout",
     "output_type": "stream",
     "text": [
      "   frame  approx_height_Y_pix  approx_height_Y_pix_smooth  time_group\n",
      "0      0            713.06730                  713.067300           0\n",
      "1      1            713.47626                  713.271780           0\n",
      "2      2            713.80910                  713.450887           0\n",
      "3      3            712.81360                  713.291565           0\n",
      "4      4            712.94490                  713.222232           0\n",
      "C:\\Users\\mmccu\\Box\\MM_Personal\\5_Projects\\BoveLab\\3_Data_and_Code\\gait_bw_zeno_outputs_004\\subset_for_memory_c\\BW-0306\\2024_03_22\\000_raw_pose_data\\gait_vertical_FW_1_yolo.csv\n",
      "   frame  approx_height_Y_pix  approx_height_Y_pix_smooth  time_group\n",
      "0      0            581.05600                  581.056000           0\n",
      "1      1            579.85900                  580.457500           0\n",
      "2      2            576.15735                  579.024117           0\n",
      "3      3            569.35205                  576.606100           0\n",
      "4      4            559.35925                  573.156730           0\n",
      "C:\\Users\\mmccu\\Box\\MM_Personal\\5_Projects\\BoveLab\\3_Data_and_Code\\gait_bw_zeno_outputs_004\\subset_for_memory_c\\BW-0306\\2024_03_22\\000_raw_pose_data\\gait_vertical_PWS_1_yolo.csv\n",
      "   frame  approx_height_Y_pix  approx_height_Y_pix_smooth  time_group\n",
      "0      0            62.887940                   62.887940           0\n",
      "1      1            62.417328                   62.652634           0\n",
      "2      2            61.826310                   62.377193           0\n",
      "3      3            62.491364                   62.405735           0\n",
      "4      4            62.024810                   62.329550           0\n",
      "C:\\Users\\mmccu\\Box\\MM_Personal\\5_Projects\\BoveLab\\3_Data_and_Code\\gait_bw_zeno_outputs_004\\subset_for_memory_c\\BW-0308\\2024_03_28\\000_raw_pose_data\\gait_vertical_FW_1_yolo.csv\n",
      "   frame  approx_height_Y_pix  approx_height_Y_pix_smooth  time_group\n",
      "0      0             0.000000                    0.000000           0\n",
      "1      1             0.000000                    0.000000           0\n",
      "2      2            37.268982                   12.422994           0\n",
      "3      3            37.967712                   18.809173           0\n",
      "4      4            38.535187                   22.754376           0\n",
      "C:\\Users\\mmccu\\Box\\MM_Personal\\5_Projects\\BoveLab\\3_Data_and_Code\\gait_bw_zeno_outputs_004\\subset_for_memory_c\\BW-0308\\2024_03_28\\000_raw_pose_data\\gait_vertical_PWS_1_yolo.csv\n",
      "   frame  approx_height_Y_pix  approx_height_Y_pix_smooth  time_group\n",
      "0      0              0.00000                     0.00000           0\n",
      "1      1              0.00000                     0.00000           0\n",
      "2      2              0.00000                     0.00000           0\n",
      "3      3            692.79420                   173.19855           0\n",
      "4      4            691.47925                   276.85469           0\n",
      "C:\\Users\\mmccu\\Box\\MM_Personal\\5_Projects\\BoveLab\\3_Data_and_Code\\gait_bw_zeno_outputs_004\\subset_for_memory_c\\BW-0322\\2024_06_10\\000_raw_pose_data\\gait_vertical_FW_1_yolo.csv\n",
      "   frame  approx_height_Y_pix  approx_height_Y_pix_smooth  time_group\n",
      "0      0            709.35065                  709.350650           0\n",
      "1      1            706.09490                  707.722775           0\n",
      "2      2            706.43520                  707.293583           0\n",
      "3      3            708.36840                  707.562288           0\n",
      "4      4            709.44714                  707.939258           0\n",
      "C:\\Users\\mmccu\\Box\\MM_Personal\\5_Projects\\BoveLab\\3_Data_and_Code\\gait_bw_zeno_outputs_004\\subset_for_memory_c\\BW-0322\\2024_06_10\\000_raw_pose_data\\gait_vertical_PWS_1_yolo.csv\n",
      "   frame  approx_height_Y_pix  approx_height_Y_pix_smooth  time_group\n",
      "0      0            713.08770                  713.087700           0\n",
      "1      1            712.91614                  713.001920           0\n",
      "2      2            712.49470                  712.832847           0\n",
      "3      3            711.96700                  712.616385           0\n",
      "4      4            712.95910                  712.684928           0\n",
      "C:\\Users\\mmccu\\Box\\MM_Personal\\5_Projects\\BoveLab\\3_Data_and_Code\\gait_bw_zeno_outputs_004\\subset_for_memory_c\\BW-0326\\2024_05_23\\000_raw_pose_data\\gait_vertical_FW_1_yolo.csv\n",
      "   frame  approx_height_Y_pix  approx_height_Y_pix_smooth  time_group\n",
      "0      0            147.15607                  147.156070           0\n",
      "1      1            147.15924                  147.157655           0\n",
      "2      2            146.65820                  146.991170           0\n",
      "3      3            147.16016                  147.033417           0\n",
      "4      4            147.23618                  147.073970           0\n"
     ]
    },
    {
     "name": "stderr",
     "output_type": "stream",
     "text": [
      "C:\\Users\\mmccu\\AppData\\Local\\Temp\\ipykernel_23824\\802653250.py:15: RuntimeWarning: divide by zero encountered in scalar divide\n",
      "  delta_pix_h_rel = delta_pix_h / pix_h_start\n",
      "C:\\Users\\mmccu\\AppData\\Local\\Temp\\ipykernel_23824\\802653250.py:18: RuntimeWarning: divide by zero encountered in scalar divide\n",
      "  delta_pix_h_log = math.log(pix_h_end / pix_h_start)\n"
     ]
    },
    {
     "name": "stdout",
     "output_type": "stream",
     "text": [
      "C:\\Users\\mmccu\\Box\\MM_Personal\\5_Projects\\BoveLab\\3_Data_and_Code\\gait_bw_zeno_outputs_004\\subset_for_memory_c\\BW-0330\\2024_06_14\\000_raw_pose_data\\gait_vertical_FW_1_yolo.csv\n",
      "   frame  approx_height_Y_pix  approx_height_Y_pix_smooth  time_group\n",
      "0      0                  0.0                         0.0           0\n",
      "1      1                  0.0                         0.0           0\n",
      "2      2                  0.0                         0.0           0\n",
      "3      3                  0.0                         0.0           0\n",
      "4      5                  0.0                         0.0           0\n",
      "C:\\Users\\mmccu\\Box\\MM_Personal\\5_Projects\\BoveLab\\3_Data_and_Code\\gait_bw_zeno_outputs_004\\subset_for_memory_c\\BW-0330\\2024_06_14\\000_raw_pose_data\\gait_vertical_PWS_1_yolo.csv\n",
      "   frame  approx_height_Y_pix  approx_height_Y_pix_smooth  time_group\n",
      "0      0                  0.0                         0.0           0\n",
      "1      1                  0.0                         0.0           0\n",
      "2      2                  0.0                         0.0           0\n",
      "3      3                  0.0                         0.0           0\n",
      "4      4                  0.0                         0.0           0\n"
     ]
    },
    {
     "name": "stderr",
     "output_type": "stream",
     "text": [
      "C:\\Users\\mmccu\\AppData\\Local\\Temp\\ipykernel_23824\\802653250.py:15: RuntimeWarning: divide by zero encountered in scalar divide\n",
      "  delta_pix_h_rel = delta_pix_h / pix_h_start\n",
      "C:\\Users\\mmccu\\AppData\\Local\\Temp\\ipykernel_23824\\802653250.py:18: RuntimeWarning: divide by zero encountered in scalar divide\n",
      "  delta_pix_h_log = math.log(pix_h_end / pix_h_start)\n"
     ]
    },
    {
     "name": "stdout",
     "output_type": "stream",
     "text": [
      "C:\\Users\\mmccu\\Box\\MM_Personal\\5_Projects\\BoveLab\\3_Data_and_Code\\gait_bw_zeno_outputs_004\\subset_for_memory_c\\BW-0335\\2024_07_01\\000_raw_pose_data\\gait_vertical_FW_1_yolo.csv\n",
      "   frame  approx_height_Y_pix  approx_height_Y_pix_smooth  time_group\n",
      "0      0            597.12104                  597.121040           0\n",
      "1      1            598.64483                  597.882935           0\n",
      "2      2            598.09088                  597.952250           0\n",
      "3      3            598.16845                  598.006300           0\n",
      "4      4            598.83928                  598.172896           0\n",
      "C:\\Users\\mmccu\\Box\\MM_Personal\\5_Projects\\BoveLab\\3_Data_and_Code\\gait_bw_zeno_outputs_004\\subset_for_memory_c\\BW-0335\\2024_07_01\\000_raw_pose_data\\gait_vertical_PWS_1_yolo.csv\n",
      "   frame  approx_height_Y_pix  approx_height_Y_pix_smooth  time_group\n",
      "0      0            670.51013                  670.510130           0\n",
      "1      1            670.28270                  670.396415           0\n",
      "2      2            670.36487                  670.385900           0\n",
      "3      3            670.19410                  670.337950           0\n",
      "4      4            669.59190                  670.188740           0\n"
     ]
    },
    {
     "name": "stderr",
     "output_type": "stream",
     "text": [
      "C:\\Users\\mmccu\\AppData\\Local\\Temp\\ipykernel_23824\\802653250.py:15: RuntimeWarning: divide by zero encountered in scalar divide\n",
      "  delta_pix_h_rel = delta_pix_h / pix_h_start\n",
      "C:\\Users\\mmccu\\AppData\\Local\\Temp\\ipykernel_23824\\802653250.py:18: RuntimeWarning: divide by zero encountered in scalar divide\n",
      "  delta_pix_h_log = math.log(pix_h_end / pix_h_start)\n"
     ]
    },
    {
     "name": "stdout",
     "output_type": "stream",
     "text": [
      "C:\\Users\\mmccu\\Box\\MM_Personal\\5_Projects\\BoveLab\\3_Data_and_Code\\gait_bw_zeno_outputs_004\\subset_for_memory_c\\BW-0337\\2024_07_05\\000_raw_pose_data\\gait_vertical_FW_1_yolo.csv\n",
      "   frame  approx_height_Y_pix  approx_height_Y_pix_smooth  time_group\n",
      "0      0           128.077700                  128.077700           0\n",
      "1      1           126.292300                  127.185000           0\n",
      "2      2           121.940735                  125.436912           0\n",
      "3      3           121.647580                  124.489579           0\n",
      "4      4           120.418640                  123.675391           0\n",
      "C:\\Users\\mmccu\\Box\\MM_Personal\\5_Projects\\BoveLab\\3_Data_and_Code\\gait_bw_zeno_outputs_004\\subset_for_memory_c\\BW-0337\\2024_07_05\\000_raw_pose_data\\gait_vertical_PWS_1_yolo.csv\n",
      "   frame  approx_height_Y_pix  approx_height_Y_pix_smooth  time_group\n",
      "0      0                  0.0                         0.0           0\n",
      "1      1                  0.0                         0.0           0\n",
      "2      2                  0.0                         0.0           0\n",
      "3      3                  0.0                         0.0           0\n",
      "4      4                  0.0                         0.0           0\n"
     ]
    },
    {
     "name": "stderr",
     "output_type": "stream",
     "text": [
      "C:\\Users\\mmccu\\AppData\\Local\\Temp\\ipykernel_23824\\802653250.py:15: RuntimeWarning: divide by zero encountered in scalar divide\n",
      "  delta_pix_h_rel = delta_pix_h / pix_h_start\n",
      "C:\\Users\\mmccu\\AppData\\Local\\Temp\\ipykernel_23824\\802653250.py:18: RuntimeWarning: divide by zero encountered in scalar divide\n",
      "  delta_pix_h_log = math.log(pix_h_end / pix_h_start)\n"
     ]
    },
    {
     "name": "stdout",
     "output_type": "stream",
     "text": [
      "C:\\Users\\mmccu\\Box\\MM_Personal\\5_Projects\\BoveLab\\3_Data_and_Code\\gait_bw_zeno_outputs_004\\subset_for_memory_c\\BW-0338\\2024_07_08\\000_raw_pose_data\\gait_vertical_FW_1_yolo.csv\n",
      "   frame  approx_height_Y_pix  approx_height_Y_pix_smooth  time_group\n",
      "0      0            20.538055                   20.538055           0\n",
      "1      1            25.809357                   23.173706           0\n",
      "2      2             0.000000                   15.449137           0\n",
      "3      3             0.000000                   11.586853           0\n",
      "4      4             0.000000                    9.269482           0\n",
      "C:\\Users\\mmccu\\Box\\MM_Personal\\5_Projects\\BoveLab\\3_Data_and_Code\\gait_bw_zeno_outputs_004\\subset_for_memory_c\\BW-0338\\2024_07_08\\000_raw_pose_data\\gait_vertical_PWS_1_yolo.csv\n",
      "   frame  approx_height_Y_pix  approx_height_Y_pix_smooth  time_group\n",
      "0      0                  0.0                         0.0           0\n",
      "1      1                  0.0                         0.0           0\n",
      "2      2                  0.0                         0.0           0\n",
      "3      3                  0.0                         0.0           0\n",
      "4      4                  0.0                         0.0           0\n"
     ]
    },
    {
     "name": "stderr",
     "output_type": "stream",
     "text": [
      "C:\\Users\\mmccu\\AppData\\Local\\Temp\\ipykernel_23824\\802653250.py:15: RuntimeWarning: divide by zero encountered in scalar divide\n",
      "  delta_pix_h_rel = delta_pix_h / pix_h_start\n",
      "C:\\Users\\mmccu\\AppData\\Local\\Temp\\ipykernel_23824\\802653250.py:18: RuntimeWarning: divide by zero encountered in scalar divide\n",
      "  delta_pix_h_log = math.log(pix_h_end / pix_h_start)\n"
     ]
    },
    {
     "name": "stdout",
     "output_type": "stream",
     "text": [
      "C:\\Users\\mmccu\\Box\\MM_Personal\\5_Projects\\BoveLab\\3_Data_and_Code\\gait_bw_zeno_outputs_004\\subset_for_memory_c\\BW-0340\\2024_07_17\\000_raw_pose_data\\gait_vertical_FW_1_yolo.csv\n",
      "   frame  approx_height_Y_pix  approx_height_Y_pix_smooth  time_group\n",
      "0      0                  0.0                         0.0           0\n",
      "1      1                  0.0                         0.0           0\n",
      "2      2                  0.0                         0.0           0\n",
      "3      3                  0.0                         0.0           0\n",
      "4      4                  0.0                         0.0           0\n",
      "C:\\Users\\mmccu\\Box\\MM_Personal\\5_Projects\\BoveLab\\3_Data_and_Code\\gait_bw_zeno_outputs_004\\subset_for_memory_c\\BW-0340\\2024_07_17\\000_raw_pose_data\\gait_vertical_PWS_1_yolo.csv\n",
      "   frame  approx_height_Y_pix  approx_height_Y_pix_smooth  time_group\n",
      "0      0                  0.0                         0.0           0\n",
      "1      1                  0.0                         0.0           0\n",
      "2      2                  0.0                         0.0           0\n",
      "3      3                  0.0                         0.0           0\n",
      "4      4                  0.0                         0.0           0\n"
     ]
    },
    {
     "name": "stderr",
     "output_type": "stream",
     "text": [
      "C:\\Users\\mmccu\\AppData\\Local\\Temp\\ipykernel_23824\\802653250.py:15: RuntimeWarning: divide by zero encountered in scalar divide\n",
      "  delta_pix_h_rel = delta_pix_h / pix_h_start\n",
      "C:\\Users\\mmccu\\AppData\\Local\\Temp\\ipykernel_23824\\802653250.py:18: RuntimeWarning: divide by zero encountered in scalar divide\n",
      "  delta_pix_h_log = math.log(pix_h_end / pix_h_start)\n"
     ]
    },
    {
     "name": "stdout",
     "output_type": "stream",
     "text": [
      "C:\\Users\\mmccu\\Box\\MM_Personal\\5_Projects\\BoveLab\\3_Data_and_Code\\gait_bw_zeno_outputs_004\\subset_for_memory_c\\BW-0341\\2024_07_18\\000_raw_pose_data\\gait_vertical_FW_1_yolo.csv\n",
      "   frame  approx_height_Y_pix  approx_height_Y_pix_smooth  time_group\n",
      "0     10            195.79890                  195.798900           0\n",
      "1     11            194.83493                  195.316915           0\n",
      "2     12            194.46317                  195.032333           0\n",
      "3     13            194.75926                  194.964065           0\n",
      "4     14            194.50136                  194.871524           0\n",
      "C:\\Users\\mmccu\\Box\\MM_Personal\\5_Projects\\BoveLab\\3_Data_and_Code\\gait_bw_zeno_outputs_004\\subset_for_memory_c\\BW-0341\\2024_07_18\\000_raw_pose_data\\gait_vertical_PWS_1_yolo.csv\n",
      "   frame  approx_height_Y_pix  approx_height_Y_pix_smooth  time_group\n",
      "0      0            195.15955                  195.159550           0\n",
      "1      1            194.84734                  195.003445           0\n",
      "2      2            195.32565                  195.110847           0\n",
      "3      6            195.25645                  195.147247           0\n",
      "4      7            195.95776                  195.309350           0\n",
      "C:\\Users\\mmccu\\Box\\MM_Personal\\5_Projects\\BoveLab\\3_Data_and_Code\\gait_bw_zeno_outputs_004\\subset_for_memory_c\\BW-0348\\2024_08_22\\000_raw_pose_data\\gait_vertical_FW_1_yolo.csv\n"
     ]
    },
    {
     "name": "stderr",
     "output_type": "stream",
     "text": [
      "C:\\Users\\mmccu\\AppData\\Local\\Temp\\ipykernel_23824\\802653250.py:15: RuntimeWarning: divide by zero encountered in scalar divide\n",
      "  delta_pix_h_rel = delta_pix_h / pix_h_start\n",
      "C:\\Users\\mmccu\\AppData\\Local\\Temp\\ipykernel_23824\\802653250.py:18: RuntimeWarning: divide by zero encountered in scalar divide\n",
      "  delta_pix_h_log = math.log(pix_h_end / pix_h_start)\n"
     ]
    },
    {
     "name": "stdout",
     "output_type": "stream",
     "text": [
      "   frame  approx_height_Y_pix  approx_height_Y_pix_smooth  time_group\n",
      "0      0                  0.0                         0.0           0\n",
      "1      1                  0.0                         0.0           0\n",
      "2      2                  0.0                         0.0           0\n",
      "3      3                  0.0                         0.0           0\n",
      "4      4                  0.0                         0.0           0\n",
      "C:\\Users\\mmccu\\Box\\MM_Personal\\5_Projects\\BoveLab\\3_Data_and_Code\\gait_bw_zeno_outputs_004\\subset_for_memory_c\\BW-0348\\2024_08_22\\000_raw_pose_data\\gait_vertical_PWS_1_yolo.csv\n"
     ]
    },
    {
     "name": "stderr",
     "output_type": "stream",
     "text": [
      "C:\\Users\\mmccu\\AppData\\Local\\Temp\\ipykernel_23824\\802653250.py:15: RuntimeWarning: divide by zero encountered in scalar divide\n",
      "  delta_pix_h_rel = delta_pix_h / pix_h_start\n",
      "C:\\Users\\mmccu\\AppData\\Local\\Temp\\ipykernel_23824\\802653250.py:18: RuntimeWarning: divide by zero encountered in scalar divide\n",
      "  delta_pix_h_log = math.log(pix_h_end / pix_h_start)\n"
     ]
    },
    {
     "name": "stdout",
     "output_type": "stream",
     "text": [
      "   frame  approx_height_Y_pix  approx_height_Y_pix_smooth  time_group\n",
      "0      0            172.82984                  172.829840           0\n",
      "1      1            172.91730                  172.873570           0\n",
      "2      2            171.00095                  172.249363           0\n",
      "3      3            171.20348                  171.987892           0\n",
      "4      4            171.16278                  171.822870           0\n"
     ]
    },
    {
     "name": "stderr",
     "output_type": "stream",
     "text": [
      "C:\\Users\\mmccu\\AppData\\Local\\Temp\\ipykernel_23824\\802653250.py:15: RuntimeWarning: divide by zero encountered in scalar divide\n",
      "  delta_pix_h_rel = delta_pix_h / pix_h_start\n",
      "C:\\Users\\mmccu\\AppData\\Local\\Temp\\ipykernel_23824\\802653250.py:18: RuntimeWarning: divide by zero encountered in scalar divide\n",
      "  delta_pix_h_log = math.log(pix_h_end / pix_h_start)\n"
     ]
    },
    {
     "name": "stdout",
     "output_type": "stream",
     "text": [
      "C:\\Users\\mmccu\\Box\\MM_Personal\\5_Projects\\BoveLab\\3_Data_and_Code\\gait_bw_zeno_outputs_004\\subset_for_memory_c\\BW-0352\\2024_08_21\\000_raw_pose_data\\gait_vertical_FW_1_yolo.csv\n",
      "   frame  approx_height_Y_pix  approx_height_Y_pix_smooth  time_group\n",
      "0      0             93.61798                   93.617980           0\n",
      "1      1             92.99902                   93.308500           0\n",
      "2      2             91.35571                   92.657570           0\n",
      "3      3             90.38629                   92.089750           0\n",
      "4      4             89.35864                   91.543528           0\n",
      "C:\\Users\\mmccu\\Box\\MM_Personal\\5_Projects\\BoveLab\\3_Data_and_Code\\gait_bw_zeno_outputs_004\\subset_for_memory_c\\BW-0352\\2024_08_21\\000_raw_pose_data\\gait_vertical_PWS_1_yolo.csv\n"
     ]
    },
    {
     "name": "stderr",
     "output_type": "stream",
     "text": [
      "C:\\Users\\mmccu\\AppData\\Local\\Temp\\ipykernel_23824\\802653250.py:15: RuntimeWarning: divide by zero encountered in scalar divide\n",
      "  delta_pix_h_rel = delta_pix_h / pix_h_start\n",
      "C:\\Users\\mmccu\\AppData\\Local\\Temp\\ipykernel_23824\\802653250.py:18: RuntimeWarning: divide by zero encountered in scalar divide\n",
      "  delta_pix_h_log = math.log(pix_h_end / pix_h_start)\n"
     ]
    },
    {
     "name": "stdout",
     "output_type": "stream",
     "text": [
      "   frame  approx_height_Y_pix  approx_height_Y_pix_smooth  time_group\n",
      "0      0                  0.0                         0.0           0\n",
      "1      1                  0.0                         0.0           0\n",
      "2      2                  0.0                         0.0           0\n",
      "3      3                  0.0                         0.0           0\n",
      "4      4                  0.0                         0.0           0\n"
     ]
    },
    {
     "name": "stderr",
     "output_type": "stream",
     "text": [
      "C:\\Users\\mmccu\\AppData\\Local\\Temp\\ipykernel_23824\\802653250.py:15: RuntimeWarning: divide by zero encountered in scalar divide\n",
      "  delta_pix_h_rel = delta_pix_h / pix_h_start\n",
      "C:\\Users\\mmccu\\AppData\\Local\\Temp\\ipykernel_23824\\802653250.py:18: RuntimeWarning: divide by zero encountered in scalar divide\n",
      "  delta_pix_h_log = math.log(pix_h_end / pix_h_start)\n"
     ]
    },
    {
     "name": "stdout",
     "output_type": "stream",
     "text": [
      "C:\\Users\\mmccu\\Box\\MM_Personal\\5_Projects\\BoveLab\\3_Data_and_Code\\gait_bw_zeno_outputs_004\\subset_for_memory_c\\BW-0353\\2024_08_21\\000_raw_pose_data\\gait_vertical_FW_1_yolo.csv\n",
      "   frame  approx_height_Y_pix  approx_height_Y_pix_smooth  time_group\n",
      "0      0                  0.0                         0.0           0\n",
      "1      1                  0.0                         0.0           0\n",
      "2      2                  0.0                         0.0           0\n",
      "3      3                  0.0                         0.0           0\n",
      "4      4                  0.0                         0.0           0\n",
      "C:\\Users\\mmccu\\Box\\MM_Personal\\5_Projects\\BoveLab\\3_Data_and_Code\\gait_bw_zeno_outputs_004\\subset_for_memory_c\\BW-0356\\2024_09_25\\000_raw_pose_data\\gait_vertical_FW_1_yolo.csv\n",
      "   frame  approx_height_Y_pix  approx_height_Y_pix_smooth  time_group\n",
      "0      0            697.47595                  697.475950           0\n",
      "1      1            696.16254                  696.819245           0\n",
      "2      2            698.35250                  697.330330           0\n",
      "3      3            530.04277                  655.508440           0\n",
      "4      4            527.62679                  629.932110           0\n",
      "C:\\Users\\mmccu\\Box\\MM_Personal\\5_Projects\\BoveLab\\3_Data_and_Code\\gait_bw_zeno_outputs_004\\subset_for_memory_c\\BW-0356\\2024_09_25\\000_raw_pose_data\\gait_vertical_PWS_1_yolo.csv\n",
      "   frame  approx_height_Y_pix  approx_height_Y_pix_smooth  time_group\n",
      "0      0                  0.0                         0.0           0\n",
      "1      1                  0.0                         0.0           0\n",
      "2      2                  0.0                         0.0           0\n",
      "3      3                  0.0                         0.0           0\n",
      "4      4                  0.0                         0.0           0\n"
     ]
    },
    {
     "name": "stderr",
     "output_type": "stream",
     "text": [
      "C:\\Users\\mmccu\\AppData\\Local\\Temp\\ipykernel_23824\\802653250.py:15: RuntimeWarning: divide by zero encountered in scalar divide\n",
      "  delta_pix_h_rel = delta_pix_h / pix_h_start\n",
      "C:\\Users\\mmccu\\AppData\\Local\\Temp\\ipykernel_23824\\802653250.py:18: RuntimeWarning: divide by zero encountered in scalar divide\n",
      "  delta_pix_h_log = math.log(pix_h_end / pix_h_start)\n"
     ]
    },
    {
     "name": "stdout",
     "output_type": "stream",
     "text": [
      "C:\\Users\\mmccu\\Box\\MM_Personal\\5_Projects\\BoveLab\\3_Data_and_Code\\gait_bw_zeno_outputs_004\\subset_for_memory_c\\BW-0357\\2024_09_25\\000_raw_pose_data\\gait_vertical_FW_1_yolo.csv\n",
      "   frame  approx_height_Y_pix  approx_height_Y_pix_smooth  time_group\n",
      "0      0                  0.0                         0.0           0\n",
      "1      1                  0.0                         0.0           0\n",
      "2      2                  0.0                         0.0           0\n",
      "3      3                  0.0                         0.0           0\n",
      "4      4                  0.0                         0.0           0\n",
      "C:\\Users\\mmccu\\Box\\MM_Personal\\5_Projects\\BoveLab\\3_Data_and_Code\\gait_bw_zeno_outputs_004\\subset_for_memory_c\\BW-0357\\2024_09_25\\000_raw_pose_data\\gait_vertical_PWS_1_yolo.csv\n"
     ]
    },
    {
     "name": "stderr",
     "output_type": "stream",
     "text": [
      "C:\\Users\\mmccu\\AppData\\Local\\Temp\\ipykernel_23824\\802653250.py:15: RuntimeWarning: divide by zero encountered in scalar divide\n",
      "  delta_pix_h_rel = delta_pix_h / pix_h_start\n",
      "C:\\Users\\mmccu\\AppData\\Local\\Temp\\ipykernel_23824\\802653250.py:18: RuntimeWarning: divide by zero encountered in scalar divide\n",
      "  delta_pix_h_log = math.log(pix_h_end / pix_h_start)\n"
     ]
    },
    {
     "name": "stdout",
     "output_type": "stream",
     "text": [
      "   frame  approx_height_Y_pix  approx_height_Y_pix_smooth  time_group\n",
      "0      0                  0.0                         0.0           0\n",
      "1      1                  0.0                         0.0           0\n",
      "2      2                  0.0                         0.0           0\n",
      "3      3                  0.0                         0.0           0\n",
      "4      4                  0.0                         0.0           0\n"
     ]
    },
    {
     "name": "stderr",
     "output_type": "stream",
     "text": [
      "C:\\Users\\mmccu\\AppData\\Local\\Temp\\ipykernel_23824\\802653250.py:15: RuntimeWarning: divide by zero encountered in scalar divide\n",
      "  delta_pix_h_rel = delta_pix_h / pix_h_start\n",
      "C:\\Users\\mmccu\\AppData\\Local\\Temp\\ipykernel_23824\\802653250.py:18: RuntimeWarning: divide by zero encountered in scalar divide\n",
      "  delta_pix_h_log = math.log(pix_h_end / pix_h_start)\n"
     ]
    }
   ],
   "source": [
    "# save list of all mediapipe world csv files in raw pose data folders \n",
    "\n",
    "raw_data_full_path_all = [] \n",
    "raw_data_file_names_all = []\n",
    "\n",
    "depth_proxy_describe_all = pd.DataFrame()\n",
    "\n",
    "# loop through all files in input path \n",
    "for (dir_path, dir_names, file_names) in os.walk(raw_pose_data_in_path):\n",
    "    for file_name in file_names: \n",
    "        name, ext = os.path.splitext(file_name)\n",
    "        ext = ext.lower()[1:]\n",
    "        current_raw_data_in_path = os.path.join(dir_path, file_name) # full path to files \n",
    "\n",
    "        # get \n",
    "        parent_path_1, current_file_name = os.path.split(current_raw_data_in_path)\n",
    "        parent_path_2, current_raw_data_folder = os.path.split(parent_path_1)\n",
    "        parent_path_3, current_date = os.path.split(parent_path_2)\n",
    "        parent_path_4, current_id = os.path.split(parent_path_3)\n",
    "        current_id_date = os.path.join(current_id, current_date)\n",
    "\n",
    "        # select file paths with yolo data ----------------------------------------\n",
    "        if (ext == 'csv') &  ('000_raw_pose_data' in current_raw_data_in_path) & ('yolo.csv' in current_raw_data_in_path): # from run.py, outputs all saved in 000_raw_pose_data_folder\n",
    "            print(current_raw_data_in_path)\n",
    "            yolo_df = pd.read_csv(current_raw_data_in_path, index_col = 0)\n",
    "\n",
    "           # pixel height -------------------------------------------------\n",
    "\n",
    "            # calculate height in pixels - left eye to left ankle \n",
    "            l_eye_yolo_df = yolo_df.loc[yolo_df['label'] == 'left_eye']\n",
    "            l_eye_yolo_df.set_index('frame', inplace=True)\n",
    "            l_ankle_yolo_df = yolo_df.loc[yolo_df['label'] == 'left_ankle']\n",
    "            l_ankle_yolo_df.set_index('frame', inplace=True)\n",
    "\n",
    "            l_ankle_yolo_df = l_ankle_yolo_df.copy()\n",
    "            l_ankle_yolo_df.loc[:, 'approx_height_Y_pix'] = abs(l_eye_yolo_df['Y'] - l_ankle_yolo_df['Y'])\n",
    "            l_ankle_yolo_df.loc[:, 'approx_height_Y_pix_smooth'] = l_ankle_yolo_df['approx_height_Y_pix'].rolling(window=25, min_periods = 1).mean()\n",
    "            \n",
    "            # drop l ankle specific columns \n",
    "            height_df = l_ankle_yolo_df.drop(columns = ['X', 'Y', 'label'])\n",
    "            height_df.reset_index(inplace=True)\n",
    "\n",
    "            # add \"time_group\" label column, will use to group \n",
    "            height_df['time_group'] = height_df['frame'] / (fps)\n",
    "            \n",
    "            height_df['time_group'] = height_df['time_group'].apply(math.floor)\n",
    "            # identify peaks and valleys in pixel height (approximate turn locations) \n",
    "            peaks, _ = sig.find_peaks(height_df['approx_height_Y_pix_smooth'], distance = fps)\n",
    "            valleys, _ = sig.find_peaks(-height_df['approx_height_Y_pix_smooth'], distance = fps)\n",
    "            peak_frames = height_df.iloc[peaks]['frame']\n",
    "            valley_frames = height_df.iloc[valleys]['frame']\n",
    "            peaks_valleys = np.concatenate((peak_frames, valley_frames))\n",
    "\n",
    "#            # plot height in pixels with time groups and peaks valleys \n",
    "#             sns.scatterplot(x = 'frame', y = 'approx_height_Y_pix_smooth', data = height_df, label = 'approx_height_Y_pix_smooth')\n",
    "#             plt.plot(height_df['frame'], height_df['approx_height_Y_pix_smooth'], label='Smoothed Height')\n",
    "#             plt.scatter(peak_frames, height_df.iloc[peaks]['approx_height_Y_pix_smooth'], color='red', label='Peaks')\n",
    "#             plt.scatter(valley_frames, height_df.iloc[valleys]['approx_height_Y_pix_smooth'], color='blue', label='Valleys')\n",
    "#             for time_group in height_df['time_group'].unique(): \n",
    "#                 plt.axvline(x = time_group * (fps), color = 'grey', alpha = 0.5)\n",
    "#             plt.title(current_id_date + ' ' + name)\n",
    "#            plt.show()\n",
    "\n",
    "            # calculate depth proxy values and summarize \n",
    "            depth_proxies_all = []\n",
    "\n",
    "            for current_sec_group in height_df['time_group'].unique():\n",
    "                current_height_df = height_df.loc[height_df['time_group'] == current_sec_group]\n",
    "\n",
    "                current_start_frame = current_height_df['frame'].iloc[0]\n",
    "                current_end_frame = current_height_df['frame'].iloc[-1]\n",
    "\n",
    "                # if this current time_group group contains peak or valley, skip \n",
    "                if current_height_df.loc[current_start_frame: current_end_frame, 'frame'].isin(peaks_valleys).any():\n",
    "                   # print('Skipped - contains peak or valley') \n",
    "                    delta_pix_h = np.nan\n",
    "                    delta_pix_h_rel = np.nan\n",
    "                    delta_pix_h_log = np.nan\n",
    "                else: \n",
    "                    delta_pix_h, delta_pix_h_rel, delta_pix_h_log  = calc_pix_size_change(current_start_frame, current_end_frame, height_df, fps)\n",
    "                \n",
    "                # combine all time groups into one array \n",
    "                depth_proxies_all.append({'start_frame' : current_start_frame,\n",
    "                                         'delta_pix_h' : delta_pix_h, \n",
    "                                         'delta_pix_h_rel' : delta_pix_h_rel,\n",
    "                                         'delta_pix_h_log' : delta_pix_h_log})\n",
    "\n",
    "                             \n",
    "            # convert array to df \n",
    "            depth_proxies_all_df = pd.DataFrame(depth_proxies_all)\n",
    "            depth_proxies_all_df =depth_proxies_all_df.replace([np.inf, -np.inf], np.nan) # replace inf with nan \n",
    "\n",
    "            depth_proxies_all_df = depth_proxies_all_df.drop(columns = ['start_frame'])    \n",
    "            # convert to one row \n",
    "            depth_proxy_describe = depth_proxies_all_df.describe().unstack().to_frame().T\n",
    "            depth_proxy_describe.columns = ['_'.join(col).strip() for col in depth_proxy_describe.columns]\n",
    "            depth_proxy_describe = round(depth_proxy_describe, 2)\n",
    "            depth_proxy_describe['id_video'] = current_id \n",
    "            depth_proxy_describe['visit_date_video'] = current_date\n",
    "            depth_proxy_describe['filename'] = current_file_name\n",
    "            \n",
    "            # save all height and pixel proxies \n",
    "            depth_proxy_describe_all = pd.concat([depth_proxy_describe_all, depth_proxy_describe])   "
   ]
  },
  {
   "cell_type": "code",
   "execution_count": 6,
   "id": "ada523bd-9fef-4193-ab3f-123ee8f35fd2",
   "metadata": {},
   "outputs": [
    {
     "data": {
      "text/html": [
       "<div>\n",
       "<style scoped>\n",
       "    .dataframe tbody tr th:only-of-type {\n",
       "        vertical-align: middle;\n",
       "    }\n",
       "\n",
       "    .dataframe tbody tr th {\n",
       "        vertical-align: top;\n",
       "    }\n",
       "\n",
       "    .dataframe thead th {\n",
       "        text-align: right;\n",
       "    }\n",
       "</style>\n",
       "<table border=\"1\" class=\"dataframe\">\n",
       "  <thead>\n",
       "    <tr style=\"text-align: right;\">\n",
       "      <th></th>\n",
       "      <th>delta_pix_h_count</th>\n",
       "      <th>delta_pix_h_mean</th>\n",
       "      <th>delta_pix_h_std</th>\n",
       "      <th>delta_pix_h_min</th>\n",
       "      <th>delta_pix_h_25%</th>\n",
       "      <th>delta_pix_h_50%</th>\n",
       "      <th>delta_pix_h_75%</th>\n",
       "      <th>delta_pix_h_max</th>\n",
       "      <th>delta_pix_h_rel_count</th>\n",
       "      <th>delta_pix_h_rel_mean</th>\n",
       "      <th>...</th>\n",
       "      <th>delta_pix_h_log_mean</th>\n",
       "      <th>delta_pix_h_log_std</th>\n",
       "      <th>delta_pix_h_log_min</th>\n",
       "      <th>delta_pix_h_log_25%</th>\n",
       "      <th>delta_pix_h_log_50%</th>\n",
       "      <th>delta_pix_h_log_75%</th>\n",
       "      <th>delta_pix_h_log_max</th>\n",
       "      <th>id_video</th>\n",
       "      <th>visit_date_video</th>\n",
       "      <th>filename</th>\n",
       "    </tr>\n",
       "  </thead>\n",
       "  <tbody>\n",
       "    <tr>\n",
       "      <th>0</th>\n",
       "      <td>7.0</td>\n",
       "      <td>55.34</td>\n",
       "      <td>17.39</td>\n",
       "      <td>33.20</td>\n",
       "      <td>43.28</td>\n",
       "      <td>52.44</td>\n",
       "      <td>68.29</td>\n",
       "      <td>78.63</td>\n",
       "      <td>7.0</td>\n",
       "      <td>0.20</td>\n",
       "      <td>...</td>\n",
       "      <td>0.18</td>\n",
       "      <td>0.02</td>\n",
       "      <td>0.14</td>\n",
       "      <td>0.17</td>\n",
       "      <td>0.19</td>\n",
       "      <td>0.20</td>\n",
       "      <td>0.20</td>\n",
       "      <td>BW-0204</td>\n",
       "      <td>2023_07_31</td>\n",
       "      <td>gait_vertical_FW_1_yolo.csv</td>\n",
       "    </tr>\n",
       "    <tr>\n",
       "      <th>0</th>\n",
       "      <td>11.0</td>\n",
       "      <td>136.86</td>\n",
       "      <td>186.63</td>\n",
       "      <td>23.45</td>\n",
       "      <td>43.42</td>\n",
       "      <td>62.42</td>\n",
       "      <td>73.63</td>\n",
       "      <td>521.14</td>\n",
       "      <td>9.0</td>\n",
       "      <td>0.18</td>\n",
       "      <td>...</td>\n",
       "      <td>0.16</td>\n",
       "      <td>0.03</td>\n",
       "      <td>0.10</td>\n",
       "      <td>0.15</td>\n",
       "      <td>0.16</td>\n",
       "      <td>0.17</td>\n",
       "      <td>0.21</td>\n",
       "      <td>BW-0204</td>\n",
       "      <td>2023_07_31</td>\n",
       "      <td>gait_vertical_PWS_1_yolo.csv</td>\n",
       "    </tr>\n",
       "    <tr>\n",
       "      <th>0</th>\n",
       "      <td>2.0</td>\n",
       "      <td>77.08</td>\n",
       "      <td>36.02</td>\n",
       "      <td>51.61</td>\n",
       "      <td>64.34</td>\n",
       "      <td>77.08</td>\n",
       "      <td>89.81</td>\n",
       "      <td>102.55</td>\n",
       "      <td>2.0</td>\n",
       "      <td>0.34</td>\n",
       "      <td>...</td>\n",
       "      <td>0.29</td>\n",
       "      <td>0.12</td>\n",
       "      <td>0.20</td>\n",
       "      <td>0.24</td>\n",
       "      <td>0.29</td>\n",
       "      <td>0.33</td>\n",
       "      <td>0.37</td>\n",
       "      <td>BW-0205</td>\n",
       "      <td>2023_08_02</td>\n",
       "      <td>gait_vertical_FW_1_yolo.csv</td>\n",
       "    </tr>\n",
       "    <tr>\n",
       "      <th>0</th>\n",
       "      <td>6.0</td>\n",
       "      <td>98.56</td>\n",
       "      <td>51.47</td>\n",
       "      <td>35.29</td>\n",
       "      <td>65.24</td>\n",
       "      <td>89.14</td>\n",
       "      <td>136.20</td>\n",
       "      <td>168.66</td>\n",
       "      <td>6.0</td>\n",
       "      <td>0.36</td>\n",
       "      <td>...</td>\n",
       "      <td>0.30</td>\n",
       "      <td>0.11</td>\n",
       "      <td>0.17</td>\n",
       "      <td>0.21</td>\n",
       "      <td>0.35</td>\n",
       "      <td>0.38</td>\n",
       "      <td>0.41</td>\n",
       "      <td>BW-0205</td>\n",
       "      <td>2024_08_07</td>\n",
       "      <td>gait_vertical_FW_1_yolo.csv</td>\n",
       "    </tr>\n",
       "    <tr>\n",
       "      <th>0</th>\n",
       "      <td>9.0</td>\n",
       "      <td>79.31</td>\n",
       "      <td>66.06</td>\n",
       "      <td>6.41</td>\n",
       "      <td>33.11</td>\n",
       "      <td>52.73</td>\n",
       "      <td>115.38</td>\n",
       "      <td>212.49</td>\n",
       "      <td>9.0</td>\n",
       "      <td>0.27</td>\n",
       "      <td>...</td>\n",
       "      <td>0.23</td>\n",
       "      <td>0.13</td>\n",
       "      <td>0.03</td>\n",
       "      <td>0.16</td>\n",
       "      <td>0.21</td>\n",
       "      <td>0.35</td>\n",
       "      <td>0.45</td>\n",
       "      <td>BW-0205</td>\n",
       "      <td>2024_08_07</td>\n",
       "      <td>gait_vertical_PWS_1_yolo.csv</td>\n",
       "    </tr>\n",
       "  </tbody>\n",
       "</table>\n",
       "<p>5 rows × 27 columns</p>\n",
       "</div>"
      ],
      "text/plain": [
       "   delta_pix_h_count  delta_pix_h_mean  delta_pix_h_std  delta_pix_h_min  \\\n",
       "0                7.0             55.34            17.39            33.20   \n",
       "0               11.0            136.86           186.63            23.45   \n",
       "0                2.0             77.08            36.02            51.61   \n",
       "0                6.0             98.56            51.47            35.29   \n",
       "0                9.0             79.31            66.06             6.41   \n",
       "\n",
       "   delta_pix_h_25%  delta_pix_h_50%  delta_pix_h_75%  delta_pix_h_max  \\\n",
       "0            43.28            52.44            68.29            78.63   \n",
       "0            43.42            62.42            73.63           521.14   \n",
       "0            64.34            77.08            89.81           102.55   \n",
       "0            65.24            89.14           136.20           168.66   \n",
       "0            33.11            52.73           115.38           212.49   \n",
       "\n",
       "   delta_pix_h_rel_count  delta_pix_h_rel_mean  ...  delta_pix_h_log_mean  \\\n",
       "0                    7.0                  0.20  ...                  0.18   \n",
       "0                    9.0                  0.18  ...                  0.16   \n",
       "0                    2.0                  0.34  ...                  0.29   \n",
       "0                    6.0                  0.36  ...                  0.30   \n",
       "0                    9.0                  0.27  ...                  0.23   \n",
       "\n",
       "   delta_pix_h_log_std  delta_pix_h_log_min  delta_pix_h_log_25%  \\\n",
       "0                 0.02                 0.14                 0.17   \n",
       "0                 0.03                 0.10                 0.15   \n",
       "0                 0.12                 0.20                 0.24   \n",
       "0                 0.11                 0.17                 0.21   \n",
       "0                 0.13                 0.03                 0.16   \n",
       "\n",
       "   delta_pix_h_log_50%  delta_pix_h_log_75%  delta_pix_h_log_max  id_video  \\\n",
       "0                 0.19                 0.20                 0.20   BW-0204   \n",
       "0                 0.16                 0.17                 0.21   BW-0204   \n",
       "0                 0.29                 0.33                 0.37   BW-0205   \n",
       "0                 0.35                 0.38                 0.41   BW-0205   \n",
       "0                 0.21                 0.35                 0.45   BW-0205   \n",
       "\n",
       "   visit_date_video                      filename  \n",
       "0        2023_07_31   gait_vertical_FW_1_yolo.csv  \n",
       "0        2023_07_31  gait_vertical_PWS_1_yolo.csv  \n",
       "0        2023_08_02   gait_vertical_FW_1_yolo.csv  \n",
       "0        2024_08_07   gait_vertical_FW_1_yolo.csv  \n",
       "0        2024_08_07  gait_vertical_PWS_1_yolo.csv  \n",
       "\n",
       "[5 rows x 27 columns]"
      ]
     },
     "execution_count": 6,
     "metadata": {},
     "output_type": "execute_result"
    }
   ],
   "source": [
    "depth_proxy_describe_all"
   ]
  },
  {
   "cell_type": "code",
   "execution_count": 7,
   "id": "0c8ee593-68a4-418e-8dd6-939de88ace4e",
   "metadata": {},
   "outputs": [],
   "source": [
    "depth_proxy_describe_all.to_csv(os.path.join(output_folder, 'depth_proxy_describe_c.csv')) "
   ]
  }
 ],
 "metadata": {
  "kernelspec": {
   "display_name": "venv_home_video_analysis_2",
   "language": "python",
   "name": "venv_home_video_analysis_2"
  },
  "language_info": {
   "codemirror_mode": {
    "name": "ipython",
    "version": 3
   },
   "file_extension": ".py",
   "mimetype": "text/x-python",
   "name": "python",
   "nbconvert_exporter": "python",
   "pygments_lexer": "ipython3",
   "version": "3.10.11"
  }
 },
 "nbformat": 4,
 "nbformat_minor": 5
}
