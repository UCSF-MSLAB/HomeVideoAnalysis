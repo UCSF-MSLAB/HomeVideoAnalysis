{
 "cells": [
  {
   "cell_type": "code",
   "execution_count": null,
   "id": "d57b92e9-90a6-46fa-87ed-3aa5a405f0b6",
   "metadata": {},
   "outputs": [],
   "source": [
    "import pandas as pd \n",
    "import numpy as np \n",
    "import os \n",
    "import seaborn as sns \n",
    "import matplotlib.pyplot as plt\n",
    "import math\n",
    "import scipy.signal as sig"
   ]
  },
  {
   "cell_type": "code",
   "execution_count": null,
   "id": "1cfae68d-f707-4bcd-941b-2e491ef840fa",
   "metadata": {},
   "outputs": [],
   "source": [
    "def merge_bw_zv(bw_df, zv_df):\n",
    "\n",
    "    print('total bw rows with id in video dataset') \n",
    "    print(len(zv_df))\n",
    "\n",
    "    # merge bw data set rows with zeno videos rows \n",
    "        # merge bw data set rows with zeno videos rows \n",
    "        # id and date needs to be the same \n",
    "        # should only use each brainwalk visit once - once PWS_1 video per person \n",
    "\n",
    "    merged_bw_zv = []\n",
    "\n",
    "    # Loop through each row in av_df\n",
    "    for index, zv_row in zv_df.iterrows():\n",
    "   \n",
    "        current_id = zv_row['id_video']\n",
    "        current_date = zv_row['visit_date_video']\n",
    "        zv_row_df = pd.DataFrame([zv_row])\n",
    "\n",
    "        # Find rows in brainwalk data set with same id and same date as current zv data \n",
    "        zv_in_bw_current_id_rows = bw_df[(bw_df['bw_id'] == current_id) & (bw_df['trialdate'] == current_date)]\n",
    "        #zv_in_bw_current_id_date_rows = zv_in_bw_current_id_rows[zv_in_bw_current_id_rows['visit_date'] == current_date]\n",
    "   \n",
    "        if len(zv_in_bw_current_id_rows) == 1: \n",
    "            bw_row_to_merge = zv_in_bw_current_id_rows\n",
    "            # merge bw and zv, store merged row\n",
    "            merged_row = zv_row_df.merge(bw_row_to_merge, left_on='id_video', right_on='bw_id')\n",
    "            merged_bw_zv.append(merged_row)\n",
    "        \n",
    "        # if more than one row for the id and date, pick one with least na values \n",
    "        elif len(zv_in_bw_current_id_rows) > 1:\n",
    "            bw_row_to_merge = zv_in_bw_current_id_rows.loc[[zv_in_bw_current_id_rows.isna().sum(axis=1).idxmin()]]\n",
    "            # merge bw and zv, store merged row\n",
    "            merged_row = zv_row_df.merge(bw_row_to_merge, left_on='id_video', right_on='bw_id')\n",
    "            merged_bw_zv.append(merged_row)\n",
    "\n",
    "            print('multiple rows for the id and date combo')\n",
    "            print(current_id)\n",
    "            print(current_date)\n",
    "\n",
    "        else: \n",
    "            print('No matching id and daterow from video vs mat')\n",
    "            print(current_id)\n",
    "            print(current_date)\n",
    "\n",
    "\n",
    "    # merge all bw and zv data together \n",
    "    merged_bw_zv_df = pd.concat(merged_bw_zv)\n",
    "    merged_bw_zv_df = merged_bw_zv_df.reset_index(drop=True) # reset index \n",
    "\n",
    "    # check same ID for each row \n",
    "    print('mismatched zeno video vs brainwalk id')\n",
    "    print(sum(merged_bw_zv_df['id_video'] != merged_bw_zv_df['bw_id']))\n",
    "\n",
    "    print('mismatched zeno video vs brainwalk date')\n",
    "    print(sum(merged_bw_zv_df['visit_date_video'] != merged_bw_zv_df['trialdate']))\n",
    "\n",
    "    # saved merged df for future reference \n",
    "#    merged_bw_zv_df.to_csv(os.path.join(out_path,  'zv_bw_merged_' + task + '.csv'))\n",
    "\n",
    "    return merged_bw_zv_df"
   ]
  },
  {
   "cell_type": "code",
   "execution_count": null,
   "id": "fcbff75b-37dd-4617-8965-f2a28c6e2aba",
   "metadata": {},
   "outputs": [],
   "source": [
    "# merge with brainwalk data - T25FW, FW velocity, PWS velocity \n",
    "bw_df = pd.read_excel(r'C:\\Users\\mmccu\\AppData\\Local\\Temp\\ccsecure\\2025_01_24_BrainWalk_AllData_Long_MM.xlsx', \n",
    "                     index_col = None, \n",
    "                     usecols = ['bw_id', 'record_id', 'trialdate', 'visit_date', 'bingoEHR_EDSS_measure_value', 'msfcEHR_T25FW SPEED AVG',\n",
    "                                'PWS_velocitycmsecmean', 'FW_velocitycmsecmean'])"
   ]
  },
  {
   "cell_type": "code",
   "execution_count": null,
   "id": "0e6ed5c1-faad-4913-8e31-f8a5c53d5a49",
   "metadata": {},
   "outputs": [],
   "source": [
    "# convert data \n",
    "\n",
    "depth_proxy_describe_all['visit_date_video'] = pd.to_datetime(depth_proxy_describe_all['visit_date_video'].str.replace('_', '-'), format='%Y-%m-%d')\n",
    "# add bw data to describe df \n",
    "depth_proxy_w_bw = merge_bw_zv(bw_df, depth_proxy_describe_all)"
   ]
  },
  {
   "cell_type": "code",
   "execution_count": null,
   "id": "cfeb893e-5b2e-4995-94ef-c797ea99b8ac",
   "metadata": {},
   "outputs": [],
   "source": [
    "def scatterplot_all_vs_one(df, column_name):\n",
    "    col_1_data = df[column_name]\n",
    "    for current_col_2 in df.columns:\n",
    "        col_2_data =  df[current_col_2]\n",
    "\n",
    "        plt.scatter(col_1_data, col_2_data)\n",
    "        plt.xlabel(column_name)\n",
    "        plt.ylabel(current_col_2) \n",
    "        plt.show()"
   ]
  },
  {
   "cell_type": "code",
   "execution_count": null,
   "id": "6237461a-5140-44c8-96e0-bdcce918753c",
   "metadata": {},
   "outputs": [],
   "source": [
    "depth_proxy_w_bw_fw = depth_proxy_w_bw.loc[depth_proxy_w_bw['filename'].str.contains('FW_1')]  \n",
    "depth_proxy_w_bw_pws = depth_proxy_w_bw.loc[depth_proxy_w_bw['filename'].str.contains('PWS_1')]"
   ]
  },
  {
   "cell_type": "code",
   "execution_count": null,
   "id": "d69f49f9-f9d8-41b7-a8cc-9882ade796ae",
   "metadata": {},
   "outputs": [],
   "source": [
    "depth_proxy_w_bw_fw.head()"
   ]
  },
  {
   "cell_type": "code",
   "execution_count": null,
   "id": "1c0eb562-93c8-4e24-820c-4feefa53f408",
   "metadata": {},
   "outputs": [],
   "source": [
    "# plot all vars from fast walk videos vs t25fw \n",
    "scatterplot_all_vs_one(depth_proxy_w_bw_fw, 'msfcEHR_T25FW SPEED AVG')"
   ]
  },
  {
   "cell_type": "code",
   "execution_count": null,
   "id": "b924d250-9f35-40c0-8418-dccc4872b09d",
   "metadata": {},
   "outputs": [],
   "source": [
    "# plot all vars vs PWS velocity \n",
    "scatterplot_all_vs_one(depth_proxy_w_bw_pws, 'PWS_velocitycmsecmean')"
   ]
  },
  {
   "cell_type": "code",
   "execution_count": null,
   "id": "82081ea2-1d9e-4429-a697-f11d629af3ca",
   "metadata": {},
   "outputs": [],
   "source": [
    "# plot all vars vs FW velocity \n",
    "scatterplot_all_vs_one(depth_proxy_w_bw_fw, 'FW_velocitycmsecmean')"
   ]
  },
  {
   "cell_type": "code",
   "execution_count": null,
   "id": "8f72acd6-6522-4bca-94a6-29b37927d35a",
   "metadata": {},
   "outputs": [],
   "source": []
  }
 ],
 "metadata": {
  "kernelspec": {
   "display_name": "venv_home_video_analysis_2",
   "language": "python",
   "name": "venv_home_video_analysis_2"
  },
  "language_info": {
   "codemirror_mode": {
    "name": "ipython",
    "version": 3
   },
   "file_extension": ".py",
   "mimetype": "text/x-python",
   "name": "python",
   "nbconvert_exporter": "python",
   "pygments_lexer": "ipython3",
   "version": "3.10.11"
  }
 },
 "nbformat": 4,
 "nbformat_minor": 5
}
