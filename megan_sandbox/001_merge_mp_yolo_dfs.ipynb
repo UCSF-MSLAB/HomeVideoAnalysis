{
 "cells": [
  {
   "cell_type": "code",
   "execution_count": 1,
   "id": "b751cead-92e4-47d7-a579-47e5cae5fe2b",
   "metadata": {},
   "outputs": [],
   "source": [
    "import pandas as pd \n",
    "import numpy as np \n",
    "import os "
   ]
  },
  {
   "cell_type": "code",
   "execution_count": 2,
   "id": "720a198b-18d6-4d12-bcf0-9092cdbf250b",
   "metadata": {},
   "outputs": [
    {
     "data": {
      "text/plain": [
       "'C:\\\\Users\\\\mmccu\\\\Box\\\\MM_Personal\\\\5_Projects\\\\BoveLab\\\\3_Data_and_Code\\\\hva_code\\\\HomeVideoAnalysis\\\\megan_sandbox'"
      ]
     },
     "execution_count": 2,
     "metadata": {},
     "output_type": "execute_result"
    }
   ],
   "source": [
    "os.getcwd()"
   ]
  },
  {
   "cell_type": "code",
   "execution_count": 3,
   "id": "1f88fe22-461c-47c9-b3db-ba1ba4d9c92f",
   "metadata": {},
   "outputs": [],
   "source": [
    "# input \n",
    "# load mp, mp_world, and yolo .csv files for one video (from main branch, output of home video analysis run.py 8/29/2024)\n",
    "mp_pose_filepath = r'..\\temp\\main_branch_outputs\\000_run\\DS_HC_gait_vertical_left_mediapipe.csv'\n",
    "mp_world_filepath = r'..\\temp\\main_branch_outputs\\000_run\\DS_HC_gait_vertical_left_mediapipe_world.csv'\n",
    "yolo_filepath = r'..\\temp\\main_branch_outputs\\000_run\\DS_HC_gait_vertical_left_yolo.csv'\n",
    "\n",
    "# output folder \n",
    "output_folder = r'..\\temp\\test_sandbox_pipeline_outputs\\001_merge_mp_yolo_dfs'"
   ]
  },
  {
   "cell_type": "code",
   "execution_count": 4,
   "id": "a5d5757b-6621-4ed3-a56e-1999397adfe2",
   "metadata": {},
   "outputs": [],
   "source": [
    "# input = mp_pose, mp_world, and yolo filepaths for one video \n",
    "def merge_mp_pose_world(mp_pose_filepath, mp_world_filepath, yolo_filepath, output_folder):\n",
    "    mp_pose_df = pd.read_csv(mp_pose_filepath)\n",
    "    mp_world_df = pd.read_csv(mp_world_filepath)\n",
    "    yolo_df = pd.read_csv(yolo_filepath)\n",
    "    \n",
    "    # rename mp columns \n",
    "    mp_pose_df = mp_pose_df.rename(columns = {\"X\" : \"X_pose\", \n",
    "                                              \"Y\" : \"Y_pose\", \n",
    "                                              \"Z\" : \"Z_pose\", \n",
    "                                              \"Unnamed: 0\" : \"label_num\"})\n",
    "\n",
    "    mp_world_df = mp_world_df.rename(columns = {\"X\" : \"X_world\", \n",
    "                                                 \"Y\" : \"Y_world\", \n",
    "                                                 \"Z\" : \"Z_world\", \n",
    "                                                 \"Unnamed: 0\" : \"label_num\"})\n",
    "\n",
    "    yolo_df = yolo_df.rename(columns = {\"Unnamed: 0\" : \"label_num\"})\n",
    "    \n",
    "\n",
    "    # merge mp world and pose (same vis, markers)\n",
    "    mp_all_df = mp_pose_df\n",
    "    mp_all_df['X_world'] = mp_world_df['X_world']\n",
    "    mp_all_df['Y_world'] = mp_world_df['Y_world']\n",
    "    mp_all_df['Z_world'] = mp_world_df['Z_world']\n",
    "    \n",
    "    # take negative of Y values - when Y is negative the \"stick figure\" plots right side up and is more intuitive for gait calculations   \n",
    "    mp_all_df.loc[:,'Y_pose_negative'] = -mp_all_df['Y_pose']\n",
    "    mp_all_df.loc[:,'Y_world_negative'] = -(mp_all_df['Y_world'])\n",
    "    yolo_df.loc[:,'Y_negative'] = -(yolo_df['Y'])\n",
    "\n",
    "    # save merged mp df as csv\n",
    "    input_file_no_ext_1 = os.path.splitext(os.path.basename(mp_pose_filepath))[0]\n",
    "    output_file_name_1 = input_file_no_ext_1 + '_all.csv'\n",
    "    output_file_1 = os.path.normpath(os.path.join(output_folder, output_file_name_1))\n",
    "    mp_all_df.to_csv(output_file_1)\n",
    "    \n",
    "    # save yolo df as csv  \n",
    "    input_file_no_ext_2 = os.path.splitext(os.path.basename(yolo_filepath))[0]\n",
    "    output_file_name_2 = input_file_no_ext_2 + '.csv'\n",
    "    output_file_2 = os.path.normpath(os.path.join(output_folder, output_file_name_2))\n",
    "    yolo_df.to_csv(output_file_2)\n",
    "\n",
    "    return([mp_all_df, yolo_df])"
   ]
  },
  {
   "cell_type": "code",
   "execution_count": 5,
   "id": "2515da62-db9f-4b35-816d-7a4620fd29c9",
   "metadata": {},
   "outputs": [
    {
     "name": "stdout",
     "output_type": "stream",
     "text": [
      "   label_num    X_pose    Y_pose    Z_pose       vis  pres  frame  \\\n",
      "0          0  0.564727 -0.231156  0.797350  0.996966   0.0      0   \n",
      "1          1  0.538995 -0.261305  0.635333  0.997083   0.0      0   \n",
      "2          2  0.520686 -0.260609  0.634956  0.997018   0.0      0   \n",
      "3          3  0.502225 -0.259820  0.634332  0.997107   0.0      0   \n",
      "4          4  0.588311 -0.263609  0.624654  0.996420   0.0      0   \n",
      "\n",
      "             label   X_world   Y_world   Z_world  Y_pose_negative  \\\n",
      "0             nose  0.011313 -0.644613  0.129704         0.231156   \n",
      "1   left_eye_inner -0.013144 -0.671381  0.098242         0.261305   \n",
      "2         left_eye -0.013018 -0.671677  0.098631         0.260609   \n",
      "3   left_eye_outer -0.013117 -0.671975  0.097893         0.259820   \n",
      "4  right_eye_inner  0.018931 -0.671060  0.097628         0.263609   \n",
      "\n",
      "   Y_world_negative  \n",
      "0          0.644613  \n",
      "1          0.671381  \n",
      "2          0.671677  \n",
      "3          0.671975  \n",
      "4          0.671060  \n",
      "   label_num    X    Y      label  frame  Y_negative\n",
      "0          0  0.0  0.0       nose      0        -0.0\n",
      "1          1  0.0  0.0   left_eye      0        -0.0\n",
      "2          2  0.0  0.0  right_eye      0        -0.0\n",
      "3          3  0.0  0.0   left_ear      0        -0.0\n",
      "4          4  0.0  0.0  right_ear      0        -0.0\n"
     ]
    }
   ],
   "source": [
    "[mp_all_df, yolo_df] = merge_mp_pose_world(mp_pose_filepath, mp_world_filepath, yolo_filepath, output_folder)\n",
    "\n",
    "print(mp_all_df.head())\n",
    "print(yolo_df.head())"
   ]
  }
 ],
 "metadata": {
  "kernelspec": {
   "display_name": "venv_home_video_analysis_2",
   "language": "python",
   "name": "venv_home_video_analysis_2"
  },
  "language_info": {
   "codemirror_mode": {
    "name": "ipython",
    "version": 3
   },
   "file_extension": ".py",
   "mimetype": "text/x-python",
   "name": "python",
   "nbconvert_exporter": "python",
   "pygments_lexer": "ipython3",
   "version": "3.10.11"
  }
 },
 "nbformat": 4,
 "nbformat_minor": 5
}
