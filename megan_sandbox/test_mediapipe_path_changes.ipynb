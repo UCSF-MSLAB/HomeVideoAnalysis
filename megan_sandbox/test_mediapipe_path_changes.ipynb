{
 "cells": [
  {
   "cell_type": "code",
   "execution_count": 23,
   "id": "1e866873-cad5-4412-ac19-738555e93162",
   "metadata": {},
   "outputs": [],
   "source": [
    "# having some issues running mediapipe - think due to file path slash differences between mac and windows \n",
    "# code below - tyring to update mediapipe_pose.py file to work with both windows and mac \n",
    "\n",
    "import os\n",
    "import pandas as pd\n",
    "import cv2\n"
   ]
  },
  {
   "cell_type": "code",
   "execution_count": 7,
   "id": "5514ef01-416e-46fb-89e4-95d40467bf8e",
   "metadata": {},
   "outputs": [
    {
     "name": "stdout",
     "output_type": "stream",
     "text": [
      "C:\\Users\\mmccu\\Box\\MM_Personal\\5_Projects\\BoveLab\\3_Data_and_Code\\hva_code\\HomeVideoAnalysis\\tests\\fixtures\\videos\n",
      "C:\\Users\\mmccu\\Box\\MM_Personal\\5_Projects\\BoveLab\\3_Data_and_Code\\hva_code\\HomeVideoAnalysis\\temp\n"
     ]
    }
   ],
   "source": [
    "\n"
   ]
  },
  {
   "cell_type": "code",
   "execution_count": 32,
   "id": "773a6e07-c07a-421f-bb9b-61e2dd465bb7",
   "metadata": {},
   "outputs": [
    {
     "name": "stdout",
     "output_type": "stream",
     "text": [
      "C:\\Users\\mmccu\\Box\\MM_Personal\\5_Projects\\BoveLab\\3_Data_and_Code\\hva_code\\HomeVideoAnalysis\\tests\\fixtures\\videos\n",
      "C:\\Users\\mmccu\\Box\\MM_Personal\\5_Projects\\BoveLab\\3_Data_and_Code\\hva_code\\HomeVideoAnalysis\\temp\n",
      "Processing: C:\\Users\\mmccu\\Box\\MM_Personal\\5_Projects\\BoveLab\\3_Data_and_Code\\hva_code\\HomeVideoAnalysis\\tests\\fixtures\\videos\\gait_vertical_left.mov\n",
      "mov\n",
      "gait_vertical_left.mov\n",
      "C:\\Users\\mmccu\\Box\\MM_Personal\\5_Projects\\BoveLab\\3_Data_and_Code\\hva_code\\HomeVideoAnalysis\\tests\\fixtures\\videos\\gait_vertical_left.mov\n",
      "C:\\Users\\mmccu\\Box\\MM_Personal\\5_Projects\\BoveLab\\3_Data_and_Code\\hva_code\\HomeVideoAnalysis\\temp\\gait_vertical_left\n"
     ]
    }
   ],
   "source": [
    "# copied from process_folder() function in examples\\mediapipe_pose.py \n",
    "# def process_folder(inFolderPath, outFolderPath):\n",
    "\n",
    "#windows path \n",
    "inFolderPath = r'C:\\Users\\mmccu\\Box\\MM_Personal\\5_Projects\\BoveLab\\3_Data_and_Code\\hva_code\\HomeVideoAnalysis\\tests\\fixtures\\videos'\n",
    "print(inFolderPath)\n",
    "outFolderPath = r'C:\\Users\\mmccu\\Box\\MM_Personal\\5_Projects\\BoveLab\\3_Data_and_Code\\hva_code\\HomeVideoAnalysis\\temp' \n",
    "print(outFolderPath)\n",
    "\n",
    "#mac path\n",
    "#inFolderPath = r'C:/Users/mmccu/Box/MM_Personal/5_Projects/BoveLab/3_Data_and_Code/hva_code/HomeVideoAnalysis/tests/fixtures/videos'\n",
    "#print(inFolderPath)\n",
    "#outFolderPath = r'C:/Users/mmccu/Box/MM_Personal/5_Projects/BoveLab/3_Data_and_Code/hva_code/HomeVideoAnalysis/temp' \n",
    "#print(outFolderPath)\n",
    "\n",
    "for (dirpath, dirnames, filenames) in os.walk(inFolderPath):\n",
    "        for filename in filenames:\n",
    "            name, ext = os.path.splitext(filename)\n",
    "            ext = ext.lower()[1:]\n",
    "            if (ext == \"mov\" or ext == \"mp4\"):\n",
    "                 inPath = os.path.join(dirpath, filename)\n",
    "                 #inPath = os.path.normpath(inPath) ## Megan added - trying to fix issue with windows file path\n",
    "                 outPath = os.path.join(outFolderPath, name)\n",
    "                 #outPath = os.path.normpath(outPath) ##Megan added - trying to fix issue with windows file path\n",
    "                 print(f\"Processing: {inPath}\")\n",
    "                 # process_video(inPath, outPath)\n",
    "\n",
    "\n",
    "print(ext)\n",
    "print(filename)\n",
    "print(inPath)\n",
    "print(outPath)\n",
    "                 "
   ]
  },
  {
   "cell_type": "code",
   "execution_count": 58,
   "id": "be1d6b88-7013-4d64-8958-62b284a52bc7",
   "metadata": {},
   "outputs": [
    {
     "name": "stdout",
     "output_type": "stream",
     "text": [
      "C:\\Users\\mmccu\\Box\\MM_Personal\\5_Projects\\BoveLab\\3_Data_and_Code\\hva_code\\HomeVideoAnalysis\\temp\\gait_vertical_left\n"
     ]
    },
    {
     "data": {
      "text/plain": [
       "'C:\\\\Users\\\\mmccu\\\\Box\\\\MM_Personal\\\\5_Projects\\\\BoveLab\\\\3_Data_and_Code\\\\hva_code\\\\HomeVideoAnalysis\\\\temp\\\\gait_vertical_left_mpVid.mp4'"
      ]
     },
     "execution_count": 58,
     "metadata": {},
     "output_type": "execute_result"
    }
   ],
   "source": [
    "# copied from mediapipe_pose.py process_video() function \n",
    "# def process_video(inFile, outFile, exportVid=True):\n",
    "inFile = inPath \n",
    "outFile = outPath\n",
    "exportVid = True\n",
    "print(outFile)\n",
    "\n",
    "inFile_split = os.path.split(inFile)\n",
    "inFile_basename = inFile_split[1]\n",
    "inFile_last_folder = os.path.split(inFile_split[0])\n",
    "name = os.path.join(inFile_last_folder[1], inFile_basename)\n",
    "\n",
    "data = pd.DataFrame()\n",
    "#cap = cv2.VideoCapture(inFile)\n",
    "#if exportVid:\n",
    "    #fourcc = cv2.VideoWriter_fourcc('F', 'M', 'P', '4')\n",
    "   # out = cv2.VideoWriter(f'./{outFile}_mpVid.mp4', fourcc, 20,\n",
    "                            #(int(cap.get(3)),\n",
    "                            # int(cap.get(4))))\n",
    "\n",
    "os.path.normpath(f'./{outFile}_mpVid.mp4')\n"
   ]
  },
  {
   "cell_type": "code",
   "execution_count": 26,
   "id": "1b0170f9-25ec-46fd-88f4-ece5054a6c8a",
   "metadata": {},
   "outputs": [],
   "source": [
    "print(\"original code\")\n",
    "print(f'./{outFile}_mpVid.mp4') # error with ./ at beginning \n",
    "\n",
    "print(\"my attempts\")\n",
    "outFile_split = os.path.split(outFile)\n",
    "print(\"outFile_split 0\")\n",
    "print(outFile_split[0])\n",
    "print(\"outFile_split 1\")\n",
    "print(outFile_split[1])\n",
    "\n",
    "out_mp4_name = outFile_split[1] + '_mpVid.mp4'\n",
    "print('out_mp4_name')\n",
    "print(out_mp4_name)\n",
    "\n",
    "out = os.path.join(outFile_split[0], out_mp4_name)"
   ]
  },
  {
   "cell_type": "code",
   "execution_count": null,
   "id": "d4ac4f1e-7a34-4b64-9058-f9a250e0e0f1",
   "metadata": {},
   "outputs": [],
   "source": []
  }
 ],
 "metadata": {
  "kernelspec": {
   "display_name": "venv_home_video_analysis_2",
   "language": "python",
   "name": "venv_home_video_analysis_2"
  },
  "language_info": {
   "codemirror_mode": {
    "name": "ipython",
    "version": 3
   },
   "file_extension": ".py",
   "mimetype": "text/x-python",
   "name": "python",
   "nbconvert_exporter": "python",
   "pygments_lexer": "ipython3",
   "version": "3.10.11"
  }
 },
 "nbformat": 4,
 "nbformat_minor": 5
}
