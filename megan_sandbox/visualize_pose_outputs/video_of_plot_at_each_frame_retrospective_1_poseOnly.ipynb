{
 "cells": [
  {
   "cell_type": "code",
   "execution_count": 1,
   "id": "1a71de09-1322-4290-9326-8ab90a9f152c",
   "metadata": {},
   "outputs": [],
   "source": [
    "import os\n",
    "import cv2\n",
    "import pandas as pd\n",
    "import numpy as np\n",
    "import matplotlib.pyplot as plt\n",
    "import mediapipe as mp\n",
    "from mediapipe.framework.formats import landmark_pb2"
   ]
  },
  {
   "cell_type": "markdown",
   "id": "ad1ad8c8-5ae4-4952-a5fe-a3f945ab3f30",
   "metadata": {},
   "source": [
    "# Load data, set input and output "
   ]
  },
  {
   "cell_type": "code",
   "execution_count": 15,
   "id": "3a4160a9-dea6-473c-ac39-a4a9047f5331",
   "metadata": {},
   "outputs": [
    {
     "name": "stdout",
     "output_type": "stream",
     "text": [
      "C:\\Users\\mmccu\\Box\\MM_Personal\\5_Projects\\BoveLab\\3_Data_and_Code\\gait_bw_zeno_outputs_006\\subset_for_memory_c\\BW-0340\\2024_07_17\\000_raw_pose_data\\gait_vertical_FW_1_mediapipe.csv\n"
     ]
    }
   ],
   "source": [
    "# load csv \n",
    "position_data_parent = r'C:\\Users\\mmccu\\Box\\MM_Personal\\5_Projects\\BoveLab\\3_Data_and_Code\\gait_bw_zeno_outputs_006'\n",
    "position_data_file = r'subset_for_memory_c\\BW-0340\\2024_07_17\\000_raw_pose_data\\gait_vertical_FW_1_mediapipe.csv'\n",
    "full_position_path = os.path.join(position_data_parent, position_data_file)\n",
    "print(full_position_path)\n",
    "df = pd.read_csv(full_position_path)"
   ]
  },
  {
   "cell_type": "code",
   "execution_count": 16,
   "id": "a98b2278-153b-4df5-9c95-33274bd4182a",
   "metadata": {},
   "outputs": [
    {
     "name": "stdout",
     "output_type": "stream",
     "text": [
      "plot_folder: C:\\Users\\mmccu\\Box\\MM_Personal\\5_Projects\\BoveLab\\3_Data_and_Code\\gait_bw_zeno_outputs_006\\subset_for_memory_c\\BW-0340\\2024_07_17\\000_raw_pose_data\\mp_pose_plots\n",
      "'plot_folder' exists\n"
     ]
    }
   ],
   "source": [
    "# set file path to save plots in same folder as raw data \n",
    "# use position data file path and data file to reconstruct ifle path \n",
    "\n",
    "head, tail = os.path.split(full_position_path)\n",
    "\n",
    "# create folder to save plots in \n",
    "\n",
    "# which data source? \n",
    "if '_yolo' in tail: \n",
    "    plot_folder = os.path.join(head, 'yolo_plots')\n",
    "elif 'mediapipe_world' in tail:\n",
    "    plot_folder = os.path.join(head, 'mp_world_plots') \n",
    "else: \n",
    "    plot_folder = os.path.join(head, 'mp_pose_plots') \n",
    "print(f'plot_folder: {plot_folder}')\n",
    "\n",
    "# check path exits \n",
    "if os.path.exists(plot_folder):\n",
    "    print(f\"'plot_folder' exists\")\n",
    "else:\n",
    "    print(f\"'plot_folder' does not exist - making new directory\")\n",
    "    os.mkdir(plot_folder) \n"
   ]
  },
  {
   "cell_type": "code",
   "execution_count": 17,
   "id": "e6e6a1fd-789c-4afa-815d-9fe24eaa5d72",
   "metadata": {},
   "outputs": [
    {
     "name": "stdout",
     "output_type": "stream",
     "text": [
      "plot_folder_full: C:\\Users\\mmccu\\Box\\MM_Personal\\5_Projects\\BoveLab\\3_Data_and_Code\\gait_bw_zeno_outputs_006\\subset_for_memory_c\\BW-0340\\2024_07_17\\000_raw_pose_data\\mp_pose_plots\\FW\n",
      "'plot_folder_full' exists\n"
     ]
    }
   ],
   "source": [
    "# which task - FW or PWS \n",
    "if 'FW' in tail: \n",
    "    plot_folder_full = os.path.join(plot_folder, 'FW')\n",
    "elif 'PWS' in tail: \n",
    "    plot_folder_full = os.path.join(plot_folder, 'PWS')\n",
    "print(f'plot_folder_full: {plot_folder_full}')\n",
    "\n",
    "# check path exits \n",
    "if os.path.exists(plot_folder_full):\n",
    "    print(f\"'plot_folder_full' exists\")\n",
    "else:\n",
    "    print(f\"'plot_folder_full' does not exist - making new directory\")\n",
    "    os.mkdir(plot_folder_full) "
   ]
  },
  {
   "cell_type": "code",
   "execution_count": 18,
   "id": "fa17ecb5-3071-4139-bd91-a6413d355958",
   "metadata": {},
   "outputs": [],
   "source": [
    "## set up mediapipe drawing "
   ]
  },
  {
   "cell_type": "code",
   "execution_count": 19,
   "id": "f5e598db-8223-4b37-bde1-ad8706093994",
   "metadata": {},
   "outputs": [],
   "source": [
    "# set up mediapipe drawing \n",
    "mp_drawing = mp.solutions.drawing_utils\n",
    "mp_pose = mp.solutions.pose"
   ]
  },
  {
   "cell_type": "markdown",
   "id": "6e7a5164-9295-4e25-b98f-ccea49b17aec",
   "metadata": {},
   "source": [
    "# Re-format pose data \n",
    "group by frame "
   ]
  },
  {
   "cell_type": "code",
   "execution_count": 20,
   "id": "a54d4a11-916f-4743-b0c7-4b083fe6dc83",
   "metadata": {},
   "outputs": [
    {
     "data": {
      "text/html": [
       "<div>\n",
       "<style scoped>\n",
       "    .dataframe tbody tr th:only-of-type {\n",
       "        vertical-align: middle;\n",
       "    }\n",
       "\n",
       "    .dataframe tbody tr th {\n",
       "        vertical-align: top;\n",
       "    }\n",
       "\n",
       "    .dataframe thead th {\n",
       "        text-align: right;\n",
       "    }\n",
       "</style>\n",
       "<table border=\"1\" class=\"dataframe\">\n",
       "  <thead>\n",
       "    <tr style=\"text-align: right;\">\n",
       "      <th></th>\n",
       "      <th>Unnamed: 0</th>\n",
       "      <th>X</th>\n",
       "      <th>Y</th>\n",
       "      <th>Z</th>\n",
       "      <th>vis</th>\n",
       "      <th>pres</th>\n",
       "      <th>frame</th>\n",
       "      <th>label</th>\n",
       "    </tr>\n",
       "  </thead>\n",
       "  <tbody>\n",
       "    <tr>\n",
       "      <th>24085</th>\n",
       "      <td>28</td>\n",
       "      <td>0.406290</td>\n",
       "      <td>1.299953</td>\n",
       "      <td>1.967344</td>\n",
       "      <td>0.113780</td>\n",
       "      <td>0.0</td>\n",
       "      <td>729</td>\n",
       "      <td>right_ankle</td>\n",
       "    </tr>\n",
       "    <tr>\n",
       "      <th>24086</th>\n",
       "      <td>29</td>\n",
       "      <td>0.602154</td>\n",
       "      <td>1.362461</td>\n",
       "      <td>1.458198</td>\n",
       "      <td>0.251936</td>\n",
       "      <td>0.0</td>\n",
       "      <td>729</td>\n",
       "      <td>left_heel</td>\n",
       "    </tr>\n",
       "    <tr>\n",
       "      <th>24087</th>\n",
       "      <td>30</td>\n",
       "      <td>0.456179</td>\n",
       "      <td>1.343314</td>\n",
       "      <td>2.057858</td>\n",
       "      <td>0.195854</td>\n",
       "      <td>0.0</td>\n",
       "      <td>729</td>\n",
       "      <td>right_heel</td>\n",
       "    </tr>\n",
       "    <tr>\n",
       "      <th>24088</th>\n",
       "      <td>31</td>\n",
       "      <td>0.362201</td>\n",
       "      <td>1.387603</td>\n",
       "      <td>1.121975</td>\n",
       "      <td>0.119417</td>\n",
       "      <td>0.0</td>\n",
       "      <td>729</td>\n",
       "      <td>left_foot_index</td>\n",
       "    </tr>\n",
       "    <tr>\n",
       "      <th>24089</th>\n",
       "      <td>32</td>\n",
       "      <td>0.199721</td>\n",
       "      <td>1.359144</td>\n",
       "      <td>1.824795</td>\n",
       "      <td>0.092281</td>\n",
       "      <td>0.0</td>\n",
       "      <td>729</td>\n",
       "      <td>right_foot_index</td>\n",
       "    </tr>\n",
       "  </tbody>\n",
       "</table>\n",
       "</div>"
      ],
      "text/plain": [
       "       Unnamed: 0         X         Y         Z       vis  pres  frame  \\\n",
       "24085          28  0.406290  1.299953  1.967344  0.113780   0.0    729   \n",
       "24086          29  0.602154  1.362461  1.458198  0.251936   0.0    729   \n",
       "24087          30  0.456179  1.343314  2.057858  0.195854   0.0    729   \n",
       "24088          31  0.362201  1.387603  1.121975  0.119417   0.0    729   \n",
       "24089          32  0.199721  1.359144  1.824795  0.092281   0.0    729   \n",
       "\n",
       "                  label  \n",
       "24085       right_ankle  \n",
       "24086         left_heel  \n",
       "24087        right_heel  \n",
       "24088   left_foot_index  \n",
       "24089  right_foot_index  "
      ]
     },
     "execution_count": 20,
     "metadata": {},
     "output_type": "execute_result"
    }
   ],
   "source": [
    "# print landmark data \n",
    "# currently saved as one row per label for each frame. 32 rows per frame \n",
    "df.tail()"
   ]
  },
  {
   "cell_type": "code",
   "execution_count": 21,
   "id": "aa987eae-9223-4b91-a39c-052d22fe1294",
   "metadata": {},
   "outputs": [],
   "source": [
    "# remove inf values - replace with nan for min and max calculation \n",
    "df = df.replace([np.inf, -np.inf], np.nan)\n",
    "\n",
    "# Set min and max for plots \n",
    "xmin = df['X'].min(skipna = True)\n",
    "xmax = df['X'].max(skipna = True)\n",
    "\n",
    "ymin = df['Y'].min(numeric_only = True)\n",
    "ymax = df['Y'].max(numeric_only = True)"
   ]
  },
  {
   "cell_type": "code",
   "execution_count": 22,
   "id": "37187e40-beba-4fa2-a283-493f3c0fdbe2",
   "metadata": {},
   "outputs": [
    {
     "name": "stdout",
     "output_type": "stream",
     "text": [
      "      Unnamed: 0         X         Y         Z       vis  pres  frame  \\\n",
      "990            0  0.540558  0.107232  0.209488  0.995730   0.0     30   \n",
      "991            1  0.519533  0.085306  0.048300  0.996921   0.0     30   \n",
      "992            2  0.503457  0.085941  0.048307  0.997167   0.0     30   \n",
      "993            3  0.486991  0.086419  0.048102  0.996818   0.0     30   \n",
      "994            4  0.567183  0.084483  0.065017  0.995759   0.0     30   \n",
      "995            5  0.584722  0.084977  0.064965  0.995489   0.0     30   \n",
      "996            6  0.603381  0.085064  0.064196  0.994377   0.0     30   \n",
      "997            7  0.470329  0.102276 -0.472424  0.997903   0.0     30   \n",
      "998            8  0.638719  0.098830 -0.395291  0.997001   0.0     30   \n",
      "999            9  0.518840  0.131031  0.056429  0.998077   0.0     30   \n",
      "1000          10  0.572790  0.129469  0.080060  0.997672   0.0     30   \n",
      "1001          11  0.285851  0.243211 -0.709117  0.999019   0.0     30   \n",
      "1002          12  0.809850  0.236191 -0.499592  0.998180   0.0     30   \n",
      "1003          13  0.147689  0.473525 -0.708612  0.879638   0.0     30   \n",
      "1004          14  0.923672  0.453884 -0.199356  0.814537   0.0     30   \n",
      "1005          15  0.121411  0.649297 -0.354889  0.303024   0.0     30   \n",
      "1006          16  0.848194  0.579022  0.450340  0.242084   0.0     30   \n",
      "1007          17  0.101846  0.717289 -0.346371  0.240855   0.0     30   \n",
      "1008          18  0.829900  0.635745  0.558433  0.189749   0.0     30   \n",
      "1009          19  0.155021  0.701676 -0.323391  0.230949   0.0     30   \n",
      "1010          20  0.799351  0.619585  0.511410  0.185493   0.0     30   \n",
      "1011          21  0.183170  0.675053 -0.336632  0.205222   0.0     30   \n",
      "1012          22  0.785320  0.600279  0.450326  0.184393   0.0     30   \n",
      "1013          23  0.402402  0.659352 -0.100203  0.997363   0.0     30   \n",
      "1014          24  0.712751  0.652231  0.098949  0.995110   0.0     30   \n",
      "1015          25  0.368725  0.851803  0.638684  0.825940   0.0     30   \n",
      "1016          26  0.692061  0.871809  0.907471  0.559848   0.0     30   \n",
      "1017          27  0.367791  1.056677  1.404279  0.626443   0.0     30   \n",
      "1018          28  0.672659  1.049023  1.624880  0.366280   0.0     30   \n",
      "1019          29  0.397279  1.122428  1.486570  0.667059   0.0     30   \n",
      "1020          30  0.676930  1.128564  1.714524  0.617265   0.0     30   \n",
      "1021          31  0.279358  1.082067  1.490542  0.362406   0.0     30   \n",
      "1022          32  0.650256  0.996379  1.730033  0.233398   0.0     30   \n",
      "\n",
      "                 label  \n",
      "990               nose  \n",
      "991     left_eye_inner  \n",
      "992           left_eye  \n",
      "993     left_eye_outer  \n",
      "994    right_eye_inner  \n",
      "995          right_eye  \n",
      "996    right_eye_outer  \n",
      "997           left_ear  \n",
      "998          right_ear  \n",
      "999         mouth_left  \n",
      "1000       mouth_right  \n",
      "1001     left_shoulder  \n",
      "1002    right_shoulder  \n",
      "1003        left_elbow  \n",
      "1004       right_elbow  \n",
      "1005        left_wrist  \n",
      "1006       right_wrist  \n",
      "1007        left_pinky  \n",
      "1008       right_pinky  \n",
      "1009        left_index  \n",
      "1010       right_index  \n",
      "1011        left_thumb  \n",
      "1012       right_thumb  \n",
      "1013          left_hip  \n",
      "1014         right_hip  \n",
      "1015         left_knee  \n",
      "1016        right_knee  \n",
      "1017        left_ankle  \n",
      "1018       right_ankle  \n",
      "1019         left_heel  \n",
      "1020        right_heel  \n",
      "1021   left_foot_index  \n",
      "1022  right_foot_index  \n"
     ]
    }
   ],
   "source": [
    "# Group landmark data by frame\n",
    "grouped = df.groupby(\"frame\")\n",
    "print(grouped.get_group(30))"
   ]
  },
  {
   "cell_type": "code",
   "execution_count": 23,
   "id": "dcd92591-74a5-44de-9709-63fa225c8ab6",
   "metadata": {},
   "outputs": [],
   "source": [
    "# Get landmark data for each frame\n",
    "for frame_idx in grouped.groups:\n",
    "\n",
    "    # initiate plot \n",
    "    fig = plt.figure(figsize=(8, 6))\n",
    "    ax = fig.add_subplot(111)\n",
    "\n",
    "    # get current group of position data for this frame \n",
    "    group = grouped.get_group(frame_idx)\n",
    "    \n",
    "    # save all landmarks for this frame  \n",
    "    landmarks = []\n",
    "\n",
    "    for _, row in group.iterrows(): # each row = one landmark \n",
    "        landmark = landmark_pb2.NormalizedLandmark(\n",
    "            x=row[\"X\"], y=row[\"Y\"], z=row[\"Z\"], visibility=row[\"vis\"]\n",
    "        )\n",
    "        landmarks.append(landmark) # append all landmarks for this frame to landmarks  \n",
    "\n",
    "    # Extract x and y coordinates \n",
    "    x_vals = [lm.x for lm in landmarks]\n",
    "    y_vals = [lm.y for lm in landmarks]\n",
    "\n",
    "    # plot 2D \n",
    "    ax.scatter(x_vals, y_vals, c='red', s=20)\n",
    "\n",
    "    # draw connections if all landmarks are present \n",
    "    if len(landmarks) == 33:\n",
    "        for connection in mp_pose.POSE_CONNECTIONS:\n",
    "            start_idx, end_idx = connection\n",
    "            x = [landmarks[start_idx].x, landmarks[end_idx].x]\n",
    "            y = [landmarks[start_idx].y, landmarks[end_idx].y]\n",
    "            ax.plot(x, y, c='black')\n",
    "       \n",
    "    # set consistent limits throughout all plots \n",
    "    ax = fig.axes[0]  \n",
    "    ax.set_xlim(xmin, xmax)\n",
    "    ax.set_ylim(ymax, ymin) # flip because pose y is inverse \n",
    "    ax.set_aspect('equal') # x and y on same scale \n",
    "    \n",
    "    # Set axis labels\n",
    "    ax.set_xlabel('X Axis')\n",
    "    ax.set_ylabel('Y Axis')\n",
    "\n",
    "    # draw box around 0 to 1 and 0 to 1 \n",
    "        # MP \"guessing\" if outside these bounds \n",
    "    ax.hlines(y=1, xmin=0, xmax=1, color='grey', linestyle='-.', alpha = 0.5)\n",
    "    ax.hlines(y=0, xmin=0, xmax=1, color='grey', linestyle='-.', alpha = 0.5)\n",
    "    ax.vlines(x = 1, ymin=1, ymax=0, color='grey', linestyle='-.', alpha = 0.5) \n",
    "    ax.vlines(x = 0, ymin=1, ymax=0, color='grey', linestyle='-.', alpha = 0.5) \n",
    "\n",
    "    # add frame number \n",
    "\n",
    "    fig.savefig(os.path.join(plot_folder_full, \n",
    "                            f\"frame_{frame_idx:06d}.png\")\n",
    "               )\n",
    "   # plt.show()\n",
    "    plt.close()\n"
   ]
  },
  {
   "cell_type": "markdown",
   "id": "dd274de8-059d-48d2-b4f5-72387b43bc93",
   "metadata": {},
   "source": [
    "## Create video from files "
   ]
  },
  {
   "cell_type": "code",
   "execution_count": 24,
   "id": "22b9f09a-b2db-4634-98b9-f9f92835665e",
   "metadata": {},
   "outputs": [],
   "source": [
    "# all files in folder \n",
    "image_file_names = sorted(os.listdir(plot_folder_full))"
   ]
  },
  {
   "cell_type": "code",
   "execution_count": 25,
   "id": "793531e1-46de-4c2d-a06e-a97ba547bb37",
   "metadata": {},
   "outputs": [],
   "source": [
    "# Read the first image to get the frame size\n",
    "first_image_path = os.path.join(plot_folder_full, image_file_names[0])\n",
    "frame = cv2.imread(first_image_path)\n",
    "height, width, layers = frame.shape\n",
    "frame_size = (width, height)"
   ]
  },
  {
   "cell_type": "code",
   "execution_count": 26,
   "id": "80b1092c-f945-4e5b-a08a-9ac7a8312c20",
   "metadata": {},
   "outputs": [
    {
     "name": "stdout",
     "output_type": "stream",
     "text": [
      "C:\\Users\\mmccu\\Box\\MM_Personal\\5_Projects\\BoveLab\\3_Data_and_Code\\gait_bw_zeno_outputs_006\\subset_for_memory_c\\BW-0340\\2024_07_17\\000_raw_pose_data\n"
     ]
    }
   ],
   "source": [
    "print(head)"
   ]
  },
  {
   "cell_type": "code",
   "execution_count": 27,
   "id": "c590b497-f131-43eb-b3c2-61867114af63",
   "metadata": {},
   "outputs": [
    {
     "name": "stdout",
     "output_type": "stream",
     "text": [
      "Video saved to C:\\Users\\mmccu\\Box\\MM_Personal\\5_Projects\\BoveLab\\3_Data_and_Code\\gait_bw_zeno_outputs_006\\subset_for_memory_c\\BW-0340\\2024_07_17\\000_raw_pose_data\\mp_pose_plots\\FW\n"
     ]
    }
   ],
   "source": [
    "# Define the codec and create VideoWriter object\n",
    "fps = 30\n",
    "fourcc = cv2.VideoWriter_fourcc(*'mp4v')  # Use 'XVID' for .avi\n",
    "out = cv2.VideoWriter(os.path.join(plot_folder_full, \n",
    "                                   'video_plots.mp4'),\n",
    "                      fourcc, fps, frame_size)\n",
    "\n",
    "# Write each image to the video\n",
    "for image_name in image_file_names:\n",
    "    image_path = os.path.join(plot_folder_full, image_name)\n",
    "    frame = cv2.imread(image_path)\n",
    "    out.write(frame)\n",
    "\n",
    "# Release the writer\n",
    "out.release()\n",
    "print(f\"Video saved to {plot_folder_full}\")"
   ]
  }
 ],
 "metadata": {
  "kernelspec": {
   "display_name": "venv_home_video_analysis_2",
   "language": "python",
   "name": "venv_home_video_analysis_2"
  },
  "language_info": {
   "codemirror_mode": {
    "name": "ipython",
    "version": 3
   },
   "file_extension": ".py",
   "mimetype": "text/x-python",
   "name": "python",
   "nbconvert_exporter": "python",
   "pygments_lexer": "ipython3",
   "version": "3.10.11"
  }
 },
 "nbformat": 4,
 "nbformat_minor": 5
}
