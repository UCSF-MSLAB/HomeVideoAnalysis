{
 "cells": [
  {
   "cell_type": "code",
   "execution_count": 16,
   "id": "a7c0b6b8-eb47-45d2-92b2-739e3fe3f536",
   "metadata": {},
   "outputs": [
    {
     "ename": "StopIteration",
     "evalue": "",
     "output_type": "error",
     "traceback": [
      "\u001b[1;31m---------------------------------------------------------------------------\u001b[0m",
      "\u001b[1;31mStopIteration\u001b[0m                             Traceback (most recent call last)",
      "Cell \u001b[1;32mIn[16], line 7\u001b[0m\n\u001b[0;32m      4\u001b[0m os\u001b[38;5;241m.\u001b[39mpath\u001b[38;5;241m.\u001b[39mabspath(dir_in_path)\n\u001b[0;32m      6\u001b[0m x \u001b[38;5;241m=\u001b[39m os\u001b[38;5;241m.\u001b[39mwalk(dir_in_path)\n\u001b[1;32m----> 7\u001b[0m \u001b[38;5;28;43mnext\u001b[39;49m\u001b[43m(\u001b[49m\u001b[43mx\u001b[49m\u001b[43m)\u001b[49m \n\u001b[0;32m      8\u001b[0m \u001b[38;5;28mnext\u001b[39m(x)\n\u001b[0;32m     10\u001b[0m \u001b[38;5;28;01mimport\u001b[39;00m \u001b[38;5;21;01mglob\u001b[39;00m \n",
      "\u001b[1;31mStopIteration\u001b[0m: "
     ]
    }
   ],
   "source": [
    "import os \n",
    "dir_in_path = r'Walking home videos for analysis'\n",
    "\n",
    "os.path.abspath(dir_in_path)\n",
    "    \n",
    "x = os.walk(dir_in_path)\n",
    "next(x) \n",
    "next(x)\n",
    "\n",
    "import glob \n",
    "files = glob.glob(dir_in_path + '/**/*.*', recursive=True)\n",
    "\n",
    "\n",
    "name, ext = os.path.splitext(files[0])\n",
    "print(name)\n",
    "print(ext)\n",
    "\n",
    "name, ext = os.path.split(files[0])\n",
    "print(name)\n",
    "print(ext)\n",
    "\n"
   ]
  },
  {
   "cell_type": "code",
   "execution_count": 18,
   "id": "fbba8c9c-be4d-4077-b412-1e3a177e9bf6",
   "metadata": {},
   "outputs": [
    {
     "data": {
      "text/plain": [
       "'C:\\\\Users\\\\mmccu\\\\Box\\\\MM_Personal\\\\5_Projects\\\\BoveLab\\\\3_Data_and_Code\\\\hva_code\\\\HomeVideoAnalysis\\\\megan_sandbox\\\\Walking home videos for analysis'"
      ]
     },
     "execution_count": 18,
     "metadata": {},
     "output_type": "execute_result"
    }
   ],
   "source": [
    "dir_in_path = r'Walking home videos for analysis'\n",
    "\n",
    "os.path.abspath(dir_in_path)"
   ]
  }
 ],
 "metadata": {
  "kernelspec": {
   "display_name": "venv_home_video_analysis_2",
   "language": "python",
   "name": "venv_home_video_analysis_2"
  },
  "language_info": {
   "codemirror_mode": {
    "name": "ipython",
    "version": 3
   },
   "file_extension": ".py",
   "mimetype": "text/x-python",
   "name": "python",
   "nbconvert_exporter": "python",
   "pygments_lexer": "ipython3",
   "version": "3.10.11"
  }
 },
 "nbformat": 4,
 "nbformat_minor": 5
}
