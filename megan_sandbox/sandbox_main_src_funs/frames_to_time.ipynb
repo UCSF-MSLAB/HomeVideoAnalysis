{
 "cells": [
  {
   "cell_type": "code",
   "execution_count": 1,
   "id": "2d1dd9cb-5de5-4506-8670-e306a615abbc",
   "metadata": {},
   "outputs": [],
   "source": [
    "import cv2\n",
    "import pandas as pd\n",
    "import os "
   ]
  },
  {
   "cell_type": "code",
   "execution_count": 2,
   "id": "d94d986c-a0f5-400a-9904-79ecd170d643",
   "metadata": {},
   "outputs": [],
   "source": [
    "# path to video \n",
    "#vid_in_path = r'..\\tests\\fixtures\\all_videos\\DS_HC_practice videos\\DS_HC_gait_vertical_left.mov' # vid_in_path set during process_dir() of run.py"
   ]
  },
  {
   "cell_type": "code",
   "execution_count": 3,
   "id": "72a3efd5-929d-446a-bb81-740b95e1a06d",
   "metadata": {},
   "outputs": [],
   "source": [
    "# get frames \n",
    "def get_frames_per_second(vid_in_path): \n",
    "    video = cv2.VideoCapture(vid_in_path) \n",
    "    fps = video.get(cv2.CAP_PROP_FPS)\n",
    "    fps = round(fps)\n",
    "    \n",
    "    return(fps)"
   ]
  },
  {
   "cell_type": "code",
   "execution_count": 4,
   "id": "23a5a33a-01af-4e8a-95ab-0dfa13f2e4c0",
   "metadata": {},
   "outputs": [],
   "source": [
    "# load data frames from previous step (after merging two mp dfs and adding negative Y column)  \n",
    "#mp_all_filepath = r'..\\temp\\test_sandbox_pipeline_outputs\\001_merge_mp_yolo_dfs\\DS_HC_gait_vertical_left_mediapipe_all.csv'\n",
    "#yolo_filepath = r'..\\temp\\test_sandbox_pipeline_outputs\\001_merge_mp_yolo_dfs\\DS_HC_gait_vertical_left_yolo.csv'\n",
    "\n",
    "#mp_all_df = pd.read_csv(mp_all_filepath, index_col = 0)\n",
    "#yolo_df = pd.read_csv(yolo_filepath, index_col = 0)\n",
    "\n",
    "# output folder\n",
    "#output_parent_folder = r'..\\temp\\test_sandbox_pipeline_outputs'"
   ]
  },
  {
   "cell_type": "code",
   "execution_count": 5,
   "id": "27f4948d-fcf1-4f62-b149-2305608256f1",
   "metadata": {},
   "outputs": [],
   "source": [
    "# add time column in seconds to each data frame \n",
    "def add_time_column(mp_all_df, yolo_df, fps):\n",
    "    mp_all_df.loc[:,'time_seconds'] = mp_all_df['frame']/fps\n",
    "    yolo_df.loc[:,'time_seconds'] = yolo_df['frame']/fps\n",
    "    return([mp_all_df, yolo_df])"
   ]
  },
  {
   "cell_type": "code",
   "execution_count": 6,
   "id": "d5936978-e104-4aa9-8e0f-7329214bb11f",
   "metadata": {},
   "outputs": [],
   "source": [
    "# save csv \n",
    "def save_df_w_time(mp_all_df, yolo_df, mp_all_filepath, yolo_filepath, output_parent_folder): \n",
    "\n",
    "    output_folder = os.path.join(output_parent_folder, '002_frames_to_time')\n",
    "    \n",
    "    if not os.path.exists(output_folder):\n",
    "        os.makedirs(output_folder)\n",
    "\n",
    "    # save new mp df with time as .csv \n",
    "    output_file_1 = os.path.normpath(os.path.join(output_folder, os.path.basename(mp_all_filepath)))\n",
    "    mp_all_df.to_csv(output_file_1)\n",
    "\n",
    "    # save new yolo df with time as .csv \n",
    "    output_file_2 = os.path.normpath(os.path.join(output_folder, os.path.basename(yolo_filepath)))\n",
    "    yolo_df.to_csv(output_file_2)\n"
   ]
  },
  {
   "cell_type": "code",
   "execution_count": 7,
   "id": "38c1c16b-be4a-4281-bf1d-2e2f281255f6",
   "metadata": {},
   "outputs": [],
   "source": [
    "#fps = get_frames_per_second(vid_in_path)\n",
    "#[mp_all_df, yolo_df] = add_time_column(mp_all_df, yolo_df, fps)\n",
    "#save_df_w_time(mp_all_df, yolo_df, mp_all_filepath, yolo_filepath, output_parent_folder)"
   ]
  },
  {
   "cell_type": "code",
   "execution_count": 8,
   "id": "5895a861-62c7-4c55-9d43-3c773cfc5b1e",
   "metadata": {},
   "outputs": [
    {
     "name": "stderr",
     "output_type": "stream",
     "text": [
      "[NbConvertApp] Converting notebook frames_to_time.ipynb to script\n",
      "[NbConvertApp] Writing 2260 bytes to frames_to_time.py\n"
     ]
    }
   ],
   "source": [
    "## convert to .py file so functions can be used in other scripts \n",
    "!jupyter nbconvert --to script frames_to_time.ipynb"
   ]
  }
 ],
 "metadata": {
  "kernelspec": {
   "display_name": "venv_home_video_analysis_2",
   "language": "python",
   "name": "venv_home_video_analysis_2"
  },
  "language_info": {
   "codemirror_mode": {
    "name": "ipython",
    "version": 3
   },
   "file_extension": ".py",
   "mimetype": "text/x-python",
   "name": "python",
   "nbconvert_exporter": "python",
   "pygments_lexer": "ipython3",
   "version": "3.10.11"
  }
 },
 "nbformat": 4,
 "nbformat_minor": 5
}
