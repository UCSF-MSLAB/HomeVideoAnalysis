{
 "cells": [
  {
   "cell_type": "code",
   "execution_count": 1,
   "id": "ce85538f-9142-4426-8b7b-3e91744a06dc",
   "metadata": {},
   "outputs": [],
   "source": [
    "import matplotlib.pyplot as plt \n",
    "import pandas as pd \n",
    "import seaborn as sns\n",
    "import os "
   ]
  },
  {
   "cell_type": "code",
   "execution_count": 2,
   "id": "a5b46c7d-fee9-401e-9102-c2d06482c1dc",
   "metadata": {},
   "outputs": [],
   "source": [
    "# import mediapipe df from csv \n",
    "# yolo doesn't have visibility confidence score \n",
    "#mp_all_filepath = r'..\\..\\temp\\test_sandbox_pipeline_outputs\\002_frames_to_time\\DS_HC_gait_vertical_left_mediapipe_all.csv'\n",
    "#mp_all_df = pd.read_csv(mp_all_filepath, index_col = 0)\n",
    "\n",
    "# path to video \n",
    "#vid_in_path = r'..\\..\\tests\\fixtures\\all_videos\\DS_HC_practice videos\\DS_HC_gait_vertical_left.mov'\n",
    "\n",
    "# output folder\n",
    "#output_parent_folder = r'..\\temp\\test_sandbox_pipeline_outputs'"
   ]
  },
  {
   "cell_type": "code",
   "execution_count": 3,
   "id": "df5977d8-4896-4d44-8c61-14a9db8bdbf2",
   "metadata": {},
   "outputs": [],
   "source": [
    "# plot visibility mediapipe \n",
    "def mp_vis_all_labels_boxplot(mp_all_df, vid_in_path, output_parent_folder): \n",
    "    \n",
    "    # save basename for plot title \n",
    "    vid_in_path_basename = os.path.basename(vid_in_path) \n",
    "\n",
    "    # plot \n",
    "    plt.clf()\n",
    "    fig1, ax1 = plt.subplots()\n",
    "    ax1 = sns.boxplot(data=mp_all_df, x = 'label', y = 'vis')\n",
    "    plt.xticks(rotation=90)\n",
    "    plt.title('All Labels Visibility: ' + vid_in_path_basename)\n",
    "\n",
    "    # save plot \n",
    "    output_folder = os.path.join(output_parent_folder, '003_landmark_visibility')\n",
    "    \n",
    "    if not os.path.exists(output_folder):\n",
    "        os.makedirs(output_folder)\n",
    "\n",
    "    # create file name \n",
    "    input_file_no_ext_1 = os.path.splitext(os.path.basename(vid_in_path))[0]\n",
    "    output_file_1 = os.path.normpath(os.path.join(output_folder, input_file_no_ext_1 +'_mp_visibility_boxplot.png'))\n",
    "\n",
    "    # save figure \n",
    "    fig1.savefig(output_file_1, bbox_inches = 'tight')\n",
    "    plt.close(fig1)\n",
    "    plt.close()\n",
    "\n",
    "    return(fig1)"
   ]
  },
  {
   "cell_type": "code",
   "execution_count": 4,
   "id": "d4701406-2713-4d08-a2d3-33630c282a0e",
   "metadata": {},
   "outputs": [],
   "source": [
    "# plot mediapipe visibility - line plot \n",
    "def mp_vis_lineplot(mp_all_df, vid_in_path, output_parent_folder): \n",
    "    # save basename for plot title \n",
    "    vid_in_path_basename = os.path.basename(vid_in_path)\n",
    "    \n",
    "    # change label to string for future filtering \n",
    "    mp_all_df['label'] = mp_all_df['label'].astype(str)\n",
    "\n",
    "    # set labels to plot and filter data frame by label column\n",
    "    labels_to_plot = ['left_foot_index', 'right_foot_index',\n",
    "                      'left_heel', 'right_heel',\n",
    "                      'left_ankle', 'right_ankle',\n",
    "                      'left_knee', 'right_knee', \n",
    "                      'left_hip', 'right_hip']\n",
    "\n",
    "    mp_all_filt_df = mp_all_df[mp_all_df['label'].str.contains('|'.join(labels_to_plot), case=False)]\n",
    "    \n",
    "    # plot \n",
    "    plt.figure(figsize=(10, 6))\n",
    "    fig2, ax2 = plt.subplots()\n",
    "    ax2 = sns.lineplot(data=mp_all_df, x='frame', y='vis', hue='label', markers=True, dashes=False, estimator = None)\n",
    "    plt.legend(loc = 'right')\n",
    "    plt.title('All Labels Visibility: ' + vid_in_path_basename)\n",
    "\n",
    "    # save .png\n",
    "    output_folder = os.path.join(output_parent_folder, '003_landmark_visibility')\n",
    "    \n",
    "    if not os.path.exists(output_folder):\n",
    "        os.makedirs(output_folder)\n",
    "\n",
    "    # create file name \n",
    "    input_file_no_ext_2 = os.path.splitext(os.path.basename(vid_in_path))[0]\n",
    "    output_file_2 = os.path.normpath(os.path.join(output_folder, input_file_no_ext_2 +'_mp_visibility_lineplot.png'))\n",
    "\n",
    "    # save figure \n",
    "    fig2.savefig(output_file_2, bbox_inches = 'tight')\n",
    "    plt.close(fig2)\n",
    "    plt.close()\n",
    "\n",
    "    return(fig2)"
   ]
  },
  {
   "cell_type": "code",
   "execution_count": 5,
   "id": "798b5b80-ba4a-44fb-abc8-2aaa9e271fb4",
   "metadata": {},
   "outputs": [],
   "source": [
    "# save mediapipe vis score stats as df \n",
    "def mp_save_vis_stats_by_label(mp_all_df, vid_in_path, output_parent_folder):\n",
    "    # blank df to populate \n",
    "    vis_stats_df = pd.DataFrame(columns = ['label','mean_vis','median_vis','std_vis'])\n",
    "\n",
    "    # save mean, median, and standard deviation of visibility score for each mediapipe landmark \n",
    "    for label in pd.unique(mp_all_df['label']):\n",
    "        if label == 'nan' or pd.isna(label):\n",
    "            print('label is na: skipped')\n",
    "        else: \n",
    "            # filter to data frame that only includes one media pose landmark (nose, right foot, etc)\n",
    "            current_label = mp_all_df.loc[(mp_all_df['label'] == label) | (mp_all_df['label'] == 'no_labels_tracked')]\n",
    "            #mean, median, vis\n",
    "            current_vis_stats_row = pd.DataFrame(data = {'label': [label],\n",
    "                                                         'mean_vis': current_label['vis'].mean(),\n",
    "                                                         'median_vis': current_label['vis'].median(),\n",
    "                                                         'std_vis': current_label['vis'].std()}\n",
    "                                                 )\n",
    "            # concatanate\n",
    "            vis_stats_df = pd.concat([vis_stats_df, current_vis_stats_row])\n",
    "            # drop rows with all missing data \n",
    "            vis_stats_df = vis_stats_df.dropna(how='all')\n",
    "            \n",
    "    \n",
    "    # save .csv \n",
    "    output_folder = os.path.join(output_parent_folder, '003_landmark_visibility')\n",
    "    \n",
    "    if not os.path.exists(output_folder):\n",
    "        os.makedirs(output_folder)\n",
    "\n",
    "     # create file name \n",
    "    input_file_no_ext_3 = os.path.splitext(os.path.basename(vid_in_path))[0]\n",
    "    output_file_3 = os.path.normpath(os.path.join(output_folder, input_file_no_ext_3 + '_mp_visibility_stats.csv'))\n",
    "\n",
    "    # save csv \n",
    "    vis_stats_df.to_csv(output_file_3)\n",
    "\n",
    "\n",
    "    return(vis_stats_df)\n",
    "    "
   ]
  },
  {
   "cell_type": "code",
   "execution_count": 6,
   "id": "448c2424-f8ae-4413-bc3a-41dd278e50ad",
   "metadata": {},
   "outputs": [],
   "source": [
    "## run functions "
   ]
  },
  {
   "cell_type": "code",
   "execution_count": 7,
   "id": "f5c140cc-0a87-478d-97d2-247ddf70c47b",
   "metadata": {},
   "outputs": [],
   "source": [
    "# boxplot \n",
    "#boxplot = vis_all_labels_boxplot(mp_all_df, vid_in_path)\n",
    "#save_visibility_boxplot(boxplot, vid_in_path, output_parent_folder)"
   ]
  },
  {
   "cell_type": "code",
   "execution_count": 8,
   "id": "05b6cd0f-3748-4b88-ac22-61a6e07f0aed",
   "metadata": {},
   "outputs": [],
   "source": [
    "# lineplot \n",
    "#lineplot = vis_lineplot(mp_all_df, vid_in_path)\n",
    "#save_visibility_lineplot(lineplot, vid_in_path, output_parent_folder)"
   ]
  },
  {
   "cell_type": "code",
   "execution_count": 9,
   "id": "141add4b-4c55-4bdb-9941-a81506caccc0",
   "metadata": {},
   "outputs": [],
   "source": [
    "# calculate and save vis score per label \n",
    "#vis_stats_df = save_vis_stats_by_label(mp_all_df)\n",
    "#save_vis_scores_csv(vis_stats_df, vid_in_path, output_parent_folder)"
   ]
  },
  {
   "cell_type": "code",
   "execution_count": 10,
   "id": "1ffeb533-74d0-43eb-a52f-7d0c57c0ef7b",
   "metadata": {},
   "outputs": [
    {
     "name": "stderr",
     "output_type": "stream",
     "text": [
      "[NbConvertApp] Converting notebook landmark_visibility.ipynb to script\n",
      "[NbConvertApp] Writing 5693 bytes to landmark_visibility.py\n"
     ]
    }
   ],
   "source": [
    "## convert to .py file so functions can be used in other scripts \n",
    "!jupyter nbconvert --to script landmark_visibility.ipynb"
   ]
  }
 ],
 "metadata": {
  "kernelspec": {
   "display_name": "venv_home_video_analysis_2",
   "language": "python",
   "name": "venv_home_video_analysis_2"
  },
  "language_info": {
   "codemirror_mode": {
    "name": "ipython",
    "version": 3
   },
   "file_extension": ".py",
   "mimetype": "text/x-python",
   "name": "python",
   "nbconvert_exporter": "python",
   "pygments_lexer": "ipython3",
   "version": "3.10.11"
  }
 },
 "nbformat": 4,
 "nbformat_minor": 5
}
