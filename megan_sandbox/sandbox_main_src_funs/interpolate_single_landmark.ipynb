{
 "cells": [
  {
   "cell_type": "markdown",
   "id": "b09de17d-7c8e-408d-910a-7d3e1da70359",
   "metadata": {},
   "source": [
    "- function that takes in mp_all_df -> filters df to only specific landmark -> interpolate X Y and Z values for both mediapipe and yolo\n",
    "- plot original and plot interpolated on same plot for my QC \n",
    "- output_df with interpolated data (don't need to save) in output folder\n",
    "    - use inside gait ID functions  \n"
   ]
  }
 ],
 "metadata": {
  "kernelspec": {
   "display_name": "venv_home_video_analysis_2",
   "language": "python",
   "name": "venv_home_video_analysis_2"
  },
  "language_info": {
   "codemirror_mode": {
    "name": "ipython",
    "version": 3
   },
   "file_extension": ".py",
   "mimetype": "text/x-python",
   "name": "python",
   "nbconvert_exporter": "python",
   "pygments_lexer": "ipython3",
   "version": "3.10.11"
  }
 },
 "nbformat": 4,
 "nbformat_minor": 5
}
