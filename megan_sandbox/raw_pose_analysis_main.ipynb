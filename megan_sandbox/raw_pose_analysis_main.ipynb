{
 "cells": [
  {
   "cell_type": "code",
   "execution_count": 1,
   "id": "ceab7caf-76d8-4c08-888f-91ab68c7a041",
   "metadata": {},
   "outputs": [],
   "source": [
    "# import libraries \n",
    "import pandas as pd \n",
    "import numpy as np \n",
    "import os \n",
    "import re"
   ]
  },
  {
   "cell_type": "code",
   "execution_count": null,
   "id": "e8b0c2c0-a0d7-4124-b69d-6b05e0a7d7a3",
   "metadata": {},
   "outputs": [],
   "source": [
    "# import functions from sandbox src code files \n",
    "from raw_pose_analysis_funs.merge_mp_yolo_dfs import (merge_mp_pose_world, clean_mp_yolo_missing_data, add_orientation_and_turn_direction, save_merge_mp_yolo_df)\n",
    "\n",
    "from raw_pose_analysis_funs.frames_to_time import (get_frames_per_second, add_time_column, save_df_w_time)\n",
    "\n",
    "from raw_pose_analysis_funs.landmark_visibility import (mp_vis_all_labels_boxplot, mp_vis_lineplot, mp_save_vis_stats_by_label, yolo_vis_lineplot)\n",
    "\n",
    "from raw_pose_analysis_funs.segment_video_walk_turn import filter_landmark_single_axis, segment_video_walks_turn\n",
    "\n",
    "from raw_pose_analysis_funs.filter_interpolate_funs import (interpolate_landmark_single_axis, \n",
    "filter_landmark_single_axis) "
   ]
  },
  {
   "cell_type": "code",
   "execution_count": 2,
   "id": "c572cbf1-ca14-4276-9694-12bef6455d2d",
   "metadata": {},
   "outputs": [
    {
     "name": "stdout",
     "output_type": "stream",
     "text": [
      "not included\n",
      "not included\n"
     ]
    }
   ],
   "source": [
    "# Set input path to run all analysis \n",
    "# folder with all raw pose data (dir_in_path) \n",
    "raw_pose_data_in_path = r'C:\\Users\\mmccu\\Box\\MM_Personal\\5_Projects\\BoveLab\\3_Data_and_Code\\hva_code\\HomeVideoAnalysis\\temp\\test_new_output_folders'\n",
    "\n",
    "raw_data_full_path_all = [] \n",
    "raw_data_file_names_all = []\n",
    "\n",
    "for (dir_path, dir_names, file_names) in os.walk(raw_pose_data_in_path):\n",
    "\n",
    "    # file location\n",
    "    \n",
    "    for file_name in file_names: \n",
    "        name, ext = os.path.splitext(file_name)\n",
    "        ext = ext.lower()[1:]\n",
    "\n",
    "        # save full path to file if it meets requirements to be raw pose data \n",
    "        current_raw_data_in_path = os.path.join(dir_path, file_name)\n",
    "        \n",
    "        if (ext == 'csv') & ('000_raw_pose_data' in current_raw_data_in_path):\n",
    "            raw_data_full_path_all = raw_data_full_path_all + [current_raw_data_in_path]\n",
    "            raw_data_file_names_all = raw_data_file_names_all + [file_names]\n",
    "        else: \n",
    "            print('not included')\n"
   ]
  },
  {
   "cell_type": "code",
   "execution_count": 3,
   "id": "162e5f85-a1f2-49f3-b395-8f7e83626308",
   "metadata": {},
   "outputs": [],
   "source": [
    "# find all unique ID date combos \n",
    "id_date_all = []\n",
    "for file_i, raw_path in enumerate(raw_data_full_path_all): \n",
    "    parent_path_1, current_file_name = os.path.split(raw_path)\n",
    "    parent_path_2, current_raw_data_folder = os.path.split(parent_path_1)\n",
    "    parent_path_3, current_date = os.path.split(parent_path_2)\n",
    "    parent_path_4, current_id = os.path.split(parent_path_3)\n",
    "    current_id_date = os.path.join(current_id, current_date)\n",
    "    id_date_all = id_date_all + [current_id_date]\n"
   ]
  },
  {
   "cell_type": "code",
   "execution_count": 4,
   "id": "eb859306-38f9-4da7-8080-0d57f3bd6536",
   "metadata": {},
   "outputs": [
    {
     "name": "stdout",
     "output_type": "stream",
     "text": [
      "0\n",
      "1\n"
     ]
    }
   ],
   "source": [
    "# for each unique ID and date combo, select either all gait_vertical_right .csv files or all gait_vertical_left files and run all analysis \n",
    "\n",
    "# all unique ID and date combos of .csv files in raw pose data folder \n",
    "unique_id_date = list(set(id_date_all))\n",
    "tasks = ['gait_vertical_left', 'gait_vertical_right'] \n",
    "test_df = pd.DataFrame(data = {'A': [1, 2,3,]})\n",
    "\n",
    "for id_date_i, id_date in enumerate(unique_id_date): \n",
    "    print(id_date_i)\n",
    "    # select raw data paths that match id_date combo \n",
    "    current_id_date_raw_paths = [item for item in raw_data_full_path_all if id_date in item]\n",
    "\n",
    "    # set output folder prefix. Find relative paths relative from input folder to raw data .csv \n",
    "    raw_data_relpath = os.path.relpath(current_id_date_raw_paths[1], raw_pose_data_in_path)\n",
    "    rel_path_to_date_subfolder, raw_data_subfolder = os.path.split(os.path.dirname(raw_data_relpath))\n",
    "    dir_out_prefix = os.path.normpath(os.path.join(raw_pose_data_in_path, rel_path_to_date_subfolder))\n",
    "\n",
    "    # select raw data paths that match right or left vertical task \n",
    "    for task_i, task, in enumerate(tasks): \n",
    "        vid_in_path_no_ext = os.path.join( # only works if all videos file names are correct!! \n",
    "        current_task_raw_paths = [item for item in current_id_date_raw_paths if task in item]\n",
    "        # after selecting for correct task, save each datatype path as own variable \n",
    "        current_yolo_data_path = [item for item in current_task_raw_paths if 'yolo.csv' in item]\n",
    "        current_mp_pose_data_path = [item for item in current_task_raw_paths if 'mediapipe.csv' in item]\n",
    "        current_mp_world_data_path = [item for item in current_task_raw_paths if 'mediapipe_world.csv' in item]\n",
    "        # print(current_yolo_data_path) \n",
    "        # print(current_mp_pose_data_path) \n",
    "        # print(current_mp_world_data_path)\n",
    "\n",
    "        # read in raw data \n",
    "        mp_pose_df = pd.read_csv(mp_pose_filepath)\n",
    "        mp_world_df = pd.read_csv(mp_world_filepath)\n",
    "        yolo_df = pd.read_csv(yolo_filepath)\n",
    "        \n",
    "        # run analysis functions \n",
    "        # step 001 - merge mp df, add tasks info and negative Y\n",
    "        [mp_all_df, yolo_df] = merge_mp_pose_world(mp_pose_df, mp_world_df, yolo_df)\n",
    "        [mp_all_df, yolo_df] = clean_mp_yolo_missing_data(mp_all_df, yolo_df)\n",
    "        [mp_all_df, yolo_df] = add_orientation_and_turn_direction(vid_in_path, mp_all_df, yolo_df) # check vid_in_path \n",
    "        save_merge_mp_yolo_df(mp_all_df, yolo_df, vid_in_path, output_parent_folder)\n",
    "\n",
    "# outputs \n",
    "# mp_all_df and yolo_df pandas data frames updated and .csv file saved \n",
    "\n",
    "        # to save outputs - os.path.join(dir_out_prefix, '001_merge', 'video_name_XYZ.csv'))\n",
    "        # add vid in path variable (\n",
    "\n",
    "        \n",
    "\n",
    "\n",
    "\n",
    "# set output path - use os split to go back before ID, parent_path_4 from above "
   ]
  },
  {
   "cell_type": "code",
   "execution_count": null,
   "id": "53c752c0-7b51-4d30-a796-dd361a5fd12f",
   "metadata": {},
   "outputs": [],
   "source": []
  },
  {
   "cell_type": "code",
   "execution_count": null,
   "id": "de6ce500-8d9c-4a1c-8be0-f416b6fea825",
   "metadata": {},
   "outputs": [],
   "source": []
  }
 ],
 "metadata": {
  "kernelspec": {
   "display_name": "venv_home_video_analysis_2",
   "language": "python",
   "name": "venv_home_video_analysis_2"
  },
  "language_info": {
   "codemirror_mode": {
    "name": "ipython",
    "version": 3
   },
   "file_extension": ".py",
   "mimetype": "text/x-python",
   "name": "python",
   "nbconvert_exporter": "python",
   "pygments_lexer": "ipython3",
   "version": "3.10.11"
  }
 },
 "nbformat": 4,
 "nbformat_minor": 5
}
