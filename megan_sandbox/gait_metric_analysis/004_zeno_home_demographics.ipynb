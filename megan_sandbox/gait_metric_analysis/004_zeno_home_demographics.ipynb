{
 "cells": [
  {
   "cell_type": "code",
   "execution_count": 1,
   "id": "b82e0b58-0cab-49f0-9100-e839c9464b0b",
   "metadata": {},
   "outputs": [],
   "source": [
    "import os \n",
    "import pandas as pd \n",
    "import numpy as np\n",
    "import matplotlib.pyplot as plt"
   ]
  },
  {
   "cell_type": "code",
   "execution_count": 2,
   "id": "3c50f802-7f16-4b0c-90bb-86d69f68dea3",
   "metadata": {},
   "outputs": [],
   "source": [
    "# analysis folder version  \n",
    "analysis_version = '011'"
   ]
  },
  {
   "cell_type": "markdown",
   "id": "c8b518e9-3dbd-449a-a528-0550d3bbb779",
   "metadata": {},
   "source": [
    "## Output Path "
   ]
  },
  {
   "cell_type": "code",
   "execution_count": 3,
   "id": "02f484a7-aef1-4420-817f-7cd05c643bfe",
   "metadata": {},
   "outputs": [],
   "source": [
    "out_path = os.path.join(r'C:\\Users\\mmccu\\Box\\MM_Personal\\5_Projects\\BoveLab\\3_Data_and_Code\\gait_bw_zeno_home_analysis',\n",
    "                        analysis_version, \n",
    "                        '004_demographics_feasibility')\n",
    "\n",
    "if not os.path.exists(out_path): \n",
    "    os.makedirs(out_path)"
   ]
  },
  {
   "cell_type": "markdown",
   "id": "0ec7115d-e9a8-48b0-843c-b6dcdef1dafb",
   "metadata": {},
   "source": [
    "# Functions "
   ]
  },
  {
   "cell_type": "code",
   "execution_count": 4,
   "id": "c370f79b-f47b-4701-a8bb-bd6682834f9f",
   "metadata": {},
   "outputs": [],
   "source": [
    "# split dataframe into healthy controls and participant swith MS \n",
    "# then select first visit date - maybe not baseline, but first visit with data in that dataset \n",
    "\n",
    "def split_MS_HC_first_visit(df, visit_date_col): \n",
    "    df = df.copy()\n",
    "    df['visit_date_video'] = pd.to_datetime(df[visit_date_col])\n",
    "    df['bw_id'] = df['bw_id'].str.strip()\n",
    "\n",
    "    print('total unique bw_ids in df')\n",
    "    print(df['bw_id'].nunique())\n",
    "    print('--------------') \n",
    "\n",
    "    # drop full duplicate rows \n",
    "    df = df.drop_duplicates(keep='first')\n",
    "\n",
    "    # drop dupllicated bw_id and visit_date - ex: same fw and pws \n",
    "    df = df.drop_duplicates(subset=['bw_id', visit_date_col], keep='first')\n",
    "\n",
    "    # first visit - keep the earliest date for each ID \n",
    "    df_first_visit = (\n",
    "        df.sort_values(by=['bw_id', visit_date_col])\n",
    "        .groupby('bw_id')\n",
    "        .first()\n",
    "        .reset_index()\n",
    "    )\n",
    "    \n",
    "\n",
    "    # check if any duplicates \n",
    "    duplicates = df_first_visit['bw_id'].duplicated().sum()\n",
    "    \n",
    "    print('any duplicate bw_ids in first visit df?') \n",
    "    print(duplicates)\n",
    "    print('--------------')\n",
    "\n",
    "    print('df_first_visit demographic diagnosis counts') \n",
    "    print(df_first_visit['demographic_diagnosis'].value_counts())\n",
    "    print('--------------') \n",
    "    \n",
    "    MS_1_df = df_first_visit.loc[df_first_visit['demographic_diagnosis'] == 'MS']\n",
    "    HC_1_df = df_first_visit.loc[df_first_visit['demographic_diagnosis'] == 'HC'] \n",
    "\n",
    "    return MS_1_df, HC_1_df"
   ]
  },
  {
   "cell_type": "code",
   "execution_count": 5,
   "id": "7d3ab521-2b03-49dc-ad1a-7f5b642aa1dc",
   "metadata": {},
   "outputs": [],
   "source": [
    "def plot_histogram(df): \n",
    "    columns = ['demoEHR_DiseaseDuration','clean_Age',\n",
    "               'clean_EDSS', 'clean_T25FW_Avg', \n",
    "              'tc_Examinee_Education']\n",
    "\n",
    "    for index, current_col in enumerate(columns): \n",
    "        plt.hist(df[current_col])\n",
    "        plt.title(current_col)\n",
    "    #    plt.show()\n",
    "        plt.close()"
   ]
  },
  {
   "cell_type": "code",
   "execution_count": 6,
   "id": "e888cd2a-61df-4039-9046-e5c96eb3b32b",
   "metadata": {},
   "outputs": [],
   "source": [
    "def demographic_summary(df): \n",
    "    # summary statistics for  cohort \n",
    "    if len(df) > 0: \n",
    "        # age \n",
    "        age_count = df['clean_Age'].count()\n",
    "        age_mean = df['clean_Age'].mean()\n",
    "        age_sd = df['clean_Age'].std()\n",
    "\n",
    "        age_median = df['clean_Age'].median()\n",
    "        age_iqr = df['clean_Age'].quantile(0.75) - df['clean_Age'].quantile(0.25)\n",
    "        \n",
    "        # sex \n",
    "        sex_count = df['clean_Sex'].count()\n",
    "        sex_n = df['clean_Sex'].value_counts()\n",
    "        sex_n_female = sex_n['Female']\n",
    "        sex_freqs = df['clean_Sex'].value_counts(normalize=True) * 100\n",
    "        sex_freq_female = sex_freqs['Female'] \n",
    "        \n",
    "        # edss \n",
    "        edss_count = df['clean_EDSS'].count()\n",
    "        edss_median = df['clean_EDSS'].median()\n",
    "        edss_median = round(edss_median * 2) / 2 \n",
    "        #calculate quantiles and map back to ordinal category \n",
    "        q1 = df['clean_EDSS'].quantile(0.25)\n",
    "        q1_ordinal = round(q1 * 2) / 2 \n",
    "        q3 = df['clean_EDSS'].quantile(0.75)\n",
    "        q3_ordinal = round(q3 * 2) / 2\n",
    "        edss_iqr = q3_ordinal - q1_ordinal\n",
    "\n",
    "        # t25fw \n",
    "        t25fw_count = df['clean_T25FW_Avg'].count()\n",
    "        t25fw_mean= df['clean_T25FW_Avg'].mean()\n",
    "        t25fw_sd = df['clean_T25FW_Avg'].std()\n",
    "        \n",
    "        t25fw_median= df['clean_T25FW_Avg'].median()\n",
    "        t25fw_iqr = df['clean_T25FW_Avg'].quantile(0.75) - df['clean_T25FW_Avg'].quantile(0.25)\n",
    "\n",
    "        #race \n",
    "        race_count = df['race_ethnicity_clean'].count()\n",
    "        race_n = df['race_ethnicity_clean'].value_counts()\n",
    "        race_freq = df['race_ethnicity_clean'].value_counts(normalize = True) * 100\n",
    "\n",
    "        try:\n",
    "            white_n = race_n['White Non Hispanic']\n",
    "            white_freq = race_freq['White Non Hispanic']\n",
    "        except KeyError:\n",
    "            white_n = 0\n",
    "            white_freq = 0\n",
    "\n",
    "        try: \n",
    "            black_n = race_n['Black Or African American']\n",
    "            black_freq = race_freq['Black Or African American']\n",
    "        except KeyError:\n",
    "            black_n = 0\n",
    "            black_freq = 0\n",
    "        \n",
    "        try: \n",
    "            asian_n = race_n['Asian']\n",
    "            asian_freq = race_freq['Asian']\n",
    "        except KeyError:\n",
    "            asian_n = 0\n",
    "            asian_freq = 0\n",
    "\n",
    "#        try: \n",
    "#             ai_an_n = race_n['American Indian Or Alaska Native']\n",
    "#             ai_an_freq = race_freq['American Indian Or Alaska Native']\n",
    "#         except KeyError:\n",
    "#             ai_an_n = 0\n",
    "#             ai_an_freq = 0\n",
    "\n",
    "#         try: \n",
    "#             opi_n = race_n['Other Pacific Islander']\n",
    "#             opi_freq = race_freq['Other Pacific Islander']\n",
    "#         except KeyError:\n",
    "#             opi_n = 0\n",
    "#             opi_freq = 0\n",
    "             \n",
    "        try: \n",
    "            hispanic_n = race_n['Hispanic or Latino']\n",
    "            hispanic_freq = race_freq['Hispanic or Latino']\n",
    "        except KeyError: \n",
    "            hispanic_n = 0\n",
    "            hispanic_freq = 0\n",
    "\n",
    "        try: \n",
    "            decl_n = race_n['Other/Unknown/Declined']\n",
    "            decl_freq = race_freq['Other/Unknown/Declined']\n",
    "        except KeyError: \n",
    "            decl_n = 0\n",
    "            decl_freq = 0\n",
    "\n",
    "        # disease duration \n",
    "        duration_count = df['demoEHR_DiseaseDuration'].count()\n",
    "        duration_mean = df['demoEHR_DiseaseDuration'].mean()\n",
    "        duration_sd = df['demoEHR_DiseaseDuration'].std()\n",
    "\n",
    "        duration_median = df['demoEHR_DiseaseDuration'].median()\n",
    "        duration_iqr = df['demoEHR_DiseaseDuration'].quantile(0.75) - df['demoEHR_DiseaseDuration'].quantile(0.25)\n",
    "\n",
    "        # MS subtype \n",
    "        #'bingoEHR_DX_MS DX'\n",
    "        ms_dx_count = df['ms_dx_condensed'].count()\n",
    "        ms_dx_n = df['ms_dx_condensed'].value_counts()\n",
    "        ms_dx_freq = df['ms_dx_condensed'].value_counts(normalize = True) * 100\n",
    "\n",
    "        try:\n",
    "            rrms_n = ms_dx_n['RRMS']\n",
    "            rrms_freq = ms_dx_freq['RRMS']\n",
    "        except KeyError:\n",
    "            rrms_n = 0\n",
    "            rrms_freq = 0\n",
    "\n",
    "        \n",
    "        try:\n",
    "            pms_n = ms_dx_n['Progressive MS']\n",
    "            pms_freq = ms_dx_freq['Progressive MS']\n",
    "        except KeyError:\n",
    "            pms_n = 0\n",
    "            pms_freq = 0\n",
    "\n",
    "#        try: \n",
    "#            spms_n = ms_dx_n['SPMS (Secondary-progressive Multiple Sclerosis)']\n",
    "#            spms_freq = ms_dx_freq['SPMS (Secondary-progressive Multiple Sclerosis)']\n",
    "#        except KeyError:\n",
    "#            spms_n = 0\n",
    "#            spms_freq = 0\n",
    "\n",
    "#        try: \n",
    "#            ppms_n = ms_dx_n['PPMS (Primary-progressive Multiple Sclerosis)']\n",
    "#            ppms_freq = ms_dx_freq['PPMS (Primary-progressive Multiple Sclerosis)']\n",
    "#        except KeyError:\n",
    "#            ppms_n = 0\n",
    "#            ppms_freq = 0\n",
    "\n",
    "#        try: \n",
    "#            prms_n = ms_dx_n['PRMS (Progressive-relapsing Multiple Sclerosis)']\n",
    "#            prms_freq = ms_dx_freq['PRMS (Progressive-relapsing Multiple Sclerosis)']\n",
    "#        except KeyError:\n",
    "#            prms_n = 0\n",
    "#            prms_freq = 0 \n",
    "\n",
    "        try: \n",
    "            sns_n = ms_dx_n['MS, Subtype Not Specified']\n",
    "            sns_freq = ms_dx_freq['MS, Subtype Not Specified']\n",
    "        except KeyError:\n",
    "            sns_n = 0\n",
    "            sns_freq = 0\n",
    "\n",
    "#        try: \n",
    "#            pend_n = ms_dx_n['pending']\n",
    "#            pend_freq = ms_dx_freq['pending']\n",
    "#        except KeyError:\n",
    "#            pend_n = 0\n",
    "#            pend_freq = 0\n",
    "\n",
    "#        try: \n",
    "#            abn_n = ms_dx_n['abnormal MRI']\n",
    "#            abn_freq = ms_dx_freq['abnormal MRI']\n",
    "#        except KeyError:\n",
    "#            abn_n = 0\n",
    "#            abn_freq = 0\n",
    "\n",
    "        # first visit - visit type \n",
    "        visit_count = df['redcap_event_name'].count()\n",
    "        visit_n = df['redcap_event_name'].value_counts()\n",
    "        visit_freq = df['redcap_event_name'].value_counts(normalize = True) * 100\n",
    "\n",
    "        #baseline visits \n",
    "        base_n = visit_n['Brainwalk: Baseline visit (Arm 1: Baseline visit)']\n",
    "        base_freq = visit_freq['Brainwalk: Baseline visit (Arm 1: Baseline visit)']\n",
    "\n",
    "        # year 1 \n",
    "        try: \n",
    "            yr2_n = visit_n['Year 2 Visit (Arm 1: Baseline visit)']\n",
    "            yr2_freq = visit_freq['Year 2 Visit (Arm 1: Baseline visit)']\n",
    "        except KeyError:\n",
    "            yr2_n = 0\n",
    "            yr2_freq = 0\n",
    "\n",
    "        # year 1 \n",
    "        try: \n",
    "            yr3_n = visit_n['Year 3 Visit (Arm 1: Baseline visit)']\n",
    "            yr3_freq = visit_freq['Year 3 Visit (Arm 1: Baseline visit)']\n",
    "        except KeyError:\n",
    "            yr3_n = 0\n",
    "            yr3_freq = 0\n",
    "\n",
    "        # education \n",
    "        edu_count = df['tc_Examinee_Education'].count()\n",
    "        edu_mean = df['tc_Examinee_Education'].mean()\n",
    "        edu_sd = df['tc_Examinee_Education'].std()\n",
    "\n",
    "        edu_median = df['tc_Examinee_Education'].median()\n",
    "        edu_iqr = df['tc_Examinee_Education'].quantile(0.75) - df['tc_Examinee_Education'].quantile(0.25)\n",
    "        \n",
    "        \n",
    "        # summary data \n",
    "        summary_data = {'Metric': ['N Participants', \n",
    "                                      'Age (Years), Mean (SD)',\n",
    "                                       'Age (Years), Median (IQR)',\n",
    "                                      'Sex (Female), N (%)',\n",
    "                                      'Race/Ethnicity, N (%)',\n",
    "                                      'White Non Hispanic',\n",
    "                                      'Hispanic or Latino',\n",
    "                                      'Asian',\n",
    "                                      'Black Or African American',\n",
    "                                      'Other/Unknown/Declined',\n",
    "                                      'Disease Duration (Years), Mean (SD)',\n",
    "                                      'Disease Duration (Years), Median (IQR)',\n",
    "                                      'MS Subtype, N (%)',\n",
    "                                      'Relapsing-onset',\n",
    "                                      'Progressive',\n",
    "                                      'Subtype Not Specified',\n",
    "                                       'EDSS, Median (IQR)', \n",
    "                                      'T25FW (Seconds), Mean (SD)',\n",
    "                                      'T25FW (Seconds), Median (IQR)', \n",
    "                                      'Visit Type, N (%)',\n",
    "                                      'Baseline', \n",
    "                                      'Year 2', \n",
    "                                      'Year 3',\n",
    "                                      'Education (Years), Mean (SD)', \n",
    "                                      'Education (Years), Median (IQR)'],\n",
    "                         'Statistic': [df['bw_id'].nunique(),\n",
    "                                       f\"{age_mean:.2f} ({age_sd:.2f})\",  # Mean (SD)\n",
    "                                       f\"{age_median: .2f} ({age_iqr:.2f})\",\n",
    "                                       f\"{sex_n_female} ({sex_freq_female:.0f}%)\",\n",
    "                                       np.nan, \n",
    "                                       f\"{white_n} ({white_freq:.0f}%)\",\n",
    "                                       f\"{hispanic_n} ({hispanic_freq:.0f}%)\",\n",
    "                                       f\"{asian_n} ({asian_freq:.0f}%)\",\n",
    "                                       f\"{black_n} ({black_freq:.0f}%)\",\n",
    "                                       f\"{decl_n} ({decl_freq:.0f}%)\",\n",
    "                                       f\"{duration_mean:.2f} ({duration_sd:.2f})\",  # Mean (SD)\n",
    "                                        f\"{duration_median:.2f} ({duration_iqr:.2f})\",\n",
    "                                       np.nan,\n",
    "                                       f\"{rrms_n} ({rrms_freq:.0f}%)\",\n",
    "                                       f\"{pms_n} ({pms_freq:.0f}%)\",\n",
    "                                       f\"{sns_n} ({sns_freq:.0f}%)\", \n",
    "                                       f\"{edss_median:.1f} ({edss_iqr:.1f})\", \n",
    "                                       f\"{t25fw_mean:.2f} ({t25fw_sd:.2f})\",\n",
    "                                       f\"{t25fw_median:.2f} ({t25fw_iqr:.2f})\",\n",
    "                                       np.nan, \n",
    "                                       f\"{base_n} ({base_freq:.0f}%)\",\n",
    "                                       f\"{yr2_n} ({yr2_freq:.0f}%)\",\n",
    "                                       f\"{yr3_n} ({yr3_freq:.0f}%)\",\n",
    "                                       f\"{edu_mean:.2f} ({edu_sd:.2f})\",\n",
    "                                       f\"{edu_median:.2f} ({edu_iqr:.2f})\"\n",
    "                                      ]\n",
    "                       }\n",
    "\n",
    "        demographics_summary_df = pd.DataFrame(summary_data)\n",
    "\n",
    "\n",
    "        # counts of participants with demographic data \n",
    "        n_data = {'Metric': ['N', \n",
    "                             'n with age data',\n",
    "                             'n with sex data',\n",
    "                             'n with edss data',\n",
    "                             'n with t25fw data',\n",
    "                             'n with demoEHR_REC_2 data',\n",
    "                             'n with duration data',\n",
    "                             'n with ms subtype data',\n",
    "                            'n with education data'],\n",
    "                         'Statistic': [df['bw_id'].nunique(),\n",
    "                                       age_count, \n",
    "                                       sex_count, \n",
    "                                       edss_count,\n",
    "                                       t25fw_count, \n",
    "                                       race_count,\n",
    "                                       duration_count,\n",
    "                                       ms_dx_count,\n",
    "                                       edu_count\n",
    "                                       ]}\n",
    "\n",
    "        n_data_df = pd.DataFrame(n_data) \n",
    "\n",
    "    else: \n",
    "        print('no participants') \n",
    "        demographics_summary_df = pd.DataFrame()\n",
    "        n_data_df = pd.DataFrame()\n",
    "\n",
    "    return demographics_summary_df, n_data_df"
   ]
  },
  {
   "cell_type": "markdown",
   "id": "2228d9fe-a8a4-41d4-8e94-a05230b749e1",
   "metadata": {},
   "source": [
    "# Demographic Groups \n",
    "\n",
    "For each group \n",
    "- pulling demographic data from first brainwalk visit if participant has multiple visits \n",
    "- save .csv file for each group\n",
    "- save summary table as .csv file \n",
    "\n",
    "Zeno \n",
    "1. All participants with videos: MS + HC\n",
    "2. All participants with included videos: MS + HC\n",
    "3. Participants with included PWS videos: MS + HC – is there a diff between groups?\n",
    "4. Participants with included FW videos: MS + HC – is there a diff between groups?\n",
    "\n",
    "Home Videos \n",
    "1. all BW participants with MS (TBD, maybe not all approached) \n",
    "2. All BW participants consented to home vids\n",
    "3. All BW participants who sent home vids\n",
    "4. All BW participants who sent usable/included home vids  "
   ]
  },
  {
   "cell_type": "markdown",
   "id": "cf6f796d-e10e-491b-b380-8e8da89f3b59",
   "metadata": {},
   "source": [
    "# All BW participants w demographic data and walking tasks \n",
    "- Just MS participants\n",
    "- Need to have all demographic data -drop if missing any 'cols_to_check'"
   ]
  },
  {
   "cell_type": "code",
   "execution_count": 7,
   "id": "7df56489-ef57-4ad9-a6fe-8965b99a1194",
   "metadata": {},
   "outputs": [],
   "source": [
    "# All Bw Data  \n",
    "bw_path = os.path.join(r'C:\\Users\\mmccu\\Box\\MM_Personal\\5_Projects\\BoveLab\\3_Data_and_Code\\gait_bw_zeno_home_analysis',\n",
    "                       analysis_version, \n",
    "                       '000_merged_cleaned_data\\mergedCols_2025_04_17_BrainWalk_AllData_Long_MM.csv')\n",
    "\n",
    "bw_df = pd.read_csv(bw_path, index_col = 0)"
   ]
  },
  {
   "cell_type": "code",
   "execution_count": 8,
   "id": "c9824f82-920f-4ff9-8df8-52abab3ebdd0",
   "metadata": {},
   "outputs": [
    {
     "name": "stdout",
     "output_type": "stream",
     "text": [
      "total unique bw_ids in df\n",
      "491\n",
      "--------------\n",
      "any duplicate bw_ids in first visit df?\n",
      "0\n",
      "--------------\n",
      "df_first_visit demographic diagnosis counts\n",
      "demographic_diagnosis\n",
      "MS                                                                                 312\n",
      "HC                                                                                  56\n",
      "PD                                                                                  19\n",
      "Mild TBI                                                                            18\n",
      "bvFTD                                                                               15\n",
      "nfvPPA                                                                              10\n",
      "CBS                                                                                  5\n",
      "Mild complicated TBI                                                                 3\n",
      "svPPA                                                                                3\n",
      "Pending                                                                              3\n",
      "sbvFTD                                                                               3\n",
      "MCI                                                                                  3\n",
      "Severe TBI                                                                           2\n",
      "BvFTD                                                                                2\n",
      "PSP                                                                                  2\n",
      "lvPPA                                                                                2\n",
      "Moderate TBI                                                                         2\n",
      "abnormal MRI                                                                         1\n",
      "Clinically normal - ADRC                                                             1\n",
      "TBI                                                                                  1\n",
      "PSP-RS                                                                               1\n",
      "Unspecified PPA                                                                      1\n",
      "Not MS                                                                               1\n",
      "CIS                                                                                  1\n",
      "CBS vs lvPPA                                                                         1\n",
      "GAD-065 associated imbic encephalitis, cerebellar ataxia, Stiff person syndrome      1\n",
      "PPA                                                                                  1\n",
      "Very dorsal atrophy with executive dysfunction (tested for pos AD biomarkers)        1\n",
      "Unclear Clinical Syndrome                                                            1\n",
      "LvPPA                                                                                1\n",
      "PD                                                                                   1\n",
      "executive motor CBS + FTD phenocopy                                                  1\n",
      "CLN3                                                                                 1\n",
      "FTD                                                                                  1\n",
      "Corticobasal syndrome (CBS)                                                          1\n",
      "Probable MSA                                                                         1\n",
      "Cervical dystonia                                                                    1\n",
      "Parkinsonism                                                                         1\n",
      "pending                                                                              1\n",
      "Name: count, dtype: int64\n",
      "--------------\n"
     ]
    }
   ],
   "source": [
    "# All BW Dataset \n",
    "bw_ms_first_visit, test_HC = split_MS_HC_first_visit(bw_df, visit_date_col = 'visit_date')\n",
    "bw_ms_dem, bw_ms_counts = demographic_summary(bw_ms_first_visit)\n",
    "bw_ms_first_visit.to_csv(os.path.join(out_path, 'bw_ms_first_visit_all.csv')) \n",
    "bw_ms_dem.to_csv(os.path.join(out_path, 'bw_ms_dem_all.csv'))\n",
    "#bw_ms_dem"
   ]
  },
  {
   "cell_type": "code",
   "execution_count": 9,
   "id": "a583b569-4ffe-4c39-9bad-93d92107da95",
   "metadata": {},
   "outputs": [],
   "source": [
    "# histograms \n",
    "plot_histogram(bw_ms_first_visit)"
   ]
  },
  {
   "cell_type": "code",
   "execution_count": 10,
   "id": "af1cc2b6-4d9b-4ade-847d-55e060ba1ae3",
   "metadata": {},
   "outputs": [],
   "source": [
    "# Clean BW data - has all field used in analysis wtihing range\n",
    "bw_clean_path = os.path.join(r'C:\\Users\\mmccu\\Box\\MM_Personal\\5_Projects\\BoveLab\\3_Data_and_Code\\gait_bw_zeno_home_analysis', \n",
    "                            analysis_version, \n",
    "                            '000_merged_cleaned_data\\clean_mergedCols_2025_04_17_BrainWalk_AllData_Long_MM.csv')\n",
    "\n",
    "bw_clean_df = pd.read_csv(bw_clean_path, index_col = 0)"
   ]
  },
  {
   "cell_type": "code",
   "execution_count": 11,
   "id": "d3d56b49-0fbf-4442-9a04-a8dec70616d4",
   "metadata": {},
   "outputs": [
    {
     "name": "stdout",
     "output_type": "stream",
     "text": [
      "total unique bw_ids in df\n",
      "176\n",
      "--------------\n",
      "any duplicate bw_ids in first visit df?\n",
      "0\n",
      "--------------\n",
      "df_first_visit demographic diagnosis counts\n",
      "demographic_diagnosis\n",
      "MS    176\n",
      "Name: count, dtype: int64\n",
      "--------------\n"
     ]
    },
    {
     "data": {
      "text/html": [
       "<div>\n",
       "<style scoped>\n",
       "    .dataframe tbody tr th:only-of-type {\n",
       "        vertical-align: middle;\n",
       "    }\n",
       "\n",
       "    .dataframe tbody tr th {\n",
       "        vertical-align: top;\n",
       "    }\n",
       "\n",
       "    .dataframe thead th {\n",
       "        text-align: right;\n",
       "    }\n",
       "</style>\n",
       "<table border=\"1\" class=\"dataframe\">\n",
       "  <thead>\n",
       "    <tr style=\"text-align: right;\">\n",
       "      <th></th>\n",
       "      <th>Metric</th>\n",
       "      <th>Statistic</th>\n",
       "    </tr>\n",
       "  </thead>\n",
       "  <tbody>\n",
       "    <tr>\n",
       "      <th>0</th>\n",
       "      <td>N Participants</td>\n",
       "      <td>176</td>\n",
       "    </tr>\n",
       "    <tr>\n",
       "      <th>1</th>\n",
       "      <td>Age (Years), Mean (SD)</td>\n",
       "      <td>49.12 (13.31)</td>\n",
       "    </tr>\n",
       "    <tr>\n",
       "      <th>2</th>\n",
       "      <td>Age (Years), Median (IQR)</td>\n",
       "      <td>48.60 (22.55)</td>\n",
       "    </tr>\n",
       "    <tr>\n",
       "      <th>3</th>\n",
       "      <td>Sex (Female), N (%)</td>\n",
       "      <td>126 (72%)</td>\n",
       "    </tr>\n",
       "    <tr>\n",
       "      <th>4</th>\n",
       "      <td>Race/Ethnicity, N (%)</td>\n",
       "      <td>NaN</td>\n",
       "    </tr>\n",
       "    <tr>\n",
       "      <th>5</th>\n",
       "      <td>White Non Hispanic</td>\n",
       "      <td>117 (66%)</td>\n",
       "    </tr>\n",
       "    <tr>\n",
       "      <th>6</th>\n",
       "      <td>Hispanic or Latino</td>\n",
       "      <td>19 (11%)</td>\n",
       "    </tr>\n",
       "    <tr>\n",
       "      <th>7</th>\n",
       "      <td>Asian</td>\n",
       "      <td>12 (7%)</td>\n",
       "    </tr>\n",
       "    <tr>\n",
       "      <th>8</th>\n",
       "      <td>Black Or African American</td>\n",
       "      <td>9 (5%)</td>\n",
       "    </tr>\n",
       "    <tr>\n",
       "      <th>9</th>\n",
       "      <td>Other/Unknown/Declined</td>\n",
       "      <td>19 (11%)</td>\n",
       "    </tr>\n",
       "    <tr>\n",
       "      <th>10</th>\n",
       "      <td>Disease Duration (Years), Mean (SD)</td>\n",
       "      <td>10.14 (8.13)</td>\n",
       "    </tr>\n",
       "    <tr>\n",
       "      <th>11</th>\n",
       "      <td>Disease Duration (Years), Median (IQR)</td>\n",
       "      <td>8.00 (11.00)</td>\n",
       "    </tr>\n",
       "    <tr>\n",
       "      <th>12</th>\n",
       "      <td>MS Subtype, N (%)</td>\n",
       "      <td>NaN</td>\n",
       "    </tr>\n",
       "    <tr>\n",
       "      <th>13</th>\n",
       "      <td>Relapsing-onset</td>\n",
       "      <td>159 (90%)</td>\n",
       "    </tr>\n",
       "    <tr>\n",
       "      <th>14</th>\n",
       "      <td>Progressive</td>\n",
       "      <td>15 (9%)</td>\n",
       "    </tr>\n",
       "    <tr>\n",
       "      <th>15</th>\n",
       "      <td>Subtype Not Specified</td>\n",
       "      <td>2 (1%)</td>\n",
       "    </tr>\n",
       "    <tr>\n",
       "      <th>16</th>\n",
       "      <td>EDSS, Median (IQR)</td>\n",
       "      <td>2.5 (2.5)</td>\n",
       "    </tr>\n",
       "    <tr>\n",
       "      <th>17</th>\n",
       "      <td>T25FW (Seconds), Mean (SD)</td>\n",
       "      <td>5.94 (4.40)</td>\n",
       "    </tr>\n",
       "    <tr>\n",
       "      <th>18</th>\n",
       "      <td>T25FW (Seconds), Median (IQR)</td>\n",
       "      <td>4.75 (2.00)</td>\n",
       "    </tr>\n",
       "    <tr>\n",
       "      <th>19</th>\n",
       "      <td>Visit Type, N (%)</td>\n",
       "      <td>NaN</td>\n",
       "    </tr>\n",
       "    <tr>\n",
       "      <th>20</th>\n",
       "      <td>Baseline</td>\n",
       "      <td>171 (97%)</td>\n",
       "    </tr>\n",
       "    <tr>\n",
       "      <th>21</th>\n",
       "      <td>Year 2</td>\n",
       "      <td>4 (2%)</td>\n",
       "    </tr>\n",
       "    <tr>\n",
       "      <th>22</th>\n",
       "      <td>Year 3</td>\n",
       "      <td>0 (0%)</td>\n",
       "    </tr>\n",
       "    <tr>\n",
       "      <th>23</th>\n",
       "      <td>Education (Years), Mean (SD)</td>\n",
       "      <td>16.69 (3.52)</td>\n",
       "    </tr>\n",
       "    <tr>\n",
       "      <th>24</th>\n",
       "      <td>Education (Years), Median (IQR)</td>\n",
       "      <td>16.00 (5.00)</td>\n",
       "    </tr>\n",
       "  </tbody>\n",
       "</table>\n",
       "</div>"
      ],
      "text/plain": [
       "                                    Metric       Statistic\n",
       "0                           N Participants             176\n",
       "1                   Age (Years), Mean (SD)   49.12 (13.31)\n",
       "2                Age (Years), Median (IQR)   48.60 (22.55)\n",
       "3                      Sex (Female), N (%)       126 (72%)\n",
       "4                    Race/Ethnicity, N (%)             NaN\n",
       "5                       White Non Hispanic       117 (66%)\n",
       "6                       Hispanic or Latino        19 (11%)\n",
       "7                                    Asian         12 (7%)\n",
       "8                Black Or African American          9 (5%)\n",
       "9                   Other/Unknown/Declined        19 (11%)\n",
       "10     Disease Duration (Years), Mean (SD)    10.14 (8.13)\n",
       "11  Disease Duration (Years), Median (IQR)    8.00 (11.00)\n",
       "12                       MS Subtype, N (%)             NaN\n",
       "13                         Relapsing-onset       159 (90%)\n",
       "14                             Progressive         15 (9%)\n",
       "15                   Subtype Not Specified          2 (1%)\n",
       "16                      EDSS, Median (IQR)       2.5 (2.5)\n",
       "17              T25FW (Seconds), Mean (SD)     5.94 (4.40)\n",
       "18           T25FW (Seconds), Median (IQR)     4.75 (2.00)\n",
       "19                       Visit Type, N (%)             NaN\n",
       "20                                Baseline       171 (97%)\n",
       "21                                  Year 2          4 (2%)\n",
       "22                                  Year 3          0 (0%)\n",
       "23            Education (Years), Mean (SD)    16.69 (3.52)\n",
       "24         Education (Years), Median (IQR)    16.00 (5.00)"
      ]
     },
     "execution_count": 11,
     "metadata": {},
     "output_type": "execute_result"
    }
   ],
   "source": [
    "# Clean BW Dataset \n",
    "clean_bw_ms_first_visit, test_HC = split_MS_HC_first_visit(bw_clean_df, visit_date_col = 'visit_date')\n",
    "clean_bw_ms_dem, clean_bw_ms_counts = demographic_summary(clean_bw_ms_first_visit)\n",
    "clean_bw_ms_first_visit.to_csv(os.path.join(out_path, 'bw_ms_first_visit_clean.csv')) \n",
    "clean_bw_ms_dem.to_csv(os.path.join(out_path, 'bw_ms_dem_clean.csv'))\n",
    "clean_bw_ms_dem"
   ]
  },
  {
   "cell_type": "code",
   "execution_count": 12,
   "id": "38d58eca-65ee-4fd2-bc0f-ffd7a7af5144",
   "metadata": {},
   "outputs": [],
   "source": [
    "# histograms \n",
    "plot_histogram(clean_bw_ms_first_visit)"
   ]
  },
  {
   "cell_type": "markdown",
   "id": "819d2913-e289-4cf9-a5d3-cbad204e3b77",
   "metadata": {},
   "source": [
    "# Zeno Videos \n",
    "Videos paired with BW dataset "
   ]
  },
  {
   "cell_type": "markdown",
   "id": "bb9ec516-d594-4c7b-987b-486596811d7c",
   "metadata": {},
   "source": [
    "### PWS "
   ]
  },
  {
   "cell_type": "code",
   "execution_count": 13,
   "id": "69b3096a-5b0e-4c54-b96e-6d43a930f526",
   "metadata": {},
   "outputs": [],
   "source": [
    "# clean dataframes contain all videos processed with BW data  \n",
    "\n",
    "# PWS \n",
    "zv_pws_bw_clean_path = os.path.join(r'C:\\Users\\mmccu\\Box\\MM_Personal\\5_Projects\\BoveLab\\3_Data_and_Code\\gait_bw_zeno_home_analysis', \n",
    "                                    analysis_version, \n",
    "                                    '000_merged_cleaned_data\\zv_bw_merged_gait_vertical_PWS_1_clean.csv')\n",
    "zv_pws_bw_clean_df = pd.read_csv(zv_pws_bw_clean_path, index_col = 0)\n",
    "#print(zv_pws_bw_clean_df['demographic_diagnosis'].value_counts())"
   ]
  },
  {
   "cell_type": "code",
   "execution_count": 14,
   "id": "ff9dc034-12aa-49ba-931e-80ff02372466",
   "metadata": {},
   "outputs": [
    {
     "name": "stdout",
     "output_type": "stream",
     "text": [
      "total unique bw_ids in df\n",
      "125\n",
      "--------------\n",
      "any duplicate bw_ids in first visit df?\n",
      "0\n",
      "--------------\n",
      "df_first_visit demographic diagnosis counts\n",
      "demographic_diagnosis\n",
      "MS    125\n",
      "Name: count, dtype: int64\n",
      "--------------\n"
     ]
    }
   ],
   "source": [
    "# PWS Demographics - All Videos in clean dataset \n",
    "clean_zv_pws_first_visit, test_HC = split_MS_HC_first_visit(zv_pws_bw_clean_df, visit_date_col = 'visit_date_video')\n",
    "clean_zv_pws_dem, clean_zv_pws_counts = demographic_summary(clean_zv_pws_first_visit)\n",
    "clean_zv_pws_first_visit.to_csv(os.path.join(out_path, 'clean_zv_pws_first_visit.csv')) \n",
    "clean_zv_pws_dem.to_csv(os.path.join(out_path, 'clean_zv_pws_dem.csv'))"
   ]
  },
  {
   "cell_type": "code",
   "execution_count": 15,
   "id": "7f800918-9796-41b9-8fc6-f4a996352cae",
   "metadata": {},
   "outputs": [],
   "source": [
    "# histograms \n",
    "plot_histogram(clean_zv_pws_first_visit)"
   ]
  },
  {
   "cell_type": "code",
   "execution_count": 16,
   "id": "80ea2e96-6e55-4cba-829f-8cc2fed0c6e3",
   "metadata": {},
   "outputs": [],
   "source": [
    "#clean_zv_pws_dem"
   ]
  },
  {
   "cell_type": "markdown",
   "id": "33677290-dde4-4975-947a-f2ba5b8656f5",
   "metadata": {},
   "source": [
    "### Fast walk "
   ]
  },
  {
   "cell_type": "code",
   "execution_count": 17,
   "id": "b3ac9160-332e-48a6-a46d-4fda8d027dd2",
   "metadata": {},
   "outputs": [
    {
     "name": "stdout",
     "output_type": "stream",
     "text": [
      "demographic_diagnosis\n",
      "MS    176\n",
      "Name: count, dtype: int64\n"
     ]
    }
   ],
   "source": [
    "# FW \n",
    "zv_fw_bw_clean_path = os.path.join(r'C:\\Users\\mmccu\\Box\\MM_Personal\\5_Projects\\BoveLab\\3_Data_and_Code\\gait_bw_zeno_home_analysis', \n",
    "                                    analysis_version, \n",
    "                                   '000_merged_cleaned_data\\zv_bw_merged_gait_vertical_FW_1_clean.csv') \n",
    "zv_fw_bw_clean_df = pd.read_csv(zv_fw_bw_clean_path, index_col = 0) \n",
    "print(zv_fw_bw_clean_df['demographic_diagnosis'].value_counts())"
   ]
  },
  {
   "cell_type": "code",
   "execution_count": 18,
   "id": "f84de227-18ab-4634-94cf-4bb8907863ff",
   "metadata": {},
   "outputs": [
    {
     "name": "stdout",
     "output_type": "stream",
     "text": [
      "total unique bw_ids in df\n",
      "125\n",
      "--------------\n",
      "any duplicate bw_ids in first visit df?\n",
      "0\n",
      "--------------\n",
      "df_first_visit demographic diagnosis counts\n",
      "demographic_diagnosis\n",
      "MS    125\n",
      "Name: count, dtype: int64\n",
      "--------------\n"
     ]
    }
   ],
   "source": [
    "# FW Demographics - All Videos in clean dataset \n",
    "clean_zv_fw_first_visit, test_HC = split_MS_HC_first_visit(zv_fw_bw_clean_df, visit_date_col = 'visit_date_video')\n",
    "clean_zv_fw_dem, clean_zv_fw_counts = demographic_summary(clean_zv_fw_first_visit)\n",
    "clean_zv_fw_first_visit.to_csv(os.path.join(out_path, 'clean_zv_fw_first_visit.csv')) \n",
    "clean_zv_fw_dem.to_csv(os.path.join(out_path, 'clean_zv_fw_dem.csv'))"
   ]
  },
  {
   "cell_type": "code",
   "execution_count": 19,
   "id": "0ebdbf08-daa6-45db-8d8a-90d242526ffb",
   "metadata": {},
   "outputs": [],
   "source": [
    "# histograms \n",
    "plot_histogram(clean_zv_fw_first_visit)"
   ]
  },
  {
   "cell_type": "code",
   "execution_count": 20,
   "id": "9ffef465-fd71-4932-8e98-eda8e0278f2d",
   "metadata": {},
   "outputs": [],
   "source": [
    "#clean_zv_fw_dem"
   ]
  },
  {
   "cell_type": "markdown",
   "id": "cb77c93d-1e0d-4fae-b228-65e78adc4e72",
   "metadata": {},
   "source": [
    "### PWS and FW merged "
   ]
  },
  {
   "cell_type": "code",
   "execution_count": 21,
   "id": "66664ed0-c984-4bbe-81b0-3d64aa4700cd",
   "metadata": {},
   "outputs": [
    {
     "data": {
      "text/plain": [
       "task_pose_zv\n",
       "gait_vertical_PWS_1    178\n",
       "gait_vertical_FW_1     176\n",
       "Name: count, dtype: int64"
      ]
     },
     "execution_count": 21,
     "metadata": {},
     "output_type": "execute_result"
    }
   ],
   "source": [
    "pws_fw_clean_df = pd.concat([zv_pws_bw_clean_df, zv_fw_bw_clean_df]) \n",
    "pws_fw_clean_df['task_pose_zv'].value_counts()"
   ]
  },
  {
   "cell_type": "code",
   "execution_count": 22,
   "id": "12126117-8a8e-47da-aa03-938e96472048",
   "metadata": {},
   "outputs": [
    {
     "name": "stdout",
     "output_type": "stream",
     "text": [
      "total unique bw_ids in df\n",
      "125\n",
      "--------------\n",
      "any duplicate bw_ids in first visit df?\n",
      "0\n",
      "--------------\n",
      "df_first_visit demographic diagnosis counts\n",
      "demographic_diagnosis\n",
      "MS    125\n",
      "Name: count, dtype: int64\n",
      "--------------\n"
     ]
    }
   ],
   "source": [
    "# PWS and FW Demographics - All Videos in clean dataset \n",
    "clean_pws_fw_first_visit, test_HC = split_MS_HC_first_visit(pws_fw_clean_df, visit_date_col = 'visit_date_video')\n",
    "clean_pws_fw_dem, clean_pws_fw_counts = demographic_summary(clean_pws_fw_first_visit)\n",
    "clean_pws_fw_first_visit.to_csv(os.path.join(out_path, 'clean_pws_fw_first_visit.csv')) \n",
    "clean_pws_fw_dem.to_csv(os.path.join(out_path, 'clean_pws_fw_dem.csv'))"
   ]
  },
  {
   "cell_type": "code",
   "execution_count": 23,
   "id": "a01ce172-f5df-480a-8a56-a554f8c45547",
   "metadata": {},
   "outputs": [],
   "source": [
    "# histograms \n",
    "plot_histogram(clean_pws_fw_first_visit)"
   ]
  },
  {
   "cell_type": "code",
   "execution_count": 24,
   "id": "3ee1b52f-a00c-44e3-a92d-0c7e5f6e89db",
   "metadata": {},
   "outputs": [],
   "source": [
    "#clean_pws_fw_dem"
   ]
  },
  {
   "cell_type": "markdown",
   "id": "e545e7fc-7dbd-4b0a-9622-37c5f92e2d28",
   "metadata": {},
   "source": [
    "# Home Videos  "
   ]
  },
  {
   "cell_type": "markdown",
   "id": "1348b937-445a-44db-bdfd-31b21fff3035",
   "metadata": {},
   "source": [
    "## consent to home videos "
   ]
  },
  {
   "cell_type": "markdown",
   "id": "78654627-5e90-4662-a912-df47f25b2172",
   "metadata": {},
   "source": [
    "### All Participants who consented to home videos \n",
    "See old demographics table script"
   ]
  },
  {
   "cell_type": "code",
   "execution_count": 25,
   "id": "3971cd86-f7df-4d01-a958-73f55e77de08",
   "metadata": {},
   "outputs": [],
   "source": [
    "# REDCap report paths - participants consented to home vids\n",
    "redcap_reports_path = r'C:\\Users\\mmccu\\Box\\Brainwalk\\Home Video Walking\\Megan Project\\bw_data_and_code\\home_video_feasibility\\2025_04_28 RedCap Reports'\n",
    "consent_base_v1_path = os.path.join(redcap_reports_path,\n",
    "                                    'homevid_baseline_consent_v1.csv') \n",
    "consent_base_v2_path = os.path.join(redcap_reports_path,\n",
    "                                    'homevid_baseline_consent_v2.csv') \n",
    "consent_y2_v1_path = os.path.join(redcap_reports_path,\n",
    "                                    'homevid_year2_consent_v1.csv') \n",
    "consent_y2_v2_path = os.path.join(redcap_reports_path,\n",
    "                                    'homevid_year2_consent_v2.csv') \n",
    "consent_y3_v1_path = os.path.join(redcap_reports_path,\n",
    "                                  'homevid_year3_consent_v1.csv') \n",
    "consent_y3_v2_path = os.path.join(redcap_reports_path,\n",
    "                                  'homevid_year3_consent_v2.csv')\n",
    "consent_mm_manual_path = os.path.join(redcap_reports_path,\n",
    "                                  'homevid_consents_manual.xlsx')"
   ]
  },
  {
   "cell_type": "code",
   "execution_count": 26,
   "id": "f188500c-2ca4-4bb3-9ed6-362fc5f57293",
   "metadata": {},
   "outputs": [],
   "source": [
    "# participants consented to home vids - format and merge dataframes \n",
    "consent_base_v1_df = pd.read_csv(consent_base_v1_path) \n",
    "consent_base_v2_df = pd.read_csv(consent_base_v2_path)\n",
    "consent_y2_v1_df = pd.read_csv(consent_y2_v1_path)\n",
    "consent_y2_v2_df = pd.read_csv(consent_y2_v2_path)\n",
    "consent_y3_v1_df = pd.read_csv(consent_y3_v1_path)\n",
    "consent_y3_v2_df = pd.read_csv(consent_y3_v2_path) \n",
    "consent_manual_df = pd.read_excel(consent_mm_manual_path)"
   ]
  },
  {
   "cell_type": "code",
   "execution_count": 27,
   "id": "b36e2322-88ef-402f-90e1-1a39baedff20",
   "metadata": {},
   "outputs": [],
   "source": [
    "# format \n",
    "# add consent version column \n",
    "consent_base_v1_df['consent_version'] = 1\n",
    "consent_y2_v1_df['consent_version'] = 1\n",
    "consent_y3_v1_df['consent_version'] = 1\n",
    "\n",
    "consent_base_v2_df['consent_version'] = 2\n",
    "consent_y2_v2_df['consent_version'] = 2\n",
    "consent_y3_v2_df['consent_version']= 2\n",
    "\n",
    "consent_manual_df['consent_version'] = None\n",
    "\n",
    "# rename all columns to v1 col names \n",
    "#record_id\tredcap_event_name\tbw_id\tfalls_visit_date\twalking_consent_date\twalking_consent_sig\n",
    "consent_base_v1_df = consent_base_v1_df.rename(columns = {'falls_visit_date' : 'visit_date'}) \n",
    "consent_y2_v1_df = consent_y2_v1_df.rename(columns = {'falls_visit_date' : 'visit_date'})\n",
    "consent_y3_v1_df = consent_y3_v1_df.rename(columns = {'falls_visit_date' : 'visit_date'})\n",
    "consent_manual_df = consent_manual_df.rename(columns = {'falls_visit_date' : 'visit_date'})\n",
    "\n",
    "\n",
    "consent_base_v2_df = consent_base_v2_df.rename(columns = {'falls_visit_date' : 'visit_date',\n",
    "                                                          'walking_consent_date_v2' : 'walking_consent_date',\n",
    "                                                          'walking_consent_sig_v2' : 'walking_consent_sig'}) \n",
    "consent_y2_v2_df = consent_y2_v2_df.rename(columns = {'falls_visit_date' : 'visit_date',\n",
    "                                                      'walking_consent_date_v2' : 'walking_consent_date',\n",
    "                                                      'walking_consent_sig_v2' : 'walking_consent_sig'}) \n",
    "consent_y3_v2_df = consent_y3_v2_df.rename(columns = {'falls_visit_date' : 'visit_date',\n",
    "                                                      'walking_consent_date_v2' : 'walking_consent_date',\n",
    "                                                      'walking_consent_sig_v2' : 'walking_consent_sig'})\n",
    "\n",
    "# convert to date time \n",
    "consent_base_v1_df['visit_date'] = pd.to_datetime(consent_base_v1_df['visit_date'], errors = 'coerce')\n",
    "consent_y2_v1_df['visit_date'] = pd.to_datetime(consent_y2_v1_df['visit_date'], errors = 'coerce')\n",
    "consent_y3_v1_df['visit_date'] = pd.to_datetime(consent_y3_v1_df['visit_date'], errors = 'coerce')\n",
    "consent_base_v2_df['visit_date'] = pd.to_datetime(consent_base_v2_df['visit_date'], errors = 'coerce')\n",
    "consent_y2_v2_df['visit_date'] = pd.to_datetime(consent_y2_v2_df['visit_date'], errors = 'coerce')\n",
    "consent_y3_v2_df['visit_date'] = pd.to_datetime(consent_y3_v2_df['visit_date'], errors = 'coerce')\n",
    "consent_manual_df['visit_data'] = pd.to_datetime(consent_manual_df['visit_date'], errors = 'coerce')\n",
    "# concatenate \n",
    "consent_all_df = pd.concat([consent_base_v1_df,\n",
    "                            consent_base_v2_df,\n",
    "                            consent_y2_v1_df,\n",
    "                            consent_y2_v2_df,\n",
    "                            consent_y3_v1_df,\n",
    "                            consent_y3_v2_df, \n",
    "                           consent_manual_df])"
   ]
  },
  {
   "cell_type": "code",
   "execution_count": 28,
   "id": "5f9a1c78-bbc1-44e8-b018-e65bfaae2aba",
   "metadata": {},
   "outputs": [],
   "source": [
    "# rename columns to help with merge \n",
    "consent_all_df = consent_all_df.rename(columns={'redcap_event_name': 'redcap_event_name_1'})\n",
    "\n",
    "## Drop rows missing ID - error in report, duplicated with other row, maybe signed twice? \n",
    "#consent_all_df = consent_all_df.dropna(subset=['bw_id'])\n",
    "\n",
    "## Drop rows if duplicate BW-ID and date combo - may have signed both version 1 and version 2\n",
    "consent_all_df = consent_all_df.drop_duplicates(subset=['bw_id', 'visit_date'], keep='first')\n",
    "consent_all_df.to_csv(os.path.join(out_path, 'home_video_consent_df_original.csv'))\n"
   ]
  },
  {
   "cell_type": "code",
   "execution_count": 29,
   "id": "8b6b24b0-05b0-4ea8-affd-5778971094c0",
   "metadata": {},
   "outputs": [],
   "source": [
    "# convert bw dates to date object \n",
    "bw_df['visit_date'] = pd.to_datetime(bw_df['visit_date'], errors = 'coerce')\n",
    "bw_clean_df['visit_date'] = pd.to_datetime(bw_clean_df['visit_date'], errors = 'coerce')\n",
    "consent_all_df['walking_consent_date'] = pd.to_datetime(consent_all_df['walking_consent_date'], errors = 'coerce')"
   ]
  },
  {
   "cell_type": "code",
   "execution_count": 30,
   "id": "95c782aa-48b5-428e-bb8c-fa721de91855",
   "metadata": {},
   "outputs": [],
   "source": [
    "# merge bw_df with consented \n",
    "consent_all_w_bw_df = consent_all_df.merge(right = bw_df, how = 'left', on = ['bw_id', 'visit_date'])\n",
    "consent_all_w_bw_df.head()\n",
    "\n",
    "# drop non MS (think one TBI by accident)\n",
    "consent_all_w_bw_df = consent_all_w_bw_df.loc[consent_all_w_bw_df['demographic_diagnosis'] == 'MS']\n",
    "\n",
    "consent_all_w_bw_df.to_csv(os.path.join(out_path, 'home_video_consent_df_merged_w_bw_all.csv'))"
   ]
  },
  {
   "cell_type": "code",
   "execution_count": 31,
   "id": "4ea3ddf8-4f6f-4d1c-b39b-c4692f74dd6e",
   "metadata": {},
   "outputs": [
    {
     "name": "stdout",
     "output_type": "stream",
     "text": [
      "65\n",
      "8\n"
     ]
    }
   ],
   "source": [
    "# number of participants who consented at one visit, vs at multiple visits \n",
    "print((consent_all_w_bw_df['bw_id'].value_counts() == 1).sum())\n",
    "print(consent_all_w_bw_df['bw_id'][consent_all_w_bw_df['bw_id'].duplicated()].nunique())"
   ]
  },
  {
   "cell_type": "code",
   "execution_count": 32,
   "id": "fa80b7b3-5dae-4f97-8f5d-66cbcbaa28ac",
   "metadata": {},
   "outputs": [
    {
     "name": "stdout",
     "output_type": "stream",
     "text": [
      "total unique bw_ids in df\n",
      "73\n",
      "--------------\n",
      "any duplicate bw_ids in first visit df?\n",
      "0\n",
      "--------------\n",
      "df_first_visit demographic diagnosis counts\n",
      "demographic_diagnosis\n",
      "MS    73\n",
      "Name: count, dtype: int64\n",
      "--------------\n"
     ]
    }
   ],
   "source": [
    "# selecting first visist = someone who consented to home videos at at least one visit \n",
    "consent_first_visit, test_HC = split_MS_HC_first_visit(consent_all_w_bw_df, visit_date_col = 'visit_date')\n",
    "consent_dem, consent_counts = demographic_summary(consent_first_visit)\n",
    "consent_first_visit.to_csv(os.path.join(out_path, 'home_video_consent_first_visit_all.csv')) \n",
    "consent_dem.to_csv(os.path.join(out_path, 'home_video_consent_dem_all.csv'))\n",
    "#consent_dem"
   ]
  },
  {
   "cell_type": "markdown",
   "id": "3779fc4a-521e-4cdd-ac46-530850ab7dce",
   "metadata": {},
   "source": [
    "### Consent with BW data \n",
    "merge participants who have consented with clean BW data. Clean BW data only contains participants with full datasets (no missing assessments and EDSS and T25FW in range) "
   ]
  },
  {
   "cell_type": "code",
   "execution_count": 33,
   "id": "9018e008-d29c-4868-81be-62cd33034865",
   "metadata": {},
   "outputs": [],
   "source": [
    "# merge \n",
    "consent_clean_w_bw_df = consent_all_df.merge(right = bw_clean_df, how = 'left', on = ['bw_id', 'visit_date'])\n",
    "\n",
    "# drop non MS (think one TBI by accident)\n",
    "consent_clean_w_bw_df = consent_clean_w_bw_df.loc[consent_clean_w_bw_df['demographic_diagnosis'] == 'MS']\n",
    "\n",
    "# drop if clean sex column is empty - means no bw data is available for this visit from the clean dataset \n",
    "consent_clean_w_bw_df = consent_clean_w_bw_df.dropna(subset = ['clean_Sex'])\n",
    "\n",
    "consent_clean_w_bw_df.to_csv(os.path.join(out_path, 'home_video_consent_df_merged_w_bw_clean.csv'))"
   ]
  },
  {
   "cell_type": "code",
   "execution_count": 34,
   "id": "a1d94dbc-8965-45e4-8687-0fef397a5677",
   "metadata": {},
   "outputs": [
    {
     "name": "stdout",
     "output_type": "stream",
     "text": [
      "total unique bw_ids in df\n",
      "72\n",
      "--------------\n",
      "any duplicate bw_ids in first visit df?\n",
      "0\n",
      "--------------\n",
      "df_first_visit demographic diagnosis counts\n",
      "demographic_diagnosis\n",
      "MS    72\n",
      "Name: count, dtype: int64\n",
      "--------------\n"
     ]
    }
   ],
   "source": [
    "# selecting first visist = someone who consented to home videos at at least one visit \n",
    "consent_clean_first_visit, test_HC = split_MS_HC_first_visit(consent_clean_w_bw_df, visit_date_col = 'visit_date')\n",
    "consent_clean_dem, consent_clean_counts = demographic_summary(consent_clean_first_visit)\n",
    "consent_clean_first_visit.to_csv(os.path.join(out_path, 'home_video_consent_first_visit_clean.csv')) \n",
    "consent_clean_dem.to_csv(os.path.join(out_path, 'home_video_consent_dem_clean.csv'))\n",
    "#consent_clean_dem"
   ]
  },
  {
   "cell_type": "code",
   "execution_count": 35,
   "id": "0e75d3f8-c7e4-42ff-aa1c-4485f971a79b",
   "metadata": {},
   "outputs": [],
   "source": [
    "# histograms \n",
    "plot_histogram(consent_clean_first_visit)"
   ]
  },
  {
   "cell_type": "markdown",
   "id": "35fdf09c-f9aa-450b-bbf5-d826b5d39542",
   "metadata": {},
   "source": [
    "## Did Not consent to home videos "
   ]
  },
  {
   "cell_type": "code",
   "execution_count": 36,
   "id": "6ebabefc-1c89-4c90-86e1-de9a94ca5549",
   "metadata": {},
   "outputs": [
    {
     "name": "stdout",
     "output_type": "stream",
     "text": [
      "First date of no consent dataframe: 2022-05-18 00:00:00\n",
      "First date a participant signed consent for home walking videos: 2023-05-05 00:00:00\n",
      "Firt date of no consent in filtered no consent dataframe: 2023-05-08 00:00:00\n",
      "Number of rows in filtered no consent dataframe: 423\n"
     ]
    }
   ],
   "source": [
    "# estimate of people approached who did not consent \n",
    "# Use date of first home video consent as start date for offering home videos \n",
    "# BW participants after that who did not consent to home videos == not consented \n",
    "\n",
    "# in raw dataset, but not in raw consent file \n",
    "no_consent_all_w_bw_df = bw_df[~bw_df['bw_id'].isin(consent_all_w_bw_df['bw_id'])]\n",
    "print(f\"First date of no consent dataframe: {no_consent_all_w_bw_df['visit_date'].min()}\")\n",
    "\n",
    "first_consent_date = consent_all_w_bw_df['walking_consent_date'].min()\n",
    "print(f\"First date a participant signed consent for home walking videos: {first_consent_date}\") \n",
    "\n",
    "# filter df of people who did not consent to home walking to only those after the first consent of home video \n",
    "no_consent_all_w_bw_df = no_consent_all_w_bw_df.loc[no_consent_all_w_bw_df['visit_date'] >= first_consent_date]\n",
    "print(f\"Firt date of no consent in filtered no consent dataframe: {no_consent_all_w_bw_df['visit_date'].min()}\")\n",
    "print(f\"Number of rows in filtered no consent dataframe: {len(no_consent_all_w_bw_df)}\")\n"
   ]
  },
  {
   "cell_type": "markdown",
   "id": "3fce0bef-8aeb-4039-a63f-3f446edc6408",
   "metadata": {},
   "source": [
    "### Did not consent to home videos, all/raw "
   ]
  },
  {
   "cell_type": "code",
   "execution_count": 37,
   "id": "5340c307-52a4-4e89-bd11-76018367dcb5",
   "metadata": {},
   "outputs": [
    {
     "name": "stdout",
     "output_type": "stream",
     "text": [
      "total unique bw_ids in df\n",
      "347\n",
      "--------------\n",
      "any duplicate bw_ids in first visit df?\n",
      "0\n",
      "--------------\n",
      "df_first_visit demographic diagnosis counts\n",
      "demographic_diagnosis\n",
      "MS                                                                                 209\n",
      "HC                                                                                  42\n",
      "Mild TBI                                                                            16\n",
      "PD                                                                                   9\n",
      "bvFTD                                                                                8\n",
      "nfvPPA                                                                               8\n",
      "CBS                                                                                  4\n",
      "sbvFTD                                                                               3\n",
      "Mild complicated TBI                                                                 3\n",
      "MCI                                                                                  3\n",
      "svPPA                                                                                3\n",
      "PSP                                                                                  2\n",
      "lvPPA                                                                                2\n",
      "Severe TBI                                                                           2\n",
      "Moderate TBI                                                                         2\n",
      "BvFTD                                                                                2\n",
      "GAD-065 associated imbic encephalitis, cerebellar ataxia, Stiff person syndrome      1\n",
      "PSP-RS                                                                               1\n",
      "Not MS                                                                               1\n",
      "TBI                                                                                  1\n",
      "Clinically normal - ADRC                                                             1\n",
      "abnormal MRI                                                                         1\n",
      "Unspecified PPA                                                                      1\n",
      "CIS                                                                                  1\n",
      "CBS vs lvPPA                                                                         1\n",
      "CLN3                                                                                 1\n",
      "PPA                                                                                  1\n",
      "Unclear Clinical Syndrome                                                            1\n",
      "LvPPA                                                                                1\n",
      "PD                                                                                   1\n",
      "executive motor CBS + FTD phenocopy                                                  1\n",
      "Parkinsonism                                                                         1\n",
      "Very dorsal atrophy with executive dysfunction (tested for pos AD biomarkers)        1\n",
      "FTD                                                                                  1\n",
      "Cervical dystonia                                                                    1\n",
      "pending                                                                              1\n",
      "Name: count, dtype: int64\n",
      "--------------\n"
     ]
    }
   ],
   "source": [
    "# in raw bw dataset, but not in raw consent file \n",
    "#no_consent_all_w_bw_df = bw_df[~bw_df['bw_id'].isin(consent_all_w_bw_df['bw_id'])]\n",
    "\n",
    "# all no consent to home videos \n",
    "no_consent_ms_first_visit, test_HC = split_MS_HC_first_visit(no_consent_all_w_bw_df, visit_date_col = 'visit_date')\n",
    "no_consent_ms_dem, no_consent_ms_counts = demographic_summary(no_consent_ms_first_visit)\n",
    "no_consent_ms_first_visit.to_csv(os.path.join(out_path, 'home_video_no_consent_ms_first_visit_all.csv')) \n",
    "no_consent_ms_dem.to_csv(os.path.join(out_path, 'home_video_no_consent_ms_dem_all.csv'))\n",
    "#no_consent_ms_dem"
   ]
  },
  {
   "cell_type": "markdown",
   "id": "c5217665-b12d-4e68-aed6-33a92f4f7f15",
   "metadata": {},
   "source": [
    "### Did not consent to home videos, from clean with all BW data  "
   ]
  },
  {
   "cell_type": "code",
   "execution_count": 38,
   "id": "1a17e91d-9e4e-46d0-b8c6-ebb375dc9934",
   "metadata": {},
   "outputs": [
    {
     "name": "stdout",
     "output_type": "stream",
     "text": [
      "First date of no consent in clean no consent dataframe: 2022-09-22 00:00:00\n",
      "Number of rows in clean no consent dataframe: 171\n",
      "First date of no consent in filtered no consent dataframe: 2023-05-08 00:00:00\n",
      "Number of rows in filtered no consent dataframe: 103\n"
     ]
    }
   ],
   "source": [
    "# in clean bw dataset, but not in clean consent file  \n",
    "no_consent_clean_w_bw_df = bw_clean_df[~bw_clean_df['bw_id'].isin(consent_clean_w_bw_df['bw_id'])]\n",
    "print(f\"First date of no consent in clean no consent dataframe: {no_consent_clean_w_bw_df['visit_date'].min()}\")\n",
    "print(f\"Number of rows in clean no consent dataframe: {len(no_consent_clean_w_bw_df)}\")\n",
    "\n",
    "# filter df of people who did not consent to home walking to only those after the first consent of home video \n",
    "no_consent_clean_w_bw_df = no_consent_clean_w_bw_df.loc[no_consent_clean_w_bw_df['visit_date'] >= first_consent_date]\n",
    "print(f\"First date of no consent in filtered no consent dataframe: {no_consent_clean_w_bw_df['visit_date'].min()}\")\n",
    "print(f\"Number of rows in filtered no consent dataframe: {len(no_consent_clean_w_bw_df)}\")"
   ]
  },
  {
   "cell_type": "code",
   "execution_count": 39,
   "id": "9fc944ef-1cd0-40c6-8b52-6459a593f301",
   "metadata": {},
   "outputs": [
    {
     "name": "stdout",
     "output_type": "stream",
     "text": [
      "total unique bw_ids in df\n",
      "74\n",
      "--------------\n",
      "any duplicate bw_ids in first visit df?\n",
      "0\n",
      "--------------\n",
      "df_first_visit demographic diagnosis counts\n",
      "demographic_diagnosis\n",
      "MS    74\n",
      "Name: count, dtype: int64\n",
      "--------------\n"
     ]
    }
   ],
   "source": [
    "# all no consent to home videos \n",
    "no_consent_clean_first_visit, test_HC = split_MS_HC_first_visit(no_consent_clean_w_bw_df, visit_date_col = 'visit_date')\n",
    "no_consent_clean_dem, no_consent_clean_counts = demographic_summary(no_consent_clean_first_visit)\n",
    "no_consent_clean_first_visit.to_csv(os.path.join(out_path, 'home_video_no_consent_ms_first_visit_clean.csv')) \n",
    "no_consent_clean_dem.to_csv(os.path.join(out_path, 'home_video_no_consent_ms_dem_clean.csv'))\n",
    "#no_consent_clean_dem"
   ]
  },
  {
   "cell_type": "markdown",
   "id": "7b98a541-f92b-4dd3-a5b8-14f758730b21",
   "metadata": {},
   "source": [
    "## Consented and sent video "
   ]
  },
  {
   "cell_type": "markdown",
   "id": "976b9747-7cc2-4395-87e3-d8513d204ae6",
   "metadata": {},
   "source": [
    "### All Videos sent - raw data frame \n",
    "Sent video, not necessarily matched to BW data "
   ]
  },
  {
   "cell_type": "code",
   "execution_count": 40,
   "id": "b74a982d-5266-40d7-9acd-8c0ecbbf4988",
   "metadata": {},
   "outputs": [],
   "source": [
    "### All Videos \n",
    "# Home Videos \n",
    "hv_bw_raw_path = os.path.join(r'C:\\Users\\mmccu\\Box\\MM_Personal\\5_Projects\\BoveLab\\3_Data_and_Code\\gait_bw_zeno_home_analysis', \n",
    "                                analysis_version, \n",
    "                                '000_merged_cleaned_data\\hv_bw_merged_raw.csv') \n",
    "\n",
    "hv_bw_raw_df = pd.read_csv(hv_bw_raw_path, index_col = 0) "
   ]
  },
  {
   "cell_type": "code",
   "execution_count": 41,
   "id": "0cb3d3c2-929b-43f0-8eb8-3cf2380ad3ea",
   "metadata": {},
   "outputs": [
    {
     "name": "stdout",
     "output_type": "stream",
     "text": [
      "total unique bw_ids in df\n",
      "38\n",
      "--------------\n",
      "any duplicate bw_ids in first visit df?\n",
      "0\n",
      "--------------\n",
      "df_first_visit demographic diagnosis counts\n",
      "demographic_diagnosis\n",
      "MS    38\n",
      "Name: count, dtype: int64\n",
      "--------------\n"
     ]
    }
   ],
   "source": [
    "# Home Demographics - All Videos in raw dataset \n",
    "raw_home_first_visit, test_HC = split_MS_HC_first_visit(hv_bw_raw_df, visit_date_col = 'visit_date_video')\n",
    "raw_home_dem, raw_home_counts = demographic_summary(raw_home_first_visit)\n",
    "raw_home_first_visit.to_csv(os.path.join(out_path, 'home_video_sent_first_visit_all.csv')) \n",
    "raw_home_dem.to_csv(os.path.join(out_path, 'home_video_sent_dem_all.csv'))\n",
    "#raw_home_dem"
   ]
  },
  {
   "cell_type": "markdown",
   "id": "6d29caa8-ca6c-44a0-92dc-74cb917e4c5a",
   "metadata": {},
   "source": [
    "### All videos in clean df - sent video and had paired BW data "
   ]
  },
  {
   "cell_type": "code",
   "execution_count": 42,
   "id": "d7b323b5-8d80-458e-8b60-6ed91e9456f3",
   "metadata": {},
   "outputs": [],
   "source": [
    "# Home Videos \n",
    "hv_bw_clean_path = os.path.join(r'C:\\Users\\mmccu\\Box\\MM_Personal\\5_Projects\\BoveLab\\3_Data_and_Code\\gait_bw_zeno_home_analysis', \n",
    "                                analysis_version, \n",
    "                                '000_merged_cleaned_data\\hv_bw_merged_clean.csv') \n",
    "\n",
    "hv_bw_clean_df = pd.read_csv(hv_bw_clean_path, index_col = 0) "
   ]
  },
  {
   "cell_type": "code",
   "execution_count": 43,
   "id": "774e1669-8697-43fc-8dbb-6caa52782498",
   "metadata": {},
   "outputs": [
    {
     "name": "stdout",
     "output_type": "stream",
     "text": [
      "total unique bw_ids in df\n",
      "38\n",
      "--------------\n",
      "any duplicate bw_ids in first visit df?\n",
      "0\n",
      "--------------\n",
      "df_first_visit demographic diagnosis counts\n",
      "demographic_diagnosis\n",
      "MS    38\n",
      "Name: count, dtype: int64\n",
      "--------------\n"
     ]
    }
   ],
   "source": [
    "# Home Demographics - All Videos in clean dataset \n",
    "clean_home_first_visit, test_HC = split_MS_HC_first_visit(hv_bw_clean_df, visit_date_col = 'visit_date_video')\n",
    "clean_home_dem, clean_home_counts = demographic_summary(clean_home_first_visit)\n",
    "clean_home_first_visit.to_csv(os.path.join(out_path, 'home_video_sent_first_visit_clean.csv')) \n",
    "clean_home_dem.to_csv(os.path.join(out_path, 'home_video_sent_dem_clean.csv'))\n",
    "\n",
    "#clean_home_dem"
   ]
  },
  {
   "cell_type": "code",
   "execution_count": 44,
   "id": "1558df65-17b2-4892-9b0c-65bb016b9500",
   "metadata": {},
   "outputs": [],
   "source": [
    "# histograms \n",
    "plot_histogram(clean_home_first_visit)"
   ]
  },
  {
   "cell_type": "markdown",
   "id": "7af9c228-3d61-46c7-a063-a0129ef2e394",
   "metadata": {},
   "source": [
    "## Consented, but did not send videos "
   ]
  },
  {
   "cell_type": "markdown",
   "id": "034b6c69-d76e-4d2d-a112-3b63493d521e",
   "metadata": {},
   "source": [
    "### Did not send videos, raw/all "
   ]
  },
  {
   "cell_type": "code",
   "execution_count": 45,
   "id": "b3faa550-c8cd-4744-a96b-4a0e88308400",
   "metadata": {},
   "outputs": [
    {
     "name": "stdout",
     "output_type": "stream",
     "text": [
      "total unique bw_ids in df\n",
      "35\n",
      "--------------\n",
      "any duplicate bw_ids in first visit df?\n",
      "0\n",
      "--------------\n",
      "df_first_visit demographic diagnosis counts\n",
      "demographic_diagnosis\n",
      "MS    35\n",
      "Name: count, dtype: int64\n",
      "--------------\n"
     ]
    }
   ],
   "source": [
    "# ids in consent all df, but not in video data \n",
    "raw_no_videos_w_bw_df = consent_all_w_bw_df[~consent_all_w_bw_df['bw_id'].isin(hv_bw_raw_df['bw_id'])]\n",
    "\n",
    "no_video_ms_first_visit, test_HC = split_MS_HC_first_visit(raw_no_videos_w_bw_df, visit_date_col = 'visit_date')\n",
    "no_video_ms_dem, no_video_ms_counts = demographic_summary(no_video_ms_first_visit)\n",
    "no_video_ms_first_visit.to_csv(os.path.join(out_path, 'home_video_not_sent_first_visit_all.csv')) \n",
    "no_video_ms_dem.to_csv(os.path.join(out_path, 'home_video_not_sent_dem_all.csv'))\n",
    "#no_video_ms_dem"
   ]
  },
  {
   "cell_type": "markdown",
   "id": "483a8138-3a01-4c17-af6c-319ccd3c2d4c",
   "metadata": {},
   "source": [
    "### Did not send videos, clean with BW data "
   ]
  },
  {
   "cell_type": "code",
   "execution_count": 46,
   "id": "b45efa0b-40a9-4254-89ea-30da8e301fed",
   "metadata": {},
   "outputs": [
    {
     "name": "stdout",
     "output_type": "stream",
     "text": [
      "total unique bw_ids in df\n",
      "34\n",
      "--------------\n",
      "any duplicate bw_ids in first visit df?\n",
      "0\n",
      "--------------\n",
      "df_first_visit demographic diagnosis counts\n",
      "demographic_diagnosis\n",
      "MS    34\n",
      "Name: count, dtype: int64\n",
      "--------------\n"
     ]
    }
   ],
   "source": [
    "clean_no_videos_w_bw_df = consent_clean_w_bw_df[~consent_clean_w_bw_df['bw_id'].isin(hv_bw_clean_df['bw_id'])]\n",
    "\n",
    "no_video_clean_first_visit, test_HC = split_MS_HC_first_visit(clean_no_videos_w_bw_df, visit_date_col = 'visit_date')\n",
    "no_video_clean_dem, no_video_clean_counts = demographic_summary(no_video_clean_first_visit)\n",
    "no_video_clean_first_visit.to_csv(os.path.join(out_path, 'home_video_not_sent_first_visit_clean.csv')) \n",
    "no_video_clean_dem.to_csv(os.path.join(out_path, 'home_video_not_sent_dem_clean.csv'))\n",
    "#no_video_clean_dem"
   ]
  },
  {
   "cell_type": "markdown",
   "id": "497c2f68-71e5-4d6a-8aeb-e9c2c39d1571",
   "metadata": {},
   "source": [
    "## Videos with walking segment "
   ]
  },
  {
   "cell_type": "markdown",
   "id": "44685657-fb4d-4f18-9592-6180e5d59616",
   "metadata": {},
   "source": [
    "### Of all videos sent - # with at least 1 linear walking segment identified, all/raw"
   ]
  },
  {
   "cell_type": "code",
   "execution_count": 47,
   "id": "0c4b6512-8bd6-47ea-afa5-90be427d7800",
   "metadata": {},
   "outputs": [
    {
     "data": {
      "text/plain": [
       "walking_segmets_n_pose_hv\n",
       "6.0     15\n",
       "3.0     14\n",
       "4.0     13\n",
       "5.0     12\n",
       "2.0      7\n",
       "7.0      6\n",
       "1.0      4\n",
       "12.0     1\n",
       "Name: count, dtype: int64"
      ]
     },
     "execution_count": 47,
     "metadata": {},
     "output_type": "execute_result"
    }
   ],
   "source": [
    "hv_bw_raw_wWalking_df = hv_bw_raw_df.loc[hv_bw_raw_df['walking_segmets_n_pose_hv'] > 0]\n",
    "hv_bw_raw_wWalking_df['walking_segmets_n_pose_hv'].value_counts()"
   ]
  },
  {
   "cell_type": "code",
   "execution_count": 48,
   "id": "bdf401aa-5e72-4554-bdf0-468232ba951a",
   "metadata": {},
   "outputs": [],
   "source": [
    "#hv_bw_raw_df.loc[pd.isna(hv_bw_raw_df['walking_segmets_n_pose_hv'])]"
   ]
  },
  {
   "cell_type": "code",
   "execution_count": 49,
   "id": "3a570b18-91ab-44ad-8ef7-b340e7bfd554",
   "metadata": {},
   "outputs": [
    {
     "name": "stdout",
     "output_type": "stream",
     "text": [
      "total unique bw_ids in df\n",
      "33\n",
      "--------------\n",
      "any duplicate bw_ids in first visit df?\n",
      "0\n",
      "--------------\n",
      "df_first_visit demographic diagnosis counts\n",
      "demographic_diagnosis\n",
      "MS    33\n",
      "Name: count, dtype: int64\n",
      "--------------\n"
     ]
    }
   ],
   "source": [
    "# demographics and counts \n",
    "raw_home_wWalking_first, test_HC = split_MS_HC_first_visit(hv_bw_raw_wWalking_df, visit_date_col = 'visit_date_video')\n",
    "raw_home_wWalking_dem, raw_home_wWalking_counts = demographic_summary(raw_home_wWalking_first)\n",
    "raw_home_wWalking_first.to_csv(os.path.join(out_path, 'home_wWalking_first_visit_all.csv')) \n",
    "raw_home_wWalking_dem.to_csv(os.path.join(out_path, 'home_wWalking_dem_all.csv'))\n",
    "#raw_home_wWalking_dem"
   ]
  },
  {
   "cell_type": "markdown",
   "id": "140240a9-c7c0-4f6d-8269-8f89a60d73ec",
   "metadata": {},
   "source": [
    "### Home videos with walking segment identified and paired BW data, clean"
   ]
  },
  {
   "cell_type": "code",
   "execution_count": 50,
   "id": "96de6a13-cdac-4023-afbe-d425f38e17f5",
   "metadata": {},
   "outputs": [
    {
     "data": {
      "text/plain": [
       "walking_segmets_n_pose_hv\n",
       "6.0     15\n",
       "3.0     14\n",
       "4.0     13\n",
       "5.0     12\n",
       "2.0      7\n",
       "7.0      6\n",
       "1.0      4\n",
       "12.0     1\n",
       "Name: count, dtype: int64"
      ]
     },
     "execution_count": 50,
     "metadata": {},
     "output_type": "execute_result"
    }
   ],
   "source": [
    "hv_bw_clean_wWalking_df = hv_bw_clean_df.loc[hv_bw_clean_df['walking_segmets_n_pose_hv'] > 0]\n",
    "hv_bw_clean_wWalking_df['walking_segmets_n_pose_hv'].value_counts()"
   ]
  },
  {
   "cell_type": "code",
   "execution_count": 51,
   "id": "8606ecac-df64-43c3-9cd3-5dc964334919",
   "metadata": {},
   "outputs": [
    {
     "name": "stdout",
     "output_type": "stream",
     "text": [
      "total unique bw_ids in df\n",
      "33\n",
      "--------------\n",
      "any duplicate bw_ids in first visit df?\n",
      "0\n",
      "--------------\n",
      "df_first_visit demographic diagnosis counts\n",
      "demographic_diagnosis\n",
      "MS    33\n",
      "Name: count, dtype: int64\n",
      "--------------\n"
     ]
    }
   ],
   "source": [
    "# demographics and counts \n",
    "clean_home_wWalking_first, test_HC = split_MS_HC_first_visit(hv_bw_clean_wWalking_df, visit_date_col = 'visit_date_video')\n",
    "clean_home_wWalking_dem, clean_home_wWalking_counts = demographic_summary(clean_home_wWalking_first)\n",
    "clean_home_wWalking_first.to_csv(os.path.join(out_path, 'home_wWalking_first_visit_clean.csv')) \n",
    "clean_home_wWalking_dem.to_csv(os.path.join(out_path, 'home_wWalking_dem_clean.csv'))\n",
    "#clean_home_wWalking_dem"
   ]
  },
  {
   "cell_type": "markdown",
   "id": "4a66803f-1ef9-4980-b85a-b6a5829846f8",
   "metadata": {},
   "source": [
    "## Sent videos, but no linear walking segment identified "
   ]
  },
  {
   "cell_type": "code",
   "execution_count": 52,
   "id": "8312104b-d4aa-4619-8440-ac965227ed73",
   "metadata": {},
   "outputs": [
    {
     "name": "stdout",
     "output_type": "stream",
     "text": [
      "total unique bw_ids in df\n",
      "5\n",
      "--------------\n",
      "any duplicate bw_ids in first visit df?\n",
      "0\n",
      "--------------\n",
      "df_first_visit demographic diagnosis counts\n",
      "demographic_diagnosis\n",
      "MS    5\n",
      "Name: count, dtype: int64\n",
      "--------------\n"
     ]
    }
   ],
   "source": [
    "clean_no_walking_df = hv_bw_clean_df[~hv_bw_clean_df['bw_id'].isin(hv_bw_clean_wWalking_df['bw_id'])]\n",
    "\n",
    "no_walking_first_visit_clean, test_HC = split_MS_HC_first_visit(clean_no_walking_df, visit_date_col = 'visit_date')\n",
    "no_walking_clean_dem, no_walking_ms_counts = demographic_summary(no_walking_first_visit_clean)\n",
    "no_walking_first_visit_clean.to_csv(os.path.join(out_path, 'home_video_no_walking_first_visit_clean.csv')) \n",
    "no_walking_clean_dem.to_csv(os.path.join(out_path, 'home_video_no_walking_dem_clean.csv'))\n",
    "#no_walking_clean_dem"
   ]
  }
 ],
 "metadata": {
  "kernelspec": {
   "display_name": "venv_home_video_analysis_2",
   "language": "python",
   "name": "venv_home_video_analysis_2"
  },
  "language_info": {
   "codemirror_mode": {
    "name": "ipython",
    "version": 3
   },
   "file_extension": ".py",
   "mimetype": "text/x-python",
   "name": "python",
   "nbconvert_exporter": "python",
   "pygments_lexer": "ipython3",
   "version": "3.10.11"
  }
 },
 "nbformat": 4,
 "nbformat_minor": 5
}
