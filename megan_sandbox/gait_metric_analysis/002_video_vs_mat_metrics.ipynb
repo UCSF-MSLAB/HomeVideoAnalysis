{
 "cells": [
  {
   "cell_type": "code",
   "execution_count": 1,
   "id": "c4254322-154b-4066-8298-1ab1ae896b5d",
   "metadata": {},
   "outputs": [],
   "source": [
    "import pandas as pd \n",
    "import numpy as np\n",
    "import os \n",
    "import seaborn as sns \n",
    "import matplotlib.pyplot as plt \n",
    "import scipy.stats as stats "
   ]
  },
  {
   "cell_type": "markdown",
   "id": "a61f893a-6363-429a-9646-f6b361086f72",
   "metadata": {},
   "source": [
    "## Set input and output folders "
   ]
  },
  {
   "cell_type": "code",
   "execution_count": 2,
   "id": "6339d5a4-34a8-4bb0-b3b9-8e74a439021e",
   "metadata": {},
   "outputs": [],
   "source": [
    "# analysis folder version  \n",
    "analysis_version = '006'\n"
   ]
  },
  {
   "cell_type": "code",
   "execution_count": 3,
   "id": "7e10ed12-1a77-4513-8ca2-8067f92c80eb",
   "metadata": {},
   "outputs": [],
   "source": [
    "out_path = os.path.join(r'C:\\Users\\mmccu\\Box\\MM_Personal\\5_Projects\\BoveLab\\3_Data_and_Code\\gait_bw_zeno_home_analysis',\n",
    "                        analysis_version, \n",
    "                        '002_video_vs_mat_metrics')\n",
    "\n",
    "if not os.path.exists(out_path): \n",
    "    os.makedirs(out_path)"
   ]
  },
  {
   "cell_type": "markdown",
   "id": "c1fe5c88-f226-4396-a0bf-1700869275c9",
   "metadata": {},
   "source": [
    "### Load Clean Data - no missing BW Data \n",
    "May be missing video data - see excel with counts \n",
    "\n",
    "Only participants with MS "
   ]
  },
  {
   "cell_type": "code",
   "execution_count": 4,
   "id": "53979566-0d47-4c8c-ba93-e8cc4050ec4e",
   "metadata": {},
   "outputs": [],
   "source": [
    "# PWS \n",
    "zv_pws_bw_clean_path = os.path.join(r'C:\\Users\\mmccu\\Box\\MM_Personal\\5_Projects\\BoveLab\\3_Data_and_Code\\gait_bw_zeno_home_analysis', \n",
    "                                    analysis_version, \n",
    "                                    '000_merged_cleaned_data\\zv_bw_merged_gait_vertical_PWS_1_clean.csv')\n",
    "zv_pws_bw_clean_df = pd.read_csv(zv_pws_bw_clean_path, index_col = 0)\n",
    "\n",
    "# FW \n",
    "zv_fw_bw_clean_path = os.path.join(r'C:\\Users\\mmccu\\Box\\MM_Personal\\5_Projects\\BoveLab\\3_Data_and_Code\\gait_bw_zeno_home_analysis', \n",
    "                                    analysis_version, \n",
    "                                   '000_merged_cleaned_data\\zv_bw_merged_gait_vertical_FW_1_clean.csv') \n",
    "zv_fw_bw_clean_df = pd.read_csv(zv_fw_bw_clean_path, index_col = 0) \n",
    "\n",
    "# Home Videos \n",
    "hv_bw_clean_path = os.path.join(r'C:\\Users\\mmccu\\Box\\MM_Personal\\5_Projects\\BoveLab\\3_Data_and_Code\\gait_bw_zeno_home_analysis', \n",
    "                                analysis_version, \n",
    "                                '000_merged_cleaned_data\\hv_bw_merged_clean.csv') \n",
    "\n",
    "hv_bw_clean_df = pd.read_csv(hv_bw_clean_path, index_col = 0) "
   ]
  },
  {
   "cell_type": "markdown",
   "id": "048017c6-9495-457a-b8d9-950cc1c3f1ba",
   "metadata": {},
   "source": [
    "## Columns to compare \n",
    "Column pairs to evaluate metrics that should/count be 1:1, not proxy velocity measures  \n",
    "For each of the column pairs below (zv 1 vs bw1, zv 2 vs bw 3, etc), run and save correlation "
   ]
  },
  {
   "cell_type": "code",
   "execution_count": 5,
   "id": "33c933e9-5c5d-4025-aeba-cedb228dc726",
   "metadata": {},
   "outputs": [],
   "source": [
    "# zeno video metrics \n",
    "zv_colnames = ['stride_time_median_sec_pose_zv', \n",
    "               'stride_time_mean_sec_pose_zv',\n",
    "               'gait_cycle_time_sec_median_pose_zv',\n",
    "               'stride_time_cv_pose_zv', \n",
    "               'mean_cadence_step_per_min_pose_zv',\n",
    "               'tot_dsupport_per_mean_pose_zv',\n",
    "               'tot_dsupport_per_median_pose_zv',\n",
    "               'singlesupport_per_mean_pose_zv',\n",
    "               'singlesupport_per_median_pose_zv',\n",
    "               'stride_width_median_cm_pose_zv',\n",
    "               'stride_width_mean_cm_pose_zv',\n",
    "               'stride_width_std_pose_zv']\n",
    "\n",
    "# home video metrics \n",
    "hv_colnames = ['stride_time_median_sec_pose_hv', \n",
    "               'stride_time_mean_sec_pose_hv',\n",
    "               'gait_cycle_time_sec_median_pose_hv', \n",
    "               'stride_time_cv_pose_hv', \n",
    "               'mean_cadence_step_per_min_pose_hv',\n",
    "               'tot_dsupport_per_mean_pose_hv',\n",
    "               'tot_dsupport_per_median_pose_hv',\n",
    "               'singlesupport_per_mean_pose_hv',\n",
    "               'singlesupport_per_median_pose_hv',\n",
    "               'stride_width_median_cm_pose_hv',\n",
    "               'stride_width_mean_cm_pose_hv',\n",
    "               'stride_width_std_pose_hv']\n",
    "\n",
    "# Zeno mat preferred walking speed metrics \n",
    "bw_pws_colnames = ['PWS_stridetimesecmean', \n",
    "                   'PWS_stridetimesecmean',\n",
    "                   'PWS_stridetimesecmean',\n",
    "                   'PWS_stridetimeseccv',\n",
    "                   'PWS_cadencestepsminmean',\n",
    "                   'PWS_totaldsupportmean',\n",
    "                   'PWS_totaldsupportmean',\n",
    "                   'PWS_singlesupportmean', \n",
    "                   'PWS_singlesupportmean',\n",
    "                   'PWS_stridewidthcmmean',\n",
    "                   'PWS_stridewidthcmmean',\n",
    "                   'PWS_stridewidthcmsd']\n",
    "\n",
    "# Zeno mat fast walking speed metrics \n",
    "bw_fw_colnames = ['FW_stridetimesecmean', \n",
    "                  'FW_stridetimesecmean', \n",
    "                  'FW_stridetimesecmean', \n",
    "                  'FW_stridetimeseccv',\n",
    "                   'FW_cadencestepsminmean',\n",
    "                   'FW_totaldsupportmean',\n",
    "                  'FW_totaldsupportmean',\n",
    "                   'FW_singlesupportmean', \n",
    "                  'FW_singlesupportmean',\n",
    "                   'FW_stridewidthcmmean',\n",
    "                  'FW_stridewidthcmmean',\n",
    "                   'FW_stridewidthcmsd']\n",
    "\n",
    "units = ['seconds',\n",
    "         'seconds',\n",
    "         'seconds',\n",
    "         'CV%',\n",
    "         'steps/min',\n",
    "         '%',\n",
    "         '%',\n",
    "         '%', \n",
    "         '%',\n",
    "         'cm',\n",
    "         'cm',\n",
    "         'cm']"
   ]
  },
  {
   "cell_type": "markdown",
   "id": "b23f62d7-5455-42ef-a4b1-377d06d81827",
   "metadata": {},
   "source": [
    "### Correlation - compare metrics from two data sources "
   ]
  },
  {
   "cell_type": "code",
   "execution_count": 6,
   "id": "eecf7206-aad6-4137-962c-9d7eae02a232",
   "metadata": {},
   "outputs": [],
   "source": [
    "# function - correlation \n",
    "def metric_correlation(df, video_columns, bw_columns, output_folder_path, subfolder_name): \n",
    "    if not os.path.exists(os.path.join(output_folder_path, subfolder_name)):\n",
    "        os.makedirs(os.path.join(output_folder_path, subfolder_name))\n",
    "    \n",
    "    # create empty list to store results \n",
    "    corr_results_all = [] \n",
    "    clean_df = pd.DataFrame() \n",
    "    \n",
    "    for metric_i, current_metric in enumerate(video_columns): \n",
    "        current_vid_col = video_columns[metric_i]\n",
    "        current_bw_col = bw_columns[metric_i]\n",
    "\n",
    "        # Drop rows with NaN values in either column - required to run spearman r \n",
    "        clean_df = df.dropna(subset=[current_vid_col, current_bw_col])\n",
    "        \n",
    "        # plot \n",
    "        sns.scatterplot(x = current_bw_col, y = current_vid_col, \n",
    "                        data = clean_df, \n",
    "                        alpha = 0.75,\n",
    "                        hue = 'demographic_diagnosis', \n",
    "                        palette = {'MS' : 'royalblue', \n",
    "                                   'HC' : 'orange'})\n",
    "        \n",
    "        # Set the x and y axis limits to the same range \n",
    "        min_val = min(clean_df[current_vid_col].min(), clean_df[current_vid_col].min())\n",
    "        max_val = max(clean_df[current_vid_col].max(), clean_df[current_vid_col].max())\n",
    "        plt.xlim(min_val - (min_val * .1), max_val + (max_val * .1))\n",
    "        plt.ylim(min_val - (min_val * .1), max_val + (max_val * .1))\n",
    "        # straight line of perfect agreement \n",
    "        plt.plot([min_val, max_val], [min_val, max_val], color='lightgrey')\n",
    "        plt.title(subfolder_name)\n",
    "        plt.legend(loc = 'upper right')\n",
    "        plt.savefig(os.path.join(output_folder_path, \n",
    "                                 subfolder_name, \n",
    "                                 str(current_vid_col + '_vs_' + current_bw_col + '.png')))\n",
    "        plt.close()\n",
    "\n",
    "        # run spearman correlation and append   \n",
    "        statistic, p_value = stats.spearmanr(clean_df[current_bw_col], clean_df[current_vid_col])\n",
    "        corr_results_all.append({'bw_column': current_bw_col, \n",
    "                                 'video_column': current_vid_col, \n",
    "                                 'corr_method': 'spearman' , \n",
    "                                 'rs': statistic, \n",
    "                                 'p_value' : p_value,\n",
    "                                 'n_pairs': len(clean_df)})\n",
    "\n",
    "    # Create DataFrame with results\n",
    "    corr_results_df = pd.DataFrame(corr_results_all)\n",
    "    corr_results_df = corr_results_df.round(2)\n",
    "\n",
    "    return corr_results_df\n"
   ]
  },
  {
   "cell_type": "code",
   "execution_count": 7,
   "id": "7901cd91-06da-4642-bb66-610d137ce4c8",
   "metadata": {},
   "outputs": [
    {
     "name": "stdout",
     "output_type": "stream",
     "text": [
      "C:\\Users\\mmccu\\Box\\MM_Personal\\5_Projects\\BoveLab\\3_Data_and_Code\\gait_bw_zeno_home_analysis\\006\\002_video_vs_mat_metrics\\correlation\n"
     ]
    }
   ],
   "source": [
    "# set correlation output folder \n",
    "corr_out_path = os.path.join(out_path, 'correlation')\n",
    "print(corr_out_path)"
   ]
  },
  {
   "cell_type": "code",
   "execution_count": 8,
   "id": "9d186f46-da77-425e-a46c-31f6fc901af7",
   "metadata": {},
   "outputs": [],
   "source": [
    "# PWS \n",
    "zv_pws_corr_results_df = metric_correlation(df = zv_pws_bw_clean_df, \n",
    "                                     video_columns = zv_colnames, \n",
    "                                     bw_columns = bw_pws_colnames, \n",
    "                                     output_folder_path = corr_out_path, \n",
    "                                     subfolder_name = 'zeno_pws_scatterplots')\n",
    "zv_pws_corr_results_df.to_csv(os.path.join(corr_out_path, 'zeno_pws_spearman_corr.csv'))"
   ]
  },
  {
   "cell_type": "code",
   "execution_count": 9,
   "id": "7a0f5b8e-fa15-4438-83ad-dec40ae3e79e",
   "metadata": {},
   "outputs": [],
   "source": [
    "# FW\n",
    "zv_fw_corr_results_df = metric_correlation(df = zv_fw_bw_clean_df, \n",
    "                                     video_columns = zv_colnames, \n",
    "                                     bw_columns = bw_fw_colnames, \n",
    "                                     output_folder_path = corr_out_path, \n",
    "                                     subfolder_name = 'zeno_fw_scatterplots')\n",
    "zv_fw_corr_results_df.to_csv(os.path.join(corr_out_path, 'zeno_fw_spearman_corr.csv'))"
   ]
  },
  {
   "cell_type": "code",
   "execution_count": 10,
   "id": "63c4af2e-3408-4656-b156-17b245c4b53b",
   "metadata": {},
   "outputs": [],
   "source": [
    "# Home Videos \n",
    "hv_corr_results_df = metric_correlation(df = hv_bw_clean_df, \n",
    "                                    video_columns = hv_colnames, \n",
    "                                     bw_columns = bw_pws_colnames, \n",
    "                                     output_folder_path = corr_out_path, \n",
    "                                     subfolder_name = 'home_scatterplots')\n",
    "hv_corr_results_df.to_csv(os.path.join(corr_out_path, 'home_spearman_corr.csv'))"
   ]
  },
  {
   "cell_type": "markdown",
   "id": "3240384a-6ff1-4c61-9f4c-a46d87a937b2",
   "metadata": {},
   "source": [
    "### Mean Absolute Error - compare metrics from two data sources "
   ]
  },
  {
   "cell_type": "code",
   "execution_count": 11,
   "id": "d34713bf-646c-4b5f-8047-15caa99cd7fd",
   "metadata": {},
   "outputs": [],
   "source": [
    "def calculate_metric_mean_error(df, video_columns, bw_columns, units, output_folder_path, subfolder_name):\n",
    "    \n",
    "    if not os.path.exists(os.path.join(output_folder_path, subfolder_name)):\n",
    "        os.makedirs(os.path.join(output_folder_path, subfolder_name)) \n",
    "        \n",
    "    mean_error_all = [] \n",
    "\n",
    "    for metric_i, current_metric in enumerate(video_columns): \n",
    "        current_vid_col = video_columns[metric_i]\n",
    "        current_bw_col = bw_columns[metric_i]\n",
    "        current_unit = units[metric_i]\n",
    "\n",
    "        # Drop rows with NaN values in either column \n",
    "        clean_df = df.dropna(subset=[current_vid_col, current_bw_col])\n",
    "\n",
    "        current_metric_diff = clean_df[current_bw_col] - clean_df[current_vid_col]\n",
    "        current_mean_diff = current_metric_diff.mean()\n",
    "        current_abs_mean_diff = abs(current_metric_diff).mean()\n",
    "\n",
    "        # calculate mean ground truth data \n",
    "        bw_mean = clean_df[current_bw_col].mean()\n",
    "        mean_err_per = (current_mean_diff / bw_mean) * 100 \n",
    "        mae_per = (current_abs_mean_diff / bw_mean) * 100 \n",
    "\n",
    "        # plot \n",
    "        fig, ax1 = plt.subplots()\n",
    "        sns.boxplot(y=current_metric_diff, ax=ax1, fill = False, dodge = True, fliersize = 0)\n",
    "        sns.stripplot(y = current_metric_diff, ax = ax1, color = 'black', dodge = True)\n",
    "        fig.suptitle(subfolder_name)\n",
    "        ax1.set_title(current_bw_col + ' - ' + current_vid_col)\n",
    "        # center plot at zero\n",
    "        ymin, ymax = plt.ylim()\n",
    "        plt.ylim(min(ymin, -ymax), max(ymax, -ymin))\n",
    "        plt.ylabel(current_unit)\n",
    "        # add line at zero\n",
    "        plt.axhline(y=0, color='grey', linestyle='--')\n",
    "        plt.tight_layout()\n",
    "        plt.savefig(os.path.join(output_folder_path, \n",
    "                                 subfolder_name,\n",
    "                                 str(current_vid_col + '_vs_' + current_bw_col + '_diff_box.png')))\n",
    "        plt.close()\n",
    "\n",
    "        # mean difference \n",
    "        mean_error_all.append({'bw_column': current_bw_col, \n",
    "                               'video_column': current_vid_col,\n",
    "                               'n_pairs' : len(clean_df), \n",
    "                               'bw_metric_mean' : bw_mean,\n",
    "                               'mean_error': current_mean_diff, \n",
    "                               'mean_abs_error' : current_abs_mean_diff, \n",
    "                               'mean_error_%_of_mean' : mean_err_per,\n",
    "                               'mae_%_of_mean' : mae_per})\n",
    "\n",
    "    \n",
    "     # Create DataFrame with results\n",
    "    mean_error_df = pd.DataFrame(mean_error_all)\n",
    "    mean_error_df = mean_error_df.round(2)\n",
    "    \n",
    "    return mean_error_df"
   ]
  },
  {
   "cell_type": "code",
   "execution_count": 12,
   "id": "cff2587c-3296-48a0-af30-2f42d82290d8",
   "metadata": {},
   "outputs": [
    {
     "name": "stdout",
     "output_type": "stream",
     "text": [
      "C:\\Users\\mmccu\\Box\\MM_Personal\\5_Projects\\BoveLab\\3_Data_and_Code\\gait_bw_zeno_home_analysis\\006\\002_video_vs_mat_metrics\\mean_error\n"
     ]
    }
   ],
   "source": [
    "# set mean error output folder \n",
    "mae_out_path = os.path.join(out_path, 'mean_error')\n",
    "print(mae_out_path)"
   ]
  },
  {
   "cell_type": "code",
   "execution_count": 13,
   "id": "50e07a12-ade5-4d69-aa4a-b64d1cc24132",
   "metadata": {},
   "outputs": [],
   "source": [
    "# PWS \n",
    "zv_pws_mae_results_df = calculate_metric_mean_error(df = zv_pws_bw_clean_df, \n",
    "                                                    video_columns = zv_colnames, \n",
    "                                                    bw_columns = bw_pws_colnames, \n",
    "                                                    units = units, \n",
    "                                                    output_folder_path = mae_out_path, \n",
    "                                                    subfolder_name = 'zeno_pws_boxplots')\n",
    "zv_pws_mae_results_df.to_csv(os.path.join(mae_out_path, 'zeno_pws_errors.csv'))"
   ]
  },
  {
   "cell_type": "code",
   "execution_count": 14,
   "id": "71c98f05-e545-4f3c-bf3a-a5ad4f230ca9",
   "metadata": {},
   "outputs": [],
   "source": [
    "# FW \n",
    "zv_fw_mae_results_df = calculate_metric_mean_error(df = zv_fw_bw_clean_df, \n",
    "                                                    video_columns = zv_colnames, \n",
    "                                                    bw_columns = bw_fw_colnames, \n",
    "                                                    units = units, \n",
    "                                                    output_folder_path = mae_out_path, \n",
    "                                                    subfolder_name = 'zeno_fw_boxplots')\n",
    "zv_fw_mae_results_df.to_csv(os.path.join(mae_out_path, 'zeno_fw_errors.csv'))"
   ]
  },
  {
   "cell_type": "code",
   "execution_count": 15,
   "id": "9f03fd74-2914-4e4b-9fbd-1dc56ceadaff",
   "metadata": {},
   "outputs": [],
   "source": [
    "# Home Videos  \n",
    "hv_mae_results_df = calculate_metric_mean_error(df = hv_bw_clean_df, \n",
    "                                                    video_columns = hv_colnames, \n",
    "                                                    bw_columns = bw_pws_colnames, \n",
    "                                                    units = units, \n",
    "                                                    output_folder_path = mae_out_path, \n",
    "                                                    subfolder_name = 'home_boxplots')\n",
    "hv_mae_results_df.to_csv(os.path.join(mae_out_path, 'home_errors.csv'))"
   ]
  },
  {
   "cell_type": "markdown",
   "id": "cd2dbabd-c878-4a31-9bcc-a4e90c0c5d73",
   "metadata": {},
   "source": [
    "### Bland Altman Plots "
   ]
  },
  {
   "cell_type": "code",
   "execution_count": 16,
   "id": "02b5bdcd-3dab-4c55-820f-c217db1c8989",
   "metadata": {},
   "outputs": [],
   "source": [
    "def bland_altman_plot(df, video_columns, bw_columns, col_color_key, units, output_folder_path, subfolder_name):\n",
    "    \n",
    "    if not os.path.exists(os.path.join(output_folder_path, subfolder_name)):\n",
    "        os.makedirs(os.path.join(output_folder_path, subfolder_name)) \n",
    "\n",
    "    for metric_i, current_metric in enumerate(video_columns): \n",
    "        current_bw_col = bw_columns[metric_i]\n",
    "        current_vid_col = video_columns[metric_i]\n",
    "        current_unit = current_unit = units[metric_i]\n",
    "\n",
    "        clean_df = df.dropna(subset=[current_vid_col, current_bw_col])\n",
    "    \n",
    "        # Compute the mean and the difference\n",
    "        mean_measurements = (clean_df[current_bw_col] + clean_df[current_vid_col]) / 2\n",
    "        diff_measurements = clean_df[current_bw_col] - clean_df[current_vid_col]  # Difference between measurements\n",
    "\n",
    "        # Mean difference and standard deviation of the difference\n",
    "        mean_diff = np.mean(diff_measurements)\n",
    "        std_diff = np.std(diff_measurements)\n",
    "\n",
    "        # Plot the data\n",
    "        plt.figure(figsize=(10, 6))\n",
    "        plt.scatter(mean_measurements, diff_measurements, alpha=1, c = clean_df[col_color_key])\n",
    "        plt.colorbar(location = 'left', label = col_color_key)\n",
    "    \n",
    "        # Add mean difference line and limits of agreement (±1.96*std)\n",
    "        plt.axhline(mean_diff, color='black', linestyle='--', label=f'Mean diff: {mean_diff:.2f}')\n",
    "        plt.axhline(mean_diff + 1.96 * std_diff, color='red', linestyle='--', label=f'+1.96 SD: {mean_diff + 1.96 * std_diff:.2f}')\n",
    "        plt.axhline(mean_diff - 1.96 * std_diff, color='blue', linestyle='--', label=f'-1.96 SD: {mean_diff - 1.96 * std_diff:.2f}')\n",
    "        plt.axhline(y=0, color='grey', linestyle='--')\n",
    "    \n",
    "        # Labels and title\n",
    "        plt.xlabel('Mean of Zeno Mat vs Video Pose Metric (' + current_unit + ')') \n",
    "        plt.ylabel('Zeno mat - Video Pose Metric (' + current_unit + ')')\n",
    "        plt.title(current_bw_col + ' vs ' + current_vid_col)\n",
    "        plt.legend(scatterpoints=1, frameon=True, labelspacing=1, title='T25FW Avg', \n",
    "                   loc='center left', bbox_to_anchor = (1, 0.5))\n",
    "        plt.savefig(os.path.join(output_folder_path, \n",
    "                                 subfolder_name,\n",
    "                                 str(current_vid_col + '_vs_' + current_bw_col + '_blandalt.png')),\n",
    "                    bbox_inches='tight')\n",
    "        plt.close()"
   ]
  },
  {
   "cell_type": "code",
   "execution_count": 17,
   "id": "6a1f6721-ca61-4ab4-a203-76a414cae9ad",
   "metadata": {},
   "outputs": [
    {
     "name": "stdout",
     "output_type": "stream",
     "text": [
      "C:\\Users\\mmccu\\Box\\MM_Personal\\5_Projects\\BoveLab\\3_Data_and_Code\\gait_bw_zeno_home_analysis\\006\\002_video_vs_mat_metrics\\bland_altman\n"
     ]
    }
   ],
   "source": [
    "# set bland altman output folder \n",
    "bland_alt_out_path = os.path.join(out_path, 'bland_altman')\n",
    "print(bland_alt_out_path)"
   ]
  },
  {
   "cell_type": "code",
   "execution_count": 18,
   "id": "1b9e07ae-2d8a-4b3f-93d2-52a448fc342b",
   "metadata": {},
   "outputs": [],
   "source": [
    "# PWS \n",
    "# color by EDSS \n",
    "bland_altman_plot(df = zv_pws_bw_clean_df, \n",
    "                  video_columns = zv_colnames, \n",
    "                  bw_columns = bw_pws_colnames, \n",
    "                  col_color_key = 'clean_EDSS', \n",
    "                  units = units, \n",
    "                  output_folder_path = bland_alt_out_path, \n",
    "                  subfolder_name = 'zeno_pws_bland_alt_by_edss')\n",
    "\n",
    "# color by T25FW \n",
    "bland_altman_plot(df = zv_pws_bw_clean_df, \n",
    "                  video_columns = zv_colnames, \n",
    "                  bw_columns = bw_pws_colnames, \n",
    "                  col_color_key = 'clean_T25FW_Avg', \n",
    "                  units = units, \n",
    "                  output_folder_path = bland_alt_out_path, \n",
    "                  subfolder_name = 'zeno_pws_bland_alt_by_t25fw')\n",
    "\n",
    "# color by that videos velocity from Zeno mat  \n",
    "bland_altman_plot(df = zv_pws_bw_clean_df, \n",
    "                  video_columns = zv_colnames, \n",
    "                  bw_columns = bw_pws_colnames, \n",
    "                  col_color_key = 'PWS_velocitycmsecmean', \n",
    "                  units = units, \n",
    "                  output_folder_path = bland_alt_out_path, \n",
    "                  subfolder_name = 'zeno_pws_bland_alt_by_pws_vel')"
   ]
  },
  {
   "cell_type": "code",
   "execution_count": 19,
   "id": "df4dfa32-5a02-41a9-ad5c-467cebca5067",
   "metadata": {},
   "outputs": [],
   "source": [
    "# FW \n",
    "# color by EDSS \n",
    "bland_altman_plot(df = zv_fw_bw_clean_df, \n",
    "                  video_columns = zv_colnames, \n",
    "                  bw_columns = bw_fw_colnames, \n",
    "                  col_color_key = 'clean_EDSS', \n",
    "                  units = units, \n",
    "                  output_folder_path = bland_alt_out_path, \n",
    "                  subfolder_name = 'zeno_fw_bland_alt_by_edss')\n",
    "\n",
    "# color by T25FW \n",
    "bland_altman_plot(df = zv_fw_bw_clean_df, \n",
    "                  video_columns = zv_colnames, \n",
    "                  bw_columns = bw_fw_colnames, \n",
    "                  col_color_key = 'clean_T25FW_Avg', \n",
    "                  units = units, \n",
    "                  output_folder_path = bland_alt_out_path, \n",
    "                  subfolder_name = 'zeno_fw_bland_alt_by_t25fw')\n",
    "\n",
    "# color by fast walking video velocity\n",
    "bland_altman_plot(df = zv_fw_bw_clean_df, \n",
    "                  video_columns = zv_colnames, \n",
    "                  bw_columns = bw_fw_colnames, \n",
    "                  col_color_key = 'FW_velocitycmsecmean', \n",
    "                  units = units, \n",
    "                  output_folder_path = bland_alt_out_path, \n",
    "                  subfolder_name = 'zeno_fw_bland_alt_by_fw_vel')"
   ]
  }
 ],
 "metadata": {
  "kernelspec": {
   "display_name": "venv_home_video_analysis_2",
   "language": "python",
   "name": "venv_home_video_analysis_2"
  },
  "language_info": {
   "codemirror_mode": {
    "name": "ipython",
    "version": 3
   },
   "file_extension": ".py",
   "mimetype": "text/x-python",
   "name": "python",
   "nbconvert_exporter": "python",
   "pygments_lexer": "ipython3",
   "version": "3.10.11"
  }
 },
 "nbformat": 4,
 "nbformat_minor": 5
}
