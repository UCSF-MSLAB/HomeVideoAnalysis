{
 "cells": [
  {
   "cell_type": "code",
   "execution_count": 1,
   "id": "ee63339b-f393-44b4-90c6-ab825c8ab67e",
   "metadata": {},
   "outputs": [],
   "source": [
    "import pandas as pd \n",
    "import numpy as np\n",
    "import os \n",
    "import seaborn as sns \n",
    "import matplotlib.pyplot as plt "
   ]
  },
  {
   "cell_type": "markdown",
   "id": "f4c209bd-b6af-409a-a7a2-3243519136bb",
   "metadata": {},
   "source": [
    "## Set input and output folders "
   ]
  },
  {
   "cell_type": "code",
   "execution_count": 2,
   "id": "96d85729-40de-407d-8460-ff3d040277de",
   "metadata": {},
   "outputs": [],
   "source": [
    "# analysis folder version  \n",
    "analysis_version = '008'"
   ]
  },
  {
   "cell_type": "code",
   "execution_count": 3,
   "id": "a7cf858b-1354-4985-96da-9b3cb13cbd1c",
   "metadata": {},
   "outputs": [],
   "source": [
    "out_path = os.path.join(r'C:\\Users\\mmccu\\Box\\MM_Personal\\5_Projects\\BoveLab\\3_Data_and_Code\\gait_bw_zeno_home_analysis',\n",
    "                        analysis_version, \n",
    "                        '001_histograms_counts')\n",
    "\n",
    "if not os.path.exists(out_path): \n",
    "    os.makedirs(out_path)"
   ]
  },
  {
   "cell_type": "markdown",
   "id": "3b18a422-3d9a-4cbc-be60-69ae1375e74d",
   "metadata": {},
   "source": [
    "### Load Clean Data - no missing BW Data \n",
    "May be missing video data "
   ]
  },
  {
   "cell_type": "code",
   "execution_count": 4,
   "id": "4c5dcfd3-bff0-4aa5-850f-1a7cf9fdc742",
   "metadata": {},
   "outputs": [],
   "source": [
    "# PWS \n",
    "zv_pws_bw_clean_path = os.path.join(r'C:\\Users\\mmccu\\Box\\MM_Personal\\5_Projects\\BoveLab\\3_Data_and_Code\\gait_bw_zeno_home_analysis', \n",
    "                                    analysis_version, \n",
    "                                    '000_merged_cleaned_data\\zv_bw_merged_gait_vertical_PWS_1_clean.csv')\n",
    "\n",
    "zv_pws_bw_clean_df = pd.read_csv(zv_pws_bw_clean_path, index_col = 0)\n",
    "\n",
    "# FW \n",
    "zv_fw_bw_clean_path = os.path.join(r'C:\\Users\\mmccu\\Box\\MM_Personal\\5_Projects\\BoveLab\\3_Data_and_Code\\gait_bw_zeno_home_analysis', \n",
    "                                    analysis_version, \n",
    "                                   '000_merged_cleaned_data\\zv_bw_merged_gait_vertical_FW_1_clean.csv') \n",
    "zv_fw_bw_clean_df = pd.read_csv(zv_fw_bw_clean_path, index_col = 0) \n",
    "\n",
    "# Home Videos \n",
    "hv_bw_clean_path = os.path.join(r'C:\\Users\\mmccu\\Box\\MM_Personal\\5_Projects\\BoveLab\\3_Data_and_Code\\gait_bw_zeno_home_analysis', \n",
    "                                analysis_version, \n",
    "                                '000_merged_cleaned_data\\hv_bw_merged_clean.csv') \n",
    "\n",
    "hv_bw_clean_df = pd.read_csv(hv_bw_clean_path, index_col = 0) "
   ]
  },
  {
   "cell_type": "markdown",
   "id": "e75d771a-94a9-4d01-9283-bbd78c964eb0",
   "metadata": {},
   "source": [
    "## Function - count number of non-missing values in each column and plot histogram "
   ]
  },
  {
   "cell_type": "code",
   "execution_count": 5,
   "id": "df25dfe3-a87b-4529-988f-d7eb664c518a",
   "metadata": {},
   "outputs": [],
   "source": [
    "def hist_and_shapiro(df, out_path, task_subfolder): \n",
    "    \n",
    "    column_counts = [] # save number of non-missing values in each row \n",
    "    \n",
    "    histogram_folder = os.path.join(out_path, 'histograms', task_subfolder)\n",
    "    if not os.path.exists(histogram_folder):\n",
    "        os.makedirs(histogram_folder)\n",
    "    \n",
    "    for column in df.columns:\n",
    "        # count number of non missing columns \n",
    "        column_counts.append({'column_name' : column, \n",
    "                               'non_missing_rows' : df[column].count()})\n",
    "\n",
    "        # histogram of numeric values \n",
    "        if ((df[column].dtype == 'float64') or (df[column].dtype == 'int64')) and (column != 'EDSS_same_before_after_MM'):\n",
    "            # histogram \n",
    "            plt.figure(figsize=(8, 6))\n",
    "            plt.hist(df[column], bins = 30, color='skyblue', edgecolor='black')\n",
    "            plt.suptitle(task_subfolder) \n",
    "            plt.title(f'Histogram of {column}')\n",
    "            plt.xlabel(column)\n",
    "            plt.ylabel('Frequency')\n",
    "            plt.savefig(os.path.join(histogram_folder, f'{column}.png'))\n",
    "            plt.close()\n",
    "\n",
    "    column_counts_df = pd.DataFrame(column_counts) \n",
    "\n",
    "    return column_counts_df"
   ]
  },
  {
   "cell_type": "markdown",
   "id": "c2ef7afb-67f9-4836-bbfb-2144a72611b3",
   "metadata": {},
   "source": [
    "### Run histogram and counting functions "
   ]
  },
  {
   "cell_type": "code",
   "execution_count": 6,
   "id": "a96e55a3-532f-4edf-9426-55f28ce3f0f9",
   "metadata": {},
   "outputs": [],
   "source": [
    "# PWS \n",
    "zv_pws_bw_counts = hist_and_shapiro(zv_pws_bw_clean_df, out_path, 'zeno_pws')\n",
    "zv_pws_bw_counts.to_csv(os.path.join(out_path, 'zeno_pws_column_counts.csv')) "
   ]
  },
  {
   "cell_type": "code",
   "execution_count": 7,
   "id": "3118c15f-0d75-416f-8217-e12e7a066f66",
   "metadata": {},
   "outputs": [],
   "source": [
    "# FW \n",
    "zv_fw_bw_counts = hist_and_shapiro(zv_fw_bw_clean_df, out_path, 'zeno_fw')\n",
    "zv_fw_bw_counts.to_csv(os.path.join(out_path, 'zeno_fw_column_counts.csv'))"
   ]
  },
  {
   "cell_type": "code",
   "execution_count": 8,
   "id": "b293f0f5-903c-47cc-abe5-da2bcb0fa21e",
   "metadata": {},
   "outputs": [],
   "source": [
    "# Home Videos  \n",
    "hv_bw_counts = hist_and_shapiro(hv_bw_clean_df, out_path, 'home')\n",
    "hv_bw_counts.to_csv(os.path.join(out_path, 'home_column_counts.csv'))"
   ]
  },
  {
   "cell_type": "markdown",
   "id": "1fd8b307-50cd-46c8-a09a-ae0d18f14e85",
   "metadata": {},
   "source": [
    "### Number of unique IDs "
   ]
  },
  {
   "cell_type": "code",
   "execution_count": 9,
   "id": "3867fee2-6c73-412f-8a19-49ed0afb2827",
   "metadata": {},
   "outputs": [
    {
     "data": {
      "text/html": [
       "<div>\n",
       "<style scoped>\n",
       "    .dataframe tbody tr th:only-of-type {\n",
       "        vertical-align: middle;\n",
       "    }\n",
       "\n",
       "    .dataframe tbody tr th {\n",
       "        vertical-align: top;\n",
       "    }\n",
       "\n",
       "    .dataframe thead th {\n",
       "        text-align: right;\n",
       "    }\n",
       "</style>\n",
       "<table border=\"1\" class=\"dataframe\">\n",
       "  <thead>\n",
       "    <tr style=\"text-align: right;\">\n",
       "      <th></th>\n",
       "      <th>PWS</th>\n",
       "      <th>FW</th>\n",
       "      <th>Home</th>\n",
       "    </tr>\n",
       "  </thead>\n",
       "  <tbody>\n",
       "    <tr>\n",
       "      <th>0</th>\n",
       "      <td>153</td>\n",
       "      <td>153</td>\n",
       "      <td>38</td>\n",
       "    </tr>\n",
       "  </tbody>\n",
       "</table>\n",
       "</div>"
      ],
      "text/plain": [
       "   PWS   FW  Home\n",
       "0  153  153    38"
      ]
     },
     "execution_count": 9,
     "metadata": {},
     "output_type": "execute_result"
    }
   ],
   "source": [
    "unique_ids_df = pd.DataFrame(data = {\"PWS\" : [zv_pws_bw_clean_df['id_video'].nunique()], \n",
    "                                     \"FW\" : [zv_fw_bw_clean_df['id_video'].nunique()], \n",
    "                                     \"Home\" : [hv_bw_clean_df['id_video'].nunique()]}) \n",
    "unique_ids_df.to_csv(os.path.join(out_path, 'all_unique_id_counts.csv'))\n",
    "unique_ids_df"
   ]
  },
  {
   "cell_type": "markdown",
   "id": "43cef7ae-6dd2-4f7c-bdff-5cc29b62220f",
   "metadata": {},
   "source": [
    "## Check - are all participants in FW and PWS the same? "
   ]
  },
  {
   "cell_type": "code",
   "execution_count": 10,
   "id": "934f6cb4-59b3-43d2-9d67-71ef9504a503",
   "metadata": {},
   "outputs": [
    {
     "data": {
      "text/html": [
       "<div>\n",
       "<style scoped>\n",
       "    .dataframe tbody tr th:only-of-type {\n",
       "        vertical-align: middle;\n",
       "    }\n",
       "\n",
       "    .dataframe tbody tr th {\n",
       "        vertical-align: top;\n",
       "    }\n",
       "\n",
       "    .dataframe thead th {\n",
       "        text-align: right;\n",
       "    }\n",
       "</style>\n",
       "<table border=\"1\" class=\"dataframe\">\n",
       "  <thead>\n",
       "    <tr style=\"text-align: right;\">\n",
       "      <th></th>\n",
       "      <th>bw_id</th>\n",
       "      <th>task_pose_zv</th>\n",
       "    </tr>\n",
       "  </thead>\n",
       "  <tbody>\n",
       "  </tbody>\n",
       "</table>\n",
       "</div>"
      ],
      "text/plain": [
       "Empty DataFrame\n",
       "Columns: [bw_id, task_pose_zv]\n",
       "Index: []"
      ]
     },
     "execution_count": 10,
     "metadata": {},
     "output_type": "execute_result"
    }
   ],
   "source": [
    "# merge id_date_pose_zv variable (date and id of video) \n",
    "fw_pws_id_date_pose_zv = pd.concat([zv_pws_bw_clean_df[['bw_id', 'task_pose_zv']], zv_fw_bw_clean_df[['bw_id', 'task_pose_zv']]])\n",
    "\n",
    "# check for unique variables - have pws video but no fw or vice versa \n",
    "fw_pws_id_date_pose_zv[~fw_pws_id_date_pose_zv['bw_id'].duplicated(keep = False)]\n",
    "\n",
    "# think they are the same participants, just maybe a few with different follow up videos "
   ]
  },
  {
   "cell_type": "markdown",
   "id": "77e8ddc8-ba46-41d6-bb80-1fb8443d0ba2",
   "metadata": {},
   "source": [
    "## Dates "
   ]
  },
  {
   "cell_type": "code",
   "execution_count": 11,
   "id": "ab800a57-864d-4a13-83db-ede09870b692",
   "metadata": {},
   "outputs": [
    {
     "name": "stdout",
     "output_type": "stream",
     "text": [
      "2022-09-12 00:00:00\n",
      "2024-10-03 00:00:00\n"
     ]
    }
   ],
   "source": [
    "# PWS \n",
    "zv_pws_bw_clean_df['visit_date'] = pd.to_datetime(zv_pws_bw_clean_df['visit_date'], errors = 'coerce') \n",
    "\n",
    "print(zv_pws_bw_clean_df['visit_date'].min())\n",
    "print(zv_pws_bw_clean_df['visit_date'].max())"
   ]
  },
  {
   "cell_type": "code",
   "execution_count": 12,
   "id": "79318e39-c2b2-45c1-a748-0e48c7e8f697",
   "metadata": {},
   "outputs": [
    {
     "name": "stdout",
     "output_type": "stream",
     "text": [
      "2022-09-12 00:00:00\n",
      "2024-10-03 00:00:00\n"
     ]
    }
   ],
   "source": [
    "# FW \n",
    "zv_fw_bw_clean_df['visit_date'] = pd.to_datetime(zv_fw_bw_clean_df['visit_date'], errors = 'coerce')\n",
    "\n",
    "print(zv_pws_bw_clean_df['visit_date'].min())\n",
    "print(zv_pws_bw_clean_df['visit_date'].max())"
   ]
  },
  {
   "cell_type": "code",
   "execution_count": 13,
   "id": "729daf0c-85aa-4a43-af3d-4a8525cc5e1f",
   "metadata": {},
   "outputs": [
    {
     "name": "stdout",
     "output_type": "stream",
     "text": [
      "2023-05-05\n",
      "2025-04-24\n"
     ]
    }
   ],
   "source": [
    "# HOme \n",
    "print(hv_bw_clean_df['visit_date_video'].min())\n",
    "print(hv_bw_clean_df['visit_date_video'].max())"
   ]
  },
  {
   "cell_type": "markdown",
   "id": "3907499f-bda8-4a4a-b0b4-4af12a69ef22",
   "metadata": {},
   "source": [
    "### Breakdown by REDCap visit type "
   ]
  },
  {
   "cell_type": "code",
   "execution_count": 14,
   "id": "ec748e7b-cc1e-46ee-92ca-cd0582f8fbc7",
   "metadata": {},
   "outputs": [],
   "source": [
    "# PWS Videos \n",
    "pws_visit_types = pd.DataFrame(zv_pws_bw_clean_df['redcap_event_name'].value_counts())\n",
    "pws_visit_types.to_csv(os.path.join(out_path, 'zeno_pws_redcap_event_counts.csv')) \n",
    "\n",
    "# FW Videos \n",
    "fw_visit_types = pd.DataFrame(zv_fw_bw_clean_df['redcap_event_name'].value_counts())\n",
    "fw_visit_types.to_csv(os.path.join(out_path, 'zeno_fw_redcap_event_counts.csv')) \n",
    "\n",
    "# Home Videos  \n",
    "home_visit_types = pd.DataFrame(hv_bw_clean_df['redcap_event_name'].value_counts())\n",
    "home_visit_types.to_csv(os.path.join(out_path, 'home_redcap_event_counts.csv')) "
   ]
  },
  {
   "cell_type": "code",
   "execution_count": 15,
   "id": "463b2072-facf-4256-8aa3-453a0c0028a4",
   "metadata": {},
   "outputs": [
    {
     "data": {
      "text/html": [
       "<div>\n",
       "<style scoped>\n",
       "    .dataframe tbody tr th:only-of-type {\n",
       "        vertical-align: middle;\n",
       "    }\n",
       "\n",
       "    .dataframe tbody tr th {\n",
       "        vertical-align: top;\n",
       "    }\n",
       "\n",
       "    .dataframe thead th {\n",
       "        text-align: right;\n",
       "    }\n",
       "</style>\n",
       "<table border=\"1\" class=\"dataframe\">\n",
       "  <thead>\n",
       "    <tr style=\"text-align: right;\">\n",
       "      <th></th>\n",
       "      <th>count</th>\n",
       "    </tr>\n",
       "    <tr>\n",
       "      <th>redcap_event_name</th>\n",
       "      <th></th>\n",
       "    </tr>\n",
       "  </thead>\n",
       "  <tbody>\n",
       "    <tr>\n",
       "      <th>Brainwalk: Baseline visit (Arm 1: Baseline visit)</th>\n",
       "      <td>142</td>\n",
       "    </tr>\n",
       "    <tr>\n",
       "      <th>Year 2 Visit (Arm 1: Baseline visit)</th>\n",
       "      <td>80</td>\n",
       "    </tr>\n",
       "    <tr>\n",
       "      <th>Year 3 Visit (Arm 1: Baseline visit)</th>\n",
       "      <td>9</td>\n",
       "    </tr>\n",
       "    <tr>\n",
       "      <th>Year 4 Visit (Arm 1: Baseline visit)</th>\n",
       "      <td>1</td>\n",
       "    </tr>\n",
       "  </tbody>\n",
       "</table>\n",
       "</div>"
      ],
      "text/plain": [
       "                                                   count\n",
       "redcap_event_name                                       \n",
       "Brainwalk: Baseline visit (Arm 1: Baseline visit)    142\n",
       "Year 2 Visit (Arm 1: Baseline visit)                  80\n",
       "Year 3 Visit (Arm 1: Baseline visit)                   9\n",
       "Year 4 Visit (Arm 1: Baseline visit)                   1"
      ]
     },
     "execution_count": 15,
     "metadata": {},
     "output_type": "execute_result"
    }
   ],
   "source": [
    "pws_visit_types"
   ]
  },
  {
   "cell_type": "code",
   "execution_count": 16,
   "id": "4412e2a8-d3c2-4129-9c82-5403c5574622",
   "metadata": {},
   "outputs": [
    {
     "data": {
      "text/html": [
       "<div>\n",
       "<style scoped>\n",
       "    .dataframe tbody tr th:only-of-type {\n",
       "        vertical-align: middle;\n",
       "    }\n",
       "\n",
       "    .dataframe tbody tr th {\n",
       "        vertical-align: top;\n",
       "    }\n",
       "\n",
       "    .dataframe thead th {\n",
       "        text-align: right;\n",
       "    }\n",
       "</style>\n",
       "<table border=\"1\" class=\"dataframe\">\n",
       "  <thead>\n",
       "    <tr style=\"text-align: right;\">\n",
       "      <th></th>\n",
       "      <th>count</th>\n",
       "    </tr>\n",
       "    <tr>\n",
       "      <th>redcap_event_name</th>\n",
       "      <th></th>\n",
       "    </tr>\n",
       "  </thead>\n",
       "  <tbody>\n",
       "    <tr>\n",
       "      <th>Brainwalk: Baseline visit (Arm 1: Baseline visit)</th>\n",
       "      <td>146</td>\n",
       "    </tr>\n",
       "    <tr>\n",
       "      <th>Year 2 Visit (Arm 1: Baseline visit)</th>\n",
       "      <td>76</td>\n",
       "    </tr>\n",
       "    <tr>\n",
       "      <th>Year 3 Visit (Arm 1: Baseline visit)</th>\n",
       "      <td>9</td>\n",
       "    </tr>\n",
       "    <tr>\n",
       "      <th>Year 4 Visit (Arm 1: Baseline visit)</th>\n",
       "      <td>1</td>\n",
       "    </tr>\n",
       "  </tbody>\n",
       "</table>\n",
       "</div>"
      ],
      "text/plain": [
       "                                                   count\n",
       "redcap_event_name                                       \n",
       "Brainwalk: Baseline visit (Arm 1: Baseline visit)    146\n",
       "Year 2 Visit (Arm 1: Baseline visit)                  76\n",
       "Year 3 Visit (Arm 1: Baseline visit)                   9\n",
       "Year 4 Visit (Arm 1: Baseline visit)                   1"
      ]
     },
     "execution_count": 16,
     "metadata": {},
     "output_type": "execute_result"
    }
   ],
   "source": [
    "fw_visit_types"
   ]
  },
  {
   "cell_type": "code",
   "execution_count": 17,
   "id": "ef183d39-0b67-49fe-8be9-e56a17bb2e8c",
   "metadata": {},
   "outputs": [
    {
     "data": {
      "text/html": [
       "<div>\n",
       "<style scoped>\n",
       "    .dataframe tbody tr th:only-of-type {\n",
       "        vertical-align: middle;\n",
       "    }\n",
       "\n",
       "    .dataframe tbody tr th {\n",
       "        vertical-align: top;\n",
       "    }\n",
       "\n",
       "    .dataframe thead th {\n",
       "        text-align: right;\n",
       "    }\n",
       "</style>\n",
       "<table border=\"1\" class=\"dataframe\">\n",
       "  <thead>\n",
       "    <tr style=\"text-align: right;\">\n",
       "      <th></th>\n",
       "      <th>count</th>\n",
       "    </tr>\n",
       "    <tr>\n",
       "      <th>redcap_event_name</th>\n",
       "      <th></th>\n",
       "    </tr>\n",
       "  </thead>\n",
       "  <tbody>\n",
       "    <tr>\n",
       "      <th>Brainwalk: Baseline visit (Arm 1: Baseline visit)</th>\n",
       "      <td>48</td>\n",
       "    </tr>\n",
       "    <tr>\n",
       "      <th>Year 2 Visit (Arm 1: Baseline visit)</th>\n",
       "      <td>27</td>\n",
       "    </tr>\n",
       "    <tr>\n",
       "      <th>Year 3 Visit (Arm 1: Baseline visit)</th>\n",
       "      <td>4</td>\n",
       "    </tr>\n",
       "    <tr>\n",
       "      <th>Baseline (Arm 6: EPIC)</th>\n",
       "      <td>2</td>\n",
       "    </tr>\n",
       "  </tbody>\n",
       "</table>\n",
       "</div>"
      ],
      "text/plain": [
       "                                                   count\n",
       "redcap_event_name                                       \n",
       "Brainwalk: Baseline visit (Arm 1: Baseline visit)     48\n",
       "Year 2 Visit (Arm 1: Baseline visit)                  27\n",
       "Year 3 Visit (Arm 1: Baseline visit)                   4\n",
       "Baseline (Arm 6: EPIC)                                 2"
      ]
     },
     "execution_count": 17,
     "metadata": {},
     "output_type": "execute_result"
    }
   ],
   "source": [
    "home_visit_types"
   ]
  },
  {
   "cell_type": "markdown",
   "id": "57269f30-b4c6-42a3-a2a5-174f58f03aa3",
   "metadata": {},
   "source": [
    "### IDs with Multiple vs Single visits "
   ]
  },
  {
   "cell_type": "code",
   "execution_count": 18,
   "id": "25ccba53-8143-4260-a4fd-ee82601eecf5",
   "metadata": {},
   "outputs": [
    {
     "data": {
      "text/html": [
       "<div>\n",
       "<style scoped>\n",
       "    .dataframe tbody tr th:only-of-type {\n",
       "        vertical-align: middle;\n",
       "    }\n",
       "\n",
       "    .dataframe tbody tr th {\n",
       "        vertical-align: top;\n",
       "    }\n",
       "\n",
       "    .dataframe thead th {\n",
       "        text-align: right;\n",
       "    }\n",
       "</style>\n",
       "<table border=\"1\" class=\"dataframe\">\n",
       "  <thead>\n",
       "    <tr style=\"text-align: right;\">\n",
       "      <th></th>\n",
       "      <th>id_video</th>\n",
       "      <th>visit_date_video</th>\n",
       "    </tr>\n",
       "  </thead>\n",
       "  <tbody>\n",
       "    <tr>\n",
       "      <th>0</th>\n",
       "      <td>BW-0018</td>\n",
       "      <td>2023-10-24</td>\n",
       "    </tr>\n",
       "    <tr>\n",
       "      <th>2</th>\n",
       "      <td>BW-0023</td>\n",
       "      <td>2023-05-05</td>\n",
       "    </tr>\n",
       "    <tr>\n",
       "      <th>4</th>\n",
       "      <td>BW-0023</td>\n",
       "      <td>2023-10-23</td>\n",
       "    </tr>\n",
       "    <tr>\n",
       "      <th>7</th>\n",
       "      <td>BW-0025</td>\n",
       "      <td>2023-11-28</td>\n",
       "    </tr>\n",
       "    <tr>\n",
       "      <th>10</th>\n",
       "      <td>BW-0045</td>\n",
       "      <td>2024-01-17</td>\n",
       "    </tr>\n",
       "  </tbody>\n",
       "</table>\n",
       "</div>"
      ],
      "text/plain": [
       "   id_video visit_date_video\n",
       "0   BW-0018       2023-10-24\n",
       "2   BW-0023       2023-05-05\n",
       "4   BW-0023       2023-10-23\n",
       "7   BW-0025       2023-11-28\n",
       "10  BW-0045       2024-01-17"
      ]
     },
     "execution_count": 18,
     "metadata": {},
     "output_type": "execute_result"
    }
   ],
   "source": [
    "# home videos \n",
    "# get unique id and date combos - remove right and left duplicate \n",
    "hv_unique_vid_date_df = hv_bw_clean_df[['id_video', 'visit_date_video']].drop_duplicates()\n",
    "hv_unique_vid_date_df.head() "
   ]
  },
  {
   "cell_type": "code",
   "execution_count": 19,
   "id": "bd69b002-4a59-456a-a883-df502702b1f4",
   "metadata": {},
   "outputs": [
    {
     "data": {
      "text/html": [
       "<div>\n",
       "<style scoped>\n",
       "    .dataframe tbody tr th:only-of-type {\n",
       "        vertical-align: middle;\n",
       "    }\n",
       "\n",
       "    .dataframe tbody tr th {\n",
       "        vertical-align: top;\n",
       "    }\n",
       "\n",
       "    .dataframe thead th {\n",
       "        text-align: right;\n",
       "    }\n",
       "</style>\n",
       "<table border=\"1\" class=\"dataframe\">\n",
       "  <thead>\n",
       "    <tr style=\"text-align: right;\">\n",
       "      <th></th>\n",
       "      <th>PWS_single_visit</th>\n",
       "      <th>PWS_multiple_visits</th>\n",
       "      <th>FW_single_visit</th>\n",
       "      <th>FW_multiple_visits</th>\n",
       "      <th>Home_single_visit</th>\n",
       "      <th>Home_multiple_visits</th>\n",
       "    </tr>\n",
       "  </thead>\n",
       "  <tbody>\n",
       "    <tr>\n",
       "      <th>0</th>\n",
       "      <td>80</td>\n",
       "      <td>73</td>\n",
       "      <td>80</td>\n",
       "      <td>73</td>\n",
       "      <td>33</td>\n",
       "      <td>5</td>\n",
       "    </tr>\n",
       "  </tbody>\n",
       "</table>\n",
       "</div>"
      ],
      "text/plain": [
       "   PWS_single_visit  PWS_multiple_visits  FW_single_visit  FW_multiple_visits  \\\n",
       "0                80                   73               80                  73   \n",
       "\n",
       "   Home_single_visit  Home_multiple_visits  \n",
       "0                 33                     5  "
      ]
     },
     "execution_count": 19,
     "metadata": {},
     "output_type": "execute_result"
    }
   ],
   "source": [
    "# merge all into single data frame \n",
    "single_vs_mult_visits_df = pd.DataFrame(data = {\"PWS_single_visit\" : [(zv_pws_bw_clean_df['id_video'].value_counts() == 1).sum()],\n",
    "                                                \"PWS_multiple_visits\" : [zv_pws_bw_clean_df['id_video'][zv_pws_bw_clean_df['id_video'].duplicated()].nunique()],\n",
    "                                                \"FW_single_visit\" : [(zv_fw_bw_clean_df['id_video'].value_counts() == 1).sum()], \n",
    "                                                \"FW_multiple_visits\" : [zv_fw_bw_clean_df['id_video'][zv_fw_bw_clean_df['id_video'].duplicated()].nunique()], \n",
    "                                                \"Home_single_visit\" : [(hv_unique_vid_date_df['id_video'].value_counts() == 1).sum()],\n",
    "                                                \"Home_multiple_visits\" : [hv_unique_vid_date_df['id_video'][hv_unique_vid_date_df['id_video'].duplicated()].nunique()]})\n",
    "single_vs_mult_visits_df.to_csv(os.path.join(out_path, 'single_vs_multiple_visits.csv'))\n",
    "single_vs_mult_visits_df"
   ]
  },
  {
   "cell_type": "markdown",
   "id": "34f989af-faa6-4470-891f-1a702b9d2095",
   "metadata": {},
   "source": [
    "### Home videos - # of right vs left "
   ]
  },
  {
   "cell_type": "code",
   "execution_count": 20,
   "id": "7c63ee21-eaf1-4885-9285-52ba6be46e81",
   "metadata": {},
   "outputs": [
    {
     "data": {
      "text/html": [
       "<div>\n",
       "<style scoped>\n",
       "    .dataframe tbody tr th:only-of-type {\n",
       "        vertical-align: middle;\n",
       "    }\n",
       "\n",
       "    .dataframe tbody tr th {\n",
       "        vertical-align: top;\n",
       "    }\n",
       "\n",
       "    .dataframe thead th {\n",
       "        text-align: right;\n",
       "    }\n",
       "</style>\n",
       "<table border=\"1\" class=\"dataframe\">\n",
       "  <thead>\n",
       "    <tr style=\"text-align: right;\">\n",
       "      <th></th>\n",
       "      <th>count</th>\n",
       "    </tr>\n",
       "    <tr>\n",
       "      <th>task_pose_hv</th>\n",
       "      <th></th>\n",
       "    </tr>\n",
       "  </thead>\n",
       "  <tbody>\n",
       "    <tr>\n",
       "      <th>gait_vertical_right</th>\n",
       "      <td>40</td>\n",
       "    </tr>\n",
       "    <tr>\n",
       "      <th>gait_vertical_left</th>\n",
       "      <td>39</td>\n",
       "    </tr>\n",
       "    <tr>\n",
       "      <th>gait_vertical_left_2</th>\n",
       "      <td>1</td>\n",
       "    </tr>\n",
       "    <tr>\n",
       "      <th>gait_vertical_right_2</th>\n",
       "      <td>1</td>\n",
       "    </tr>\n",
       "  </tbody>\n",
       "</table>\n",
       "</div>"
      ],
      "text/plain": [
       "                       count\n",
       "task_pose_hv                \n",
       "gait_vertical_right       40\n",
       "gait_vertical_left        39\n",
       "gait_vertical_left_2       1\n",
       "gait_vertical_right_2      1"
      ]
     },
     "execution_count": 20,
     "metadata": {},
     "output_type": "execute_result"
    }
   ],
   "source": [
    "home_rightleft_df = pd.DataFrame(hv_bw_clean_df['task_pose_hv'].value_counts())\n",
    "home_rightleft_df.to_csv(os.path.join(out_path, 'home_right_left_counts.csv'))\n",
    "home_rightleft_df"
   ]
  },
  {
   "cell_type": "code",
   "execution_count": 21,
   "id": "9c05aafa-8625-40dd-adec-cdd416678aa3",
   "metadata": {},
   "outputs": [
    {
     "data": {
      "text/html": [
       "<div>\n",
       "<style scoped>\n",
       "    .dataframe tbody tr th:only-of-type {\n",
       "        vertical-align: middle;\n",
       "    }\n",
       "\n",
       "    .dataframe tbody tr th {\n",
       "        vertical-align: top;\n",
       "    }\n",
       "\n",
       "    .dataframe thead th {\n",
       "        text-align: right;\n",
       "    }\n",
       "</style>\n",
       "<table border=\"1\" class=\"dataframe\">\n",
       "  <thead>\n",
       "    <tr style=\"text-align: right;\">\n",
       "      <th></th>\n",
       "      <th>count</th>\n",
       "    </tr>\n",
       "    <tr>\n",
       "      <th>task_pose_hv</th>\n",
       "      <th></th>\n",
       "    </tr>\n",
       "  </thead>\n",
       "  <tbody>\n",
       "    <tr>\n",
       "      <th>gait_vertical_right</th>\n",
       "      <td>39</td>\n",
       "    </tr>\n",
       "    <tr>\n",
       "      <th>gait_vertical_left</th>\n",
       "      <td>36</td>\n",
       "    </tr>\n",
       "    <tr>\n",
       "      <th>gait_vertical_left_2</th>\n",
       "      <td>1</td>\n",
       "    </tr>\n",
       "    <tr>\n",
       "      <th>gait_vertical_right_2</th>\n",
       "      <td>1</td>\n",
       "    </tr>\n",
       "  </tbody>\n",
       "</table>\n",
       "</div>"
      ],
      "text/plain": [
       "                       count\n",
       "task_pose_hv                \n",
       "gait_vertical_right       39\n",
       "gait_vertical_left        36\n",
       "gait_vertical_left_2       1\n",
       "gait_vertical_right_2      1"
      ]
     },
     "execution_count": 21,
     "metadata": {},
     "output_type": "execute_result"
    }
   ],
   "source": [
    "## Home Videos - # of right and left with segment identified \n",
    "home_rightleft_w_walking_identified = pd.DataFrame(hv_bw_clean_df['task_pose_hv'].loc[hv_bw_clean_df['walking_segmets_n_pose_hv'] > 0].value_counts())\n",
    "home_rightleft_w_walking_identified.to_csv(os.path.join(out_path, 'home_right_left_with_walking_identified.csv'))\n",
    "home_rightleft_w_walking_identified"
   ]
  },
  {
   "cell_type": "markdown",
   "id": "b13dbd33-5508-4513-a9c8-a66cdc669903",
   "metadata": {},
   "source": [
    "## In-person videos: videos before and after changing collection protocol \n",
    " use taller camera height, close blinds if sunny, etc \n",
    " 3/13/2024 - protocol changed "
   ]
  },
  {
   "cell_type": "code",
   "execution_count": null,
   "id": "95d46488-132f-43ce-baf8-471c16ac4321",
   "metadata": {},
   "outputs": [],
   "source": [
    "protocol_change_date = pd.to_datetime(\"2024-03-13 00:00:00\")\n",
    "protocol_change_date\n",
    "\n",
    "# PWS videos \n",
    "# before instruction change \n",
    "zv_pws_bw_clean_df_1 = zv_pws_bw_clean_df.loc[zv_pws_bw_clean_df['visit_date'] < protocol_change_date]\n",
    "print(f\"Number videos before changing instructions: {len(zv_pws_bw_clean_df_1)}\")\n",
    "total_1_videos = zv_pws_bw_clean_df_1['id_date_pose_zv'].count()\n",
    "wWalking_1_videos = zv_pws_bw_clean_df_1['id_date_pose_zv'].loc[zv_pws_bw_clean_df_1['walking_segmets_n_pose_zv'] > 0].count()\n",
    "percent_wWalking_1 = round((wWalking_1_videos / total_1_videos) * 100, 0)\n",
    "                           \n",
    "# After instruction change \n",
    "zv_pws_bw_clean_df_2 = zv_pws_bw_clean_df.loc[zv_pws_bw_clean_df['visit_date'] > protocol_change_date]\n",
    "print(f\"Number videos after changing instructions: {len(zv_pws_bw_clean_df_2)}\")\n",
    "total_2_videos = zv_pws_bw_clean_df_2['id_date_pose_zv'].count()\n",
    "wWalking_2_videos = zv_pws_bw_clean_df_2['id_date_pose_zv'].loc[zv_pws_bw_clean_df_2['walking_segmets_n_pose_zv'] > 0].count()\n",
    "percent_wWalking_2 = round((wWalking_2_videos / total_2_videos) * 100, 0)\n",
    "\n",
    "# compile into dataframe \n",
    "pws_v1_vs_v2_wWalking_df = pd.DataFrame(data = {'v1_num_videos' : [total_1_videos],\n",
    "                                            'v1_num_videos_wWalking' : [wWalking_1_videos],\n",
    "                                            'v1_percent_videos_wWalking' : [percent_wWalking_1],\n",
    "                                            'v2_num_videos' : [total_2_videos], \n",
    "                                            'v2_num_videos_wWalking' : [wWalking_2_videos], \n",
    "                                            'v2_percent_videos_wWalking' : [percent_wWalking_2]\n",
    "                                           })\n",
    "\n",
    "pws_v1_vs_v2_wWalking_df.to_csv(os.path.join(out_path, 'zeno_pws_v1_vs_v2_wWalking.csv'))\n",
    "pws_v1_vs_v2_wWalking_df"
   ]
  },
  {
   "cell_type": "code",
   "execution_count": 23,
   "id": "be3c0927-9aba-493d-83c9-d74731f73344",
   "metadata": {},
   "outputs": [
    {
     "name": "stdout",
     "output_type": "stream",
     "text": [
      "Number videos before changing instructions: 174\n",
      "Number videos after changing instructions: 62\n"
     ]
    },
    {
     "data": {
      "text/html": [
       "<div>\n",
       "<style scoped>\n",
       "    .dataframe tbody tr th:only-of-type {\n",
       "        vertical-align: middle;\n",
       "    }\n",
       "\n",
       "    .dataframe tbody tr th {\n",
       "        vertical-align: top;\n",
       "    }\n",
       "\n",
       "    .dataframe thead th {\n",
       "        text-align: right;\n",
       "    }\n",
       "</style>\n",
       "<table border=\"1\" class=\"dataframe\">\n",
       "  <thead>\n",
       "    <tr style=\"text-align: right;\">\n",
       "      <th></th>\n",
       "      <th>v1_num_videos</th>\n",
       "      <th>v1_num_videos_wWalking</th>\n",
       "      <th>v1_percent_videos_wWalking</th>\n",
       "      <th>v2_num_videos</th>\n",
       "      <th>v2_num_videos_wWalking</th>\n",
       "      <th>v2_percent_videos_wWalking</th>\n",
       "    </tr>\n",
       "  </thead>\n",
       "  <tbody>\n",
       "    <tr>\n",
       "      <th>0</th>\n",
       "      <td>174</td>\n",
       "      <td>146</td>\n",
       "      <td>84.0</td>\n",
       "      <td>58</td>\n",
       "      <td>57</td>\n",
       "      <td>98.0</td>\n",
       "    </tr>\n",
       "  </tbody>\n",
       "</table>\n",
       "</div>"
      ],
      "text/plain": [
       "   v1_num_videos  v1_num_videos_wWalking  v1_percent_videos_wWalking  \\\n",
       "0            174                     146                        84.0   \n",
       "\n",
       "   v2_num_videos  v2_num_videos_wWalking  v2_percent_videos_wWalking  \n",
       "0             58                      57                        98.0  "
      ]
     },
     "execution_count": 23,
     "metadata": {},
     "output_type": "execute_result"
    }
   ],
   "source": [
    "# Fast walk \n",
    "\n",
    "# before instruction change \n",
    "zv_fw_bw_clean_df_1 = zv_fw_bw_clean_df.loc[zv_fw_bw_clean_df['visit_date'] < protocol_change_date]\n",
    "print(f\"Number videos before changing instructions: {len(zv_fw_bw_clean_df_1)}\")\n",
    "total_1_videos = zv_fw_bw_clean_df_1['id_date_pose_zv'].count()\n",
    "wWalking_1_videos = zv_fw_bw_clean_df_1['id_date_pose_zv'].loc[zv_fw_bw_clean_df_1['walking_segmets_n_pose_zv'] > 0].count()\n",
    "percent_wWalking_1 = round((wWalking_1_videos / total_1_videos) * 100, 0)\n",
    "\n",
    "# After instruction change \n",
    "zv_fw_bw_clean_df_2 = zv_fw_bw_clean_df.loc[zv_fw_bw_clean_df['visit_date'] > protocol_change_date]\n",
    "print(f\"Number videos after changing instructions: {len(zv_pws_bw_clean_df_2)}\")\n",
    "total_2_videos = zv_fw_bw_clean_df_2['id_date_pose_zv'].count()\n",
    "wWalking_2_videos = zv_fw_bw_clean_df_2['id_date_pose_zv'].loc[zv_fw_bw_clean_df_2['walking_segmets_n_pose_zv'] > 0].count()\n",
    "percent_wWalking_2 = round((wWalking_2_videos / total_2_videos) * 100, 0)\n",
    "\n",
    "# compile into dataframe \n",
    "fw_v1_vs_v2_wWalking_df = pd.DataFrame(data = {'v1_num_videos' : [total_1_videos],\n",
    "                                            'v1_num_videos_wWalking' : [wWalking_1_videos],\n",
    "                                            'v1_percent_videos_wWalking' : [percent_wWalking_1],\n",
    "                                            'v2_num_videos' : [total_2_videos], \n",
    "                                            'v2_num_videos_wWalking' : [wWalking_2_videos], \n",
    "                                            'v2_percent_videos_wWalking' : [percent_wWalking_2]\n",
    "                                           })\n",
    "\n",
    "fw_v1_vs_v2_wWalking_df.to_csv(os.path.join(out_path, 'zeno_fw_v1_vs_v2_wWalking.csv'))\n",
    "fw_v1_vs_v2_wWalking_df"
   ]
  },
  {
   "cell_type": "markdown",
   "id": "cbac01d8-11f4-4e34-8824-1704f6066a44",
   "metadata": {},
   "source": [
    "## Home videos - videos before and after change in instruction version "
   ]
  },
  {
   "cell_type": "code",
   "execution_count": 24,
   "id": "1406a479-c052-4a52-995c-660e286bf403",
   "metadata": {},
   "outputs": [
    {
     "name": "stdout",
     "output_type": "stream",
     "text": [
      "Number instruction 1 videos: 73\n",
      "Number instruction 2 videos: 8\n"
     ]
    },
    {
     "data": {
      "text/html": [
       "<div>\n",
       "<style scoped>\n",
       "    .dataframe tbody tr th:only-of-type {\n",
       "        vertical-align: middle;\n",
       "    }\n",
       "\n",
       "    .dataframe tbody tr th {\n",
       "        vertical-align: top;\n",
       "    }\n",
       "\n",
       "    .dataframe thead th {\n",
       "        text-align: right;\n",
       "    }\n",
       "</style>\n",
       "<table border=\"1\" class=\"dataframe\">\n",
       "  <thead>\n",
       "    <tr style=\"text-align: right;\">\n",
       "      <th></th>\n",
       "      <th>v1_num_videos</th>\n",
       "      <th>v1_num_videos_wWalking</th>\n",
       "      <th>v1_percent_videos_wWalking</th>\n",
       "      <th>v2_num_videos</th>\n",
       "      <th>v2_num_videos_wWalking</th>\n",
       "      <th>v2_percent_videos_wWalking</th>\n",
       "    </tr>\n",
       "  </thead>\n",
       "  <tbody>\n",
       "    <tr>\n",
       "      <th>0</th>\n",
       "      <td>73</td>\n",
       "      <td>69</td>\n",
       "      <td>95.0</td>\n",
       "      <td>8</td>\n",
       "      <td>8</td>\n",
       "      <td>100.0</td>\n",
       "    </tr>\n",
       "  </tbody>\n",
       "</table>\n",
       "</div>"
      ],
      "text/plain": [
       "   v1_num_videos  v1_num_videos_wWalking  v1_percent_videos_wWalking  \\\n",
       "0             73                      69                        95.0   \n",
       "\n",
       "   v2_num_videos  v2_num_videos_wWalking  v2_percent_videos_wWalking  \n",
       "0              8                       8                       100.0  "
      ]
     },
     "execution_count": 24,
     "metadata": {},
     "output_type": "execute_result"
    }
   ],
   "source": [
    "## instruction version 1: Alexis + Arpita instructions, no example videos \n",
    "hv_bw_clean_df_v1 = hv_bw_clean_df.loc[hv_bw_clean_df['instruction_version_hv'] == 1]\n",
    "print(f\"Number instruction 1 videos: {len(hv_bw_clean_df_v1)}\")\n",
    "total_v1_videos = hv_bw_clean_df_v1['id_date_pose_hv'].count() # total videos \n",
    "wWalking_v1_videos = hv_bw_clean_df_v1['id_date_pose_hv'].loc[hv_bw_clean_df_v1['walking_segmets_n_pose_hv'] > 0].count() # vidoes with one walking segment identified\n",
    "percent_wWalking_v1 = round((wWalking_v1_videos / total_v1_videos) * 100, 0) # percent vidoes with one walking segment identified \n",
    "\n",
    "## Instruction version 2: megan and Nikki S, example videos, frontal videos only \n",
    "hv_bw_clean_df_v2 = hv_bw_clean_df.loc[hv_bw_clean_df['instruction_version_hv'] == 2]\n",
    "print(f\"Number instruction 2 videos: {len(hv_bw_clean_df_v2)}\")\n",
    "total_v2_videos = hv_bw_clean_df_v2['id_date_pose_hv'].count() # total videos \n",
    "wWalking_v2_videos = hv_bw_clean_df_v2['id_date_pose_hv'].loc[hv_bw_clean_df_v2['walking_segmets_n_pose_hv'] > 0].count() # vidoes with one walking segment identified\n",
    "percent_wWalking_v2 = round((wWalking_v2_videos / total_v2_videos) * 100, 0) # percent vidoes with one walking segment identified \n",
    "\n",
    "# compile into dataframe \n",
    "home_v1_vs_v2_wWalking_df = pd.DataFrame(data = {'v1_num_videos' : [total_v1_videos],\n",
    "                                            'v1_num_videos_wWalking' : [wWalking_v1_videos],\n",
    "                                            'v1_percent_videos_wWalking' : [percent_wWalking_v1],\n",
    "                                            'v2_num_videos' : [total_v2_videos], \n",
    "                                            'v2_num_videos_wWalking' : [wWalking_v2_videos], \n",
    "                                            'v2_percent_videos_wWalking' : [percent_wWalking_v2]\n",
    "                                           })\n",
    "\n",
    "home_v1_vs_v2_wWalking_df.to_csv(os.path.join(out_path, 'home_v1_vs_v2_wWalking.csv'))\n",
    "home_v1_vs_v2_wWalking_df"
   ]
  },
  {
   "cell_type": "markdown",
   "id": "43e49f03-140b-4584-8d88-792de0f8b544",
   "metadata": {},
   "source": [
    "### Breakdown of participants with all vs any missing video metrics "
   ]
  },
  {
   "cell_type": "code",
   "execution_count": 25,
   "id": "56081b08-fbd8-4d20-a69d-6e2f17bd14dd",
   "metadata": {},
   "outputs": [],
   "source": [
    "# columns to check - video metrics \n",
    "subset_columns = ['delta_pix_h_rel_median_pose_zv', 'stride_time_median_sec_pose_zv',\n",
    "                  'mean_cadence_step_per_min_pose_zv', 'stride_width_median_cm_pose_zv', \n",
    "                  'gait_cycle_time_sec_mean_pose_zv']\n",
    "\n",
    "subset_columns_hv = ['delta_pix_h_rel_median_pose_hv', 'stride_time_median_sec_pose_hv',\n",
    "                     'mean_cadence_step_per_min_pose_hv', 'stride_width_median_cm_pose_hv',\n",
    "                     'tot_dsupport_per_mean_pose_hv', 'singlesupport_per_mean_pose_hv'] "
   ]
  },
  {
   "cell_type": "code",
   "execution_count": 26,
   "id": "fb772ad2-48d6-4df6-8818-ea371c4ba7d9",
   "metadata": {},
   "outputs": [
    {
     "data": {
      "text/html": [
       "<div>\n",
       "<style scoped>\n",
       "    .dataframe tbody tr th:only-of-type {\n",
       "        vertical-align: middle;\n",
       "    }\n",
       "\n",
       "    .dataframe tbody tr th {\n",
       "        vertical-align: top;\n",
       "    }\n",
       "\n",
       "    .dataframe thead th {\n",
       "        text-align: right;\n",
       "    }\n",
       "</style>\n",
       "<table border=\"1\" class=\"dataframe\">\n",
       "  <thead>\n",
       "    <tr style=\"text-align: right;\">\n",
       "      <th></th>\n",
       "      <th>PWS</th>\n",
       "      <th>PWS_V1</th>\n",
       "      <th>PWS_V2</th>\n",
       "      <th>FW</th>\n",
       "      <th>FW_V1</th>\n",
       "      <th>FW_V2</th>\n",
       "      <th>Home</th>\n",
       "      <th>Home_InstructionV1</th>\n",
       "      <th>Home_InstructionV2</th>\n",
       "    </tr>\n",
       "  </thead>\n",
       "  <tbody>\n",
       "    <tr>\n",
       "      <th>0</th>\n",
       "      <td>175</td>\n",
       "      <td>132</td>\n",
       "      <td>43</td>\n",
       "      <td>176</td>\n",
       "      <td>125</td>\n",
       "      <td>51</td>\n",
       "      <td>70</td>\n",
       "      <td>62</td>\n",
       "      <td>8</td>\n",
       "    </tr>\n",
       "  </tbody>\n",
       "</table>\n",
       "</div>"
      ],
      "text/plain": [
       "   PWS  PWS_V1  PWS_V2   FW  FW_V1  FW_V2  Home  Home_InstructionV1  \\\n",
       "0  175     132      43  176    125     51    70                  62   \n",
       "\n",
       "   Home_InstructionV2  \n",
       "0                   8  "
      ]
     },
     "execution_count": 26,
     "metadata": {},
     "output_type": "execute_result"
    }
   ],
   "source": [
    "# count videos that have all metrics calcualted \n",
    "pws_count_non_missing = len(zv_pws_bw_clean_df.dropna(subset = subset_columns))\n",
    "fws_count_non_missing = len(zv_fw_bw_clean_df.dropna(subset = subset_columns))\n",
    "home_count_non_missing = len(hv_bw_clean_df.dropna(subset = subset_columns_hv))\n",
    "\n",
    "# compare PWS videos before and after improving protocol \n",
    "pws_1_non_missing = len(zv_pws_bw_clean_df_1.dropna(subset = subset_columns))\n",
    "pws_2_non_missing = len(zv_pws_bw_clean_df_2.dropna(subset = subset_columns))\n",
    "\n",
    "# compare FW videos before and after improving protocol \n",
    "fw_1_non_missing = len(zv_fw_bw_clean_df_1.dropna(subset = subset_columns))\n",
    "fw_2_non_missing = len(zv_fw_bw_clean_df_2.dropna(subset = subset_columns))\n",
    "\n",
    "# compare v1 vs v2 home video instructions \n",
    "home_v1_non_missing = len(hv_bw_clean_df_v1.dropna(subset = subset_columns_hv))\n",
    "home_v2_non_missing = len(hv_bw_clean_df_v2.dropna(subset = subset_columns_hv))\n",
    "\n",
    "non_missing_video_metrics_df = pd.DataFrame(data = {\"PWS\" : [pws_count_non_missing], \n",
    "                                                    \"PWS_V1\" : [pws_1_non_missing], \n",
    "                                                    \"PWS_V2\" : [pws_2_non_missing], \n",
    "                                                    \"FW\" : [fws_count_non_missing], \n",
    "                                                    \"FW_V1\" : [fw_1_non_missing],\n",
    "                                                    \"FW_V2\" : [fw_2_non_missing],\n",
    "                                                    \"Home\" : [home_count_non_missing], \n",
    "                                                   'Home_InstructionV1' : [home_v1_non_missing],\n",
    "                                                   'Home_InstructionV2' : [home_v2_non_missing]})\n",
    "\n",
    "non_missing_video_metrics_df.to_csv(os.path.join(out_path, 'no_video_metrics_missing_count.csv'))\n",
    "non_missing_video_metrics_df"
   ]
  },
  {
   "cell_type": "markdown",
   "id": "9ecbfda7-6728-4418-b73d-f46fb8daf804",
   "metadata": {},
   "source": [
    "## count videos that have all metrics but delta pixel proxy calculated "
   ]
  },
  {
   "cell_type": "code",
   "execution_count": 27,
   "id": "d8f75158-0462-4d3c-856f-8c8f95500249",
   "metadata": {},
   "outputs": [],
   "source": [
    "\n",
    "subset_columns_2 = ['stride_time_median_sec_pose_zv',\n",
    "                  'mean_cadence_step_per_min_pose_zv', 'stride_width_median_cm_pose_zv', \n",
    "                  'gait_cycle_time_sec_mean_pose_zv']\n",
    "\n",
    "subset_columns_hv_2 = ['stride_time_median_sec_pose_hv',\n",
    "                     'mean_cadence_step_per_min_pose_hv', 'stride_width_median_cm_pose_hv',\n",
    "                     'tot_dsupport_per_mean_pose_hv', 'singlesupport_per_mean_pose_hv'] "
   ]
  },
  {
   "cell_type": "code",
   "execution_count": 28,
   "id": "21c9d008-3fbd-4d86-a165-bf8b70beabd2",
   "metadata": {},
   "outputs": [
    {
     "data": {
      "text/html": [
       "<div>\n",
       "<style scoped>\n",
       "    .dataframe tbody tr th:only-of-type {\n",
       "        vertical-align: middle;\n",
       "    }\n",
       "\n",
       "    .dataframe tbody tr th {\n",
       "        vertical-align: top;\n",
       "    }\n",
       "\n",
       "    .dataframe thead th {\n",
       "        text-align: right;\n",
       "    }\n",
       "</style>\n",
       "<table border=\"1\" class=\"dataframe\">\n",
       "  <thead>\n",
       "    <tr style=\"text-align: right;\">\n",
       "      <th></th>\n",
       "      <th>PWS</th>\n",
       "      <th>FW</th>\n",
       "      <th>Home</th>\n",
       "    </tr>\n",
       "  </thead>\n",
       "  <tbody>\n",
       "    <tr>\n",
       "      <th>0</th>\n",
       "      <td>191</td>\n",
       "      <td>181</td>\n",
       "      <td>71</td>\n",
       "    </tr>\n",
       "  </tbody>\n",
       "</table>\n",
       "</div>"
      ],
      "text/plain": [
       "   PWS   FW  Home\n",
       "0  191  181    71"
      ]
     },
     "execution_count": 28,
     "metadata": {},
     "output_type": "execute_result"
    }
   ],
   "source": [
    "# count videos that have all metrics but delta pixel proxy calculated \n",
    "pws_count_all_gait = len(zv_pws_bw_clean_df.dropna(subset = subset_columns_2))\n",
    "fws_count_all_gait = len(zv_fw_bw_clean_df.dropna(subset = subset_columns_2))\n",
    "home_count_all_gait = len(hv_bw_clean_df.dropna(subset = subset_columns_hv_2))\n",
    "\n",
    "\n",
    "\n",
    "all_gait_metrics_df = pd.DataFrame(data = {\"PWS\" : [pws_count_all_gait], \n",
    "                                                    \"FW\" : [fws_count_all_gait], \n",
    "                                                    \"Home\" : [home_count_all_gait]})\n",
    "\n",
    "all_gait_metrics_df.to_csv(os.path.join(out_path, 'no_gait_metrics_missing_count.csv'))\n",
    "all_gait_metrics_df"
   ]
  },
  {
   "cell_type": "markdown",
   "id": "a7162973-b95b-4c33-b6d4-8a3dc04ca43f",
   "metadata": {},
   "source": [
    "## Date diff: Visit Date and Home Video Date \n",
    "Date diff as of 5/2 - difference between date of video in subfolder and date of BW visit merged with home video data. "
   ]
  },
  {
   "cell_type": "code",
   "execution_count": 29,
   "id": "1e5c6212-b792-410a-b7d1-123be08010af",
   "metadata": {},
   "outputs": [
    {
     "data": {
      "text/plain": [
       "(array([68.,  7.,  0.,  2.,  0.,  2.,  0.,  0.,  0.,  2.]),\n",
       " array([ -4. ,  28.7,  61.4,  94.1, 126.8, 159.5, 192.2, 224.9, 257.6,\n",
       "        290.3, 323. ]),\n",
       " <BarContainer object of 10 artists>)"
      ]
     },
     "execution_count": 29,
     "metadata": {},
     "output_type": "execute_result"
    },
    {
     "data": {
      "image/png": "[encoded data removed]",
      "text/plain": [
       "<Figure size 640x480 with 1 Axes>"
      ]
     },
     "metadata": {},
     "output_type": "display_data"
    }
   ],
   "source": [
    "plt.hist(hv_bw_clean_df['bw_hv_date_diff_days'])"
   ]
  },
  {
   "cell_type": "code",
   "execution_count": 30,
   "id": "4c44648d-2959-411c-a2e9-0277d1636040",
   "metadata": {},
   "outputs": [
    {
     "data": {
      "text/plain": [
       "(array([72.,  3.,  2.,  0.,  0.,  2.,  0.,  0.,  0.,  2.]),\n",
       " array([  0. ,  32.3,  64.6,  96.9, 129.2, 161.5, 193.8, 226.1, 258.4,\n",
       "        290.7, 323. ]),\n",
       " <BarContainer object of 10 artists>)"
      ]
     },
     "execution_count": 30,
     "metadata": {},
     "output_type": "execute_result"
    },
    {
     "data": {
      "image/png": "[encoded data removed]",
      "text/plain": [
       "<Figure size 640x480 with 1 Axes>"
      ]
     },
     "metadata": {},
     "output_type": "display_data"
    }
   ],
   "source": [
    "# absolute value \n",
    "hv_bw_clean_df['abs_bw_hv_date_diff_days'] = hv_bw_clean_df['bw_hv_date_diff_days'].abs()\n",
    "plt.hist(hv_bw_clean_df['abs_bw_hv_date_diff_days'])"
   ]
  },
  {
   "cell_type": "code",
   "execution_count": 31,
   "id": "567e2c15-a53e-4c3b-92ee-812401cf9c14",
   "metadata": {},
   "outputs": [
    {
     "data": {
      "text/html": [
       "<div>\n",
       "<style scoped>\n",
       "    .dataframe tbody tr th:only-of-type {\n",
       "        vertical-align: middle;\n",
       "    }\n",
       "\n",
       "    .dataframe tbody tr th {\n",
       "        vertical-align: top;\n",
       "    }\n",
       "\n",
       "    .dataframe thead th {\n",
       "        text-align: right;\n",
       "    }\n",
       "</style>\n",
       "<table border=\"1\" class=\"dataframe\">\n",
       "  <thead>\n",
       "    <tr style=\"text-align: right;\">\n",
       "      <th></th>\n",
       "      <th>count_date_diff</th>\n",
       "      <th>Median</th>\n",
       "      <th>IQR</th>\n",
       "      <th>Minimum</th>\n",
       "      <th>Maximum</th>\n",
       "    </tr>\n",
       "  </thead>\n",
       "  <tbody>\n",
       "    <tr>\n",
       "      <th>0</th>\n",
       "      <td>81</td>\n",
       "      <td>2.0</td>\n",
       "      <td>8.0</td>\n",
       "      <td>0</td>\n",
       "      <td>323</td>\n",
       "    </tr>\n",
       "  </tbody>\n",
       "</table>\n",
       "</div>"
      ],
      "text/plain": [
       "   count_date_diff  Median  IQR  Minimum  Maximum\n",
       "0               81     2.0  8.0        0      323"
      ]
     },
     "execution_count": 31,
     "metadata": {},
     "output_type": "execute_result"
    }
   ],
   "source": [
    "# median and IQR - not normally distributed \n",
    "\n",
    "hv_date_diff_df = pd.DataFrame(data = {\"count_date_diff\" : [hv_bw_clean_df['abs_bw_hv_date_diff_days'].count()], \n",
    "                                       \"Median\" : [hv_bw_clean_df['abs_bw_hv_date_diff_days'].median()], \n",
    "                                       \"IQR\" : [hv_bw_clean_df['abs_bw_hv_date_diff_days'].quantile(0.75) - hv_bw_clean_df['bw_hv_date_diff_days'].quantile(0.25)],\n",
    "                                      'Minimum': [hv_bw_clean_df['abs_bw_hv_date_diff_days'].min()],\n",
    "                                      'Maximum': [hv_bw_clean_df['abs_bw_hv_date_diff_days'].max()]})\n",
    "\n",
    "hv_date_diff_df.to_csv(os.path.join(out_path, 'hv_abs_date_diff_df.csv'))\n",
    "hv_date_diff_df"
   ]
  }
 ],
 "metadata": {
  "kernelspec": {
   "display_name": "venv_home_video_analysis_2",
   "language": "python",
   "name": "venv_home_video_analysis_2"
  },
  "language_info": {
   "codemirror_mode": {
    "name": "ipython",
    "version": 3
   },
   "file_extension": ".py",
   "mimetype": "text/x-python",
   "name": "python",
   "nbconvert_exporter": "python",
   "pygments_lexer": "ipython3",
   "version": "3.10.11"
  }
 },
 "nbformat": 4,
 "nbformat_minor": 5
}
