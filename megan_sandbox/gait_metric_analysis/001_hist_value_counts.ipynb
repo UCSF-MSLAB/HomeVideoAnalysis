{
 "cells": [
  {
   "cell_type": "code",
   "execution_count": 1,
   "id": "ee63339b-f393-44b4-90c6-ab825c8ab67e",
   "metadata": {},
   "outputs": [],
   "source": [
    "import pandas as pd \n",
    "import numpy as np\n",
    "import os \n",
    "import seaborn as sns \n",
    "import matplotlib.pyplot as plt "
   ]
  },
  {
   "cell_type": "markdown",
   "id": "f4c209bd-b6af-409a-a7a2-3243519136bb",
   "metadata": {},
   "source": [
    "## Set input and output folders "
   ]
  },
  {
   "cell_type": "code",
   "execution_count": 2,
   "id": "96d85729-40de-407d-8460-ff3d040277de",
   "metadata": {},
   "outputs": [],
   "source": [
    "# analysis folder version  \n",
    "analysis_version = '006'"
   ]
  },
  {
   "cell_type": "code",
   "execution_count": 3,
   "id": "a7cf858b-1354-4985-96da-9b3cb13cbd1c",
   "metadata": {},
   "outputs": [],
   "source": [
    "out_path = os.path.join(r'C:\\Users\\mmccu\\Box\\MM_Personal\\5_Projects\\BoveLab\\3_Data_and_Code\\gait_bw_zeno_home_analysis',\n",
    "                        analysis_version, \n",
    "                        '001_histograms_counts')\n",
    "\n",
    "if not os.path.exists(out_path): \n",
    "    os.makedirs(out_path)"
   ]
  },
  {
   "cell_type": "markdown",
   "id": "3b18a422-3d9a-4cbc-be60-69ae1375e74d",
   "metadata": {},
   "source": [
    "### Load Clean Data - no missing BW Data \n",
    "May be missing video data "
   ]
  },
  {
   "cell_type": "code",
   "execution_count": 4,
   "id": "4c5dcfd3-bff0-4aa5-850f-1a7cf9fdc742",
   "metadata": {},
   "outputs": [],
   "source": [
    "# PWS \n",
    "zv_pws_bw_clean_path = os.path.join(r'C:\\Users\\mmccu\\Box\\MM_Personal\\5_Projects\\BoveLab\\3_Data_and_Code\\gait_bw_zeno_home_analysis', \n",
    "                                    analysis_version, \n",
    "                                    '000_merged_cleaned_data\\zv_bw_merged_gait_vertical_PWS_1_clean.csv')\n",
    "\n",
    "zv_pws_bw_clean_df = pd.read_csv(zv_pws_bw_clean_path, index_col = 0)\n",
    "\n",
    "# FW \n",
    "zv_fw_bw_clean_path = os.path.join(r'C:\\Users\\mmccu\\Box\\MM_Personal\\5_Projects\\BoveLab\\3_Data_and_Code\\gait_bw_zeno_home_analysis', \n",
    "                                    analysis_version, \n",
    "                                   '000_merged_cleaned_data\\zv_bw_merged_gait_vertical_FW_1_clean.csv') \n",
    "zv_fw_bw_clean_df = pd.read_csv(zv_fw_bw_clean_path, index_col = 0) \n",
    "\n",
    "# Home Videos \n",
    "hv_bw_clean_path = os.path.join(r'C:\\Users\\mmccu\\Box\\MM_Personal\\5_Projects\\BoveLab\\3_Data_and_Code\\gait_bw_zeno_home_analysis', \n",
    "                                analysis_version, \n",
    "                                '000_merged_cleaned_data\\hv_bw_merged_clean.csv') \n",
    "\n",
    "hv_bw_clean_df = pd.read_csv(hv_bw_clean_path, index_col = 0) "
   ]
  },
  {
   "cell_type": "markdown",
   "id": "e75d771a-94a9-4d01-9283-bbd78c964eb0",
   "metadata": {},
   "source": [
    "## Function - count number of non-missing values in each column and plot histogram "
   ]
  },
  {
   "cell_type": "code",
   "execution_count": 5,
   "id": "df25dfe3-a87b-4529-988f-d7eb664c518a",
   "metadata": {},
   "outputs": [],
   "source": [
    "def hist_and_shapiro(df, out_path, task_subfolder): \n",
    "    \n",
    "    column_counts = [] # save number of non-missing values in each row \n",
    "    \n",
    "    histogram_folder = os.path.join(out_path, 'histograms', task_subfolder)\n",
    "    if not os.path.exists(histogram_folder):\n",
    "        os.makedirs(histogram_folder)\n",
    "    \n",
    "    for column in df.columns:\n",
    "        # count number of non missing columns \n",
    "        column_counts.append({'column_name' : column, \n",
    "                               'non_missing_rows' : df[column].count()})\n",
    "\n",
    "        # histogram of numeric values \n",
    "        if (df[column].dtype == 'float64') or (df[column].dtype == 'int64'):\n",
    "            # histogram \n",
    "            plt.figure(figsize=(8, 6))\n",
    "            plt.hist(df[column], bins = 30, color='skyblue', edgecolor='black')\n",
    "            plt.suptitle(task_subfolder) \n",
    "            plt.title(f'Histogram of {column}')\n",
    "            plt.xlabel(column)\n",
    "            plt.ylabel('Frequency')\n",
    "            plt.savefig(os.path.join(histogram_folder, f'{column}.png'))\n",
    "            plt.close()\n",
    "\n",
    "    column_counts_df = pd.DataFrame(column_counts) \n",
    "\n",
    "    return column_counts_df"
   ]
  },
  {
   "cell_type": "markdown",
   "id": "c2ef7afb-67f9-4836-bbfb-2144a72611b3",
   "metadata": {},
   "source": [
    "### Run histogram and counting functions "
   ]
  },
  {
   "cell_type": "code",
   "execution_count": 6,
   "id": "a96e55a3-532f-4edf-9426-55f28ce3f0f9",
   "metadata": {},
   "outputs": [],
   "source": [
    "# PWS \n",
    "zv_pws_bw_counts = hist_and_shapiro(zv_pws_bw_clean_df, out_path, 'zeno_pws')\n",
    "zv_pws_bw_counts.to_csv(os.path.join(out_path, 'zeno_pws_column_counts.csv')) "
   ]
  },
  {
   "cell_type": "code",
   "execution_count": 7,
   "id": "3118c15f-0d75-416f-8217-e12e7a066f66",
   "metadata": {},
   "outputs": [],
   "source": [
    "# FW \n",
    "zv_fw_bw_counts = hist_and_shapiro(zv_fw_bw_clean_df, out_path, 'zeno_fw')\n",
    "zv_fw_bw_counts.to_csv(os.path.join(out_path, 'zeno_fw_column_counts.csv'))"
   ]
  },
  {
   "cell_type": "code",
   "execution_count": 8,
   "id": "b293f0f5-903c-47cc-abe5-da2bcb0fa21e",
   "metadata": {},
   "outputs": [],
   "source": [
    "# Home Videos  \n",
    "hv_bw_counts = hist_and_shapiro(hv_bw_clean_df, out_path, 'home')\n",
    "hv_bw_counts.to_csv(os.path.join(out_path, 'home_column_counts.csv'))"
   ]
  },
  {
   "cell_type": "markdown",
   "id": "1fd8b307-50cd-46c8-a09a-ae0d18f14e85",
   "metadata": {},
   "source": [
    "### Number of unique IDs "
   ]
  },
  {
   "cell_type": "code",
   "execution_count": 10,
   "id": "3867fee2-6c73-412f-8a19-49ed0afb2827",
   "metadata": {},
   "outputs": [
    {
     "data": {
      "text/html": [
       "<div>\n",
       "<style scoped>\n",
       "    .dataframe tbody tr th:only-of-type {\n",
       "        vertical-align: middle;\n",
       "    }\n",
       "\n",
       "    .dataframe tbody tr th {\n",
       "        vertical-align: top;\n",
       "    }\n",
       "\n",
       "    .dataframe thead th {\n",
       "        text-align: right;\n",
       "    }\n",
       "</style>\n",
       "<table border=\"1\" class=\"dataframe\">\n",
       "  <thead>\n",
       "    <tr style=\"text-align: right;\">\n",
       "      <th></th>\n",
       "      <th>PWS</th>\n",
       "      <th>FW</th>\n",
       "      <th>Home</th>\n",
       "    </tr>\n",
       "  </thead>\n",
       "  <tbody>\n",
       "    <tr>\n",
       "      <th>0</th>\n",
       "      <td>154</td>\n",
       "      <td>154</td>\n",
       "      <td>31</td>\n",
       "    </tr>\n",
       "  </tbody>\n",
       "</table>\n",
       "</div>"
      ],
      "text/plain": [
       "   PWS   FW  Home\n",
       "0  154  154    31"
      ]
     },
     "execution_count": 10,
     "metadata": {},
     "output_type": "execute_result"
    }
   ],
   "source": [
    "unique_ids_df = pd.DataFrame(data = {\"PWS\" : [zv_pws_bw_clean_df['id_video'].nunique()], \n",
    "                                     \"FW\" : [zv_fw_bw_clean_df['id_video'].nunique()], \n",
    "                                     \"Home\" : [hv_bw_clean_df['id_video'].nunique()]}) \n",
    "unique_ids_df.to_csv(os.path.join(out_path, 'all_unique_id_counts.csv'))\n",
    "unique_ids_df"
   ]
  },
  {
   "cell_type": "markdown",
   "id": "3907499f-bda8-4a4a-b0b4-4af12a69ef22",
   "metadata": {},
   "source": [
    "### Breakdown by REDCap visit type "
   ]
  },
  {
   "cell_type": "code",
   "execution_count": 11,
   "id": "ec748e7b-cc1e-46ee-92ca-cd0582f8fbc7",
   "metadata": {},
   "outputs": [],
   "source": [
    "# PWS Videos \n",
    "pws_visit_types = pd.DataFrame(zv_pws_bw_clean_df['redcap_event_name'].value_counts())\n",
    "pws_visit_types.to_csv(os.path.join(out_path, 'zeno_pws_redcap_event_counts.csv')) \n",
    "\n",
    "# FW Videos \n",
    "fw_visit_types = pd.DataFrame(zv_fw_bw_clean_df['redcap_event_name'].value_counts())\n",
    "fw_visit_types.to_csv(os.path.join(out_path, 'zeno_fw_redcap_event_counts.csv')) \n",
    "\n",
    "# Home Videos  \n",
    "home_visit_types = pd.DataFrame(hv_bw_clean_df['redcap_event_name'].value_counts())\n",
    "home_visit_types.to_csv(os.path.join(out_path, 'home_redcap_event_counts.csv')) "
   ]
  },
  {
   "cell_type": "code",
   "execution_count": 12,
   "id": "463b2072-facf-4256-8aa3-453a0c0028a4",
   "metadata": {},
   "outputs": [
    {
     "data": {
      "text/html": [
       "<div>\n",
       "<style scoped>\n",
       "    .dataframe tbody tr th:only-of-type {\n",
       "        vertical-align: middle;\n",
       "    }\n",
       "\n",
       "    .dataframe tbody tr th {\n",
       "        vertical-align: top;\n",
       "    }\n",
       "\n",
       "    .dataframe thead th {\n",
       "        text-align: right;\n",
       "    }\n",
       "</style>\n",
       "<table border=\"1\" class=\"dataframe\">\n",
       "  <thead>\n",
       "    <tr style=\"text-align: right;\">\n",
       "      <th></th>\n",
       "      <th>count</th>\n",
       "    </tr>\n",
       "    <tr>\n",
       "      <th>redcap_event_name</th>\n",
       "      <th></th>\n",
       "    </tr>\n",
       "  </thead>\n",
       "  <tbody>\n",
       "    <tr>\n",
       "      <th>Brainwalk: Baseline visit (Arm 1: Baseline visit)</th>\n",
       "      <td>138</td>\n",
       "    </tr>\n",
       "    <tr>\n",
       "      <th>Year 2 Visit (Arm 1: Baseline visit)</th>\n",
       "      <td>78</td>\n",
       "    </tr>\n",
       "    <tr>\n",
       "      <th>Year 3 Visit (Arm 1: Baseline visit)</th>\n",
       "      <td>7</td>\n",
       "    </tr>\n",
       "    <tr>\n",
       "      <th>Year 4 Visit (Arm 1: Baseline visit)</th>\n",
       "      <td>1</td>\n",
       "    </tr>\n",
       "  </tbody>\n",
       "</table>\n",
       "</div>"
      ],
      "text/plain": [
       "                                                   count\n",
       "redcap_event_name                                       \n",
       "Brainwalk: Baseline visit (Arm 1: Baseline visit)    138\n",
       "Year 2 Visit (Arm 1: Baseline visit)                  78\n",
       "Year 3 Visit (Arm 1: Baseline visit)                   7\n",
       "Year 4 Visit (Arm 1: Baseline visit)                   1"
      ]
     },
     "execution_count": 12,
     "metadata": {},
     "output_type": "execute_result"
    }
   ],
   "source": [
    "pws_visit_types"
   ]
  },
  {
   "cell_type": "code",
   "execution_count": 13,
   "id": "4412e2a8-d3c2-4129-9c82-5403c5574622",
   "metadata": {},
   "outputs": [
    {
     "data": {
      "text/html": [
       "<div>\n",
       "<style scoped>\n",
       "    .dataframe tbody tr th:only-of-type {\n",
       "        vertical-align: middle;\n",
       "    }\n",
       "\n",
       "    .dataframe tbody tr th {\n",
       "        vertical-align: top;\n",
       "    }\n",
       "\n",
       "    .dataframe thead th {\n",
       "        text-align: right;\n",
       "    }\n",
       "</style>\n",
       "<table border=\"1\" class=\"dataframe\">\n",
       "  <thead>\n",
       "    <tr style=\"text-align: right;\">\n",
       "      <th></th>\n",
       "      <th>count</th>\n",
       "    </tr>\n",
       "    <tr>\n",
       "      <th>redcap_event_name</th>\n",
       "      <th></th>\n",
       "    </tr>\n",
       "  </thead>\n",
       "  <tbody>\n",
       "    <tr>\n",
       "      <th>Brainwalk: Baseline visit (Arm 1: Baseline visit)</th>\n",
       "      <td>139</td>\n",
       "    </tr>\n",
       "    <tr>\n",
       "      <th>Year 2 Visit (Arm 1: Baseline visit)</th>\n",
       "      <td>75</td>\n",
       "    </tr>\n",
       "    <tr>\n",
       "      <th>Year 3 Visit (Arm 1: Baseline visit)</th>\n",
       "      <td>7</td>\n",
       "    </tr>\n",
       "    <tr>\n",
       "      <th>Year 4 Visit (Arm 1: Baseline visit)</th>\n",
       "      <td>1</td>\n",
       "    </tr>\n",
       "  </tbody>\n",
       "</table>\n",
       "</div>"
      ],
      "text/plain": [
       "                                                   count\n",
       "redcap_event_name                                       \n",
       "Brainwalk: Baseline visit (Arm 1: Baseline visit)    139\n",
       "Year 2 Visit (Arm 1: Baseline visit)                  75\n",
       "Year 3 Visit (Arm 1: Baseline visit)                   7\n",
       "Year 4 Visit (Arm 1: Baseline visit)                   1"
      ]
     },
     "execution_count": 13,
     "metadata": {},
     "output_type": "execute_result"
    }
   ],
   "source": [
    "fw_visit_types"
   ]
  },
  {
   "cell_type": "code",
   "execution_count": 14,
   "id": "ef183d39-0b67-49fe-8be9-e56a17bb2e8c",
   "metadata": {},
   "outputs": [
    {
     "data": {
      "text/html": [
       "<div>\n",
       "<style scoped>\n",
       "    .dataframe tbody tr th:only-of-type {\n",
       "        vertical-align: middle;\n",
       "    }\n",
       "\n",
       "    .dataframe tbody tr th {\n",
       "        vertical-align: top;\n",
       "    }\n",
       "\n",
       "    .dataframe thead th {\n",
       "        text-align: right;\n",
       "    }\n",
       "</style>\n",
       "<table border=\"1\" class=\"dataframe\">\n",
       "  <thead>\n",
       "    <tr style=\"text-align: right;\">\n",
       "      <th></th>\n",
       "      <th>count</th>\n",
       "    </tr>\n",
       "    <tr>\n",
       "      <th>redcap_event_name</th>\n",
       "      <th></th>\n",
       "    </tr>\n",
       "  </thead>\n",
       "  <tbody>\n",
       "    <tr>\n",
       "      <th>Brainwalk: Baseline visit (Arm 1: Baseline visit)</th>\n",
       "      <td>38</td>\n",
       "    </tr>\n",
       "    <tr>\n",
       "      <th>Year 2 Visit (Arm 1: Baseline visit)</th>\n",
       "      <td>23</td>\n",
       "    </tr>\n",
       "    <tr>\n",
       "      <th>Year 3 Visit (Arm 1: Baseline visit)</th>\n",
       "      <td>4</td>\n",
       "    </tr>\n",
       "  </tbody>\n",
       "</table>\n",
       "</div>"
      ],
      "text/plain": [
       "                                                   count\n",
       "redcap_event_name                                       \n",
       "Brainwalk: Baseline visit (Arm 1: Baseline visit)     38\n",
       "Year 2 Visit (Arm 1: Baseline visit)                  23\n",
       "Year 3 Visit (Arm 1: Baseline visit)                   4"
      ]
     },
     "execution_count": 14,
     "metadata": {},
     "output_type": "execute_result"
    }
   ],
   "source": [
    "home_visit_types"
   ]
  },
  {
   "cell_type": "markdown",
   "id": "34f989af-faa6-4470-891f-1a702b9d2095",
   "metadata": {},
   "source": [
    "### Home videos - # of right vs left "
   ]
  },
  {
   "cell_type": "code",
   "execution_count": 15,
   "id": "7c63ee21-eaf1-4885-9285-52ba6be46e81",
   "metadata": {},
   "outputs": [
    {
     "data": {
      "text/html": [
       "<div>\n",
       "<style scoped>\n",
       "    .dataframe tbody tr th:only-of-type {\n",
       "        vertical-align: middle;\n",
       "    }\n",
       "\n",
       "    .dataframe tbody tr th {\n",
       "        vertical-align: top;\n",
       "    }\n",
       "\n",
       "    .dataframe thead th {\n",
       "        text-align: right;\n",
       "    }\n",
       "</style>\n",
       "<table border=\"1\" class=\"dataframe\">\n",
       "  <thead>\n",
       "    <tr style=\"text-align: right;\">\n",
       "      <th></th>\n",
       "      <th>count</th>\n",
       "    </tr>\n",
       "    <tr>\n",
       "      <th>task_pose_hv</th>\n",
       "      <th></th>\n",
       "    </tr>\n",
       "  </thead>\n",
       "  <tbody>\n",
       "    <tr>\n",
       "      <th>gait_vertical_right</th>\n",
       "      <td>33</td>\n",
       "    </tr>\n",
       "    <tr>\n",
       "      <th>gait_vertical_left</th>\n",
       "      <td>32</td>\n",
       "    </tr>\n",
       "  </tbody>\n",
       "</table>\n",
       "</div>"
      ],
      "text/plain": [
       "                     count\n",
       "task_pose_hv              \n",
       "gait_vertical_right     33\n",
       "gait_vertical_left      32"
      ]
     },
     "execution_count": 15,
     "metadata": {},
     "output_type": "execute_result"
    }
   ],
   "source": [
    "home_rightleft_df = pd.DataFrame(hv_bw_clean_df['task_pose_hv'].value_counts())\n",
    "home_rightleft_df.to_csv(os.path.join(out_path, 'home_right_left_counts.csv'))\n",
    "home_rightleft_df"
   ]
  },
  {
   "cell_type": "markdown",
   "id": "43e49f03-140b-4584-8d88-792de0f8b544",
   "metadata": {},
   "source": [
    "### Breakdown of participants with all vs any missing video metrics "
   ]
  },
  {
   "cell_type": "code",
   "execution_count": 1,
   "id": "56081b08-fbd8-4d20-a69d-6e2f17bd14dd",
   "metadata": {},
   "outputs": [],
   "source": [
    "# columns to check - video metrics \n",
    "subset_columns = ['delta_pix_h_rel_median_pose_zv', 'stride_time_median_sec_pose_zv',\n",
    "                  'mean_cadence_step_per_min_pose_zv', 'stride_width_median_cm_pose_zv', \n",
    "                  'singlesupport_per_median_pose_zv', 'singlesupport_time_sec_median_pose_zv', \n",
    "                  'stance_time_per_median_pose_zv', 'stance_time_sec_median_pose_zv', \n",
    "                  'swing_time_per_median_pose_zv', 'swing_time_sec_median_pose_zv', \n",
    "                  'tot_dsupport_per_median_pose_zv', 'tot_dsupport_time_sec_median_pose_zv']\n",
    "\n",
    "subset_columns_hv = ['delta_pix_h_rel_median_pose_hv', 'stride_time_median_sec_pose_hv',\n",
    "                     'mean_cadence_step_per_min_pose_hv', 'stride_width_median_cm_pose_hv',\n",
    "                     'singlesupport_per_median_pose_hv', 'singlesupport_time_sec_median_pose_hv', \n",
    "                     'stance_time_per_median_pose_hv', 'stance_time_sec_median_pose_hv', \n",
    "                     'swing_time_per_median_pose_hv', 'swing_time_sec_median_pose_hv', \n",
    "                     'tot_dsupport_per_median_pose_hv', 'tot_dsupport_time_sec_median_pose_hv'] "
   ]
  },
  {
   "cell_type": "code",
   "execution_count": 22,
   "id": "fb772ad2-48d6-4df6-8818-ea371c4ba7d9",
   "metadata": {},
   "outputs": [
    {
     "data": {
      "text/html": [
       "<div>\n",
       "<style scoped>\n",
       "    .dataframe tbody tr th:only-of-type {\n",
       "        vertical-align: middle;\n",
       "    }\n",
       "\n",
       "    .dataframe tbody tr th {\n",
       "        vertical-align: top;\n",
       "    }\n",
       "\n",
       "    .dataframe thead th {\n",
       "        text-align: right;\n",
       "    }\n",
       "</style>\n",
       "<table border=\"1\" class=\"dataframe\">\n",
       "  <thead>\n",
       "    <tr style=\"text-align: right;\">\n",
       "      <th></th>\n",
       "      <th>PWS</th>\n",
       "      <th>FW</th>\n",
       "      <th>Home</th>\n",
       "    </tr>\n",
       "  </thead>\n",
       "  <tbody>\n",
       "    <tr>\n",
       "      <th>0</th>\n",
       "      <td>178</td>\n",
       "      <td>189</td>\n",
       "      <td>56</td>\n",
       "    </tr>\n",
       "  </tbody>\n",
       "</table>\n",
       "</div>"
      ],
      "text/plain": [
       "   PWS   FW  Home\n",
       "0  178  189    56"
      ]
     },
     "execution_count": 22,
     "metadata": {},
     "output_type": "execute_result"
    }
   ],
   "source": [
    "# count videos that have all metrics calcualted \n",
    "pws_count_non_missing = len(zv_pws_bw_clean_df.dropna(subset = subset_columns))\n",
    "fws_count_non_missing = len(zv_fw_bw_clean_df.dropna(subset = subset_columns))\n",
    "home_count_non_missing = len(hv_bw_clean_df.dropna(subset = subset_columns_hv))\n",
    "\n",
    "non_missing_video_metrics_df = pd.DataFrame(data = {\"PWS\" : [pws_count_non_missing], \n",
    "                                                    \"FW\" : [fws_count_non_missing], \n",
    "                                                    \"Home\" : [home_count_non_missing]})\n",
    "\n",
    "non_missing_video_metrics_df.to_csv(os.path.join(out_path, 'all_non_missing_video_metrics_count.csv'))\n",
    "non_missing_video_metrics_df"
   ]
  }
 ],
 "metadata": {
  "kernelspec": {
   "display_name": "venv_home_video_analysis_2",
   "language": "python",
   "name": "venv_home_video_analysis_2"
  },
  "language_info": {
   "codemirror_mode": {
    "name": "ipython",
    "version": 3
   },
   "file_extension": ".py",
   "mimetype": "text/x-python",
   "name": "python",
   "nbconvert_exporter": "python",
   "pygments_lexer": "ipython3",
   "version": "3.10.11"
  }
 },
 "nbformat": 4,
 "nbformat_minor": 5
}
