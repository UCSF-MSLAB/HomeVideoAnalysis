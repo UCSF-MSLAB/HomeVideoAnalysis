{
 "cells": [
  {
   "cell_type": "code",
   "execution_count": 1,
   "id": "ef8fc451-3a11-4016-91b1-0f188e957f4f",
   "metadata": {},
   "outputs": [],
   "source": [
    "import pandas as pd \n",
    "import numpy as np\n",
    "import os \n",
    "import seaborn as sns \n",
    "import matplotlib.pyplot as plt "
   ]
  },
  {
   "cell_type": "markdown",
   "id": "846f12c0-0701-4687-94af-49f9d326223e",
   "metadata": {},
   "source": [
    "# Analysis goal \n",
    "Do people who improve over time on standard clinical measures also show changes in video metrics associated with outcomes?\n",
    "Clinical outcomes: T25FW and EDSS \n",
    "Video Metrics: pixel proxy and stride time from FW videos (most associated with T25FW from mixed effects models) "
   ]
  },
  {
   "cell_type": "markdown",
   "id": "fa515941-d4ba-45f4-9a22-5da79bd1aaaf",
   "metadata": {},
   "source": [
    "# Output folders "
   ]
  },
  {
   "cell_type": "code",
   "execution_count": 2,
   "id": "57f08bf8-8ea5-48af-8ad2-dbbda97d81ab",
   "metadata": {},
   "outputs": [],
   "source": [
    "# analysis folder version  \n",
    "analysis_version = '011'"
   ]
  },
  {
   "cell_type": "code",
   "execution_count": 3,
   "id": "a207c6b3-7734-4abb-a93d-76fa3db04b22",
   "metadata": {},
   "outputs": [],
   "source": [
    "out_path = os.path.join(r'C:\\Users\\mmccu\\Box\\MM_Personal\\5_Projects\\BoveLab\\3_Data_and_Code\\gait_bw_zeno_home_analysis',\n",
    "                        analysis_version, \n",
    "                        '006_longitudinal')\n",
    "\n",
    "if not os.path.exists(out_path): \n",
    "    os.makedirs(out_path)"
   ]
  },
  {
   "cell_type": "markdown",
   "id": "4c021635-a4ee-4202-8426-59d169d7ca6b",
   "metadata": {},
   "source": [
    "# Load FW data "
   ]
  },
  {
   "cell_type": "code",
   "execution_count": 4,
   "id": "55ff3db8-d510-45d3-9e56-88aca58698ad",
   "metadata": {},
   "outputs": [
    {
     "data": {
      "text/html": [
       "<div>\n",
       "<style scoped>\n",
       "    .dataframe tbody tr th:only-of-type {\n",
       "        vertical-align: middle;\n",
       "    }\n",
       "\n",
       "    .dataframe tbody tr th {\n",
       "        vertical-align: top;\n",
       "    }\n",
       "\n",
       "    .dataframe thead th {\n",
       "        text-align: right;\n",
       "    }\n",
       "</style>\n",
       "<table border=\"1\" class=\"dataframe\">\n",
       "  <thead>\n",
       "    <tr style=\"text-align: right;\">\n",
       "      <th></th>\n",
       "      <th>video_id_date_name_pose_zv</th>\n",
       "      <th>id_date_pose_zv</th>\n",
       "      <th>task_pose_zv</th>\n",
       "      <th>frames_per_second_pose_zv</th>\n",
       "      <th>total_video_duration_sec_pose_zv</th>\n",
       "      <th>delta_pix_h_rel_median_pose_zv</th>\n",
       "      <th>walking_segmets_n_pose_zv</th>\n",
       "      <th>walking_segments_duration_mean_pose_zv</th>\n",
       "      <th>walking_segments_duration_median_pose_zv</th>\n",
       "      <th>stride_time_num_strides_pose_zv</th>\n",
       "      <th>...</th>\n",
       "      <th>cadence_high_error</th>\n",
       "      <th>stride_width_high_error</th>\n",
       "      <th>ssupport_high_error</th>\n",
       "      <th>dsupport_high_error</th>\n",
       "      <th>metric_notes</th>\n",
       "      <th>potential fixes</th>\n",
       "      <th>correct_person_pixel.1</th>\n",
       "      <th>multiple_people_YN</th>\n",
       "      <th>multiple_people_3</th>\n",
       "      <th>assistive_device_YN</th>\n",
       "    </tr>\n",
       "  </thead>\n",
       "  <tbody>\n",
       "    <tr>\n",
       "      <th>1</th>\n",
       "      <td>gait_vertical_FW_1_BW-0002_2023_09_12</td>\n",
       "      <td>BW-0002\\2023_09_12</td>\n",
       "      <td>gait_vertical_FW_1</td>\n",
       "      <td>30</td>\n",
       "      <td>36.500000</td>\n",
       "      <td>0.24</td>\n",
       "      <td>3.0</td>\n",
       "      <td>4.57</td>\n",
       "      <td>5.20</td>\n",
       "      <td>14.0</td>\n",
       "      <td>...</td>\n",
       "      <td>NaN</td>\n",
       "      <td>NaN</td>\n",
       "      <td>NaN</td>\n",
       "      <td>NaN</td>\n",
       "      <td>NaN</td>\n",
       "      <td>NaN</td>\n",
       "      <td>NaN</td>\n",
       "      <td>Y</td>\n",
       "      <td>Group_1</td>\n",
       "      <td>N</td>\n",
       "    </tr>\n",
       "    <tr>\n",
       "      <th>2</th>\n",
       "      <td>gait_vertical_FW_1_BW-0003_2022_10_24</td>\n",
       "      <td>BW-0003\\2022_10_24</td>\n",
       "      <td>gait_vertical_FW_1</td>\n",
       "      <td>30</td>\n",
       "      <td>28.233333</td>\n",
       "      <td>0.23</td>\n",
       "      <td>1.0</td>\n",
       "      <td>2.33</td>\n",
       "      <td>2.33</td>\n",
       "      <td>0.0</td>\n",
       "      <td>...</td>\n",
       "      <td>Y</td>\n",
       "      <td>N</td>\n",
       "      <td>N</td>\n",
       "      <td>N</td>\n",
       "      <td>only one stride in short segment identified\\n\\...</td>\n",
       "      <td>one peak not identified - not high enough peak...</td>\n",
       "      <td>NaN</td>\n",
       "      <td>N</td>\n",
       "      <td>N</td>\n",
       "      <td>N</td>\n",
       "    </tr>\n",
       "    <tr>\n",
       "      <th>4</th>\n",
       "      <td>gait_vertical_FW_1_BW-0006_2022_09_26</td>\n",
       "      <td>BW-0006\\2022_09_26</td>\n",
       "      <td>gait_vertical_FW_1</td>\n",
       "      <td>30</td>\n",
       "      <td>24.966667</td>\n",
       "      <td>0.35</td>\n",
       "      <td>2.0</td>\n",
       "      <td>2.87</td>\n",
       "      <td>2.87</td>\n",
       "      <td>4.0</td>\n",
       "      <td>...</td>\n",
       "      <td>NaN</td>\n",
       "      <td>NaN</td>\n",
       "      <td>NaN</td>\n",
       "      <td>NaN</td>\n",
       "      <td>NaN</td>\n",
       "      <td>NaN</td>\n",
       "      <td>NaN</td>\n",
       "      <td>Y</td>\n",
       "      <td>Group_1</td>\n",
       "      <td>N</td>\n",
       "    </tr>\n",
       "    <tr>\n",
       "      <th>5</th>\n",
       "      <td>gait_vertical_FW_1_BW-0007_2022_09_27</td>\n",
       "      <td>BW-0007\\2022_09_27</td>\n",
       "      <td>gait_vertical_FW_1</td>\n",
       "      <td>30</td>\n",
       "      <td>22.633333</td>\n",
       "      <td>0.44</td>\n",
       "      <td>2.0</td>\n",
       "      <td>3.83</td>\n",
       "      <td>3.83</td>\n",
       "      <td>9.0</td>\n",
       "      <td>...</td>\n",
       "      <td>NaN</td>\n",
       "      <td>NaN</td>\n",
       "      <td>NaN</td>\n",
       "      <td>NaN</td>\n",
       "      <td>NaN</td>\n",
       "      <td>NaN</td>\n",
       "      <td>NaN</td>\n",
       "      <td>N</td>\n",
       "      <td>N</td>\n",
       "      <td>N</td>\n",
       "    </tr>\n",
       "    <tr>\n",
       "      <th>6</th>\n",
       "      <td>gait_vertical_FW_1_BW-0007_2024_06_10</td>\n",
       "      <td>BW-0007\\2024_06_10</td>\n",
       "      <td>gait_vertical_FW_1</td>\n",
       "      <td>30</td>\n",
       "      <td>23.000000</td>\n",
       "      <td>0.28</td>\n",
       "      <td>4.0</td>\n",
       "      <td>3.76</td>\n",
       "      <td>4.02</td>\n",
       "      <td>17.0</td>\n",
       "      <td>...</td>\n",
       "      <td>NaN</td>\n",
       "      <td>NaN</td>\n",
       "      <td>NaN</td>\n",
       "      <td>NaN</td>\n",
       "      <td>NaN</td>\n",
       "      <td>NaN</td>\n",
       "      <td>NaN</td>\n",
       "      <td>N</td>\n",
       "      <td>N</td>\n",
       "      <td>N</td>\n",
       "    </tr>\n",
       "  </tbody>\n",
       "</table>\n",
       "<p>5 rows × 133 columns</p>\n",
       "</div>"
      ],
      "text/plain": [
       "              video_id_date_name_pose_zv     id_date_pose_zv  \\\n",
       "1  gait_vertical_FW_1_BW-0002_2023_09_12  BW-0002\\2023_09_12   \n",
       "2  gait_vertical_FW_1_BW-0003_2022_10_24  BW-0003\\2022_10_24   \n",
       "4  gait_vertical_FW_1_BW-0006_2022_09_26  BW-0006\\2022_09_26   \n",
       "5  gait_vertical_FW_1_BW-0007_2022_09_27  BW-0007\\2022_09_27   \n",
       "6  gait_vertical_FW_1_BW-0007_2024_06_10  BW-0007\\2024_06_10   \n",
       "\n",
       "         task_pose_zv  frames_per_second_pose_zv  \\\n",
       "1  gait_vertical_FW_1                         30   \n",
       "2  gait_vertical_FW_1                         30   \n",
       "4  gait_vertical_FW_1                         30   \n",
       "5  gait_vertical_FW_1                         30   \n",
       "6  gait_vertical_FW_1                         30   \n",
       "\n",
       "   total_video_duration_sec_pose_zv  delta_pix_h_rel_median_pose_zv  \\\n",
       "1                         36.500000                            0.24   \n",
       "2                         28.233333                            0.23   \n",
       "4                         24.966667                            0.35   \n",
       "5                         22.633333                            0.44   \n",
       "6                         23.000000                            0.28   \n",
       "\n",
       "   walking_segmets_n_pose_zv  walking_segments_duration_mean_pose_zv  \\\n",
       "1                        3.0                                    4.57   \n",
       "2                        1.0                                    2.33   \n",
       "4                        2.0                                    2.87   \n",
       "5                        2.0                                    3.83   \n",
       "6                        4.0                                    3.76   \n",
       "\n",
       "   walking_segments_duration_median_pose_zv  stride_time_num_strides_pose_zv  \\\n",
       "1                                      5.20                             14.0   \n",
       "2                                      2.33                              0.0   \n",
       "4                                      2.87                              4.0   \n",
       "5                                      3.83                              9.0   \n",
       "6                                      4.02                             17.0   \n",
       "\n",
       "   ...  cadence_high_error  stride_width_high_error  ssupport_high_error  \\\n",
       "1  ...                 NaN                      NaN                  NaN   \n",
       "2  ...                   Y                        N                    N   \n",
       "4  ...                 NaN                      NaN                  NaN   \n",
       "5  ...                 NaN                      NaN                  NaN   \n",
       "6  ...                 NaN                      NaN                  NaN   \n",
       "\n",
       "   dsupport_high_error                                       metric_notes  \\\n",
       "1                  NaN                                                NaN   \n",
       "2                    N  only one stride in short segment identified\\n\\...   \n",
       "4                  NaN                                                NaN   \n",
       "5                  NaN                                                NaN   \n",
       "6                  NaN                                                NaN   \n",
       "\n",
       "                                     potential fixes  correct_person_pixel.1  \\\n",
       "1                                                NaN                     NaN   \n",
       "2  one peak not identified - not high enough peak...                     NaN   \n",
       "4                                                NaN                     NaN   \n",
       "5                                                NaN                     NaN   \n",
       "6                                                NaN                     NaN   \n",
       "\n",
       "   multiple_people_YN  multiple_people_3  assistive_device_YN  \n",
       "1                   Y            Group_1                    N  \n",
       "2                   N                  N                    N  \n",
       "4                   Y            Group_1                    N  \n",
       "5                   N                  N                    N  \n",
       "6                   N                  N                    N  \n",
       "\n",
       "[5 rows x 133 columns]"
      ]
     },
     "execution_count": 4,
     "metadata": {},
     "output_type": "execute_result"
    }
   ],
   "source": [
    "# FW \n",
    "zv_fw_bw_clean_path = os.path.join(r'C:\\Users\\mmccu\\Box\\MM_Personal\\5_Projects\\BoveLab\\3_Data_and_Code\\gait_bw_zeno_home_analysis', \n",
    "                                    analysis_version, \n",
    "                                   '000_merged_cleaned_data\\zv_bw_merged_gait_vertical_FW_1_clean.csv') \n",
    "zv_fw_bw_df = pd.read_csv(zv_fw_bw_clean_path, index_col = 0) \n",
    "zv_fw_bw_df.head()"
   ]
  },
  {
   "cell_type": "code",
   "execution_count": 5,
   "id": "6bdd77fd-5441-4638-979c-74484ef9bebb",
   "metadata": {},
   "outputs": [
    {
     "data": {
      "text/plain": [
       "176"
      ]
     },
     "execution_count": 5,
     "metadata": {},
     "output_type": "execute_result"
    }
   ],
   "source": [
    "# Number Videos \n",
    "len(zv_fw_bw_df)"
   ]
  },
  {
   "cell_type": "code",
   "execution_count": 6,
   "id": "f7d70d5e-cb79-49a3-9272-f02ca01eba0e",
   "metadata": {},
   "outputs": [
    {
     "name": "stdout",
     "output_type": "stream",
     "text": [
      "125\n"
     ]
    }
   ],
   "source": [
    "# Number participants \n",
    "print(zv_fw_bw_df['id_video'].nunique())"
   ]
  },
  {
   "cell_type": "markdown",
   "id": "8435309e-49d3-4529-994a-c7f7380cdb0b",
   "metadata": {},
   "source": [
    "# Filter to only include participants with multiple visits\n",
    "Can be any timepoint, not just baseline and year 2 follow up"
   ]
  },
  {
   "cell_type": "code",
   "execution_count": 7,
   "id": "ed11235c-ad64-4690-8904-4f0756a73967",
   "metadata": {},
   "outputs": [
    {
     "data": {
      "text/html": [
       "<div>\n",
       "<style scoped>\n",
       "    .dataframe tbody tr th:only-of-type {\n",
       "        vertical-align: middle;\n",
       "    }\n",
       "\n",
       "    .dataframe tbody tr th {\n",
       "        vertical-align: top;\n",
       "    }\n",
       "\n",
       "    .dataframe thead th {\n",
       "        text-align: right;\n",
       "    }\n",
       "</style>\n",
       "<table border=\"1\" class=\"dataframe\">\n",
       "  <thead>\n",
       "    <tr style=\"text-align: right;\">\n",
       "      <th></th>\n",
       "      <th>FW_single_visit</th>\n",
       "      <th>FW_multiple_visits</th>\n",
       "    </tr>\n",
       "  </thead>\n",
       "  <tbody>\n",
       "    <tr>\n",
       "      <th>0</th>\n",
       "      <td>74</td>\n",
       "      <td>51</td>\n",
       "    </tr>\n",
       "  </tbody>\n",
       "</table>\n",
       "</div>"
      ],
      "text/plain": [
       "   FW_single_visit  FW_multiple_visits\n",
       "0               74                  51"
      ]
     },
     "execution_count": 7,
     "metadata": {},
     "output_type": "execute_result"
    }
   ],
   "source": [
    "# Number of participants with single vs multiple visits \n",
    "pd.DataFrame(data = { \"FW_single_visit\" : [(zv_fw_bw_df['bw_id'].value_counts() == 1).sum()], \n",
    "                     \"FW_multiple_visits\" : [zv_fw_bw_df['bw_id'][zv_fw_bw_df['bw_id'].duplicated()].nunique()]})"
   ]
  },
  {
   "cell_type": "code",
   "execution_count": 8,
   "id": "07df70ae-b073-4225-a108-85bb3736cc49",
   "metadata": {},
   "outputs": [
    {
     "data": {
      "text/html": [
       "<div>\n",
       "<style scoped>\n",
       "    .dataframe tbody tr th:only-of-type {\n",
       "        vertical-align: middle;\n",
       "    }\n",
       "\n",
       "    .dataframe tbody tr th {\n",
       "        vertical-align: top;\n",
       "    }\n",
       "\n",
       "    .dataframe thead th {\n",
       "        text-align: right;\n",
       "    }\n",
       "</style>\n",
       "<table border=\"1\" class=\"dataframe\">\n",
       "  <thead>\n",
       "    <tr style=\"text-align: right;\">\n",
       "      <th></th>\n",
       "      <th>FW_single_visit</th>\n",
       "      <th>FW_multiple_visits</th>\n",
       "    </tr>\n",
       "  </thead>\n",
       "  <tbody>\n",
       "    <tr>\n",
       "      <th>0</th>\n",
       "      <td>76</td>\n",
       "      <td>40</td>\n",
       "    </tr>\n",
       "  </tbody>\n",
       "</table>\n",
       "</div>"
      ],
      "text/plain": [
       "   FW_single_visit  FW_multiple_visits\n",
       "0               76                  40"
      ]
     },
     "execution_count": 8,
     "metadata": {},
     "output_type": "execute_result"
    }
   ],
   "source": [
    "# filter to only include visits with both delta pixel and stride time \n",
    "zv_fw_bw_df_w_metrics = zv_fw_bw_df.dropna(subset = ['delta_pix_h_rel_median_pose_zv',\n",
    "                                                     'stride_time_median_sec_pose_zv'])\n",
    "\n",
    "\n",
    "pd.DataFrame(data = {\"FW_single_visit\" : [(zv_fw_bw_df_w_metrics['bw_id'].value_counts() == 1).sum()], \n",
    "                     \"FW_multiple_visits\" : [zv_fw_bw_df_w_metrics['bw_id'][zv_fw_bw_df_w_metrics['bw_id'].duplicated()].nunique()]})\n",
    "\n"
   ]
  },
  {
   "cell_type": "code",
   "execution_count": 9,
   "id": "71a4a4ec-c1be-4a37-bef4-55138e759b50",
   "metadata": {},
   "outputs": [
    {
     "data": {
      "text/plain": [
       "redcap_event_name\n",
       "Brainwalk: Baseline visit (Arm 1: Baseline visit)    85\n",
       "Year 2 Visit (Arm 1: Baseline visit)                 61\n",
       "Year 3 Visit (Arm 1: Baseline visit)                  9\n",
       "Year 4 Visit (Arm 1: Baseline visit)                  1\n",
       "Name: count, dtype: int64"
      ]
     },
     "execution_count": 9,
     "metadata": {},
     "output_type": "execute_result"
    }
   ],
   "source": [
    "zv_fw_bw_df_w_metrics['redcap_event_name'].value_counts()"
   ]
  },
  {
   "cell_type": "code",
   "execution_count": 10,
   "id": "57cf84b7-f54a-4b63-b388-ca6fe8433eb0",
   "metadata": {},
   "outputs": [],
   "source": [
    "# select videos with delta and stride time that are either baseline or year 2 visits  \n",
    "#base_yr_2 = ['Brainwalk: Baseline visit (Arm 1: Baseline visit)', 'Year 2 Visit (Arm 1: Baseline visit)']\n",
    "#fw_base_yr2_all_df = zv_fw_bw_df_w_metrics.loc[zv_fw_bw_df_w_metrics['redcap_event_name'].isin(base_yr_2)]\n",
    "# number videos \n",
    "#print(f\"number videos: {len(fw_base_yr2_all_df)}\")\n",
    "#fw_base_yr2_all_df['redcap_event_name'].value_counts()"
   ]
  },
  {
   "cell_type": "code",
   "execution_count": 11,
   "id": "5c693436-e982-4c69-bf15-8511fb8cb79a",
   "metadata": {},
   "outputs": [
    {
     "name": "stdout",
     "output_type": "stream",
     "text": [
      "redcap_event_name\n",
      "Year 2 Visit (Arm 1: Baseline visit)                 37\n",
      "Brainwalk: Baseline visit (Arm 1: Baseline visit)    35\n",
      "Year 3 Visit (Arm 1: Baseline visit)                  7\n",
      "Year 4 Visit (Arm 1: Baseline visit)                  1\n",
      "Name: count, dtype: int64\n"
     ]
    }
   ],
   "source": [
    "# select participants with duplicate visits (have both a baseline and year 1 visit)\n",
    "zv_fw_bw_df_w_metrics = zv_fw_bw_df_w_metrics.loc[zv_fw_bw_df_w_metrics['bw_id'].duplicated(keep = False)]\n",
    "\n",
    "#print('number redcap events - expect to be equal')\n",
    "print(zv_fw_bw_df_w_metrics['redcap_event_name'].value_counts())\n",
    "\n",
    "zv_fw_bw_df_w_metrics.to_csv(os.path.join(out_path, 'fw_base_yr2_1_all.csv')) "
   ]
  },
  {
   "cell_type": "markdown",
   "id": "9bdeff95-d3a4-4a46-a70b-c50f0ebd1904",
   "metadata": {},
   "source": [
    "# next stats steps in R\n",
    "paired t-test, minimal signficiant difference, etc "
   ]
  }
 ],
 "metadata": {
  "kernelspec": {
   "display_name": "venv_home_video_analysis_2",
   "language": "python",
   "name": "venv_home_video_analysis_2"
  },
  "language_info": {
   "codemirror_mode": {
    "name": "ipython",
    "version": 3
   },
   "file_extension": ".py",
   "mimetype": "text/x-python",
   "name": "python",
   "nbconvert_exporter": "python",
   "pygments_lexer": "ipython3",
   "version": "3.10.11"
  }
 },
 "nbformat": 4,
 "nbformat_minor": 5
}
