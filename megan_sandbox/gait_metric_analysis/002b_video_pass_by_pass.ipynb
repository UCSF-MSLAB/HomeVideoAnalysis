{
 "cells": [
  {
   "cell_type": "code",
   "execution_count": 1,
   "id": "b291a851-9759-4141-845c-944bf3155794",
   "metadata": {},
   "outputs": [],
   "source": [
    "import pandas as pd \n",
    "import numpy as np\n",
    "import os "
   ]
  },
  {
   "cell_type": "markdown",
   "id": "dd2b9e91-0b6b-4e59-9d34-8a13efba51f2",
   "metadata": {},
   "source": [
    "# Function "
   ]
  },
  {
   "cell_type": "code",
   "execution_count": 2,
   "id": "88274ca4-0f0d-4252-84c1-216bb05ac650",
   "metadata": {},
   "outputs": [],
   "source": [
    "def calc_stride_time_diff(stride_time_path, filename): \n",
    "    df = pd.read_csv(stride_time_path, index_col = 0) \n",
    "    df = df.reset_index(drop = True)\n",
    "\n",
    "    # number of walks \n",
    "    num_walks = len(df)\n",
    "\n",
    "    if num_walks > 1: \n",
    "        # calculate diff between first and last walk \n",
    "        first_walk_median_stride_time = df['stride_time_all_strides_median_sec'].iloc[0]\n",
    "        last_walk_median_stride_time = df['stride_time_all_strides_median_sec'].iloc[-1]\n",
    "\n",
    "        median_stride_time_diff = last_walk_median_stride_time - first_walk_median_stride_time\n",
    "\n",
    "        stride_time_df = pd.DataFrame(data = {'filename': [filename], \n",
    "                                              'stride_time_num_walks' : [num_walks], \n",
    "                                              'median_stride_time_diff' : [median_stride_time_diff]}) \n",
    "    else: \n",
    "        stride_time_df = pd.DataFrame(data = {'filename': [filename], \n",
    "                                              'stride_time_num_walks' : [np.nan], \n",
    "                                              'median_stride_time_diff' : [np.nan]}) \n",
    "\n",
    "    return stride_time_df"
   ]
  },
  {
   "cell_type": "code",
   "execution_count": 3,
   "id": "41848083-6b5f-4268-9f0b-781fe9946864",
   "metadata": {},
   "outputs": [],
   "source": [
    "def calc_cadence_diff(cadence_path, filename): \n",
    "    df = pd.read_csv(cadence_path, index_col = 0) \n",
    "    df = df.reset_index(drop = True)\n",
    "\n",
    "    # number of walks \n",
    "    num_walks = len(df)\n",
    "\n",
    "    if num_walks > 1: \n",
    "        # calculate diff between first and last walk \n",
    "        first_walk_cadence = df['cadence_step_per_min'].iloc[0]\n",
    "        last_walk_cadence = df['cadence_step_per_min'].iloc[-1]\n",
    "\n",
    "        cadence_diff = last_walk_cadence - first_walk_cadence\n",
    "\n",
    "        cadence_df = pd.DataFrame(data = {'filename': [filename], \n",
    "                                          'cadence_num_walks' : [num_walks], \n",
    "                                          'mean_cadence_diff' : [cadence_diff]})\n",
    "    # if only one walk - no first and last \n",
    "    else: \n",
    "        cadence_df = pd.DataFrame(data = {'filename': [filename], \n",
    "                                          'cadence_num_walks' : [np.nan], \n",
    "                                          'mean_cadence_diff' : [np.nan]})\n",
    "\n",
    "    return cadence_df"
   ]
  },
  {
   "cell_type": "code",
   "execution_count": 4,
   "id": "08467c0b-bbed-48fe-b39a-608922d6e19b",
   "metadata": {},
   "outputs": [],
   "source": [
    "def calc_stride_width_diff(stride_width_path, filename): \n",
    "    df = pd.read_csv(stride_width_path, index_col = 0) \n",
    "    df = df.reset_index(drop = True)\n",
    "    \n",
    "    # number of walks \n",
    "    num_walks = len(df)\n",
    "\n",
    "    if num_walks > 1: \n",
    "        # calculate diff between first and last walk \n",
    "        first_walk_median_stride_width = df['stride_width_median_cm'].iloc[0]\n",
    "        last_walk_median_stride_width = df['stride_width_median_cm'].iloc[-1]\n",
    "\n",
    "        median_stride_width_diff = last_walk_median_stride_width - first_walk_median_stride_width\n",
    "\n",
    "        stride_width_df = pd.DataFrame(data = {'filename': [filename], \n",
    "                                               'stride_width_num_walks' : [num_walks], \n",
    "                                              'median_stride_width_diff' : [median_stride_width_diff]}) \n",
    "\n",
    "    else: \n",
    "       stride_width_df = pd.DataFrame(data = {'filename': [filename],\n",
    "                                              'stride_width_num_walks' : [np.nan], \n",
    "                                              'median_stride_width_diff' : [np.nan]})\n",
    "\n",
    "    return stride_width_df"
   ]
  },
  {
   "cell_type": "markdown",
   "id": "fdd3fece-a567-435a-a43a-0975e27febce",
   "metadata": {},
   "source": [
    "# Load data and set output folders "
   ]
  },
  {
   "cell_type": "code",
   "execution_count": 5,
   "id": "4e2adcea-1f42-4cf9-8c66-5337ec1abae4",
   "metadata": {},
   "outputs": [],
   "source": [
    "# analysis folder version  \n",
    "analysis_version = '005'\n",
    "\n",
    "# metric version \n",
    "version = '004' "
   ]
  },
  {
   "cell_type": "code",
   "execution_count": 6,
   "id": "f898c01f-ad6c-445a-a6d6-3731399674f5",
   "metadata": {},
   "outputs": [],
   "source": [
    "out_path = os.path.join(r'C:\\Users\\mmccu\\Box\\MM_Personal\\5_Projects\\BoveLab\\3_Data_and_Code\\gait_bw_zeno_home_analysis',\n",
    "                        analysis_version, \n",
    "                        '002_video_vs_mat_metrics', \n",
    "                        'b_video_pass_by_pass', \n",
    "                        'MS_only')\n",
    "\n",
    "if not os.path.exists(out_path): \n",
    "    os.makedirs(out_path)"
   ]
  },
  {
   "cell_type": "code",
   "execution_count": 7,
   "id": "32394608-a509-4932-8ba9-6331d6ae4cb6",
   "metadata": {},
   "outputs": [
    {
     "name": "stdout",
     "output_type": "stream",
     "text": [
      "C:\\Users\\mmccu\\Box\\MM_Personal\\5_Projects\\BoveLab\\3_Data_and_Code\\gait_bw_zeno_outputs_004\n"
     ]
    }
   ],
   "source": [
    "# folder with video metrics pass by pass \n",
    "# zeno video metrics \n",
    "zv_path = os.path.join(r'C:\\Users\\mmccu\\Box\\MM_Personal\\5_Projects\\BoveLab\\3_Data_and_Code',\n",
    "                       'gait_bw_zeno_outputs_' + version)\n",
    "\n",
    "print(zv_path)"
   ]
  },
  {
   "cell_type": "markdown",
   "id": "cc3f5d78-16d5-4e45-b8ed-e8a2a187815e",
   "metadata": {},
   "source": [
    "# Calculate difference between first and last pass "
   ]
  },
  {
   "cell_type": "code",
   "execution_count": 8,
   "id": "234e2a33-f191-4bfa-92d8-3361222a526a",
   "metadata": {},
   "outputs": [],
   "source": [
    "all_stride_time_diffs = [] \n",
    "all_cadence_diffs = []\n",
    "all_stride_width_diffs = [] \n",
    "\n",
    "for (dir_path, dir_names, file_names) in os.walk(zv_path):\n",
    "    \n",
    "    for file_name in file_names: \n",
    "        name, ext = os.path.splitext(file_name)\n",
    "        ext = ext.lower()[1:]\n",
    "        current_in_path = os.path.join(dir_path, file_name) # full path to files \n",
    "        \n",
    "        # calculate diff for each metric - first to last walk \n",
    "        # stride Time \n",
    "        if (ext == 'csv') & ('stride_time_stats_per_walk' in current_in_path): \n",
    "            stride_time_diff = calc_stride_time_diff(current_in_path, name)\n",
    "            all_stride_time_diffs = all_stride_time_diffs + [stride_time_diff]\n",
    "            \n",
    "        # cadence \n",
    "        if (ext == 'csv') & ('cadence_per_walk' in current_in_path):\n",
    "            cadence_diff = calc_cadence_diff(current_in_path, name)\n",
    "            all_cadence_diffs = all_cadence_diffs + [cadence_diff]\n",
    "            \n",
    "        # stride width \n",
    "        if (ext == 'csv') & ('stride_width_stats_per_walk' in current_in_path): \n",
    "            stride_width_diff = calc_stride_width_diff(current_in_path, name)\n",
    "            all_stride_width_diffs = all_stride_width_diffs + [stride_width_diff] \n",
    "            \n",
    "        # support metrics ----------------------------------------\n",
    "        # add support metrics after updating script - TBD if will be using all metrics \n",
    "        # if (ext == 'csv') & ('support_metrics_per_walk' in current_in_path):\n",
    "        # ------------------------------------------- "
   ]
  },
  {
   "cell_type": "code",
   "execution_count": 9,
   "id": "5ca02ef2-7ec6-4ea4-bcd4-975308303ec8",
   "metadata": {},
   "outputs": [],
   "source": [
    "# create data frames and save \n",
    "all_stride_time_diffs_df = pd.concat(all_stride_time_diffs, ignore_index = True)\n",
    "all_stride_time_diffs_df.to_csv(os.path.join(out_path, 'all_stride_time_diffs.csv')) \n",
    "                                \n",
    "all_cadence_diffs_df = pd.concat(all_cadence_diffs, ignore_index = True)\n",
    "all_cadence_diffs_df.to_csv(os.path.join(out_path, 'all_cadence_diffs.csv')) \n",
    "\n",
    "all_stride_width_diffs_df = pd.concat(all_stride_width_diffs, ignore_index = True)\n",
    "all_stride_width_diffs_df.to_csv(os.path.join(out_path, 'all_stride_width_diffs.csv')) "
   ]
  },
  {
   "cell_type": "code",
   "execution_count": 10,
   "id": "e11a3939-dace-4674-8128-aa0e0f29f10b",
   "metadata": {},
   "outputs": [
    {
     "ename": "NameError",
     "evalue": "name 'pws_stride_time_diffs_df' is not defined",
     "output_type": "error",
     "traceback": [
      "\u001b[1;31m---------------------------------------------------------------------------\u001b[0m",
      "\u001b[1;31mNameError\u001b[0m                                 Traceback (most recent call last)",
      "Cell \u001b[1;32mIn[10], line 5\u001b[0m\n\u001b[0;32m      1\u001b[0m \u001b[38;5;66;03m# Preferred Walking Speed \u001b[39;00m\n\u001b[0;32m      2\u001b[0m \n\u001b[0;32m      3\u001b[0m \u001b[38;5;66;03m# stride time \u001b[39;00m\n\u001b[0;32m      4\u001b[0m fw_stride_time_diffs_df \u001b[38;5;241m=\u001b[39m all_stride_time_diffs_df\u001b[38;5;241m.\u001b[39mloc[all_stride_time_diffs_df[\u001b[38;5;124m'\u001b[39m\u001b[38;5;124mfilename\u001b[39m\u001b[38;5;124m'\u001b[39m]\u001b[38;5;241m.\u001b[39mstr\u001b[38;5;241m.\u001b[39mcontains(\u001b[38;5;124m'\u001b[39m\u001b[38;5;124mPWS\u001b[39m\u001b[38;5;124m'\u001b[39m)]\n\u001b[1;32m----> 5\u001b[0m pws_stride_time_mean_diff \u001b[38;5;241m=\u001b[39m \u001b[38;5;28mround\u001b[39m(\u001b[43mpws_stride_time_diffs_df\u001b[49m[\u001b[38;5;124m'\u001b[39m\u001b[38;5;124mmedian_stride_time_diff\u001b[39m\u001b[38;5;124m'\u001b[39m]\u001b[38;5;241m.\u001b[39mmean(), \u001b[38;5;241m3\u001b[39m)\n\u001b[0;32m      6\u001b[0m pws_stride_time_abs_mean_diff \u001b[38;5;241m=\u001b[39m \u001b[38;5;28mround\u001b[39m(pws_stride_time_diffs_df[\u001b[38;5;124m'\u001b[39m\u001b[38;5;124mmedian_stride_time_diff\u001b[39m\u001b[38;5;124m'\u001b[39m]\u001b[38;5;241m.\u001b[39mabs()\u001b[38;5;241m.\u001b[39mmean(), \u001b[38;5;241m3\u001b[39m)\n\u001b[0;32m      8\u001b[0m \u001b[38;5;66;03m# cadence \u001b[39;00m\n",
      "\u001b[1;31mNameError\u001b[0m: name 'pws_stride_time_diffs_df' is not defined"
     ]
    }
   ],
   "source": [
    "# Preferred Walking Speed \n",
    "\n",
    "# stride time \n",
    "fw_stride_time_diffs_df = all_stride_time_diffs_df.loc[all_stride_time_diffs_df['filename'].str.contains('PWS')]\n",
    "pws_stride_time_mean_diff = round(pws_stride_time_diffs_df['median_stride_time_diff'].mean(), 3)\n",
    "pws_stride_time_abs_mean_diff = round(pws_stride_time_diffs_df['median_stride_time_diff'].abs().mean(), 3)\n",
    "\n",
    "# cadence \n",
    "pws_cadence_diffs_df = all_cadence_diffs_df.loc[all_cadence_diffs_df['filename'].str.contains('PWS')] \n",
    "pws_cadence_mean_diff = round(pws_cadence_diffs_df['mean_cadence_diff'].mean(), 3) \n",
    "pws_cadence_abs_mean_diff = round(pws_cadence_diffs_df['mean_cadence_diff'].abs().mean(), 3)\n",
    "\n",
    "# stride width \n",
    "pws_stride_width_diffs_df = all_stride_width_diffs_df.loc[all_stride_width_diffs_df['filename'].str.contains('PWS')] \n",
    "pws_stride_width_mean_diff = round(pws_stride_width_diffs_df['median_stride_width_diff'].mean(), 3) \n",
    "pws_stride_width_abs_mean_diff = round(pws_stride_width_diffs_df['median_stride_width_diff'].abs().mean(), 3) \n",
    "\n",
    "# merge and save \n",
    "pws_all_mean_diffs = pd.DataFrame(data = {'median_stride_time' : [pws_stride_time_mean_diff], \n",
    "                                          'mean_cadence' : [pws_cadence_mean_diff], \n",
    "                                          'median_stride_width' : [pws_stride_width_mean_diff]}) \n",
    "\n",
    "pws_all_mean_diffs.to_csv(os.path.join(out_path, 'pws_video_walks_mean_diff.csv')) \n",
    "\n",
    "\n",
    "pws_all_abs_mean_diffs = pd.DataFrame(data = {'median_stride_time' : [pws_stride_time_abs_mean_diff], \n",
    "                                              'mean_cadence' : [pws_cadence_abs_mean_diff], \n",
    "                                              'median_stride_width' : [pws_stride_width_abs_mean_diff]}) \n",
    "pws_all_abs_mean_diffs.to_csv(os.path.join(out_path, 'pws_video_walks_mean_abs_diff.csv'))"
   ]
  },
  {
   "cell_type": "code",
   "execution_count": null,
   "id": "1777e802-e952-42e8-b6e0-96e16390a6f0",
   "metadata": {},
   "outputs": [],
   "source": [
    "# Fast walking videos \n",
    "# stride time \n",
    "fw_stride_time_diffs_df = all_stride_time_diffs_df.loc[all_stride_time_diffs_df['filename'].str.contains('FW')]\n",
    "fw_stride_time_mean_diff = round(fw_stride_time_diffs_df['median_stride_time_diff'].mean(), 3)\n",
    "fw_stride_time_abs_mean_diff = round(fw_stride_time_diffs_df['median_stride_time_diff'].abs().mean(), 3)\n",
    "\n",
    "# cadence \n",
    "fw_cadence_diffs_df = all_cadence_diffs_df.loc[all_cadence_diffs_df['filename'].str.contains('FW')] \n",
    "fw_cadence_mean_diff = round(fw_cadence_diffs_df['mean_cadence_diff'].mean(), 3) \n",
    "fw_cadence_abs_mean_diff = round(fw_cadence_diffs_df['mean_cadence_diff'].abs().mean(), 3)\n",
    "\n",
    "# stride width \n",
    "fw_stride_width_diffs_df = all_stride_width_diffs_df.loc[all_stride_width_diffs_df['filename'].str.contains('FW')] \n",
    "fw_stride_width_mean_diff = round(fw_stride_width_diffs_df['median_stride_width_diff'].mean(), 3) \n",
    "fw_stride_width_abs_mean_diff = round(fw_stride_width_diffs_df['median_stride_width_diff'].abs().mean(), 3) \n",
    "\n",
    "# merge and save \n",
    "fw_all_mean_diffs = pd.DataFrame(data = {'median_stride_time' : [fw_stride_time_mean_diff], \n",
    "                                          'mean_cadence' : [fw_cadence_mean_diff], \n",
    "                                          'median_stride_width' : [fw_stride_width_mean_diff]}) \n",
    "\n",
    "fw_all_mean_diffs.to_csv(os.path.join(out_path, 'fw_video_walks_mean_diff.csv')) \n",
    "\n",
    "\n",
    "fw_all_abs_mean_diffs = pd.DataFrame(data = {'median_stride_time' : [fw_stride_time_abs_mean_diff], \n",
    "                                              'mean_cadence' : [fw_cadence_abs_mean_diff], \n",
    "                                              'median_stride_width' : [fw_stride_width_abs_mean_diff]}) \n",
    "fw_all_abs_mean_diffs.to_csv(os.path.join(out_path, 'fw_video_walks_mean_abs_diff.csv'))"
   ]
  }
 ],
 "metadata": {
  "kernelspec": {
   "display_name": "venv_home_video_analysis_2",
   "language": "python",
   "name": "venv_home_video_analysis_2"
  },
  "language_info": {
   "codemirror_mode": {
    "name": "ipython",
    "version": 3
   },
   "file_extension": ".py",
   "mimetype": "text/x-python",
   "name": "python",
   "nbconvert_exporter": "python",
   "pygments_lexer": "ipython3",
   "version": "3.10.11"
  }
 },
 "nbformat": 4,
 "nbformat_minor": 5
}
