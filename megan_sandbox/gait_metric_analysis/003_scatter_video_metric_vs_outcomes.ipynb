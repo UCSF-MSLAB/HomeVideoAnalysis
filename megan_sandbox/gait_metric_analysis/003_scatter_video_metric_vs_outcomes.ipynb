{
 "cells": [
  {
   "cell_type": "code",
   "execution_count": 1,
   "id": "f91c1d39-6a36-414a-812b-59f3d16d2291",
   "metadata": {},
   "outputs": [],
   "source": [
    "import pandas as pd \n",
    "import numpy as np\n",
    "import os \n",
    "import scipy.stats as stats\n",
    "import seaborn as sns \n",
    "import matplotlib.pyplot as plt "
   ]
  },
  {
   "cell_type": "markdown",
   "id": "890b5375-f2a6-4f20-84b6-36e319719118",
   "metadata": {},
   "source": [
    "## Set input and output folders "
   ]
  },
  {
   "cell_type": "code",
   "execution_count": 2,
   "id": "3166dcca-6aa0-4a8e-9d4f-bea138feeec0",
   "metadata": {},
   "outputs": [],
   "source": [
    "# analysis folder version  \n",
    "analysis_version = '011'"
   ]
  },
  {
   "cell_type": "code",
   "execution_count": 3,
   "id": "6ad62a20-0ea9-4f6a-83d2-22bebd67ce6a",
   "metadata": {},
   "outputs": [
    {
     "name": "stdout",
     "output_type": "stream",
     "text": [
      "C:\\Users\\mmccu\\Box\\MM_Personal\\5_Projects\\BoveLab\\3_Data_and_Code\\gait_bw_zeno_home_analysis\\011\\003_scatter_video_vs_outcomes_V2\n"
     ]
    }
   ],
   "source": [
    "out_path = os.path.join(r'C:\\Users\\mmccu\\Box\\MM_Personal\\5_Projects\\BoveLab\\3_Data_and_Code\\gait_bw_zeno_home_analysis',\n",
    "                        analysis_version, \n",
    "                        '003_scatter_video_vs_outcomes_V2')\n",
    "\n",
    "if not os.path.exists(out_path): \n",
    "    os.makedirs(out_path)\n",
    "\n",
    "print(out_path)"
   ]
  },
  {
   "cell_type": "markdown",
   "id": "7b735753-cf13-4640-a1f3-c666cdee291d",
   "metadata": {},
   "source": [
    "### Load Clean Data - no missing BW Data \n",
    "May be missing video data - see excel with counts "
   ]
  },
  {
   "cell_type": "code",
   "execution_count": 4,
   "id": "af89c750-2183-4a73-8a39-a21fd9f93200",
   "metadata": {},
   "outputs": [],
   "source": [
    "# PWS \n",
    "zv_pws_bw_clean_path = os.path.join(r'C:\\Users\\mmccu\\Box\\MM_Personal\\5_Projects\\BoveLab\\3_Data_and_Code\\gait_bw_zeno_home_analysis', \n",
    "                                    analysis_version, \n",
    "                                    '000_merged_cleaned_data\\zv_bw_merged_gait_vertical_PWS_1_clean.csv')\n",
    "zv_pws_bw_clean_df = pd.read_csv(zv_pws_bw_clean_path, index_col = 0)\n",
    "\n",
    "# FW \n",
    "zv_fw_bw_clean_path = os.path.join(r'C:\\Users\\mmccu\\Box\\MM_Personal\\5_Projects\\BoveLab\\3_Data_and_Code\\gait_bw_zeno_home_analysis', \n",
    "                                    analysis_version, \n",
    "                                   '000_merged_cleaned_data\\zv_bw_merged_gait_vertical_FW_1_clean.csv') \n",
    "zv_fw_bw_clean_df = pd.read_csv(zv_fw_bw_clean_path, index_col = 0) "
   ]
  },
  {
   "cell_type": "code",
   "execution_count": 5,
   "id": "12133090-42ad-4361-8d36-30c2ac57dd09",
   "metadata": {},
   "outputs": [],
   "source": [
    "# Home Videos \n",
    "hv_bw_clean_path = os.path.join(r'C:\\Users\\mmccu\\Box\\MM_Personal\\5_Projects\\BoveLab\\3_Data_and_Code\\gait_bw_zeno_home_analysis', \n",
    "                                analysis_version, \n",
    "                                '000_merged_cleaned_data\\hv_bw_merged_clean.csv') \n",
    "\n",
    "hv_bw_clean_df = pd.read_csv(hv_bw_clean_path, index_col = 0) "
   ]
  },
  {
   "cell_type": "code",
   "execution_count": 6,
   "id": "4fbd5706-bc91-44e6-b438-5211d3e3f08d",
   "metadata": {},
   "outputs": [
    {
     "data": {
      "text/plain": [
       "Index(['video_id_date_name_pose_hv', 'id_date_pose_hv', 'task_pose_hv',\n",
       "       'frames_per_second_pose_hv', 'total_video_duration_sec_pose_hv',\n",
       "       'delta_pix_h_rel_median_pose_hv', 'walking_segmets_n_pose_hv',\n",
       "       'walking_segments_duration_mean_pose_hv',\n",
       "       'walking_segments_duration_median_pose_hv',\n",
       "       'stride_time_num_strides_pose_hv',\n",
       "       ...\n",
       "       'pixels_notes', 'footfalls_in_frame_1', 'footfalls_in_frame_2',\n",
       "       'footfalls_in_frame_3', 'footfalls_in_frame_4', 'avg_footfalls',\n",
       "       'notes', 'multiple_people_YN', 'multiple_people_3',\n",
       "       'assistive_device_YN'],\n",
       "      dtype='object', length=134)"
      ]
     },
     "execution_count": 6,
     "metadata": {},
     "output_type": "execute_result"
    }
   ],
   "source": [
    "hv_bw_clean_df.columns"
   ]
  },
  {
   "cell_type": "code",
   "execution_count": 7,
   "id": "0f740d29-36a7-4974-be67-e2d8988ac626",
   "metadata": {},
   "outputs": [
    {
     "data": {
      "image/png": "[encoded data removed]",
      "text/plain": [
       "<Figure size 640x480 with 1 Axes>"
      ]
     },
     "metadata": {},
     "output_type": "display_data"
    },
    {
     "data": {
      "image/png": "[encoded data removed]",
      "text/plain": [
       "<Figure size 640x480 with 1 Axes>"
      ]
     },
     "metadata": {},
     "output_type": "display_data"
    }
   ],
   "source": [
    "# home videos T25FW \n",
    "plt.hist(hv_bw_clean_df['clean_T25FW_Avg'])\n",
    "plt.show()\n",
    "plt.close()\n",
    "\n",
    "# log transform T25FW \n",
    "hv_bw_clean_df['log_T25FW'] = np.log(hv_bw_clean_df['clean_T25FW_Avg'])\n",
    "plt.hist(hv_bw_clean_df['log_T25FW'])\n",
    "plt.show()\n",
    "plt.close()"
   ]
  },
  {
   "cell_type": "code",
   "execution_count": 8,
   "id": "e18a506d-1a45-4517-9de6-39e501a05abb",
   "metadata": {},
   "outputs": [
    {
     "data": {
      "image/png": "[encoded data removed]",
      "text/plain": [
       "<Figure size 640x480 with 1 Axes>"
      ]
     },
     "metadata": {},
     "output_type": "display_data"
    }
   ],
   "source": [
    "# pws at most recent visit \n",
    "plt.hist(hv_bw_clean_df['PWS_velocitycmsecmean'])\n",
    "plt.show()\n",
    "plt.close()"
   ]
  },
  {
   "cell_type": "markdown",
   "id": "d9d3c004-504a-41eb-a428-2ad9e650691a",
   "metadata": {},
   "source": [
    "## Scatter plot, correlation, heatmat \n",
    "- scatter of each video metric vs: EDSS |  T25FW | Zeno PWS Velocity | Zeno FW Velocity\n",
    "- heatmap\n",
    "- .csv file of correlation matrix "
   ]
  },
  {
   "cell_type": "code",
   "execution_count": 9,
   "id": "39f8ffbd-d7f5-43c0-875f-b9a4162b1454",
   "metadata": {},
   "outputs": [],
   "source": [
    "# correlation with clinical outcomes \n",
    "def video_vs_outcome_scatter(df, output_folder_path, subfolder_name, color_col): \n",
    "    \n",
    "    out_plots_path = os.path.join(output_folder_path,  subfolder_name)\n",
    "    \n",
    "    if not os.path.exists(out_plots_path):\n",
    "        os.makedirs(out_plots_path)\n",
    "\n",
    "    if not os.path.exists(os.path.join(out_plots_path, 'edss scatter')):\n",
    "        os.makedirs(os.path.join(out_plots_path, 'edss scatter'))\n",
    "\n",
    "    if not os.path.exists(os.path.join(out_plots_path, 't25fw scatter')):\n",
    "        os.makedirs(os.path.join(out_plots_path, 't25fw scatter'))\n",
    "\n",
    " #   if not os.path.exists(os.path.join(out_plots_path, 't25fw_log')):\n",
    "     #   os.makedirs(os.path.join(out_plots_path, 't25fw_log'))\n",
    "\n",
    "    if not os.path.exists(os.path.join(out_plots_path, 'PWS_velocity scatter')):\n",
    "        os.makedirs(os.path.join(out_plots_path, 'PWS_velocity scatter'))\n",
    "\n",
    "    if not os.path.exists(os.path.join(out_plots_path, 'FW_velocity scatter')):\n",
    "        os.makedirs(os.path.join(out_plots_path, 'FW_velocity scatter'))\n",
    "        \n",
    "\n",
    "    # drop date time columns \n",
    "    if 'bw_hv_abs_date_diff' in df.columns:\n",
    "        df = df.drop(columns=['bw_hv_abs_date_diff'])\n",
    "\n",
    "    # drop unamed columns \n",
    "    unnamed_cols = df.columns[df.columns.str.contains('Unnamed:')].tolist()\n",
    "    df = df.drop(columns=unnamed_cols)\n",
    " \n",
    "    # Keep only numeric and ordinal columns and BW- ID \n",
    "    numeric_cols = df.select_dtypes(include=['number']).columns\n",
    "    ordinal_cols = df.select_dtypes(include=['category']).columns\n",
    "    num_ord_cols = numeric_cols.union(ordinal_cols)\n",
    "    df_num = df[num_ord_cols.union(['bw_id'])]\n",
    "\n",
    "    # Create an empty DataFrame to store the Spearman correlation coefficients\n",
    "    n_cols = df_num.shape[1]\n",
    "\n",
    "    corr_matrix = pd.DataFrame(np.zeros((n_cols, n_cols)), columns=df_num.columns, index=df_num.columns)\n",
    "    pvalue_matrix = pd.DataFrame(np.zeros((n_cols, n_cols)), columns=df_num.columns, index=df_num.columns)\n",
    "    n_videos_matrix = pd.DataFrame(np.zeros((n_cols, n_cols)), columns=df_num.columns, index=df_num.columns)\n",
    "    \n",
    "    for col1 in df_num.columns:\n",
    "        for col2 in df_num.columns:\n",
    "\n",
    "            df_num_clean = df.dropna(subset=[col1, col2]) # drop rows if col1 and col2 are both nan\n",
    "\n",
    "            # if string - don't run correlation \n",
    "            if  (df_num_clean[col1].dtype == 'object') or (df_num_clean[col2].dtype == 'object'):  \n",
    "                corr = np.nan\n",
    "                p_value = np.nan \n",
    "                \n",
    "            # unless all values the same in one column, run spearman correlation\n",
    "            elif df_num_clean[col1].nunique() <= 1 or df_num_clean[col2].nunique() <= 1: \n",
    "                corr = np.nan\n",
    "                p_value = np.nan \n",
    "\n",
    "            else: \n",
    "                corr, p_value = stats.spearmanr(df_num_clean[col1], df_num_clean[col2])\n",
    "\n",
    "            # save results in matrix \n",
    "            corr_matrix.loc[col1, col2] = round(corr, 2)\n",
    "            pvalue_matrix.loc[col1, col2] = round(p_value, 3)\n",
    "            n_videos_matrix.loc[col1, col2] = len(df_num_clean) # number of rows with data for both columns \n",
    "\n",
    "            # if home video - include BW-ID to plot \n",
    "            cols_to_plot = ['clean_EDSS', \n",
    "                            'clean_T25FW_Avg', \n",
    "                            'PWS_velocitycmsecmean', \n",
    "                            'FW_velocitycmsecmean']\n",
    "            \n",
    "            if ('Home' in subfolder_name) and (col1 in cols_to_plot): \n",
    "                for index, row in df_num_clean.iterrows(): \n",
    "                   # print(row) \n",
    "                    plt.annotate(row['bw_id'], \n",
    "                                 (row[col2], \n",
    "                                  row[col1]), \n",
    "                                 fontsize = 8\n",
    "                                )\n",
    "\n",
    "            # scatterplot of EDSS, T25FW, and mat velocity \n",
    "            if col1 == 'clean_EDSS':\n",
    "                sns.scatterplot(data=df_num_clean, x=col2, y=col1, hue = color_col) \n",
    "                plt.title(subfolder_name)\n",
    "                plt.legend(bbox_to_anchor=(1.05, 1), loc='upper left', fontsize = 6)\n",
    "                plt.tight_layout()\n",
    "                plt.savefig(os.path.join(out_plots_path, 'edss scatter', col2 + '.png'))\n",
    "                plt.close()\n",
    "\n",
    "            if col1 == 'clean_T25FW_Avg':\n",
    "                sns.scatterplot(data=df_num_clean, x=col2, y=col1, hue = color_col) \n",
    "                plt.title(subfolder_name)\n",
    "                plt.legend(bbox_to_anchor=(1.05, 1), loc='upper left', fontsize = 6)\n",
    "                plt.tight_layout()\n",
    "                plt.savefig(os.path.join(out_plots_path, 't25fw scatter', col2 + '.png'))\n",
    "                plt.close()\n",
    "\n",
    "            if col1 == 'PWS_velocitycmsecmean': \n",
    "                sns.scatterplot(data=df_num_clean, x=col2, y=col1, hue = color_col)\n",
    "                plt.title(subfolder_name)\n",
    "                plt.legend(bbox_to_anchor=(1.05, 1), loc='upper left', fontsize = 6)\n",
    "                plt.tight_layout()\n",
    "                plt.savefig(os.path.join(out_plots_path, 'PWS_velocity scatter', col2 + '.png'))\n",
    "                plt.close()\n",
    "\n",
    "            if col1 == 'FW_velocitycmsecmean': \n",
    "                sns.scatterplot(data=df_num_clean, x=col2, y=col1, hue = color_col) \n",
    "                plt.title(subfolder_name)\n",
    "                plt.legend(bbox_to_anchor=(1.05, 1), loc='upper left', fontsize = 6)\n",
    "                plt.tight_layout()\n",
    "                plt.savefig(os.path.join(out_plots_path, 'FW_velocity scatter', col2 + '.png'))\n",
    "                plt.close()\n",
    "\n",
    "            \n",
    "                   \n",
    "    # save correlation matrix - full \n",
    "    corr_matrix.to_csv(os.path.join(out_plots_path, subfolder_name + '_corr_matrix.csv'))\n",
    "    pvalue_matrix.to_csv(os.path.join(out_plots_path, subfolder_name + '_pvalue_matrix.csv'))\n",
    "    n_videos_matrix.to_csv(os.path.join(out_plots_path, subfolder_name + '_n_pairs_matrix.csv'))\n",
    "\n",
    "                \n",
    "    # Keep specific values from corr_matrix and p-val matrix for heat map \n",
    "    outcomes_to_plot = ['clean_EDSS', \n",
    "                        'clean_T25FW_Avg',\n",
    "                 #        'log_T25FW',\n",
    "                         'PWS_velocitycmsecmean',\n",
    "                         'FW_velocitycmsecmean']\n",
    "\n",
    "    metrics_to_plot = ['delta_pix_h_rel_median_pose',\n",
    "                       'stride_time_median_sec_pose',\n",
    "                       'mean_cadence_step_per_min_pose',\n",
    "                       'stride_width_median_cm_pose',\n",
    "                     #  'stance_time_per_mean_pose',\n",
    "                     #  'singlesupport_per_mean_pose', \n",
    "                     #  'tot_dsupport_per_mean_pose'\n",
    "                       ]\n",
    "\n",
    "    metrics_joined = '|'.join(metrics_to_plot)\n",
    "\n",
    "    corr_matrix_filt = corr_matrix.loc[corr_matrix.index.isin(outcomes_to_plot), corr_matrix.columns.str.contains(metrics_joined)]\n",
    "\n",
    "    # if home videos df, clean column and index labels for plotting \n",
    "    # in person video is zv \n",
    "    if 'delta_pix_h_rel_median_pose_hv' in corr_matrix_filt.columns:\n",
    "        corr_matrix_filt = corr_matrix_filt.rename(columns = {'delta_pix_h_rel_median_pose_hv' : 'Change in Pixel Height', \n",
    "                                                              'stride_time_median_sec_pose_hv' : 'Stride Time', \n",
    "                                                              'mean_cadence_step_per_min_pose_hv' : 'Cadence', \n",
    "                                                              'stride_width_median_cm_pose_hv' : 'Stride Width', \n",
    "                                                            #  'tot_dsupport_per_mean_pose_hv' : 'Double Support %',\n",
    "                                                            #  'singlesupport_per_mean_pose_hv' : 'Single Support %',\n",
    "                                                              'PWS_velocitycmsecmean' : 'PWS Velocity (cm/second)', \n",
    "                                                              'FW_velocitycmsecmean' : 'FW Velocity (cm/second)', \n",
    "                                                               'clean_T25FW_Avg' : 'T25FW (seconds)', \n",
    "                                                              'clean_EDSS' : 'EDSS'}, \n",
    "                                                  index = {'delta_pix_h_rel_median_pose_hv' : 'Change in Pixel Height', \n",
    "                                                              'stride_time_median_sec_pose_hv' : 'Stride Time', \n",
    "                                                              'mean_cadence_step_per_min_pose_hv' : 'Cadence', \n",
    "                                                              'stride_width_median_cm_pose_hv' : 'Stride Width', \n",
    "                                                             # 'tot_dsupport_per_mean_pose_hv' : 'Double Support %', \n",
    "                                                             # 'singlesupport_per_mean_pose_hv' : 'Single Support %',\n",
    "                                                               'PWS_velocitycmsecmean' : 'PWS Velocity (cm/second)', \n",
    "                                                               'FW_velocitycmsecmean' : 'FW Velocity (cm/second)', \n",
    "                                                               'clean_T25FW_Avg' : 'T25FW (seconds)', \n",
    "                                                               'clean_EDSS' : 'EDSS'}) \n",
    "\n",
    "    #  Plot and save the heatmap \n",
    "    plt.close() \n",
    "    plt.figure(figsize=(4, 2))\n",
    "    sns.heatmap(corr_matrix_filt, annot=True, fmt=\".2f\", cmap=\"coolwarm\", center=0, annot_kws={\"fontsize\": 7}, cbar_kws={\"shrink\": 0.8})\n",
    "    plt.title(f\"Spearman Correlation Heatmap: {subfolder_name}\", fontsize = 9, fontweight = 'bold')\n",
    "    plt.xticks(fontsize=7, fontstyle = 'italic')\n",
    "    plt.yticks(fontsize=7, fontstyle = 'italic')\n",
    "    plt.savefig(os.path.join(out_plots_path, subfolder_name + '_heatmap.png'), bbox_inches = 'tight')\n",
    "    plt.show()\n",
    "    plt.close()\n",
    "\n"
   ]
  },
  {
   "cell_type": "markdown",
   "id": "2e503cd6-83bd-492a-a109-fe9bf83c7bee",
   "metadata": {},
   "source": [
    "# Plot each numeric columns vs EDSS, T25FW, PWS and FW velocity \n",
    "Color by one column "
   ]
  },
  {
   "cell_type": "markdown",
   "id": "04c3f478-45ab-4c45-a82a-520ac508b62d",
   "metadata": {},
   "source": [
    "## home select specific cols and rows \n",
    "only use subset of columns to run analysis faster "
   ]
  },
  {
   "cell_type": "code",
   "execution_count": 10,
   "id": "e85ab287-4c95-4838-ae83-696d0c2f151b",
   "metadata": {},
   "outputs": [
    {
     "data": {
      "text/plain": [
       "Index(['video_id_date_name_pose_hv', 'id_date_pose_hv', 'task_pose_hv',\n",
       "       'frames_per_second_pose_hv', 'total_video_duration_sec_pose_hv',\n",
       "       'delta_pix_h_rel_median_pose_hv', 'walking_segmets_n_pose_hv',\n",
       "       'walking_segments_duration_mean_pose_hv',\n",
       "       'walking_segments_duration_median_pose_hv',\n",
       "       'stride_time_num_strides_pose_hv',\n",
       "       ...\n",
       "       'footfalls_in_frame_1', 'footfalls_in_frame_2', 'footfalls_in_frame_3',\n",
       "       'footfalls_in_frame_4', 'avg_footfalls', 'notes', 'multiple_people_YN',\n",
       "       'multiple_people_3', 'assistive_device_YN', 'log_T25FW'],\n",
       "      dtype='object', length=135)"
      ]
     },
     "execution_count": 10,
     "metadata": {},
     "output_type": "execute_result"
    }
   ],
   "source": [
    "hv_bw_clean_df.columns"
   ]
  },
  {
   "cell_type": "code",
   "execution_count": 11,
   "id": "d420ef73-6c8f-4574-94e1-96fc0fafc9b4",
   "metadata": {},
   "outputs": [
    {
     "data": {
      "text/plain": [
       "['delta_pix_h_rel_median_pose_hv',\n",
       " 'stride_time_median_sec_pose_hv',\n",
       " 'mean_cadence_step_per_min_pose_hv',\n",
       " 'stride_width_median_cm_pose_hv',\n",
       " 'singlesupport_per_mean_pose_hv',\n",
       " 'tot_dsupport_per_mean_pose_hv',\n",
       " 'PWS_velocitycmsecmean',\n",
       " 'FW_velocitycmsecmean',\n",
       " 'clean_T25FW_Avg',\n",
       " 'clean_EDSS',\n",
       " 'PWS_cadencestepsminmean',\n",
       " 'PWS_singlesupportmean',\n",
       " 'PWS_stridetimesecmean',\n",
       " 'PWS_stridewidthcmmean',\n",
       " 'PWS_totaldsupportmean',\n",
       " 'bw_id',\n",
       " 'task_pose_hv',\n",
       " 'video_id_date_name_pose_hv',\n",
       " 'id_date_pose_hv',\n",
       " 'bw_hv_date_diff_days',\n",
       " 'avg_footfalls',\n",
       " 'stride_time_num_strides_pose_hv',\n",
       " 'mp_spinning',\n",
       " 'home_or_clinic',\n",
       " 'assistive_device_YN',\n",
       " 'lighting',\n",
       " 'light_source',\n",
       " 'hv_edss_date_diff',\n",
       " 'hv_t25fw_date_diff']"
      ]
     },
     "execution_count": 11,
     "metadata": {},
     "output_type": "execute_result"
    }
   ],
   "source": [
    "# video metrics to average \n",
    "hv_colnames = ['delta_pix_h_rel_median_pose_hv',\n",
    "               'stride_time_median_sec_pose_hv', \n",
    "               'mean_cadence_step_per_min_pose_hv',\n",
    "               'stride_width_median_cm_pose_hv',\n",
    "               'singlesupport_per_mean_pose_hv',\n",
    "               'tot_dsupport_per_mean_pose_hv']\n",
    "\n",
    "bw_colnames = ['PWS_velocitycmsecmean', 'FW_velocitycmsecmean', 'clean_T25FW_Avg', 'clean_EDSS', \n",
    "              #  'log_T25FW', \n",
    "              'PWS_cadencestepsminmean', 'PWS_singlesupportmean', 'PWS_stridetimesecmean', \n",
    "              'PWS_stridewidthcmmean',\t'PWS_totaldsupportmean']\n",
    "\n",
    "\n",
    "hv_bw_colnames = hv_colnames + bw_colnames + ['bw_id', 'task_pose_hv', 'video_id_date_name_pose_hv', 'id_date_pose_hv', 'bw_hv_date_diff_days',\n",
    "                                             'avg_footfalls', 'stride_time_num_strides_pose_hv', 'mp_spinning', 'home_or_clinic', 'assistive_device_YN', 'lighting', 'light_source',\n",
    "                                             'hv_edss_date_diff', 'hv_t25fw_date_diff']\n",
    "hv_bw_colnames"
   ]
  },
  {
   "cell_type": "code",
   "execution_count": 12,
   "id": "569843fc-5d6f-47fb-a1b6-f5a39ca662f0",
   "metadata": {},
   "outputs": [
    {
     "data": {
      "text/html": [
       "<div>\n",
       "<style scoped>\n",
       "    .dataframe tbody tr th:only-of-type {\n",
       "        vertical-align: middle;\n",
       "    }\n",
       "\n",
       "    .dataframe tbody tr th {\n",
       "        vertical-align: top;\n",
       "    }\n",
       "\n",
       "    .dataframe thead th {\n",
       "        text-align: right;\n",
       "    }\n",
       "</style>\n",
       "<table border=\"1\" class=\"dataframe\">\n",
       "  <thead>\n",
       "    <tr style=\"text-align: right;\">\n",
       "      <th></th>\n",
       "      <th>delta_pix_h_rel_median_pose_hv</th>\n",
       "      <th>stride_time_median_sec_pose_hv</th>\n",
       "      <th>mean_cadence_step_per_min_pose_hv</th>\n",
       "      <th>stride_width_median_cm_pose_hv</th>\n",
       "      <th>singlesupport_per_mean_pose_hv</th>\n",
       "      <th>tot_dsupport_per_mean_pose_hv</th>\n",
       "      <th>PWS_velocitycmsecmean</th>\n",
       "      <th>FW_velocitycmsecmean</th>\n",
       "      <th>clean_T25FW_Avg</th>\n",
       "      <th>clean_EDSS</th>\n",
       "      <th>...</th>\n",
       "      <th>bw_hv_date_diff_days</th>\n",
       "      <th>avg_footfalls</th>\n",
       "      <th>stride_time_num_strides_pose_hv</th>\n",
       "      <th>mp_spinning</th>\n",
       "      <th>home_or_clinic</th>\n",
       "      <th>assistive_device_YN</th>\n",
       "      <th>lighting</th>\n",
       "      <th>light_source</th>\n",
       "      <th>hv_edss_date_diff</th>\n",
       "      <th>hv_t25fw_date_diff</th>\n",
       "    </tr>\n",
       "  </thead>\n",
       "  <tbody>\n",
       "    <tr>\n",
       "      <th>0</th>\n",
       "      <td>0.06</td>\n",
       "      <td>1.367</td>\n",
       "      <td>87.805</td>\n",
       "      <td>10.670</td>\n",
       "      <td>NaN</td>\n",
       "      <td>NaN</td>\n",
       "      <td>136.683</td>\n",
       "      <td>123.480</td>\n",
       "      <td>3.6</td>\n",
       "      <td>3.0</td>\n",
       "      <td>...</td>\n",
       "      <td>0</td>\n",
       "      <td>3.25</td>\n",
       "      <td>1.0</td>\n",
       "      <td>yes</td>\n",
       "      <td>home</td>\n",
       "      <td>N</td>\n",
       "      <td>well_lit</td>\n",
       "      <td>windows_visible</td>\n",
       "      <td>0</td>\n",
       "      <td>0</td>\n",
       "    </tr>\n",
       "    <tr>\n",
       "      <th>1</th>\n",
       "      <td>0.40</td>\n",
       "      <td>1.050</td>\n",
       "      <td>114.545</td>\n",
       "      <td>13.704</td>\n",
       "      <td>NaN</td>\n",
       "      <td>NaN</td>\n",
       "      <td>136.683</td>\n",
       "      <td>123.480</td>\n",
       "      <td>3.6</td>\n",
       "      <td>3.0</td>\n",
       "      <td>...</td>\n",
       "      <td>0</td>\n",
       "      <td>3.00</td>\n",
       "      <td>2.0</td>\n",
       "      <td>yes</td>\n",
       "      <td>home</td>\n",
       "      <td>N</td>\n",
       "      <td>well_lit</td>\n",
       "      <td>windows_visible</td>\n",
       "      <td>0</td>\n",
       "      <td>0</td>\n",
       "    </tr>\n",
       "    <tr>\n",
       "      <th>2</th>\n",
       "      <td>0.40</td>\n",
       "      <td>1.033</td>\n",
       "      <td>115.303</td>\n",
       "      <td>11.127</td>\n",
       "      <td>38.57</td>\n",
       "      <td>23.13</td>\n",
       "      <td>115.829</td>\n",
       "      <td>190.263</td>\n",
       "      <td>3.4</td>\n",
       "      <td>3.5</td>\n",
       "      <td>...</td>\n",
       "      <td>9</td>\n",
       "      <td>7.75</td>\n",
       "      <td>20.0</td>\n",
       "      <td>no</td>\n",
       "      <td>home</td>\n",
       "      <td>N</td>\n",
       "      <td>well_lit</td>\n",
       "      <td>outdoors</td>\n",
       "      <td>25</td>\n",
       "      <td>9</td>\n",
       "    </tr>\n",
       "    <tr>\n",
       "      <th>3</th>\n",
       "      <td>0.40</td>\n",
       "      <td>1.067</td>\n",
       "      <td>108.000</td>\n",
       "      <td>11.582</td>\n",
       "      <td>35.65</td>\n",
       "      <td>27.34</td>\n",
       "      <td>115.829</td>\n",
       "      <td>190.263</td>\n",
       "      <td>3.4</td>\n",
       "      <td>3.5</td>\n",
       "      <td>...</td>\n",
       "      <td>9</td>\n",
       "      <td>7.75</td>\n",
       "      <td>30.0</td>\n",
       "      <td>no</td>\n",
       "      <td>home</td>\n",
       "      <td>N</td>\n",
       "      <td>well_lit</td>\n",
       "      <td>outdoors</td>\n",
       "      <td>25</td>\n",
       "      <td>9</td>\n",
       "    </tr>\n",
       "    <tr>\n",
       "      <th>4</th>\n",
       "      <td>0.32</td>\n",
       "      <td>1.000</td>\n",
       "      <td>116.273</td>\n",
       "      <td>9.131</td>\n",
       "      <td>37.55</td>\n",
       "      <td>24.72</td>\n",
       "      <td>139.984</td>\n",
       "      <td>204.592</td>\n",
       "      <td>4.4</td>\n",
       "      <td>3.0</td>\n",
       "      <td>...</td>\n",
       "      <td>0</td>\n",
       "      <td>8.00</td>\n",
       "      <td>13.0</td>\n",
       "      <td>no</td>\n",
       "      <td>clinic</td>\n",
       "      <td>N</td>\n",
       "      <td>well_lit</td>\n",
       "      <td>both_visible</td>\n",
       "      <td>0</td>\n",
       "      <td>0</td>\n",
       "    </tr>\n",
       "  </tbody>\n",
       "</table>\n",
       "<p>5 rows × 29 columns</p>\n",
       "</div>"
      ],
      "text/plain": [
       "   delta_pix_h_rel_median_pose_hv  stride_time_median_sec_pose_hv  \\\n",
       "0                            0.06                           1.367   \n",
       "1                            0.40                           1.050   \n",
       "2                            0.40                           1.033   \n",
       "3                            0.40                           1.067   \n",
       "4                            0.32                           1.000   \n",
       "\n",
       "   mean_cadence_step_per_min_pose_hv  stride_width_median_cm_pose_hv  \\\n",
       "0                             87.805                          10.670   \n",
       "1                            114.545                          13.704   \n",
       "2                            115.303                          11.127   \n",
       "3                            108.000                          11.582   \n",
       "4                            116.273                           9.131   \n",
       "\n",
       "   singlesupport_per_mean_pose_hv  tot_dsupport_per_mean_pose_hv  \\\n",
       "0                             NaN                            NaN   \n",
       "1                             NaN                            NaN   \n",
       "2                           38.57                          23.13   \n",
       "3                           35.65                          27.34   \n",
       "4                           37.55                          24.72   \n",
       "\n",
       "   PWS_velocitycmsecmean  FW_velocitycmsecmean  clean_T25FW_Avg  clean_EDSS  \\\n",
       "0                136.683               123.480              3.6         3.0   \n",
       "1                136.683               123.480              3.6         3.0   \n",
       "2                115.829               190.263              3.4         3.5   \n",
       "3                115.829               190.263              3.4         3.5   \n",
       "4                139.984               204.592              4.4         3.0   \n",
       "\n",
       "   ...  bw_hv_date_diff_days  avg_footfalls  stride_time_num_strides_pose_hv  \\\n",
       "0  ...                     0           3.25                              1.0   \n",
       "1  ...                     0           3.00                              2.0   \n",
       "2  ...                     9           7.75                             20.0   \n",
       "3  ...                     9           7.75                             30.0   \n",
       "4  ...                     0           8.00                             13.0   \n",
       "\n",
       "   mp_spinning  home_or_clinic assistive_device_YN  lighting     light_source  \\\n",
       "0          yes            home                   N  well_lit  windows_visible   \n",
       "1          yes            home                   N  well_lit  windows_visible   \n",
       "2           no            home                   N  well_lit         outdoors   \n",
       "3           no            home                   N  well_lit         outdoors   \n",
       "4           no          clinic                   N  well_lit     both_visible   \n",
       "\n",
       "  hv_edss_date_diff  hv_t25fw_date_diff  \n",
       "0                 0                   0  \n",
       "1                 0                   0  \n",
       "2                25                   9  \n",
       "3                25                   9  \n",
       "4                 0                   0  \n",
       "\n",
       "[5 rows x 29 columns]"
      ]
     },
     "execution_count": 12,
     "metadata": {},
     "output_type": "execute_result"
    }
   ],
   "source": [
    "hv_bw_clean_df_simple = hv_bw_clean_df[hv_bw_colnames]\n",
    "hv_bw_clean_df_simple.head()    "
   ]
  },
  {
   "cell_type": "markdown",
   "id": "8930e82e-f445-4b39-8073-5dc2b0cd96c9",
   "metadata": {},
   "source": [
    "## Home all Videos "
   ]
  },
  {
   "cell_type": "code",
   "execution_count": 13,
   "id": "ec59f2e0-767d-4e4b-8894-c2aead0f0054",
   "metadata": {},
   "outputs": [
    {
     "data": {
      "image/png": "[encoded data removed]",
      "text/plain": [
       "<Figure size 400x200 with 2 Axes>"
      ]
     },
     "metadata": {},
     "output_type": "display_data"
    }
   ],
   "source": [
    "video_vs_outcome_scatter(df = hv_bw_clean_df_simple, \n",
    "                         output_folder_path = out_path, \n",
    "                         subfolder_name = 'All Home Videos',\n",
    "                         color_col = 'bw_id')"
   ]
  },
  {
   "cell_type": "markdown",
   "id": "d413a6d0-4584-4cd5-922b-ea0ef720d058",
   "metadata": {},
   "source": [
    "## Home videos only right turning "
   ]
  },
  {
   "cell_type": "code",
   "execution_count": 14,
   "id": "52bbe9dc-d209-406d-ae32-f63bc4ec5522",
   "metadata": {},
   "outputs": [
    {
     "name": "stderr",
     "output_type": "stream",
     "text": [
      "C:\\Users\\mmccu\\AppData\\Local\\Temp\\ipykernel_24968\\3262720546.py:2: SettingWithCopyWarning: \n",
      "A value is trying to be set on a copy of a slice from a DataFrame.\n",
      "Try using .loc[row_indexer,col_indexer] = value instead\n",
      "\n",
      "See the caveats in the documentation: https://pandas.pydata.org/pandas-docs/stable/user_guide/indexing.html#returning-a-view-versus-a-copy\n",
      "  hv_bw_clean_df_simple['task_pose_hv'] = hv_bw_clean_df_simple['task_pose_hv'].replace('gait_vertical_left_2', 'gait_vertical_left')\n",
      "C:\\Users\\mmccu\\AppData\\Local\\Temp\\ipykernel_24968\\3262720546.py:3: SettingWithCopyWarning: \n",
      "A value is trying to be set on a copy of a slice from a DataFrame.\n",
      "Try using .loc[row_indexer,col_indexer] = value instead\n",
      "\n",
      "See the caveats in the documentation: https://pandas.pydata.org/pandas-docs/stable/user_guide/indexing.html#returning-a-view-versus-a-copy\n",
      "  hv_bw_clean_df_simple['task_pose_hv'] = hv_bw_clean_df_simple['task_pose_hv'].replace('gait_vertical_right_2', 'gait_vertical_right')\n"
     ]
    },
    {
     "data": {
      "text/plain": [
       "task_pose_hv\n",
       "gait_vertical_right    41\n",
       "gait_vertical_left     40\n",
       "Name: count, dtype: int64"
      ]
     },
     "execution_count": 14,
     "metadata": {},
     "output_type": "execute_result"
    }
   ],
   "source": [
    "# clean - right_2 --> right and same for left \n",
    "hv_bw_clean_df_simple['task_pose_hv'] = hv_bw_clean_df_simple['task_pose_hv'].replace('gait_vertical_left_2', 'gait_vertical_left')\n",
    "hv_bw_clean_df_simple['task_pose_hv'] = hv_bw_clean_df_simple['task_pose_hv'].replace('gait_vertical_right_2', 'gait_vertical_right')\n",
    "hv_bw_clean_df_simple['task_pose_hv'].value_counts()"
   ]
  },
  {
   "cell_type": "code",
   "execution_count": 15,
   "id": "618a9202-de44-47b6-937c-b1bb4778de0b",
   "metadata": {},
   "outputs": [
    {
     "data": {
      "image/png": "[encoded data removed]",
      "text/plain": [
       "<Figure size 400x200 with 2 Axes>"
      ]
     },
     "metadata": {},
     "output_type": "display_data"
    }
   ],
   "source": [
    "# Home Right \n",
    "hv_bw_clean_df_right = hv_bw_clean_df_simple.loc[hv_bw_clean_df_simple['task_pose_hv'] == 'gait_vertical_right']\n",
    "hv_bw_clean_df_right['task_pose_hv'].value_counts()\n",
    "\n",
    "video_vs_outcome_scatter(df = hv_bw_clean_df_right, \n",
    "                         output_folder_path = out_path, \n",
    "                         subfolder_name = 'Home Right Turns', \n",
    "                         color_col = 'PWS_velocitycmsecmean')"
   ]
  },
  {
   "cell_type": "markdown",
   "id": "2a2b914f-b74a-41a8-a5e7-7beb21b299ec",
   "metadata": {},
   "source": [
    "### Right - group by date diff between video and T25FW "
   ]
  },
  {
   "cell_type": "code",
   "execution_count": 16,
   "id": "cafb832c-bc9f-4775-8e08-7618491bc634",
   "metadata": {},
   "outputs": [
    {
     "data": {
      "image/png": "[encoded data removed]",
      "text/plain": [
       "<Figure size 400x200 with 2 Axes>"
      ]
     },
     "metadata": {},
     "output_type": "display_data"
    }
   ],
   "source": [
    "# within 90 days \n",
    "hv_bw_clean_df_wIn90T25FW_R = hv_bw_clean_df_right.loc[hv_bw_clean_df_right['hv_t25fw_date_diff'] <= 90] \n",
    "\n",
    "video_vs_outcome_scatter(df = hv_bw_clean_df_wIn90T25FW_R, \n",
    "                         output_folder_path = out_path, \n",
    "                         subfolder_name = 'Home Right Turns wIn 90 T25FW', \n",
    "                         color_col = 'bw_id')"
   ]
  },
  {
   "cell_type": "code",
   "execution_count": 17,
   "id": "46e7ff90-ccf3-46d0-9466-acfff9261615",
   "metadata": {},
   "outputs": [
    {
     "ename": "KeyboardInterrupt",
     "evalue": "",
     "output_type": "error",
     "traceback": [
      "\u001b[1;31m---------------------------------------------------------------------------\u001b[0m",
      "\u001b[1;31mKeyboardInterrupt\u001b[0m                         Traceback (most recent call last)",
      "Cell \u001b[1;32mIn[17], line 4\u001b[0m\n\u001b[0;32m      1\u001b[0m \u001b[38;5;66;03m# within 14 days  \u001b[39;00m\n\u001b[0;32m      2\u001b[0m hv_bw_clean_df_wIn14T25FW_R \u001b[38;5;241m=\u001b[39m hv_bw_clean_df_right\u001b[38;5;241m.\u001b[39mloc[hv_bw_clean_df_right[\u001b[38;5;124m'\u001b[39m\u001b[38;5;124mhv_t25fw_date_diff\u001b[39m\u001b[38;5;124m'\u001b[39m] \u001b[38;5;241m<\u001b[39m\u001b[38;5;241m=\u001b[39m \u001b[38;5;241m14\u001b[39m] \n\u001b[1;32m----> 4\u001b[0m \u001b[43mvideo_vs_outcome_scatter\u001b[49m\u001b[43m(\u001b[49m\u001b[43mdf\u001b[49m\u001b[43m \u001b[49m\u001b[38;5;241;43m=\u001b[39;49m\u001b[43m \u001b[49m\u001b[43mhv_bw_clean_df_wIn14T25FW_R\u001b[49m\u001b[43m,\u001b[49m\u001b[43m \u001b[49m\n\u001b[0;32m      5\u001b[0m \u001b[43m                         \u001b[49m\u001b[43moutput_folder_path\u001b[49m\u001b[43m \u001b[49m\u001b[38;5;241;43m=\u001b[39;49m\u001b[43m \u001b[49m\u001b[43mout_path\u001b[49m\u001b[43m,\u001b[49m\u001b[43m \u001b[49m\n\u001b[0;32m      6\u001b[0m \u001b[43m                         \u001b[49m\u001b[43msubfolder_name\u001b[49m\u001b[43m \u001b[49m\u001b[38;5;241;43m=\u001b[39;49m\u001b[43m \u001b[49m\u001b[38;5;124;43m'\u001b[39;49m\u001b[38;5;124;43mHome Right Turns wIn 14 T25FW\u001b[39;49m\u001b[38;5;124;43m'\u001b[39;49m\u001b[43m,\u001b[49m\u001b[43m \u001b[49m\n\u001b[0;32m      7\u001b[0m \u001b[43m                         \u001b[49m\u001b[43mcolor_col\u001b[49m\u001b[43m \u001b[49m\u001b[38;5;241;43m=\u001b[39;49m\u001b[43m \u001b[49m\u001b[38;5;124;43m'\u001b[39;49m\u001b[38;5;124;43mbw_id\u001b[39;49m\u001b[38;5;124;43m'\u001b[39;49m\u001b[43m)\u001b[49m\n",
      "Cell \u001b[1;32mIn[9], line 114\u001b[0m, in \u001b[0;36mvideo_vs_outcome_scatter\u001b[1;34m(df, output_folder_path, subfolder_name, color_col)\u001b[0m\n\u001b[0;32m    112\u001b[0m             plt\u001b[38;5;241m.\u001b[39mlegend(bbox_to_anchor\u001b[38;5;241m=\u001b[39m(\u001b[38;5;241m1.05\u001b[39m, \u001b[38;5;241m1\u001b[39m), loc\u001b[38;5;241m=\u001b[39m\u001b[38;5;124m'\u001b[39m\u001b[38;5;124mupper left\u001b[39m\u001b[38;5;124m'\u001b[39m, fontsize \u001b[38;5;241m=\u001b[39m \u001b[38;5;241m6\u001b[39m)\n\u001b[0;32m    113\u001b[0m             plt\u001b[38;5;241m.\u001b[39mtight_layout()\n\u001b[1;32m--> 114\u001b[0m             \u001b[43mplt\u001b[49m\u001b[38;5;241;43m.\u001b[39;49m\u001b[43msavefig\u001b[49m\u001b[43m(\u001b[49m\u001b[43mos\u001b[49m\u001b[38;5;241;43m.\u001b[39;49m\u001b[43mpath\u001b[49m\u001b[38;5;241;43m.\u001b[39;49m\u001b[43mjoin\u001b[49m\u001b[43m(\u001b[49m\u001b[43mout_plots_path\u001b[49m\u001b[43m,\u001b[49m\u001b[43m \u001b[49m\u001b[38;5;124;43m'\u001b[39;49m\u001b[38;5;124;43mFW_velocity scatter\u001b[39;49m\u001b[38;5;124;43m'\u001b[39;49m\u001b[43m,\u001b[49m\u001b[43m \u001b[49m\u001b[43mcol2\u001b[49m\u001b[43m \u001b[49m\u001b[38;5;241;43m+\u001b[39;49m\u001b[43m \u001b[49m\u001b[38;5;124;43m'\u001b[39;49m\u001b[38;5;124;43m.png\u001b[39;49m\u001b[38;5;124;43m'\u001b[39;49m\u001b[43m)\u001b[49m\u001b[43m)\u001b[49m\n\u001b[0;32m    115\u001b[0m             plt\u001b[38;5;241m.\u001b[39mclose()\n\u001b[0;32m    119\u001b[0m \u001b[38;5;66;03m# save correlation matrix - full \u001b[39;00m\n",
      "File \u001b[1;32m~\\venv_home_video_analysis_2\\lib\\site-packages\\matplotlib\\pyplot.py:1223\u001b[0m, in \u001b[0;36msavefig\u001b[1;34m(*args, **kwargs)\u001b[0m\n\u001b[0;32m   1220\u001b[0m fig \u001b[38;5;241m=\u001b[39m gcf()\n\u001b[0;32m   1221\u001b[0m \u001b[38;5;66;03m# savefig default implementation has no return, so mypy is unhappy\u001b[39;00m\n\u001b[0;32m   1222\u001b[0m \u001b[38;5;66;03m# presumably this is here because subclasses can return?\u001b[39;00m\n\u001b[1;32m-> 1223\u001b[0m res \u001b[38;5;241m=\u001b[39m fig\u001b[38;5;241m.\u001b[39msavefig(\u001b[38;5;241m*\u001b[39margs, \u001b[38;5;241m*\u001b[39m\u001b[38;5;241m*\u001b[39mkwargs)  \u001b[38;5;66;03m# type: ignore[func-returns-value]\u001b[39;00m\n\u001b[0;32m   1224\u001b[0m fig\u001b[38;5;241m.\u001b[39mcanvas\u001b[38;5;241m.\u001b[39mdraw_idle()  \u001b[38;5;66;03m# Need this if 'transparent=True', to reset colors.\u001b[39;00m\n\u001b[0;32m   1225\u001b[0m \u001b[38;5;28;01mreturn\u001b[39;00m res\n",
      "File \u001b[1;32m~\\venv_home_video_analysis_2\\lib\\site-packages\\matplotlib\\figure.py:3388\u001b[0m, in \u001b[0;36mFigure.savefig\u001b[1;34m(self, fname, transparent, **kwargs)\u001b[0m\n\u001b[0;32m   3386\u001b[0m     \u001b[38;5;28;01mfor\u001b[39;00m ax \u001b[38;5;129;01min\u001b[39;00m \u001b[38;5;28mself\u001b[39m\u001b[38;5;241m.\u001b[39maxes:\n\u001b[0;32m   3387\u001b[0m         _recursively_make_axes_transparent(stack, ax)\n\u001b[1;32m-> 3388\u001b[0m \u001b[38;5;28mself\u001b[39m\u001b[38;5;241m.\u001b[39mcanvas\u001b[38;5;241m.\u001b[39mprint_figure(fname, \u001b[38;5;241m*\u001b[39m\u001b[38;5;241m*\u001b[39mkwargs)\n",
      "File \u001b[1;32m~\\venv_home_video_analysis_2\\lib\\site-packages\\matplotlib\\backend_bases.py:2189\u001b[0m, in \u001b[0;36mFigureCanvasBase.print_figure\u001b[1;34m(self, filename, dpi, facecolor, edgecolor, orientation, format, bbox_inches, pad_inches, bbox_extra_artists, backend, **kwargs)\u001b[0m\n\u001b[0;32m   2186\u001b[0m     \u001b[38;5;66;03m# we do this instead of `self.figure.draw_without_rendering`\u001b[39;00m\n\u001b[0;32m   2187\u001b[0m     \u001b[38;5;66;03m# so that we can inject the orientation\u001b[39;00m\n\u001b[0;32m   2188\u001b[0m     \u001b[38;5;28;01mwith\u001b[39;00m \u001b[38;5;28mgetattr\u001b[39m(renderer, \u001b[38;5;124m\"\u001b[39m\u001b[38;5;124m_draw_disabled\u001b[39m\u001b[38;5;124m\"\u001b[39m, nullcontext)():\n\u001b[1;32m-> 2189\u001b[0m         \u001b[38;5;28;43mself\u001b[39;49m\u001b[38;5;241;43m.\u001b[39;49m\u001b[43mfigure\u001b[49m\u001b[38;5;241;43m.\u001b[39;49m\u001b[43mdraw\u001b[49m\u001b[43m(\u001b[49m\u001b[43mrenderer\u001b[49m\u001b[43m)\u001b[49m\n\u001b[0;32m   2190\u001b[0m \u001b[38;5;28;01mif\u001b[39;00m bbox_inches:\n\u001b[0;32m   2191\u001b[0m     \u001b[38;5;28;01mif\u001b[39;00m bbox_inches \u001b[38;5;241m==\u001b[39m \u001b[38;5;124m\"\u001b[39m\u001b[38;5;124mtight\u001b[39m\u001b[38;5;124m\"\u001b[39m:\n",
      "File \u001b[1;32m~\\venv_home_video_analysis_2\\lib\\site-packages\\matplotlib\\artist.py:95\u001b[0m, in \u001b[0;36m_finalize_rasterization.<locals>.draw_wrapper\u001b[1;34m(artist, renderer, *args, **kwargs)\u001b[0m\n\u001b[0;32m     93\u001b[0m \u001b[38;5;129m@wraps\u001b[39m(draw)\n\u001b[0;32m     94\u001b[0m \u001b[38;5;28;01mdef\u001b[39;00m \u001b[38;5;21mdraw_wrapper\u001b[39m(artist, renderer, \u001b[38;5;241m*\u001b[39margs, \u001b[38;5;241m*\u001b[39m\u001b[38;5;241m*\u001b[39mkwargs):\n\u001b[1;32m---> 95\u001b[0m     result \u001b[38;5;241m=\u001b[39m draw(artist, renderer, \u001b[38;5;241m*\u001b[39margs, \u001b[38;5;241m*\u001b[39m\u001b[38;5;241m*\u001b[39mkwargs)\n\u001b[0;32m     96\u001b[0m     \u001b[38;5;28;01mif\u001b[39;00m renderer\u001b[38;5;241m.\u001b[39m_rasterizing:\n\u001b[0;32m     97\u001b[0m         renderer\u001b[38;5;241m.\u001b[39mstop_rasterizing()\n",
      "File \u001b[1;32m~\\venv_home_video_analysis_2\\lib\\site-packages\\matplotlib\\artist.py:72\u001b[0m, in \u001b[0;36mallow_rasterization.<locals>.draw_wrapper\u001b[1;34m(artist, renderer)\u001b[0m\n\u001b[0;32m     69\u001b[0m     \u001b[38;5;28;01mif\u001b[39;00m artist\u001b[38;5;241m.\u001b[39mget_agg_filter() \u001b[38;5;129;01mis\u001b[39;00m \u001b[38;5;129;01mnot\u001b[39;00m \u001b[38;5;28;01mNone\u001b[39;00m:\n\u001b[0;32m     70\u001b[0m         renderer\u001b[38;5;241m.\u001b[39mstart_filter()\n\u001b[1;32m---> 72\u001b[0m     \u001b[38;5;28;01mreturn\u001b[39;00m \u001b[43mdraw\u001b[49m\u001b[43m(\u001b[49m\u001b[43martist\u001b[49m\u001b[43m,\u001b[49m\u001b[43m \u001b[49m\u001b[43mrenderer\u001b[49m\u001b[43m)\u001b[49m\n\u001b[0;32m     73\u001b[0m \u001b[38;5;28;01mfinally\u001b[39;00m:\n\u001b[0;32m     74\u001b[0m     \u001b[38;5;28;01mif\u001b[39;00m artist\u001b[38;5;241m.\u001b[39mget_agg_filter() \u001b[38;5;129;01mis\u001b[39;00m \u001b[38;5;129;01mnot\u001b[39;00m \u001b[38;5;28;01mNone\u001b[39;00m:\n",
      "File \u001b[1;32m~\\venv_home_video_analysis_2\\lib\\site-packages\\matplotlib\\figure.py:3155\u001b[0m, in \u001b[0;36mFigure.draw\u001b[1;34m(self, renderer)\u001b[0m\n\u001b[0;32m   3152\u001b[0m             \u001b[38;5;66;03m# ValueError can occur when resizing a window.\u001b[39;00m\n\u001b[0;32m   3154\u001b[0m     \u001b[38;5;28mself\u001b[39m\u001b[38;5;241m.\u001b[39mpatch\u001b[38;5;241m.\u001b[39mdraw(renderer)\n\u001b[1;32m-> 3155\u001b[0m     \u001b[43mmimage\u001b[49m\u001b[38;5;241;43m.\u001b[39;49m\u001b[43m_draw_list_compositing_images\u001b[49m\u001b[43m(\u001b[49m\n\u001b[0;32m   3156\u001b[0m \u001b[43m        \u001b[49m\u001b[43mrenderer\u001b[49m\u001b[43m,\u001b[49m\u001b[43m \u001b[49m\u001b[38;5;28;43mself\u001b[39;49m\u001b[43m,\u001b[49m\u001b[43m \u001b[49m\u001b[43martists\u001b[49m\u001b[43m,\u001b[49m\u001b[43m \u001b[49m\u001b[38;5;28;43mself\u001b[39;49m\u001b[38;5;241;43m.\u001b[39;49m\u001b[43msuppressComposite\u001b[49m\u001b[43m)\u001b[49m\n\u001b[0;32m   3158\u001b[0m     renderer\u001b[38;5;241m.\u001b[39mclose_group(\u001b[38;5;124m'\u001b[39m\u001b[38;5;124mfigure\u001b[39m\u001b[38;5;124m'\u001b[39m)\n\u001b[0;32m   3159\u001b[0m \u001b[38;5;28;01mfinally\u001b[39;00m:\n",
      "File \u001b[1;32m~\\venv_home_video_analysis_2\\lib\\site-packages\\matplotlib\\image.py:132\u001b[0m, in \u001b[0;36m_draw_list_compositing_images\u001b[1;34m(renderer, parent, artists, suppress_composite)\u001b[0m\n\u001b[0;32m    130\u001b[0m \u001b[38;5;28;01mif\u001b[39;00m not_composite \u001b[38;5;129;01mor\u001b[39;00m \u001b[38;5;129;01mnot\u001b[39;00m has_images:\n\u001b[0;32m    131\u001b[0m     \u001b[38;5;28;01mfor\u001b[39;00m a \u001b[38;5;129;01min\u001b[39;00m artists:\n\u001b[1;32m--> 132\u001b[0m         \u001b[43ma\u001b[49m\u001b[38;5;241;43m.\u001b[39;49m\u001b[43mdraw\u001b[49m\u001b[43m(\u001b[49m\u001b[43mrenderer\u001b[49m\u001b[43m)\u001b[49m\n\u001b[0;32m    133\u001b[0m \u001b[38;5;28;01melse\u001b[39;00m:\n\u001b[0;32m    134\u001b[0m     \u001b[38;5;66;03m# Composite any adjacent images together\u001b[39;00m\n\u001b[0;32m    135\u001b[0m     image_group \u001b[38;5;241m=\u001b[39m []\n",
      "File \u001b[1;32m~\\venv_home_video_analysis_2\\lib\\site-packages\\matplotlib\\artist.py:72\u001b[0m, in \u001b[0;36mallow_rasterization.<locals>.draw_wrapper\u001b[1;34m(artist, renderer)\u001b[0m\n\u001b[0;32m     69\u001b[0m     \u001b[38;5;28;01mif\u001b[39;00m artist\u001b[38;5;241m.\u001b[39mget_agg_filter() \u001b[38;5;129;01mis\u001b[39;00m \u001b[38;5;129;01mnot\u001b[39;00m \u001b[38;5;28;01mNone\u001b[39;00m:\n\u001b[0;32m     70\u001b[0m         renderer\u001b[38;5;241m.\u001b[39mstart_filter()\n\u001b[1;32m---> 72\u001b[0m     \u001b[38;5;28;01mreturn\u001b[39;00m \u001b[43mdraw\u001b[49m\u001b[43m(\u001b[49m\u001b[43martist\u001b[49m\u001b[43m,\u001b[49m\u001b[43m \u001b[49m\u001b[43mrenderer\u001b[49m\u001b[43m)\u001b[49m\n\u001b[0;32m     73\u001b[0m \u001b[38;5;28;01mfinally\u001b[39;00m:\n\u001b[0;32m     74\u001b[0m     \u001b[38;5;28;01mif\u001b[39;00m artist\u001b[38;5;241m.\u001b[39mget_agg_filter() \u001b[38;5;129;01mis\u001b[39;00m \u001b[38;5;129;01mnot\u001b[39;00m \u001b[38;5;28;01mNone\u001b[39;00m:\n",
      "File \u001b[1;32m~\\venv_home_video_analysis_2\\lib\\site-packages\\matplotlib\\axes\\_base.py:3109\u001b[0m, in \u001b[0;36m_AxesBase.draw\u001b[1;34m(self, renderer)\u001b[0m\n\u001b[0;32m   3106\u001b[0m \u001b[38;5;28;01mif\u001b[39;00m artists_rasterized:\n\u001b[0;32m   3107\u001b[0m     _draw_rasterized(\u001b[38;5;28mself\u001b[39m\u001b[38;5;241m.\u001b[39mfigure, artists_rasterized, renderer)\n\u001b[1;32m-> 3109\u001b[0m \u001b[43mmimage\u001b[49m\u001b[38;5;241;43m.\u001b[39;49m\u001b[43m_draw_list_compositing_images\u001b[49m\u001b[43m(\u001b[49m\n\u001b[0;32m   3110\u001b[0m \u001b[43m    \u001b[49m\u001b[43mrenderer\u001b[49m\u001b[43m,\u001b[49m\u001b[43m \u001b[49m\u001b[38;5;28;43mself\u001b[39;49m\u001b[43m,\u001b[49m\u001b[43m \u001b[49m\u001b[43martists\u001b[49m\u001b[43m,\u001b[49m\u001b[43m \u001b[49m\u001b[38;5;28;43mself\u001b[39;49m\u001b[38;5;241;43m.\u001b[39;49m\u001b[43mfigure\u001b[49m\u001b[38;5;241;43m.\u001b[39;49m\u001b[43msuppressComposite\u001b[49m\u001b[43m)\u001b[49m\n\u001b[0;32m   3112\u001b[0m renderer\u001b[38;5;241m.\u001b[39mclose_group(\u001b[38;5;124m'\u001b[39m\u001b[38;5;124maxes\u001b[39m\u001b[38;5;124m'\u001b[39m)\n\u001b[0;32m   3113\u001b[0m \u001b[38;5;28mself\u001b[39m\u001b[38;5;241m.\u001b[39mstale \u001b[38;5;241m=\u001b[39m \u001b[38;5;28;01mFalse\u001b[39;00m\n",
      "File \u001b[1;32m~\\venv_home_video_analysis_2\\lib\\site-packages\\matplotlib\\image.py:132\u001b[0m, in \u001b[0;36m_draw_list_compositing_images\u001b[1;34m(renderer, parent, artists, suppress_composite)\u001b[0m\n\u001b[0;32m    130\u001b[0m \u001b[38;5;28;01mif\u001b[39;00m not_composite \u001b[38;5;129;01mor\u001b[39;00m \u001b[38;5;129;01mnot\u001b[39;00m has_images:\n\u001b[0;32m    131\u001b[0m     \u001b[38;5;28;01mfor\u001b[39;00m a \u001b[38;5;129;01min\u001b[39;00m artists:\n\u001b[1;32m--> 132\u001b[0m         \u001b[43ma\u001b[49m\u001b[38;5;241;43m.\u001b[39;49m\u001b[43mdraw\u001b[49m\u001b[43m(\u001b[49m\u001b[43mrenderer\u001b[49m\u001b[43m)\u001b[49m\n\u001b[0;32m    133\u001b[0m \u001b[38;5;28;01melse\u001b[39;00m:\n\u001b[0;32m    134\u001b[0m     \u001b[38;5;66;03m# Composite any adjacent images together\u001b[39;00m\n\u001b[0;32m    135\u001b[0m     image_group \u001b[38;5;241m=\u001b[39m []\n",
      "File \u001b[1;32m~\\venv_home_video_analysis_2\\lib\\site-packages\\matplotlib\\artist.py:72\u001b[0m, in \u001b[0;36mallow_rasterization.<locals>.draw_wrapper\u001b[1;34m(artist, renderer)\u001b[0m\n\u001b[0;32m     69\u001b[0m     \u001b[38;5;28;01mif\u001b[39;00m artist\u001b[38;5;241m.\u001b[39mget_agg_filter() \u001b[38;5;129;01mis\u001b[39;00m \u001b[38;5;129;01mnot\u001b[39;00m \u001b[38;5;28;01mNone\u001b[39;00m:\n\u001b[0;32m     70\u001b[0m         renderer\u001b[38;5;241m.\u001b[39mstart_filter()\n\u001b[1;32m---> 72\u001b[0m     \u001b[38;5;28;01mreturn\u001b[39;00m \u001b[43mdraw\u001b[49m\u001b[43m(\u001b[49m\u001b[43martist\u001b[49m\u001b[43m,\u001b[49m\u001b[43m \u001b[49m\u001b[43mrenderer\u001b[49m\u001b[43m)\u001b[49m\n\u001b[0;32m     73\u001b[0m \u001b[38;5;28;01mfinally\u001b[39;00m:\n\u001b[0;32m     74\u001b[0m     \u001b[38;5;28;01mif\u001b[39;00m artist\u001b[38;5;241m.\u001b[39mget_agg_filter() \u001b[38;5;129;01mis\u001b[39;00m \u001b[38;5;129;01mnot\u001b[39;00m \u001b[38;5;28;01mNone\u001b[39;00m:\n",
      "File \u001b[1;32m~\\venv_home_video_analysis_2\\lib\\site-packages\\matplotlib\\legend.py:777\u001b[0m, in \u001b[0;36mLegend.draw\u001b[1;34m(self, renderer)\u001b[0m\n\u001b[0;32m    774\u001b[0m     Shadow(\u001b[38;5;28mself\u001b[39m\u001b[38;5;241m.\u001b[39mlegendPatch, \u001b[38;5;241m*\u001b[39m\u001b[38;5;241m*\u001b[39m\u001b[38;5;28mself\u001b[39m\u001b[38;5;241m.\u001b[39m_shadow_props)\u001b[38;5;241m.\u001b[39mdraw(renderer)\n\u001b[0;32m    776\u001b[0m \u001b[38;5;28mself\u001b[39m\u001b[38;5;241m.\u001b[39mlegendPatch\u001b[38;5;241m.\u001b[39mdraw(renderer)\n\u001b[1;32m--> 777\u001b[0m \u001b[38;5;28;43mself\u001b[39;49m\u001b[38;5;241;43m.\u001b[39;49m\u001b[43m_legend_box\u001b[49m\u001b[38;5;241;43m.\u001b[39;49m\u001b[43mdraw\u001b[49m\u001b[43m(\u001b[49m\u001b[43mrenderer\u001b[49m\u001b[43m)\u001b[49m\n\u001b[0;32m    779\u001b[0m renderer\u001b[38;5;241m.\u001b[39mclose_group(\u001b[38;5;124m'\u001b[39m\u001b[38;5;124mlegend\u001b[39m\u001b[38;5;124m'\u001b[39m)\n\u001b[0;32m    780\u001b[0m \u001b[38;5;28mself\u001b[39m\u001b[38;5;241m.\u001b[39mstale \u001b[38;5;241m=\u001b[39m \u001b[38;5;28;01mFalse\u001b[39;00m\n",
      "File \u001b[1;32m~\\venv_home_video_analysis_2\\lib\\site-packages\\matplotlib\\artist.py:39\u001b[0m, in \u001b[0;36m_prevent_rasterization.<locals>.draw_wrapper\u001b[1;34m(artist, renderer, *args, **kwargs)\u001b[0m\n\u001b[0;32m     36\u001b[0m     renderer\u001b[38;5;241m.\u001b[39mstop_rasterizing()\n\u001b[0;32m     37\u001b[0m     renderer\u001b[38;5;241m.\u001b[39m_rasterizing \u001b[38;5;241m=\u001b[39m \u001b[38;5;28;01mFalse\u001b[39;00m\n\u001b[1;32m---> 39\u001b[0m \u001b[38;5;28;01mreturn\u001b[39;00m draw(artist, renderer, \u001b[38;5;241m*\u001b[39margs, \u001b[38;5;241m*\u001b[39m\u001b[38;5;241m*\u001b[39mkwargs)\n",
      "File \u001b[1;32m~\\venv_home_video_analysis_2\\lib\\site-packages\\matplotlib\\offsetbox.py:383\u001b[0m, in \u001b[0;36mOffsetBox.draw\u001b[1;34m(self, renderer)\u001b[0m\n\u001b[0;32m    381\u001b[0m \u001b[38;5;28;01mfor\u001b[39;00m c, (ox, oy) \u001b[38;5;129;01min\u001b[39;00m \u001b[38;5;28mzip\u001b[39m(\u001b[38;5;28mself\u001b[39m\u001b[38;5;241m.\u001b[39mget_visible_children(), offsets):\n\u001b[0;32m    382\u001b[0m     c\u001b[38;5;241m.\u001b[39mset_offset((px \u001b[38;5;241m+\u001b[39m ox, py \u001b[38;5;241m+\u001b[39m oy))\n\u001b[1;32m--> 383\u001b[0m     \u001b[43mc\u001b[49m\u001b[38;5;241;43m.\u001b[39;49m\u001b[43mdraw\u001b[49m\u001b[43m(\u001b[49m\u001b[43mrenderer\u001b[49m\u001b[43m)\u001b[49m\n\u001b[0;32m    384\u001b[0m _bbox_artist(\u001b[38;5;28mself\u001b[39m, renderer, fill\u001b[38;5;241m=\u001b[39m\u001b[38;5;28;01mFalse\u001b[39;00m, props\u001b[38;5;241m=\u001b[39m\u001b[38;5;28mdict\u001b[39m(pad\u001b[38;5;241m=\u001b[39m\u001b[38;5;241m0.\u001b[39m))\n\u001b[0;32m    385\u001b[0m \u001b[38;5;28mself\u001b[39m\u001b[38;5;241m.\u001b[39mstale \u001b[38;5;241m=\u001b[39m \u001b[38;5;28;01mFalse\u001b[39;00m\n",
      "File \u001b[1;32m~\\venv_home_video_analysis_2\\lib\\site-packages\\matplotlib\\artist.py:39\u001b[0m, in \u001b[0;36m_prevent_rasterization.<locals>.draw_wrapper\u001b[1;34m(artist, renderer, *args, **kwargs)\u001b[0m\n\u001b[0;32m     36\u001b[0m     renderer\u001b[38;5;241m.\u001b[39mstop_rasterizing()\n\u001b[0;32m     37\u001b[0m     renderer\u001b[38;5;241m.\u001b[39m_rasterizing \u001b[38;5;241m=\u001b[39m \u001b[38;5;28;01mFalse\u001b[39;00m\n\u001b[1;32m---> 39\u001b[0m \u001b[38;5;28;01mreturn\u001b[39;00m draw(artist, renderer, \u001b[38;5;241m*\u001b[39margs, \u001b[38;5;241m*\u001b[39m\u001b[38;5;241m*\u001b[39mkwargs)\n",
      "File \u001b[1;32m~\\venv_home_video_analysis_2\\lib\\site-packages\\matplotlib\\offsetbox.py:383\u001b[0m, in \u001b[0;36mOffsetBox.draw\u001b[1;34m(self, renderer)\u001b[0m\n\u001b[0;32m    381\u001b[0m \u001b[38;5;28;01mfor\u001b[39;00m c, (ox, oy) \u001b[38;5;129;01min\u001b[39;00m \u001b[38;5;28mzip\u001b[39m(\u001b[38;5;28mself\u001b[39m\u001b[38;5;241m.\u001b[39mget_visible_children(), offsets):\n\u001b[0;32m    382\u001b[0m     c\u001b[38;5;241m.\u001b[39mset_offset((px \u001b[38;5;241m+\u001b[39m ox, py \u001b[38;5;241m+\u001b[39m oy))\n\u001b[1;32m--> 383\u001b[0m     \u001b[43mc\u001b[49m\u001b[38;5;241;43m.\u001b[39;49m\u001b[43mdraw\u001b[49m\u001b[43m(\u001b[49m\u001b[43mrenderer\u001b[49m\u001b[43m)\u001b[49m\n\u001b[0;32m    384\u001b[0m _bbox_artist(\u001b[38;5;28mself\u001b[39m, renderer, fill\u001b[38;5;241m=\u001b[39m\u001b[38;5;28;01mFalse\u001b[39;00m, props\u001b[38;5;241m=\u001b[39m\u001b[38;5;28mdict\u001b[39m(pad\u001b[38;5;241m=\u001b[39m\u001b[38;5;241m0.\u001b[39m))\n\u001b[0;32m    385\u001b[0m \u001b[38;5;28mself\u001b[39m\u001b[38;5;241m.\u001b[39mstale \u001b[38;5;241m=\u001b[39m \u001b[38;5;28;01mFalse\u001b[39;00m\n",
      "File \u001b[1;32m~\\venv_home_video_analysis_2\\lib\\site-packages\\matplotlib\\artist.py:39\u001b[0m, in \u001b[0;36m_prevent_rasterization.<locals>.draw_wrapper\u001b[1;34m(artist, renderer, *args, **kwargs)\u001b[0m\n\u001b[0;32m     36\u001b[0m     renderer\u001b[38;5;241m.\u001b[39mstop_rasterizing()\n\u001b[0;32m     37\u001b[0m     renderer\u001b[38;5;241m.\u001b[39m_rasterizing \u001b[38;5;241m=\u001b[39m \u001b[38;5;28;01mFalse\u001b[39;00m\n\u001b[1;32m---> 39\u001b[0m \u001b[38;5;28;01mreturn\u001b[39;00m draw(artist, renderer, \u001b[38;5;241m*\u001b[39margs, \u001b[38;5;241m*\u001b[39m\u001b[38;5;241m*\u001b[39mkwargs)\n",
      "File \u001b[1;32m~\\venv_home_video_analysis_2\\lib\\site-packages\\matplotlib\\offsetbox.py:379\u001b[0m, in \u001b[0;36mOffsetBox.draw\u001b[1;34m(self, renderer)\u001b[0m\n\u001b[0;32m    374\u001b[0m \u001b[38;5;28;01mdef\u001b[39;00m \u001b[38;5;21mdraw\u001b[39m(\u001b[38;5;28mself\u001b[39m, renderer):\n\u001b[0;32m    375\u001b[0m \u001b[38;5;250m    \u001b[39m\u001b[38;5;124;03m\"\"\"\u001b[39;00m\n\u001b[0;32m    376\u001b[0m \u001b[38;5;124;03m    Update the location of children if necessary and draw them\u001b[39;00m\n\u001b[0;32m    377\u001b[0m \u001b[38;5;124;03m    to the given *renderer*.\u001b[39;00m\n\u001b[0;32m    378\u001b[0m \u001b[38;5;124;03m    \"\"\"\u001b[39;00m\n\u001b[1;32m--> 379\u001b[0m     bbox, offsets \u001b[38;5;241m=\u001b[39m \u001b[38;5;28;43mself\u001b[39;49m\u001b[38;5;241;43m.\u001b[39;49m\u001b[43m_get_bbox_and_child_offsets\u001b[49m\u001b[43m(\u001b[49m\u001b[43mrenderer\u001b[49m\u001b[43m)\u001b[49m\n\u001b[0;32m    380\u001b[0m     px, py \u001b[38;5;241m=\u001b[39m \u001b[38;5;28mself\u001b[39m\u001b[38;5;241m.\u001b[39mget_offset(bbox, renderer)\n\u001b[0;32m    381\u001b[0m     \u001b[38;5;28;01mfor\u001b[39;00m c, (ox, oy) \u001b[38;5;129;01min\u001b[39;00m \u001b[38;5;28mzip\u001b[39m(\u001b[38;5;28mself\u001b[39m\u001b[38;5;241m.\u001b[39mget_visible_children(), offsets):\n",
      "File \u001b[1;32m~\\venv_home_video_analysis_2\\lib\\site-packages\\matplotlib\\offsetbox.py:452\u001b[0m, in \u001b[0;36mVPacker._get_bbox_and_child_offsets\u001b[1;34m(self, renderer)\u001b[0m\n\u001b[0;32m    449\u001b[0m         \u001b[38;5;28;01mif\u001b[39;00m \u001b[38;5;28misinstance\u001b[39m(c, PackerBase) \u001b[38;5;129;01mand\u001b[39;00m c\u001b[38;5;241m.\u001b[39mmode \u001b[38;5;241m==\u001b[39m \u001b[38;5;124m\"\u001b[39m\u001b[38;5;124mexpand\u001b[39m\u001b[38;5;124m\"\u001b[39m:\n\u001b[0;32m    450\u001b[0m             c\u001b[38;5;241m.\u001b[39mset_width(\u001b[38;5;28mself\u001b[39m\u001b[38;5;241m.\u001b[39mwidth)\n\u001b[1;32m--> 452\u001b[0m bboxes \u001b[38;5;241m=\u001b[39m [c\u001b[38;5;241m.\u001b[39mget_bbox(renderer) \u001b[38;5;28;01mfor\u001b[39;00m c \u001b[38;5;129;01min\u001b[39;00m \u001b[38;5;28mself\u001b[39m\u001b[38;5;241m.\u001b[39mget_visible_children()]\n\u001b[0;32m    453\u001b[0m (x0, x1), xoffsets \u001b[38;5;241m=\u001b[39m _get_aligned_offsets(\n\u001b[0;32m    454\u001b[0m     [bbox\u001b[38;5;241m.\u001b[39mintervalx \u001b[38;5;28;01mfor\u001b[39;00m bbox \u001b[38;5;129;01min\u001b[39;00m bboxes], \u001b[38;5;28mself\u001b[39m\u001b[38;5;241m.\u001b[39mwidth, \u001b[38;5;28mself\u001b[39m\u001b[38;5;241m.\u001b[39malign)\n\u001b[0;32m    455\u001b[0m height, yoffsets \u001b[38;5;241m=\u001b[39m _get_packed_offsets(\n\u001b[0;32m    456\u001b[0m     [bbox\u001b[38;5;241m.\u001b[39mheight \u001b[38;5;28;01mfor\u001b[39;00m bbox \u001b[38;5;129;01min\u001b[39;00m bboxes], \u001b[38;5;28mself\u001b[39m\u001b[38;5;241m.\u001b[39mheight, sep, \u001b[38;5;28mself\u001b[39m\u001b[38;5;241m.\u001b[39mmode)\n",
      "File \u001b[1;32m~\\venv_home_video_analysis_2\\lib\\site-packages\\matplotlib\\offsetbox.py:452\u001b[0m, in \u001b[0;36m<listcomp>\u001b[1;34m(.0)\u001b[0m\n\u001b[0;32m    449\u001b[0m         \u001b[38;5;28;01mif\u001b[39;00m \u001b[38;5;28misinstance\u001b[39m(c, PackerBase) \u001b[38;5;129;01mand\u001b[39;00m c\u001b[38;5;241m.\u001b[39mmode \u001b[38;5;241m==\u001b[39m \u001b[38;5;124m\"\u001b[39m\u001b[38;5;124mexpand\u001b[39m\u001b[38;5;124m\"\u001b[39m:\n\u001b[0;32m    450\u001b[0m             c\u001b[38;5;241m.\u001b[39mset_width(\u001b[38;5;28mself\u001b[39m\u001b[38;5;241m.\u001b[39mwidth)\n\u001b[1;32m--> 452\u001b[0m bboxes \u001b[38;5;241m=\u001b[39m [\u001b[43mc\u001b[49m\u001b[38;5;241;43m.\u001b[39;49m\u001b[43mget_bbox\u001b[49m\u001b[43m(\u001b[49m\u001b[43mrenderer\u001b[49m\u001b[43m)\u001b[49m \u001b[38;5;28;01mfor\u001b[39;00m c \u001b[38;5;129;01min\u001b[39;00m \u001b[38;5;28mself\u001b[39m\u001b[38;5;241m.\u001b[39mget_visible_children()]\n\u001b[0;32m    453\u001b[0m (x0, x1), xoffsets \u001b[38;5;241m=\u001b[39m _get_aligned_offsets(\n\u001b[0;32m    454\u001b[0m     [bbox\u001b[38;5;241m.\u001b[39mintervalx \u001b[38;5;28;01mfor\u001b[39;00m bbox \u001b[38;5;129;01min\u001b[39;00m bboxes], \u001b[38;5;28mself\u001b[39m\u001b[38;5;241m.\u001b[39mwidth, \u001b[38;5;28mself\u001b[39m\u001b[38;5;241m.\u001b[39malign)\n\u001b[0;32m    455\u001b[0m height, yoffsets \u001b[38;5;241m=\u001b[39m _get_packed_offsets(\n\u001b[0;32m    456\u001b[0m     [bbox\u001b[38;5;241m.\u001b[39mheight \u001b[38;5;28;01mfor\u001b[39;00m bbox \u001b[38;5;129;01min\u001b[39;00m bboxes], \u001b[38;5;28mself\u001b[39m\u001b[38;5;241m.\u001b[39mheight, sep, \u001b[38;5;28mself\u001b[39m\u001b[38;5;241m.\u001b[39mmode)\n",
      "File \u001b[1;32m~\\venv_home_video_analysis_2\\lib\\site-packages\\matplotlib\\offsetbox.py:360\u001b[0m, in \u001b[0;36mOffsetBox.get_bbox\u001b[1;34m(self, renderer)\u001b[0m\n\u001b[0;32m    358\u001b[0m \u001b[38;5;28;01mdef\u001b[39;00m \u001b[38;5;21mget_bbox\u001b[39m(\u001b[38;5;28mself\u001b[39m, renderer):\n\u001b[0;32m    359\u001b[0m \u001b[38;5;250m    \u001b[39m\u001b[38;5;124;03m\"\"\"Return the bbox of the offsetbox, ignoring parent offsets.\"\"\"\u001b[39;00m\n\u001b[1;32m--> 360\u001b[0m     bbox, offsets \u001b[38;5;241m=\u001b[39m \u001b[38;5;28;43mself\u001b[39;49m\u001b[38;5;241;43m.\u001b[39;49m\u001b[43m_get_bbox_and_child_offsets\u001b[49m\u001b[43m(\u001b[49m\u001b[43mrenderer\u001b[49m\u001b[43m)\u001b[49m\n\u001b[0;32m    361\u001b[0m     \u001b[38;5;28;01mreturn\u001b[39;00m bbox\n",
      "File \u001b[1;32m~\\venv_home_video_analysis_2\\lib\\site-packages\\matplotlib\\offsetbox.py:479\u001b[0m, in \u001b[0;36mHPacker._get_bbox_and_child_offsets\u001b[1;34m(self, renderer)\u001b[0m\n\u001b[0;32m    476\u001b[0m pad \u001b[38;5;241m=\u001b[39m \u001b[38;5;28mself\u001b[39m\u001b[38;5;241m.\u001b[39mpad \u001b[38;5;241m*\u001b[39m dpicor\n\u001b[0;32m    477\u001b[0m sep \u001b[38;5;241m=\u001b[39m \u001b[38;5;28mself\u001b[39m\u001b[38;5;241m.\u001b[39msep \u001b[38;5;241m*\u001b[39m dpicor\n\u001b[1;32m--> 479\u001b[0m bboxes \u001b[38;5;241m=\u001b[39m [c\u001b[38;5;241m.\u001b[39mget_bbox(renderer) \u001b[38;5;28;01mfor\u001b[39;00m c \u001b[38;5;129;01min\u001b[39;00m \u001b[38;5;28mself\u001b[39m\u001b[38;5;241m.\u001b[39mget_visible_children()]\n\u001b[0;32m    480\u001b[0m \u001b[38;5;28;01mif\u001b[39;00m \u001b[38;5;129;01mnot\u001b[39;00m bboxes:\n\u001b[0;32m    481\u001b[0m     \u001b[38;5;28;01mreturn\u001b[39;00m Bbox\u001b[38;5;241m.\u001b[39mfrom_bounds(\u001b[38;5;241m0\u001b[39m, \u001b[38;5;241m0\u001b[39m, \u001b[38;5;241m0\u001b[39m, \u001b[38;5;241m0\u001b[39m)\u001b[38;5;241m.\u001b[39mpadded(pad), []\n",
      "File \u001b[1;32m~\\venv_home_video_analysis_2\\lib\\site-packages\\matplotlib\\offsetbox.py:479\u001b[0m, in \u001b[0;36m<listcomp>\u001b[1;34m(.0)\u001b[0m\n\u001b[0;32m    476\u001b[0m pad \u001b[38;5;241m=\u001b[39m \u001b[38;5;28mself\u001b[39m\u001b[38;5;241m.\u001b[39mpad \u001b[38;5;241m*\u001b[39m dpicor\n\u001b[0;32m    477\u001b[0m sep \u001b[38;5;241m=\u001b[39m \u001b[38;5;28mself\u001b[39m\u001b[38;5;241m.\u001b[39msep \u001b[38;5;241m*\u001b[39m dpicor\n\u001b[1;32m--> 479\u001b[0m bboxes \u001b[38;5;241m=\u001b[39m [\u001b[43mc\u001b[49m\u001b[38;5;241;43m.\u001b[39;49m\u001b[43mget_bbox\u001b[49m\u001b[43m(\u001b[49m\u001b[43mrenderer\u001b[49m\u001b[43m)\u001b[49m \u001b[38;5;28;01mfor\u001b[39;00m c \u001b[38;5;129;01min\u001b[39;00m \u001b[38;5;28mself\u001b[39m\u001b[38;5;241m.\u001b[39mget_visible_children()]\n\u001b[0;32m    480\u001b[0m \u001b[38;5;28;01mif\u001b[39;00m \u001b[38;5;129;01mnot\u001b[39;00m bboxes:\n\u001b[0;32m    481\u001b[0m     \u001b[38;5;28;01mreturn\u001b[39;00m Bbox\u001b[38;5;241m.\u001b[39mfrom_bounds(\u001b[38;5;241m0\u001b[39m, \u001b[38;5;241m0\u001b[39m, \u001b[38;5;241m0\u001b[39m, \u001b[38;5;241m0\u001b[39m)\u001b[38;5;241m.\u001b[39mpadded(pad), []\n",
      "File \u001b[1;32m~\\venv_home_video_analysis_2\\lib\\site-packages\\matplotlib\\offsetbox.py:763\u001b[0m, in \u001b[0;36mTextArea.get_bbox\u001b[1;34m(self, renderer)\u001b[0m\n\u001b[0;32m    762\u001b[0m \u001b[38;5;28;01mdef\u001b[39;00m \u001b[38;5;21mget_bbox\u001b[39m(\u001b[38;5;28mself\u001b[39m, renderer):\n\u001b[1;32m--> 763\u001b[0m     _, h_, d_ \u001b[38;5;241m=\u001b[39m \u001b[43mrenderer\u001b[49m\u001b[38;5;241;43m.\u001b[39;49m\u001b[43mget_text_width_height_descent\u001b[49m\u001b[43m(\u001b[49m\n\u001b[0;32m    764\u001b[0m \u001b[43m        \u001b[49m\u001b[38;5;124;43m\"\u001b[39;49m\u001b[38;5;124;43mlp\u001b[39;49m\u001b[38;5;124;43m\"\u001b[39;49m\u001b[43m,\u001b[49m\u001b[43m \u001b[49m\u001b[38;5;28;43mself\u001b[39;49m\u001b[38;5;241;43m.\u001b[39;49m\u001b[43m_text\u001b[49m\u001b[38;5;241;43m.\u001b[39;49m\u001b[43m_fontproperties\u001b[49m\u001b[43m,\u001b[49m\n\u001b[0;32m    765\u001b[0m \u001b[43m        \u001b[49m\u001b[43mismath\u001b[49m\u001b[38;5;241;43m=\u001b[39;49m\u001b[38;5;124;43m\"\u001b[39;49m\u001b[38;5;124;43mTeX\u001b[39;49m\u001b[38;5;124;43m\"\u001b[39;49m\u001b[43m \u001b[49m\u001b[38;5;28;43;01mif\u001b[39;49;00m\u001b[43m \u001b[49m\u001b[38;5;28;43mself\u001b[39;49m\u001b[38;5;241;43m.\u001b[39;49m\u001b[43m_text\u001b[49m\u001b[38;5;241;43m.\u001b[39;49m\u001b[43mget_usetex\u001b[49m\u001b[43m(\u001b[49m\u001b[43m)\u001b[49m\u001b[43m \u001b[49m\u001b[38;5;28;43;01melse\u001b[39;49;00m\u001b[43m \u001b[49m\u001b[38;5;28;43;01mFalse\u001b[39;49;00m\u001b[43m)\u001b[49m\n\u001b[0;32m    767\u001b[0m     bbox, info, yd \u001b[38;5;241m=\u001b[39m \u001b[38;5;28mself\u001b[39m\u001b[38;5;241m.\u001b[39m_text\u001b[38;5;241m.\u001b[39m_get_layout(renderer)\n\u001b[0;32m    768\u001b[0m     w, h \u001b[38;5;241m=\u001b[39m bbox\u001b[38;5;241m.\u001b[39msize\n",
      "File \u001b[1;32m~\\venv_home_video_analysis_2\\lib\\site-packages\\matplotlib\\backends\\backend_agg.py:220\u001b[0m, in \u001b[0;36mRendererAgg.get_text_width_height_descent\u001b[1;34m(self, s, prop, ismath)\u001b[0m\n\u001b[0;32m    217\u001b[0m     \u001b[38;5;28;01mreturn\u001b[39;00m width, height, descent\n\u001b[0;32m    219\u001b[0m font \u001b[38;5;241m=\u001b[39m \u001b[38;5;28mself\u001b[39m\u001b[38;5;241m.\u001b[39m_prepare_font(prop)\n\u001b[1;32m--> 220\u001b[0m \u001b[43mfont\u001b[49m\u001b[38;5;241;43m.\u001b[39;49m\u001b[43mset_text\u001b[49m\u001b[43m(\u001b[49m\u001b[43ms\u001b[49m\u001b[43m,\u001b[49m\u001b[43m \u001b[49m\u001b[38;5;241;43m0.0\u001b[39;49m\u001b[43m,\u001b[49m\u001b[43m \u001b[49m\u001b[43mflags\u001b[49m\u001b[38;5;241;43m=\u001b[39;49m\u001b[43mget_hinting_flag\u001b[49m\u001b[43m(\u001b[49m\u001b[43m)\u001b[49m\u001b[43m)\u001b[49m\n\u001b[0;32m    221\u001b[0m w, h \u001b[38;5;241m=\u001b[39m font\u001b[38;5;241m.\u001b[39mget_width_height()  \u001b[38;5;66;03m# width and height of unrotated string\u001b[39;00m\n\u001b[0;32m    222\u001b[0m d \u001b[38;5;241m=\u001b[39m font\u001b[38;5;241m.\u001b[39mget_descent()\n",
      "\u001b[1;31mKeyboardInterrupt\u001b[0m: "
     ]
    },
    {
     "data": {
      "image/png": "[encoded data removed]",
      "text/plain": [
       "<Figure size 640x480 with 1 Axes>"
      ]
     },
     "metadata": {},
     "output_type": "display_data"
    }
   ],
   "source": [
    "# within 14 days  \n",
    "hv_bw_clean_df_wIn14T25FW_R = hv_bw_clean_df_right.loc[hv_bw_clean_df_right['hv_t25fw_date_diff'] <= 14] \n",
    "\n",
    "video_vs_outcome_scatter(df = hv_bw_clean_df_wIn14T25FW_R, \n",
    "                         output_folder_path = out_path, \n",
    "                         subfolder_name = 'Home Right Turns wIn 14 T25FW', \n",
    "                         color_col = 'bw_id')"
   ]
  },
  {
   "cell_type": "markdown",
   "id": "acb23ad1-66fe-4b18-be7a-4104cb382494",
   "metadata": {},
   "source": [
    "### Right: AD "
   ]
  },
  {
   "cell_type": "code",
   "execution_count": null,
   "id": "e8ecfe28-23e6-479f-a210-04eb1f0ab592",
   "metadata": {},
   "outputs": [],
   "source": [
    "# No assistive device \n",
    "hv_bw_clean_df_noAD_R = hv_bw_clean_df_right.loc[hv_bw_clean_df_right['assistive_device_YN'] == 'N'] \n",
    "print(hv_bw_clean_df_noAD_R['assistive_device_YN'].value_counts()) \n",
    "\n",
    "video_vs_outcome_scatter(df = hv_bw_clean_df_noAD_R, \n",
    "                         output_folder_path = out_path, \n",
    "                         subfolder_name = 'Home Right Turns No AD', \n",
    "                         color_col = 'bw_id')"
   ]
  },
  {
   "cell_type": "markdown",
   "id": "076c4248-a531-4ee6-9ff3-de23678f8ab3",
   "metadata": {},
   "source": [
    "### Right Number of footfalls "
   ]
  },
  {
   "cell_type": "code",
   "execution_count": null,
   "id": "6705803e-4d1b-481d-8912-fbdc81303982",
   "metadata": {},
   "outputs": [],
   "source": [
    "# more than 5 footfalls average per pass \n",
    "hv_bw_clean_df_5Foot_R = hv_bw_clean_df_right.loc[hv_bw_clean_df_right['avg_footfalls'] >= 5] \n",
    "print(hv_bw_clean_df_5Foot_R['avg_footfalls'].value_counts()) \n",
    "\n",
    "video_vs_outcome_scatter(df = hv_bw_clean_df_5Foot_R, \n",
    "                         output_folder_path = out_path, \n",
    "                         subfolder_name = 'Home Right Turns 5 Footfalls', \n",
    "                         color_col = 'bw_id')"
   ]
  },
  {
   "cell_type": "markdown",
   "id": "ba9a5c8e-eda4-41dc-aa5a-8d9b0031ce8f",
   "metadata": {},
   "source": [
    "### Right spinning \n",
    "From manual review - is MP plots spinning? "
   ]
  },
  {
   "cell_type": "code",
   "execution_count": null,
   "id": "bcf605ad-195a-417a-a8e1-ffc864c3e59c",
   "metadata": {},
   "outputs": [],
   "source": [
    "# not spinning videos - from manual review \n",
    "hv_bw_clean_df_noSpin_R = hv_bw_clean_df_right.loc[hv_bw_clean_df_right['mp_spinning'] == 'no'] \n",
    "print(hv_bw_clean_df_noSpin_R['mp_spinning'].value_counts()) \n",
    "\n",
    "video_vs_outcome_scatter(df = hv_bw_clean_df_noSpin_R, \n",
    "                         output_folder_path = out_path, \n",
    "                         subfolder_name = 'Home Right Turns No Spin', \n",
    "                         color_col = 'bw_id')"
   ]
  },
  {
   "cell_type": "markdown",
   "id": "cc9f9c64-6266-41a0-a9ea-6d8ad261161f",
   "metadata": {},
   "source": [
    "## Home videos only left turning  "
   ]
  },
  {
   "cell_type": "code",
   "execution_count": null,
   "id": "0cef7df4-b3f5-44ca-9715-c75360beaad7",
   "metadata": {},
   "outputs": [],
   "source": [
    "# Home Left \n",
    "hv_bw_clean_df_left = hv_bw_clean_df_simple.loc[hv_bw_clean_df_simple['task_pose_hv'] == 'gait_vertical_left']\n",
    "hv_bw_clean_df_left['task_pose_hv'].value_counts()\n",
    "\n",
    "video_vs_outcome_scatter(df = hv_bw_clean_df_left, \n",
    "                         output_folder_path = out_path, \n",
    "                         subfolder_name = 'Home Left Turns', \n",
    "                         color_col = 'PWS_velocitycmsecmean')"
   ]
  },
  {
   "cell_type": "markdown",
   "id": "58a76689-dddd-4e78-a236-c5828109e81a",
   "metadata": {},
   "source": [
    "### Left group by date between video and T25FW "
   ]
  },
  {
   "cell_type": "code",
   "execution_count": null,
   "id": "14f6db20-cd97-42da-baa4-cf225ecd94f1",
   "metadata": {},
   "outputs": [],
   "source": [
    "# within 90 days \n",
    "hv_bw_clean_df_wIn90T25FW_L = hv_bw_clean_df_left.loc[hv_bw_clean_df_left['hv_t25fw_date_diff'] <= 90] \n",
    "\n",
    "video_vs_outcome_scatter(df = hv_bw_clean_df_wIn90T25FW_L, \n",
    "                         output_folder_path = out_path, \n",
    "                         subfolder_name = 'Home Left Turns wIn 90 T25FW', \n",
    "                         color_col = 'bw_id')"
   ]
  },
  {
   "cell_type": "code",
   "execution_count": null,
   "id": "56246432-87d4-4a31-b94a-acd2b5d1d9c1",
   "metadata": {},
   "outputs": [],
   "source": [
    "# within 14 days \n",
    "hv_bw_clean_df_wIn14T25FW_L = hv_bw_clean_df_left.loc[hv_bw_clean_df_left['hv_t25fw_date_diff'] <= 14] \n",
    "\n",
    "video_vs_outcome_scatter(df = hv_bw_clean_df_wIn14T25FW_L, \n",
    "                         output_folder_path = out_path, \n",
    "                         subfolder_name = 'Home Left Turns wIn 14 T25FW', \n",
    "                         color_col = 'bw_id')"
   ]
  },
  {
   "cell_type": "markdown",
   "id": "2bb5f029-73c5-4e22-b490-385a1709a13b",
   "metadata": {},
   "source": [
    "### Left AD "
   ]
  },
  {
   "cell_type": "code",
   "execution_count": null,
   "id": "2f6e91d2-d2bb-4eb4-a7ee-6cf1510dfeee",
   "metadata": {},
   "outputs": [],
   "source": [
    "# No assistive device \n",
    "hv_bw_clean_df_noAD_L = hv_bw_clean_df_left.loc[hv_bw_clean_df_left['assistive_device_YN'] == 'N'] \n",
    "print(hv_bw_clean_df_noAD_L['assistive_device_YN'].value_counts()) \n",
    "\n",
    "video_vs_outcome_scatter(df = hv_bw_clean_df_noAD_L, \n",
    "                         output_folder_path = out_path, \n",
    "                         subfolder_name = 'Home Left Turns No AD', \n",
    "                         color_col = 'bw_id')"
   ]
  },
  {
   "cell_type": "markdown",
   "id": "18e79ca2-23fe-4604-91ee-0e0897ae8942",
   "metadata": {},
   "source": [
    "### Left Number of footfalls "
   ]
  },
  {
   "cell_type": "code",
   "execution_count": null,
   "id": "24c51be5-2db9-4a0b-aa61-b5f9e0da30ca",
   "metadata": {},
   "outputs": [],
   "source": [
    "# more than 5 footfalls average per pass \n",
    "hv_bw_clean_df_5Foot_L = hv_bw_clean_df_left.loc[hv_bw_clean_df_left['avg_footfalls'] >= 5] \n",
    "\n",
    "video_vs_outcome_scatter(df = hv_bw_clean_df_5Foot_L, \n",
    "                         output_folder_path = out_path, \n",
    "                         subfolder_name = 'Home Left Turns 5 Footfalls', \n",
    "                         color_col = 'bw_id')"
   ]
  },
  {
   "cell_type": "markdown",
   "id": "21e9f89a-c7bd-42a7-abaa-3fbd52fddd9e",
   "metadata": {},
   "source": [
    "### Left MP spinning ? "
   ]
  },
  {
   "cell_type": "code",
   "execution_count": null,
   "id": "861d5f55-4e30-4aed-8ada-4a8c39c1c4f1",
   "metadata": {},
   "outputs": [],
   "source": [
    "# not spinning videos - from manual review \n",
    "hv_bw_clean_df_noSpin_L = hv_bw_clean_df_left.loc[hv_bw_clean_df_left['mp_spinning'] == 'no'] \n",
    "print(hv_bw_clean_df_noSpin_L['mp_spinning'].value_counts()) \n",
    "\n",
    "video_vs_outcome_scatter(df = hv_bw_clean_df_noSpin_L, \n",
    "                         output_folder_path = out_path, \n",
    "                         subfolder_name = 'Home Left Turns No Spin', \n",
    "                         color_col = 'bw_id')"
   ]
  },
  {
   "cell_type": "markdown",
   "id": "b5c9b140-98db-4092-8ca4-7a8ff9f8bc90",
   "metadata": {},
   "source": [
    "## Home Videos - mean of right and left video "
   ]
  },
  {
   "cell_type": "code",
   "execution_count": null,
   "id": "3479072a-e10e-4e2d-a862-03cdeac48b41",
   "metadata": {},
   "outputs": [],
   "source": [
    "hv_colnames + ['avg_footfalls'] + ['stride_time_num_strides_pose_hv']"
   ]
  },
  {
   "cell_type": "code",
   "execution_count": null,
   "id": "9414605b-babc-46eb-a533-a9dbfc4de0b4",
   "metadata": {},
   "outputs": [],
   "source": [
    "# 1 video per participant \n",
    "# only videos with n walking segments >0\n",
    "# if left and right vidoe with walking segment n 0 --> mean of left and right \n",
    "# if either just left or right, exclude \n",
    "\n",
    "# group by visit id (date and bw_ID), then average hv colnames values for right and left if both are present \n",
    "averaged_home_df = (\n",
    "    hv_bw_clean_df_simple\n",
    "    .groupby('id_date_pose_hv')[hv_colnames + ['avg_footfalls'] + ['stride_time_num_strides_pose_hv']]\n",
    "    .mean()\n",
    "    .reset_index()\n",
    ")"
   ]
  },
  {
   "cell_type": "code",
   "execution_count": null,
   "id": "d601aa05-855c-4640-934a-8664317aef95",
   "metadata": {},
   "outputs": [],
   "source": [
    "#averaged_home_df"
   ]
  },
  {
   "cell_type": "code",
   "execution_count": null,
   "id": "84612f74-bba4-4f03-9bc8-9834c424cedd",
   "metadata": {
    "scrolled": true
   },
   "outputs": [],
   "source": [
    "# add column indicating if two videos use or average of each \n",
    "task_counts = hv_bw_clean_df_simple.groupby('id_date_pose_hv')['task_pose_hv'].nunique().reset_index(name='task_count')\n",
    "\n",
    "# 2 in task_count = video average, 1 = left or right video only used \n",
    "result_df = averaged_home_df.merge(task_counts, on='id_date_pose_hv')\n",
    "result_df.head()"
   ]
  },
  {
   "cell_type": "code",
   "execution_count": null,
   "id": "58b12794-7c0e-4499-9697-09d257fc14a9",
   "metadata": {},
   "outputs": [],
   "source": [
    "# Merge average with Zeno data\n",
    "# bw_mat_cols = bw_colnames + ['id_date_pose_hv', 'bw_id']\n",
    "\n",
    "# columns wih BW mat values, id, and results of manual review \n",
    "# for manual review - only selected values that would be the same for both videos since last row will be used \n",
    "bw_mat_cols = bw_colnames + ['id_date_pose_hv', 'bw_id', 'frames_per_second_pose_hv',\n",
    "                             'home_or_clinic', 'assistive_device_YN',\n",
    "                             'lighting', 'light_source', 'hv_zeno_walk_date_diff', \n",
    "                             'hv_edss_date_diff', 'hv_t25fw_date_diff']\n",
    "\n",
    "bw_mat_df = hv_bw_clean_df[bw_mat_cols] # select PWS columns and id_date_pose_hv\n",
    "bw_mat_df = bw_mat_df.drop_duplicates(subset=['id_date_pose_hv'], keep='last')\n",
    "averaged_home_w_bw_df = result_df.merge(bw_mat_df, on = 'id_date_pose_hv')"
   ]
  },
  {
   "cell_type": "code",
   "execution_count": null,
   "id": "45a3c3e3-9c08-43c1-aeed-cd821991dbd4",
   "metadata": {},
   "outputs": [],
   "source": [
    "#averaged_home_w_bw_df"
   ]
  },
  {
   "cell_type": "markdown",
   "id": "01a83f05-f2fd-4356-9392-a73e3bc79ddd",
   "metadata": {},
   "source": [
    "### All videos averaged "
   ]
  },
  {
   "cell_type": "code",
   "execution_count": null,
   "id": "25b36259-0101-45e0-ac7f-c8c17ca2398a",
   "metadata": {},
   "outputs": [],
   "source": [
    "# All Home Vidoes \n",
    "video_vs_outcome_scatter(df = averaged_home_w_bw_df, \n",
    "                         output_folder_path = out_path, \n",
    "                         subfolder_name = 'Average R + L Home Video', \n",
    "                         color_col = 'PWS_velocitycmsecmean')"
   ]
  },
  {
   "cell_type": "markdown",
   "id": "39a50272-8814-4712-8948-e20d83040518",
   "metadata": {},
   "source": [
    "### Averaged: video vs visit Date Diff "
   ]
  },
  {
   "cell_type": "code",
   "execution_count": null,
   "id": "854947aa-5f47-4d65-b369-f48fb4108568",
   "metadata": {},
   "outputs": [],
   "source": [
    "# within 90 days\n",
    "avg_home_w_bw_df_wIn90 = averaged_home_w_bw_df.loc[averaged_home_w_bw_df['hv_zeno_walk_date_diff'] <= 90]\n",
    "avg_home_w_bw_df_wIn90['hv_zeno_walk_date_diff'].value_counts()\n",
    "\n",
    "video_vs_outcome_scatter(df = avg_home_w_bw_df_wIn90, \n",
    "                         output_folder_path = out_path, \n",
    "                         subfolder_name = 'Avg R + L Home wIn 90 Days', \n",
    "                         color_col = 'hv_zeno_walk_date_diff')"
   ]
  },
  {
   "cell_type": "code",
   "execution_count": null,
   "id": "0ccf702a-ce05-4ce3-a342-e8231bda1957",
   "metadata": {},
   "outputs": [],
   "source": [
    "# within 14 days \n",
    "avg_home_w_bw_df_wIn14 = averaged_home_w_bw_df.loc[averaged_home_w_bw_df['hv_zeno_walk_date_diff'] <= 14]\n",
    "avg_home_w_bw_df_wIn14['hv_zeno_walk_date_diff'].value_counts()\n",
    "\n",
    "video_vs_outcome_scatter(df = avg_home_w_bw_df_wIn14, \n",
    "                         output_folder_path = out_path, \n",
    "                         subfolder_name = 'Avg R + L Home wIn 14 Days', \n",
    "                         color_col = 'hv_zeno_walk_date_diff')"
   ]
  },
  {
   "cell_type": "markdown",
   "id": "45be423b-e5bb-4ce6-87f3-bbd074b374bd",
   "metadata": {},
   "source": [
    "### Avg # of footfalls in frame "
   ]
  },
  {
   "cell_type": "code",
   "execution_count": null,
   "id": "2e873f7a-9e46-4714-ab4c-07fec3d73781",
   "metadata": {},
   "outputs": [],
   "source": [
    "# by jessica manual review \n",
    "# average footfalls per pass \n",
    "avg_home_w_bw_df_5foot = averaged_home_w_bw_df.loc[averaged_home_w_bw_df['avg_footfalls'] >= 5]\n",
    "avg_home_w_bw_df_5foot['avg_footfalls'].value_counts()\n",
    "\n",
    "video_vs_outcome_scatter(df = avg_home_w_bw_df_5foot, \n",
    "                         output_folder_path = out_path, \n",
    "                         subfolder_name = 'Avg R + L Home 5 Footfalls', \n",
    "                         color_col = 'avg_footfalls')"
   ]
  },
  {
   "cell_type": "code",
   "execution_count": null,
   "id": "a170513b-1680-4cd1-a14c-b33087b85668",
   "metadata": {},
   "outputs": [],
   "source": [
    "# by # of strides picked up by pose calculation \n",
    "# total number of strides used for video calc \n",
    "video_vs_outcome_scatter(df = averaged_home_w_bw_df, \n",
    "                         output_folder_path = out_path, \n",
    "                         subfolder_name = 'Avg R + L Home By Strides', \n",
    "                         color_col = 'stride_time_num_strides_pose_hv')"
   ]
  },
  {
   "cell_type": "code",
   "execution_count": null,
   "id": "3efa9500-f686-48ee-82b9-66b642ad4ea9",
   "metadata": {},
   "outputs": [],
   "source": [
    "# by # of strides picked up by pose calculation \n",
    "# total number of strides used for video calc \n",
    "\n",
    "# five strides minimum \n",
    "avg_home_w_bw_df_5foot = averaged_home_w_bw_df.loc[averaged_home_w_bw_df['stride_time_num_strides_pose_hv'] >= 5]\n",
    "avg_home_w_bw_df_5foot['stride_time_num_strides_pose_hv'].value_counts()\n",
    "print(len(avg_home_w_bw_df_5foot))\n",
    "\n",
    "video_vs_outcome_scatter(df = avg_home_w_bw_df_5foot, \n",
    "                         output_folder_path = out_path, \n",
    "                         subfolder_name = 'Avg R + L Home 5 Strides', \n",
    "                         color_col = 'stride_time_num_strides_pose_hv')"
   ]
  },
  {
   "cell_type": "code",
   "execution_count": null,
   "id": "b99b69bb-b87a-465d-9b32-f2fd6c81f419",
   "metadata": {},
   "outputs": [],
   "source": [
    "# by # of strides picked up by pose calculation (at least 5) \n",
    "\n",
    "# AND within 90 days \n",
    "# five strides minimum \n",
    "avg_home_w_bw_df_5foot_wIN90 = averaged_home_w_bw_df.loc[(averaged_home_w_bw_df['stride_time_num_strides_pose_hv'] >= 5) & \n",
    "(averaged_home_w_bw_df['hv_zeno_walk_date_diff'] <= 90)]\n",
    "\n",
    "print(len(avg_home_w_bw_df_5foot_wIN90))\n",
    "print(avg_home_w_bw_df_5foot_wIN90['stride_time_num_strides_pose_hv'].value_counts())\n",
    "print(avg_home_w_bw_df_5foot_wIN90['hv_zeno_walk_date_diff'].value_counts())\n",
    "\n",
    "video_vs_outcome_scatter(df = avg_home_w_bw_df_5foot_wIN90, \n",
    "                         output_folder_path = out_path, \n",
    "                         subfolder_name = 'Avg R + L Home 5 Strides and 90D', \n",
    "                         color_col = 'stride_time_num_strides_pose_hv')\n"
   ]
  },
  {
   "cell_type": "markdown",
   "id": "86138b14-f42e-4fa5-9d0f-480e99322fd3",
   "metadata": {},
   "source": [
    "### Assistive Device "
   ]
  },
  {
   "cell_type": "code",
   "execution_count": null,
   "id": "3d2325e2-7a82-49f5-ae8a-ce035fb264d3",
   "metadata": {},
   "outputs": [],
   "source": [
    "avg_home_w_bw_df_NoAD = averaged_home_w_bw_df.loc[averaged_home_w_bw_df['assistive_device_YN'] == 'N']\n",
    "avg_home_w_bw_df_NoAD['assistive_device_YN'].value_counts() \n",
    "\n",
    "video_vs_outcome_scatter(df = avg_home_w_bw_df_NoAD, \n",
    "                         output_folder_path = out_path, \n",
    "                         subfolder_name = 'Avg R + L Home No AD', \n",
    "                         color_col = 'avg_footfalls')"
   ]
  },
  {
   "cell_type": "markdown",
   "id": "7178ac76-f1c1-4fd2-b8fd-9f1c28136803",
   "metadata": {},
   "source": [
    "### Light source "
   ]
  },
  {
   "cell_type": "code",
   "execution_count": null,
   "id": "f6ca3236-3dc4-409a-9d4b-86794fde4b4e",
   "metadata": {},
   "outputs": [],
   "source": [
    "averaged_home_w_bw_df['light_source'].value_counts() "
   ]
  },
  {
   "cell_type": "code",
   "execution_count": null,
   "id": "4a7276c0-5d59-4f29-bfaf-bed3e5a782f2",
   "metadata": {},
   "outputs": [],
   "source": [
    "# no windows in frame \n",
    "window_categories = ['windows_visible', 'both_visible']\n",
    "\n",
    "avg_home_w_bw_df_noWindows = averaged_home_w_bw_df.loc[~averaged_home_w_bw_df['light_source'].isin(window_categories)]\n",
    "avg_home_w_bw_df_noWindows['light_source'].value_counts()\n",
    "\n",
    "video_vs_outcome_scatter(df = avg_home_w_bw_df_noWindows, \n",
    "                         output_folder_path = out_path, \n",
    "                         subfolder_name = 'Avg R + L Home No Windows', \n",
    "                         color_col = 'light_source')"
   ]
  },
  {
   "cell_type": "code",
   "execution_count": null,
   "id": "71e47532-b5cb-4363-a8d0-2868aae63b48",
   "metadata": {},
   "outputs": [],
   "source": [
    "print(len(avg_home_w_bw_df_noWindows))"
   ]
  },
  {
   "cell_type": "code",
   "execution_count": null,
   "id": "5b757edc-5e19-42be-a9e6-fbb9cc463365",
   "metadata": {},
   "outputs": [],
   "source": [
    "# windows in frame \n",
    "avg_home_w_bw_df_Windows = averaged_home_w_bw_df.loc[averaged_home_w_bw_df['light_source'].isin(window_categories)]\n",
    "avg_home_w_bw_df_Windows['light_source'].value_counts()\n",
    "\n",
    "video_vs_outcome_scatter(df = avg_home_w_bw_df_Windows, \n",
    "                         output_folder_path = out_path, \n",
    "                         subfolder_name = 'Avg R + L Home w Windows', \n",
    "                         color_col = 'light_source')"
   ]
  },
  {
   "cell_type": "markdown",
   "id": "90f33285-f6ae-4cc6-88d1-8a39d2806d1f",
   "metadata": {},
   "source": [
    "### Lighting "
   ]
  },
  {
   "cell_type": "code",
   "execution_count": null,
   "id": "7c6f4082-e24a-40cd-ac72-7007f6bc8387",
   "metadata": {},
   "outputs": [],
   "source": [
    "avg_home_w_bw_df_wellLit = averaged_home_w_bw_df.loc[averaged_home_w_bw_df['lighting'] == 'well_lit'] \n",
    "avg_home_w_bw_df_wellLit['lighting'].value_counts() \n",
    "\n",
    "video_vs_outcome_scatter(df = avg_home_w_bw_df_wellLit, \n",
    "                         output_folder_path = out_path, \n",
    "                         subfolder_name = 'Avg R + L Home Well Lit', \n",
    "                         color_col = 'light_source')"
   ]
  },
  {
   "cell_type": "markdown",
   "id": "81515418-d7d2-4fa9-bebb-bb0c8ff7dd00",
   "metadata": {},
   "source": [
    "### Frames per second "
   ]
  },
  {
   "cell_type": "code",
   "execution_count": null,
   "id": "2def2de3-a636-45b8-8df8-ad22565bad83",
   "metadata": {},
   "outputs": [],
   "source": [
    "# plot all color by \n",
    "averaged_home_w_bw_df['fps_30_YN'] = ''\n",
    "averaged_home_w_bw_df.loc[averaged_home_w_bw_df['frames_per_second_pose_hv'] == 30, 'fps_30_YN'] = 'Y'\n",
    "averaged_home_w_bw_df.loc[averaged_home_w_bw_df['frames_per_second_pose_hv'] != 30, 'fps_30_YN'] = 'N'\n",
    "\n",
    "averaged_home_w_bw_df[['frames_per_second_pose_hv', 'fps_30_YN']].head()\n",
    "\n",
    "video_vs_outcome_scatter(df = averaged_home_w_bw_df, \n",
    "                         output_folder_path = out_path, \n",
    "                         subfolder_name = 'Avg R + L Home by FPS', \n",
    "                         color_col = 'fps_30_YN')"
   ]
  },
  {
   "cell_type": "code",
   "execution_count": null,
   "id": "d1d09fed-c20e-4c6d-baab-a4ccf46ef2c4",
   "metadata": {},
   "outputs": [],
   "source": [
    "# 30 fps - same as in-person \n",
    "avg_home_w_bw_df_30fps = averaged_home_w_bw_df.loc[averaged_home_w_bw_df['frames_per_second_pose_hv'] == 30] \n",
    "avg_home_w_bw_df_30fps['frames_per_second_pose_hv'].value_counts()\n",
    "\n",
    "video_vs_outcome_scatter(df = avg_home_w_bw_df_30fps, \n",
    "                         output_folder_path = out_path, \n",
    "                         subfolder_name = 'Avg R + L Home 30fps', \n",
    "                         color_col = 'frames_per_second_pose_hv')"
   ]
  },
  {
   "cell_type": "code",
   "execution_count": null,
   "id": "9229c0f6-3e4b-46fd-b78e-01a93b312656",
   "metadata": {},
   "outputs": [],
   "source": [
    "# at least 30 frames per secodn \n",
    "avg_home_w_bw_df_More30 = averaged_home_w_bw_df.loc[averaged_home_w_bw_df['frames_per_second_pose_hv'] >= 30] \n",
    "avg_home_w_bw_df_More30['frames_per_second_pose_hv'].value_counts()\n",
    "\n",
    "video_vs_outcome_scatter(df = avg_home_w_bw_df_More30, \n",
    "                         output_folder_path = out_path, \n",
    "                         subfolder_name = 'Avg R + L Home At Least 30 FPS', \n",
    "                         color_col = 'frames_per_second_pose_hv')"
   ]
  },
  {
   "cell_type": "markdown",
   "id": "1ff3d172-91ec-4464-8593-3b1f42bac39f",
   "metadata": {},
   "source": [
    "## PWS "
   ]
  },
  {
   "cell_type": "code",
   "execution_count": null,
   "id": "f8461aa8-fc27-4d38-9955-bee5d9e3454c",
   "metadata": {},
   "outputs": [],
   "source": [
    "# PWS \n",
    "# color dots by how fast person is walking in video metrics were derived from \n",
    "video_vs_outcome_scatter(df = zv_pws_bw_clean_df, \n",
    "                         output_folder_path = out_path, \n",
    "                         subfolder_name = 'Zeno PWS',\n",
    "                         color_col = 'PWS_velocitycmsecmean')"
   ]
  },
  {
   "cell_type": "code",
   "execution_count": null,
   "id": "4d4d52cb-58af-4363-9f76-658c5912da7c",
   "metadata": {},
   "outputs": [],
   "source": [
    "# PWS \n",
    "zv_pws_bw_clean_df_2 = zv_pws_bw_clean_df.dropna(subset = ['delta_pix_h_rel_median_pose_zv',\n",
    "                                                           'stride_time_median_sec_pose_zv', \n",
    "                                                           'mean_cadence_step_per_min_pose_zv', \n",
    "                                                           'stride_width_median_cm_pose_zv'])\n",
    "zv_pws_bw_clean_df_2 = zv_pws_bw_clean_df_2.copy()"
   ]
  },
  {
   "cell_type": "code",
   "execution_count": null,
   "id": "d4ffd450-56b0-4584-b252-06ed75fde0f0",
   "metadata": {},
   "outputs": [],
   "source": [
    "# PWS \n",
    "# color dots by how fast person is walking in video metrics were derived from \n",
    "video_vs_outcome_scatter(df = zv_pws_bw_clean_df_2, \n",
    "                         output_folder_path = out_path, \n",
    "                         subfolder_name = 'Zeno PWS Clean',\n",
    "                         color_col = 'PWS_velocitycmsecmean')"
   ]
  },
  {
   "cell_type": "markdown",
   "id": "2904197d-1fca-481c-aec1-5044993fa1c8",
   "metadata": {},
   "source": [
    "## FW  "
   ]
  },
  {
   "cell_type": "code",
   "execution_count": null,
   "id": "335dfd19-3615-4834-9da3-262e23ab8f0a",
   "metadata": {},
   "outputs": [],
   "source": [
    "# color dots by how fast person is walking in video metrics were derived from \n",
    "video_vs_outcome_scatter(df = zv_fw_bw_clean_df, \n",
    "                         output_folder_path = out_path, \n",
    "                         subfolder_name = 'Zeno FW', \n",
    "                        color_col = 'FW_velocitycmsecmean')"
   ]
  },
  {
   "cell_type": "code",
   "execution_count": null,
   "id": "3b12dfe1-74ef-47f1-9b76-5ce1e91d51c2",
   "metadata": {},
   "outputs": [],
   "source": [
    "# FW clean \n",
    "zv_fw_bw_clean_df_2 = zv_fw_bw_clean_df.dropna(subset = ['delta_pix_h_rel_median_pose_zv',\n",
    "                                                         'stride_time_median_sec_pose_zv', \n",
    "                                                         'mean_cadence_step_per_min_pose_zv', \n",
    "                                                           'stride_width_median_cm_pose_zv'])\n",
    "zv_fw_bw_clean_df_2 = zv_fw_bw_clean_df_2.copy()"
   ]
  },
  {
   "cell_type": "code",
   "execution_count": null,
   "id": "fb4015b1-9ec2-48f1-9fad-7e68ce7f6022",
   "metadata": {},
   "outputs": [],
   "source": [
    "# FW \n",
    "# color dots by how fast person is walking in video metrics were derived from \n",
    "video_vs_outcome_scatter(df = zv_fw_bw_clean_df, \n",
    "                         output_folder_path = out_path, \n",
    "                         subfolder_name = 'Zeno FW Clean', \n",
    "                        color_col = 'FW_velocitycmsecmean')"
   ]
  }
 ],
 "metadata": {
  "kernelspec": {
   "display_name": "venv_home_video_analysis_2",
   "language": "python",
   "name": "venv_home_video_analysis_2"
  },
  "language_info": {
   "codemirror_mode": {
    "name": "ipython",
    "version": 3
   },
   "file_extension": ".py",
   "mimetype": "text/x-python",
   "name": "python",
   "nbconvert_exporter": "python",
   "pygments_lexer": "ipython3",
   "version": "3.10.11"
  }
 },
 "nbformat": 4,
 "nbformat_minor": 5
}
