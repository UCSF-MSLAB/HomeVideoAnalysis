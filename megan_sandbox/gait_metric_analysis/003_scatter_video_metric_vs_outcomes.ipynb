{
 "cells": [
  {
   "cell_type": "code",
   "execution_count": 1,
   "id": "f91c1d39-6a36-414a-812b-59f3d16d2291",
   "metadata": {},
   "outputs": [],
   "source": [
    "import pandas as pd \n",
    "import numpy as np\n",
    "import os \n",
    "import scipy.stats as stats\n",
    "import seaborn as sns \n",
    "import matplotlib.pyplot as plt "
   ]
  },
  {
   "cell_type": "markdown",
   "id": "890b5375-f2a6-4f20-84b6-36e319719118",
   "metadata": {},
   "source": [
    "## Set input and output folders "
   ]
  },
  {
   "cell_type": "code",
   "execution_count": 2,
   "id": "3166dcca-6aa0-4a8e-9d4f-bea138feeec0",
   "metadata": {},
   "outputs": [],
   "source": [
    "# analysis folder version  \n",
    "analysis_version = '005'\n"
   ]
  },
  {
   "cell_type": "code",
   "execution_count": 3,
   "id": "6ad62a20-0ea9-4f6a-83d2-22bebd67ce6a",
   "metadata": {},
   "outputs": [],
   "source": [
    "out_path = os.path.join(r'C:\\Users\\mmccu\\Box\\MM_Personal\\5_Projects\\BoveLab\\3_Data_and_Code\\gait_bw_zeno_home_analysis',\n",
    "                        analysis_version, \n",
    "                        '003_scatter_video_vs_outcomes')\n",
    "\n",
    "if not os.path.exists(out_path): \n",
    "    os.makedirs(out_path)"
   ]
  },
  {
   "cell_type": "markdown",
   "id": "7b735753-cf13-4640-a1f3-c666cdee291d",
   "metadata": {},
   "source": [
    "### Load Clean Data - no missing BW Data \n",
    "May be missing video data - see excel with counts "
   ]
  },
  {
   "cell_type": "code",
   "execution_count": 4,
   "id": "af89c750-2183-4a73-8a39-a21fd9f93200",
   "metadata": {},
   "outputs": [],
   "source": [
    "# PWS \n",
    "zv_pws_bw_clean_path = os.path.join(r'C:\\Users\\mmccu\\Box\\MM_Personal\\5_Projects\\BoveLab\\3_Data_and_Code\\gait_bw_zeno_home_analysis', \n",
    "                                    analysis_version, \n",
    "                                    '000_merged_cleaned_data\\zv_bw_merged_gait_vertical_PWS_1_clean.csv')\n",
    "zv_pws_bw_clean_df = pd.read_csv(zv_pws_bw_clean_path, index_col = 0)\n",
    "\n",
    "# FW \n",
    "zv_fw_bw_clean_path = os.path.join(r'C:\\Users\\mmccu\\Box\\MM_Personal\\5_Projects\\BoveLab\\3_Data_and_Code\\gait_bw_zeno_home_analysis', \n",
    "                                    analysis_version, \n",
    "                                   '000_merged_cleaned_data\\zv_bw_merged_gait_vertical_FW_1_clean.csv') \n",
    "zv_fw_bw_clean_df = pd.read_csv(zv_fw_bw_clean_path, index_col = 0) \n",
    "\n",
    "# Home Videos \n",
    "hv_bw_clean_path = os.path.join(r'C:\\Users\\mmccu\\Box\\MM_Personal\\5_Projects\\BoveLab\\3_Data_and_Code\\gait_bw_zeno_home_analysis', \n",
    "                                analysis_version, \n",
    "                                '000_merged_cleaned_data\\hv_bw_merged_clean.csv') \n",
    "\n",
    "hv_bw_clean_df = pd.read_csv(hv_bw_clean_path, index_col = 0) "
   ]
  },
  {
   "cell_type": "markdown",
   "id": "d9d3c004-504a-41eb-a428-2ad9e650691a",
   "metadata": {},
   "source": [
    "## Scatter plot, correlation, heatmat \n",
    "- scatter of each video metric vs: EDSS |  T25FW | Zeno PWS Velocity | Zeno FW Velocity\n",
    "- heatmap\n",
    "- .csv file of correlation matrix "
   ]
  },
  {
   "cell_type": "code",
   "execution_count": 11,
   "id": "39f8ffbd-d7f5-43c0-875f-b9a4162b1454",
   "metadata": {},
   "outputs": [],
   "source": [
    "# correlation with clinical outcomes \n",
    "def video_vs_outcome_scatter(df, output_folder_path, subfolder_name, color_col): \n",
    "    \n",
    "    out_plots_path = os.path.join(output_folder_path,  subfolder_name + '_scatterplots')\n",
    "    \n",
    "    if not os.path.exists(out_plots_path):\n",
    "        os.makedirs(out_plots_path)\n",
    "\n",
    "    if not os.path.exists(os.path.join(out_plots_path, 'edss')):\n",
    "        os.makedirs(os.path.join(out_plots_path, 'edss'))\n",
    "\n",
    "    if not os.path.exists(os.path.join(out_plots_path, 't25fw')):\n",
    "        os.makedirs(os.path.join(out_plots_path, 't25fw'))\n",
    "\n",
    "    if not os.path.exists(os.path.join(out_plots_path, 'PWS_velocity')):\n",
    "        os.makedirs(os.path.join(out_plots_path, 'PWS_velocity'))\n",
    "\n",
    "    if not os.path.exists(os.path.join(out_plots_path, 'FW_velocity')):\n",
    "        os.makedirs(os.path.join(out_plots_path, 'FW_velocity'))\n",
    "\n",
    "    # drop date time columns \n",
    "    if 'bw_hv_abs_date_diff' in df.columns:\n",
    "        df = df.drop(columns=['bw_hv_abs_date_diff'])\n",
    "        \n",
    "    # Keep only numeric and ordinal columns\n",
    "    numeric_cols = df.select_dtypes(include=['number']).columns\n",
    "    ordinal_cols = df.select_dtypes(include=['category']).columns\n",
    "    df_num = df[numeric_cols.union(ordinal_cols)]\n",
    "\n",
    "    # Create an empty DataFrame to store the Spearman correlation coefficients\n",
    "    n_cols = df_num.shape[1]\n",
    "\n",
    "    corr_matrix = pd.DataFrame(np.zeros((n_cols, n_cols)), columns=df_num.columns, index=df_num.columns)\n",
    "    pvalue_matrix = pd.DataFrame(np.zeros((n_cols, n_cols)), columns=df_num.columns, index=df_num.columns)\n",
    "    n_videos_matrix = pd.DataFrame(np.zeros((n_cols, n_cols)), columns=df_num.columns, index=df_num.columns)\n",
    "    \n",
    "    for col1 in df_num.columns:\n",
    "        for col2 in df_num.columns:\n",
    "\n",
    "            df_num_clean = df.dropna(subset=[col1, col2]) # drop rows if col1 and col2 are both nan\n",
    "\n",
    "            # unless all values the same in one column, run spearman correlation\n",
    "            if df_num_clean[col1].nunique() <= 1 or df_num_clean[col2].nunique() <= 1: \n",
    "                corr = np.nan\n",
    "                p_value = np.nan \n",
    "            else: \n",
    "                corr, p_value = stats.spearmanr(df_num_clean[col1], df_num_clean[col2])\n",
    "\n",
    "            # save results in matrix \n",
    "            corr_matrix.loc[col1, col2] = round(corr, 2)\n",
    "            pvalue_matrix.loc[col1, col2] = round(p_value, 3)\n",
    "            n_videos_matrix.loc[col1, col2] = len(df_num_clean) # number of rows with data for both columns \n",
    "\n",
    "            # scatterplot of EDSS, T25FW, and mat velocity \n",
    "            if col1 == 'bingoEHR_EDSS_measure_value':\n",
    "                sns.scatterplot(data=df_num_clean, x=col2, y=col1, hue = color_col) \n",
    "                plt.title(subfolder_name)\n",
    "                plt.savefig(os.path.join(out_plots_path, 'edss', col2 + '.png'))\n",
    "                plt.close()\n",
    "\n",
    "            if col1 == 'msfcEHR_T25FW SPEED AVG':\n",
    "                sns.scatterplot(data=df_num_clean, x=col2, y=col1, hue = color_col) \n",
    "                plt.title(subfolder_name)\n",
    "                plt.savefig(os.path.join(out_plots_path, 't25fw', col2 + '.png'))\n",
    "                plt.close()\n",
    "\n",
    "            if col1 == 'PWS_velocitycmsecmean': \n",
    "                sns.scatterplot(data=df_num_clean, x=col2, y=col1, hue = color_col)\n",
    "                plt.title(subfolder_name)\n",
    "                plt.savefig(os.path.join(out_plots_path, 'PWS_velocity', col2 + '.png'))\n",
    "                plt.close()\n",
    "\n",
    "            if col1 == 'FW_velocitycmsecmean': \n",
    "                sns.scatterplot(data=df_num_clean, x=col2, y=col1, hue = color_col) \n",
    "                plt.title(subfolder_name)\n",
    "                plt.savefig(os.path.join(out_plots_path, 'FW_velocity', col2 + '.png'))\n",
    "                plt.close()\n",
    "    \n",
    "    #  Plot and save the heatmap \n",
    "    plt.figure(figsize=(8, 6))\n",
    "    sns.heatmap(corr_matrix, annot=False, cmap=\"coolwarm\", center=0)\n",
    "    plt.title(\"Spearman Rank Correlation Heatmap\")\n",
    "    plt.savefig(os.path.join(output_folder_path, subfolder_name + '_heatmap.png'))\n",
    "    plt.close()\n",
    "\n",
    "    # save correlation matrix \n",
    "    corr_matrix.to_csv(os.path.join(output_folder_path, subfolder_name + '_corr_matrix.csv'))\n",
    "    pvalue_matrix.to_csv(os.path.join(output_folder_path, subfolder_name + '_pvalue_matrix.csv'))\n",
    "    n_videos_matrix.to_csv(os.path.join(output_folder_path, subfolder_name + '_n_pairs_matrix.csv'))"
   ]
  },
  {
   "cell_type": "markdown",
   "id": "2e503cd6-83bd-492a-a109-fe9bf83c7bee",
   "metadata": {},
   "source": [
    "# Plot each numeric columns vs EDSS, T25FW, PWS and FW velocity \n",
    "Color by one column "
   ]
  },
  {
   "cell_type": "code",
   "execution_count": 12,
   "id": "d4ffd450-56b0-4584-b252-06ed75fde0f0",
   "metadata": {},
   "outputs": [],
   "source": [
    "# PWS \n",
    "# color dots by how fast person is walking in video metrics were derived from \n",
    "video_vs_outcome_scatter(df = zv_pws_bw_clean_df, \n",
    "                         output_folder_path = out_path, \n",
    "                         subfolder_name = 'zeno_pws',\n",
    "                         color_col = 'PWS_velocitycmsecmean')"
   ]
  },
  {
   "cell_type": "code",
   "execution_count": 13,
   "id": "fb4015b1-9ec2-48f1-9fad-7e68ce7f6022",
   "metadata": {},
   "outputs": [],
   "source": [
    "# FW \n",
    "# color dots by how fast person is walking in video metrics were derived from \n",
    "video_vs_outcome_scatter(df = zv_fw_bw_clean_df, \n",
    "                         output_folder_path = out_path, \n",
    "                         subfolder_name = 'zeno_fw', \n",
    "                        color_col = 'FW_velocitycmsecmean')"
   ]
  },
  {
   "cell_type": "code",
   "execution_count": 14,
   "id": "d47dd0e6-3885-4ae4-b7fc-00b926825aac",
   "metadata": {},
   "outputs": [],
   "source": [
    "# Home Videos  \n",
    "# color dots by most recent preferred walking speed task \n",
    "video_vs_outcome_scatter(df = hv_bw_clean_df, \n",
    "                         output_folder_path = out_path, \n",
    "                         subfolder_name = 'home',\n",
    "                        color_col = 'PWS_velocitycmsecmean')"
   ]
  }
 ],
 "metadata": {
  "kernelspec": {
   "display_name": "venv_home_video_analysis_2",
   "language": "python",
   "name": "venv_home_video_analysis_2"
  },
  "language_info": {
   "codemirror_mode": {
    "name": "ipython",
    "version": 3
   },
   "file_extension": ".py",
   "mimetype": "text/x-python",
   "name": "python",
   "nbconvert_exporter": "python",
   "pygments_lexer": "ipython3",
   "version": "3.10.11"
  }
 },
 "nbformat": 4,
 "nbformat_minor": 5
}
