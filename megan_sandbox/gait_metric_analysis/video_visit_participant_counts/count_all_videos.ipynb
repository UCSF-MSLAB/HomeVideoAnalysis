{
 "cells": [
  {
   "cell_type": "code",
   "execution_count": 1,
   "id": "ab2320cd-6318-4ae5-a8ff-91b7953b6c3a",
   "metadata": {},
   "outputs": [],
   "source": [
    "import os \n",
    "import pandas as pd "
   ]
  },
  {
   "cell_type": "code",
   "execution_count": 2,
   "id": "f5247616-fd42-493d-bd42-a09d2e123bbd",
   "metadata": {},
   "outputs": [],
   "source": [
    "# input file \n",
    "zeno_video_folder = r'C:\\Users\\mmccu\\Box\\MM_Personal\\5_Projects\\BoveLab\\3_Data_and_Code\\2024_10_Megan_BW_Zeno'\n",
    "\n",
    "home_video_folder = r'C:\\Users\\mmccu\\Box\\Brainwalk\\Home Video Walking\\Walking home videos for analysis'"
   ]
  },
  {
   "cell_type": "markdown",
   "id": "ada610c3-b650-415e-9eff-a4dae12d318a",
   "metadata": {},
   "source": [
    "## Zeno videos "
   ]
  },
  {
   "cell_type": "code",
   "execution_count": null,
   "id": "18a7a540-8e9d-40d5-98f5-8459bdf8690f",
   "metadata": {},
   "outputs": [],
   "source": [
    "# get BW-ID and date for all gait_vertical_videos \n",
    "# start fom original pose, save .csv\n",
    "\n",
    "ALLOWED_VID_FORMATS = [\"asf\", \"avi\", \"gif\", \"m4v\",\n",
    "                       \"mkv\", \"mov\", \"mp4\", \"mpeg\",\n",
    "                       \"mpg\", \"ts\", \"wmv\", \"webm\"]\n",
    "\n",
    "# loop through all files in input path \n",
    "zv_video_files_all = []\n",
    "for (dir_path, dir_names, file_names) in os.walk(zeno_video_folder):\n",
    "    for file_name in file_names: \n",
    "        name, ext = os.path.splitext(file_name)\n",
    "        ext = ext.lower()[1:]\n",
    "        current_raw_data_in_path = os.path.join(dir_path, file_name) # full path to files \n",
    "        # save full path to file if it meets requirements to run in analysis \n",
    "        if (ext in ALLOWED_VID_FORMATS) & ('gait_vertical' in name): \n",
    "            parent1, date = os.path.split(dir_path)\n",
    "            parent2, bw_id = os.path.split(parent1)\n",
    "            zv_video_files_all.append((name, date, bw_id))\n",
    "\n",
    "zv_video_files_all_df = pd.DataFrame(zv_video_files_all,  columns = ['file_name', 'video_date', 'bw_id']) "
   ]
  },
  {
   "cell_type": "code",
   "execution_count": null,
   "id": "f0e23efb-1b2e-4b80-8094-e62d2dd9ed84",
   "metadata": {},
   "outputs": [],
   "source": [
    "## save video_files_all_df in analysis main folder for in-person videos \n",
    "zv_video_files_all_df.head()\n",
    "zv_video_files_filt_by_task_df = zv_video_files_all_df[zv_video_files_all_df['file_name'].str.contains('FW_1|PWS_1')]\n",
    "\n",
    "zv_path = r'C:\\Users\\mmccu\\Box\\MM_Personal\\5_Projects\\BoveLab\\3_Data_and_Code\\gait_bw_zeno_home_analysis\\all_zeno_videos.csv'\n",
    "zv_video_files_filt_by_task_df.to_csv(zv_path)"
   ]
  },
  {
   "cell_type": "markdown",
   "id": "f90eacf8-c03e-4db9-a2c1-5007b50436cf",
   "metadata": {},
   "source": [
    "## Home Videos"
   ]
  },
  {
   "cell_type": "code",
   "execution_count": 4,
   "id": "764add13-a664-47f0-b368-dac905dd333d",
   "metadata": {},
   "outputs": [],
   "source": [
    "# get BW-ID and date for all gait_vertical_videos \n",
    "# start fom original pose, save .csv\n",
    "\n",
    "ALLOWED_VID_FORMATS = [\"asf\", \"avi\", \"gif\", \"m4v\",\n",
    "                       \"mkv\", \"mov\", \"mp4\", \"mpeg\",\n",
    "                       \"mpg\", \"ts\", \"wmv\", \"webm\"]\n",
    "\n",
    "# loop through all files in input path \n",
    "hv_video_files_all = []\n",
    "for (dir_path, dir_names, file_names) in os.walk(home_video_folder):\n",
    "    for file_name in file_names: \n",
    "        name, ext = os.path.splitext(file_name)\n",
    "        ext = ext.lower()[1:]\n",
    "        current_raw_data_in_path = os.path.join(dir_path, file_name) # full path to files \n",
    "        # save full path to file if it meets requirements to run in analysis \n",
    "        if (ext in ALLOWED_VID_FORMATS) & ('gait_vertical' in name): \n",
    "            parent1, date = os.path.split(dir_path)\n",
    "            parent2, bw_id = os.path.split(parent1)\n",
    "            hv_video_files_all.append((name, date, bw_id))\n",
    "\n",
    "hv_video_files_all_df = pd.DataFrame(hv_video_files_all,  columns = ['file_name', 'video_date', 'bw_id']) "
   ]
  },
  {
   "cell_type": "code",
   "execution_count": 5,
   "id": "08f40822-364e-427d-bcbc-5a591c4db0fb",
   "metadata": {},
   "outputs": [
    {
     "data": {
      "text/html": [
       "<div>\n",
       "<style scoped>\n",
       "    .dataframe tbody tr th:only-of-type {\n",
       "        vertical-align: middle;\n",
       "    }\n",
       "\n",
       "    .dataframe tbody tr th {\n",
       "        vertical-align: top;\n",
       "    }\n",
       "\n",
       "    .dataframe thead th {\n",
       "        text-align: right;\n",
       "    }\n",
       "</style>\n",
       "<table border=\"1\" class=\"dataframe\">\n",
       "  <thead>\n",
       "    <tr style=\"text-align: right;\">\n",
       "      <th></th>\n",
       "      <th>file_name</th>\n",
       "      <th>video_date</th>\n",
       "      <th>bw_id</th>\n",
       "    </tr>\n",
       "  </thead>\n",
       "  <tbody>\n",
       "    <tr>\n",
       "      <th>0</th>\n",
       "      <td>gait_vertical_left</td>\n",
       "      <td>10-24-23</td>\n",
       "      <td>BW-0018</td>\n",
       "    </tr>\n",
       "    <tr>\n",
       "      <th>1</th>\n",
       "      <td>gait_vertical_right</td>\n",
       "      <td>10-24-23</td>\n",
       "      <td>BW-0018</td>\n",
       "    </tr>\n",
       "    <tr>\n",
       "      <th>2</th>\n",
       "      <td>gait_vertical_left</td>\n",
       "      <td>05-05-2023</td>\n",
       "      <td>BW-0023</td>\n",
       "    </tr>\n",
       "    <tr>\n",
       "      <th>3</th>\n",
       "      <td>gait_vertical_right</td>\n",
       "      <td>05-05-2023</td>\n",
       "      <td>BW-0023</td>\n",
       "    </tr>\n",
       "    <tr>\n",
       "      <th>4</th>\n",
       "      <td>gait_vertical_left</td>\n",
       "      <td>10-23-2023</td>\n",
       "      <td>BW-0023</td>\n",
       "    </tr>\n",
       "  </tbody>\n",
       "</table>\n",
       "</div>"
      ],
      "text/plain": [
       "             file_name  video_date    bw_id\n",
       "0   gait_vertical_left    10-24-23  BW-0018\n",
       "1  gait_vertical_right    10-24-23  BW-0018\n",
       "2   gait_vertical_left  05-05-2023  BW-0023\n",
       "3  gait_vertical_right  05-05-2023  BW-0023\n",
       "4   gait_vertical_left  10-23-2023  BW-0023"
      ]
     },
     "execution_count": 5,
     "metadata": {},
     "output_type": "execute_result"
    }
   ],
   "source": [
    "hv_video_files_all_df.head()"
   ]
  },
  {
   "cell_type": "code",
   "execution_count": 8,
   "id": "6cf8217e-a898-4a68-a1df-bc4c7f4537ca",
   "metadata": {},
   "outputs": [],
   "source": [
    "hv_path = r'C:\\Users\\mmccu\\Box\\MM_Personal\\5_Projects\\BoveLab\\3_Data_and_Code\\gait_bw_zeno_home_analysis\\all_home_videos.csv'\n",
    "hv_video_files_all_df.to_csv(hv_path)"
   ]
  }
 ],
 "metadata": {
  "kernelspec": {
   "display_name": "venv_home_video_analysis_2",
   "language": "python",
   "name": "venv_home_video_analysis_2"
  },
  "language_info": {
   "codemirror_mode": {
    "name": "ipython",
    "version": 3
   },
   "file_extension": ".py",
   "mimetype": "text/x-python",
   "name": "python",
   "nbconvert_exporter": "python",
   "pygments_lexer": "ipython3",
   "version": "3.10.11"
  }
 },
 "nbformat": 4,
 "nbformat_minor": 5
}
