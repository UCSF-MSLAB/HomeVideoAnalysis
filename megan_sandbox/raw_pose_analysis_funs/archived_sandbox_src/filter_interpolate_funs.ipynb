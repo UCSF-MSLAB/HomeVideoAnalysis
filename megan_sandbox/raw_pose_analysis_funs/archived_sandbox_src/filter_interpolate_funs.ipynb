{
 "cells": [
  {
   "cell_type": "code",
   "execution_count": 1,
   "id": "ccb92df9-9296-4bc6-9198-a75c97b93719",
   "metadata": {},
   "outputs": [],
   "source": [
    "def interpolate_mp_landmark_singe_axis(mp_df, landmark, axis_to_interpolate):\n",
    "    mp_df_landmark = mp_df.loc[(mp_df['label'] == landmark)|(mp_df['label'] == 'no_labels_tracked')]\n",
    "\n",
    "    return(mp_df_landmark)\n",
    "    "
   ]
  },
  {
   "cell_type": "code",
   "execution_count": 2,
   "id": "2c0d958a-2784-4cd8-a8f4-7aebcd2095e1",
   "metadata": {},
   "outputs": [],
   "source": [
    "def filter_mp_landmark_single_axis(mp_df, landmark, axis_to_filter, video_fps, cutoff_hz, filter_order): \n",
    "    mp_df_landmark = mp_df.loc[(mp_df['label'] == landmark)|(mp_df['label'] == 'no_labels_tracked')]\n",
    "    mp_df_landmark.index = mp_df_landmark['frame'] # set index to frame\n",
    "\n",
    "    # data = series, one landmark and one axis (column) \n",
    "    data = mp_df_landmark[axis_to_filter]\n",
    "       \n",
    "    # Normalized cutoff frequency (cutoff frequency divided by the Nyquist frequency)\n",
    "    nyquist = 0.5 * video_fps\n",
    "    normal_cutoff = cutoff_hz / nyquist\n",
    "\n",
    "    # Design a Butterworth low-pass filter\n",
    "    b, a = sig.butter(filter_order, normal_cutoff, btype='low', analog=False)\n",
    "\n",
    "    # filter data \n",
    "    filtered_data = sig.filtfilt(b, a, data)\n",
    "    filtered_data = pd.Series(filtered_data)\n",
    "    \n",
    "    return ([mp_df_landmark, data, filtered_data])"
   ]
  },
  {
   "cell_type": "code",
   "execution_count": 3,
   "id": "1d8aece0-f131-4437-a5e8-b8b3939084f9",
   "metadata": {},
   "outputs": [],
   "source": [
    "#def interpolate_yolo_landmark_singe_axis()"
   ]
  },
  {
   "cell_type": "code",
   "execution_count": 4,
   "id": "d0bcc1a5-2ccb-4eca-9e4d-630b4a9c4272",
   "metadata": {},
   "outputs": [],
   "source": [
    "#def filter_yolo_landmark_single_axis()"
   ]
  },
  {
   "cell_type": "code",
   "execution_count": 5,
   "id": "8a6543e8-2cdb-4e80-861f-3813807f4f23",
   "metadata": {},
   "outputs": [
    {
     "name": "stderr",
     "output_type": "stream",
     "text": [
      "[NbConvertApp] Converting notebook filter_interpolate_funs.ipynb to script\n",
      "[NbConvertApp] Writing 1215 bytes to filter_interpolate_funs.py\n"
     ]
    }
   ],
   "source": [
    "!jupyter nbconvert --to script filter_interpolate_funs.ipynb"
   ]
  }
 ],
 "metadata": {
  "kernelspec": {
   "display_name": "venv_home_video_analysis_2",
   "language": "python",
   "name": "venv_home_video_analysis_2"
  },
  "language_info": {
   "codemirror_mode": {
    "name": "ipython",
    "version": 3
   },
   "file_extension": ".py",
   "mimetype": "text/x-python",
   "name": "python",
   "nbconvert_exporter": "python",
   "pygments_lexer": "ipython3",
   "version": "3.10.11"
  }
 },
 "nbformat": 4,
 "nbformat_minor": 5
}
