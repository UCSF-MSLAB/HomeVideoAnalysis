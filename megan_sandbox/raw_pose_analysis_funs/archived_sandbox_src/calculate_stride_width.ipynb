{
 "cells": [
  {
   "cell_type": "code",
   "execution_count": 1,
   "id": "6332b16a-9ec4-4e72-91bc-9d3be562afbc",
   "metadata": {},
   "outputs": [],
   "source": [
    "\n",
    "#PKMAS - Stride Width is the perpendicular distance between the line connecting the two ipsilateral foot heel contacts (stride) with the contralateral heel contact between those events (cm).\n",
    "\n",
    "# don't think we can calculate in same way without z distance in vertical videos.\n",
    "    # from deID Brainwalk dataset: Zeno stride width - mean 9.3 cm, median 9.1 cm\n",
    "    # Using  x value of heels when y difference between heels = 0, x value of world mp data (meters)"
   ]
  },
  {
   "cell_type": "code",
   "execution_count": 2,
   "id": "09c049aa-65a3-4655-ae28-e6b64eeefd9e",
   "metadata": {},
   "outputs": [
    {
     "ename": "ModuleNotFoundError",
     "evalue": "No module named 'raw_pose_analysis_funs'",
     "output_type": "error",
     "traceback": [
      "\u001b[1;31m---------------------------------------------------------------------------\u001b[0m",
      "\u001b[1;31mModuleNotFoundError\u001b[0m                       Traceback (most recent call last)",
      "Cell \u001b[1;32mIn[2], line 5\u001b[0m\n\u001b[0;32m      3\u001b[0m \u001b[38;5;28;01mimport\u001b[39;00m \u001b[38;5;21;01mmatplotlib\u001b[39;00m\u001b[38;5;21;01m.\u001b[39;00m\u001b[38;5;21;01mpyplot\u001b[39;00m \u001b[38;5;28;01mas\u001b[39;00m \u001b[38;5;21;01mplt\u001b[39;00m \n\u001b[0;32m      4\u001b[0m \u001b[38;5;28;01mimport\u001b[39;00m \u001b[38;5;21;01mscipy\u001b[39;00m\u001b[38;5;21;01m.\u001b[39;00m\u001b[38;5;21;01msignal\u001b[39;00m \u001b[38;5;28;01mas\u001b[39;00m \u001b[38;5;21;01msig\u001b[39;00m \n\u001b[1;32m----> 5\u001b[0m \u001b[38;5;28;01mfrom\u001b[39;00m \u001b[38;5;21;01mraw_pose_analysis_funs\u001b[39;00m\u001b[38;5;21;01m.\u001b[39;00m\u001b[38;5;21;01mfilter_interpolate_funs\u001b[39;00m \u001b[38;5;28;01mimport\u001b[39;00m (interpolate_landmark_single_axis, \n\u001b[0;32m      6\u001b[0m filter_landmark_single_axis)\n\u001b[0;32m      7\u001b[0m \u001b[38;5;28;01mimport\u001b[39;00m \u001b[38;5;21;01mos\u001b[39;00m \n\u001b[0;32m     10\u001b[0m \u001b[38;5;66;03m# interpolate ankle markers Y axis data \u001b[39;00m\n",
      "\u001b[1;31mModuleNotFoundError\u001b[0m: No module named 'raw_pose_analysis_funs'"
     ]
    }
   ],
   "source": [
    "import pandas as pd \n",
    "import numpy as np\n",
    "import matplotlib.pyplot as plt \n",
    "import scipy.signal as sig \n",
    "#from raw_pose_analysis_funs.filter_interpolate_funs import (interpolate_landmark_single_axis, \n",
    "#filter_landmark_single_axis)\n",
    "import os \n",
    "\n",
    "\n",
    "# interpolate ankle markers Y axis data \n",
    "def stride_time_interp(mp_all_df,video_id_date_name, dir_out_prefix, max_gap, fps): \n",
    "    # KEEP THIS ORDER of landmark and pose THE SAME!! \n",
    "    # if change order of variables or for loop, need to update in later steps\n",
    "    stride_time_landmarks = ['right_ankle', 'left_ankle'] \n",
    "    stride_time_axes = ['Y_world', 'X_world']\n",
    "\n",
    "    # interpolate yolo and mp data \n",
    "    mp_stride_time_interp_dfs = []\n",
    "    dataset = 'mediapipe'\n",
    "    df = mp_all_df\n",
    "    \n",
    "    for landmark_i, current_landmark in enumerate(stride_time_landmarks): \n",
    "        for axis_i, current_axis in enumerate(stride_time_axes):\n",
    "            # interpolate \n",
    "            current_interp_dfs = interpolate_landmark_single_axis(df, # mediapipe or yolo data frame \n",
    "                                                                  current_landmark, # marker to interpolate \n",
    "                                                                  current_axis, # axis to interpolate\n",
    "                                                                  max_gap, # seconds, maximum gap to interpolate over\n",
    "                                                                  fps,\n",
    "                                                                  video_id_date_name,\n",
    "                                                                  dir_out_prefix,\n",
    "                                                                  mediapipe_or_yolo = dataset)\n",
    "            \n",
    "            # add interpolated data for both landmark to one list \n",
    "            mp_stride_time_interp_dfs = mp_stride_time_interp_dfs + [current_interp_dfs]\n",
    "\n",
    "    return(mp_stride_time_interp_dfs)"
   ]
  },
  {
   "cell_type": "code",
   "execution_count": 3,
   "id": "dfc882ab-77fe-4bb8-b3c4-12fe7a643fc4",
   "metadata": {},
   "outputs": [
    {
     "name": "stderr",
     "output_type": "stream",
     "text": [
      "[NbConvertApp] Converting notebook calculate_stride_width.ipynb to script\n",
      "[NbConvertApp] Writing 2483 bytes to calculate_stride_width.py\n"
     ]
    }
   ],
   "source": [
    "!jupyter nbconvert --to script calculate_stride_width.ipynb"
   ]
  }
 ],
 "metadata": {
  "kernelspec": {
   "display_name": "venv_home_video_analysis_2",
   "language": "python",
   "name": "venv_home_video_analysis_2"
  },
  "language_info": {
   "codemirror_mode": {
    "name": "ipython",
    "version": 3
   },
   "file_extension": ".py",
   "mimetype": "text/x-python",
   "name": "python",
   "nbconvert_exporter": "python",
   "pygments_lexer": "ipython3",
   "version": "3.10.11"
  }
 },
 "nbformat": 4,
 "nbformat_minor": 5
}
