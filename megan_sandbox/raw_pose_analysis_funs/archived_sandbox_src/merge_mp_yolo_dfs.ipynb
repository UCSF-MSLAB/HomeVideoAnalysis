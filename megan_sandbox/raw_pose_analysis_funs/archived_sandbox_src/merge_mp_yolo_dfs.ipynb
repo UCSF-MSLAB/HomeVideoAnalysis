{
 "cells": [
  {
   "cell_type": "code",
   "execution_count": 1,
   "id": "b751cead-92e4-47d7-a579-47e5cae5fe2b",
   "metadata": {},
   "outputs": [],
   "source": [
    "import pandas as pd \n",
    "import numpy as np \n",
    "import os "
   ]
  },
  {
   "cell_type": "code",
   "execution_count": 2,
   "id": "1f88fe22-461c-47c9-b3db-ba1ba4d9c92f",
   "metadata": {},
   "outputs": [],
   "source": [
    "# input \n",
    "# load mp, mp_world, and yolo .csv files for one video (from main branch, output of home video analysis run.py 8/29/2024)\n",
    "#mp_pose_filepath = r'..\\..\\temp\\main_branch_outputs\\000_run\\DS_HC_gait_vertical_left_mediapipe.csv'\n",
    "#mp_world_filepath = r'..\\..\\temp\\main_branch_outputs\\000_run\\DS_HC_gait_vertical_left_mediapipe_world.csv'\n",
    "#yolo_filepath = r'..\\..\\temp\\main_branch_outputs\\000_run\\DS_HC_gait_vertical_left_yolo.csv'\n",
    "\n",
    "# path to video \n",
    "#vid_in_path = r'..\\..\\tests\\fixtures\\all_videos\\DS_HC_practice videos\\DS_HC_gait_vertical_left.mov'\n",
    "\n",
    "# output folder \n",
    "#output_parent_folder = r'..\\..\\temp\\test_sandbox_pipeline_outputs'\n",
    "\n",
    "# read csv\n",
    "#mp_pose_df = pd.read_csv(mp_pose_filepath)\n",
    "#mp_world_df = pd.read_csv(mp_world_filepath)\n",
    "#yolo_df = pd.read_csv(yolo_filepath)\n",
    "    "
   ]
  },
  {
   "cell_type": "code",
   "execution_count": 3,
   "id": "a5d5757b-6621-4ed3-a56e-1999397adfe2",
   "metadata": {},
   "outputs": [],
   "source": [
    "# input = mp_pose, mp_world, and yolo df for one video  \n",
    "# output = one mediapipe df and one yolo df  \n",
    "def merge_mp_pose_world(mp_pose_df, mp_world_df, yolo_df):\n",
    "    \n",
    "    # rename mp columns \n",
    "    mp_pose_df = mp_pose_df.rename(columns = {\"X\" : \"X_pose\", \n",
    "                                              \"Y\" : \"Y_pose\", \n",
    "                                              \"Z\" : \"Z_pose\", \n",
    "                                              \"Unnamed: 0\" : \"label_num\"})\n",
    "\n",
    "    mp_world_df = mp_world_df.rename(columns = {\"X\" : \"X_world\", \n",
    "                                                 \"Y\" : \"Y_world\", \n",
    "                                                 \"Z\" : \"Z_world\", \n",
    "                                                 \"Unnamed: 0\" : \"label_num\"})\n",
    "\n",
    "    yolo_df = yolo_df.rename(columns = {\"Unnamed: 0\" : \"label_num\"})\n",
    "    \n",
    "\n",
    "    # merge mp world and pose (same vis, markers)\n",
    "    mp_all_df = mp_pose_df\n",
    "    mp_all_df['X_world'] = mp_world_df['X_world']\n",
    "    mp_all_df['Y_world'] = mp_world_df['Y_world']\n",
    "    mp_all_df['Z_world'] = mp_world_df['Z_world']\n",
    "    \n",
    "    # take negative of Y values - when Y is negative the \"stick figure\" plots right side up and is more intuitive for gait calculations   \n",
    "    #mp_all_df.loc[:,'Y_pose_negative'] = -mp_all_df['Y_pose']\n",
    "    #mp_all_df.loc[:,'Y_world_negative'] = -(mp_all_df['Y_world'])\n",
    "    #yolo_df.loc[:,'Y_negative'] = -(yolo_df['Y'])\n",
    "    \n",
    "    # if y = inf, y negative = inf; otherwise, y_negative = negative value of y at that row \n",
    "    mp_all_df['Y_pose_negative'] = mp_all_df['Y_pose'].apply(lambda y: y if y == np.inf else -y)\n",
    "    mp_all_df['Y_world_negative'] = mp_all_df['Y_world'].apply(lambda y: y if y == np.inf else -y)\n",
    "    yolo_df['Y_negative'] = yolo_df['Y'].apply(lambda y: y if y == np.inf else -y)\n",
    "\n",
    "    return([mp_all_df, yolo_df])"
   ]
  },
  {
   "cell_type": "code",
   "execution_count": 4,
   "id": "deb97341-e986-45b4-973d-f4b1a8abde3e",
   "metadata": {},
   "outputs": [],
   "source": [
    "# input = merged mp_pose and world df, one yolo df \n",
    "# output = merged mp_pose and world df, one yolo df; \n",
    "    # cleaned up columns with no markers tracked \n",
    "    # add column for yolo landmark visibility \n",
    "\n",
    "def clean_mp_yolo_missing_data(mp_all_df, yolo_df):\n",
    "    #\n",
    "\n",
    "    # mediapipe \n",
    "    # replace inf values in vis score with 0\n",
    "    mp_all_df['vis'] = mp_all_df['vis'].replace(np.inf, 0) \n",
    "    \n",
    "    # add column: any_markers_tracked? y/n \n",
    "        # if XYZ and vis = inf -> no\n",
    "        # use for interpolation \n",
    "    mp_all_df['any_markers_visible'] = np.where((mp_all_df[['X_pose', 'Y_pose', 'Z_pose']] == np.inf).all(axis=1), 'no', 'yes')\n",
    "\n",
    "    # replace nan values in label with \n",
    "    mp_all_df['label'] = mp_all_df['label'].fillna('no_labels_tracked')\n",
    "    \n",
    "    # yolo\n",
    "    # add landmark_visible column\n",
    "        # if X + Y == 0 -> landmark_visible = 0 (missing)\n",
    "        # else -> landmark_visible = 1 (present) \n",
    "    yolo_df['landmark_visible'] = np.where((yolo_df[['X', 'Y']] == 0).all(axis=1), 'no', 'yes')\n",
    "    \n",
    "    return([mp_all_df, yolo_df])"
   ]
  },
  {
   "cell_type": "code",
   "execution_count": 5,
   "id": "976a9440-44bb-42d2-98d8-d40360318f56",
   "metadata": {},
   "outputs": [],
   "source": [
    "# input = merged mp_pose and world df, one yolo df \n",
    "# output = merged mp_pose and world, one yolo df; both dfs with camera orientation and turn direction columns  \n",
    "def add_orientation_and_turn_direction(vid_in_path, mp_all_df, yolo_df):\n",
    "\n",
    "    vid_in_path_basename = os.path.basename(vid_in_path)\n",
    "    \n",
    "    # add camera orientation from file name \n",
    "    if 'horizon' in vid_in_path_basename:\n",
    "        mp_all_df['camera_orientation'] = 'horizontal'\n",
    "        yolo_df['camera_orientation'] = 'horizontal'\n",
    "    elif 'vert' in vid_in_path_basename: \n",
    "        mp_all_df['camera_orientation'] = 'vertical'\n",
    "        yolo_df['camera_orientation'] = 'vertical'\n",
    "    else: \n",
    "        mp_all_df['camera_orientation'] = 'UNK'\n",
    "        yolo_df['camera_orientation'] = 'UNK'\n",
    "\n",
    "    # add turn direction from file name \n",
    "    if 'left' in vid_in_path_basename:\n",
    "        mp_all_df['turn_direction'] = 'left'\n",
    "        yolo_df['turn_direction'] = 'left'\n",
    "    elif 'right' in vid_in_path_basename: \n",
    "        mp_all_df['turn_direction'] = 'right'\n",
    "        yolo_df['turn_direction'] = 'right'\n",
    "    else: \n",
    "        mp_all_df['turn_direction'] = 'UNK'\n",
    "        yolo_df['turn_direction'] = 'UNK'\n",
    "    \n",
    "    return([mp_all_df, yolo_df])"
   ]
  },
  {
   "cell_type": "code",
   "execution_count": 6,
   "id": "6adcab0e-e96f-406e-825b-727263d1fc86",
   "metadata": {},
   "outputs": [],
   "source": [
    "# save outputs \n",
    "def save_merge_mp_yolo_df(mp_all_df, yolo_df, vid_in_path, output_parent_folder):\n",
    "\n",
    "    output_folder = os.path.join(output_parent_folder, '001_merge_mp_yolo_dfs')\n",
    "    \n",
    "    if not os.path.exists(output_folder):\n",
    "        os.makedirs(output_folder)\n",
    "\n",
    "    vid_in_path_no_ext = os.path.splitext(os.path.basename(vid_in_path))[0]\n",
    "    \n",
    "    # save merged mp df as csv\n",
    "    output_file_name_1 = vid_in_path_no_ext + '_mediapipe_all.csv'\n",
    "    output_file_1 = os.path.normpath(os.path.join(output_folder, output_file_name_1))\n",
    "    mp_all_df.to_csv(output_file_1)\n",
    "    \n",
    "    # save yolo df as csv  \n",
    "    output_file_name_2 = vid_in_path_no_ext + '_yolo.csv'\n",
    "    output_file_2 = os.path.normpath(os.path.join(output_folder, output_file_name_2))\n",
    "    yolo_df.to_csv(output_file_2)"
   ]
  },
  {
   "cell_type": "code",
   "execution_count": 7,
   "id": "2515da62-db9f-4b35-816d-7a4620fd29c9",
   "metadata": {},
   "outputs": [],
   "source": [
    "#[mp_all_df, yolo_df] = merge_mp_pose_world(mp_pose_df, mp_world_df, yolo_df)\n",
    "#[mp_all_df, yolo_df] = add_orientation_and_turn_direction(vid_in_path, mp_all_df, yolo_df)\n",
    "#save_merge_mp_yolo_df(mp_all_df, yolo_df, vid_in_path, output_parent_folder)"
   ]
  },
  {
   "cell_type": "code",
   "execution_count": 8,
   "id": "a2bf8583-2c86-48b2-b747-c1bf723e2629",
   "metadata": {},
   "outputs": [
    {
     "name": "stderr",
     "output_type": "stream",
     "text": [
      "[NbConvertApp] Converting notebook merge_mp_yolo_dfs.ipynb to script\n",
      "[NbConvertApp] Writing 6137 bytes to merge_mp_yolo_dfs.py\n"
     ]
    }
   ],
   "source": [
    "## convert to .py file so functions can be used in other scripts \n",
    "!jupyter nbconvert --to script merge_mp_yolo_dfs.ipynb"
   ]
  }
 ],
 "metadata": {
  "kernelspec": {
   "display_name": "venv_home_video_analysis_2",
   "language": "python",
   "name": "venv_home_video_analysis_2"
  },
  "language_info": {
   "codemirror_mode": {
    "name": "ipython",
    "version": 3
   },
   "file_extension": ".py",
   "mimetype": "text/x-python",
   "name": "python",
   "nbconvert_exporter": "python",
   "pygments_lexer": "ipython3",
   "version": "3.10.11"
  }
 },
 "nbformat": 4,
 "nbformat_minor": 5
}
