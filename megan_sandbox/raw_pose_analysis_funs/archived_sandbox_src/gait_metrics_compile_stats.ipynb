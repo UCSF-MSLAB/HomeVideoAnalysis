{
 "cells": [
  {
   "cell_type": "code",
   "execution_count": null,
   "id": "38ed1a8c-cb47-47ce-9ea5-6408a856fcb8",
   "metadata": {},
   "outputs": [],
   "source": [
    "import pandas as pd \n",
    "import os \n",
    " \n",
    "def save_all_pose_metrics(id_date, vid_in_path, task, turn_df, cadence, stride_time_stats_df, stride_width_stats_df, support_metrics_df, output_parent_folder): \n",
    "\n",
    "    # video name \n",
    "    vid_in_path_no_ext = os.path.splitext(os.path.basename(vid_in_path))[0]\n",
    "    \n",
    "    # test saving summary data frame \n",
    "        # can extract more from existing data frame, just for ACTRIMS \n",
    "\n",
    "    all_metrics_df = pd.DataFrame(data = {'id_date' : [id_date],\n",
    "                                          'video_id_date_name' : [vid_in_path_no_ext], \n",
    "                                          'task' : [task],\n",
    "                                          'turn_time_mean_sec' : [turn_df['turn_time_seconds'].mean(skipna = True)], \n",
    "                                          'turn_time_median_sec' : [turn_df['turn_time_seconds'].median(skipna = True)],\n",
    "                                          'turn_time_sd' : [turn_df['turn_time_seconds'].std(skipna = True)],\n",
    "                                          'turn_time_cv' : [(turn_df['turn_time_seconds'].std(skipna = True) / turn_df['turn_time_seconds'].median(skipna = True)) * 100],\n",
    "                                          'cadence' : [cadence]\n",
    "                                         })\n",
    "\n",
    "    # pivot all stride time data to one row \n",
    "    stride_time_df_unstacked = stride_time_stats_df.unstack().to_frame().T \n",
    "    stride_time_df_unstacked.columns = [f'{col[0]}_{col[1]}' for col in stride_time_df_unstacked.columns] \n",
    "    stride_time_df_unstacked.columns = ['stride_time_' + col for col in stride_time_df_unstacked.columns] \n",
    "\n",
    "    # merge stats into one data frame \n",
    "    final_metrics_df = pd.concat([all_metrics_df, stride_time_df_unstacked, stride_width_stats_df, support_metrics_df], axis=1)\n",
    "    \n",
    "    # save . csv with metrics \n",
    "    output_folder = os.path.join(dir_out_prefix, '005_gait_metrics')\n",
    "    if not os.path.exists(output_folder):\n",
    "        os.makedirs(output_folder)\n",
    "\n",
    "    all_metrics_path = os.path.normpath(os.path.join(output_folder, (vid_in_path_no_ext + '_pose_metrics_all.csv')))\n",
    "    final_metrics_df.to_csv(output_parent_folder)\n",
    "\n",
    "    # add 'pose' to metric names??"
   ]
  },
  {
   "cell_type": "code",
   "execution_count": null,
   "id": "8b98dfdc-8997-4b53-80a1-e401062f57f1",
   "metadata": {},
   "outputs": [],
   "source": [
    "!jupyter nbconvert --to script gait_metrics_compile_stats.ipynb"
   ]
  }
 ],
 "metadata": {
  "kernelspec": {
   "display_name": "venv_home_video_analysis_2",
   "language": "python",
   "name": "venv_home_video_analysis_2"
  },
  "language_info": {
   "codemirror_mode": {
    "name": "ipython",
    "version": 3
   },
   "file_extension": ".py",
   "mimetype": "text/x-python",
   "name": "python",
   "nbconvert_exporter": "python",
   "pygments_lexer": "ipython3",
   "version": "3.10.11"
  }
 },
 "nbformat": 4,
 "nbformat_minor": 5
}
