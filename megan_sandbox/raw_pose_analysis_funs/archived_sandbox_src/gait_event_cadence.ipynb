{
 "cells": [
  {
   "cell_type": "code",
   "execution_count": 1,
   "id": "7f433b3a-b562-41af-8f57-8be99a635fa2",
   "metadata": {},
   "outputs": [],
   "source": [
    "import pandas as pd \n",
    "import numpy as np\n",
    "import matplotlib.pyplot as plt \n",
    "import os "
   ]
  },
  {
   "cell_type": "code",
   "execution_count": 2,
   "id": "83650241-c104-47a4-be68-f0ceb6e711c8",
   "metadata": {},
   "outputs": [],
   "source": [
    "# PKMAS - The number of footfalls minus one divided by the ambulation time, converted to minutes (steps/min). \n",
    "# Cadence is shown on the “Mean” row of the Gait Table\n",
    "\n",
    "def calculate_cadence(stride_times_peaks, stride_times_valleys, fps, mp_all_df, video_id_date_name, dir_out_prefix): \n",
    "    total_steps = len(stride_times_peaks) + len(stride_times_valleys) # peaks + valleys\n",
    "    video_length_sec = max(mp_all_df['frame']) / fps # video length \n",
    "    cadence = (total_steps/video_length_sec) * 60\n",
    "    return([total_steps, video_length_sec, cadence]) "
   ]
  },
  {
   "cell_type": "code",
   "execution_count": 3,
   "id": "37f2bb7e-2605-4c4c-958b-3229c6351227",
   "metadata": {},
   "outputs": [
    {
     "name": "stderr",
     "output_type": "stream",
     "text": [
      "[NbConvertApp] Converting notebook gait_event_cadence.ipynb to script\n",
      "[NbConvertApp] Writing 694 bytes to gait_event_cadence.py\n"
     ]
    }
   ],
   "source": [
    "!jupyter nbconvert --to script gait_event_cadence.ipynb"
   ]
  }
 ],
 "metadata": {
  "kernelspec": {
   "display_name": "venv_home_video_analysis_2",
   "language": "python",
   "name": "venv_home_video_analysis_2"
  },
  "language_info": {
   "codemirror_mode": {
    "name": "ipython",
    "version": 3
   },
   "file_extension": ".py",
   "mimetype": "text/x-python",
   "name": "python",
   "nbconvert_exporter": "python",
   "pygments_lexer": "ipython3",
   "version": "3.10.11"
  }
 },
 "nbformat": 4,
 "nbformat_minor": 5
}
