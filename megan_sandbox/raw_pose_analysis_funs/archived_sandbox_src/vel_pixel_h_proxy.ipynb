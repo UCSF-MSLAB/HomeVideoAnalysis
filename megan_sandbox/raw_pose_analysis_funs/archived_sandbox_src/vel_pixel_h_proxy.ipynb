{
 "cells": [
  {
   "cell_type": "code",
   "execution_count": 1,
   "id": "8bb6f5e3-eef4-4dbf-b603-22ebf80b87bb",
   "metadata": {},
   "outputs": [],
   "source": [
    "import pandas as pd \n",
    "import numpy as np \n",
    "import os \n",
    "import seaborn as sns \n",
    "import matplotlib.pyplot as plt\n",
    "import math\n",
    "import scipy.signal as sig"
   ]
  },
  {
   "cell_type": "code",
   "execution_count": 2,
   "id": "77aed497-2838-47d9-b217-2b47392a0f85",
   "metadata": {},
   "outputs": [],
   "source": [
    "## calculate change in hip Y position as a proxy for velocity in 2D vertical videos "
   ]
  },
  {
   "cell_type": "code",
   "execution_count": 3,
   "id": "db7ebb39-b828-4c00-bbee-3bd19c555723",
   "metadata": {},
   "outputs": [],
   "source": [
    "def calc_pix_size_change(start_frame, end_frame, df, fps): \n",
    "    start_row = df.loc[df['frame'] == start_frame]\n",
    "    end_row = df.loc[df['frame'] == end_frame]\n",
    "\n",
    "    # height in pixel at start and end of time group \n",
    "    pix_h_start = start_row['approx_height_Y_pix_smooth'].iloc[0]\n",
    "    pix_h_end = end_row['approx_height_Y_pix_smooth'].iloc[0]\n",
    "\n",
    "    # for consistency, only calculate when walking toward camera - height is getting bigger as walking toward \n",
    "    if pix_h_end > pix_h_start:\n",
    "        # change in pixel height relative to start\n",
    "        delta_pix_h_rel = delta_pix_h / pix_h_start\n",
    "    else: \n",
    "        delta_pix_h_rel = np.nan\n",
    "\n",
    "    return delta_pix_h_rel"
   ]
  },
  {
   "cell_type": "code",
   "execution_count": 4,
   "id": "419502b2-3eb7-4c3c-8a37-4f4a51a5ac93",
   "metadata": {},
   "outputs": [],
   "source": [
    "def calc_stride_time_proxy(yolo_df, video_id_date_name, dir_out_prefix, fps): \n",
    "\n",
    "    # left hip as proxy for \"height\" smooth left hip position \n",
    "    l_hip_yolo_df = yolo_df.loc[yolo_df['label'] == 'left_hip']\n",
    "    l_hip_yolo_df.set_index('frame', inplace=True)\n",
    "\n",
    "    l_hip_yolo_df = l_hip_yolo_df.copy()\n",
    "    l_hip_yolo_df.loc[:, 'approx_height_Y_pix'] = abs(l_eye_yolo_df['Y_yolo']) \n",
    "    l_hip_yolo_df.loc[:, 'approx_height_Y_pix_smooth'] = l_hip_yolo_df['approx_height_Y_pix'].rolling(window=25, min_periods = 1).mean()\n",
    "            \n",
    "    # drop X columns \n",
    "    height_df = l_hip_yolo_df.drop(columns = ['X_yolo'])\n",
    "    height_df.reset_index(inplace=True)\n",
    "\n",
    "    # add \"time_group\" label column, will use to group \n",
    "    height_df['time_group'] = height_df['frame'] / (fps)\n",
    "    height_df['time_group'] = height_df['time_group'].apply(math.floor)\n",
    "    \n",
    "    # identify peaks and valleys in pixel height (approximate turn locations) \n",
    "    peaks, _ = sig.find_peaks(height_df['approx_height_Y_pix_smooth'], distance = fps)\n",
    "    valleys, _ = sig.find_peaks(-height_df['approx_height_Y_pix_smooth'], distance = fps)\n",
    "    peak_frames = height_df.iloc[peaks]['frame']\n",
    "    valley_frames = height_df.iloc[valleys]['frame']\n",
    "    peaks_valleys = np.concatenate((peak_frames, valley_frames))\n",
    "\n",
    "    # plot height in pixels with time groups and peaks valleys \n",
    "    sns.scatterplot(x = 'frame', y = 'approx_height_Y_pix_smooth', data = height_df, label = 'approx_height_Y_pix_smooth')\n",
    "    plt.plot(height_df['frame'], height_df['approx_height_Y_pix_smooth'], label='Smoothed Height')\n",
    "    plt.scatter(peak_frames, height_df.iloc[peaks]['approx_height_Y_pix_smooth'], color='red', label='Peaks')\n",
    "    plt.scatter(valley_frames, height_df.iloc[valleys]['approx_height_Y_pix_smooth'], color='blue', label='Valleys')\n",
    "    for time_group in height_df['time_group'].unique():\n",
    "        plt.axvline(x = time_group * (fps), color = 'grey', alpha = 0.5)\n",
    "    \n",
    "    # plot output folders \n",
    "    #save outputs \n",
    "    output_folder = os.path.join(output_parent_folder, '005_gait_metrics', 'vel_pixel_proxy')\n",
    "    if not os.path.exists(output_folder):\n",
    "        os.makedirs(output_folder)\n",
    "\n",
    "    vid_in_path_no_ext = os.path.splitext(os.path.basename(vid_in_path))[0]\n",
    "\n",
    "    plt.title(vid_in_path + ' ' + name)\n",
    "    fig_path = os.path.join(output_folder, vid_in_path_no_ext + '_pix_height.png') \n",
    "    plt.savefig(fig_path) \n",
    "    plt.close()\n",
    "\n",
    "    # calculate depth proxy values and summarize \n",
    "    depth_proxies_all = []\n",
    "\n",
    "    for current_sec_group in height_df['time_group'].unique():\n",
    "        current_height_df = height_df.loc[height_df['time_group'] == current_sec_group]\n",
    "\n",
    "        current_start_frame = current_height_df['frame'].iloc[0]\n",
    "        current_end_frame = current_height_df['frame'].iloc[-1]\n",
    "\n",
    "        # if this current time_group group contains peak or valley, skip because likeley a turn \n",
    "        if current_height_df.loc[current_start_frame: current_end_frame, 'frame'].isin(peaks_valleys).any():\n",
    "            # print('Skipped - contains peak or valley') \n",
    "            delta_pix_h_rel = np.nan\n",
    "        else: \n",
    "            delta_pix_h_rel  = calc_pix_size_change(current_start_frame, current_end_frame, height_df, fps)\n",
    "                \n",
    "        # combine all time groups into one array \n",
    "        depth_proxies_all.append({'start_frame' : current_start_frame,\n",
    "                                  'delta_pix_h_rel' : delta_pix_h_rel})\n",
    "\n",
    "                             \n",
    "    # convert array to df \n",
    "    depth_proxies_all_df = pd.DataFrame(depth_proxies_all)\n",
    "    depth_proxies_all_df = depth_proxies_all_df.replace([np.inf, -np.inf], np.nan) # replace inf with nan\n",
    "    depth_proxies_all_df.to_csv(os.path.join(output_folder, vid_in_path_no_ext + '_pix_height.csv')) \n",
    "    \n",
    "    # calculate median relative change in pixels \n",
    "    delta_pix_h_rel_median = depth_proxies_all['delta_pix_h_rel'].median()\n",
    "\n",
    "    return(delta_pix_h_rel_median) "
   ]
  },
  {
   "cell_type": "code",
   "execution_count": 5,
   "id": "5dbb18f4-1858-4157-99a1-faa1f97c9917",
   "metadata": {},
   "outputs": [
    {
     "name": "stderr",
     "output_type": "stream",
     "text": [
      "[NbConvertApp] Converting notebook vel_pixel_h_proxy.ipynb to script\n",
      "[NbConvertApp] Writing 4998 bytes to vel_pixel_h_proxy.py\n"
     ]
    }
   ],
   "source": [
    "## convert to .py file so functions can be used in other scripts \n",
    "!jupyter nbconvert --to script vel_pixel_h_proxy.ipynb"
   ]
  }
 ],
 "metadata": {
  "kernelspec": {
   "display_name": "venv_home_video_analysis_2",
   "language": "python",
   "name": "venv_home_video_analysis_2"
  },
  "language_info": {
   "codemirror_mode": {
    "name": "ipython",
    "version": 3
   },
   "file_extension": ".py",
   "mimetype": "text/x-python",
   "name": "python",
   "nbconvert_exporter": "python",
   "pygments_lexer": "ipython3",
   "version": "3.10.11"
  }
 },
 "nbformat": 4,
 "nbformat_minor": 5
}
