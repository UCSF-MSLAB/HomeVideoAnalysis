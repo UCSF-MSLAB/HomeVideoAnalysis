{
 "cells": [
  {
   "cell_type": "code",
   "execution_count": 1,
   "id": "7900f451-094d-43ad-a39f-91fec576b24b",
   "metadata": {},
   "outputs": [
    {
     "ename": "ModuleNotFoundError",
     "evalue": "No module named 'raw_pose_analysis_funs'",
     "output_type": "error",
     "traceback": [
      "\u001b[1;31m---------------------------------------------------------------------------\u001b[0m",
      "\u001b[1;31mModuleNotFoundError\u001b[0m                       Traceback (most recent call last)",
      "Cell \u001b[1;32mIn[1], line 5\u001b[0m\n\u001b[0;32m      3\u001b[0m \u001b[38;5;28;01mimport\u001b[39;00m \u001b[38;5;21;01mmatplotlib\u001b[39;00m\u001b[38;5;21;01m.\u001b[39;00m\u001b[38;5;21;01mpyplot\u001b[39;00m \u001b[38;5;28;01mas\u001b[39;00m \u001b[38;5;21;01mplt\u001b[39;00m \n\u001b[0;32m      4\u001b[0m \u001b[38;5;28;01mimport\u001b[39;00m \u001b[38;5;21;01mscipy\u001b[39;00m\u001b[38;5;21;01m.\u001b[39;00m\u001b[38;5;21;01msignal\u001b[39;00m \u001b[38;5;28;01mas\u001b[39;00m \u001b[38;5;21;01msig\u001b[39;00m \n\u001b[1;32m----> 5\u001b[0m \u001b[38;5;28;01mfrom\u001b[39;00m \u001b[38;5;21;01mraw_pose_analysis_funs\u001b[39;00m\u001b[38;5;21;01m.\u001b[39;00m\u001b[38;5;21;01mfilter_interpolate_funs\u001b[39;00m \u001b[38;5;28;01mimport\u001b[39;00m (interpolate_landmark_single_axis, \n\u001b[0;32m      6\u001b[0m filter_landmark_single_axis)\n\u001b[0;32m      7\u001b[0m \u001b[38;5;28;01mimport\u001b[39;00m \u001b[38;5;21;01mos\u001b[39;00m \n",
      "\u001b[1;31mModuleNotFoundError\u001b[0m: No module named 'raw_pose_analysis_funs'"
     ]
    }
   ],
   "source": [
    "import pandas as pd \n",
    "import numpy as np\n",
    "import matplotlib.pyplot as plt \n",
    "import scipy.signal as sig \n",
    "from raw_pose_analysis_funs.filter_interpolate_funs import (interpolate_landmark_single_axis, \n",
    "filter_landmark_single_axis)\n",
    "import os "
   ]
  },
  {
   "cell_type": "code",
   "execution_count": null,
   "id": "d83a9128-53bc-42b5-9535-cd3a53923e12",
   "metadata": {},
   "outputs": [],
   "source": [
    "# interpolate ankle markers Y axis data \n",
    "def support_interp(yolo_df,video_id_date_name, dir_out_prefix, max_gap, fps): \n",
    "    # KEEP THIS ORDER of landmark and pose THE SAME!! \n",
    "    # if change order of variables or for loop, need to update in later steps\n",
    "    stride_time_landmarks = ['right_ankle', 'left_ankle'] \n",
    "    stride_time_axes = ['Y_yolo']\n",
    "\n",
    "    # interpolate yolo and mp data \n",
    "    yolo_support_interp_dfs = []\n",
    "    dataset = 'yolo'\n",
    "    df = yolo_df\n",
    "    \n",
    "    for landmark_i, current_landmark in enumerate(stride_time_landmarks): \n",
    "        for axis_i, current_axis in enumerate(stride_time_axes):\n",
    "            # interpolate \n",
    "            current_interp_dfs = interpolate_landmark_single_axis(df, # mediapipe or yolo data frame \n",
    "                                                                  current_landmark, # marker to interpolate \n",
    "                                                                  current_axis, # axis to interpolate\n",
    "                                                                  max_gap, # seconds, maximum gap to interpolate over\n",
    "                                                                  fps,\n",
    "                                                                  video_id_date_name,\n",
    "                                                                  dir_out_prefix,\n",
    "                                                                  mediapipe_or_yolo = dataset)\n",
    "            \n",
    "            # add interpolated data for both landmark to one list \n",
    "            yolo_support_interp_dfs = yolo_support_interp_dfs + [current_interp_dfs]\n",
    "\n",
    "    return(yolo_support_interp_dfs)"
   ]
  },
  {
   "cell_type": "code",
   "execution_count": null,
   "id": "54c1ab3a-9082-401b-a874-5094b7c99deb",
   "metadata": {},
   "outputs": [],
   "source": []
  },
  {
   "cell_type": "code",
   "execution_count": 2,
   "id": "ec8ff077-00e4-40ae-b321-3dbd45f11b72",
   "metadata": {},
   "outputs": [
    {
     "name": "stderr",
     "output_type": "stream",
     "text": [
      "[NbConvertApp] Converting notebook gait_metric_support.ipynb to script\n",
      "[NbConvertApp] Writing 2000 bytes to gait_metric_support.py\n"
     ]
    }
   ],
   "source": [
    "!jupyter nbconvert --to script gait_metric_support.ipynb"
   ]
  }
 ],
 "metadata": {
  "kernelspec": {
   "display_name": "venv_home_video_analysis_2",
   "language": "python",
   "name": "venv_home_video_analysis_2"
  },
  "language_info": {
   "codemirror_mode": {
    "name": "ipython",
    "version": 3
   },
   "file_extension": ".py",
   "mimetype": "text/x-python",
   "name": "python",
   "nbconvert_exporter": "python",
   "pygments_lexer": "ipython3",
   "version": "3.10.11"
  }
 },
 "nbformat": 4,
 "nbformat_minor": 5
}
