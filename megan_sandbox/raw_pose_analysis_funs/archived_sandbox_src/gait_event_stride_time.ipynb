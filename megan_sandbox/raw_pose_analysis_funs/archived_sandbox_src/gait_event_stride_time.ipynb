{
 "cells": [
  {
   "cell_type": "code",
   "execution_count": 1,
   "id": "eee2a63e-f41f-42f5-924d-f5456d9611b0",
   "metadata": {},
   "outputs": [],
   "source": [
    "# stride time script \n",
    "#Stenum et al: Frontal Videos - We identified events of left and right gait cycles by local maxima \n",
    "#and minima ofthe vertical distance between the left and right ankle keypoints. \n",
    "#Gait events on the left limb were detected at positive peaks and gait events on the right \n",
    "#limb were detected at nega- tive peaks in trials where the participants walked away from the \n",
    "#frontal plane camera; and vice versa in trials where the participants walked toward the camera. \n",
    "#In order to unify the nomenclature ofgait events across motion capture data and sagittal \n",
    "#and fron- tal plane video data, we refer to the gait events ofthe frontal plane analysis as heel- strikes."
   ]
  },
  {
   "cell_type": "code",
   "execution_count": 2,
   "id": "2c088f37-1191-4f84-9c25-39ffadf2aaf8",
   "metadata": {},
   "outputs": [],
   "source": [
    "import pandas as pd \n",
    "import numpy as np\n",
    "import matplotlib.pyplot as plt \n",
    "import scipy.signal as sig \n",
    "#from raw_pose_analysis_funs.filter_interpolate_funs import (interpolate_landmark_single_axis, \n",
    "#filter_landmark_single_axis)\n",
    "import os "
   ]
  },
  {
   "cell_type": "code",
   "execution_count": 3,
   "id": "51288a5b-2554-4185-9370-e9bbab9fbff5",
   "metadata": {},
   "outputs": [],
   "source": [
    "# interpolate ankle markers \n",
    "def stride_time_interp_filter(mp_all_df,video_id_date_name, dir_out_prefix, max_gap, fps, cutoff, order): \n",
    "    # KEEP THIS ORDER of landmark and pose THE SAME!! \n",
    "    # if change order of variables or for loop, need to update in later steps\n",
    "    stride_time_landmarks = ['right_ankle', 'left_ankle'] \n",
    "    stride_time_axes = ['Y_pose']\n",
    "\n",
    "    # interpolate yolo and mp data \n",
    "    mp_stride_time_interp_dfs = []\n",
    "    dataset = 'mediapipe'\n",
    "    df = mp_all_df\n",
    "    \n",
    "    for landmark_i, current_landmark in enumerate(stride_time_landmarks): \n",
    "        for axis_i, current_axis in enumerate(stride_time_axes): \n",
    "            # interpolate \n",
    "            current_interp_dfs = interpolate_landmark_single_axis(df, # mediapipe or yolo data frame \n",
    "                                                                  current_landmark, # marker to interpolate \n",
    "                                                                  current_axis, # axis to interpolate\n",
    "                                                                  max_gap, # seconds, maximum gap to interpolate over\n",
    "                                                                  fps,\n",
    "                                                                  video_id_date_name,\n",
    "                                                                  dir_out_prefix,\n",
    "                                                                  mediapipe_or_yolo = dataset)\n",
    "            \n",
    "            # add interpolated data for both landmark to one list \n",
    "            mp_stride_time_interp_dfs = mp_stride_time_interp_dfs + [current_interp_dfs]\n",
    "\n",
    "\n",
    "#def calculate_stride_time(\n",
    "          "
   ]
  },
  {
   "cell_type": "code",
   "execution_count": 5,
   "id": "362ddd96-c1a1-4bd3-b337-792c861995b2",
   "metadata": {},
   "outputs": [
    {
     "name": "stderr",
     "output_type": "stream",
     "text": [
      "[NbConvertApp] Converting notebook gait_event_stride_time.ipynb to script\n",
      "[NbConvertApp] Writing 2726 bytes to gait_event_stride_time.py\n"
     ]
    }
   ],
   "source": [
    "!jupyter nbconvert --to script gait_event_stride_time.ipynb"
   ]
  }
 ],
 "metadata": {
  "kernelspec": {
   "display_name": "venv_home_video_analysis_2",
   "language": "python",
   "name": "venv_home_video_analysis_2"
  },
  "language_info": {
   "codemirror_mode": {
    "name": "ipython",
    "version": 3
   },
   "file_extension": ".py",
   "mimetype": "text/x-python",
   "name": "python",
   "nbconvert_exporter": "python",
   "pygments_lexer": "ipython3",
   "version": "3.10.11"
  }
 },
 "nbformat": 4,
 "nbformat_minor": 5
}
